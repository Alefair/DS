{
 "cells": [
  {
   "cell_type": "code",
   "execution_count": 1,
   "id": "4f7b008c",
   "metadata": {},
   "outputs": [
    {
     "data": {
      "text/html": [
       "<!-- ***************************************************************************************************************-->\n",
       "<!-- Доверься мне :-) Нажми на кнопку \"Доверенный\". Спасибо!                                                        -->\n",
       "<!-- ***************************************************************************************************************-->\n",
       "<style>\n",
       "    <style> \n",
       "    \n",
       "    :root {\n",
       "      --green-color: #02b241;\n",
       "    }\n",
       "    \n",
       "    @import url('https://fonts.cdnfonts.com/css/gilroy-bold');\n",
       "    \n",
       "    #toc-wrapper {\n",
       "    background-color: #FFFFFF;\n",
       "        min-width: 250px !important;\n",
       "        max-width: 300px !important;\n",
       "    }\n",
       "    \n",
       "    .cell.text_cell:has(.css_block),\n",
       "    .cell.text_cell:has(.function_block),\n",
       "    .cell.code_cell:has(.css_block),\n",
       "    .cell.code_cell:has(.function_block),\n",
       "    .cell.code_cell:has(.hide) .input,\n",
       "    .cell.code_cell:has(.hide) .prompt\n",
       "    {\n",
       "        display:none;\n",
       "    }\n",
       "    \n",
       "    .cell.code_cell.rendered:has(.color_code_content) .output_subarea p code {\n",
       "        background: rgba(66, 165, 245, 0.2);\n",
       "        padding: 20px;\n",
       "        display: inline-block;\n",
       "    }\n",
       "    \n",
       "    .cell.text_cell.rendered:has(.color_code_content.columns) .inner_cell code {\n",
       "        background-color: #afaa81;\n",
       "        width: 150px;\n",
       "        display: inline-flex;\n",
       "        border-bottom: 1px solid #666 !important;\n",
       "        margin-bottom: 5px;\n",
       "        box-shadow: 1px 1px 2px 1px #ccc;\n",
       "        border-radius: 4px;\n",
       "        padding: 2px 5px;\n",
       "    }\n",
       "    \n",
       "    .cell.code_cell.rendered:has(.border_center.color_code_block) .input_area {\n",
       "        all: inherit;\n",
       "    }\n",
       "    \n",
       "    .paragraph_comment {\n",
       "        display: block !important;\n",
       "        border: 4px #03a9f4;\n",
       "        color: #4caf50;\n",
       "        border-style: dashed;\n",
       "        padding: 20px;\n",
       "    }\n",
       "    \n",
       "    #project_logo\n",
       "    {\n",
       "        height: 150px;\n",
       "    }\n",
       "    \n",
       "    #logo_bg\n",
       "    {\n",
       "        text-align: right;\n",
       "        color: white;\n",
       "        font-family: monospace;\n",
       "        height: 100px;\n",
       "        background: \n",
       "            repeating-linear-gradient(\n",
       "                248deg, \n",
       "                rgba(0 , 188 , 212 , 0.24), \n",
       "                rgba(255 , 0 , 0 , 0), \n",
       "                rgba(0 , 188 , 212 , 0.5) 5px\n",
       "            ), \n",
       "            repeating-linear-gradient(\n",
       "                180deg, \n",
       "                #9e9e9e, \n",
       "                rgba(0 , 255 , 0 , 0) 70.71%\n",
       "            ), \n",
       "            repeating-linear-gradient(\n",
       "                0deg, \n",
       "                #607d8b, \n",
       "                rgba(0 , 0 , 255 , 0) 70.71%\n",
       "            );\n",
       "    }\n",
       "    \n",
       "    #logo_text \n",
       "    {\n",
       "        font-size: 100px; \n",
       "        font-weight: bold; \n",
       "        font-family: monospace; \n",
       "        color: #607d8b; \n",
       "        line-height: 100px; \n",
       "        text-shadow: 10px 0 0 rgba(255 , 255 , 255 , 0.45), \n",
       "            -2px 0 0 #fff, \n",
       "            0 1px 0 #fff, \n",
       "            0 -1px 0 #fff, \n",
       "            1px 1px #fff, \n",
       "            -1px -1px 0 #fff, \n",
       "            1px -1px 0 #fff,\n",
       "            -1px 1px 0 #fff, \n",
       "            10px 19px 4px; \n",
       "        opacity: 0.8; \n",
       "        text-align: center;\n",
       "    }\n",
       "    \n",
       "    #project_author\n",
       "    {\n",
       "        width: 160px;\n",
       "        height: 30px;\n",
       "        line-height: 10px;\n",
       "        display: inline-block;\n",
       "        background-color: #ff5722;\n",
       "        padding: 10px;\n",
       "        border-radius: 0px 0px 20px 20px;\n",
       "        text-align: center;\n",
       "        box-shadow: 3px 2px 3px 2px #ccc;\n",
       "        margin: 0;\n",
       "        margin-right: 40px;\n",
       "    }\n",
       "    \n",
       "    \n",
       "    \n",
       "\n",
       "\n",
       "    /*---stickers-----*/\n",
       "    \n",
       "    .cell.code_cell.rendered.unselected:has(.sticker) .inner_cell {\n",
       "        display: block;\n",
       "    }\n",
       "    \n",
       "    .cell.code_cell.rendered.unselected:has(.sticker) .input_area {\n",
       "        width: 400px;\n",
       "        height: 400px;\n",
       "        overflow-x: auto;\n",
       "        display: inline-block;\n",
       "        text-align: left;\n",
       "        padding: 20px;\n",
       "        box-shadow: 5px 5px 7px rgba(33, 33, 33, 0.5);\n",
       "        z-index: 2;\n",
       "        position: relative;\n",
       "    }\n",
       "    \n",
       "    .cell.code_cell.rendered.unselected:has(.sticker) .inner_cell:after {\n",
       "        content: ' ';\n",
       "        position: absolute;\n",
       "        width: 400px;\n",
       "        height: 400px;\n",
       "        display: inline-block;\n",
       "        box-shadow: 5px 5px 7px rgba(33, 33, 33, 0.5);\n",
       "        z-index: 1;\n",
       "    }\n",
       "    \n",
       "\n",
       "    .cell.code_cell.rendered.unselected:has(.sticker.sticker_left) {\n",
       "        text-align: left;\n",
       "        /*margin-top: -340px;*/\n",
       "    }\n",
       "    \n",
       "\n",
       "    .cell.code_cell.rendered.unselected:has(.sticker.sticker_left) .input_area {\n",
       "        transform: rotate(-4deg);\n",
       "        margin-left: 50px;\n",
       "        margin-bottom: 20px;\n",
       "    }\n",
       "\n",
       "    .cell.code_cell.rendered.unselected:has(.sticker.sticker_left) .inner_cell:after {\n",
       "        background: #a1dcf4;\n",
       "        transform: rotate(-10deg);\n",
       "        top: 0px;\n",
       "        left: 45px;\n",
       "    }\n",
       "\n",
       "\n",
       "    .cell.code_cell.rendered.unselected:has(.sticker.sticker_right) {\n",
       "        text-align: right;\n",
       "        /*margin-top: -340px;*/\n",
       "    }\n",
       "\n",
       "    .cell.code_cell.rendered.unselected:has(.sticker.sticker_right) .input_area {\n",
       "        transform: rotate(4deg);\n",
       "        margin-right: 80px;\n",
       "        margin-bottom: 20px;\n",
       "    }\n",
       "    \n",
       "\n",
       "    .cell.code_cell.rendered.unselected:has(.sticker.sticker_right) .inner_cell:after {\n",
       "        background: #cdffcc;\n",
       "        transform: rotate(-10deg);\n",
       "        top: 0px;\n",
       "        right: 78px;\n",
       "    }\n",
       "\n",
       "\n",
       "    .cell.code_cell.rendered.unselected:has(.sticker.sticker_purple) .input_area,\n",
       "    .cell.code_cell.rendered:has(.border_center.color_code_block) .output_area:has(.sticker_purple)\n",
       "    {\n",
       "        background: #ccccfe;\n",
       "    }\n",
       "    \n",
       "    .cell.code_cell.rendered.unselected:has(.sticker.sticker_yellow) .input_area,\n",
       "    .cell.code_cell.rendered:has(.border_center.color_code_block) .output_area:has(.sticker_yellow) \n",
       "    {\n",
       "        background: #ffffce;\n",
       "    }\n",
       "    \n",
       "    .cell.code_cell.rendered.unselected:has(.sticker.sticker_green) .input_area,\n",
       "    .cell.code_cell.rendered:has(.border_center.color_code_block) .output_area:has(.sticker_green) \n",
       "    {\n",
       "        background: #cdffcc;\n",
       "    }\n",
       "    \n",
       "    .cell.code_cell.rendered.unselected:has(.sticker.sticker_blue) .input_area,\n",
       "    .cell.code_cell.rendered:has(.border_center.color_code_block) .output_area:has(.sticker_blue) \n",
       "    {\n",
       "        background: #a1dcf4;\n",
       "    }\n",
       "    \n",
       "    .cell.code_cell.rendered.unselected:has(.sticker) .CodeMirror-hscrollbar {\n",
       "        overflow: hidden;\n",
       "    }\n",
       "\n",
       "    .cell.code_cell.rendered.unselected:has(.sticker) .CodeMirror-vscrollbar {\n",
       "        overflow: hidden;\n",
       "    }\n",
       "    \n",
       "    .cell.code_cell.rendered.unselected:has(.sticker) .CodeMirror-code {\n",
       "        font-size: 14px;\n",
       "        font-family: 'gilroy-regular';\n",
       "    }\n",
       "\n",
       "    .cell.code_cell.rendered.selected:has(.sticker) .input_area {\n",
       "        transform: rotate(0deg);\n",
       "    }\n",
       "    \n",
       "\n",
       "    .cell.code_cell:has(.custom_scroll) .input_area::-webkit-scrollbar\n",
       "    {\n",
       "      width: 6px;\n",
       "    }\n",
       "    \n",
       "    .cell.code_cell:has(.custom_scroll) .CodeMirror-hscrollbar::-webkit-scrollbar\n",
       "    {\n",
       "      height: 6px;\n",
       "    }\n",
       "\n",
       "    .cell.code_cell:has(.custom_scroll) .input_area::-webkit-scrollbar-track,\n",
       "    .cell.code_cell:has(.custom_scroll) .input_area .CodeMirror-hscrollbar::-webkit-scrollbar-track {\n",
       "      background-color: transparent;\n",
       "    }\n",
       "    \n",
       "    .cell.code_cell:has(.custom_scroll) .input_area:hover::-webkit-scrollbar-track,\n",
       "    .cell.code_cell:has(.custom_scroll) .input_area:hover .CodeMirror-hscrollbar::-webkit-scrollbar-track {\n",
       "      background-color: rgba(0,0,0,0.05);\n",
       "    }\n",
       "    \n",
       "    .cell.code_cell:has(.custom_scroll) .input_area::-webkit-scrollbar-thumb,\n",
       "    .cell.code_cell:has(.custom_scroll) .input_area .CodeMirror-hscrollbar::-webkit-scrollbar-thumb {\n",
       "      background-color: rgba(0,0,0,0);\n",
       "      border-radius: 20px;\n",
       "      background-clip: content-box;\n",
       "    }\n",
       "\n",
       "    .cell.code_cell:has(.custom_scroll) .input_area:hover::-webkit-scrollbar-thumb,\n",
       "    .cell.code_cell:has(.custom_scroll) .input_area:hover .CodeMirror-hscrollbar::-webkit-scrollbar-thumb {\n",
       "      background-color: rgba(0,0,0,0.3);\n",
       "    }\n",
       "\n",
       "    .cell.code_cell.rendered:has(.border_center.color_code_block) .output_area:has(.sticker_code) li {\n",
       "        white-space: break-spaces;\n",
       "    }\n",
       "    \n",
       "    .cell.code_cell.rendered:has(.border_center.color_code_block) .output_area:has(.sticker_code) {\n",
       "        margin: 45px;\n",
       "        padding: 10px;\n",
       "        box-shadow: 5px 5px 7px rgb(33 33 33 / 50%);\n",
       "        display: inline-block;\n",
       "    }\n",
       "    \n",
       "    .cell.code_cell.rendered:has(.border_center.color_code_block) .output_area:has(.sticker_code.sticker_left) {\n",
       "        transform: rotate(352deg);\n",
       "    }\n",
       "\n",
       "    .cell.code_cell.rendered:has(.border_center.color_code_block) .output_area:has(.sticker_code.sticker_right) {\n",
       "        transform: rotate(-352deg);\n",
       "    }\n",
       "\n",
       "    .cell.code_cell.rendered:has(.border_center.color_code_block) .output_area:has(.sticker_code.sticker_center) {\n",
       "        transform: rotate(0deg);\n",
       "        vertical-align: top;\n",
       "    }\n",
       "    \n",
       "    /*---END stickers-----*/\n",
       "    \n",
       "    \n",
       "    /*---CODE RENDER---*/\n",
       "\n",
       "    .cell.code_cell.rendered:has(.border_center.color_code_block) .output:has(.flex) {\n",
       "        display: block;\n",
       "        text-align: center;\n",
       "    }\n",
       "\n",
       "    .cell.code_cell.rendered:has(.border_center.color_code_block) .output:has(.flex) .output_area {\n",
       "        display: inline-flex !important;\n",
       "        margin: 5px;\n",
       "    }\n",
       "\n",
       "    .cell.code_cell.rendered:has(.border_center.color_code_block) .output:has(.flex) .output_area:has(.paragraph_txt) {\n",
       "        display: block !important;\n",
       "        margin-top: 20px;\n",
       "        margin-bottom: 20px;\n",
       "    }\n",
       "\n",
       "    .cell.code_cell.rendered:has(.border_center.color_code_block) .output {\n",
       "        display: block;\n",
       "        padding: 0px;\n",
       "    }\n",
       "\n",
       "    /*---END CODE RENDER---*/\n",
       "    \n",
       "    \n",
       "    .content.body strong {\n",
       "        display: block;\n",
       "        line-height: 2px;\n",
       "    }\n",
       "    \n",
       "    .content.body {\n",
       "        box-shadow: inset 1px 1px 6px 1px #3c3c3c9e;\n",
       "        border: 1px solid #0000007a;\n",
       "        background: linear-gradient(92deg, rgba(1, 4, 15,0.8), rgba(51, 147, 210,0.8));\n",
       "        color: white !important;\n",
       "        border-radius: 30px;\n",
       "        padding: 13px;\n",
       "    }\n",
       "    \n",
       "    .content.block {\n",
       "        background: repeating-linear-gradient(45deg, rgb(54, 61, 84), rgb(52, 58, 86) 10px, #607d8b 10px, #2196f3 11px);\n",
       "        padding: 20px;\n",
       "        border-radius: 40px;\n",
       "    }\n",
       "                                              \n",
       "                                              \n",
       "    .description li {\n",
       "        padding: 8px;\n",
       "    }\n",
       "    \n",
       "    .description li p {\n",
       "        color: darkred;\n",
       "        font-weight: bold;\n",
       "    }                                          \n",
       "       \n",
       "                                              \n",
       "    .content.text p {\n",
       "        line-height: 8px;\n",
       "    }\n",
       "    \n",
       "    .content.display {\n",
       "        background: rgba(255, 255, 255, 0.7);\n",
       "        color: #3a405d !important;\n",
       "        padding: 10px;\n",
       "        border-radius: 0px 0px 10px 10px !important;\n",
       "        /*border: 1px solid rgba(33, 150, 243, 0.2);\n",
       "        border-top: none;\n",
       "        box-shadow: none !important;\n",
       "        margin-top: -15px;*/\n",
       "    }\n",
       "    \n",
       "    \n",
       "    .content.display.size {\n",
       "        font-size: 18px !important;\n",
       "        margin: 0;\n",
       "        padding: 20px;\n",
       "    }\n",
       "    \n",
       "                                              \n",
       "    .symbols {\n",
       "        font-style: italic;\n",
       "        font-size: 30px;\n",
       "        font-family: serif;\n",
       "    }\n",
       "                                              \n",
       "    span.vector:before {\n",
       "        content: attr(title);\n",
       "        position: absolute;\n",
       "        margin-top: -8px;\n",
       "        font-size: 20px;\n",
       "        transform: scaleX(2.5);\n",
       "        transform-origin: 0 0;\n",
       "    }\n",
       "    \n",
       "    \n",
       "    p.info {\n",
       "        padding: 17px;\n",
       "        border: 1px solid #ccc;\n",
       "        font-size: 20px;\n",
       "        margin: 0px;\n",
       "        margin-bottom: 10px;\n",
       "    }\n",
       "                                              \n",
       "    p.info:before {\n",
       "        content: '\\2713';\n",
       "        font-size: 22px;\n",
       "        padding: 5px;\n",
       "        border-radius: 15px;\n",
       "        background: var(--green-color);\n",
       "        color: white;\n",
       "        height: 30px;\n",
       "        width: 30px;\n",
       "        display: inline-block;\n",
       "        position: relative;\n",
       "        left: -8px;\n",
       "        top: -4px;\n",
       "    }                                          \n",
       "    \n",
       "    p.green_info {\n",
       "        border: 1px solid var(--green-color) !important;\n",
       "    }\n",
       "    \n",
       "                                              \n",
       "    /*----MAIN------*/\n",
       "                                              \n",
       "    h1, h2, h3 {\n",
       "        /* background: repeating-linear-gradient(248deg , #ffffff , rgb(96 125 139 / 50%) , rgb(255 255 255 / 50%) 5px); */\n",
       "        padding: 10px;\n",
       "        color: #afaa81;\n",
       "        font-family: 'Gilroy-Regular', sans-serif;\n",
       "    }\n",
       "    \n",
       "    .text_cell_render:has(h2) h2:before {\n",
       "        height: 130px;\n",
       "        width: 50px;\n",
       "        /*background: url(https://raw.githubusercontent.com/Alefair/Temp/master/ya_hotel/bow.png) no-repeat;*/\n",
       "        transform: rotate(45deg);\n",
       "        display: block;\n",
       "        content: ' ';\n",
       "        position: absolute;\n",
       "        margin-left: -52px;\n",
       "        margin-top: -60px;\n",
       "    }\n",
       "\n",
       "    .main_cover h2 {\n",
       "        display: inline-block;\n",
       "        margin: 55px !important;\n",
       "    }\n",
       "\n",
       "    div.ow_fl {\n",
       "        overflow: auto;\n",
       "    }\n",
       "    \n",
       "    div.ow_fl p {\n",
       "        display:flex;\n",
       "    }\n",
       "    \n",
       "    .rendered_html :link {\n",
       "        text-decoration: none;\n",
       "    }\n",
       "        \n",
       "    a:hover, a:focus {\n",
       "        color: #1a466c;\n",
       "        text-decoration: underline !important;\n",
       "    }\n",
       "    \n",
       "    #notebook-container {\n",
       "        /*width: 1700px;*/\n",
       "    }\n",
       "    \n",
       "    #notebook-container .cell:nth-child(1) {\n",
       "        /*display: none;*/\n",
       "    }\n",
       "    \n",
       "    #notebook-container .cell:nth-child(2) {\n",
       "        /*display: none;*/\n",
       "    }\n",
       "    \n",
       "    table {float: left;}\n",
       "    table td, table th, table tr {\n",
       "        text-align:left !important;\n",
       "    }\n",
       "    \n",
       "    .menu_table thead,\n",
       "    .menu_table tbody,\n",
       "    .menu_table tr\n",
       "    {\n",
       "        border: none !important;\n",
       "        background: none !important;\n",
       "        cursor: default;\n",
       "    }\n",
       "    \n",
       "    .menu_table thead {\n",
       "        display: none;\n",
       "    }\n",
       "    \n",
       "    .clearfix {\n",
       "        clear: both;\n",
       "    }\n",
       "    \n",
       "    \n",
       "    /*----BLOCKS-------------*/\n",
       "    \n",
       "    .rendered_html em del \n",
       "    {\n",
       "        text-decoration: none;\n",
       "        border: 1px solid gray;\n",
       "        border-radius: 10px;\n",
       "        padding: 2px;\n",
       "        background: bisque;\n",
       "        box-shadow: 1px 1px 3px grey;\n",
       "        font-style: italic;\n",
       "        font-weight: bold;\n",
       "        color: brown;\n",
       "        line-height: 30px;\n",
       "    }\n",
       "    \n",
       "    .rendered_html del {\n",
       "        text-decoration: none !important;\n",
       "    }\n",
       "    \n",
       "    \n",
       "    .rendered_html strong em,\n",
       "    .rendered_html em strong \n",
       "    {\n",
       "        \n",
       "        display: block;\n",
       "        border-radius: 5px;\n",
       "        padding: 15px;\n",
       "        font-style: normal !important;\n",
       "        text-decoration: none;\n",
       "    }\n",
       "    \n",
       "    .rendered_html strong em\n",
       "    {\n",
       "        background: rgba(66, 165, 245, 0.2);\n",
       "        color: rgba(0, 0, 0, 0.8);\n",
       "        font-weight: normal;\n",
       "    }\n",
       "    \n",
       "    .rendered_html em strong\n",
       "    {\n",
       "        background: rgba(232, 245, 233, 1);\n",
       "        color: rgba(0, 0, 0, 0.8);\n",
       "        font-weight: normal;\n",
       "    }\n",
       "\n",
       "    .rendered_html strong em code,\n",
       "    .rendered_html em strong code\n",
       "    {\n",
       "        background: white;\n",
       "        border-radius: 4px;\n",
       "        padding: 2px !important;\n",
       "    }    \n",
       "\n",
       "\n",
       "    /*-----TABLE---------*/\n",
       "    \n",
       "    .table_border {\n",
       "        border-radius: 10px;\n",
       "        border: 1px solid #ccc !important;\n",
       "        margin: 5px;\n",
       "        margin-top: 40px !important;\n",
       "        padding: 5px;\n",
       "        display: inline-block;\n",
       "        cursor: default;\n",
       "        box-shadow: 5px 4px 5px 1px rgba(0, 0, 0, 0.07);\n",
       "    }\n",
       "    \n",
       "    .table_border:before, \n",
       "    p.value:before \n",
       "    {\n",
       "        content: attr(data-title);\n",
       "        position: absolute;\n",
       "        display: block;\n",
       "        margin-block: auto;\n",
       "        margin-top: -25px;\n",
       "        /*color: rgb(0 0 0 / 30%);*/\n",
       "        color: #4caf50;\n",
       "        font-size: 10px;\n",
       "    }\n",
       "\n",
       "    p:before \n",
       "    {\n",
       "        margin-top: -15px !important;\n",
       "    }\n",
       "    \n",
       "    p.value \n",
       "    {\n",
       "        /*padding-top: 40px;*/\n",
       "    }\n",
       "    \n",
       "    .table_border thead, \n",
       "    .table_border thead tr, \n",
       "    .table_border thead th {\n",
       "        color: #03a9f4;\n",
       "        vertical-align: middle;\n",
       "    }\n",
       "    \n",
       "\n",
       "    .table_border thead tr\n",
       "    {\n",
       "        background: rgba(66, 165, 245, 0.2) !important;\n",
       "        border-bottom: 1px solid #b2ebf2 !important;\n",
       "        padding: 1px;\n",
       "    }\n",
       "    \n",
       "    .table_border tbody td:hover\n",
       "    {\n",
       "        font-weight: bold;\n",
       "        color: #03a9f4;\n",
       "    }\n",
       "\n",
       "    .table_border thead tr:first-child th:first-child {\n",
       "        border-radius: 10px 0px 0px 0px;\n",
       "    }\n",
       "\n",
       "    .table_border thead tr:first-child th:last-child {\n",
       "        border-radius: 0px 10px 0px 0px;\n",
       "    }\n",
       "    \n",
       "    .table_border tbody tr:last-child:hover\n",
       "    {\n",
       "        border-radius: 0px 0px 10px 10px;\n",
       "        padding: 0px;\n",
       "    }\n",
       "    \n",
       "    .table_border tbody tr:last-child:hover th,\n",
       "    .table_border tbody tr:last-child:hover td {\n",
       "        background: antiquewhite !important;\n",
       "    }\n",
       "\n",
       "    .table_border tbody tr:hover,\n",
       "    .table_border tbody tr:hover th,\n",
       "    .table_border tbody tr:hover td,\n",
       "    .table_border tbody tr:hover > th,\n",
       "    .table_border tbody td.active\n",
       "    {\n",
       "        background: rgba(66, 165, 245, 0.2) !important;\n",
       "    }\n",
       "    \n",
       "    .table_border tbody tr:last-child:hover th,\n",
       "    .table_border tbody tr:last-child:hover td:first-child {\n",
       "        border-radius: 0px 0px 0px 10px;\n",
       "        display: table-cell;\n",
       "    }\n",
       "    \n",
       "    .table_border tbody tr:last-child:hover td:last-child {\n",
       "        border-radius: 0px 0px 10px 0px;\n",
       "        display: table-cell;\n",
       "    }\n",
       "    \n",
       "    .table_border tbody tr,\n",
       "    .table_border tbody th,\n",
       "    .table_border tbody td\n",
       "    {\n",
       "        background: white;\n",
       "    }\n",
       "    \n",
       "    .table_border tbody td {\n",
       "        min-width: 120px;\n",
       "    }\n",
       "    \n",
       "    .table_border tbody tr .row_heading {\n",
       "        color: rgba(0,0,0,0.2)\n",
       "    }\n",
       "    \n",
       "    .table_border td.table_border_td_nan {\n",
       "        font-weight: bold;\n",
       "        text-transform: capitalize;\n",
       "        color: red;\n",
       "    }\n",
       "\n",
       "    .table_border tbody tr:hover .row_heading {\n",
       "        color: #1565c0;\n",
       "    }\n",
       "    \n",
       "    /*\n",
       "    ++++++++++++++++++++++\n",
       "    .table_border {\n",
       "        border-radius: 13px;\n",
       "        border: 1px solid #ccc !important;\n",
       "        margin: 5px;\n",
       "        padding: 5px;\n",
       "        display: inline-block;\n",
       "        cursor: default;\n",
       "        box-shadow: 5px 4px 5px 1px rgba(0, 0, 0, 0.07);\n",
       "    }\n",
       "    \n",
       "    .table_border table, \n",
       "    {\n",
       "        border-collapse: separate;\n",
       "    }\n",
       "    \n",
       "    .table_border thead,\n",
       "    .table_border thead tr,\n",
       "    .table_border thead th\n",
       "    {\n",
       "        text-align: center !important;\n",
       "        color: #03a9f4;\n",
       "    }\n",
       "    \n",
       "    \n",
       "    .table_border thead th\n",
       "    {\n",
       "        border-right: 1px solid;\n",
       "    }\n",
       "    \n",
       "    .table_border thead th:last-child\n",
       "    {\n",
       "        border-right: none;\n",
       "    }\n",
       "    \n",
       "    .table_border thead\n",
       "    {\n",
       "        display: table-caption;\n",
       "        border: none !important;\n",
       "    }\n",
       "    \n",
       "    .table_border tbody\n",
       "    {\n",
       "        border: none !important;\n",
       "        display: table-cell;\n",
       "    }\n",
       "    \n",
       "    ++++++++++++++++++++++\n",
       "    .table_border thead tr\n",
       "    {\n",
       "        background: rgba(66, 165, 245, 0.2) !important;\n",
       "        border-bottom: 1px solid #b2ebf2 !important;\n",
       "        display: table-row;\n",
       "        padding: 1px;\n",
       "    }\n",
       "    \n",
       "    ++++++++++++++++++++++\n",
       "    .table_border thead tr:first-child th:first-child {\n",
       "        display: table-cell;\n",
       "        border-radius: 10px 0px 0px 0px;\n",
       "    }\n",
       "    ++++++++++++++++++++++\n",
       "    .table_border thead tr:first-child th:last-child {\n",
       "        display: table-cell;\n",
       "        border-radius: 0px 10px 0px 0px;\n",
       "    }\n",
       "    \n",
       "    .table_border thead th\n",
       "    {\n",
       "        word-break: inherit;            \n",
       "    }\n",
       "\n",
       "    .table_border th, .table_border tbody td {\n",
       "        width: 110px;\n",
       "        word-break: break-word;\n",
       "    }\n",
       "    \n",
       "    .table_border tbody tr\n",
       "    {\n",
       "        background: none !important;\n",
       "    }\n",
       "    \n",
       "    ++++++++++++++++++++++\n",
       "    .table_border tbody tr:hover,\n",
       "    .table_border tbody td.active\n",
       "    {\n",
       "        background: rgba(66, 165, 245, 0.2) !important;\n",
       "    }\n",
       "    \n",
       "    ++++++++++++++++++++++\n",
       "    .table_border tbody td:hover\n",
       "    {\n",
       "        font-weight: bold;\n",
       "        color: #03a9f4;\n",
       "    }\n",
       "    \n",
       "    .table_border tbody tr:last-child:hover\n",
       "    {\n",
       "        border-radius: 0px 0px 10px 10px;\n",
       "        display: block;\n",
       "        padding: 0px;\n",
       "        background: antiquewhite !important;\n",
       "    }\n",
       "    \n",
       "    /*.table_border th, \n",
       "    .table_border td\n",
       "    {\n",
       "        width: 250px !important;\n",
       "        word-break: break-word;\n",
       "    }*/\n",
       "    \n",
       "    \n",
       "    .sea_war th,\n",
       "    .sea_war td\n",
       "    {\n",
       "        width: 26px !important;\n",
       "    }\n",
       "    \n",
       "    .sea_war tbody th,\n",
       "    .sea_war tbody td\n",
       "    {\n",
       "        border: 1px solid rgba(0,0,0,0.1);\n",
       "    }\n",
       "    \n",
       "    .sea_war tbody th\n",
       "    {\n",
       "        color: rgba(0,0,0,0.5);\n",
       "        text-align: center !important;\n",
       "    }\n",
       "    \n",
       "    /*---------------Borders------------------------*/\n",
       "    \n",
       "    /* border_horizont  */\n",
       "    .border_horizont tbody th, \n",
       "    .border_horizont tbody td\n",
       "    {\n",
       "        border-bottom: 1px solid rgba(0,0,0,0.04);\n",
       "    }\n",
       "    \n",
       "    .border_horizont tbody tr:last-child th, \n",
       "    .border_horizont tbody tr:last-child td\n",
       "    {\n",
       "        border-bottom: none;\n",
       "    }\n",
       "    \n",
       "    /* border_vertical  */\n",
       "    .border_vertical tbody th, \n",
       "    .border_vertical tbody td\n",
       "    {\n",
       "        border-right: 1px solid rgba(0,0,0,0.04);\n",
       "    }\n",
       "     \n",
       "    .border_vertical tbody td:last-child\n",
       "    {\n",
       "        border-right: none;\n",
       "    }\n",
       "    \n",
       "    /* border_display  */\n",
       "    .border_display tbody th, \n",
       "    .border_display tbody td\n",
       "    {\n",
       "        border: 1px solid rgba(0,0,0,0.04);\n",
       "    }\n",
       "    .border_display tbody th,\n",
       "    .border_display tbody td\n",
       "    {\n",
       "        border-left: none;\n",
       "        border-top: none;\n",
       "    }\n",
       "    .border_display tbody td:last-child\n",
       "    {\n",
       "       border-right: none; \n",
       "    }\n",
       "    .border_display tbody tr:last-child th,\n",
       "    .border_display tbody tr:last-child td \n",
       "    {\n",
       "        border-bottom: none;\n",
       "    }\n",
       "    \n",
       "    \n",
       "    /* positions  */\n",
       "    \n",
       "    .position_left thead th,\n",
       "    .position_left tbody td {\n",
       "        text-align: left !important;\n",
       "    }\n",
       "    \n",
       "    .position_center thead th,\n",
       "    .position_center tbody td {\n",
       "        text-align: center !important;\n",
       "    }\n",
       "\n",
       "    .position_right thead th,\n",
       "    .position_right tbody td {\n",
       "        text-align: right !important;\n",
       "    }\n",
       "    \n",
       "    .position_left_header thead th {\n",
       "        text-align: left !important;\n",
       "    }\n",
       "    \n",
       "    .position_center_header thead th {\n",
       "        text-align: center !important;\n",
       "    }\n",
       "    .position_right_header thead th {\n",
       "        text-align: right !important;\n",
       "    }\n",
       "    \n",
       "    /*---------------Code------------------------*/\n",
       "    /*.rendered_html p code,\n",
       "    .rendered_html ul code,\n",
       "    .rendered_html pre code[class*=\"custom\"]\n",
       "    {\n",
       "        background-color: #d9edfd;\n",
       "        color: #4c4c4c;\n",
       "        font-size: 16px !important;\n",
       "        border-radius: 10px;\n",
       "        font-weight: bold;\n",
       "        border: 1px solid #ccc !important;\n",
       "        padding: 5px !important;\n",
       "        line-height: 19px !important;\n",
       "        display: inline-block;\n",
       "        margin: 5px 0px -2px 0px;\n",
       "        word-break: break-word;\n",
       "    }*/\n",
       "    \n",
       "    .rendered_html code span[class*=\"-bold\"]\n",
       "    {\n",
       "        font-weight: bold;\n",
       "    }\n",
       "    \n",
       "    .rendered_html code span[class*=\"-italic\"]\n",
       "    {\n",
       "        font-style: italic;\n",
       "    }\n",
       "    \n",
       "    .rendered_html code span[class*=\"-marker\"]\n",
       "    {\n",
       "        background: #ffeb3b8c;\n",
       "        font-weight: bold;\n",
       "        border: 1px solid #9e9e9e;\n",
       "        box-shadow: 1px 1px 5px 0px #00000045;\n",
       "        border-radius: 4px;\n",
       "        padding: 2px;\n",
       "        opacity: 0.8;\n",
       "        line-height: 30px;\n",
       "    }\n",
       "\n",
       "    .rendered_html code[class*=\"error\"] {\n",
       "        color: red !important;\n",
       "        background-color: rgba(244, 67, 54, 0.1) !important;\n",
       "        font-weight: normal !important;\n",
       "    }\n",
       "    \n",
       "    .rendered_html code[class*=\"warning\"] {\n",
       "        color: #ff9800 !important;\n",
       "        background-color: rgba(244, 243, 54, 0.1) !important;\n",
       "        font-weight: normal !important;\n",
       "    }\n",
       "\n",
       "    .rendered_html code[class*=\"info\"] {\n",
       "        color: green !important;\n",
       "        background-color: rgb(54, 244, 91, 0.1) !important;\n",
       "        font-weight: normal !important;\n",
       "    }\n",
       "    \n",
       "    .rendered_html code[class*=\"word\"] {\n",
       "        color: #00bcd4 !important;\n",
       "        background-color: rgba(54, 195, 244, 0.1) !important;\n",
       "        font-weight: normal !important;\n",
       "    }\n",
       "    \n",
       "    /*---------------Imgs------------------------*/\n",
       "    .rendered_html img\n",
       "    {\n",
       "        border-radius: 16px;\n",
       "        border: 1px solid rgb(0 0 0 / 25%);\n",
       "        box-shadow: 5px 6px 8px 1px hsl(0deg 0% 0% / 25%);\n",
       "        padding: 4px;\n",
       "        margin-bottom: 10px;\n",
       "        max-width: 65em;\n",
       "    }\n",
       "    \n",
       "    #ipython_notebook:after {\n",
       "        content: '@alefair кодит';\n",
       "        position: relative;\n",
       "        color: #2196f3;\n",
       "        bottom: 7px;\n",
       "        right: -35px;\n",
       "    }\n",
       "                                                 \n",
       "   .total .banner {\n",
       "        background: repeating-linear-gradient(45deg, rgb(54, 61, 84), rgb(52, 58, 86) 10px, #607d8b 10px, #2196f3 11px);\n",
       "        height: 40px;\n",
       "        border: 4px solid rgb(39, 251, 171, 0.22);\n",
       "   }\n",
       "                                                 \n",
       "   .total .description {\n",
       "        border: 1px solid #999;\n",
       "        border-top: none;\n",
       "        padding: 20px;\n",
       "        font-family: monospace;\n",
       "   }\n",
       "                                                 \n",
       "   .total .description h3,\n",
       "   .total .description h4                                              \n",
       "   {\n",
       "        font-weight: bold;\n",
       "        font-size: 16px;\n",
       "        color: #999;\n",
       "        margin-bottom: 10px;\n",
       "   }\n",
       "                                                 \n",
       "   .total .description .content {\n",
       "        color: #333;\n",
       "        font-size: 13px;\n",
       "        border-radius: 10px;\n",
       "        overflow: hidden;\n",
       "        box-shadow: 1px 1px 3px 2px rgba(0, 0, 0, 0.3);\n",
       "   }\n",
       "                                                 \n",
       "    .ribbon {\n",
       "        text-align: center;\n",
       "        display: block;\n",
       "        width: 150px;\n",
       "        height: 40px;\n",
       "        background: #ff5722;\n",
       "        color: white;\n",
       "        font-family: monospace;\n",
       "        padding-top: 10px;\n",
       "    }\n",
       "    .ribbon:after {\n",
       "        content: \"\";\n",
       "        display: block;\n",
       "        position: relative;\n",
       "        top: 10px;\n",
       "        width: 0px;\n",
       "        height: 0;\n",
       "        border-width: 10px 75px 50px 75px;\n",
       "        border-style: solid;\n",
       "        border-color: #ff5722 #d00202 transparent #d00202;\n",
       "    }\n",
       "                                                 \n",
       "    mark em {\n",
       "        font-style: normal !important;\n",
       "        font-weight: bold;\n",
       "        color: #708;\n",
       "        font-size: 16px;\n",
       "        box-shadow: 3px 3px 3px 1px #ccc;\n",
       "    }\n",
       "</style>\n",
       "<div class=\"css_block\"></div>\n"
      ],
      "text/plain": [
       "<IPython.core.display.HTML object>"
      ]
     },
     "metadata": {},
     "output_type": "display_data"
    }
   ],
   "source": [
    "%%HTML\n",
    "<!-- ***************************************************************************************************************-->\n",
    "<!-- Доверься мне :-) Нажми на кнопку \"Доверенный\". Спасибо!                                                        -->\n",
    "<!-- ***************************************************************************************************************-->\n",
    "<style>\n",
    "    <style> \n",
    "    \n",
    "    :root {\n",
    "      --green-color: #02b241;\n",
    "    }\n",
    "    \n",
    "    @import url('https://fonts.cdnfonts.com/css/gilroy-bold');\n",
    "    \n",
    "    #toc-wrapper {\n",
    "    background-color: #FFFFFF;\n",
    "        min-width: 250px !important;\n",
    "        max-width: 300px !important;\n",
    "    }\n",
    "    \n",
    "    .cell.text_cell:has(.css_block),\n",
    "    .cell.text_cell:has(.function_block),\n",
    "    .cell.code_cell:has(.css_block),\n",
    "    .cell.code_cell:has(.function_block),\n",
    "    .cell.code_cell:has(.hide) .input,\n",
    "    .cell.code_cell:has(.hide) .prompt\n",
    "    {\n",
    "        display:none;\n",
    "    }\n",
    "    \n",
    "    .cell.code_cell.rendered:has(.color_code_content) .output_subarea p code {\n",
    "        background: rgba(66, 165, 245, 0.2);\n",
    "        padding: 20px;\n",
    "        display: inline-block;\n",
    "    }\n",
    "    \n",
    "    .cell.text_cell.rendered:has(.color_code_content.columns) .inner_cell code {\n",
    "        background-color: #afaa81;\n",
    "        width: 150px;\n",
    "        display: inline-flex;\n",
    "        border-bottom: 1px solid #666 !important;\n",
    "        margin-bottom: 5px;\n",
    "        box-shadow: 1px 1px 2px 1px #ccc;\n",
    "        border-radius: 4px;\n",
    "        padding: 2px 5px;\n",
    "    }\n",
    "    \n",
    "    .cell.code_cell.rendered:has(.border_center.color_code_block) .input_area {\n",
    "        all: inherit;\n",
    "    }\n",
    "    \n",
    "    .paragraph_comment {\n",
    "        display: block !important;\n",
    "        border: 4px #03a9f4;\n",
    "        color: #4caf50;\n",
    "        border-style: dashed;\n",
    "        padding: 20px;\n",
    "    }\n",
    "    \n",
    "    #project_logo\n",
    "    {\n",
    "        height: 150px;\n",
    "    }\n",
    "    \n",
    "    #logo_bg\n",
    "    {\n",
    "        text-align: right;\n",
    "        color: white;\n",
    "        font-family: monospace;\n",
    "        height: 100px;\n",
    "        background: \n",
    "            repeating-linear-gradient(\n",
    "                248deg, \n",
    "                rgba(0 , 188 , 212 , 0.24), \n",
    "                rgba(255 , 0 , 0 , 0), \n",
    "                rgba(0 , 188 , 212 , 0.5) 5px\n",
    "            ), \n",
    "            repeating-linear-gradient(\n",
    "                180deg, \n",
    "                #9e9e9e, \n",
    "                rgba(0 , 255 , 0 , 0) 70.71%\n",
    "            ), \n",
    "            repeating-linear-gradient(\n",
    "                0deg, \n",
    "                #607d8b, \n",
    "                rgba(0 , 0 , 255 , 0) 70.71%\n",
    "            );\n",
    "    }\n",
    "    \n",
    "    #logo_text \n",
    "    {\n",
    "        font-size: 100px; \n",
    "        font-weight: bold; \n",
    "        font-family: monospace; \n",
    "        color: #607d8b; \n",
    "        line-height: 100px; \n",
    "        text-shadow: 10px 0 0 rgba(255 , 255 , 255 , 0.45), \n",
    "            -2px 0 0 #fff, \n",
    "            0 1px 0 #fff, \n",
    "            0 -1px 0 #fff, \n",
    "            1px 1px #fff, \n",
    "            -1px -1px 0 #fff, \n",
    "            1px -1px 0 #fff,\n",
    "            -1px 1px 0 #fff, \n",
    "            10px 19px 4px; \n",
    "        opacity: 0.8; \n",
    "        text-align: center;\n",
    "    }\n",
    "    \n",
    "    #project_author\n",
    "    {\n",
    "        width: 160px;\n",
    "        height: 30px;\n",
    "        line-height: 10px;\n",
    "        display: inline-block;\n",
    "        background-color: #ff5722;\n",
    "        padding: 10px;\n",
    "        border-radius: 0px 0px 20px 20px;\n",
    "        text-align: center;\n",
    "        box-shadow: 3px 2px 3px 2px #ccc;\n",
    "        margin: 0;\n",
    "        margin-right: 40px;\n",
    "    }\n",
    "    \n",
    "    \n",
    "    \n",
    "\n",
    "\n",
    "    /*---stickers-----*/\n",
    "    \n",
    "    .cell.code_cell.rendered.unselected:has(.sticker) .inner_cell {\n",
    "        display: block;\n",
    "    }\n",
    "    \n",
    "    .cell.code_cell.rendered.unselected:has(.sticker) .input_area {\n",
    "        width: 400px;\n",
    "        height: 400px;\n",
    "        overflow-x: auto;\n",
    "        display: inline-block;\n",
    "        text-align: left;\n",
    "        padding: 20px;\n",
    "        box-shadow: 5px 5px 7px rgba(33, 33, 33, 0.5);\n",
    "        z-index: 2;\n",
    "        position: relative;\n",
    "    }\n",
    "    \n",
    "    .cell.code_cell.rendered.unselected:has(.sticker) .inner_cell:after {\n",
    "        content: ' ';\n",
    "        position: absolute;\n",
    "        width: 400px;\n",
    "        height: 400px;\n",
    "        display: inline-block;\n",
    "        box-shadow: 5px 5px 7px rgba(33, 33, 33, 0.5);\n",
    "        z-index: 1;\n",
    "    }\n",
    "    \n",
    "\n",
    "    .cell.code_cell.rendered.unselected:has(.sticker.sticker_left) {\n",
    "        text-align: left;\n",
    "        /*margin-top: -340px;*/\n",
    "    }\n",
    "    \n",
    "\n",
    "    .cell.code_cell.rendered.unselected:has(.sticker.sticker_left) .input_area {\n",
    "        transform: rotate(-4deg);\n",
    "        margin-left: 50px;\n",
    "        margin-bottom: 20px;\n",
    "    }\n",
    "\n",
    "    .cell.code_cell.rendered.unselected:has(.sticker.sticker_left) .inner_cell:after {\n",
    "        background: #a1dcf4;\n",
    "        transform: rotate(-10deg);\n",
    "        top: 0px;\n",
    "        left: 45px;\n",
    "    }\n",
    "\n",
    "\n",
    "    .cell.code_cell.rendered.unselected:has(.sticker.sticker_right) {\n",
    "        text-align: right;\n",
    "        /*margin-top: -340px;*/\n",
    "    }\n",
    "\n",
    "    .cell.code_cell.rendered.unselected:has(.sticker.sticker_right) .input_area {\n",
    "        transform: rotate(4deg);\n",
    "        margin-right: 80px;\n",
    "        margin-bottom: 20px;\n",
    "    }\n",
    "    \n",
    "\n",
    "    .cell.code_cell.rendered.unselected:has(.sticker.sticker_right) .inner_cell:after {\n",
    "        background: #cdffcc;\n",
    "        transform: rotate(-10deg);\n",
    "        top: 0px;\n",
    "        right: 78px;\n",
    "    }\n",
    "\n",
    "\n",
    "    .cell.code_cell.rendered.unselected:has(.sticker.sticker_purple) .input_area,\n",
    "    .cell.code_cell.rendered:has(.border_center.color_code_block) .output_area:has(.sticker_purple)\n",
    "    {\n",
    "        background: #ccccfe;\n",
    "    }\n",
    "    \n",
    "    .cell.code_cell.rendered.unselected:has(.sticker.sticker_yellow) .input_area,\n",
    "    .cell.code_cell.rendered:has(.border_center.color_code_block) .output_area:has(.sticker_yellow) \n",
    "    {\n",
    "        background: #ffffce;\n",
    "    }\n",
    "    \n",
    "    .cell.code_cell.rendered.unselected:has(.sticker.sticker_green) .input_area,\n",
    "    .cell.code_cell.rendered:has(.border_center.color_code_block) .output_area:has(.sticker_green) \n",
    "    {\n",
    "        background: #cdffcc;\n",
    "    }\n",
    "    \n",
    "    .cell.code_cell.rendered.unselected:has(.sticker.sticker_blue) .input_area,\n",
    "    .cell.code_cell.rendered:has(.border_center.color_code_block) .output_area:has(.sticker_blue) \n",
    "    {\n",
    "        background: #a1dcf4;\n",
    "    }\n",
    "    \n",
    "    .cell.code_cell.rendered.unselected:has(.sticker) .CodeMirror-hscrollbar {\n",
    "        overflow: hidden;\n",
    "    }\n",
    "\n",
    "    .cell.code_cell.rendered.unselected:has(.sticker) .CodeMirror-vscrollbar {\n",
    "        overflow: hidden;\n",
    "    }\n",
    "    \n",
    "    .cell.code_cell.rendered.unselected:has(.sticker) .CodeMirror-code {\n",
    "        font-size: 14px;\n",
    "        font-family: 'gilroy-regular';\n",
    "    }\n",
    "\n",
    "    .cell.code_cell.rendered.selected:has(.sticker) .input_area {\n",
    "        transform: rotate(0deg);\n",
    "    }\n",
    "    \n",
    "\n",
    "    .cell.code_cell:has(.custom_scroll) .input_area::-webkit-scrollbar\n",
    "    {\n",
    "      width: 6px;\n",
    "    }\n",
    "    \n",
    "    .cell.code_cell:has(.custom_scroll) .CodeMirror-hscrollbar::-webkit-scrollbar\n",
    "    {\n",
    "      height: 6px;\n",
    "    }\n",
    "\n",
    "    .cell.code_cell:has(.custom_scroll) .input_area::-webkit-scrollbar-track,\n",
    "    .cell.code_cell:has(.custom_scroll) .input_area .CodeMirror-hscrollbar::-webkit-scrollbar-track {\n",
    "      background-color: transparent;\n",
    "    }\n",
    "    \n",
    "    .cell.code_cell:has(.custom_scroll) .input_area:hover::-webkit-scrollbar-track,\n",
    "    .cell.code_cell:has(.custom_scroll) .input_area:hover .CodeMirror-hscrollbar::-webkit-scrollbar-track {\n",
    "      background-color: rgba(0,0,0,0.05);\n",
    "    }\n",
    "    \n",
    "    .cell.code_cell:has(.custom_scroll) .input_area::-webkit-scrollbar-thumb,\n",
    "    .cell.code_cell:has(.custom_scroll) .input_area .CodeMirror-hscrollbar::-webkit-scrollbar-thumb {\n",
    "      background-color: rgba(0,0,0,0);\n",
    "      border-radius: 20px;\n",
    "      background-clip: content-box;\n",
    "    }\n",
    "\n",
    "    .cell.code_cell:has(.custom_scroll) .input_area:hover::-webkit-scrollbar-thumb,\n",
    "    .cell.code_cell:has(.custom_scroll) .input_area:hover .CodeMirror-hscrollbar::-webkit-scrollbar-thumb {\n",
    "      background-color: rgba(0,0,0,0.3);\n",
    "    }\n",
    "\n",
    "    .cell.code_cell.rendered:has(.border_center.color_code_block) .output_area:has(.sticker_code) li {\n",
    "        white-space: break-spaces;\n",
    "    }\n",
    "    \n",
    "    .cell.code_cell.rendered:has(.border_center.color_code_block) .output_area:has(.sticker_code) {\n",
    "        margin: 45px;\n",
    "        padding: 10px;\n",
    "        box-shadow: 5px 5px 7px rgb(33 33 33 / 50%);\n",
    "        display: inline-block;\n",
    "    }\n",
    "    \n",
    "    .cell.code_cell.rendered:has(.border_center.color_code_block) .output_area:has(.sticker_code.sticker_left) {\n",
    "        transform: rotate(352deg);\n",
    "    }\n",
    "\n",
    "    .cell.code_cell.rendered:has(.border_center.color_code_block) .output_area:has(.sticker_code.sticker_right) {\n",
    "        transform: rotate(-352deg);\n",
    "    }\n",
    "\n",
    "    .cell.code_cell.rendered:has(.border_center.color_code_block) .output_area:has(.sticker_code.sticker_center) {\n",
    "        transform: rotate(0deg);\n",
    "        vertical-align: top;\n",
    "    }\n",
    "    \n",
    "    /*---END stickers-----*/\n",
    "    \n",
    "    \n",
    "    /*---CODE RENDER---*/\n",
    "\n",
    "    .cell.code_cell.rendered:has(.border_center.color_code_block) .output:has(.flex) {\n",
    "        display: block;\n",
    "        text-align: center;\n",
    "    }\n",
    "\n",
    "    .cell.code_cell.rendered:has(.border_center.color_code_block) .output:has(.flex) .output_area {\n",
    "        display: inline-flex !important;\n",
    "        margin: 5px;\n",
    "    }\n",
    "\n",
    "    .cell.code_cell.rendered:has(.border_center.color_code_block) .output:has(.flex) .output_area:has(.paragraph_txt) {\n",
    "        display: block !important;\n",
    "        margin-top: 20px;\n",
    "        margin-bottom: 20px;\n",
    "    }\n",
    "\n",
    "    .cell.code_cell.rendered:has(.border_center.color_code_block) .output {\n",
    "        display: block;\n",
    "        padding: 0px;\n",
    "    }\n",
    "\n",
    "    /*---END CODE RENDER---*/\n",
    "    \n",
    "    \n",
    "    .content.body strong {\n",
    "        display: block;\n",
    "        line-height: 2px;\n",
    "    }\n",
    "    \n",
    "    .content.body {\n",
    "        box-shadow: inset 1px 1px 6px 1px #3c3c3c9e;\n",
    "        border: 1px solid #0000007a;\n",
    "        background: linear-gradient(92deg, rgba(1, 4, 15,0.8), rgba(51, 147, 210,0.8));\n",
    "        color: white !important;\n",
    "        border-radius: 30px;\n",
    "        padding: 13px;\n",
    "    }\n",
    "    \n",
    "    .content.block {\n",
    "        background: repeating-linear-gradient(45deg, rgb(54, 61, 84), rgb(52, 58, 86) 10px, #607d8b 10px, #2196f3 11px);\n",
    "        padding: 20px;\n",
    "        border-radius: 40px;\n",
    "    }\n",
    "                                              \n",
    "                                              \n",
    "    .description li {\n",
    "        padding: 8px;\n",
    "    }\n",
    "    \n",
    "    .description li p {\n",
    "        color: darkred;\n",
    "        font-weight: bold;\n",
    "    }                                          \n",
    "       \n",
    "                                              \n",
    "    .content.text p {\n",
    "        line-height: 8px;\n",
    "    }\n",
    "    \n",
    "    .content.display {\n",
    "        background: rgba(255, 255, 255, 0.7);\n",
    "        color: #3a405d !important;\n",
    "        padding: 10px;\n",
    "        border-radius: 0px 0px 10px 10px !important;\n",
    "        /*border: 1px solid rgba(33, 150, 243, 0.2);\n",
    "        border-top: none;\n",
    "        box-shadow: none !important;\n",
    "        margin-top: -15px;*/\n",
    "    }\n",
    "    \n",
    "    \n",
    "    .content.display.size {\n",
    "        font-size: 18px !important;\n",
    "        margin: 0;\n",
    "        padding: 20px;\n",
    "    }\n",
    "    \n",
    "                                              \n",
    "    .symbols {\n",
    "        font-style: italic;\n",
    "        font-size: 30px;\n",
    "        font-family: serif;\n",
    "    }\n",
    "                                              \n",
    "    span.vector:before {\n",
    "        content: attr(title);\n",
    "        position: absolute;\n",
    "        margin-top: -8px;\n",
    "        font-size: 20px;\n",
    "        transform: scaleX(2.5);\n",
    "        transform-origin: 0 0;\n",
    "    }\n",
    "    \n",
    "    \n",
    "    p.info {\n",
    "        padding: 17px;\n",
    "        border: 1px solid #ccc;\n",
    "        font-size: 20px;\n",
    "        margin: 0px;\n",
    "        margin-bottom: 10px;\n",
    "    }\n",
    "                                              \n",
    "    p.info:before {\n",
    "        content: '\\2713';\n",
    "        font-size: 22px;\n",
    "        padding: 5px;\n",
    "        border-radius: 15px;\n",
    "        background: var(--green-color);\n",
    "        color: white;\n",
    "        height: 30px;\n",
    "        width: 30px;\n",
    "        display: inline-block;\n",
    "        position: relative;\n",
    "        left: -8px;\n",
    "        top: -4px;\n",
    "    }                                          \n",
    "    \n",
    "    p.green_info {\n",
    "        border: 1px solid var(--green-color) !important;\n",
    "    }\n",
    "    \n",
    "                                              \n",
    "    /*----MAIN------*/\n",
    "                                              \n",
    "    h1, h2, h3 {\n",
    "        /* background: repeating-linear-gradient(248deg , #ffffff , rgb(96 125 139 / 50%) , rgb(255 255 255 / 50%) 5px); */\n",
    "        padding: 10px;\n",
    "        color: #afaa81;\n",
    "        font-family: 'Gilroy-Regular', sans-serif;\n",
    "    }\n",
    "    \n",
    "    .text_cell_render:has(h2) h2:before {\n",
    "        height: 130px;\n",
    "        width: 50px;\n",
    "        /*background: url(https://raw.githubusercontent.com/Alefair/Temp/master/ya_hotel/bow.png) no-repeat;*/\n",
    "        transform: rotate(45deg);\n",
    "        display: block;\n",
    "        content: ' ';\n",
    "        position: absolute;\n",
    "        margin-left: -52px;\n",
    "        margin-top: -60px;\n",
    "    }\n",
    "\n",
    "    .main_cover h2 {\n",
    "        display: inline-block;\n",
    "        margin: 55px !important;\n",
    "    }\n",
    "\n",
    "    div.ow_fl {\n",
    "        overflow: auto;\n",
    "    }\n",
    "    \n",
    "    div.ow_fl p {\n",
    "        display:flex;\n",
    "    }\n",
    "    \n",
    "    .rendered_html :link {\n",
    "        text-decoration: none;\n",
    "    }\n",
    "        \n",
    "    a:hover, a:focus {\n",
    "        color: #1a466c;\n",
    "        text-decoration: underline !important;\n",
    "    }\n",
    "    \n",
    "    #notebook-container {\n",
    "        /*width: 1700px;*/\n",
    "    }\n",
    "    \n",
    "    #notebook-container .cell:nth-child(1) {\n",
    "        /*display: none;*/\n",
    "    }\n",
    "    \n",
    "    #notebook-container .cell:nth-child(2) {\n",
    "        /*display: none;*/\n",
    "    }\n",
    "    \n",
    "    table {float: left;}\n",
    "    table td, table th, table tr {\n",
    "        text-align:left !important;\n",
    "    }\n",
    "    \n",
    "    .menu_table thead,\n",
    "    .menu_table tbody,\n",
    "    .menu_table tr\n",
    "    {\n",
    "        border: none !important;\n",
    "        background: none !important;\n",
    "        cursor: default;\n",
    "    }\n",
    "    \n",
    "    .menu_table thead {\n",
    "        display: none;\n",
    "    }\n",
    "    \n",
    "    .clearfix {\n",
    "        clear: both;\n",
    "    }\n",
    "    \n",
    "    \n",
    "    /*----BLOCKS-------------*/\n",
    "    \n",
    "    .rendered_html em del \n",
    "    {\n",
    "        text-decoration: none;\n",
    "        border: 1px solid gray;\n",
    "        border-radius: 10px;\n",
    "        padding: 2px;\n",
    "        background: bisque;\n",
    "        box-shadow: 1px 1px 3px grey;\n",
    "        font-style: italic;\n",
    "        font-weight: bold;\n",
    "        color: brown;\n",
    "        line-height: 30px;\n",
    "    }\n",
    "    \n",
    "    .rendered_html del {\n",
    "        text-decoration: none !important;\n",
    "    }\n",
    "    \n",
    "    \n",
    "    .rendered_html strong em,\n",
    "    .rendered_html em strong \n",
    "    {\n",
    "        \n",
    "        display: block;\n",
    "        border-radius: 5px;\n",
    "        padding: 15px;\n",
    "        font-style: normal !important;\n",
    "        text-decoration: none;\n",
    "    }\n",
    "    \n",
    "    .rendered_html strong em\n",
    "    {\n",
    "        background: rgba(66, 165, 245, 0.2);\n",
    "        color: rgba(0, 0, 0, 0.8);\n",
    "        font-weight: normal;\n",
    "    }\n",
    "    \n",
    "    .rendered_html em strong\n",
    "    {\n",
    "        background: rgba(232, 245, 233, 1);\n",
    "        color: rgba(0, 0, 0, 0.8);\n",
    "        font-weight: normal;\n",
    "    }\n",
    "\n",
    "    .rendered_html strong em code,\n",
    "    .rendered_html em strong code\n",
    "    {\n",
    "        background: white;\n",
    "        border-radius: 4px;\n",
    "        padding: 2px !important;\n",
    "    }    \n",
    "\n",
    "\n",
    "    /*-----TABLE---------*/\n",
    "    \n",
    "    .table_border {\n",
    "        border-radius: 10px;\n",
    "        border: 1px solid #ccc !important;\n",
    "        margin: 5px;\n",
    "        margin-top: 40px !important;\n",
    "        padding: 5px;\n",
    "        display: inline-block;\n",
    "        cursor: default;\n",
    "        box-shadow: 5px 4px 5px 1px rgba(0, 0, 0, 0.07);\n",
    "    }\n",
    "    \n",
    "    .table_border:before, \n",
    "    p.value:before \n",
    "    {\n",
    "        content: attr(data-title);\n",
    "        position: absolute;\n",
    "        display: block;\n",
    "        margin-block: auto;\n",
    "        margin-top: -25px;\n",
    "        /*color: rgb(0 0 0 / 30%);*/\n",
    "        color: #4caf50;\n",
    "        font-size: 10px;\n",
    "    }\n",
    "\n",
    "    p:before \n",
    "    {\n",
    "        margin-top: -15px !important;\n",
    "    }\n",
    "    \n",
    "    p.value \n",
    "    {\n",
    "        /*padding-top: 40px;*/\n",
    "    }\n",
    "    \n",
    "    .table_border thead, \n",
    "    .table_border thead tr, \n",
    "    .table_border thead th {\n",
    "        color: #03a9f4;\n",
    "        vertical-align: middle;\n",
    "    }\n",
    "    \n",
    "\n",
    "    .table_border thead tr\n",
    "    {\n",
    "        background: rgba(66, 165, 245, 0.2) !important;\n",
    "        border-bottom: 1px solid #b2ebf2 !important;\n",
    "        padding: 1px;\n",
    "    }\n",
    "    \n",
    "    .table_border tbody td:hover\n",
    "    {\n",
    "        font-weight: bold;\n",
    "        color: #03a9f4;\n",
    "    }\n",
    "\n",
    "    .table_border thead tr:first-child th:first-child {\n",
    "        border-radius: 10px 0px 0px 0px;\n",
    "    }\n",
    "\n",
    "    .table_border thead tr:first-child th:last-child {\n",
    "        border-radius: 0px 10px 0px 0px;\n",
    "    }\n",
    "    \n",
    "    .table_border tbody tr:last-child:hover\n",
    "    {\n",
    "        border-radius: 0px 0px 10px 10px;\n",
    "        padding: 0px;\n",
    "    }\n",
    "    \n",
    "    .table_border tbody tr:last-child:hover th,\n",
    "    .table_border tbody tr:last-child:hover td {\n",
    "        background: antiquewhite !important;\n",
    "    }\n",
    "\n",
    "    .table_border tbody tr:hover,\n",
    "    .table_border tbody tr:hover th,\n",
    "    .table_border tbody tr:hover td,\n",
    "    .table_border tbody tr:hover > th,\n",
    "    .table_border tbody td.active\n",
    "    {\n",
    "        background: rgba(66, 165, 245, 0.2) !important;\n",
    "    }\n",
    "    \n",
    "    .table_border tbody tr:last-child:hover th,\n",
    "    .table_border tbody tr:last-child:hover td:first-child {\n",
    "        border-radius: 0px 0px 0px 10px;\n",
    "        display: table-cell;\n",
    "    }\n",
    "    \n",
    "    .table_border tbody tr:last-child:hover td:last-child {\n",
    "        border-radius: 0px 0px 10px 0px;\n",
    "        display: table-cell;\n",
    "    }\n",
    "    \n",
    "    .table_border tbody tr,\n",
    "    .table_border tbody th,\n",
    "    .table_border tbody td\n",
    "    {\n",
    "        background: white;\n",
    "    }\n",
    "    \n",
    "    .table_border tbody td {\n",
    "        min-width: 120px;\n",
    "    }\n",
    "    \n",
    "    .table_border tbody tr .row_heading {\n",
    "        color: rgba(0,0,0,0.2)\n",
    "    }\n",
    "    \n",
    "    .table_border td.table_border_td_nan {\n",
    "        font-weight: bold;\n",
    "        text-transform: capitalize;\n",
    "        color: red;\n",
    "    }\n",
    "\n",
    "    .table_border tbody tr:hover .row_heading {\n",
    "        color: #1565c0;\n",
    "    }\n",
    "    \n",
    "    /*\n",
    "    ++++++++++++++++++++++\n",
    "    .table_border {\n",
    "        border-radius: 13px;\n",
    "        border: 1px solid #ccc !important;\n",
    "        margin: 5px;\n",
    "        padding: 5px;\n",
    "        display: inline-block;\n",
    "        cursor: default;\n",
    "        box-shadow: 5px 4px 5px 1px rgba(0, 0, 0, 0.07);\n",
    "    }\n",
    "    \n",
    "    .table_border table, \n",
    "    {\n",
    "        border-collapse: separate;\n",
    "    }\n",
    "    \n",
    "    .table_border thead,\n",
    "    .table_border thead tr,\n",
    "    .table_border thead th\n",
    "    {\n",
    "        text-align: center !important;\n",
    "        color: #03a9f4;\n",
    "    }\n",
    "    \n",
    "    \n",
    "    .table_border thead th\n",
    "    {\n",
    "        border-right: 1px solid;\n",
    "    }\n",
    "    \n",
    "    .table_border thead th:last-child\n",
    "    {\n",
    "        border-right: none;\n",
    "    }\n",
    "    \n",
    "    .table_border thead\n",
    "    {\n",
    "        display: table-caption;\n",
    "        border: none !important;\n",
    "    }\n",
    "    \n",
    "    .table_border tbody\n",
    "    {\n",
    "        border: none !important;\n",
    "        display: table-cell;\n",
    "    }\n",
    "    \n",
    "    ++++++++++++++++++++++\n",
    "    .table_border thead tr\n",
    "    {\n",
    "        background: rgba(66, 165, 245, 0.2) !important;\n",
    "        border-bottom: 1px solid #b2ebf2 !important;\n",
    "        display: table-row;\n",
    "        padding: 1px;\n",
    "    }\n",
    "    \n",
    "    ++++++++++++++++++++++\n",
    "    .table_border thead tr:first-child th:first-child {\n",
    "        display: table-cell;\n",
    "        border-radius: 10px 0px 0px 0px;\n",
    "    }\n",
    "    ++++++++++++++++++++++\n",
    "    .table_border thead tr:first-child th:last-child {\n",
    "        display: table-cell;\n",
    "        border-radius: 0px 10px 0px 0px;\n",
    "    }\n",
    "    \n",
    "    .table_border thead th\n",
    "    {\n",
    "        word-break: inherit;            \n",
    "    }\n",
    "\n",
    "    .table_border th, .table_border tbody td {\n",
    "        width: 110px;\n",
    "        word-break: break-word;\n",
    "    }\n",
    "    \n",
    "    .table_border tbody tr\n",
    "    {\n",
    "        background: none !important;\n",
    "    }\n",
    "    \n",
    "    ++++++++++++++++++++++\n",
    "    .table_border tbody tr:hover,\n",
    "    .table_border tbody td.active\n",
    "    {\n",
    "        background: rgba(66, 165, 245, 0.2) !important;\n",
    "    }\n",
    "    \n",
    "    ++++++++++++++++++++++\n",
    "    .table_border tbody td:hover\n",
    "    {\n",
    "        font-weight: bold;\n",
    "        color: #03a9f4;\n",
    "    }\n",
    "    \n",
    "    .table_border tbody tr:last-child:hover\n",
    "    {\n",
    "        border-radius: 0px 0px 10px 10px;\n",
    "        display: block;\n",
    "        padding: 0px;\n",
    "        background: antiquewhite !important;\n",
    "    }\n",
    "    \n",
    "    /*.table_border th, \n",
    "    .table_border td\n",
    "    {\n",
    "        width: 250px !important;\n",
    "        word-break: break-word;\n",
    "    }*/\n",
    "    \n",
    "    \n",
    "    .sea_war th,\n",
    "    .sea_war td\n",
    "    {\n",
    "        width: 26px !important;\n",
    "    }\n",
    "    \n",
    "    .sea_war tbody th,\n",
    "    .sea_war tbody td\n",
    "    {\n",
    "        border: 1px solid rgba(0,0,0,0.1);\n",
    "    }\n",
    "    \n",
    "    .sea_war tbody th\n",
    "    {\n",
    "        color: rgba(0,0,0,0.5);\n",
    "        text-align: center !important;\n",
    "    }\n",
    "    \n",
    "    /*---------------Borders------------------------*/\n",
    "    \n",
    "    /* border_horizont  */\n",
    "    .border_horizont tbody th, \n",
    "    .border_horizont tbody td\n",
    "    {\n",
    "        border-bottom: 1px solid rgba(0,0,0,0.04);\n",
    "    }\n",
    "    \n",
    "    .border_horizont tbody tr:last-child th, \n",
    "    .border_horizont tbody tr:last-child td\n",
    "    {\n",
    "        border-bottom: none;\n",
    "    }\n",
    "    \n",
    "    /* border_vertical  */\n",
    "    .border_vertical tbody th, \n",
    "    .border_vertical tbody td\n",
    "    {\n",
    "        border-right: 1px solid rgba(0,0,0,0.04);\n",
    "    }\n",
    "     \n",
    "    .border_vertical tbody td:last-child\n",
    "    {\n",
    "        border-right: none;\n",
    "    }\n",
    "    \n",
    "    /* border_display  */\n",
    "    .border_display tbody th, \n",
    "    .border_display tbody td\n",
    "    {\n",
    "        border: 1px solid rgba(0,0,0,0.04);\n",
    "    }\n",
    "    .border_display tbody th,\n",
    "    .border_display tbody td\n",
    "    {\n",
    "        border-left: none;\n",
    "        border-top: none;\n",
    "    }\n",
    "    .border_display tbody td:last-child\n",
    "    {\n",
    "       border-right: none; \n",
    "    }\n",
    "    .border_display tbody tr:last-child th,\n",
    "    .border_display tbody tr:last-child td \n",
    "    {\n",
    "        border-bottom: none;\n",
    "    }\n",
    "    \n",
    "    \n",
    "    /* positions  */\n",
    "    \n",
    "    .position_left thead th,\n",
    "    .position_left tbody td {\n",
    "        text-align: left !important;\n",
    "    }\n",
    "    \n",
    "    .position_center thead th,\n",
    "    .position_center tbody td {\n",
    "        text-align: center !important;\n",
    "    }\n",
    "\n",
    "    .position_right thead th,\n",
    "    .position_right tbody td {\n",
    "        text-align: right !important;\n",
    "    }\n",
    "    \n",
    "    .position_left_header thead th {\n",
    "        text-align: left !important;\n",
    "    }\n",
    "    \n",
    "    .position_center_header thead th {\n",
    "        text-align: center !important;\n",
    "    }\n",
    "    .position_right_header thead th {\n",
    "        text-align: right !important;\n",
    "    }\n",
    "    \n",
    "    /*---------------Code------------------------*/\n",
    "    /*.rendered_html p code,\n",
    "    .rendered_html ul code,\n",
    "    .rendered_html pre code[class*=\"custom\"]\n",
    "    {\n",
    "        background-color: #d9edfd;\n",
    "        color: #4c4c4c;\n",
    "        font-size: 16px !important;\n",
    "        border-radius: 10px;\n",
    "        font-weight: bold;\n",
    "        border: 1px solid #ccc !important;\n",
    "        padding: 5px !important;\n",
    "        line-height: 19px !important;\n",
    "        display: inline-block;\n",
    "        margin: 5px 0px -2px 0px;\n",
    "        word-break: break-word;\n",
    "    }*/\n",
    "    \n",
    "    .rendered_html code span[class*=\"-bold\"]\n",
    "    {\n",
    "        font-weight: bold;\n",
    "    }\n",
    "    \n",
    "    .rendered_html code span[class*=\"-italic\"]\n",
    "    {\n",
    "        font-style: italic;\n",
    "    }\n",
    "    \n",
    "    .rendered_html code span[class*=\"-marker\"]\n",
    "    {\n",
    "        background: #ffeb3b8c;\n",
    "        font-weight: bold;\n",
    "        border: 1px solid #9e9e9e;\n",
    "        box-shadow: 1px 1px 5px 0px #00000045;\n",
    "        border-radius: 4px;\n",
    "        padding: 2px;\n",
    "        opacity: 0.8;\n",
    "        line-height: 30px;\n",
    "    }\n",
    "\n",
    "    .rendered_html code[class*=\"error\"] {\n",
    "        color: red !important;\n",
    "        background-color: rgba(244, 67, 54, 0.1) !important;\n",
    "        font-weight: normal !important;\n",
    "    }\n",
    "    \n",
    "    .rendered_html code[class*=\"warning\"] {\n",
    "        color: #ff9800 !important;\n",
    "        background-color: rgba(244, 243, 54, 0.1) !important;\n",
    "        font-weight: normal !important;\n",
    "    }\n",
    "\n",
    "    .rendered_html code[class*=\"info\"] {\n",
    "        color: green !important;\n",
    "        background-color: rgb(54, 244, 91, 0.1) !important;\n",
    "        font-weight: normal !important;\n",
    "    }\n",
    "    \n",
    "    .rendered_html code[class*=\"word\"] {\n",
    "        color: #00bcd4 !important;\n",
    "        background-color: rgba(54, 195, 244, 0.1) !important;\n",
    "        font-weight: normal !important;\n",
    "    }\n",
    "    \n",
    "    /*---------------Imgs------------------------*/\n",
    "    .rendered_html img\n",
    "    {\n",
    "        border-radius: 16px;\n",
    "        border: 1px solid rgb(0 0 0 / 25%);\n",
    "        box-shadow: 5px 6px 8px 1px hsl(0deg 0% 0% / 25%);\n",
    "        padding: 4px;\n",
    "        margin-bottom: 10px;\n",
    "        max-width: 65em;\n",
    "    }\n",
    "    \n",
    "    #ipython_notebook:after {\n",
    "        content: '@alefair кодит';\n",
    "        position: relative;\n",
    "        color: #2196f3;\n",
    "        bottom: 7px;\n",
    "        right: -35px;\n",
    "    }\n",
    "                                                 \n",
    "   .total .banner {\n",
    "        background: repeating-linear-gradient(45deg, rgb(54, 61, 84), rgb(52, 58, 86) 10px, #607d8b 10px, #2196f3 11px);\n",
    "        height: 40px;\n",
    "        border: 4px solid rgb(39, 251, 171, 0.22);\n",
    "   }\n",
    "                                                 \n",
    "   .total .description {\n",
    "        border: 1px solid #999;\n",
    "        border-top: none;\n",
    "        padding: 20px;\n",
    "        font-family: monospace;\n",
    "   }\n",
    "                                                 \n",
    "   .total .description h3,\n",
    "   .total .description h4                                              \n",
    "   {\n",
    "        font-weight: bold;\n",
    "        font-size: 16px;\n",
    "        color: #999;\n",
    "        margin-bottom: 10px;\n",
    "   }\n",
    "                                                 \n",
    "   .total .description .content {\n",
    "        color: #333;\n",
    "        font-size: 13px;\n",
    "        border-radius: 10px;\n",
    "        overflow: hidden;\n",
    "        box-shadow: 1px 1px 3px 2px rgba(0, 0, 0, 0.3);\n",
    "   }\n",
    "                                                 \n",
    "    .ribbon {\n",
    "        text-align: center;\n",
    "        display: block;\n",
    "        width: 150px;\n",
    "        height: 40px;\n",
    "        background: #ff5722;\n",
    "        color: white;\n",
    "        font-family: monospace;\n",
    "        padding-top: 10px;\n",
    "    }\n",
    "    .ribbon:after {\n",
    "        content: \"\";\n",
    "        display: block;\n",
    "        position: relative;\n",
    "        top: 10px;\n",
    "        width: 0px;\n",
    "        height: 0;\n",
    "        border-width: 10px 75px 50px 75px;\n",
    "        border-style: solid;\n",
    "        border-color: #ff5722 #d00202 transparent #d00202;\n",
    "    }\n",
    "                                                 \n",
    "    mark em {\n",
    "        font-style: normal !important;\n",
    "        font-weight: bold;\n",
    "        color: #708;\n",
    "        font-size: 16px;\n",
    "        box-shadow: 3px 3px 3px 1px #ccc;\n",
    "    }\n",
    "</style>\n",
    "<div class=\"css_block\"></div>"
   ]
  },
  {
   "cell_type": "code",
   "execution_count": 2,
   "id": "6d0c2318",
   "metadata": {},
   "outputs": [
    {
     "data": {
      "text/markdown": [
       "<div class=\"function_block\"></div>"
      ],
      "text/plain": [
       "<IPython.core.display.Markdown object>"
      ]
     },
     "execution_count": 2,
     "metadata": {},
     "output_type": "execute_result"
    }
   ],
   "source": [
    "import pandas as pd\n",
    "import numpy as np\n",
    "from IPython.display import Markdown as md\n",
    "\n",
    "def path_remover(path=''):\n",
    "    import sys\n",
    "    for el in sys.path:\n",
    "        if el == path:\n",
    "            sys.path.remove(path)\n",
    "\n",
    "class Formatter(object):\n",
    "    def __init__(self):\n",
    "        self.types = {}\n",
    "        self.htchar = '\\t'\n",
    "        self.lfchar = '\\n'\n",
    "        self.indent = 0\n",
    "        self.set_formater(object, self.__class__.format_object)\n",
    "        self.set_formater(dict, self.__class__.format_dict)\n",
    "        self.set_formater(list, self.__class__.format_list)\n",
    "        self.set_formater(tuple, self.__class__.format_tuple)\n",
    "\n",
    "    def set_formater(self, obj, callback):\n",
    "        self.types[obj] = callback\n",
    "\n",
    "    def __call__(self, value, **args):\n",
    "        for key in args:\n",
    "            setattr(self, key, args[key])\n",
    "        formater = self.types[type(value) if type(value) in self.types else object]\n",
    "        return formater(self, value, self.indent)\n",
    "\n",
    "    def format_object(self, value, indent):\n",
    "        if 'DataFrame' in str(type(value)):\n",
    "            return str(type(value))\n",
    "        else:\n",
    "            return repr(value)\n",
    "\n",
    "    def format_dict(self, value, indent):\n",
    "        items = [\n",
    "            self.lfchar + self.htchar * (indent + 1) + repr(key) + ': ' +\n",
    "            (self.types[type(value[key]) if type(value[key]) in self.types else object])(self, value[key], indent + 1)\n",
    "            for key in value\n",
    "        ]\n",
    "        return '{%s}' % (','.join(items) + self.lfchar + self.htchar * indent)\n",
    "\n",
    "    def format_list(self, value, indent):\n",
    "        items = [\n",
    "            self.lfchar + self.htchar * (indent + 1) + (self.types[type(item) if type(item) in self.types else object])(self, item, indent + 1)\n",
    "            for item in value\n",
    "        ]\n",
    "        return '[%s]' % (','.join(items) + self.lfchar + self.htchar * indent)\n",
    "\n",
    "    def format_tuple(self, value, indent):\n",
    "        items = [\n",
    "            self.lfchar + self.htchar * (indent + 1) + (self.types[type(item) if type(item) in self.types else object])(self, item, indent + 1)\n",
    "            for item in value\n",
    "        ]\n",
    "        return '(%s)' % (','.join(items) + self.lfchar + self.htchar * indent)\n",
    "        \n",
    "\n",
    "\n",
    "def color_nan_red(val, marker=None, table=None):\n",
    "    \n",
    "    general_style = 'font-weight:bold;text-transform: capitalize;'\n",
    "    \n",
    "    nan_class    = general_style + 'color: red;'\n",
    "    unknow_class = general_style + 'color: #9c27b0;'\n",
    "    value_class  = ''\n",
    "    \n",
    "    max_class    = general_style + 'color: #ff6f00;'\n",
    "    min_class    = general_style + 'color: #0d64a1;'\n",
    "    \n",
    "    classes_list = []\n",
    "    \n",
    "    for i, cell in enumerate(val):\n",
    "        if marker:\n",
    "            if i in marker.keys():\n",
    "                \n",
    "                \n",
    "                if ('str' in str(type(marker[i])) and 'str' in str(type(cell))):\n",
    "                    if cell == marker[i]:\n",
    "                        classes_list.append(nan_class)\n",
    "                        continue\n",
    "                elif 'list' in str(type(marker[i])):\n",
    "                    if marker[i][0] == 'min' and cell == marker[i][1]:\n",
    "                        classes_list.append(min_class)\n",
    "                        continue\n",
    "                    elif marker[i][0] == 'max' and cell == marker[i][1]:\n",
    "                        classes_list.append(max_class)\n",
    "                        continue\n",
    "                    elif marker[i][0] == 'max_min' and cell in marker[i]:\n",
    "                        if 'str' not in str(type(cell)):\n",
    "                            if cell == min(item for item in marker[i][1:] if 'str' not in str(type(item))):\n",
    "                                classes_list.append(min_class)\n",
    "                                continue\n",
    "                            elif cell == max(item for item in marker[i][1:] if 'str' not in str(type(item))):\n",
    "                                classes_list.append(max_class)\n",
    "                                continue\n",
    "                        elif 'str' in str(type(cell)):\n",
    "                            if cell == min(item for item in marker[i][1:] if 'str' in str(type(item))):\n",
    "                                classes_list.append(min_class)\n",
    "                                continue\n",
    "                            elif cell == max(item for item in marker[i][1:] if 'str' in str(type(item))):\n",
    "                                classes_list.append(max_class)\n",
    "                                continue\n",
    "                    elif cell in marker[i]:\n",
    "                        if 'str' not in str(type(cell)):\n",
    "                            if cell == min(item for item in marker[i] if 'str' not in str(type(item))):\n",
    "                                classes_list.append(min_class)\n",
    "                                continue\n",
    "                            elif cell == max(item for item in marker[i] if 'str' not in str(type(item))):\n",
    "                                classes_list.append(max_class)\n",
    "                                continue\n",
    "                            else:\n",
    "                                classes_list.append(unknow_class)\n",
    "                                continue\n",
    "                        elif 'str' in str(type(cell)):\n",
    "                            if cell == min(item for item in marker[i] if 'str' in str(type(item))):\n",
    "                                classes_list.append(min_class)\n",
    "                                continue\n",
    "                            elif cell == max(item for item in marker[i] if 'str' in str(type(item))):\n",
    "                                classes_list.append(max_class)\n",
    "                                continue\n",
    "                            else:\n",
    "                                classes_list.append(unknow_class)\n",
    "                                continue            \n",
    "                    elif marker[i][0] == '>':\n",
    "                        if 'list' in str(type(marker[i][1])):\n",
    "                            if all(cell > j for j in marker[i][1]):\n",
    "                                classes_list.append(nan_class)\n",
    "                                continue\n",
    "                        else:    \n",
    "                            if cell > marker[i][1]:\n",
    "                                classes_list.append(nan_class)\n",
    "                                continue\n",
    "                    elif marker[i][0] == '<':\n",
    "                        if 'list' in str(type(marker[i][1])):\n",
    "                            if all(cell < j for j in marker[i][1]):\n",
    "                                classes_list.append(min_class)\n",
    "                                continue\n",
    "                        else:    \n",
    "                            if cell < marker[i][1]:\n",
    "                                classes_list.append(min_class)\n",
    "                                continue\n",
    "                    elif marker[i][0] == '=':\n",
    "                        if cell == marker[i][1]:\n",
    "                            classes_list.append(unknow_class)\n",
    "                            continue\n",
    "                        if cell in marker[i][1]:\n",
    "                            classes_list.append(unknow_class)\n",
    "                            continue\n",
    "                    elif marker[i][0] == 'top':\n",
    "                        if cell in list(table.iloc[:, i].head(marker[i][1])):\n",
    "                            classes_list.append(unknow_class)\n",
    "                            continue\n",
    "                    elif marker[i][0] == 'out':\n",
    "                        if cell in list(table.iloc[:, i].tail(marker[i][1])):\n",
    "                            classes_list.append(unknow_class)\n",
    "                            continue\n",
    "                    \n",
    "                                \n",
    "                elif ('str' not in str(type(marker[i])) and 'str' not in str(type(cell))) and  cell >= marker[i]:\n",
    "                    classes_list.append(nan_class)\n",
    "                    continue \n",
    "        \n",
    "        if pd.isna(cell):\n",
    "            classes_list.append(nan_class)\n",
    "            continue\n",
    "        elif cell == 'unknown':\n",
    "            classes_list.append(unknow_class)\n",
    "            continue\n",
    "        \n",
    "        classes_list.append(value_class)\n",
    "        continue\n",
    "        \n",
    "    return classes_list\n",
    "    \n",
    "\n",
    "def set_format(*args):\n",
    "    print(args)\n",
    "    \n",
    "    for i, idx in enumerate(args[0]):\n",
    "        print(i, \":\", idx)\n",
    "        \n",
    "    if 'str' in str(type(args[1])):\n",
    "        if 'float' in str(type(args[0])):\n",
    "            return args[1].format(args[0])\n",
    "        else:\n",
    "            return args[0]\n",
    "    elif 'list' in str(type(args[1])):\n",
    "        if args[1][0] == 'datetime':\n",
    "            return datetime.strptime(args[0], args[1][1]).strftime(args[1][2])\n",
    "        elif args[1][0] == 'float':\n",
    "            print(args[1][1],':', args[0])\n",
    "            return args[1][1].format(args[0])\n",
    "          \n",
    "    return args[0]\n",
    "\n",
    "\n",
    "\n",
    "def check_float(val,format='default'):\n",
    "    if 'float' in str(type(val)):\n",
    "        if format == 'default':\n",
    "            return val\n",
    "        else:\n",
    "            return format.format(val)\n",
    "    else:\n",
    "        return val\n",
    "    \n",
    "    \n",
    "def render(*args, format='default', border='false', position='center_header', marker=None, name='', width='', vartype=False):\n",
    "    import pandas\n",
    "    \n",
    "    '''\n",
    "    format   = {:.2f} Заменяет все float числа в формат\n",
    "    format   = [ [[column_list], [type_format, value_format]] ] - применяет указанный формат к указанным столбцам.\n",
    "    \n",
    "        примеры:\n",
    "        format=[ [['column_1','column_2'], '{:.2f}'] ]\n",
    "        format=[ [['column_1','column_2'], ['float', '{:.2f}']] ]\n",
    "        format=[ [['column_1','column_2'], ['datetime', '%Y%m%dT%H%M%S', '%d.%m.%Y %H:%M:%S']] ]\n",
    "        format=[ [['column_1','column_2'], '<b style=\"color:red\">{}</b>'] ] - применяем стиль к значению\n",
    "    \n",
    "    format   = 'json' - преобразовывает в json формат\n",
    "    \n",
    "    border   = display(d) | horizont(h) | vertical(v)\n",
    "    \n",
    "    position = left | center | right | left_header | center_header | right_header\n",
    "    \n",
    "    marker   = [['column_name', value]] все значения >=  value будут помечены красным цветом\n",
    "    \n",
    "    marker   = [['column_name', 'max_min']] будут отмечены максимальное и минимальное значение цветом\n",
    "    marker   = [['column_name', 'min']]\n",
    "    marker   = [['column_name', 'max']]\n",
    "    \n",
    "    marker   = [['column_name', ['>', 1000]]]\n",
    "    marker   = [['column_name', ['<', 'value']]]\n",
    "    \n",
    "    name     = 'Test title'  Добавляет описание к таблице\n",
    "    \n",
    "    width    = auto | 100% | 300 | 600 | 900 Делает ширину таблицы, указаного значения\n",
    "    \n",
    "    type     = True Выводит имя переменной и его тип\n",
    "    '''\n",
    "    \n",
    "    \n",
    "    \n",
    "    border_style   = ''\n",
    "    position_style = ''\n",
    "    \n",
    "    title          = ''\n",
    "    width_value    = ''\n",
    "    type_value     = ''\n",
    "    \n",
    "    if name != '':\n",
    "        title = ' data-title=\"' + name + '\" '\n",
    "        \n",
    "    if width != '':\n",
    "        width_value = ' data-width=\"' + width + '\" '\n",
    "    \n",
    "    if vartype == True:\n",
    "        type_value = ' data-type=\"[template]\" '\n",
    "    \n",
    "    if border == 'display' or border == 'd':\n",
    "        border_style = ' border_display'\n",
    "    elif border == 'horizont' or border == 'h':\n",
    "        border_style = ' border_horizont'\n",
    "    elif border == 'vertical' or border == 'v':\n",
    "        border_style = ' border_vertical'\n",
    "    else:\n",
    "        border_style = ''\n",
    "    \n",
    "    \n",
    "    if position == 'left':\n",
    "        position_style = ' position_left'\n",
    "    elif position == 'center':\n",
    "        position_style = ' position_center'\n",
    "    elif position == 'right':\n",
    "        position_style = ' position_right'\n",
    "    elif position == 'left_header':\n",
    "        position_style = ' position_left_header'\n",
    "    elif position == 'center_header':\n",
    "        position_style = ' position_center_header'\n",
    "    elif position == 'right_header':\n",
    "        position_style = ' position_right_header'\n",
    "    else:\n",
    "        position_style = ''\n",
    "    \n",
    "    \n",
    "    \n",
    "    if 'Series' in str(type(args[0])) or 'DataFrame' in str(type(args[0])): \n",
    "        df = args[0]\n",
    "    else:\n",
    "        df = args\n",
    "    \n",
    "    if 'Series' in str(type(df)): df = df.to_frame()\n",
    "    \n",
    "    if 'Series' in str(type(df)) or 'DataFrame' in str(type(df)):\n",
    "        \n",
    "        render_df = df.copy()\n",
    "        \n",
    "        \n",
    "        \n",
    "        if len(render_df.index) == 0:\n",
    "            render_df.loc[render_df.shape[0]] = ''\n",
    "        \n",
    "        \n",
    "        \n",
    "        columns = render_df.columns\n",
    "        need_columns = {}\n",
    "        \n",
    "        if marker:\n",
    "            for need_clmn in marker:\n",
    "                for i, clmn in enumerate(columns):\n",
    "                    if need_clmn[0] == clmn:\n",
    "                        if need_clmn[1] in ['min', 'max', 'max_min']:\n",
    "                            if need_clmn[1] == 'min':\n",
    "                                need_columns[i] = ['min', df[clmn].min()]\n",
    "                            elif need_clmn[1] == 'max':\n",
    "                                need_columns[i] = ['max', df[clmn].max()]\n",
    "                            elif need_clmn[1] == 'max_min':\n",
    "                                need_columns[i] = ['max_min', df[clmn].min(), df[clmn].max()]\n",
    "                        else:\n",
    "                            need_columns[i] = need_clmn[1]\n",
    "\n",
    "        if vartype == True:\n",
    "            type_value = type_value.replace(\"[template]\", var_name(render_df))\n",
    "            print(render_df, var_name(render_df))   \n",
    "        \n",
    "        #Render Style\n",
    "        render_df = render_df.style.set_table_attributes('class=\"table_border' + border_style + position_style + '\"' + title + width_value + type_value).apply(color_nan_red,marker=need_columns,table=df, axis=1)\n",
    "        \n",
    "        #print(str(type(render_df))) \n",
    "        \n",
    "        #render_df.format(escape='html')\n",
    "        \n",
    " \n",
    "        if format != 'default':\n",
    "            if 'str' in str(type(format)):\n",
    "                render_df = render_df.format(lambda x: format.format(x) if 'float' in str(type(x)) else x )\n",
    "            elif 'list' in str(type(format)):\n",
    "                need_columns = {}\n",
    "                for list_format in format:\n",
    "\n",
    "                    s_type = None\n",
    "                    s_type = list_format[1]\n",
    "                    \n",
    "                    for clmns_list in list_format[0]:\n",
    "                        if 'str' in str(type(s_type)):\n",
    "                            need_columns[clmns_list] = str_format(s_type)\n",
    "                            continue\n",
    "                        elif 'list' in str(type(s_type)):\n",
    "\n",
    "                            if s_type[0] == 'float':\n",
    "                                need_columns[clmns_list] = float_format(s_type[1])\n",
    "                                continue\n",
    "                            \n",
    "                            elif s_type[0] == 'datetime':\n",
    "                                need_columns[clmns_list] = time_format(s_type[1], s_type[2])\n",
    "                                continue\n",
    "                            \n",
    "                            elif s_type[0] == 'link':\n",
    "                                need_columns[clmns_list] = link_format(s_type[1])\n",
    "                                continue\n",
    "                            \n",
    "                            else:\n",
    "                                continue\n",
    "                \n",
    "                #print(need_columns)\n",
    "                render_df = render_df.format(formatter=need_columns)\n",
    "                                                \n",
    "    else: \n",
    "        list_args = []\n",
    "        \n",
    "        for value in df: \n",
    "            #Render float format\n",
    "            if format != 'default':\n",
    "                if format == 'json':\n",
    "                    pretty = Formatter()\n",
    "                    list_args.append(pretty(value))\n",
    "                else:\n",
    "                    list_args.append(str(check_float(value,format)))\n",
    "            else:\n",
    "                list_args.append(str(value))\n",
    "        \n",
    "        render_df = ' '.join(list_args).replace('<', '&#60;').replace('>', '&#62;')\n",
    "        \n",
    "        if vartype == True:\n",
    "            type_value = type_value.replace(\"[template]\", var_name(render_df))\n",
    "            print(df, var_name(df))\n",
    "            \n",
    "        from IPython.display import HTML\n",
    "        render_df = HTML('<p class=\"value\" ' + title + type_value + '><code>' + str(render_df) + '</code></p>')\n",
    "        \n",
    "        \n",
    "    return display(render_df)\n",
    "\n",
    "\n",
    "def str_format(y):\n",
    "    return lambda x: y.format(x)\n",
    "    \n",
    "def float_format(y):\n",
    "    return lambda x: y.format(x)\n",
    "\n",
    "def link_format(y):\n",
    "    if y != '':\n",
    "        return lambda x: '<a href=\"{}\" title=\"{}\">{}</a>'.format(x, y, y)\n",
    "    else:\n",
    "        return lambda x: '<a href=\"{}\" title=\"{}\">{}</a>'.format(x, x, x)\n",
    "    \n",
    "def time_format(y, z):\n",
    "    if y == '':\n",
    "        y = '%Y%m%dT%H%M%S'\n",
    "    if z == '':\n",
    "        z = '%d.%m.%Y %H:%M:%S'\n",
    "    return lambda x: datetime.strptime(x, y).strftime(z)\n",
    "\n",
    "\n",
    "def import_style(style_path=\"style\", width_page=-1):\n",
    "    import os\n",
    "    \n",
    "    file_path = os.path.join(os.path.abspath(os.curdir), 'Settings', style_path + '.css')\n",
    "    #print(file_path)\n",
    "\n",
    "    #print(True)\n",
    "    #open text file in read mode\n",
    "    text_file = open(file_path, \"r\")\n",
    "\n",
    "    #read whole file to a string\n",
    "    data = text_file.read()\n",
    "\n",
    "    #close file\n",
    "    text_file.close()\n",
    "    \n",
    "    if width_page != -1:\n",
    "        data = data.replace('/*#notebook-container', '#notebook-container').replace('[width]', str(width_page) + 'px').replace('width*/', '')\n",
    "    \n",
    "    from IPython.core.display import HTML\n",
    "    style = HTML(\"\"\"\n",
    "        <link href=\"https://fonts.cdnfonts.com/css/gilroy-bold\" rel=\"stylesheet\">\n",
    "        <style>\n",
    "            .table_border[data-width='auto'],\n",
    "            .table_border[data-width='auto'] thead,\n",
    "            .table_border[data-width='auto'] tbody\n",
    "            {width:auto;}\n",
    "            \n",
    "            .table_border[data-width='100%'],\n",
    "            .table_border[data-width='100%'] thead,\n",
    "            .table_border[data-width='100%'] tbody\n",
    "            {width:100%;}\n",
    "            \n",
    "            .table_border[data-width='300']\n",
    "            {width:300px;}\n",
    "            .table_border[data-width='300'] thead,\n",
    "            .table_border[data-width='300'] tbody\n",
    "            {width:285px;}\n",
    "            \n",
    "            .table_border[data-width='600']\n",
    "            {width:600px;}\n",
    "            .table_border[data-width='600'] thead,\n",
    "            .table_border[data-width='600'] tbody\n",
    "            {width:585px;}\n",
    "            \n",
    "            .table_border[data-width='900']\n",
    "            {width:900px;}\n",
    "            .table_border[data-width='900'] thead,\n",
    "            .table_border[data-width='900'] tbody\n",
    "            {width:885px;}\n",
    "            \n",
    "            .table_border[data-width]\n",
    "            {display: inline-grid;}\n",
    "            .table_border[data-width] thead,\n",
    "            .table_border[data-width] tbody\n",
    "            {display: inline-table;}\n",
    "        </style>\n",
    "    \"\"\")\n",
    "    display(style)\n",
    "    return data\n",
    "\n",
    "def hex_to_RGB(hex_str):\n",
    "    \"\"\" #FFFFFF -> [255,255,255]\"\"\"\n",
    "    #Pass 16 to the integer function for change of base\n",
    "    return [int(hex_str[i:i+2], 16) for i in range(1,6,2)]\n",
    "\n",
    "def get_color_gradient(c1, c2, n):\n",
    "    \"\"\"\n",
    "    Given two hex colors, returns a color gradient\n",
    "    with n colors.\n",
    "    \"\"\"\n",
    "    assert n > 1\n",
    "    c1_rgb = np.array(hex_to_RGB(c1))/255\n",
    "    c2_rgb = np.array(hex_to_RGB(c2))/255\n",
    "    mix_pcts = [x/(n-1) for x in range(n)]\n",
    "    rgb_colors = [((1-mix)*c1_rgb + (mix*c2_rgb)) for mix in mix_pcts]\n",
    "    return [\"#\" + \"\".join([format(int(round(val*255)), \"02x\") for val in item]) for item in rgb_colors]\n",
    "\n",
    "md('''<div class=\"function_block\"></div>''')"
   ]
  },
  {
   "cell_type": "markdown",
   "id": "8b61175b",
   "metadata": {},
   "source": [
    "<font color='blue' size=5><b>Комментарий ревьюера</b></font>\n",
    "\n",
    "<font color='blue'>Привет, Алексей! Меня зовут Павел Григорьев, и я буду проверять этот проект.<br>Моя основная цель - не указать на совершённые тобой ошибки, а поделиться своим опытом и помочь тебе совершенствоваться как профессионалу.<br>Спасибо за проделанную работу! Предлагаю общаться на «ты».</font>\n",
    "<details>\n",
    "\t<summary><u>Инструкция по организационным мометнам (кликабельно)</u></summary>\n",
    "<font color='blue'>Я буду использовать различные цвета, чтобы было удобнее воспринимать мои комментарии:</font>\n",
    "\n",
    "\n",
    "---\n",
    "\n",
    "\n",
    "<font color='blue'>синий текст - просто текст комментария</font>\n",
    "\n",
    "<font color='green'>✔️ и зеленый текст - все отлично</font>\n",
    "\n",
    "<font color='orange'>⚠️ и оранжевый текст - сделано все правильно, однако есть рекомендации, на что стоит обратить внимание</font>\n",
    "\n",
    "<font color='red'>❌ и красный текст - есть недочеты</font>\n",
    "\n",
    "\n",
    "</details>    \n",
    "    </br>\n",
    "<font color='blue'>Пожалуйста, не удаляй мои комментарии в случае возврата работы, так будет проще разобраться, какие были недочеты, а также сразу увидеть исправленное. </font>\n",
    "\n",
    "Ответы на мои комментарии лучше тоже помечать.\n",
    "Например: <font color='purple'><b>Комментарий студента</b></font>\n",
    "\n",
    "<font color='blue'><b>Давай смотреть, что получилось!</b></font>"
   ]
  },
  {
   "cell_type": "markdown",
   "id": "GEqQaHzsZ_bA",
   "metadata": {
    "id": "GEqQaHzsZ_bA"
   },
   "source": [
    "# Предсказание стоимости жилья\n",
    "\n",
    "В проекте вам нужно обучить модель линейной регрессии на данных о жилье в Калифорнии в 1990 году. На основе данных нужно предсказать медианную стоимость дома в жилом массиве. Обучите модель и сделайте предсказания на тестовой выборке. Для оценки качества модели используйте метрики RMSE, MAE и R2."
   ]
  },
  {
   "cell_type": "markdown",
   "id": "a3de7e85",
   "metadata": {},
   "source": [
    "## Импорт библиотек"
   ]
  },
  {
   "cell_type": "code",
   "execution_count": 3,
   "id": "9adb5165",
   "metadata": {},
   "outputs": [],
   "source": [
    "import pandas as pd \n",
    "import numpy as np\n",
    "import seaborn as sns\n",
    "\n",
    "import pyspark\n",
    "\n",
    "from pyspark.sql import SparkSession\n",
    "from pyspark.sql.types import *\n",
    "import pyspark.sql.functions as F\n",
    "\n",
    "from pyspark.ml.feature import OneHotEncoder \n",
    "from pyspark.ml.feature import StringIndexer, VectorAssembler, StandardScaler\n",
    "from pyspark.ml.regression import LinearRegression\n",
    "from pyspark.ml.evaluation import RegressionEvaluator\n",
    "\n",
    "RANDOM_SEED = 2023"
   ]
  },
  {
   "cell_type": "markdown",
   "id": "ed603024",
   "metadata": {},
   "source": [
    "<font color='blue'><b>Комментарий ревьюера: </b></font> ✔️\\\n",
    "<font color='green'> Хорошее оформление импортов! \\\n",
    "Импорты собраны в одной ячейке, разделены на функциональные группы пустой строкой.</font>"
   ]
  },
  {
   "cell_type": "markdown",
   "id": "f07a1d8d",
   "metadata": {},
   "source": [
    "## Инициализируем локальную Spark-сессию:"
   ]
  },
  {
   "cell_type": "code",
   "execution_count": 4,
   "id": "6a423432",
   "metadata": {},
   "outputs": [
    {
     "name": "stderr",
     "output_type": "stream",
     "text": [
      "23/03/03 17:33:38 WARN Utils: Service 'SparkUI' could not bind on port 4040. Attempting port 4041.\n"
     ]
    }
   ],
   "source": [
    "spark = SparkSession.builder \\\n",
    "                    .master(\"local\") \\\n",
    "                    .appName(\"LR California Housing\") \\\n",
    "                    .getOrCreate()"
   ]
  },
  {
   "cell_type": "markdown",
   "id": "bfdd8b10",
   "metadata": {},
   "source": [
    "## Изучение данных"
   ]
  },
  {
   "cell_type": "code",
   "execution_count": 5,
   "id": "8ddbe21b",
   "metadata": {},
   "outputs": [
    {
     "name": "stderr",
     "output_type": "stream",
     "text": [
      "[Stage 1:>                                                          (0 + 1) / 1]\r"
     ]
    },
    {
     "name": "stdout",
     "output_type": "stream",
     "text": [
      "root\n",
      " |-- longitude: double (nullable = true)\n",
      " |-- latitude: double (nullable = true)\n",
      " |-- housing_median_age: double (nullable = true)\n",
      " |-- total_rooms: double (nullable = true)\n",
      " |-- total_bedrooms: double (nullable = true)\n",
      " |-- population: double (nullable = true)\n",
      " |-- households: double (nullable = true)\n",
      " |-- median_income: double (nullable = true)\n",
      " |-- median_house_value: double (nullable = true)\n",
      " |-- ocean_proximity: string (nullable = true)\n",
      "\n"
     ]
    },
    {
     "name": "stderr",
     "output_type": "stream",
     "text": [
      "                                                                                \r"
     ]
    }
   ],
   "source": [
    "df_housing = spark.read.option('header', 'true').csv('/datasets/housing.csv', inferSchema = True) \n",
    "df_housing.printSchema()"
   ]
  },
  {
   "cell_type": "code",
   "execution_count": 6,
   "id": "8a89b71b",
   "metadata": {},
   "outputs": [
    {
     "data": {
      "text/html": [
       "<p class=\"value\" ><code>Описание столбцов</code></p>"
      ],
      "text/plain": [
       "<IPython.core.display.HTML object>"
      ]
     },
     "metadata": {},
     "output_type": "display_data"
    },
    {
     "data": {
      "text/markdown": [
       "<div class=\"color_code_content hide\"></div>"
      ],
      "text/plain": [
       "<IPython.core.display.Markdown object>"
      ]
     },
     "execution_count": 6,
     "metadata": {},
     "output_type": "execute_result"
    }
   ],
   "source": [
    "render('Описание столбцов')\n",
    "md('''<div class=\"color_code_content hide\"></div>''')"
   ]
  },
  {
   "cell_type": "markdown",
   "id": "12ef80f7",
   "metadata": {},
   "source": [
    "В колонках датасета содержатся следующие данные:\n",
    "\n",
    "- `longitude` — широта;\n",
    "- `latitude` — долгота;\n",
    "- `housing_median_age` — медианный возраст жителей жилого массива;\n",
    "- `total_rooms` — общее количество комнат в домах жилого массива;\n",
    "- `total_bedrooms` — общее количество спален в домах жилого массива;\n",
    "- `population` — количество человек, которые проживают в жилом массиве;\n",
    "- `households` — количество домовладений в жилом массиве;\n",
    "- `median_income` — медианный доход жителей жилого массива;\n",
    "- `median_house_value` — медианная стоимость дома в жилом массиве;\n",
    "- `ocean_proximity` — близость к океану.\n",
    "\n",
    "<div class=\"color_code_content columns\"></div>"
   ]
  },
  {
   "cell_type": "code",
   "execution_count": 7,
   "id": "1eee877b",
   "metadata": {},
   "outputs": [
    {
     "data": {
      "text/html": [
       "<p class=\"value\" ><code>Типы данных колонок</code></p>"
      ],
      "text/plain": [
       "<IPython.core.display.HTML object>"
      ]
     },
     "metadata": {},
     "output_type": "display_data"
    },
    {
     "data": {
      "text/markdown": [
       "<div class=\"color_code_content hide\"></div>"
      ],
      "text/plain": [
       "<IPython.core.display.Markdown object>"
      ]
     },
     "execution_count": 7,
     "metadata": {},
     "output_type": "execute_result"
    }
   ],
   "source": [
    "render('Типы данных колонок')\n",
    "md('''<div class=\"color_code_content hide\"></div>''')"
   ]
  },
  {
   "cell_type": "code",
   "execution_count": 8,
   "id": "0db5952b",
   "metadata": {},
   "outputs": [
    {
     "data": {
      "text/html": [
       "<style  type=\"text/css\" >\n",
       "</style><table id=\"T_186a2_\" class=\"table_border position_center_header\" data-title=\"Типы данных\" ><thead>    <tr>        <th class=\"blank level0\" ></th>        <th class=\"col_heading level0 col0\" >column</th>        <th class=\"col_heading level0 col1\" >type</th>    </tr></thead><tbody>\n",
       "                <tr>\n",
       "                        <th id=\"T_186a2_level0_row0\" class=\"row_heading level0 row0\" >0</th>\n",
       "                        <td id=\"T_186a2_row0_col0\" class=\"data row0 col0\" >longitude</td>\n",
       "                        <td id=\"T_186a2_row0_col1\" class=\"data row0 col1\" >double</td>\n",
       "            </tr>\n",
       "            <tr>\n",
       "                        <th id=\"T_186a2_level0_row1\" class=\"row_heading level0 row1\" >1</th>\n",
       "                        <td id=\"T_186a2_row1_col0\" class=\"data row1 col0\" >latitude</td>\n",
       "                        <td id=\"T_186a2_row1_col1\" class=\"data row1 col1\" >double</td>\n",
       "            </tr>\n",
       "            <tr>\n",
       "                        <th id=\"T_186a2_level0_row2\" class=\"row_heading level0 row2\" >2</th>\n",
       "                        <td id=\"T_186a2_row2_col0\" class=\"data row2 col0\" >housing_median_age</td>\n",
       "                        <td id=\"T_186a2_row2_col1\" class=\"data row2 col1\" >double</td>\n",
       "            </tr>\n",
       "            <tr>\n",
       "                        <th id=\"T_186a2_level0_row3\" class=\"row_heading level0 row3\" >3</th>\n",
       "                        <td id=\"T_186a2_row3_col0\" class=\"data row3 col0\" >total_rooms</td>\n",
       "                        <td id=\"T_186a2_row3_col1\" class=\"data row3 col1\" >double</td>\n",
       "            </tr>\n",
       "            <tr>\n",
       "                        <th id=\"T_186a2_level0_row4\" class=\"row_heading level0 row4\" >4</th>\n",
       "                        <td id=\"T_186a2_row4_col0\" class=\"data row4 col0\" >total_bedrooms</td>\n",
       "                        <td id=\"T_186a2_row4_col1\" class=\"data row4 col1\" >double</td>\n",
       "            </tr>\n",
       "            <tr>\n",
       "                        <th id=\"T_186a2_level0_row5\" class=\"row_heading level0 row5\" >5</th>\n",
       "                        <td id=\"T_186a2_row5_col0\" class=\"data row5 col0\" >population</td>\n",
       "                        <td id=\"T_186a2_row5_col1\" class=\"data row5 col1\" >double</td>\n",
       "            </tr>\n",
       "            <tr>\n",
       "                        <th id=\"T_186a2_level0_row6\" class=\"row_heading level0 row6\" >6</th>\n",
       "                        <td id=\"T_186a2_row6_col0\" class=\"data row6 col0\" >households</td>\n",
       "                        <td id=\"T_186a2_row6_col1\" class=\"data row6 col1\" >double</td>\n",
       "            </tr>\n",
       "            <tr>\n",
       "                        <th id=\"T_186a2_level0_row7\" class=\"row_heading level0 row7\" >7</th>\n",
       "                        <td id=\"T_186a2_row7_col0\" class=\"data row7 col0\" >median_income</td>\n",
       "                        <td id=\"T_186a2_row7_col1\" class=\"data row7 col1\" >double</td>\n",
       "            </tr>\n",
       "            <tr>\n",
       "                        <th id=\"T_186a2_level0_row8\" class=\"row_heading level0 row8\" >8</th>\n",
       "                        <td id=\"T_186a2_row8_col0\" class=\"data row8 col0\" >median_house_value</td>\n",
       "                        <td id=\"T_186a2_row8_col1\" class=\"data row8 col1\" >double</td>\n",
       "            </tr>\n",
       "            <tr>\n",
       "                        <th id=\"T_186a2_level0_row9\" class=\"row_heading level0 row9\" >9</th>\n",
       "                        <td id=\"T_186a2_row9_col0\" class=\"data row9 col0\" >ocean_proximity</td>\n",
       "                        <td id=\"T_186a2_row9_col1\" class=\"data row9 col1\" >string</td>\n",
       "            </tr>\n",
       "    </tbody></table>"
      ],
      "text/plain": [
       "<pandas.io.formats.style.Styler at 0x7f7507fce6a0>"
      ]
     },
     "metadata": {},
     "output_type": "display_data"
    },
    {
     "name": "stderr",
     "output_type": "stream",
     "text": [
      "                                                                                \r"
     ]
    },
    {
     "data": {
      "text/html": [
       "<style  type=\"text/css\" >\n",
       "#T_68c4b_row1_col10,#T_68c4b_row2_col10{\n",
       "            font-weight: bold;\n",
       "            text-transform:  capitalize;\n",
       "            color:  red;\n",
       "        }</style><table id=\"T_68c4b_\" class=\"table_border position_center_header\" data-title=\"Численные показатели метрик\" ><thead>    <tr>        <th class=\"blank level0\" ></th>        <th class=\"col_heading level0 col0\" >summary</th>        <th class=\"col_heading level0 col1\" >longitude</th>        <th class=\"col_heading level0 col2\" >latitude</th>        <th class=\"col_heading level0 col3\" >housing_median_age</th>        <th class=\"col_heading level0 col4\" >total_rooms</th>        <th class=\"col_heading level0 col5\" >total_bedrooms</th>        <th class=\"col_heading level0 col6\" >population</th>        <th class=\"col_heading level0 col7\" >households</th>        <th class=\"col_heading level0 col8\" >median_income</th>        <th class=\"col_heading level0 col9\" >median_house_value</th>        <th class=\"col_heading level0 col10\" >ocean_proximity</th>    </tr></thead><tbody>\n",
       "                <tr>\n",
       "                        <th id=\"T_68c4b_level0_row0\" class=\"row_heading level0 row0\" >0</th>\n",
       "                        <td id=\"T_68c4b_row0_col0\" class=\"data row0 col0\" >count</td>\n",
       "                        <td id=\"T_68c4b_row0_col1\" class=\"data row0 col1\" >20640</td>\n",
       "                        <td id=\"T_68c4b_row0_col2\" class=\"data row0 col2\" >20640</td>\n",
       "                        <td id=\"T_68c4b_row0_col3\" class=\"data row0 col3\" >20640</td>\n",
       "                        <td id=\"T_68c4b_row0_col4\" class=\"data row0 col4\" >20640</td>\n",
       "                        <td id=\"T_68c4b_row0_col5\" class=\"data row0 col5\" >20433</td>\n",
       "                        <td id=\"T_68c4b_row0_col6\" class=\"data row0 col6\" >20640</td>\n",
       "                        <td id=\"T_68c4b_row0_col7\" class=\"data row0 col7\" >20640</td>\n",
       "                        <td id=\"T_68c4b_row0_col8\" class=\"data row0 col8\" >20640</td>\n",
       "                        <td id=\"T_68c4b_row0_col9\" class=\"data row0 col9\" >20640</td>\n",
       "                        <td id=\"T_68c4b_row0_col10\" class=\"data row0 col10\" >20640</td>\n",
       "            </tr>\n",
       "            <tr>\n",
       "                        <th id=\"T_68c4b_level0_row1\" class=\"row_heading level0 row1\" >1</th>\n",
       "                        <td id=\"T_68c4b_row1_col0\" class=\"data row1 col0\" >mean</td>\n",
       "                        <td id=\"T_68c4b_row1_col1\" class=\"data row1 col1\" >-119.56970445736148</td>\n",
       "                        <td id=\"T_68c4b_row1_col2\" class=\"data row1 col2\" >35.6318614341087</td>\n",
       "                        <td id=\"T_68c4b_row1_col3\" class=\"data row1 col3\" >28.639486434108527</td>\n",
       "                        <td id=\"T_68c4b_row1_col4\" class=\"data row1 col4\" >2635.7630813953488</td>\n",
       "                        <td id=\"T_68c4b_row1_col5\" class=\"data row1 col5\" >537.8705525375618</td>\n",
       "                        <td id=\"T_68c4b_row1_col6\" class=\"data row1 col6\" >1425.4767441860465</td>\n",
       "                        <td id=\"T_68c4b_row1_col7\" class=\"data row1 col7\" >499.5396802325581</td>\n",
       "                        <td id=\"T_68c4b_row1_col8\" class=\"data row1 col8\" >3.8706710029070246</td>\n",
       "                        <td id=\"T_68c4b_row1_col9\" class=\"data row1 col9\" >206855.81690891474</td>\n",
       "                        <td id=\"T_68c4b_row1_col10\" class=\"data row1 col10\" >None</td>\n",
       "            </tr>\n",
       "            <tr>\n",
       "                        <th id=\"T_68c4b_level0_row2\" class=\"row_heading level0 row2\" >2</th>\n",
       "                        <td id=\"T_68c4b_row2_col0\" class=\"data row2 col0\" >stddev</td>\n",
       "                        <td id=\"T_68c4b_row2_col1\" class=\"data row2 col1\" >2.003531723502584</td>\n",
       "                        <td id=\"T_68c4b_row2_col2\" class=\"data row2 col2\" >2.135952397457101</td>\n",
       "                        <td id=\"T_68c4b_row2_col3\" class=\"data row2 col3\" >12.58555761211163</td>\n",
       "                        <td id=\"T_68c4b_row2_col4\" class=\"data row2 col4\" >2181.6152515827944</td>\n",
       "                        <td id=\"T_68c4b_row2_col5\" class=\"data row2 col5\" >421.38507007403115</td>\n",
       "                        <td id=\"T_68c4b_row2_col6\" class=\"data row2 col6\" >1132.46212176534</td>\n",
       "                        <td id=\"T_68c4b_row2_col7\" class=\"data row2 col7\" >382.3297528316098</td>\n",
       "                        <td id=\"T_68c4b_row2_col8\" class=\"data row2 col8\" >1.899821717945263</td>\n",
       "                        <td id=\"T_68c4b_row2_col9\" class=\"data row2 col9\" >115395.61587441359</td>\n",
       "                        <td id=\"T_68c4b_row2_col10\" class=\"data row2 col10\" >None</td>\n",
       "            </tr>\n",
       "            <tr>\n",
       "                        <th id=\"T_68c4b_level0_row3\" class=\"row_heading level0 row3\" >3</th>\n",
       "                        <td id=\"T_68c4b_row3_col0\" class=\"data row3 col0\" >min</td>\n",
       "                        <td id=\"T_68c4b_row3_col1\" class=\"data row3 col1\" >-124.35</td>\n",
       "                        <td id=\"T_68c4b_row3_col2\" class=\"data row3 col2\" >32.54</td>\n",
       "                        <td id=\"T_68c4b_row3_col3\" class=\"data row3 col3\" >1.0</td>\n",
       "                        <td id=\"T_68c4b_row3_col4\" class=\"data row3 col4\" >2.0</td>\n",
       "                        <td id=\"T_68c4b_row3_col5\" class=\"data row3 col5\" >1.0</td>\n",
       "                        <td id=\"T_68c4b_row3_col6\" class=\"data row3 col6\" >3.0</td>\n",
       "                        <td id=\"T_68c4b_row3_col7\" class=\"data row3 col7\" >1.0</td>\n",
       "                        <td id=\"T_68c4b_row3_col8\" class=\"data row3 col8\" >0.4999</td>\n",
       "                        <td id=\"T_68c4b_row3_col9\" class=\"data row3 col9\" >14999.0</td>\n",
       "                        <td id=\"T_68c4b_row3_col10\" class=\"data row3 col10\" ><1H OCEAN</td>\n",
       "            </tr>\n",
       "            <tr>\n",
       "                        <th id=\"T_68c4b_level0_row4\" class=\"row_heading level0 row4\" >4</th>\n",
       "                        <td id=\"T_68c4b_row4_col0\" class=\"data row4 col0\" >max</td>\n",
       "                        <td id=\"T_68c4b_row4_col1\" class=\"data row4 col1\" >-114.31</td>\n",
       "                        <td id=\"T_68c4b_row4_col2\" class=\"data row4 col2\" >41.95</td>\n",
       "                        <td id=\"T_68c4b_row4_col3\" class=\"data row4 col3\" >52.0</td>\n",
       "                        <td id=\"T_68c4b_row4_col4\" class=\"data row4 col4\" >39320.0</td>\n",
       "                        <td id=\"T_68c4b_row4_col5\" class=\"data row4 col5\" >6445.0</td>\n",
       "                        <td id=\"T_68c4b_row4_col6\" class=\"data row4 col6\" >35682.0</td>\n",
       "                        <td id=\"T_68c4b_row4_col7\" class=\"data row4 col7\" >6082.0</td>\n",
       "                        <td id=\"T_68c4b_row4_col8\" class=\"data row4 col8\" >15.0001</td>\n",
       "                        <td id=\"T_68c4b_row4_col9\" class=\"data row4 col9\" >500001.0</td>\n",
       "                        <td id=\"T_68c4b_row4_col10\" class=\"data row4 col10\" >NEAR OCEAN</td>\n",
       "            </tr>\n",
       "    </tbody></table>"
      ],
      "text/plain": [
       "<pandas.io.formats.style.Styler at 0x7f7507e066d0>"
      ]
     },
     "metadata": {},
     "output_type": "display_data"
    }
   ],
   "source": [
    "render(pd.DataFrame(df_housing.dtypes, columns=['column', 'type']), name=\"Типы данных\")\n",
    "render(df_housing.describe().toPandas(), name=\"Численные показатели метрик\")"
   ]
  },
  {
   "cell_type": "markdown",
   "id": "6e650698",
   "metadata": {},
   "source": [
    "<font color='blue'><b>Комментарий ревьюера: </b></font> ✔️\\\n",
    "<font color='green'> Отлично!  Выведены типы данных, статистика и первые строчки таблицы.</font>"
   ]
  },
  {
   "cell_type": "markdown",
   "id": "6a698b06",
   "metadata": {},
   "source": [
    "<font color='blue'><b>Комментарий ревьюера: </b></font> ✔️\\\n",
    "<font color='green'>Верно, что в Пандас попадают уже агрегированные данные.</font>"
   ]
  },
  {
   "cell_type": "markdown",
   "id": "dc875924",
   "metadata": {},
   "source": [
    "## Предобработка данных"
   ]
  },
  {
   "cell_type": "code",
   "execution_count": 9,
   "id": "f3cc5b72",
   "metadata": {},
   "outputs": [
    {
     "data": {
      "text/html": [
       "<p class=\"value\" ><code>Проверка на пропуски</code></p>"
      ],
      "text/plain": [
       "<IPython.core.display.HTML object>"
      ]
     },
     "metadata": {},
     "output_type": "display_data"
    },
    {
     "data": {
      "text/markdown": [
       "<div class=\"color_code_content hide\"></div>"
      ],
      "text/plain": [
       "<IPython.core.display.Markdown object>"
      ]
     },
     "execution_count": 9,
     "metadata": {},
     "output_type": "execute_result"
    }
   ],
   "source": [
    "render('Проверка на пропуски')\n",
    "md('''<div class=\"color_code_content hide\"></div>''')"
   ]
  },
  {
   "cell_type": "code",
   "execution_count": 10,
   "id": "ea696711",
   "metadata": {},
   "outputs": [
    {
     "data": {
      "text/html": [
       "<p class=\"value\" ><code>longitude 0</code></p>"
      ],
      "text/plain": [
       "<IPython.core.display.HTML object>"
      ]
     },
     "metadata": {},
     "output_type": "display_data"
    },
    {
     "data": {
      "text/html": [
       "<p class=\"value\" ><code>latitude 0</code></p>"
      ],
      "text/plain": [
       "<IPython.core.display.HTML object>"
      ]
     },
     "metadata": {},
     "output_type": "display_data"
    },
    {
     "data": {
      "text/html": [
       "<p class=\"value\" ><code>housing_median_age 0</code></p>"
      ],
      "text/plain": [
       "<IPython.core.display.HTML object>"
      ]
     },
     "metadata": {},
     "output_type": "display_data"
    },
    {
     "data": {
      "text/html": [
       "<p class=\"value\" ><code>total_rooms 0</code></p>"
      ],
      "text/plain": [
       "<IPython.core.display.HTML object>"
      ]
     },
     "metadata": {},
     "output_type": "display_data"
    },
    {
     "data": {
      "text/html": [
       "<p class=\"value\" ><code>total_bedrooms 207</code></p>"
      ],
      "text/plain": [
       "<IPython.core.display.HTML object>"
      ]
     },
     "metadata": {},
     "output_type": "display_data"
    },
    {
     "data": {
      "text/html": [
       "<p class=\"value\" ><code>population 0</code></p>"
      ],
      "text/plain": [
       "<IPython.core.display.HTML object>"
      ]
     },
     "metadata": {},
     "output_type": "display_data"
    },
    {
     "data": {
      "text/html": [
       "<p class=\"value\" ><code>households 0</code></p>"
      ],
      "text/plain": [
       "<IPython.core.display.HTML object>"
      ]
     },
     "metadata": {},
     "output_type": "display_data"
    },
    {
     "data": {
      "text/html": [
       "<p class=\"value\" ><code>median_income 0</code></p>"
      ],
      "text/plain": [
       "<IPython.core.display.HTML object>"
      ]
     },
     "metadata": {},
     "output_type": "display_data"
    },
    {
     "data": {
      "text/html": [
       "<p class=\"value\" ><code>median_house_value 0</code></p>"
      ],
      "text/plain": [
       "<IPython.core.display.HTML object>"
      ]
     },
     "metadata": {},
     "output_type": "display_data"
    },
    {
     "data": {
      "text/html": [
       "<p class=\"value\" ><code>ocean_proximity 0</code></p>"
      ],
      "text/plain": [
       "<IPython.core.display.HTML object>"
      ]
     },
     "metadata": {},
     "output_type": "display_data"
    }
   ],
   "source": [
    "columns = df_housing.columns\n",
    "\n",
    "counts = []\n",
    "\n",
    "for column in columns:\n",
    "    column_count = df_housing.where(F.isnan(column) | F.col(column).isNull()).count()\n",
    "    render(column, column_count)\n",
    "    if(column_count > 0):\n",
    "        ratio = int(column_count / df_housing.count()*100)\n",
    "        if(ratio < 20):\n",
    "            description = \"Строки с пустыми значениями можно заменить на стандартное значение, например 0\"\n",
    "        else:\n",
    "            description = \"Строки с пустыми значениями нельзя удалять, все данные важны\"\n",
    "        counts.append({\"name\":column, \"count\":column_count, \"ratio\":ratio, \"description\":description})"
   ]
  },
  {
   "cell_type": "markdown",
   "id": "77d46b95",
   "metadata": {},
   "source": [
    "<font color='blue'><b>Комментарий ревьюера: </b></font> ✔️\\\n",
    "<font color='green'>Обнаружены пропуски!</font>"
   ]
  },
  {
   "cell_type": "code",
   "execution_count": 11,
   "id": "766fc8e6",
   "metadata": {},
   "outputs": [
    {
     "data": {
      "text/markdown": [
       "\n",
       "<p class=\"paragraph_comment hide\">\n",
       "    <span>Как видим у столбцов: <br><span>- <b>total_bedrooms</b> пропусков: 207, а это 1% от общего количества, а это значит Строки с пустыми значениями можно заменить на стандартное значение, например 0</span><br></span>\n",
       "</p>\n"
      ],
      "text/plain": [
       "<IPython.core.display.Markdown object>"
      ]
     },
     "execution_count": 11,
     "metadata": {},
     "output_type": "execute_result"
    }
   ],
   "source": [
    "md('''\n",
    "<p class=\"paragraph_comment hide\">\n",
    "    <span>Как видим у столбцов: <br>{}</span>\n",
    "</p>\n",
    "'''.format(\n",
    "        ', '.join('<span>- <b>' + x[\"name\"] + '</b> пропусков: ' + str(x[\"count\"]) + ', а это ' + str(x[\"ratio\"]) + '% от общего количества, а это значит ' + x[\"description\"] + '</span><br>' for x in counts)\n",
    "    )\n",
    ")"
   ]
  },
  {
   "cell_type": "markdown",
   "id": "b6362365",
   "metadata": {},
   "source": [
    "<font color='blue'><b>Комментарий ревьюера: </b></font> ❌\\\n",
    "<font color='red'><s>По заданию пропуски нужно имменно заполнить, выбрав значения по своему усмотрению.</s></font>\n",
    "<br><font color='purple'><b>Исправил, заполнил нулями</b></font>"
   ]
  },
  {
   "cell_type": "code",
   "execution_count": 12,
   "id": "c6a9470d",
   "metadata": {},
   "outputs": [],
   "source": [
    "df_housing = df_housing.na.fill(value=0,subset=[\"total_bedrooms\"])"
   ]
  },
  {
   "cell_type": "markdown",
   "id": "b00aa5ea",
   "metadata": {},
   "source": [
    "<font color='blue'><b>Комментарий ревьюера 2: </b></font> ✔️\\\n",
    "<font color='green'>Заполнили пропуски!</font>"
   ]
  },
  {
   "cell_type": "markdown",
   "id": "2dfde5ef",
   "metadata": {},
   "source": [
    "<font color='blue'><b>Комментарий ревьюера 2: </b></font> ⚠️\\\n",
    "<font color='darkorange'>Медиану можно найти вот так:</font>\n",
    "`int(df_housing.approxQuantile('total_bedrooms', [0.5], 0)[0])`"
   ]
  },
  {
   "cell_type": "code",
   "execution_count": 13,
   "id": "a6cd9439",
   "metadata": {},
   "outputs": [
    {
     "data": {
      "text/html": [
       "<p class=\"value\" ><code>Снова проверим удаление</code></p>"
      ],
      "text/plain": [
       "<IPython.core.display.HTML object>"
      ]
     },
     "metadata": {},
     "output_type": "display_data"
    },
    {
     "data": {
      "text/markdown": [
       "<div class=\"color_code_content hide\"></div>"
      ],
      "text/plain": [
       "<IPython.core.display.Markdown object>"
      ]
     },
     "execution_count": 13,
     "metadata": {},
     "output_type": "execute_result"
    }
   ],
   "source": [
    "render('Снова проверим удаление')\n",
    "md('''<div class=\"color_code_content hide\"></div>''')"
   ]
  },
  {
   "cell_type": "code",
   "execution_count": 14,
   "id": "56826919",
   "metadata": {},
   "outputs": [
    {
     "data": {
      "text/html": [
       "<p class=\"value\" ><code>longitude 0</code></p>"
      ],
      "text/plain": [
       "<IPython.core.display.HTML object>"
      ]
     },
     "metadata": {},
     "output_type": "display_data"
    },
    {
     "data": {
      "text/html": [
       "<p class=\"value\" ><code>latitude 0</code></p>"
      ],
      "text/plain": [
       "<IPython.core.display.HTML object>"
      ]
     },
     "metadata": {},
     "output_type": "display_data"
    },
    {
     "data": {
      "text/html": [
       "<p class=\"value\" ><code>housing_median_age 0</code></p>"
      ],
      "text/plain": [
       "<IPython.core.display.HTML object>"
      ]
     },
     "metadata": {},
     "output_type": "display_data"
    },
    {
     "data": {
      "text/html": [
       "<p class=\"value\" ><code>total_rooms 0</code></p>"
      ],
      "text/plain": [
       "<IPython.core.display.HTML object>"
      ]
     },
     "metadata": {},
     "output_type": "display_data"
    },
    {
     "data": {
      "text/html": [
       "<p class=\"value\" ><code>total_bedrooms 0</code></p>"
      ],
      "text/plain": [
       "<IPython.core.display.HTML object>"
      ]
     },
     "metadata": {},
     "output_type": "display_data"
    },
    {
     "data": {
      "text/html": [
       "<p class=\"value\" ><code>population 0</code></p>"
      ],
      "text/plain": [
       "<IPython.core.display.HTML object>"
      ]
     },
     "metadata": {},
     "output_type": "display_data"
    },
    {
     "data": {
      "text/html": [
       "<p class=\"value\" ><code>households 0</code></p>"
      ],
      "text/plain": [
       "<IPython.core.display.HTML object>"
      ]
     },
     "metadata": {},
     "output_type": "display_data"
    },
    {
     "data": {
      "text/html": [
       "<p class=\"value\" ><code>median_income 0</code></p>"
      ],
      "text/plain": [
       "<IPython.core.display.HTML object>"
      ]
     },
     "metadata": {},
     "output_type": "display_data"
    },
    {
     "data": {
      "text/html": [
       "<p class=\"value\" ><code>median_house_value 0</code></p>"
      ],
      "text/plain": [
       "<IPython.core.display.HTML object>"
      ]
     },
     "metadata": {},
     "output_type": "display_data"
    },
    {
     "data": {
      "text/html": [
       "<p class=\"value\" ><code>ocean_proximity 0</code></p>"
      ],
      "text/plain": [
       "<IPython.core.display.HTML object>"
      ]
     },
     "metadata": {},
     "output_type": "display_data"
    }
   ],
   "source": [
    "for column in columns:\n",
    "    column_count = df_housing.where(F.isnan(column) | F.col(column).isNull()).count()\n",
    "    render(column, column_count)"
   ]
  },
  {
   "cell_type": "markdown",
   "id": "6021ee72",
   "metadata": {},
   "source": [
    "<p class=\"paragraph_comment hide\">\n",
    "    <span>Все отлично!</span>\n",
    "</p>"
   ]
  },
  {
   "cell_type": "code",
   "execution_count": 15,
   "id": "30617a04",
   "metadata": {},
   "outputs": [
    {
     "data": {
      "text/html": [
       "<p class=\"value\" ><code>Разделим столбцы на 3 типа: Таргет, Числовые и Текстовые</code></p>"
      ],
      "text/plain": [
       "<IPython.core.display.HTML object>"
      ]
     },
     "metadata": {},
     "output_type": "display_data"
    },
    {
     "data": {
      "text/markdown": [
       "<div class=\"color_code_content hide\"></div>"
      ],
      "text/plain": [
       "<IPython.core.display.Markdown object>"
      ]
     },
     "execution_count": 15,
     "metadata": {},
     "output_type": "execute_result"
    }
   ],
   "source": [
    "render('Разделим столбцы на 3 типа: Таргет, Числовые и Текстовые')\n",
    "md('''<div class=\"color_code_content hide\"></div>''')"
   ]
  },
  {
   "cell_type": "code",
   "execution_count": 16,
   "id": "2b3243d0",
   "metadata": {},
   "outputs": [],
   "source": [
    "# По условию задачи нам нужно определить \"... медианную стоимость дома в жилом массиве ...\"\n",
    "target_clmns = \"median_house_value\"\n",
    "\n",
    "# Столбец \"ocean_proximity\" имеет категориальные данные: Близость к океану, недольше часа и т.д.\n",
    "categorical_clmns = ['ocean_proximity']\n",
    "\n",
    "# Остальные столбцы можно отнести к числовым\n",
    "numerical_clmns  = [\"longitude\", \"latitude\", \"housing_median_age\", \"total_rooms\", \"total_bedrooms\", \"population\", \"households\", \"median_income\"]\n",
    "\n",
    "\n",
    "all_features = ['categorical_features','numerical_features_scaled']"
   ]
  },
  {
   "cell_type": "markdown",
   "id": "5438f327",
   "metadata": {},
   "source": [
    "### Напишу решение здесь, так как нужно все переделывать..."
   ]
  },
  {
   "cell_type": "code",
   "execution_count": 17,
   "id": "a40e5f8e",
   "metadata": {
    "scrolled": false
   },
   "outputs": [
    {
     "name": "stdout",
     "output_type": "stream",
     "text": [
      "\n"
     ]
    },
    {
     "name": "stderr",
     "output_type": "stream",
     "text": [
      "                                                                                \r"
     ]
    },
    {
     "data": {
      "text/html": [
       "<p class=\"value\" ><code>train_housing: 16519</code></p>"
      ],
      "text/plain": [
       "<IPython.core.display.HTML object>"
      ]
     },
     "metadata": {},
     "output_type": "display_data"
    },
    {
     "name": "stderr",
     "output_type": "stream",
     "text": [
      "                                                                                \r"
     ]
    },
    {
     "data": {
      "text/html": [
       "<div>\n",
       "<style scoped>\n",
       "    .dataframe tbody tr th:only-of-type {\n",
       "        vertical-align: middle;\n",
       "    }\n",
       "\n",
       "    .dataframe tbody tr th {\n",
       "        vertical-align: top;\n",
       "    }\n",
       "\n",
       "    .dataframe thead th {\n",
       "        text-align: right;\n",
       "    }\n",
       "</style>\n",
       "<table border=\"1\" class=\"dataframe\">\n",
       "  <thead>\n",
       "    <tr style=\"text-align: right;\">\n",
       "      <th></th>\n",
       "      <th>categorical_features</th>\n",
       "      <th>numerical_features_scaled</th>\n",
       "    </tr>\n",
       "  </thead>\n",
       "  <tbody>\n",
       "    <tr>\n",
       "      <th>0</th>\n",
       "      <td>(0.0, 0.0, 1.0, 0.0)</td>\n",
       "      <td>[-62.02964256566471, 18.99375002446522, 4.1369...</td>\n",
       "    </tr>\n",
       "    <tr>\n",
       "      <th>1</th>\n",
       "      <td>(0.0, 0.0, 1.0, 0.0)</td>\n",
       "      <td>[-62.004701012562315, 19.58408364634056, 1.511...</td>\n",
       "    </tr>\n",
       "    <tr>\n",
       "      <th>2</th>\n",
       "      <td>(0.0, 0.0, 1.0, 0.0)</td>\n",
       "      <td>[-62.004701012562315, 19.602824396241367, 1.35...</td>\n",
       "    </tr>\n",
       "    <tr>\n",
       "      <th>3</th>\n",
       "      <td>(0.0, 0.0, 1.0, 0.0)</td>\n",
       "      <td>[-61.98973608070087, 19.064027836593237, 2.864...</td>\n",
       "    </tr>\n",
       "    <tr>\n",
       "      <th>4</th>\n",
       "      <td>(0.0, 0.0, 1.0, 0.0)</td>\n",
       "      <td>[-61.984747770080396, 19.012490774366025, 4.13...</td>\n",
       "    </tr>\n",
       "    <tr>\n",
       "      <th>...</th>\n",
       "      <td>...</td>\n",
       "      <td>...</td>\n",
       "    </tr>\n",
       "    <tr>\n",
       "      <th>16514</th>\n",
       "      <td>(0.0, 1.0, 0.0, 0.0)</td>\n",
       "      <td>[-57.15107477883559, 15.760970666576469, 1.113...</td>\n",
       "    </tr>\n",
       "    <tr>\n",
       "      <th>16515</th>\n",
       "      <td>(0.0, 1.0, 0.0, 0.0)</td>\n",
       "      <td>[-57.14608646821512, 15.784396603952473, 1.352...</td>\n",
       "    </tr>\n",
       "    <tr>\n",
       "      <th>16516</th>\n",
       "      <td>(0.0, 1.0, 0.0, 0.0)</td>\n",
       "      <td>[-57.111168293871756, 15.915581853258105, 1.35...</td>\n",
       "    </tr>\n",
       "    <tr>\n",
       "      <th>16517</th>\n",
       "      <td>(0.0, 1.0, 0.0, 0.0)</td>\n",
       "      <td>[-57.1011916726308, 16.117044914691753, 1.5115...</td>\n",
       "    </tr>\n",
       "    <tr>\n",
       "      <th>16518</th>\n",
       "      <td>(0.0, 1.0, 0.0, 0.0)</td>\n",
       "      <td>[-57.021378702703124, 16.018655977712527, 1.19...</td>\n",
       "    </tr>\n",
       "  </tbody>\n",
       "</table>\n",
       "<p>16519 rows × 2 columns</p>\n",
       "</div>"
      ],
      "text/plain": [
       "       categorical_features                          numerical_features_scaled\n",
       "0      (0.0, 0.0, 1.0, 0.0)  [-62.02964256566471, 18.99375002446522, 4.1369...\n",
       "1      (0.0, 0.0, 1.0, 0.0)  [-62.004701012562315, 19.58408364634056, 1.511...\n",
       "2      (0.0, 0.0, 1.0, 0.0)  [-62.004701012562315, 19.602824396241367, 1.35...\n",
       "3      (0.0, 0.0, 1.0, 0.0)  [-61.98973608070087, 19.064027836593237, 2.864...\n",
       "4      (0.0, 0.0, 1.0, 0.0)  [-61.984747770080396, 19.012490774366025, 4.13...\n",
       "...                     ...                                                ...\n",
       "16514  (0.0, 1.0, 0.0, 0.0)  [-57.15107477883559, 15.760970666576469, 1.113...\n",
       "16515  (0.0, 1.0, 0.0, 0.0)  [-57.14608646821512, 15.784396603952473, 1.352...\n",
       "16516  (0.0, 1.0, 0.0, 0.0)  [-57.111168293871756, 15.915581853258105, 1.35...\n",
       "16517  (0.0, 1.0, 0.0, 0.0)  [-57.1011916726308, 16.117044914691753, 1.5115...\n",
       "16518  (0.0, 1.0, 0.0, 0.0)  [-57.021378702703124, 16.018655977712527, 1.19...\n",
       "\n",
       "[16519 rows x 2 columns]"
      ]
     },
     "metadata": {},
     "output_type": "display_data"
    },
    {
     "name": "stdout",
     "output_type": "stream",
     "text": [
      "\n"
     ]
    },
    {
     "data": {
      "text/html": [
       "<p class=\"value\" ><code>test_housing: 4121</code></p>"
      ],
      "text/plain": [
       "<IPython.core.display.HTML object>"
      ]
     },
     "metadata": {},
     "output_type": "display_data"
    },
    {
     "data": {
      "text/html": [
       "<div>\n",
       "<style scoped>\n",
       "    .dataframe tbody tr th:only-of-type {\n",
       "        vertical-align: middle;\n",
       "    }\n",
       "\n",
       "    .dataframe tbody tr th {\n",
       "        vertical-align: top;\n",
       "    }\n",
       "\n",
       "    .dataframe thead th {\n",
       "        text-align: right;\n",
       "    }\n",
       "</style>\n",
       "<table border=\"1\" class=\"dataframe\">\n",
       "  <thead>\n",
       "    <tr style=\"text-align: right;\">\n",
       "      <th></th>\n",
       "      <th>categorical_features</th>\n",
       "      <th>numerical_features_scaled</th>\n",
       "    </tr>\n",
       "  </thead>\n",
       "  <tbody>\n",
       "    <tr>\n",
       "      <th>0</th>\n",
       "      <td>(0.0, 0.0, 1.0, 0.0)</td>\n",
       "      <td>[-62.13684272387717, 19.47750137184652, 2.2140...</td>\n",
       "    </tr>\n",
       "    <tr>\n",
       "      <th>1</th>\n",
       "      <td>(0.0, 0.0, 1.0, 0.0)</td>\n",
       "      <td>[-62.11683408026942, 19.03408832839447, 2.6884...</td>\n",
       "    </tr>\n",
       "    <tr>\n",
       "      <th>2</th>\n",
       "      <td>(0.0, 0.0, 1.0, 0.0)</td>\n",
       "      <td>[-62.11183191936748, 19.043423339835567, 4.111...</td>\n",
       "    </tr>\n",
       "    <tr>\n",
       "      <th>3</th>\n",
       "      <td>(0.0, 0.0, 1.0, 0.0)</td>\n",
       "      <td>[-62.101827597563606, 19.024753316953376, 1.89...</td>\n",
       "    </tr>\n",
       "    <tr>\n",
       "      <th>4</th>\n",
       "      <td>(0.0, 0.0, 1.0, 0.0)</td>\n",
       "      <td>[-62.101827597563606, 19.03408832839447, 3.241...</td>\n",
       "    </tr>\n",
       "    <tr>\n",
       "      <th>...</th>\n",
       "      <td>...</td>\n",
       "      <td>...</td>\n",
       "    </tr>\n",
       "    <tr>\n",
       "      <th>4116</th>\n",
       "      <td>(0.0, 1.0, 0.0, 0.0)</td>\n",
       "      <td>[-57.34977474072225, 15.304751257676672, 1.660...</td>\n",
       "    </tr>\n",
       "    <tr>\n",
       "      <th>4117</th>\n",
       "      <td>(0.0, 1.0, 0.0, 0.0)</td>\n",
       "      <td>[-57.34977474072225, 15.682819221041056, 2.214...</td>\n",
       "    </tr>\n",
       "    <tr>\n",
       "      <th>4118</th>\n",
       "      <td>(0.0, 1.0, 0.0, 0.0)</td>\n",
       "      <td>[-57.329766097114494, 15.69215423248215, 1.265...</td>\n",
       "    </tr>\n",
       "    <tr>\n",
       "      <th>4119</th>\n",
       "      <td>(0.0, 1.0, 0.0, 0.0)</td>\n",
       "      <td>[-57.30975745350674, 15.645479175276673, 2.134...</td>\n",
       "    </tr>\n",
       "    <tr>\n",
       "      <th>4120</th>\n",
       "      <td>(0.0, 1.0, 0.0, 0.0)</td>\n",
       "      <td>[-57.299753131702865, 15.30941876339722, 1.502...</td>\n",
       "    </tr>\n",
       "  </tbody>\n",
       "</table>\n",
       "<p>4121 rows × 2 columns</p>\n",
       "</div>"
      ],
      "text/plain": [
       "      categorical_features                          numerical_features_scaled\n",
       "0     (0.0, 0.0, 1.0, 0.0)  [-62.13684272387717, 19.47750137184652, 2.2140...\n",
       "1     (0.0, 0.0, 1.0, 0.0)  [-62.11683408026942, 19.03408832839447, 2.6884...\n",
       "2     (0.0, 0.0, 1.0, 0.0)  [-62.11183191936748, 19.043423339835567, 4.111...\n",
       "3     (0.0, 0.0, 1.0, 0.0)  [-62.101827597563606, 19.024753316953376, 1.89...\n",
       "4     (0.0, 0.0, 1.0, 0.0)  [-62.101827597563606, 19.03408832839447, 3.241...\n",
       "...                    ...                                                ...\n",
       "4116  (0.0, 1.0, 0.0, 0.0)  [-57.34977474072225, 15.304751257676672, 1.660...\n",
       "4117  (0.0, 1.0, 0.0, 0.0)  [-57.34977474072225, 15.682819221041056, 2.214...\n",
       "4118  (0.0, 1.0, 0.0, 0.0)  [-57.329766097114494, 15.69215423248215, 1.265...\n",
       "4119  (0.0, 1.0, 0.0, 0.0)  [-57.30975745350674, 15.645479175276673, 2.134...\n",
       "4120  (0.0, 1.0, 0.0, 0.0)  [-57.299753131702865, 15.30941876339722, 1.502...\n",
       "\n",
       "[4121 rows x 2 columns]"
      ]
     },
     "metadata": {},
     "output_type": "display_data"
    },
    {
     "data": {
      "text/html": [
       "<p class=\"value\" ><code>Готовим модель, используя все данные</code></p>"
      ],
      "text/plain": [
       "<IPython.core.display.HTML object>"
      ]
     },
     "metadata": {},
     "output_type": "display_data"
    },
    {
     "name": "stderr",
     "output_type": "stream",
     "text": [
      "23/03/03 17:34:14 WARN Instrumentation: [1b5f0ddb] regParam is zero, which might cause numerical instability and overfitting.\n",
      "23/03/03 17:34:15 WARN BLAS: Failed to load implementation from: com.github.fommil.netlib.NativeSystemBLAS\n",
      "23/03/03 17:34:15 WARN BLAS: Failed to load implementation from: com.github.fommil.netlib.NativeRefBLAS\n",
      "23/03/03 17:34:15 WARN LAPACK: Failed to load implementation from: com.github.fommil.netlib.NativeSystemLAPACK\n",
      "23/03/03 17:34:15 WARN LAPACK: Failed to load implementation from: com.github.fommil.netlib.NativeRefLAPACK\n"
     ]
    },
    {
     "data": {
      "text/html": [
       "<p class=\"value\" ><code>Готово!</code></p>"
      ],
      "text/plain": [
       "<IPython.core.display.HTML object>"
      ]
     },
     "metadata": {},
     "output_type": "display_data"
    },
    {
     "data": {
      "text/html": [
       "<p class=\"value\" ><code>Готовим модель, используя только числовые значения</code></p>"
      ],
      "text/plain": [
       "<IPython.core.display.HTML object>"
      ]
     },
     "metadata": {},
     "output_type": "display_data"
    },
    {
     "name": "stderr",
     "output_type": "stream",
     "text": [
      "23/03/03 17:34:17 WARN Instrumentation: [c3a94743] regParam is zero, which might cause numerical instability and overfitting.\n"
     ]
    },
    {
     "data": {
      "text/html": [
       "<p class=\"value\" ><code>Готово!</code></p>"
      ],
      "text/plain": [
       "<IPython.core.display.HTML object>"
      ]
     },
     "metadata": {},
     "output_type": "display_data"
    }
   ],
   "source": [
    "#### Функция для трансформации данных\n",
    "def transform(data, all_features):\n",
    "    #### Трансформируем категориальные признаки в числовые\n",
    "\n",
    "    indexer = StringIndexer(inputCols=categorical_clmns, outputCols=[c + '_idx' for c in categorical_clmns]) \n",
    "    data = indexer.fit(data).transform(data)\n",
    "\n",
    "    #### Выполним OHE-кодирование\n",
    "    ohe = OneHotEncoder(inputCols=[c + '_idx' for c in categorical_clmns], outputCols=[c + '_ohe' for c in categorical_clmns])\n",
    "\n",
    "    data = ohe.fit(data).transform(data)\n",
    "    \n",
    "    #### Категориальные признаки объединим вектором\n",
    "    categorical_asmblr = VectorAssembler(inputCols=[c + '_ohe' for c in categorical_clmns], outputCol=\"categorical_features\")\n",
    "    data = categorical_asmblr.transform(data)\n",
    "    \n",
    "    numerical_asmblr = VectorAssembler(inputCols=numerical_clmns, outputCol=\"numerical_features\")\n",
    "    data = numerical_asmblr.transform(data)\n",
    "\n",
    "    standardScaler = StandardScaler(inputCol='numerical_features',outputCol=\"numerical_features_scaled\")\n",
    "    data = standardScaler.fit(data).transform(data) \n",
    "\n",
    "\n",
    "    # И вектор для них\n",
    "    final_asmblr = VectorAssembler(inputCols=all_features, outputCol=\"features\") \n",
    "    data = final_asmblr.transform(data)\n",
    "    \n",
    "    return data\n",
    "\n",
    "\n",
    "#### Разделим данные на тестовую и обучающую выборку    \n",
    "train_data, test_data = df_housing.randomSplit([.8,.2], seed=RANDOM_SEED)\n",
    "\n",
    "\n",
    "#### Трансформируем полученные данные\n",
    "\n",
    "\n",
    "print(\"\")\n",
    "\n",
    "train_housing = transform(train_data, all_features)\n",
    "render(\"train_housing:\", train_housing.count())\n",
    "display(train_housing.select(all_features).toPandas())\n",
    "\n",
    "print(\"\")\n",
    "\n",
    "test_housing = transform(test_data, all_features)\n",
    "render(\"test_housing:\", test_housing.count())\n",
    "display(test_housing.select(all_features).toPandas())\n",
    "\n",
    "# --------------------------------------------------------\n",
    "\n",
    "#### Обучаем модель\n",
    "\n",
    "render('Готовим модель, используя все данные')\n",
    "\n",
    "lr_1 = LinearRegression(labelCol=target_clmns, featuresCol='features',regParam=0.0)\n",
    "model = lr_1.fit(train_housing) \n",
    "predictions = model.transform(test_housing)\n",
    "render('Готово!')\n",
    "\n",
    "\n",
    "render('Готовим модель, используя только числовые значения')\n",
    "lr_2 = LinearRegression(labelCol=target_clmns, featuresCol='numerical_features_scaled', regParam=0.0)\n",
    "model2 = lr_2.fit(train_housing) \n",
    "predictions2 = model2.transform(test_housing)\n",
    "render('Готово!')"
   ]
  },
  {
   "cell_type": "code",
   "execution_count": 18,
   "id": "1f9e71c0",
   "metadata": {},
   "outputs": [
    {
     "data": {
      "text/html": [
       "<p class=\"value\" ><code>Разделим данные на тестовую и обучающую выборку</code></p>"
      ],
      "text/plain": [
       "<IPython.core.display.HTML object>"
      ]
     },
     "metadata": {},
     "output_type": "display_data"
    },
    {
     "data": {
      "text/markdown": [
       "<div class=\"color_code_content hide\"></div>"
      ],
      "text/plain": [
       "<IPython.core.display.Markdown object>"
      ]
     },
     "execution_count": 18,
     "metadata": {},
     "output_type": "execute_result"
    }
   ],
   "source": [
    "render('Разделим данные на тестовую и обучающую выборку')\n",
    "md('''<div class=\"color_code_content hide\"></div>''')"
   ]
  },
  {
   "cell_type": "code",
   "execution_count": null,
   "id": "c33ac867",
   "metadata": {},
   "outputs": [],
   "source": []
  },
  {
   "cell_type": "code",
   "execution_count": 19,
   "id": "0852b497",
   "metadata": {},
   "outputs": [
    {
     "data": {
      "text/html": [
       "<p class=\"value\" ><code>Преобразуем столбец категорий техникой One hot encoding</code></p>"
      ],
      "text/plain": [
       "<IPython.core.display.HTML object>"
      ]
     },
     "metadata": {},
     "output_type": "display_data"
    },
    {
     "data": {
      "text/markdown": [
       "<div class=\"color_code_content hide\"></div>"
      ],
      "text/plain": [
       "<IPython.core.display.Markdown object>"
      ]
     },
     "execution_count": 19,
     "metadata": {},
     "output_type": "execute_result"
    }
   ],
   "source": [
    "render('Преобразуем столбец категорий техникой One hot encoding')\n",
    "md('''<div class=\"color_code_content hide\"></div>''')"
   ]
  },
  {
   "cell_type": "code",
   "execution_count": 20,
   "id": "7b068abe",
   "metadata": {},
   "outputs": [],
   "source": [
    "# Трансформируем категориальные признаки в числовые\n",
    "\n",
    "#indexer = StringIndexer(inputCols=categorical_clmns, outputCols=[c + '_idx' for c in categorical_clmns]) \n",
    "#df_housing = indexer.fit(df_housing).transform(df_housing)\n",
    "\n",
    "# Выполним OHE-кодирование\n",
    "\n",
    "#ohe = OneHotEncoder(inputCols=[c + '_idx' for c in categorical_clmns], outputCols=[c + '_ohe' for c in categorical_clmns])\n",
    "\n",
    "#df_housing = ohe.fit(df_housing).transform(df_housing)"
   ]
  },
  {
   "cell_type": "markdown",
   "id": "246a6262",
   "metadata": {},
   "source": [
    "<font color='blue'><b>Комментарий ревьюера: </b></font> ❌\\\n",
    "<font color='red'>Кодирование и Стандартизацию нужно проводить после разделения на выборки трансформерами обучеными на обучающих данных.</font>\n",
    "<br><font color='purple'><b>Тут не соглашусь, делал все по инструкции к работе. По инструкции мы потом делим данные</b></font>"
   ]
  },
  {
   "cell_type": "markdown",
   "id": "32f49577",
   "metadata": {},
   "source": [
    "<font color='blue'><b>Комментарий ревьюера 2: </b></font> ❌\\\n",
    "<font color='blue'>В подготовке к проекту дан примерный алгоритм подготовкаи данных. Поскольку в курсе уже была работа и с OHE Энкодером и со Скалером, нужно применить ранеее полученные знания и модифицировть намеченый препроцессинг.\\\n",
    "Странно считать, что в теории будет готовый код к самостоятельному проекту )).</font>"
   ]
  },
  {
   "cell_type": "markdown",
   "id": "e39dc7a0",
   "metadata": {},
   "source": [
    "<font color='blue'><b>Комментарий ревьюера 2: </b></font> ⚠️\\\n",
    "<font color='blue'>Можно использовать [Pipeline](https://habr.com/ru/post/522296/)</font>\n",
    "<br><font color='purple'><b>По ссылке тоже после <i>OHE</i> делят данные.<br><br> Павел, а точно Кодирование делаем с тренировочными  и обучающими данными по отдельности? Даже по заданию Кодирование идет перед. Да и , честно, разницу не вижу, что мы делаем кодирование сразу, или потом после разбивки данных<br><br>Я короче, не совсем понял, что ты от меня хочешь.... :-(  да и срока на исправление у меня уже нет((</b></font>"
   ]
  },
  {
   "cell_type": "markdown",
   "id": "059f912e",
   "metadata": {},
   "source": [
    "<font color='blue'><b>Комментарий ревьюера 3: </b></font> ❌\\\n",
    "<font color='red'> По ссылке модель обучается через конвеер Pipeline, в этом случае предобработка идёт внутри конвеера, и предобработчики обучаются в зависимости от того обучается модель или предсказвает.\\\n",
    "Если у тебя есть воросы по проекту, можно задать их преподавателю или комюнити студентов.\\\n",
    "Требование о раздельной предобработке данных является стандартным для подготовки данных в ML и работа не может быть принята без его реализации.</font>"
   ]
  },
  {
   "attachments": {
    "image.png": {
     "image/png": "[encoded data removed]"
    }
   },
   "cell_type": "markdown",
   "id": "ba62ee17",
   "metadata": {},
   "source": [
    "![image.png](attachment:image.png)"
   ]
  },
  {
   "cell_type": "code",
   "execution_count": 21,
   "id": "344701e6",
   "metadata": {},
   "outputs": [],
   "source": [
    "#render(df_housing.limit(5).toPandas())"
   ]
  },
  {
   "cell_type": "markdown",
   "id": "219b1255",
   "metadata": {},
   "source": [
    "<font color='blue'><b>Комментарий ревьюера: </b></font> ❌\\\n",
    "<font color='red'><s>При использовании .toPandas() ты выгружаешь данные в оперативную память, что при работе с действительно большими данными приведет к переполнению памяти, этот метод применяется только к агрегированным таблицам(либо к ограниченным подвыборкам). Попробуй реализовать схожий функционал с применением методов pySpark.\n",
    "    </s></font>\n",
    "<br><font color='purple'><s>Исправил, вывел через show()</s></font>"
   ]
  },
  {
   "cell_type": "markdown",
   "id": "80386452",
   "metadata": {},
   "source": [
    "<font color='blue'><b>Комментарий ревьюера 2: </b></font> ⚠️\\\n",
    "<font color='darkorange'>Можно делать вот так: `df_housing.limit(5).toPandas()`</font>\n",
    "<br><font color='purple'><b>Исправил, вывел через limit :-)</b></font>"
   ]
  },
  {
   "cell_type": "code",
   "execution_count": 22,
   "id": "d67741fa",
   "metadata": {},
   "outputs": [
    {
     "data": {
      "text/html": [
       "<p class=\"value\" ><code>Категориальные признаки объединим вектором</code></p>"
      ],
      "text/plain": [
       "<IPython.core.display.HTML object>"
      ]
     },
     "metadata": {},
     "output_type": "display_data"
    },
    {
     "data": {
      "text/markdown": [
       "<div class=\"color_code_content hide\"></div>"
      ],
      "text/plain": [
       "<IPython.core.display.Markdown object>"
      ]
     },
     "execution_count": 22,
     "metadata": {},
     "output_type": "execute_result"
    }
   ],
   "source": [
    "render('Категориальные признаки объединим вектором')\n",
    "md('''<div class=\"color_code_content hide\"></div>''')"
   ]
  },
  {
   "cell_type": "code",
   "execution_count": 23,
   "id": "1b3e2ba1",
   "metadata": {},
   "outputs": [],
   "source": [
    "#categorical_asmblr = VectorAssembler(inputCols=[c + '_ohe' for c in categorical_clmns], outputCol=\"categorical_features\")\n",
    "#df_housing = categorical_asmblr.transform(df_housing)"
   ]
  },
  {
   "cell_type": "code",
   "execution_count": 24,
   "id": "1279d929",
   "metadata": {},
   "outputs": [],
   "source": [
    "#render(df_housing.limit(5).toPandas(), format='{:.2f}', position=\"center\")"
   ]
  },
  {
   "cell_type": "markdown",
   "id": "2cdc3736",
   "metadata": {},
   "source": [
    "<font color='blue'><b>Комментарий ревьюера 3: </b></font> ❌\\\n",
    "<font color='red'><s>При использовании .toPandas() ты выгружаешь данные в оперативную память, что при работе с действительно большими данными приведет к переполнению памяти, этот метод применяется только к агрегированным таблицам(либо к ограниченным подвыборкам). Попробуй реализовать схожий функционал с применением методов pySpark.\n",
    "    </s></font>\n",
    "<br><font color='purple'><b>Исправил, вывел через limit :-)</b></font>"
   ]
  },
  {
   "cell_type": "markdown",
   "id": "9f0a82f3",
   "metadata": {
    "id": "9f0a82f3"
   },
   "source": [
    "## Обучение моделей"
   ]
  },
  {
   "cell_type": "code",
   "execution_count": 25,
   "id": "8dee39af",
   "metadata": {
    "id": "bddb08c4"
   },
   "outputs": [],
   "source": [
    "#render('Чтобы выбросы в числовых признаках не влияли на обучение, необходимо их тоже трансформировать')\n",
    "#md('''<div class=\"color_code_content hide\"></div>''')"
   ]
  },
  {
   "cell_type": "code",
   "execution_count": 26,
   "id": "49ed9a06",
   "metadata": {},
   "outputs": [
    {
     "data": {
      "text/plain": [
       "'\\nnumerical_asmblr = VectorAssembler(inputCols=numerical_clmns, outputCol=\"numerical_features\")\\ndf_housing = numerical_asmblr.transform(df_housing)\\n\\nstandardScaler = StandardScaler(inputCol=\\'numerical_features\\',outputCol=\"numerical_features_scaled\")\\ndf_housing = standardScaler.fit(df_housing).transform(df_housing) \\n\\n\\n# И вектор для них\\nall_features = [\\'categorical_features\\',\\'numerical_features_scaled\\']\\n\\nfinal_asmblr = VectorAssembler(inputCols=all_features, outputCol=\"features\") \\ndf_housing = final_asmblr.transform(df_housing)\\n'"
      ]
     },
     "execution_count": 26,
     "metadata": {},
     "output_type": "execute_result"
    }
   ],
   "source": [
    "'''\n",
    "numerical_asmblr = VectorAssembler(inputCols=numerical_clmns, outputCol=\"numerical_features\")\n",
    "df_housing = numerical_asmblr.transform(df_housing)\n",
    "\n",
    "standardScaler = StandardScaler(inputCol='numerical_features',outputCol=\"numerical_features_scaled\")\n",
    "df_housing = standardScaler.fit(df_housing).transform(df_housing) \n",
    "\n",
    "\n",
    "# И вектор для них\n",
    "all_features = ['categorical_features','numerical_features_scaled']\n",
    "\n",
    "final_asmblr = VectorAssembler(inputCols=all_features, outputCol=\"features\") \n",
    "df_housing = final_asmblr.transform(df_housing)\n",
    "'''"
   ]
  },
  {
   "cell_type": "code",
   "execution_count": 27,
   "id": "5113e242",
   "metadata": {},
   "outputs": [],
   "source": [
    "#df_housing.select(all_features).toPandas()"
   ]
  },
  {
   "cell_type": "code",
   "execution_count": 28,
   "id": "40213df0",
   "metadata": {},
   "outputs": [],
   "source": [
    "#render('Для того, чтобы начать обучать, нам необходимо разделить данные для обучения и теста')\n",
    "#md('''<div class=\"color_code_content hide\"></div>''')"
   ]
  },
  {
   "cell_type": "code",
   "execution_count": 29,
   "id": "584d5243",
   "metadata": {},
   "outputs": [],
   "source": [
    "#train_data, test_data = df_housing.randomSplit([.8,.2], seed=RANDOM_SEED)\n",
    "#render(train_data.count(), test_data.count()) "
   ]
  },
  {
   "cell_type": "markdown",
   "id": "5f213371",
   "metadata": {},
   "source": [
    "<font color='blue'><b>Комментарий ревьюера: </b></font> ✔️\\\n",
    "<font color='green'> Здорово , что у нас есть выборка для тестов!</font>"
   ]
  },
  {
   "cell_type": "code",
   "execution_count": 30,
   "id": "e4f6eeb2",
   "metadata": {},
   "outputs": [],
   "source": [
    "#render('Готовим модель, используя все данные')\n",
    "#md('''<div class=\"color_code_content hide\"></div>''')"
   ]
  },
  {
   "cell_type": "code",
   "execution_count": 31,
   "id": "63839a10",
   "metadata": {},
   "outputs": [
    {
     "data": {
      "text/plain": [
       "\"\\nlr_1 = LinearRegression(labelCol=target_clmns, featuresCol='features',regParam=0.0)\\nmodel = lr_1.fit(train_data) \\npredictions = model.transform(test_data)\\nrender('Готово!')\\n\""
      ]
     },
     "execution_count": 31,
     "metadata": {},
     "output_type": "execute_result"
    }
   ],
   "source": [
    "'''\n",
    "lr_1 = LinearRegression(labelCol=target_clmns, featuresCol='features',regParam=0.0)\n",
    "model = lr_1.fit(train_data) \n",
    "predictions = model.transform(test_data)\n",
    "render('Готово!')\n",
    "'''"
   ]
  },
  {
   "cell_type": "code",
   "execution_count": 32,
   "id": "9eb8cb54",
   "metadata": {},
   "outputs": [],
   "source": [
    "#render('Готовим модель, используя только числовые значения')\n",
    "#md('''<div class=\"color_code_content hide\"></div>''')"
   ]
  },
  {
   "cell_type": "code",
   "execution_count": 33,
   "id": "6d9bb3d5",
   "metadata": {},
   "outputs": [
    {
     "data": {
      "text/plain": [
       "\"\\nlr_2 = LinearRegression(labelCol=target_clmns, featuresCol='numerical_features_scaled', regParam=0.0)\\nmodel2 = lr_2.fit(train_data) \\npredictions2 = model2.transform(test_data)\\nrender('Готово!')\\n\""
      ]
     },
     "execution_count": 33,
     "metadata": {},
     "output_type": "execute_result"
    }
   ],
   "source": [
    "'''\n",
    "lr_2 = LinearRegression(labelCol=target_clmns, featuresCol='numerical_features_scaled', regParam=0.0)\n",
    "model2 = lr_2.fit(train_data) \n",
    "predictions2 = model2.transform(test_data)\n",
    "render('Готово!')\n",
    "'''"
   ]
  },
  {
   "cell_type": "markdown",
   "id": "757fd103",
   "metadata": {
    "id": "757fd103"
   },
   "source": [
    "## Анализ результатов"
   ]
  },
  {
   "cell_type": "code",
   "execution_count": 34,
   "id": "39753927",
   "metadata": {},
   "outputs": [],
   "source": [
    "# Эвалуатор\n",
    "predictions_clmn = 'prediction'\n",
    "re = RegressionEvaluator(predictionCol=predictions_clmn, labelCol = target_clmns)"
   ]
  },
  {
   "cell_type": "code",
   "execution_count": 35,
   "id": "d2c7ad26",
   "metadata": {},
   "outputs": [
    {
     "data": {
      "text/html": [
       "<p class=\"value\" ><code>Сравним результаты по метрике RMSE</code></p>"
      ],
      "text/plain": [
       "<IPython.core.display.HTML object>"
      ]
     },
     "metadata": {},
     "output_type": "display_data"
    },
    {
     "data": {
      "text/markdown": [
       "<div class=\"color_code_content hide\"></div>"
      ],
      "text/plain": [
       "<IPython.core.display.Markdown object>"
      ]
     },
     "execution_count": 35,
     "metadata": {},
     "output_type": "execute_result"
    }
   ],
   "source": [
    "render('Сравним результаты по метрике RMSE')\n",
    "md('''<div class=\"color_code_content hide\"></div>''')"
   ]
  },
  {
   "cell_type": "code",
   "execution_count": 36,
   "id": "11afe5b6",
   "metadata": {},
   "outputs": [
    {
     "data": {
      "text/html": [
       "<p class=\"value\" ><code>Для первой: 71598.47109414783</code></p>"
      ],
      "text/plain": [
       "<IPython.core.display.HTML object>"
      ]
     },
     "metadata": {},
     "output_type": "display_data"
    },
    {
     "data": {
      "text/html": [
       "<p class=\"value\" ><code>Для второй: 75101.61745324767</code></p>"
      ],
      "text/plain": [
       "<IPython.core.display.HTML object>"
      ]
     },
     "metadata": {},
     "output_type": "display_data"
    }
   ],
   "source": [
    "# Для первой\n",
    "render('Для первой:', re.evaluate(predictions, {re.metricName: \"rmse\"}))\n",
    "\n",
    "# Для второй\n",
    "render('Для второй:', re.evaluate(predictions2, {re.metricName: \"rmse\"}))"
   ]
  },
  {
   "cell_type": "markdown",
   "id": "b02f3992",
   "metadata": {},
   "source": [
    "<p class=\"paragraph_comment hide\">\n",
    "    <span>Как видим, первая модель работает чуть точнее!</span>\n",
    "</p>"
   ]
  },
  {
   "cell_type": "code",
   "execution_count": 37,
   "id": "2df2e75d",
   "metadata": {},
   "outputs": [
    {
     "data": {
      "text/html": [
       "<p class=\"value\" ><code>Сравним результаты по метрике MAE</code></p>"
      ],
      "text/plain": [
       "<IPython.core.display.HTML object>"
      ]
     },
     "metadata": {},
     "output_type": "display_data"
    },
    {
     "data": {
      "text/markdown": [
       "<div class=\"color_code_content hide\"></div>"
      ],
      "text/plain": [
       "<IPython.core.display.Markdown object>"
      ]
     },
     "execution_count": 37,
     "metadata": {},
     "output_type": "execute_result"
    }
   ],
   "source": [
    "render('Сравним результаты по метрике MAE')\n",
    "md('''<div class=\"color_code_content hide\"></div>''')"
   ]
  },
  {
   "cell_type": "code",
   "execution_count": 38,
   "id": "d1d7d9a4",
   "metadata": {},
   "outputs": [
    {
     "data": {
      "text/html": [
       "<p class=\"value\" ><code>Для первой: 55129.348702496056</code></p>"
      ],
      "text/plain": [
       "<IPython.core.display.HTML object>"
      ]
     },
     "metadata": {},
     "output_type": "display_data"
    },
    {
     "data": {
      "text/html": [
       "<p class=\"value\" ><code>Для второй: 59731.54929534101</code></p>"
      ],
      "text/plain": [
       "<IPython.core.display.HTML object>"
      ]
     },
     "metadata": {},
     "output_type": "display_data"
    }
   ],
   "source": [
    "# Для первой\n",
    "render('Для первой:', re.evaluate(predictions, {re.metricName: \"mae\"}))\n",
    "\n",
    "# Для второй\n",
    "render('Для второй:', re.evaluate(predictions2, {re.metricName: \"mae\"}))"
   ]
  },
  {
   "cell_type": "markdown",
   "id": "513241ab",
   "metadata": {},
   "source": [
    "<p class=\"paragraph_comment hide\">\n",
    "    <span>Как и с метрикой RMSE первая модель работает лучше</span>\n",
    "</p>"
   ]
  },
  {
   "cell_type": "code",
   "execution_count": 39,
   "id": "395052cc",
   "metadata": {},
   "outputs": [
    {
     "data": {
      "text/html": [
       "<p class=\"value\" ><code>Сравним результаты по метрике R2</code></p>"
      ],
      "text/plain": [
       "<IPython.core.display.HTML object>"
      ]
     },
     "metadata": {},
     "output_type": "display_data"
    },
    {
     "data": {
      "text/markdown": [
       "<div class=\"color_code_content hide\"></div>"
      ],
      "text/plain": [
       "<IPython.core.display.Markdown object>"
      ]
     },
     "execution_count": 39,
     "metadata": {},
     "output_type": "execute_result"
    }
   ],
   "source": [
    "render('Сравним результаты по метрике R2')\n",
    "md('''<div class=\"color_code_content hide\"></div>''')"
   ]
  },
  {
   "cell_type": "code",
   "execution_count": 40,
   "id": "e1d03ba4",
   "metadata": {
    "scrolled": true
   },
   "outputs": [
    {
     "data": {
      "text/html": [
       "<p class=\"value\" ><code>Для первой: 0.6216246581252474</code></p>"
      ],
      "text/plain": [
       "<IPython.core.display.HTML object>"
      ]
     },
     "metadata": {},
     "output_type": "display_data"
    },
    {
     "data": {
      "text/html": [
       "<p class=\"value\" ><code>Для второй: 0.5836928113548924</code></p>"
      ],
      "text/plain": [
       "<IPython.core.display.HTML object>"
      ]
     },
     "metadata": {},
     "output_type": "display_data"
    }
   ],
   "source": [
    "# Для первой\n",
    "render('Для первой:', re.evaluate(predictions, {re.metricName: \"r2\"}))\n",
    "\n",
    "# Для второй\n",
    "render('Для второй:', re.evaluate(predictions2, {re.metricName: \"r2\"}))"
   ]
  },
  {
   "cell_type": "markdown",
   "id": "8de9f57d",
   "metadata": {},
   "source": [
    "<p class=\"paragraph_comment hide\">\n",
    "    <span><b>Вывод по результатам метрик</b></span><br>\n",
    "    <span>Во всех испытаниях лучшие показатели были у первой модели</span>\n",
    "</p>"
   ]
  },
  {
   "cell_type": "markdown",
   "id": "10d696ef",
   "metadata": {},
   "source": [
    "<font color='blue'><b>Комментарий ревьюера :</b></font> ✔️\\\n",
    "<font color='green'>Тестирование проведено верно.</font>"
   ]
  },
  {
   "cell_type": "markdown",
   "id": "de819d94",
   "metadata": {},
   "source": [
    "## Останавливаем сессию"
   ]
  },
  {
   "cell_type": "code",
   "execution_count": 41,
   "id": "9e539a03",
   "metadata": {},
   "outputs": [],
   "source": [
    "spark.stop()"
   ]
  },
  {
   "cell_type": "markdown",
   "id": "45f0a8f2",
   "metadata": {},
   "source": [
    "<font color='blue'><b>Комментарий ревьюера 2: </b></font> ✔️\\\n",
    "<font color='green'>Здорово, что не забываешь останавливать сессию!</font>"
   ]
  },
  {
   "cell_type": "markdown",
   "id": "8beff229",
   "metadata": {},
   "source": [
    "## Общий вывод"
   ]
  },
  {
   "cell_type": "markdown",
   "id": "5952d434",
   "metadata": {},
   "source": [
    "<div class=\"total\">\n",
    "    <div class=\"banner\">&nbsp;</div>\n",
    "    <div class=\"description\">\n",
    "        <p>В рамках данной работы были выполнены следующие задачи:</p><br>\n",
    "        <span>- Считаны данные</span><br>\n",
    "        <span>- Проинициализировали локальную Spark-сессию</span><br>\n",
    "        <span>- Изучили данные</span><br>\n",
    "        <span>-  Предобработали данные</span><br>\n",
    "        <span>-  Удалили строки с пропусками</span><br>\n",
    "        <span>-  Обучили модели</span><br>\n",
    "        <span>-  Проанализировали полученные данные</span><br>\n",
    "        <span>-  Проверили модели по метрикам <b>RMSE, MAE и R2</b></span><br>\n",
    "        <span>-  Выбрали лучшую модель</span><br>\n",
    "        <span>-  Остановили сессию</span><br>\n",
    "        <p>Исходя из всего перечисленного и согласно результатам метрик, <b>лучшей моделью, выбрана та модель, которая  использует все данные из файла</b></p><br>\n",
    "    </div>\n",
    "</div>"
   ]
  },
  {
   "cell_type": "markdown",
   "id": "a14f013c",
   "metadata": {},
   "source": [
    "<font color='blue'><b>Комментарий ревьюера : </b></font> ✔️\\\n",
    "<font color='green'> Очень приятно видеть вывод в конце проекта!\\\n",
    "Приведены ответы на главные вопросы проекта.</font>"
   ]
  },
  {
   "cell_type": "markdown",
   "id": "490788ef",
   "metadata": {},
   "source": [
    "<font color='blue'><b>Итоговый комментарий ревьюера 4</b></font>\\\n",
    "<font color='green'> Алексей, к сожалению не нашёл исправлений.\n",
    "</font>\n",
    "\n",
    "<font color='blue'>Задача осталась прежней:</font>\n",
    "<ul><font color='red'>Стандартизация и Кодировка для train и test по отдельности обработчиком обученным на train.</font></ul>\n",
    "\n",
    "<font color='blue'>Что можно сделать лучше:</font>\n",
    "<font color='orange'>В работе я оставил несколько советов. Буду рад, если ты учтешь их.</font></ul>\n",
    "\n",
    "<font color='blue'><b>Жду новую версию проекта :)</b></font>\n",
    "\n",
    "\n",
    "<br><font color='purple'><b>Вот <a href=\"https://k8s.jupyterhub.praktikum-services.ru/user/user-0-469950399/notebooks/94c7b66e-da95-4d60-bb0a-1698f54918b4.ipynb#Напишу решение здесь, так как нужно все переделывать...\">здесь</a> же все сделал, как ты просил... разделил, трансформировал, обучил... Что еще надо????</b></font>\n"
   ]
  },
  {
   "attachments": {
    "image.png": {
     "image/png": "[encoded data removed]"
    }
   },
   "cell_type": "markdown",
   "id": "3cad3a0e",
   "metadata": {},
   "source": [
    "![image.png](attachment:image.png)"
   ]
  },
  {
   "cell_type": "markdown",
   "id": "68b04ddf",
   "metadata": {},
   "source": []
  },
  {
   "cell_type": "markdown",
   "id": "02f4a882",
   "metadata": {},
   "source": [
    "<font color='blue'><b>Итоговый комментарий ревьюера 3</b></font>\\\n",
    "<font color='green'> Алексей, большое спасибо за доработку.\n",
    "</font>\n",
    "\n",
    "<font color='blue'>Что нужно исправить:</font>\n",
    "<ul><font color='red'>Стандартизация и Кодировка для train и test по отдельности обработчиком обученным на train.</font></ul>\n",
    "\n",
    "<font color='blue'>Что можно сделать лучше:</font>\n",
    "<font color='orange'>В работе я оставил несколько советов. Буду рад, если ты учтешь их.</font></ul>\n",
    "\n",
    "<font color='blue'><b>Жду новую версию проекта :)</b></font>"
   ]
  },
  {
   "cell_type": "markdown",
   "id": "be3f1f6e",
   "metadata": {},
   "source": [
    "<font color='blue'><b>Итоговый комментарий ревьюера 2</b></font>\\\n",
    "<font color='green'> Алексей, большое спасибо за доработку. Пропуски заполнены, полные данные в память не грузятся!\n",
    "</font>\n",
    "\n",
    "<font color='blue'>Что нужно исправить:</font>\n",
    "<ul><font color='red'>Стандартизация и Кодировка для train и test по отдельности обработчиком обученным на train.</font></ul>\n",
    "\n",
    "<font color='blue'>Что можно сделать лучше:</font>\n",
    "<font color='orange'>В работе я оставил несколько советов. Буду рад, если ты учтешь их.</font></ul>\n",
    "\n",
    "<font color='blue'><b>Жду новую версию проекта :)</b></font>"
   ]
  },
  {
   "cell_type": "markdown",
   "id": "7171c324",
   "metadata": {},
   "source": [
    "<font color='blue'><b>Итоговый комментарий ревьюера</b></font>\\\n",
    "<font color='green'> Алексей, хороший проект получился!\n",
    "Большое спасибо за проделанную работу. Видно, что приложено много усилий.\n",
    "</font>\n",
    "\n",
    "<font color='blue'>Что нужно исправить:</font>\n",
    "<ul><font color='red'>Заполни пропуски.</font></ul>\n",
    "<ul><font color='red'>Поправь работу с данными(toPandas только для агрегированных данных).</font></ul>\n",
    "<ul><font color='red'>Стандартизация и Кодировка для train и test по отдельности обработчиком обученным на train.</font></ul>\n",
    "\n",
    "<font color='blue'>Что можно сделать лучше:</font>\n",
    "<font color='orange'>В работе я оставил несколько советов. Буду рад, если ты учтешь их.</font></ul>\n",
    "\n",
    "<font color='darkorange'>Не забывай останавливать сессию `spark.stop()`</font>\n",
    "<br><font color='purple'><b>Исправил, остановил сессию</b></font>\n",
    "\n",
    "<font color='blue'><b>Жду новую версию проекта :)</b></font>"
   ]
  }
 ],
 "metadata": {
  "ExecuteTimeLog": [
   {
    "duration": 59,
    "start_time": "2023-02-28T22:26:46.960Z"
   },
   {
    "duration": 19,
    "start_time": "2023-02-28T22:45:29.456Z"
   },
   {
    "duration": 14,
    "start_time": "2023-02-28T22:47:07.114Z"
   },
   {
    "duration": 523,
    "start_time": "2023-02-28T22:48:12.088Z"
   },
   {
    "duration": 25,
    "start_time": "2023-02-28T22:48:48.118Z"
   },
   {
    "duration": 30,
    "start_time": "2023-02-28T22:49:06.170Z"
   },
   {
    "duration": 46,
    "start_time": "2023-02-28T22:53:26.730Z"
   },
   {
    "duration": 14,
    "start_time": "2023-02-28T22:57:20.170Z"
   },
   {
    "duration": 20,
    "start_time": "2023-02-28T22:58:33.403Z"
   },
   {
    "duration": 50,
    "start_time": "2023-02-28T22:58:52.581Z"
   },
   {
    "duration": 14,
    "start_time": "2023-02-28T23:00:10.322Z"
   },
   {
    "duration": 66,
    "start_time": "2023-02-28T23:00:17.046Z"
   },
   {
    "duration": 38,
    "start_time": "2023-02-28T23:02:26.010Z"
   },
   {
    "duration": 14,
    "start_time": "2023-02-28T23:03:47.877Z"
   },
   {
    "duration": 29,
    "start_time": "2023-02-28T23:04:50.190Z"
   },
   {
    "duration": 522,
    "start_time": "2023-02-28T23:04:50.222Z"
   },
   {
    "duration": 48,
    "start_time": "2023-02-28T23:04:50.745Z"
   },
   {
    "duration": 811,
    "start_time": "2023-02-28T23:15:50.587Z"
   },
   {
    "duration": 5,
    "start_time": "2023-02-28T23:17:46.931Z"
   },
   {
    "duration": 15822,
    "start_time": "2023-02-28T23:18:22.410Z"
   },
   {
    "duration": 9887,
    "start_time": "2023-02-28T23:18:58.721Z"
   },
   {
    "duration": 16,
    "start_time": "2023-02-28T23:30:53.738Z"
   },
   {
    "duration": 15,
    "start_time": "2023-02-28T23:34:18.600Z"
   },
   {
    "duration": 25,
    "start_time": "2023-02-28T23:34:29.087Z"
   },
   {
    "duration": 513,
    "start_time": "2023-02-28T23:34:29.114Z"
   },
   {
    "duration": 807,
    "start_time": "2023-02-28T23:34:29.628Z"
   },
   {
    "duration": 15797,
    "start_time": "2023-02-28T23:34:30.437Z"
   },
   {
    "duration": 9668,
    "start_time": "2023-02-28T23:34:46.237Z"
   },
   {
    "duration": 58,
    "start_time": "2023-02-28T23:34:55.908Z"
   },
   {
    "duration": 16,
    "start_time": "2023-02-28T23:36:05.370Z"
   },
   {
    "duration": 46,
    "start_time": "2023-02-28T23:39:21.054Z"
   },
   {
    "duration": 46,
    "start_time": "2023-02-28T23:39:58.912Z"
   },
   {
    "duration": 50,
    "start_time": "2023-02-28T23:41:17.155Z"
   },
   {
    "duration": 15,
    "start_time": "2023-02-28T23:45:17.285Z"
   },
   {
    "duration": 13,
    "start_time": "2023-02-28T23:45:44.172Z"
   },
   {
    "duration": 15,
    "start_time": "2023-02-28T23:46:33.652Z"
   },
   {
    "duration": 82,
    "start_time": "2023-02-28T23:49:32.251Z"
   },
   {
    "duration": 5989,
    "start_time": "2023-02-28T23:50:26.723Z"
   },
   {
    "duration": 2204,
    "start_time": "2023-02-28T23:50:52.931Z"
   },
   {
    "duration": 1443,
    "start_time": "2023-02-28T23:51:04.372Z"
   },
   {
    "duration": 1044,
    "start_time": "2023-02-28T23:51:19.379Z"
   },
   {
    "duration": 1658,
    "start_time": "2023-02-28T23:52:36.186Z"
   },
   {
    "duration": 5285,
    "start_time": "2023-02-28T23:54:08.858Z"
   },
   {
    "duration": 3032,
    "start_time": "2023-02-28T23:55:18.647Z"
   },
   {
    "duration": 2435,
    "start_time": "2023-02-28T23:55:32.924Z"
   },
   {
    "duration": 50,
    "start_time": "2023-02-28T23:57:47.324Z"
   },
   {
    "duration": 15,
    "start_time": "2023-03-01T00:04:08.829Z"
   },
   {
    "duration": 29,
    "start_time": "2023-03-01T00:06:31.248Z"
   },
   {
    "duration": 42,
    "start_time": "2023-03-01T00:07:52.742Z"
   },
   {
    "duration": 2136,
    "start_time": "2023-03-01T00:15:37.605Z"
   },
   {
    "duration": 13,
    "start_time": "2023-03-01T00:17:40.008Z"
   },
   {
    "duration": 32,
    "start_time": "2023-03-01T00:17:54.398Z"
   },
   {
    "duration": 211,
    "start_time": "2023-03-01T00:20:19.095Z"
   },
   {
    "duration": 61,
    "start_time": "2023-03-01T00:20:42.079Z"
   },
   {
    "duration": 46,
    "start_time": "2023-03-01T00:20:48.015Z"
   },
   {
    "duration": 132,
    "start_time": "2023-03-01T00:21:03.710Z"
   },
   {
    "duration": 155,
    "start_time": "2023-03-01T00:21:47.285Z"
   },
   {
    "duration": 129,
    "start_time": "2023-03-01T00:22:10.231Z"
   },
   {
    "duration": 66,
    "start_time": "2023-03-01T00:22:23.190Z"
   },
   {
    "duration": 136,
    "start_time": "2023-03-01T00:22:34.800Z"
   },
   {
    "duration": 165,
    "start_time": "2023-03-01T00:23:01.983Z"
   },
   {
    "duration": 12,
    "start_time": "2023-03-01T00:30:28.190Z"
   },
   {
    "duration": 1868,
    "start_time": "2023-03-01T00:30:53.977Z"
   },
   {
    "duration": 28,
    "start_time": "2023-03-01T00:30:57.867Z"
   },
   {
    "duration": 16,
    "start_time": "2023-03-01T00:31:55.754Z"
   },
   {
    "duration": 50,
    "start_time": "2023-03-01T00:32:29.675Z"
   },
   {
    "duration": 3034,
    "start_time": "2023-03-01T00:32:57.032Z"
   },
   {
    "duration": 55,
    "start_time": "2023-03-01T00:36:16.608Z"
   },
   {
    "duration": 2,
    "start_time": "2023-03-01T00:36:45.472Z"
   },
   {
    "duration": 3,
    "start_time": "2023-03-01T00:45:58.124Z"
   },
   {
    "duration": 45,
    "start_time": "2023-03-01T00:47:19.279Z"
   },
   {
    "duration": 11,
    "start_time": "2023-03-01T00:49:49.563Z"
   },
   {
    "duration": 17,
    "start_time": "2023-03-01T00:50:51.805Z"
   },
   {
    "duration": 3,
    "start_time": "2023-03-01T00:50:56.431Z"
   },
   {
    "duration": 3520,
    "start_time": "2023-03-01T00:50:59.043Z"
   },
   {
    "duration": 54,
    "start_time": "2023-03-01T00:51:45.862Z"
   },
   {
    "duration": 89,
    "start_time": "2023-03-01T00:51:54.701Z"
   },
   {
    "duration": 27,
    "start_time": "2023-03-01T00:52:23.024Z"
   },
   {
    "duration": 512,
    "start_time": "2023-03-01T00:52:23.055Z"
   },
   {
    "duration": 724,
    "start_time": "2023-03-01T00:52:23.569Z"
   },
   {
    "duration": 15013,
    "start_time": "2023-03-01T00:52:24.295Z"
   },
   {
    "duration": 8617,
    "start_time": "2023-03-01T00:52:39.310Z"
   },
   {
    "duration": 101,
    "start_time": "2023-03-01T00:52:47.928Z"
   },
   {
    "duration": 41,
    "start_time": "2023-03-01T00:52:48.030Z"
   },
   {
    "duration": 4547,
    "start_time": "2023-03-01T00:52:48.073Z"
   },
   {
    "duration": 84,
    "start_time": "2023-03-01T00:52:52.622Z"
   },
   {
    "duration": 4435,
    "start_time": "2023-03-01T00:52:52.709Z"
   },
   {
    "duration": 59,
    "start_time": "2023-03-01T00:52:57.146Z"
   },
   {
    "duration": 46,
    "start_time": "2023-03-01T00:52:57.207Z"
   },
   {
    "duration": 4172,
    "start_time": "2023-03-01T00:52:57.254Z"
   },
   {
    "duration": 44,
    "start_time": "2023-03-01T00:53:01.428Z"
   },
   {
    "duration": 3,
    "start_time": "2023-03-01T00:53:01.473Z"
   },
   {
    "duration": 68,
    "start_time": "2023-03-01T00:53:01.479Z"
   },
   {
    "duration": 4358,
    "start_time": "2023-03-01T00:53:01.549Z"
   },
   {
    "duration": 1499,
    "start_time": "2023-03-01T00:53:23.814Z"
   },
   {
    "duration": 1121,
    "start_time": "2023-03-01T00:54:43.493Z"
   },
   {
    "duration": 1046,
    "start_time": "2023-03-01T00:56:27.477Z"
   },
   {
    "duration": 57,
    "start_time": "2023-03-01T01:00:19.315Z"
   },
   {
    "duration": 24,
    "start_time": "2023-03-01T01:01:21.067Z"
   },
   {
    "duration": 474,
    "start_time": "2023-03-01T01:01:21.093Z"
   },
   {
    "duration": 701,
    "start_time": "2023-03-01T01:01:21.569Z"
   },
   {
    "duration": 14943,
    "start_time": "2023-03-01T01:01:22.272Z"
   },
   {
    "duration": 8721,
    "start_time": "2023-03-01T01:01:37.218Z"
   },
   {
    "duration": 88,
    "start_time": "2023-03-01T01:01:45.941Z"
   },
   {
    "duration": 46,
    "start_time": "2023-03-01T01:01:46.031Z"
   },
   {
    "duration": 4628,
    "start_time": "2023-03-01T01:01:46.079Z"
   },
   {
    "duration": 52,
    "start_time": "2023-03-01T01:01:50.709Z"
   },
   {
    "duration": 5056,
    "start_time": "2023-03-01T01:01:50.763Z"
   },
   {
    "duration": 23,
    "start_time": "2023-03-01T01:01:55.821Z"
   },
   {
    "duration": 18,
    "start_time": "2023-03-01T01:01:55.846Z"
   },
   {
    "duration": 44,
    "start_time": "2023-03-01T01:01:55.866Z"
   },
   {
    "duration": 3794,
    "start_time": "2023-03-01T01:01:55.914Z"
   },
   {
    "duration": 44,
    "start_time": "2023-03-01T01:01:59.709Z"
   },
   {
    "duration": 2,
    "start_time": "2023-03-01T01:01:59.755Z"
   },
   {
    "duration": 47,
    "start_time": "2023-03-01T01:01:59.759Z"
   },
   {
    "duration": 1617,
    "start_time": "2023-03-01T01:01:59.808Z"
   },
   {
    "duration": 1817,
    "start_time": "2023-03-01T01:02:01.427Z"
   },
   {
    "duration": 49,
    "start_time": "2023-03-01T01:04:51.044Z"
   },
   {
    "duration": 40,
    "start_time": "2023-03-01T01:05:43.245Z"
   },
   {
    "duration": 2294,
    "start_time": "2023-03-01T01:05:53.340Z"
   },
   {
    "duration": 2516,
    "start_time": "2023-03-01T01:08:16.642Z"
   },
   {
    "duration": 1680,
    "start_time": "2023-03-01T01:08:49.548Z"
   },
   {
    "duration": 59,
    "start_time": "2023-03-01T01:11:01.028Z"
   },
   {
    "duration": 942,
    "start_time": "2023-03-01T01:12:15.785Z"
   },
   {
    "duration": 3427,
    "start_time": "2023-03-01T01:12:26.419Z"
   },
   {
    "duration": 83,
    "start_time": "2023-03-01T01:13:35.653Z"
   },
   {
    "duration": 25,
    "start_time": "2023-03-01T01:14:06.480Z"
   },
   {
    "duration": 548,
    "start_time": "2023-03-01T01:14:06.507Z"
   },
   {
    "duration": 801,
    "start_time": "2023-03-01T01:14:07.056Z"
   },
   {
    "duration": 14953,
    "start_time": "2023-03-01T01:14:07.859Z"
   },
   {
    "duration": 9093,
    "start_time": "2023-03-01T01:14:22.814Z"
   },
   {
    "duration": 56,
    "start_time": "2023-03-01T01:14:31.909Z"
   },
   {
    "duration": 87,
    "start_time": "2023-03-01T01:14:31.968Z"
   },
   {
    "duration": 4368,
    "start_time": "2023-03-01T01:14:32.057Z"
   },
   {
    "duration": 79,
    "start_time": "2023-03-01T01:14:36.427Z"
   },
   {
    "duration": 4563,
    "start_time": "2023-03-01T01:14:36.508Z"
   },
   {
    "duration": 25,
    "start_time": "2023-03-01T01:14:41.074Z"
   },
   {
    "duration": 25,
    "start_time": "2023-03-01T01:14:41.101Z"
   },
   {
    "duration": 41,
    "start_time": "2023-03-01T01:14:41.128Z"
   },
   {
    "duration": 4136,
    "start_time": "2023-03-01T01:14:41.170Z"
   },
   {
    "duration": 54,
    "start_time": "2023-03-01T01:14:45.307Z"
   },
   {
    "duration": 3,
    "start_time": "2023-03-01T01:14:45.363Z"
   },
   {
    "duration": 61,
    "start_time": "2023-03-01T01:14:45.367Z"
   },
   {
    "duration": 1893,
    "start_time": "2023-03-01T01:14:45.430Z"
   },
   {
    "duration": 2680,
    "start_time": "2023-03-01T01:14:47.325Z"
   },
   {
    "duration": 57,
    "start_time": "2023-03-01T01:14:50.007Z"
   },
   {
    "duration": 144,
    "start_time": "2023-03-01T01:14:50.066Z"
   },
   {
    "duration": 2371,
    "start_time": "2023-03-01T01:14:50.212Z"
   },
   {
    "duration": 46,
    "start_time": "2023-03-01T01:14:52.584Z"
   },
   {
    "duration": 1090,
    "start_time": "2023-03-01T01:14:52.631Z"
   },
   {
    "duration": 2,
    "start_time": "2023-03-01T01:14:53.724Z"
   },
   {
    "duration": 297,
    "start_time": "2023-03-01T01:16:41.620Z"
   },
   {
    "duration": 215,
    "start_time": "2023-03-01T01:16:50.392Z"
   },
   {
    "duration": 316,
    "start_time": "2023-03-01T01:17:13.269Z"
   },
   {
    "duration": 2183,
    "start_time": "2023-03-01T01:17:25.341Z"
   },
   {
    "duration": 1523,
    "start_time": "2023-03-01T01:17:37.643Z"
   },
   {
    "duration": 1398,
    "start_time": "2023-03-01T01:17:59.188Z"
   },
   {
    "duration": 1374,
    "start_time": "2023-03-01T01:18:17.913Z"
   },
   {
    "duration": 1549,
    "start_time": "2023-03-01T01:19:03.048Z"
   },
   {
    "duration": 60,
    "start_time": "2023-03-01T01:22:46.933Z"
   },
   {
    "duration": 2187,
    "start_time": "2023-03-01T01:23:14.964Z"
   },
   {
    "duration": 99,
    "start_time": "2023-03-01T01:24:03.685Z"
   },
   {
    "duration": 10,
    "start_time": "2023-03-01T01:25:11.619Z"
   },
   {
    "duration": 3456,
    "start_time": "2023-03-01T01:25:55.550Z"
   },
   {
    "duration": 51,
    "start_time": "2023-03-01T01:27:10.668Z"
   },
   {
    "duration": 2414,
    "start_time": "2023-03-01T01:27:14.133Z"
   },
   {
    "duration": 50,
    "start_time": "2023-03-01T01:27:38.990Z"
   },
   {
    "duration": 2076,
    "start_time": "2023-03-01T01:28:33.429Z"
   },
   {
    "duration": 1787,
    "start_time": "2023-03-01T01:29:01.142Z"
   },
   {
    "duration": 48,
    "start_time": "2023-03-01T01:30:34.791Z"
   },
   {
    "duration": 11,
    "start_time": "2023-03-01T01:31:01.166Z"
   },
   {
    "duration": 17,
    "start_time": "2023-03-01T01:32:11.187Z"
   },
   {
    "duration": 14,
    "start_time": "2023-03-01T01:32:20.902Z"
   },
   {
    "duration": 954,
    "start_time": "2023-03-01T01:32:28.374Z"
   },
   {
    "duration": 1419,
    "start_time": "2023-03-01T01:35:36.055Z"
   },
   {
    "duration": 65,
    "start_time": "2023-03-01T01:37:02.038Z"
   },
   {
    "duration": 1043,
    "start_time": "2023-03-01T01:38:24.519Z"
   },
   {
    "duration": 49,
    "start_time": "2023-03-01T01:39:45.474Z"
   },
   {
    "duration": 1622,
    "start_time": "2023-03-01T01:40:10.113Z"
   },
   {
    "duration": 28,
    "start_time": "2023-03-01T01:53:32.016Z"
   },
   {
    "duration": 564,
    "start_time": "2023-03-01T01:53:32.046Z"
   },
   {
    "duration": 791,
    "start_time": "2023-03-01T01:53:32.611Z"
   },
   {
    "duration": 15014,
    "start_time": "2023-03-01T01:53:33.404Z"
   },
   {
    "duration": 8817,
    "start_time": "2023-03-01T01:53:48.420Z"
   },
   {
    "duration": 88,
    "start_time": "2023-03-01T01:53:57.238Z"
   },
   {
    "duration": 78,
    "start_time": "2023-03-01T01:53:57.327Z"
   },
   {
    "duration": 4334,
    "start_time": "2023-03-01T01:53:57.407Z"
   },
   {
    "duration": 97,
    "start_time": "2023-03-01T01:54:01.742Z"
   },
   {
    "duration": 4787,
    "start_time": "2023-03-01T01:54:01.842Z"
   },
   {
    "duration": 27,
    "start_time": "2023-03-01T01:54:06.631Z"
   },
   {
    "duration": 55,
    "start_time": "2023-03-01T01:54:06.660Z"
   },
   {
    "duration": 47,
    "start_time": "2023-03-01T01:54:06.716Z"
   },
   {
    "duration": 4565,
    "start_time": "2023-03-01T01:54:06.765Z"
   },
   {
    "duration": 73,
    "start_time": "2023-03-01T01:54:11.332Z"
   },
   {
    "duration": 3,
    "start_time": "2023-03-01T01:54:11.408Z"
   },
   {
    "duration": 56,
    "start_time": "2023-03-01T01:54:11.412Z"
   },
   {
    "duration": 2048,
    "start_time": "2023-03-01T01:54:11.470Z"
   },
   {
    "duration": 2294,
    "start_time": "2023-03-01T01:54:13.520Z"
   },
   {
    "duration": 90,
    "start_time": "2023-03-01T01:54:15.816Z"
   },
   {
    "duration": 109,
    "start_time": "2023-03-01T01:54:15.907Z"
   },
   {
    "duration": 2236,
    "start_time": "2023-03-01T01:54:16.018Z"
   },
   {
    "duration": 51,
    "start_time": "2023-03-01T01:54:18.255Z"
   },
   {
    "duration": 1107,
    "start_time": "2023-03-01T01:54:18.308Z"
   },
   {
    "duration": 2214,
    "start_time": "2023-03-01T01:54:19.417Z"
   },
   {
    "duration": 51,
    "start_time": "2023-03-01T01:54:21.632Z"
   },
   {
    "duration": 2449,
    "start_time": "2023-03-01T01:54:21.685Z"
   },
   {
    "duration": 69,
    "start_time": "2023-03-01T01:54:24.137Z"
   },
   {
    "duration": 3438,
    "start_time": "2023-03-01T01:54:24.207Z"
   },
   {
    "duration": 45,
    "start_time": "2023-03-01T01:54:27.647Z"
   },
   {
    "duration": 2674,
    "start_time": "2023-03-01T01:54:27.693Z"
   },
   {
    "duration": 43,
    "start_time": "2023-03-01T01:54:30.370Z"
   },
   {
    "duration": 91,
    "start_time": "2023-03-01T01:54:30.415Z"
   },
   {
    "duration": 1998,
    "start_time": "2023-03-01T01:54:30.508Z"
   },
   {
    "duration": 54,
    "start_time": "2023-03-01T01:54:32.508Z"
   },
   {
    "duration": 1496,
    "start_time": "2023-03-01T01:54:32.564Z"
   },
   {
    "duration": 46,
    "start_time": "2023-03-01T01:54:34.062Z"
   },
   {
    "duration": 1049,
    "start_time": "2023-03-01T01:54:34.109Z"
   },
   {
    "duration": 51,
    "start_time": "2023-03-01T08:48:18.363Z"
   },
   {
    "duration": 25,
    "start_time": "2023-03-01T08:48:32.190Z"
   },
   {
    "duration": 509,
    "start_time": "2023-03-01T08:48:32.217Z"
   },
   {
    "duration": 983,
    "start_time": "2023-03-01T08:48:32.728Z"
   },
   {
    "duration": 15254,
    "start_time": "2023-03-01T08:48:33.713Z"
   },
   {
    "duration": 8901,
    "start_time": "2023-03-01T08:48:48.973Z"
   },
   {
    "duration": 102,
    "start_time": "2023-03-01T08:48:57.876Z"
   },
   {
    "duration": 41,
    "start_time": "2023-03-01T08:48:57.980Z"
   },
   {
    "duration": 4641,
    "start_time": "2023-03-01T08:48:58.023Z"
   },
   {
    "duration": 75,
    "start_time": "2023-03-01T08:49:02.666Z"
   },
   {
    "duration": 4848,
    "start_time": "2023-03-01T08:49:02.745Z"
   },
   {
    "duration": 33,
    "start_time": "2023-03-01T08:49:07.646Z"
   },
   {
    "duration": 176,
    "start_time": "2023-03-01T08:49:07.680Z"
   },
   {
    "duration": 49,
    "start_time": "2023-03-01T08:49:07.858Z"
   },
   {
    "duration": 3496,
    "start_time": "2023-03-01T08:49:07.910Z"
   },
   {
    "duration": 53,
    "start_time": "2023-03-01T08:49:11.407Z"
   },
   {
    "duration": 3,
    "start_time": "2023-03-01T08:49:11.462Z"
   },
   {
    "duration": 53,
    "start_time": "2023-03-01T08:49:11.467Z"
   },
   {
    "duration": 1673,
    "start_time": "2023-03-01T08:49:11.522Z"
   },
   {
    "duration": 545,
    "start_time": "2023-03-01T08:49:13.197Z"
   },
   {
    "duration": 53,
    "start_time": "2023-03-01T08:49:13.744Z"
   },
   {
    "duration": 38,
    "start_time": "2023-03-01T08:49:13.798Z"
   },
   {
    "duration": 3014,
    "start_time": "2023-03-01T08:49:13.839Z"
   },
   {
    "duration": 63,
    "start_time": "2023-03-01T08:49:16.855Z"
   },
   {
    "duration": 1345,
    "start_time": "2023-03-01T08:49:16.920Z"
   },
   {
    "duration": 2767,
    "start_time": "2023-03-01T08:49:18.267Z"
   },
   {
    "duration": 53,
    "start_time": "2023-03-01T08:49:21.035Z"
   },
   {
    "duration": 2601,
    "start_time": "2023-03-01T08:49:21.090Z"
   },
   {
    "duration": 86,
    "start_time": "2023-03-01T08:49:23.693Z"
   },
   {
    "duration": 3802,
    "start_time": "2023-03-01T08:49:23.781Z"
   },
   {
    "duration": 47,
    "start_time": "2023-03-01T08:49:27.585Z"
   },
   {
    "duration": 3067,
    "start_time": "2023-03-01T08:49:27.634Z"
   },
   {
    "duration": 42,
    "start_time": "2023-03-01T08:49:30.703Z"
   },
   {
    "duration": 76,
    "start_time": "2023-03-01T08:49:30.750Z"
   },
   {
    "duration": 2052,
    "start_time": "2023-03-01T08:49:30.827Z"
   },
   {
    "duration": 60,
    "start_time": "2023-03-01T08:49:32.881Z"
   },
   {
    "duration": 1359,
    "start_time": "2023-03-01T08:49:32.942Z"
   },
   {
    "duration": 60,
    "start_time": "2023-03-01T08:49:34.303Z"
   },
   {
    "duration": 1470,
    "start_time": "2023-03-01T08:49:34.365Z"
   },
   {
    "duration": 464,
    "start_time": "2023-03-01T08:50:33.400Z"
   },
   {
    "duration": 1206,
    "start_time": "2023-03-01T08:50:36.854Z"
   },
   {
    "duration": 2121,
    "start_time": "2023-03-01T08:50:41.654Z"
   },
   {
    "duration": 210,
    "start_time": "2023-03-01T08:50:46.431Z"
   },
   {
    "duration": 102,
    "start_time": "2023-03-01T08:51:01.264Z"
   },
   {
    "duration": 182,
    "start_time": "2023-03-01T08:53:07.577Z"
   },
   {
    "duration": 13,
    "start_time": "2023-03-01T08:53:42.091Z"
   },
   {
    "duration": 1721,
    "start_time": "2023-03-01T08:53:45.889Z"
   },
   {
    "duration": 3,
    "start_time": "2023-03-01T08:53:51.913Z"
   },
   {
    "duration": 433,
    "start_time": "2023-03-01T08:53:55.321Z"
   },
   {
    "duration": 190,
    "start_time": "2023-03-01T08:53:59.328Z"
   },
   {
    "duration": 23,
    "start_time": "2023-03-01T09:06:36.192Z"
   },
   {
    "duration": 512,
    "start_time": "2023-03-01T09:06:36.217Z"
   },
   {
    "duration": 678,
    "start_time": "2023-03-01T09:06:36.730Z"
   },
   {
    "duration": 14173,
    "start_time": "2023-03-01T09:06:37.410Z"
   },
   {
    "duration": 8384,
    "start_time": "2023-03-01T09:06:51.586Z"
   },
   {
    "duration": 93,
    "start_time": "2023-03-01T09:06:59.971Z"
   },
   {
    "duration": 50,
    "start_time": "2023-03-01T09:07:00.066Z"
   },
   {
    "duration": 4133,
    "start_time": "2023-03-01T09:07:00.118Z"
   },
   {
    "duration": 52,
    "start_time": "2023-03-01T09:07:04.253Z"
   },
   {
    "duration": 4463,
    "start_time": "2023-03-01T09:07:04.340Z"
   },
   {
    "duration": 24,
    "start_time": "2023-03-01T09:07:08.805Z"
   },
   {
    "duration": 38,
    "start_time": "2023-03-01T09:07:08.830Z"
   },
   {
    "duration": 47,
    "start_time": "2023-03-01T09:07:08.870Z"
   },
   {
    "duration": 3076,
    "start_time": "2023-03-01T09:07:08.919Z"
   },
   {
    "duration": 49,
    "start_time": "2023-03-01T09:07:11.996Z"
   },
   {
    "duration": 3,
    "start_time": "2023-03-01T09:07:12.047Z"
   },
   {
    "duration": 54,
    "start_time": "2023-03-01T09:07:12.051Z"
   },
   {
    "duration": 1533,
    "start_time": "2023-03-01T09:07:12.107Z"
   },
   {
    "duration": 404,
    "start_time": "2023-03-01T09:07:13.642Z"
   },
   {
    "duration": 42,
    "start_time": "2023-03-01T09:07:14.048Z"
   },
   {
    "duration": 81,
    "start_time": "2023-03-01T09:07:14.092Z"
   },
   {
    "duration": 2578,
    "start_time": "2023-03-01T09:07:14.175Z"
   },
   {
    "duration": 46,
    "start_time": "2023-03-01T09:07:16.755Z"
   },
   {
    "duration": 1062,
    "start_time": "2023-03-01T09:07:16.802Z"
   },
   {
    "duration": 2521,
    "start_time": "2023-03-01T09:07:17.865Z"
   },
   {
    "duration": 42,
    "start_time": "2023-03-01T09:07:20.388Z"
   },
   {
    "duration": 2614,
    "start_time": "2023-03-01T09:07:20.431Z"
   },
   {
    "duration": 91,
    "start_time": "2023-03-01T09:07:23.050Z"
   },
   {
    "duration": 3432,
    "start_time": "2023-03-01T09:07:23.144Z"
   },
   {
    "duration": 64,
    "start_time": "2023-03-01T09:07:26.578Z"
   },
   {
    "duration": 2856,
    "start_time": "2023-03-01T09:07:26.644Z"
   },
   {
    "duration": 9,
    "start_time": "2023-03-01T09:07:29.502Z"
   },
   {
    "duration": 49,
    "start_time": "2023-03-01T09:07:29.513Z"
   },
   {
    "duration": 1935,
    "start_time": "2023-03-01T09:07:29.563Z"
   },
   {
    "duration": 43,
    "start_time": "2023-03-01T09:07:31.500Z"
   },
   {
    "duration": 1421,
    "start_time": "2023-03-01T09:07:31.545Z"
   },
   {
    "duration": 47,
    "start_time": "2023-03-01T09:07:32.967Z"
   },
   {
    "duration": 1328,
    "start_time": "2023-03-01T09:07:33.016Z"
   },
   {
    "duration": 638,
    "start_time": "2023-03-01T09:07:34.346Z"
   },
   {
    "duration": 52,
    "start_time": "2023-03-02T08:07:53.144Z"
   },
   {
    "duration": 26,
    "start_time": "2023-03-02T08:47:26.510Z"
   },
   {
    "duration": 574,
    "start_time": "2023-03-02T08:47:26.539Z"
   },
   {
    "duration": 1025,
    "start_time": "2023-03-02T08:47:27.114Z"
   },
   {
    "duration": 16132,
    "start_time": "2023-03-02T08:47:28.145Z"
   },
   {
    "duration": 9900,
    "start_time": "2023-03-02T08:47:44.280Z"
   },
   {
    "duration": 69,
    "start_time": "2023-03-02T08:47:54.182Z"
   },
   {
    "duration": 55,
    "start_time": "2023-03-02T08:47:54.258Z"
   },
   {
    "duration": 5565,
    "start_time": "2023-03-02T08:47:54.314Z"
   },
   {
    "duration": 54,
    "start_time": "2023-03-02T08:47:59.881Z"
   },
   {
    "duration": 5379,
    "start_time": "2023-03-02T08:47:59.938Z"
   },
   {
    "duration": 39,
    "start_time": "2023-03-02T08:48:05.318Z"
   },
   {
    "duration": 42,
    "start_time": "2023-03-02T08:48:05.363Z"
   },
   {
    "duration": 70,
    "start_time": "2023-03-02T08:48:05.444Z"
   },
   {
    "duration": 4372,
    "start_time": "2023-03-02T08:48:05.517Z"
   },
   {
    "duration": 52,
    "start_time": "2023-03-02T08:48:09.891Z"
   },
   {
    "duration": 10,
    "start_time": "2023-03-02T08:48:09.945Z"
   },
   {
    "duration": 69,
    "start_time": "2023-03-02T08:48:09.956Z"
   },
   {
    "duration": 1719,
    "start_time": "2023-03-02T08:48:10.026Z"
   },
   {
    "duration": 527,
    "start_time": "2023-03-02T08:48:11.746Z"
   },
   {
    "duration": 57,
    "start_time": "2023-03-02T08:48:12.276Z"
   },
   {
    "duration": 54,
    "start_time": "2023-03-02T08:48:12.334Z"
   },
   {
    "duration": 3307,
    "start_time": "2023-03-02T08:48:12.390Z"
   },
   {
    "duration": 79,
    "start_time": "2023-03-02T08:48:15.699Z"
   },
   {
    "duration": 1320,
    "start_time": "2023-03-02T08:48:15.779Z"
   },
   {
    "duration": 2924,
    "start_time": "2023-03-02T08:48:17.151Z"
   },
   {
    "duration": 42,
    "start_time": "2023-03-02T08:48:20.077Z"
   },
   {
    "duration": 3129,
    "start_time": "2023-03-02T08:48:20.120Z"
   },
   {
    "duration": 64,
    "start_time": "2023-03-02T08:48:23.258Z"
   },
   {
    "duration": 4372,
    "start_time": "2023-03-02T08:48:23.324Z"
   },
   {
    "duration": 92,
    "start_time": "2023-03-02T08:48:27.698Z"
   },
   {
    "duration": 3099,
    "start_time": "2023-03-02T08:48:27.792Z"
   },
   {
    "duration": 9,
    "start_time": "2023-03-02T08:48:30.893Z"
   },
   {
    "duration": 96,
    "start_time": "2023-03-02T08:48:30.903Z"
   },
   {
    "duration": 2993,
    "start_time": "2023-03-02T08:48:31.001Z"
   },
   {
    "duration": 97,
    "start_time": "2023-03-02T08:48:33.995Z"
   },
   {
    "duration": 2101,
    "start_time": "2023-03-02T08:48:34.094Z"
   },
   {
    "duration": 75,
    "start_time": "2023-03-02T08:48:36.197Z"
   },
   {
    "duration": 1472,
    "start_time": "2023-03-02T08:48:36.274Z"
   },
   {
    "duration": 435,
    "start_time": "2023-03-02T08:48:37.755Z"
   },
   {
    "duration": 49,
    "start_time": "2023-03-02T20:20:39.064Z"
   },
   {
    "duration": 24,
    "start_time": "2023-03-02T20:20:49.221Z"
   },
   {
    "duration": 572,
    "start_time": "2023-03-02T20:20:49.248Z"
   },
   {
    "duration": 1010,
    "start_time": "2023-03-02T20:20:49.822Z"
   },
   {
    "duration": 15718,
    "start_time": "2023-03-02T20:20:50.834Z"
   },
   {
    "duration": 9283,
    "start_time": "2023-03-02T20:21:06.554Z"
   },
   {
    "duration": 93,
    "start_time": "2023-03-02T20:21:15.839Z"
   },
   {
    "duration": 97,
    "start_time": "2023-03-02T20:21:15.934Z"
   },
   {
    "duration": 4431,
    "start_time": "2023-03-02T20:21:16.033Z"
   },
   {
    "duration": 107,
    "start_time": "2023-03-02T20:21:20.466Z"
   },
   {
    "duration": 5037,
    "start_time": "2023-03-02T20:21:20.576Z"
   },
   {
    "duration": 41,
    "start_time": "2023-03-02T20:21:25.615Z"
   },
   {
    "duration": 37,
    "start_time": "2023-03-02T20:21:25.658Z"
   },
   {
    "duration": 121,
    "start_time": "2023-03-02T20:21:25.698Z"
   },
   {
    "duration": 3360,
    "start_time": "2023-03-02T20:21:25.821Z"
   },
   {
    "duration": 68,
    "start_time": "2023-03-02T20:21:29.183Z"
   },
   {
    "duration": 4,
    "start_time": "2023-03-02T20:21:29.253Z"
   },
   {
    "duration": 96,
    "start_time": "2023-03-02T20:21:29.259Z"
   },
   {
    "duration": 108,
    "start_time": "2023-03-02T20:21:29.357Z"
   },
   {
    "duration": 1692,
    "start_time": "2023-03-02T20:21:29.467Z"
   },
   {
    "duration": 486,
    "start_time": "2023-03-02T20:21:31.161Z"
   },
   {
    "duration": 80,
    "start_time": "2023-03-02T20:21:31.649Z"
   },
   {
    "duration": 55,
    "start_time": "2023-03-02T20:21:31.731Z"
   },
   {
    "duration": 350,
    "start_time": "2023-03-02T20:21:31.788Z"
   },
   {
    "duration": 64,
    "start_time": "2023-03-02T20:21:32.139Z"
   },
   {
    "duration": 1462,
    "start_time": "2023-03-02T20:21:32.205Z"
   },
   {
    "duration": 2993,
    "start_time": "2023-03-02T20:21:33.668Z"
   },
   {
    "duration": 89,
    "start_time": "2023-03-02T20:21:36.663Z"
   },
   {
    "duration": 2881,
    "start_time": "2023-03-02T20:21:36.756Z"
   },
   {
    "duration": 75,
    "start_time": "2023-03-02T20:21:39.639Z"
   },
   {
    "duration": 4057,
    "start_time": "2023-03-02T20:21:39.737Z"
   },
   {
    "duration": 74,
    "start_time": "2023-03-02T20:21:43.796Z"
   },
   {
    "duration": 2823,
    "start_time": "2023-03-02T20:21:43.872Z"
   },
   {
    "duration": 11,
    "start_time": "2023-03-02T20:21:46.696Z"
   },
   {
    "duration": 77,
    "start_time": "2023-03-02T20:21:46.709Z"
   },
   {
    "duration": 1854,
    "start_time": "2023-03-02T20:21:46.787Z"
   },
   {
    "duration": 73,
    "start_time": "2023-03-02T20:21:48.643Z"
   },
   {
    "duration": 1121,
    "start_time": "2023-03-02T20:21:48.719Z"
   },
   {
    "duration": 73,
    "start_time": "2023-03-02T20:21:49.841Z"
   },
   {
    "duration": 1188,
    "start_time": "2023-03-02T20:21:49.916Z"
   },
   {
    "duration": 362,
    "start_time": "2023-03-02T20:21:51.106Z"
   },
   {
    "duration": 112,
    "start_time": "2023-03-02T20:22:17.380Z"
   },
   {
    "duration": 15,
    "start_time": "2023-03-02T20:22:32.809Z"
   },
   {
    "duration": 15,
    "start_time": "2023-03-02T20:22:42.125Z"
   },
   {
    "duration": 71,
    "start_time": "2023-03-02T21:12:37.975Z"
   },
   {
    "duration": 4,
    "start_time": "2023-03-02T21:18:58.684Z"
   },
   {
    "duration": 435,
    "start_time": "2023-03-02T21:19:02.405Z"
   },
   {
    "duration": 510,
    "start_time": "2023-03-02T21:19:06.049Z"
   },
   {
    "duration": 17,
    "start_time": "2023-03-02T21:19:24.135Z"
   },
   {
    "duration": 3,
    "start_time": "2023-03-02T21:19:29.485Z"
   },
   {
    "duration": 719,
    "start_time": "2023-03-02T21:19:32.015Z"
   },
   {
    "duration": 1133,
    "start_time": "2023-03-02T21:25:23.139Z"
   },
   {
    "duration": 99,
    "start_time": "2023-03-02T21:26:07.785Z"
   },
   {
    "duration": 1068,
    "start_time": "2023-03-02T21:26:12.409Z"
   },
   {
    "duration": 26,
    "start_time": "2023-03-02T21:26:28.845Z"
   },
   {
    "duration": 597,
    "start_time": "2023-03-02T21:26:28.874Z"
   },
   {
    "duration": 804,
    "start_time": "2023-03-02T21:26:29.473Z"
   },
   {
    "duration": 15476,
    "start_time": "2023-03-02T21:26:30.279Z"
   },
   {
    "duration": 9103,
    "start_time": "2023-03-02T21:26:45.757Z"
   },
   {
    "duration": 112,
    "start_time": "2023-03-02T21:26:54.862Z"
   },
   {
    "duration": 98,
    "start_time": "2023-03-02T21:26:54.976Z"
   },
   {
    "duration": 4598,
    "start_time": "2023-03-02T21:26:55.076Z"
   },
   {
    "duration": 79,
    "start_time": "2023-03-02T21:26:59.676Z"
   },
   {
    "duration": 5380,
    "start_time": "2023-03-02T21:26:59.758Z"
   },
   {
    "duration": 53,
    "start_time": "2023-03-02T21:27:05.140Z"
   },
   {
    "duration": 69,
    "start_time": "2023-03-02T21:27:05.195Z"
   },
   {
    "duration": 146,
    "start_time": "2023-03-02T21:27:05.266Z"
   },
   {
    "duration": 3282,
    "start_time": "2023-03-02T21:27:05.414Z"
   },
   {
    "duration": 78,
    "start_time": "2023-03-02T21:27:08.698Z"
   },
   {
    "duration": 3,
    "start_time": "2023-03-02T21:27:08.778Z"
   },
   {
    "duration": 3516,
    "start_time": "2023-03-02T21:27:08.782Z"
   },
   {
    "duration": 0,
    "start_time": "2023-03-02T21:27:12.300Z"
   },
   {
    "duration": 0,
    "start_time": "2023-03-02T21:27:12.302Z"
   },
   {
    "duration": 0,
    "start_time": "2023-03-02T21:27:12.303Z"
   },
   {
    "duration": 0,
    "start_time": "2023-03-02T21:27:12.305Z"
   },
   {
    "duration": 0,
    "start_time": "2023-03-02T21:27:12.306Z"
   },
   {
    "duration": 0,
    "start_time": "2023-03-02T21:27:12.308Z"
   },
   {
    "duration": 0,
    "start_time": "2023-03-02T21:27:12.309Z"
   },
   {
    "duration": 0,
    "start_time": "2023-03-02T21:27:12.311Z"
   },
   {
    "duration": 0,
    "start_time": "2023-03-02T21:27:12.336Z"
   },
   {
    "duration": 0,
    "start_time": "2023-03-02T21:27:12.337Z"
   },
   {
    "duration": 0,
    "start_time": "2023-03-02T21:27:12.339Z"
   },
   {
    "duration": 0,
    "start_time": "2023-03-02T21:27:12.341Z"
   },
   {
    "duration": 0,
    "start_time": "2023-03-02T21:27:12.342Z"
   },
   {
    "duration": 0,
    "start_time": "2023-03-02T21:27:12.344Z"
   },
   {
    "duration": 0,
    "start_time": "2023-03-02T21:27:12.346Z"
   },
   {
    "duration": 0,
    "start_time": "2023-03-02T21:27:12.347Z"
   },
   {
    "duration": 0,
    "start_time": "2023-03-02T21:27:12.349Z"
   },
   {
    "duration": 0,
    "start_time": "2023-03-02T21:27:12.351Z"
   },
   {
    "duration": 0,
    "start_time": "2023-03-02T21:27:12.352Z"
   },
   {
    "duration": 0,
    "start_time": "2023-03-02T21:27:12.354Z"
   },
   {
    "duration": 0,
    "start_time": "2023-03-02T21:27:12.355Z"
   },
   {
    "duration": 0,
    "start_time": "2023-03-02T21:27:12.357Z"
   },
   {
    "duration": 0,
    "start_time": "2023-03-02T21:27:12.358Z"
   },
   {
    "duration": 0,
    "start_time": "2023-03-02T21:27:12.359Z"
   },
   {
    "duration": 3135,
    "start_time": "2023-03-02T21:30:30.003Z"
   },
   {
    "duration": 2577,
    "start_time": "2023-03-02T21:31:09.555Z"
   },
   {
    "duration": 1601,
    "start_time": "2023-03-02T21:32:33.275Z"
   },
   {
    "duration": 2994,
    "start_time": "2023-03-02T21:33:02.762Z"
   },
   {
    "duration": 5646,
    "start_time": "2023-03-02T21:36:51.354Z"
   },
   {
    "duration": 3506,
    "start_time": "2023-03-02T21:39:48.762Z"
   },
   {
    "duration": 4859,
    "start_time": "2023-03-02T21:40:16.678Z"
   },
   {
    "duration": 4781,
    "start_time": "2023-03-02T21:42:45.592Z"
   },
   {
    "duration": 3907,
    "start_time": "2023-03-02T21:43:01.105Z"
   },
   {
    "duration": 3560,
    "start_time": "2023-03-02T21:43:13.718Z"
   },
   {
    "duration": 3406,
    "start_time": "2023-03-02T21:43:28.094Z"
   },
   {
    "duration": 3691,
    "start_time": "2023-03-02T21:43:43.454Z"
   },
   {
    "duration": 25,
    "start_time": "2023-03-02T21:50:54.779Z"
   },
   {
    "duration": 571,
    "start_time": "2023-03-02T21:50:54.806Z"
   },
   {
    "duration": 779,
    "start_time": "2023-03-02T21:50:55.379Z"
   },
   {
    "duration": 15886,
    "start_time": "2023-03-02T21:50:56.160Z"
   },
   {
    "duration": 9587,
    "start_time": "2023-03-02T21:51:12.050Z"
   },
   {
    "duration": 83,
    "start_time": "2023-03-02T21:51:21.639Z"
   },
   {
    "duration": 73,
    "start_time": "2023-03-02T21:51:21.724Z"
   },
   {
    "duration": 6380,
    "start_time": "2023-03-02T21:51:21.799Z"
   },
   {
    "duration": 124,
    "start_time": "2023-03-02T21:51:28.181Z"
   },
   {
    "duration": 5078,
    "start_time": "2023-03-02T21:51:28.308Z"
   },
   {
    "duration": 36,
    "start_time": "2023-03-02T21:51:33.387Z"
   },
   {
    "duration": 40,
    "start_time": "2023-03-02T21:51:33.424Z"
   },
   {
    "duration": 109,
    "start_time": "2023-03-02T21:51:33.465Z"
   },
   {
    "duration": 3202,
    "start_time": "2023-03-02T21:51:33.575Z"
   },
   {
    "duration": 71,
    "start_time": "2023-03-02T21:51:36.779Z"
   },
   {
    "duration": 3,
    "start_time": "2023-03-02T21:51:36.852Z"
   },
   {
    "duration": 15781,
    "start_time": "2023-03-02T21:51:36.857Z"
   },
   {
    "duration": 98,
    "start_time": "2023-03-02T21:51:52.639Z"
   },
   {
    "duration": 95,
    "start_time": "2023-03-02T21:51:52.739Z"
   },
   {
    "duration": 505,
    "start_time": "2023-03-02T21:51:52.836Z"
   },
   {
    "duration": 320,
    "start_time": "2023-03-02T21:51:53.343Z"
   },
   {
    "duration": 116,
    "start_time": "2023-03-02T21:51:53.665Z"
   },
   {
    "duration": 63,
    "start_time": "2023-03-02T21:51:53.783Z"
   },
   {
    "duration": 259,
    "start_time": "2023-03-02T21:51:53.848Z"
   },
   {
    "duration": 28,
    "start_time": "2023-03-02T21:51:54.108Z"
   },
   {
    "duration": 7,
    "start_time": "2023-03-02T21:51:54.138Z"
   },
   {
    "duration": 5,
    "start_time": "2023-03-02T21:51:54.146Z"
   },
   {
    "duration": 2,
    "start_time": "2023-03-02T21:51:54.155Z"
   },
   {
    "duration": 4,
    "start_time": "2023-03-02T21:51:54.159Z"
   },
   {
    "duration": 6,
    "start_time": "2023-03-02T21:51:54.165Z"
   },
   {
    "duration": 7,
    "start_time": "2023-03-02T21:51:54.173Z"
   },
   {
    "duration": 4,
    "start_time": "2023-03-02T21:51:54.182Z"
   },
   {
    "duration": 5,
    "start_time": "2023-03-02T21:51:54.188Z"
   },
   {
    "duration": 11,
    "start_time": "2023-03-02T21:51:54.195Z"
   },
   {
    "duration": 82,
    "start_time": "2023-03-02T21:51:54.236Z"
   },
   {
    "duration": 1257,
    "start_time": "2023-03-02T21:51:54.320Z"
   },
   {
    "duration": 76,
    "start_time": "2023-03-02T21:51:55.579Z"
   },
   {
    "duration": 826,
    "start_time": "2023-03-02T21:51:55.657Z"
   },
   {
    "duration": 70,
    "start_time": "2023-03-02T21:51:56.486Z"
   },
   {
    "duration": 761,
    "start_time": "2023-03-02T21:51:56.558Z"
   },
   {
    "duration": 628,
    "start_time": "2023-03-02T21:51:57.322Z"
   },
   {
    "duration": 24,
    "start_time": "2023-03-02T21:53:13.376Z"
   },
   {
    "duration": 557,
    "start_time": "2023-03-02T21:53:13.403Z"
   },
   {
    "duration": 791,
    "start_time": "2023-03-02T21:53:13.962Z"
   },
   {
    "duration": 15107,
    "start_time": "2023-03-02T21:53:14.756Z"
   },
   {
    "duration": 8382,
    "start_time": "2023-03-02T21:53:29.865Z"
   },
   {
    "duration": 92,
    "start_time": "2023-03-02T21:53:38.249Z"
   },
   {
    "duration": 157,
    "start_time": "2023-03-02T21:53:38.344Z"
   },
   {
    "duration": 4367,
    "start_time": "2023-03-02T21:53:38.503Z"
   },
   {
    "duration": 69,
    "start_time": "2023-03-02T21:53:42.872Z"
   },
   {
    "duration": 4469,
    "start_time": "2023-03-02T21:53:42.944Z"
   },
   {
    "duration": 40,
    "start_time": "2023-03-02T21:53:47.415Z"
   },
   {
    "duration": 80,
    "start_time": "2023-03-02T21:53:47.456Z"
   },
   {
    "duration": 89,
    "start_time": "2023-03-02T21:53:47.538Z"
   },
   {
    "duration": 3386,
    "start_time": "2023-03-02T21:53:47.629Z"
   },
   {
    "duration": 68,
    "start_time": "2023-03-02T21:53:51.017Z"
   },
   {
    "duration": 4,
    "start_time": "2023-03-02T21:53:51.087Z"
   },
   {
    "duration": 16245,
    "start_time": "2023-03-02T21:53:51.093Z"
   },
   {
    "duration": 99,
    "start_time": "2023-03-02T21:54:07.339Z"
   },
   {
    "duration": 96,
    "start_time": "2023-03-02T21:54:07.440Z"
   },
   {
    "duration": 3,
    "start_time": "2023-03-02T21:54:07.538Z"
   },
   {
    "duration": 7,
    "start_time": "2023-03-02T21:54:07.543Z"
   },
   {
    "duration": 87,
    "start_time": "2023-03-02T21:54:07.552Z"
   },
   {
    "duration": 2,
    "start_time": "2023-03-02T21:54:07.641Z"
   },
   {
    "duration": 10,
    "start_time": "2023-03-02T21:54:07.645Z"
   },
   {
    "duration": 11,
    "start_time": "2023-03-02T21:54:07.657Z"
   },
   {
    "duration": 11,
    "start_time": "2023-03-02T21:54:07.669Z"
   },
   {
    "duration": 3,
    "start_time": "2023-03-02T21:54:07.736Z"
   },
   {
    "duration": 6,
    "start_time": "2023-03-02T21:54:07.744Z"
   },
   {
    "duration": 10,
    "start_time": "2023-03-02T21:54:07.752Z"
   },
   {
    "duration": 6,
    "start_time": "2023-03-02T21:54:07.764Z"
   },
   {
    "duration": 66,
    "start_time": "2023-03-02T21:54:07.772Z"
   },
   {
    "duration": 4,
    "start_time": "2023-03-02T21:54:07.840Z"
   },
   {
    "duration": 6,
    "start_time": "2023-03-02T21:54:07.846Z"
   },
   {
    "duration": 11,
    "start_time": "2023-03-02T21:54:07.854Z"
   },
   {
    "duration": 87,
    "start_time": "2023-03-02T21:54:07.866Z"
   },
   {
    "duration": 1327,
    "start_time": "2023-03-02T21:54:07.955Z"
   },
   {
    "duration": 82,
    "start_time": "2023-03-02T21:54:09.284Z"
   },
   {
    "duration": 805,
    "start_time": "2023-03-02T21:54:09.369Z"
   },
   {
    "duration": 100,
    "start_time": "2023-03-02T21:54:10.176Z"
   },
   {
    "duration": 995,
    "start_time": "2023-03-02T21:54:10.278Z"
   },
   {
    "duration": 509,
    "start_time": "2023-03-02T21:54:11.274Z"
   },
   {
    "duration": 24,
    "start_time": "2023-03-03T17:33:26.680Z"
   },
   {
    "duration": 537,
    "start_time": "2023-03-03T17:33:26.711Z"
   },
   {
    "duration": 790,
    "start_time": "2023-03-03T17:33:27.250Z"
   },
   {
    "duration": 14831,
    "start_time": "2023-03-03T17:33:28.042Z"
   },
   {
    "duration": 8694,
    "start_time": "2023-03-03T17:33:42.875Z"
   },
   {
    "duration": 76,
    "start_time": "2023-03-03T17:33:51.572Z"
   },
   {
    "duration": 76,
    "start_time": "2023-03-03T17:33:51.649Z"
   },
   {
    "duration": 4523,
    "start_time": "2023-03-03T17:33:51.727Z"
   },
   {
    "duration": 76,
    "start_time": "2023-03-03T17:33:56.251Z"
   },
   {
    "duration": 4961,
    "start_time": "2023-03-03T17:33:56.329Z"
   },
   {
    "duration": 44,
    "start_time": "2023-03-03T17:34:01.292Z"
   },
   {
    "duration": 52,
    "start_time": "2023-03-03T17:34:01.338Z"
   },
   {
    "duration": 97,
    "start_time": "2023-03-03T17:34:01.392Z"
   },
   {
    "duration": 3152,
    "start_time": "2023-03-03T17:34:01.491Z"
   },
   {
    "duration": 80,
    "start_time": "2023-03-03T17:34:04.646Z"
   },
   {
    "duration": 3,
    "start_time": "2023-03-03T17:34:04.728Z"
   },
   {
    "duration": 13959,
    "start_time": "2023-03-03T17:34:04.733Z"
   },
   {
    "duration": 72,
    "start_time": "2023-03-03T17:34:18.693Z"
   },
   {
    "duration": 76,
    "start_time": "2023-03-03T17:34:18.767Z"
   },
   {
    "duration": 3,
    "start_time": "2023-03-03T17:34:18.844Z"
   },
   {
    "duration": 7,
    "start_time": "2023-03-03T17:34:18.849Z"
   },
   {
    "duration": 83,
    "start_time": "2023-03-03T17:34:18.858Z"
   },
   {
    "duration": 2,
    "start_time": "2023-03-03T17:34:18.943Z"
   },
   {
    "duration": 8,
    "start_time": "2023-03-03T17:34:18.946Z"
   },
   {
    "duration": 6,
    "start_time": "2023-03-03T17:34:18.955Z"
   },
   {
    "duration": 7,
    "start_time": "2023-03-03T17:34:18.962Z"
   },
   {
    "duration": 3,
    "start_time": "2023-03-03T17:34:18.971Z"
   },
   {
    "duration": 7,
    "start_time": "2023-03-03T17:34:18.975Z"
   },
   {
    "duration": 7,
    "start_time": "2023-03-03T17:34:18.984Z"
   },
   {
    "duration": 6,
    "start_time": "2023-03-03T17:34:18.992Z"
   },
   {
    "duration": 7,
    "start_time": "2023-03-03T17:34:18.999Z"
   },
   {
    "duration": 7,
    "start_time": "2023-03-03T17:34:19.007Z"
   },
   {
    "duration": 6,
    "start_time": "2023-03-03T17:34:19.016Z"
   },
   {
    "duration": 12,
    "start_time": "2023-03-03T17:34:19.023Z"
   },
   {
    "duration": 75,
    "start_time": "2023-03-03T17:34:19.049Z"
   },
   {
    "duration": 1024,
    "start_time": "2023-03-03T17:34:19.125Z"
   },
   {
    "duration": 75,
    "start_time": "2023-03-03T17:34:20.151Z"
   },
   {
    "duration": 871,
    "start_time": "2023-03-03T17:34:20.228Z"
   },
   {
    "duration": 71,
    "start_time": "2023-03-03T17:34:21.101Z"
   },
   {
    "duration": 744,
    "start_time": "2023-03-03T17:34:21.173Z"
   },
   {
    "duration": 375,
    "start_time": "2023-03-03T17:34:21.919Z"
   }
  ],
  "colab": {
   "name": "PySparkSprint.ipynb",
   "provenance": []
  },
  "kernelspec": {
   "display_name": "Python 3 (ipykernel)",
   "language": "python",
   "name": "python3"
  },
  "language_info": {
   "codemirror_mode": {
    "name": "ipython",
    "version": 3
   },
   "file_extension": ".py",
   "mimetype": "text/x-python",
   "name": "python",
   "nbconvert_exporter": "python",
   "pygments_lexer": "ipython3",
   "version": "3.9.5"
  },
  "toc": {
   "base_numbering": 1,
   "nav_menu": {},
   "number_sections": false,
   "sideBar": true,
   "skip_h1_title": true,
   "title_cell": "Table of Contents",
   "title_sidebar": "Contents",
   "toc_cell": false,
   "toc_position": {
    "height": "calc(100% - 180px)",
    "left": "10px",
    "top": "150px",
    "width": "300px"
   },
   "toc_section_display": true,
   "toc_window_display": true
  }
 },
 "nbformat": 4,
 "nbformat_minor": 5
}
