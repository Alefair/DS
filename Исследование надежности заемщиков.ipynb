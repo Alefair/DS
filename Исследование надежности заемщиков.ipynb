{
 "cells": [
  {
   "cell_type": "code",
   "execution_count": 4,
   "id": "a8c397fa",
   "metadata": {},
   "outputs": [
    {
     "data": {
      "text/html": [
       "<style> \n",
       "    \n",
       "    #project_logo\n",
       "    {\n",
       "        height: 150px;\n",
       "    }\n",
       "    \n",
       "    #logo_bg\n",
       "    {\n",
       "        text-align: right;\n",
       "        color: white;\n",
       "        font-family: monospace;\n",
       "        height: 100px;\n",
       "        background: \n",
       "            repeating-linear-gradient(\n",
       "                248deg, \n",
       "                rgba(0 , 188 , 212 , 0.24), \n",
       "                rgba(255 , 0 , 0 , 0), \n",
       "                rgba(0 , 188 , 212 , 0.5) 5px\n",
       "            ), \n",
       "            repeating-linear-gradient(\n",
       "                180deg, \n",
       "                #9e9e9e, \n",
       "                rgba(0 , 255 , 0 , 0) 70.71%\n",
       "            ), \n",
       "            repeating-linear-gradient(\n",
       "                0deg, \n",
       "                #607d8b, \n",
       "                rgba(0 , 0 , 255 , 0) 70.71%\n",
       "            );\n",
       "    }\n",
       "    \n",
       "    #logo_text \n",
       "    {\n",
       "        font-size: 100px; \n",
       "        font-weight: bold; \n",
       "        font-family: monospace; \n",
       "        color: #607d8b; \n",
       "        line-height: 100px; \n",
       "        text-shadow: 10px 0 0 rgba(255 , 255 , 255 , 0.45), \n",
       "            -2px 0 0 #fff, \n",
       "            0 1px 0 #fff, \n",
       "            0 -1px 0 #fff, \n",
       "            1px 1px #fff, \n",
       "            -1px -1px 0 #fff, \n",
       "            1px -1px 0 #fff,\n",
       "            -1px 1px 0 #fff, \n",
       "            10px 19px 4px; \n",
       "        opacity: 0.8; \n",
       "        text-align: center;\n",
       "    }\n",
       "    \n",
       "    #project_author\n",
       "    {\n",
       "        width: 160px;\n",
       "        height: 30px;\n",
       "        line-height: 10px;\n",
       "        display: inline-block;\n",
       "        background-color: #ff5722;\n",
       "        padding: 10px;\n",
       "        border-radius: 0px 0px 20px 20px;\n",
       "        text-align: center;\n",
       "        box-shadow: 3px 2px 3px 2px #ccc;\n",
       "        margin: 0;\n",
       "        margin-right: 40px;\n",
       "    }\n",
       "    \n",
       "    \n",
       "    \n",
       "    /*********TARIFFS***********/\n",
       "    \n",
       "    #tariff_smart\n",
       "    {\n",
       "        text-align: right; \n",
       "        color: white; \n",
       "        font-family: monospace; \n",
       "        height: 580px; \n",
       "        background: \n",
       "            repeating-linear-gradient(\n",
       "                248deg, \n",
       "                rgba(0, 188, 212, 0.24), \n",
       "                rgba(255 , 0 , 0 , 0), \n",
       "                rgba(0, 188, 212, 0.5) 5px\n",
       "            ), \n",
       "            repeating-linear-gradient(\n",
       "                130deg, \n",
       "                #9e9e9e, \n",
       "                rgba(0 , 255 , 0 , 0) 70.71%\n",
       "            ), \n",
       "            repeating-linear-gradient(\n",
       "                20deg, \n",
       "                #607d8b, \n",
       "                rgba(0 , 0 , 255 , 0) 70.71%\n",
       "            );\n",
       "    }\n",
       "\n",
       "    #tariff_ultra\n",
       "    {\n",
       "        text-align: left; \n",
       "        color: white; \n",
       "        font-family: monospace; \n",
       "        height: 580px;\n",
       "        background: \n",
       "            repeating-linear-gradient(\n",
       "                248deg, \n",
       "                rgba(0 , 188 , 212 , 0.24), \n",
       "                rgba(255 , 0 , 0 , 0), \n",
       "                rgba(0 , 188 , 212 , 0.5) 5px\n",
       "            ), \n",
       "            repeating-linear-gradient(\n",
       "                310deg, \n",
       "                #9e9e9e, \n",
       "                rgba(0 , 255 , 0 , 0) 70.71%\n",
       "            ) , \n",
       "            repeating-linear-gradient(\n",
       "                205deg, \n",
       "                #607d8b, \n",
       "                rgba(0 , 0 , 255 , 0) 70.71%\n",
       "            );\n",
       "    }\n",
       "\n",
       "    .tariff_block\n",
       "    {\n",
       "        width: 440px;\n",
       "        display: inline-block;\n",
       "        text-align: center;\n",
       "    }\n",
       "\n",
       "    .tariff_name\n",
       "    {\n",
       "        width: 118px;\n",
       "        display: inline-block;\n",
       "        background-color: #ff5722;\n",
       "        padding: 10px;\n",
       "        border-radius: 20px 0px 40px 0px;\n",
       "        margin-right: -100px;\n",
       "    }\n",
       "\n",
       "    #tariff_ultra .tariff_name\n",
       "    {\n",
       "        margin-right: -100px !important;\n",
       "    }\n",
       "\n",
       "    .tariff_bg\n",
       "    {\n",
       "        width: 400px;\n",
       "        height: 400px;\n",
       "        background: \n",
       "            linear-gradient(\n",
       "                248deg, \n",
       "                #4caf50, \n",
       "                rgba(255 , 0 , 0 , 0.2) 70.71%\n",
       "            ), \n",
       "            linear-gradient(\n",
       "                122deg, \n",
       "                #8bc34a, \n",
       "                rgba(0 , 255 , 0 , 0.5) 70.71%\n",
       "            ), \n",
       "            linear-gradient(\n",
       "                9deg, \n",
       "                #4caf50, \n",
       "                rgba(0 , 0 , 255 , 0.5) 70.71%\n",
       "            );\n",
       "        display: inline-block;\n",
       "        padding: 10px;\n",
       "        box-shadow: 3px 3px 4px 1px rgba(0, 0, 0, 0.27);\n",
       "        border-radius: 160px;\n",
       "        margin: 20px;\n",
       "        margin-top: 0px !important;\n",
       "        text-align: center !important;\n",
       "    }\n",
       "\n",
       "    .tariff_price\n",
       "    {\n",
       "        color: #333;\n",
       "        font-weight: bold;\n",
       "        font-size: 60px;\n",
       "        line-height: 125px;\n",
       "        width: 150px;\n",
       "        height: 150px;\n",
       "        background-color: white;\n",
       "        border-radius: 80px;\n",
       "        padding: 10px;\n",
       "        position: relative;\n",
       "        top: 5px;\n",
       "        display: inline-block\n",
       "    }\n",
       "\n",
       "    .tariff_price_description\n",
       "    {\n",
       "        display: inline-block;\n",
       "        position: relative;\n",
       "        width: 400px;\n",
       "        top: -30px;\n",
       "        color: #333;\n",
       "        font-size: 10px;\n",
       "        margin-left: -10px\n",
       "    }\n",
       "\n",
       "    .tariff_settings_block\n",
       "    {\n",
       "        position: relative;\n",
       "        left: 20px;\n",
       "        top: -25px;\n",
       "        display: flex;\n",
       "        width: 320px;\n",
       "    }\n",
       "\n",
       "    .tariff_settings_buttons_block\n",
       "    {\n",
       "        color: #333;\n",
       "        font-family: 'segoe ui' , 'roboto' , 'oxygen' , 'ubuntu' , 'helvetica neue' , 'arial' , sans-serif , 'apple color emoji' , 'segoe ui emoji' , 'segoe ui symbol';\n",
       "        font-size: 40px;\n",
       "        width: 90px;\n",
       "        display: inline-block;\n",
       "        line-height: 40px;\n",
       "        text-align: center;\n",
       "        padding: 10px;\n",
       "    }\n",
       "\n",
       "    .tariff_settings_button\n",
       "    {\n",
       "        border-radius: 30px;\n",
       "        background-color: white;\n",
       "        height: 60px;\n",
       "        width: 60px;\n",
       "        padding-top: 8px;\n",
       "        display: inline-block;\n",
       "    }\n",
       "\n",
       "    .tariff_settings_button.last\n",
       "    {\n",
       "        padding-top: 8px !important;\n",
       "    }\n",
       "\n",
       "\n",
       "    .tariff_settings_description_block\n",
       "    {\n",
       "        text-align: left;\n",
       "        padding: 10px;\n",
       "        line-height: 60px;\n",
       "        font-size: 18px;\n",
       "        font-weight: bold;\n",
       "    }\n",
       "\n",
       "    .tariff_settings_description\n",
       "    {\n",
       "        display: inline-block;\n",
       "        height: 60px;\n",
       "        width: 100%;\n",
       "    }\n",
       "\n",
       "    .tariff_settings_limit\n",
       "    {\n",
       "        width: 100%;\n",
       "        background: \n",
       "            linear-gradient(\n",
       "                248deg, \n",
       "                #ff5722, \n",
       "                rgba(255 , 0 , 0 , 0) 70.71%\n",
       "            ), \n",
       "            linear-gradient(\n",
       "                122deg, \n",
       "                #e91e63, \n",
       "                rgba(0 , 255 , 0 , 0) 70.71%\n",
       "            ), \n",
       "            linear-gradient(\n",
       "                9deg, \n",
       "                #9c27b0, \n",
       "                rgba(0 , 0 , 255 , 0) 70.71%\n",
       "            );\n",
       "            text-align: left;\n",
       "            padding: 10px;\n",
       "    }\n",
       "    \n",
       "    /****END***TARIFFS***********/\n",
       "    \n",
       "    h1, h2, h3 {\n",
       "        /* background: repeating-linear-gradient(248deg , #ffffff , rgb(96 125 139 / 50%) , rgb(255 255 255 / 50%) 5px); */\n",
       "        padding: 10px;\n",
       "        color: #607d8b;\n",
       "    }\n",
       "    \n",
       "    div.ow_fl {\n",
       "        overflow: auto;\n",
       "    }\n",
       "    \n",
       "    div.ow_fl p {\n",
       "        display:flex;\n",
       "    }\n",
       "    \n",
       "    .rendered_html :link {\n",
       "        text-decoration: none;\n",
       "    }\n",
       "        \n",
       "    a:hover, a:focus {\n",
       "        color: #1a466c;\n",
       "        text-decoration: underline !important;\n",
       "    }\n",
       "    \n",
       "    #notebook-container {\n",
       "        /*width: 1700px;*/\n",
       "    }\n",
       "    \n",
       "    #notebook-container .cell:nth-child(1) {\n",
       "        display: none;\n",
       "    }\n",
       "    \n",
       "    #notebook-container .cell:nth-child(2) {\n",
       "        display: none;\n",
       "    }\n",
       "    \n",
       "    table {float: left;}\n",
       "    table td, table th, table tr {\n",
       "        text-align:left !important;\n",
       "    }\n",
       "    \n",
       "    .menu_table thead,\n",
       "    .menu_table tbody,\n",
       "    .menu_table tr\n",
       "    {\n",
       "        border: none !important;\n",
       "        background: none !important;\n",
       "        cursor: default;\n",
       "    }\n",
       "    \n",
       "    .menu_table thead {\n",
       "        display: none;\n",
       "    }\n",
       "    \n",
       "    .clearfix {\n",
       "        clear: both;\n",
       "    }\n",
       "    \n",
       "    \n",
       "    /*----BLOCKS-------------*/\n",
       "    \n",
       "    .rendered_html em del \n",
       "    {\n",
       "        text-decoration: none;\n",
       "        border: 1px solid gray;\n",
       "        border-radius: 10px;\n",
       "        padding: 2px;\n",
       "        background: bisque;\n",
       "        box-shadow: 1px 1px 3px grey;\n",
       "        font-style: italic;\n",
       "        font-weight: bold;\n",
       "        color: brown;\n",
       "        line-height: 30px;\n",
       "    }\n",
       "    \n",
       "    .rendered_html del {\n",
       "        text-decoration: none !important;\n",
       "    }\n",
       "    \n",
       "    \n",
       "    .rendered_html strong em,\n",
       "    .rendered_html em strong \n",
       "    {\n",
       "        \n",
       "        display: block;\n",
       "        border-radius: 5px;\n",
       "        padding: 15px;\n",
       "        font-style: normal !important;\n",
       "        text-decoration: none;\n",
       "    }\n",
       "    \n",
       "    .rendered_html strong em\n",
       "    {\n",
       "        background: rgba(66, 165, 245, 0.2);\n",
       "        color: rgba(0, 0, 0, 0.8);\n",
       "        font-weight: normal;\n",
       "    }\n",
       "    \n",
       "    .rendered_html em strong\n",
       "    {\n",
       "        background: rgba(232, 245, 233, 1);\n",
       "        color: rgba(0, 0, 0, 0.8);\n",
       "        font-weight: normal;\n",
       "    }\n",
       "\n",
       "    .rendered_html strong em code,\n",
       "    .rendered_html em strong code\n",
       "    {\n",
       "        background: white;\n",
       "        border-radius: 4px;\n",
       "        padding: 2px !important;\n",
       "    }    \n",
       "\n",
       "\n",
       "    /*-----TABLE---------*/\n",
       "    \n",
       "    .table_border {\n",
       "        border-radius: 10px;\n",
       "        border: 1px solid #ccc !important;\n",
       "        margin: 5px;\n",
       "        margin-top: 40px !important;\n",
       "        padding: 5px;\n",
       "        display: inline-block;\n",
       "        cursor: default;\n",
       "        box-shadow: 5px 4px 5px 1px rgba(0, 0, 0, 0.07);\n",
       "    }\n",
       "    \n",
       "    .table_border:before, \n",
       "    p.value:before \n",
       "    {\n",
       "        content: attr(data-title);\n",
       "        position: absolute;\n",
       "        display: block;\n",
       "        margin-block: auto;\n",
       "        margin-top: -25px;\n",
       "        /*color: rgb(0 0 0 / 30%);*/\n",
       "        color: #4caf50;\n",
       "        font-size: 10px;\n",
       "    }\n",
       "\n",
       "    p:before \n",
       "    {\n",
       "        margin-top: -15px !important;\n",
       "    }\n",
       "    \n",
       "    p.value \n",
       "    {\n",
       "        padding-top: 40px;\n",
       "    }\n",
       "    \n",
       "    .table_border thead, \n",
       "    .table_border thead tr, \n",
       "    .table_border thead th {\n",
       "        color: #03a9f4;\n",
       "        vertical-align: middle;\n",
       "    }\n",
       "    \n",
       "\n",
       "    .table_border thead tr\n",
       "    {\n",
       "        background: rgba(66, 165, 245, 0.2) !important;\n",
       "        border-bottom: 1px solid #b2ebf2 !important;\n",
       "        padding: 1px;\n",
       "    }\n",
       "    \n",
       "    .table_border tbody td:hover\n",
       "    {\n",
       "        font-weight: bold;\n",
       "        color: #03a9f4;\n",
       "    }\n",
       "\n",
       "    .table_border thead tr:first-child th:first-child {\n",
       "        border-radius: 10px 0px 0px 0px;\n",
       "    }\n",
       "\n",
       "    .table_border thead tr:first-child th:last-child {\n",
       "        border-radius: 0px 10px 0px 0px;\n",
       "    }\n",
       "    \n",
       "    .table_border tbody tr:last-child:hover\n",
       "    {\n",
       "        border-radius: 0px 0px 10px 10px;\n",
       "        padding: 0px;\n",
       "    }\n",
       "    \n",
       "    .table_border tbody tr:last-child:hover th,\n",
       "    .table_border tbody tr:last-child:hover td {\n",
       "        background: antiquewhite !important;\n",
       "    }\n",
       "\n",
       "    .table_border tbody tr:hover,\n",
       "    .table_border tbody tr:hover th,\n",
       "    .table_border tbody tr:hover td,\n",
       "    .table_border tbody tr:hover > th,\n",
       "    .table_border tbody td.active\n",
       "    {\n",
       "        background: rgba(66, 165, 245, 0.2) !important;\n",
       "    }\n",
       "    \n",
       "    .table_border tbody tr:last-child:hover th,\n",
       "    .table_border tbody tr:last-child:hover td:first-child {\n",
       "        border-radius: 0px 0px 0px 10px;\n",
       "        display: table-cell;\n",
       "    }\n",
       "    \n",
       "    .table_border tbody tr:last-child:hover td:last-child {\n",
       "        border-radius: 0px 0px 10px 0px;\n",
       "        display: table-cell;\n",
       "    }\n",
       "    \n",
       "    .table_border tbody tr,\n",
       "    .table_border tbody th,\n",
       "    .table_border tbody td\n",
       "    {\n",
       "        background: white;\n",
       "    }\n",
       "    \n",
       "    .table_border tbody td {\n",
       "        min-width: 120px;\n",
       "    }\n",
       "    \n",
       "    .table_border tbody tr .row_heading {\n",
       "        color: rgba(0,0,0,0.2)\n",
       "    }\n",
       "    \n",
       "    .table_border td.table_border_td_nan {\n",
       "        font-weight: bold;\n",
       "        text-transform: capitalize;\n",
       "        color: red;\n",
       "    }\n",
       "\n",
       "    .table_border tbody tr:hover .row_heading {\n",
       "        color: #1565c0;\n",
       "    }\n",
       "    \n",
       "    /*\n",
       "    ++++++++++++++++++++++\n",
       "    .table_border {\n",
       "        border-radius: 13px;\n",
       "        border: 1px solid #ccc !important;\n",
       "        margin: 5px;\n",
       "        padding: 5px;\n",
       "        display: inline-block;\n",
       "        cursor: default;\n",
       "        box-shadow: 5px 4px 5px 1px rgba(0, 0, 0, 0.07);\n",
       "    }\n",
       "    \n",
       "    .table_border table, \n",
       "    {\n",
       "        border-collapse: separate;\n",
       "    }\n",
       "    \n",
       "    .table_border thead,\n",
       "    .table_border thead tr,\n",
       "    .table_border thead th\n",
       "    {\n",
       "        text-align: center !important;\n",
       "        color: #03a9f4;\n",
       "    }\n",
       "    \n",
       "    \n",
       "    .table_border thead th\n",
       "    {\n",
       "        border-right: 1px solid;\n",
       "    }\n",
       "    \n",
       "    .table_border thead th:last-child\n",
       "    {\n",
       "        border-right: none;\n",
       "    }\n",
       "    \n",
       "    .table_border thead\n",
       "    {\n",
       "        display: table-caption;\n",
       "        border: none !important;\n",
       "    }\n",
       "    \n",
       "    .table_border tbody\n",
       "    {\n",
       "        border: none !important;\n",
       "        display: table-cell;\n",
       "    }\n",
       "    \n",
       "    ++++++++++++++++++++++\n",
       "    .table_border thead tr\n",
       "    {\n",
       "        background: rgba(66, 165, 245, 0.2) !important;\n",
       "        border-bottom: 1px solid #b2ebf2 !important;\n",
       "        display: table-row;\n",
       "        padding: 1px;\n",
       "    }\n",
       "    \n",
       "    ++++++++++++++++++++++\n",
       "    .table_border thead tr:first-child th:first-child {\n",
       "        display: table-cell;\n",
       "        border-radius: 10px 0px 0px 0px;\n",
       "    }\n",
       "    ++++++++++++++++++++++\n",
       "    .table_border thead tr:first-child th:last-child {\n",
       "        display: table-cell;\n",
       "        border-radius: 0px 10px 0px 0px;\n",
       "    }\n",
       "    \n",
       "    .table_border thead th\n",
       "    {\n",
       "        word-break: inherit;            \n",
       "    }\n",
       "\n",
       "    .table_border th, .table_border tbody td {\n",
       "        width: 110px;\n",
       "        word-break: break-word;\n",
       "    }\n",
       "    \n",
       "    .table_border tbody tr\n",
       "    {\n",
       "        background: none !important;\n",
       "    }\n",
       "    \n",
       "    ++++++++++++++++++++++\n",
       "    .table_border tbody tr:hover,\n",
       "    .table_border tbody td.active\n",
       "    {\n",
       "        background: rgba(66, 165, 245, 0.2) !important;\n",
       "    }\n",
       "    \n",
       "    ++++++++++++++++++++++\n",
       "    .table_border tbody td:hover\n",
       "    {\n",
       "        font-weight: bold;\n",
       "        color: #03a9f4;\n",
       "    }\n",
       "    \n",
       "    .table_border tbody tr:last-child:hover\n",
       "    {\n",
       "        border-radius: 0px 0px 10px 10px;\n",
       "        display: block;\n",
       "        padding: 0px;\n",
       "        background: antiquewhite !important;\n",
       "    }\n",
       "    \n",
       "    /*.table_border th, \n",
       "    .table_border td\n",
       "    {\n",
       "        width: 250px !important;\n",
       "        word-break: break-word;\n",
       "    }*/\n",
       "    \n",
       "    \n",
       "    .sea_war th,\n",
       "    .sea_war td\n",
       "    {\n",
       "        width: 26px !important;\n",
       "    }\n",
       "    \n",
       "    .sea_war tbody th,\n",
       "    .sea_war tbody td\n",
       "    {\n",
       "        border: 1px solid rgba(0,0,0,0.1);\n",
       "    }\n",
       "    \n",
       "    .sea_war tbody th\n",
       "    {\n",
       "        color: rgba(0,0,0,0.5);\n",
       "        text-align: center !important;\n",
       "    }\n",
       "    \n",
       "    /*---------------Borders------------------------*/\n",
       "    \n",
       "    /* border_horizont  */\n",
       "    .border_horizont tbody th, \n",
       "    .border_horizont tbody td\n",
       "    {\n",
       "        border-bottom: 1px solid rgba(0,0,0,0.04);\n",
       "    }\n",
       "    \n",
       "    .border_horizont tbody tr:last-child th, \n",
       "    .border_horizont tbody tr:last-child td\n",
       "    {\n",
       "        border-bottom: none;\n",
       "    }\n",
       "    \n",
       "    /* border_vertical  */\n",
       "    .border_vertical tbody th, \n",
       "    .border_vertical tbody td\n",
       "    {\n",
       "        border-right: 1px solid rgba(0,0,0,0.04);\n",
       "    }\n",
       "     \n",
       "    .border_vertical tbody td:last-child\n",
       "    {\n",
       "        border-right: none;\n",
       "    }\n",
       "    \n",
       "    /* border_display  */\n",
       "    .border_display tbody th, \n",
       "    .border_display tbody td\n",
       "    {\n",
       "        border: 1px solid rgba(0,0,0,0.04);\n",
       "    }\n",
       "    .border_display tbody th,\n",
       "    .border_display tbody td\n",
       "    {\n",
       "        border-left: none;\n",
       "        border-top: none;\n",
       "    }\n",
       "    .border_display tbody td:last-child\n",
       "    {\n",
       "       border-right: none; \n",
       "    }\n",
       "    .border_display tbody tr:last-child th,\n",
       "    .border_display tbody tr:last-child td \n",
       "    {\n",
       "        border-bottom: none;\n",
       "    }\n",
       "    \n",
       "    \n",
       "    /* positions  */\n",
       "    \n",
       "    .position_left thead th,\n",
       "    .position_left tbody td {\n",
       "        text-align: left !important;\n",
       "    }\n",
       "    \n",
       "    .position_center thead th,\n",
       "    .position_center tbody td {\n",
       "        text-align: center !important;\n",
       "    }\n",
       "\n",
       "    .position_right thead th,\n",
       "    .position_right tbody td {\n",
       "        text-align: right !important;\n",
       "    }\n",
       "    \n",
       "    .position_left_header thead th {\n",
       "        text-align: left !important;\n",
       "    }\n",
       "    \n",
       "    .position_center_header thead th {\n",
       "        text-align: center !important;\n",
       "    }\n",
       "    .position_right_header thead th {\n",
       "        text-align: right !important;\n",
       "    }\n",
       "    \n",
       "    /*---------------Code------------------------*/\n",
       "    .rendered_html p code,\n",
       "    .rendered_html ul code,\n",
       "    .rendered_html pre code[class*=\"custom\"]\n",
       "    {\n",
       "        background-color: #d9edfd;\n",
       "        color: #4c4c4c;\n",
       "        font-size: 16px !important;\n",
       "        border-radius: 10px;\n",
       "        font-weight: bold;\n",
       "        border: 1px solid #ccc !important;\n",
       "        padding: 5px !important;\n",
       "        line-height: 19px !important;\n",
       "        display: inline-block;\n",
       "        margin: 5px 0px -2px 0px;\n",
       "        word-break: break-word;\n",
       "    }\n",
       "    \n",
       "    .rendered_html code span[class*=\"-bold\"]\n",
       "    {\n",
       "        font-weight: bold;\n",
       "    }\n",
       "    \n",
       "    .rendered_html code span[class*=\"-italic\"]\n",
       "    {\n",
       "        font-style: italic;\n",
       "    }\n",
       "    \n",
       "    .rendered_html code span[class*=\"-marker\"]\n",
       "    {\n",
       "        background: #ffeb3b8c;\n",
       "        font-weight: bold;\n",
       "        border: 1px solid #9e9e9e;\n",
       "        box-shadow: 1px 1px 5px 0px #00000045;\n",
       "        border-radius: 4px;\n",
       "        padding: 2px;\n",
       "        opacity: 0.8;\n",
       "        line-height: 30px;\n",
       "    }\n",
       "\n",
       "    .rendered_html code[class*=\"error\"] {\n",
       "        color: red !important;\n",
       "        background-color: rgba(244, 67, 54, 0.1) !important;\n",
       "        font-weight: normal !important;\n",
       "    }\n",
       "    \n",
       "    .rendered_html code[class*=\"warning\"] {\n",
       "        color: #ff9800 !important;\n",
       "        background-color: rgba(244, 243, 54, 0.1) !important;\n",
       "        font-weight: normal !important;\n",
       "    }\n",
       "\n",
       "    .rendered_html code[class*=\"info\"] {\n",
       "        color: green !important;\n",
       "        background-color: rgb(54, 244, 91, 0.1) !important;\n",
       "        font-weight: normal !important;\n",
       "    }\n",
       "    \n",
       "    .rendered_html code[class*=\"word\"] {\n",
       "        color: #00bcd4 !important;\n",
       "        background-color: rgba(54, 195, 244, 0.1) !important;\n",
       "        font-weight: normal !important;\n",
       "    }\n",
       "    \n",
       "    /*---------------Imgs------------------------*/\n",
       "    .rendered_html img\n",
       "    {\n",
       "        border-radius: 16px;\n",
       "        border: 1px solid rgb(0 0 0 / 25%);\n",
       "        box-shadow: 5px 6px 8px 1px hsl(0deg 0% 0% / 25%);\n",
       "        padding: 4px;\n",
       "        margin-bottom: 10px;\n",
       "        max-width: 65em;\n",
       "    }\n",
       "    \n",
       "    #ipython_notebook:after {\n",
       "        content: '@alefair кодит';\n",
       "        position: relative;\n",
       "        color: #2196f3;\n",
       "        bottom: 7px;\n",
       "        right: -35px;\n",
       "    }\n",
       "                                                 \n",
       "   .total .banner {\n",
       "        background: repeating-linear-gradient(248deg , rgba(0 , 188 , 212 , 0.24) , rgba(255 , 0 , 0 , 0) , rgba(0 , 188 , 212 , 0.5) 5px) , repeating-linear-gradient(248deg , rgba(96 , 125 , 139 , 0.5) , rgba(0 , 255 , 0 , 0) 45.71%);\n",
       "        height: 50px;\n",
       "        border: 1px solid #999;\n",
       "        border-bottom: none;\n",
       "   }\n",
       "                                                 \n",
       "   .total .description {\n",
       "        border: 1px solid #999;\n",
       "        border-top: none;\n",
       "        padding: 20px;\n",
       "        font-family: monospace;\n",
       "   }\n",
       "                                                 \n",
       "   .total .description h3,\n",
       "   .total .description h4                                              \n",
       "   {\n",
       "        font-weight: bold;\n",
       "        font-size: 16px;\n",
       "        color: #999;\n",
       "        margin-bottom: 10px;\n",
       "   }\n",
       "                                                 \n",
       "   .total .description .content {\n",
       "        color: #333;\n",
       "        font-size: 13px;\n",
       "        border-radius: 10px;\n",
       "        overflow: hidden;\n",
       "        box-shadow: 1px 1px 3px 2px rgba(0, 0, 0, 0.3);\n",
       "   }\n",
       "                                                 \n",
       "    .ribbon {\n",
       "        text-align: center;\n",
       "        display: block;\n",
       "        width: 150px;\n",
       "        height: 40px;\n",
       "        background: #ff5722;\n",
       "        color: white;\n",
       "        font-family: monospace;\n",
       "        padding-top: 10px;\n",
       "    }\n",
       "    .ribbon:after {\n",
       "        content: \"\";\n",
       "        display: block;\n",
       "        position: relative;\n",
       "        top: 10px;\n",
       "        width: 0px;\n",
       "        height: 0;\n",
       "        border-width: 10px 75px 50px 75px;\n",
       "        border-style: solid;\n",
       "        border-color: #ff5722 #d00202 transparent #d00202;\n",
       "    }\n",
       "                                                 \n",
       "    mark em {\n",
       "        font-style: normal !important;\n",
       "        font-weight: bold;\n",
       "        color: #708;\n",
       "        font-size: 16px;\n",
       "        box-shadow: 3px 3px 3px 1px #ccc;\n",
       "    }\n",
       "</style>\n"
      ],
      "text/plain": [
       "<IPython.core.display.HTML object>"
      ]
     },
     "metadata": {},
     "output_type": "display_data"
    }
   ],
   "source": [
    "%%HTML\n",
    "<style> \n",
    "    \n",
    "    #project_logo\n",
    "    {\n",
    "        height: 150px;\n",
    "    }\n",
    "    \n",
    "    #logo_bg\n",
    "    {\n",
    "        text-align: right;\n",
    "        color: white;\n",
    "        font-family: monospace;\n",
    "        height: 100px;\n",
    "        background: \n",
    "            repeating-linear-gradient(\n",
    "                248deg, \n",
    "                rgba(0 , 188 , 212 , 0.24), \n",
    "                rgba(255 , 0 , 0 , 0), \n",
    "                rgba(0 , 188 , 212 , 0.5) 5px\n",
    "            ), \n",
    "            repeating-linear-gradient(\n",
    "                180deg, \n",
    "                #9e9e9e, \n",
    "                rgba(0 , 255 , 0 , 0) 70.71%\n",
    "            ), \n",
    "            repeating-linear-gradient(\n",
    "                0deg, \n",
    "                #607d8b, \n",
    "                rgba(0 , 0 , 255 , 0) 70.71%\n",
    "            );\n",
    "    }\n",
    "    \n",
    "    #logo_text \n",
    "    {\n",
    "        font-size: 100px; \n",
    "        font-weight: bold; \n",
    "        font-family: monospace; \n",
    "        color: #607d8b; \n",
    "        line-height: 100px; \n",
    "        text-shadow: 10px 0 0 rgba(255 , 255 , 255 , 0.45), \n",
    "            -2px 0 0 #fff, \n",
    "            0 1px 0 #fff, \n",
    "            0 -1px 0 #fff, \n",
    "            1px 1px #fff, \n",
    "            -1px -1px 0 #fff, \n",
    "            1px -1px 0 #fff,\n",
    "            -1px 1px 0 #fff, \n",
    "            10px 19px 4px; \n",
    "        opacity: 0.8; \n",
    "        text-align: center;\n",
    "    }\n",
    "    \n",
    "    #project_author\n",
    "    {\n",
    "        width: 160px;\n",
    "        height: 30px;\n",
    "        line-height: 10px;\n",
    "        display: inline-block;\n",
    "        background-color: #ff5722;\n",
    "        padding: 10px;\n",
    "        border-radius: 0px 0px 20px 20px;\n",
    "        text-align: center;\n",
    "        box-shadow: 3px 2px 3px 2px #ccc;\n",
    "        margin: 0;\n",
    "        margin-right: 40px;\n",
    "    }\n",
    "    \n",
    "    \n",
    "    \n",
    "    /*********TARIFFS***********/\n",
    "    \n",
    "    #tariff_smart\n",
    "    {\n",
    "        text-align: right; \n",
    "        color: white; \n",
    "        font-family: monospace; \n",
    "        height: 580px; \n",
    "        background: \n",
    "            repeating-linear-gradient(\n",
    "                248deg, \n",
    "                rgba(0, 188, 212, 0.24), \n",
    "                rgba(255 , 0 , 0 , 0), \n",
    "                rgba(0, 188, 212, 0.5) 5px\n",
    "            ), \n",
    "            repeating-linear-gradient(\n",
    "                130deg, \n",
    "                #9e9e9e, \n",
    "                rgba(0 , 255 , 0 , 0) 70.71%\n",
    "            ), \n",
    "            repeating-linear-gradient(\n",
    "                20deg, \n",
    "                #607d8b, \n",
    "                rgba(0 , 0 , 255 , 0) 70.71%\n",
    "            );\n",
    "    }\n",
    "\n",
    "    #tariff_ultra\n",
    "    {\n",
    "        text-align: left; \n",
    "        color: white; \n",
    "        font-family: monospace; \n",
    "        height: 580px;\n",
    "        background: \n",
    "            repeating-linear-gradient(\n",
    "                248deg, \n",
    "                rgba(0 , 188 , 212 , 0.24), \n",
    "                rgba(255 , 0 , 0 , 0), \n",
    "                rgba(0 , 188 , 212 , 0.5) 5px\n",
    "            ), \n",
    "            repeating-linear-gradient(\n",
    "                310deg, \n",
    "                #9e9e9e, \n",
    "                rgba(0 , 255 , 0 , 0) 70.71%\n",
    "            ) , \n",
    "            repeating-linear-gradient(\n",
    "                205deg, \n",
    "                #607d8b, \n",
    "                rgba(0 , 0 , 255 , 0) 70.71%\n",
    "            );\n",
    "    }\n",
    "\n",
    "    .tariff_block\n",
    "    {\n",
    "        width: 440px;\n",
    "        display: inline-block;\n",
    "        text-align: center;\n",
    "    }\n",
    "\n",
    "    .tariff_name\n",
    "    {\n",
    "        width: 118px;\n",
    "        display: inline-block;\n",
    "        background-color: #ff5722;\n",
    "        padding: 10px;\n",
    "        border-radius: 20px 0px 40px 0px;\n",
    "        margin-right: -100px;\n",
    "    }\n",
    "\n",
    "    #tariff_ultra .tariff_name\n",
    "    {\n",
    "        margin-right: -100px !important;\n",
    "    }\n",
    "\n",
    "    .tariff_bg\n",
    "    {\n",
    "        width: 400px;\n",
    "        height: 400px;\n",
    "        background: \n",
    "            linear-gradient(\n",
    "                248deg, \n",
    "                #4caf50, \n",
    "                rgba(255 , 0 , 0 , 0.2) 70.71%\n",
    "            ), \n",
    "            linear-gradient(\n",
    "                122deg, \n",
    "                #8bc34a, \n",
    "                rgba(0 , 255 , 0 , 0.5) 70.71%\n",
    "            ), \n",
    "            linear-gradient(\n",
    "                9deg, \n",
    "                #4caf50, \n",
    "                rgba(0 , 0 , 255 , 0.5) 70.71%\n",
    "            );\n",
    "        display: inline-block;\n",
    "        padding: 10px;\n",
    "        box-shadow: 3px 3px 4px 1px rgba(0, 0, 0, 0.27);\n",
    "        border-radius: 160px;\n",
    "        margin: 20px;\n",
    "        margin-top: 0px !important;\n",
    "        text-align: center !important;\n",
    "    }\n",
    "\n",
    "    .tariff_price\n",
    "    {\n",
    "        color: #333;\n",
    "        font-weight: bold;\n",
    "        font-size: 60px;\n",
    "        line-height: 125px;\n",
    "        width: 150px;\n",
    "        height: 150px;\n",
    "        background-color: white;\n",
    "        border-radius: 80px;\n",
    "        padding: 10px;\n",
    "        position: relative;\n",
    "        top: 5px;\n",
    "        display: inline-block\n",
    "    }\n",
    "\n",
    "    .tariff_price_description\n",
    "    {\n",
    "        display: inline-block;\n",
    "        position: relative;\n",
    "        width: 400px;\n",
    "        top: -30px;\n",
    "        color: #333;\n",
    "        font-size: 10px;\n",
    "        margin-left: -10px\n",
    "    }\n",
    "\n",
    "    .tariff_settings_block\n",
    "    {\n",
    "        position: relative;\n",
    "        left: 20px;\n",
    "        top: -25px;\n",
    "        display: flex;\n",
    "        width: 320px;\n",
    "    }\n",
    "\n",
    "    .tariff_settings_buttons_block\n",
    "    {\n",
    "        color: #333;\n",
    "        font-family: 'segoe ui' , 'roboto' , 'oxygen' , 'ubuntu' , 'helvetica neue' , 'arial' , sans-serif , 'apple color emoji' , 'segoe ui emoji' , 'segoe ui symbol';\n",
    "        font-size: 40px;\n",
    "        width: 90px;\n",
    "        display: inline-block;\n",
    "        line-height: 40px;\n",
    "        text-align: center;\n",
    "        padding: 10px;\n",
    "    }\n",
    "\n",
    "    .tariff_settings_button\n",
    "    {\n",
    "        border-radius: 30px;\n",
    "        background-color: white;\n",
    "        height: 60px;\n",
    "        width: 60px;\n",
    "        padding-top: 8px;\n",
    "        display: inline-block;\n",
    "    }\n",
    "\n",
    "    .tariff_settings_button.last\n",
    "    {\n",
    "        padding-top: 8px !important;\n",
    "    }\n",
    "\n",
    "\n",
    "    .tariff_settings_description_block\n",
    "    {\n",
    "        text-align: left;\n",
    "        padding: 10px;\n",
    "        line-height: 60px;\n",
    "        font-size: 18px;\n",
    "        font-weight: bold;\n",
    "    }\n",
    "\n",
    "    .tariff_settings_description\n",
    "    {\n",
    "        display: inline-block;\n",
    "        height: 60px;\n",
    "        width: 100%;\n",
    "    }\n",
    "\n",
    "    .tariff_settings_limit\n",
    "    {\n",
    "        width: 100%;\n",
    "        background: \n",
    "            linear-gradient(\n",
    "                248deg, \n",
    "                #ff5722, \n",
    "                rgba(255 , 0 , 0 , 0) 70.71%\n",
    "            ), \n",
    "            linear-gradient(\n",
    "                122deg, \n",
    "                #e91e63, \n",
    "                rgba(0 , 255 , 0 , 0) 70.71%\n",
    "            ), \n",
    "            linear-gradient(\n",
    "                9deg, \n",
    "                #9c27b0, \n",
    "                rgba(0 , 0 , 255 , 0) 70.71%\n",
    "            );\n",
    "            text-align: left;\n",
    "            padding: 10px;\n",
    "    }\n",
    "    \n",
    "    /****END***TARIFFS***********/\n",
    "    \n",
    "    h1, h2, h3 {\n",
    "        /* background: repeating-linear-gradient(248deg , #ffffff , rgb(96 125 139 / 50%) , rgb(255 255 255 / 50%) 5px); */\n",
    "        padding: 10px;\n",
    "        color: #607d8b;\n",
    "    }\n",
    "    \n",
    "    div.ow_fl {\n",
    "        overflow: auto;\n",
    "    }\n",
    "    \n",
    "    div.ow_fl p {\n",
    "        display:flex;\n",
    "    }\n",
    "    \n",
    "    .rendered_html :link {\n",
    "        text-decoration: none;\n",
    "    }\n",
    "        \n",
    "    a:hover, a:focus {\n",
    "        color: #1a466c;\n",
    "        text-decoration: underline !important;\n",
    "    }\n",
    "    \n",
    "    #notebook-container {\n",
    "        /*width: 1700px;*/\n",
    "    }\n",
    "    \n",
    "    #notebook-container .cell:nth-child(1) {\n",
    "        display: none;\n",
    "    }\n",
    "    \n",
    "    #notebook-container .cell:nth-child(2) {\n",
    "        display: none;\n",
    "    }\n",
    "    \n",
    "    table {float: left;}\n",
    "    table td, table th, table tr {\n",
    "        text-align:left !important;\n",
    "    }\n",
    "    \n",
    "    .menu_table thead,\n",
    "    .menu_table tbody,\n",
    "    .menu_table tr\n",
    "    {\n",
    "        border: none !important;\n",
    "        background: none !important;\n",
    "        cursor: default;\n",
    "    }\n",
    "    \n",
    "    .menu_table thead {\n",
    "        display: none;\n",
    "    }\n",
    "    \n",
    "    .clearfix {\n",
    "        clear: both;\n",
    "    }\n",
    "    \n",
    "    \n",
    "    /*----BLOCKS-------------*/\n",
    "    \n",
    "    .rendered_html em del \n",
    "    {\n",
    "        text-decoration: none;\n",
    "        border: 1px solid gray;\n",
    "        border-radius: 10px;\n",
    "        padding: 2px;\n",
    "        background: bisque;\n",
    "        box-shadow: 1px 1px 3px grey;\n",
    "        font-style: italic;\n",
    "        font-weight: bold;\n",
    "        color: brown;\n",
    "        line-height: 30px;\n",
    "    }\n",
    "    \n",
    "    .rendered_html del {\n",
    "        text-decoration: none !important;\n",
    "    }\n",
    "    \n",
    "    \n",
    "    .rendered_html strong em,\n",
    "    .rendered_html em strong \n",
    "    {\n",
    "        \n",
    "        display: block;\n",
    "        border-radius: 5px;\n",
    "        padding: 15px;\n",
    "        font-style: normal !important;\n",
    "        text-decoration: none;\n",
    "    }\n",
    "    \n",
    "    .rendered_html strong em\n",
    "    {\n",
    "        background: rgba(66, 165, 245, 0.2);\n",
    "        color: rgba(0, 0, 0, 0.8);\n",
    "        font-weight: normal;\n",
    "    }\n",
    "    \n",
    "    .rendered_html em strong\n",
    "    {\n",
    "        background: rgba(232, 245, 233, 1);\n",
    "        color: rgba(0, 0, 0, 0.8);\n",
    "        font-weight: normal;\n",
    "    }\n",
    "\n",
    "    .rendered_html strong em code,\n",
    "    .rendered_html em strong code\n",
    "    {\n",
    "        background: white;\n",
    "        border-radius: 4px;\n",
    "        padding: 2px !important;\n",
    "    }    \n",
    "\n",
    "\n",
    "    /*-----TABLE---------*/\n",
    "    \n",
    "    .table_border {\n",
    "        border-radius: 10px;\n",
    "        border: 1px solid #ccc !important;\n",
    "        margin: 5px;\n",
    "        margin-top: 40px !important;\n",
    "        padding: 5px;\n",
    "        display: inline-block;\n",
    "        cursor: default;\n",
    "        box-shadow: 5px 4px 5px 1px rgba(0, 0, 0, 0.07);\n",
    "    }\n",
    "    \n",
    "    .table_border:before, \n",
    "    p.value:before \n",
    "    {\n",
    "        content: attr(data-title);\n",
    "        position: absolute;\n",
    "        display: block;\n",
    "        margin-block: auto;\n",
    "        margin-top: -25px;\n",
    "        /*color: rgb(0 0 0 / 30%);*/\n",
    "        color: #4caf50;\n",
    "        font-size: 10px;\n",
    "    }\n",
    "\n",
    "    p:before \n",
    "    {\n",
    "        margin-top: -15px !important;\n",
    "    }\n",
    "    \n",
    "    p.value \n",
    "    {\n",
    "        padding-top: 40px;\n",
    "    }\n",
    "    \n",
    "    .table_border thead, \n",
    "    .table_border thead tr, \n",
    "    .table_border thead th {\n",
    "        color: #03a9f4;\n",
    "        vertical-align: middle;\n",
    "    }\n",
    "    \n",
    "\n",
    "    .table_border thead tr\n",
    "    {\n",
    "        background: rgba(66, 165, 245, 0.2) !important;\n",
    "        border-bottom: 1px solid #b2ebf2 !important;\n",
    "        padding: 1px;\n",
    "    }\n",
    "    \n",
    "    .table_border tbody td:hover\n",
    "    {\n",
    "        font-weight: bold;\n",
    "        color: #03a9f4;\n",
    "    }\n",
    "\n",
    "    .table_border thead tr:first-child th:first-child {\n",
    "        border-radius: 10px 0px 0px 0px;\n",
    "    }\n",
    "\n",
    "    .table_border thead tr:first-child th:last-child {\n",
    "        border-radius: 0px 10px 0px 0px;\n",
    "    }\n",
    "    \n",
    "    .table_border tbody tr:last-child:hover\n",
    "    {\n",
    "        border-radius: 0px 0px 10px 10px;\n",
    "        padding: 0px;\n",
    "    }\n",
    "    \n",
    "    .table_border tbody tr:last-child:hover th,\n",
    "    .table_border tbody tr:last-child:hover td {\n",
    "        background: antiquewhite !important;\n",
    "    }\n",
    "\n",
    "    .table_border tbody tr:hover,\n",
    "    .table_border tbody tr:hover th,\n",
    "    .table_border tbody tr:hover td,\n",
    "    .table_border tbody tr:hover > th,\n",
    "    .table_border tbody td.active\n",
    "    {\n",
    "        background: rgba(66, 165, 245, 0.2) !important;\n",
    "    }\n",
    "    \n",
    "    .table_border tbody tr:last-child:hover th,\n",
    "    .table_border tbody tr:last-child:hover td:first-child {\n",
    "        border-radius: 0px 0px 0px 10px;\n",
    "        display: table-cell;\n",
    "    }\n",
    "    \n",
    "    .table_border tbody tr:last-child:hover td:last-child {\n",
    "        border-radius: 0px 0px 10px 0px;\n",
    "        display: table-cell;\n",
    "    }\n",
    "    \n",
    "    .table_border tbody tr,\n",
    "    .table_border tbody th,\n",
    "    .table_border tbody td\n",
    "    {\n",
    "        background: white;\n",
    "    }\n",
    "    \n",
    "    .table_border tbody td {\n",
    "        min-width: 120px;\n",
    "    }\n",
    "    \n",
    "    .table_border tbody tr .row_heading {\n",
    "        color: rgba(0,0,0,0.2)\n",
    "    }\n",
    "    \n",
    "    .table_border td.table_border_td_nan {\n",
    "        font-weight: bold;\n",
    "        text-transform: capitalize;\n",
    "        color: red;\n",
    "    }\n",
    "\n",
    "    .table_border tbody tr:hover .row_heading {\n",
    "        color: #1565c0;\n",
    "    }\n",
    "    \n",
    "    /*\n",
    "    ++++++++++++++++++++++\n",
    "    .table_border {\n",
    "        border-radius: 13px;\n",
    "        border: 1px solid #ccc !important;\n",
    "        margin: 5px;\n",
    "        padding: 5px;\n",
    "        display: inline-block;\n",
    "        cursor: default;\n",
    "        box-shadow: 5px 4px 5px 1px rgba(0, 0, 0, 0.07);\n",
    "    }\n",
    "    \n",
    "    .table_border table, \n",
    "    {\n",
    "        border-collapse: separate;\n",
    "    }\n",
    "    \n",
    "    .table_border thead,\n",
    "    .table_border thead tr,\n",
    "    .table_border thead th\n",
    "    {\n",
    "        text-align: center !important;\n",
    "        color: #03a9f4;\n",
    "    }\n",
    "    \n",
    "    \n",
    "    .table_border thead th\n",
    "    {\n",
    "        border-right: 1px solid;\n",
    "    }\n",
    "    \n",
    "    .table_border thead th:last-child\n",
    "    {\n",
    "        border-right: none;\n",
    "    }\n",
    "    \n",
    "    .table_border thead\n",
    "    {\n",
    "        display: table-caption;\n",
    "        border: none !important;\n",
    "    }\n",
    "    \n",
    "    .table_border tbody\n",
    "    {\n",
    "        border: none !important;\n",
    "        display: table-cell;\n",
    "    }\n",
    "    \n",
    "    ++++++++++++++++++++++\n",
    "    .table_border thead tr\n",
    "    {\n",
    "        background: rgba(66, 165, 245, 0.2) !important;\n",
    "        border-bottom: 1px solid #b2ebf2 !important;\n",
    "        display: table-row;\n",
    "        padding: 1px;\n",
    "    }\n",
    "    \n",
    "    ++++++++++++++++++++++\n",
    "    .table_border thead tr:first-child th:first-child {\n",
    "        display: table-cell;\n",
    "        border-radius: 10px 0px 0px 0px;\n",
    "    }\n",
    "    ++++++++++++++++++++++\n",
    "    .table_border thead tr:first-child th:last-child {\n",
    "        display: table-cell;\n",
    "        border-radius: 0px 10px 0px 0px;\n",
    "    }\n",
    "    \n",
    "    .table_border thead th\n",
    "    {\n",
    "        word-break: inherit;            \n",
    "    }\n",
    "\n",
    "    .table_border th, .table_border tbody td {\n",
    "        width: 110px;\n",
    "        word-break: break-word;\n",
    "    }\n",
    "    \n",
    "    .table_border tbody tr\n",
    "    {\n",
    "        background: none !important;\n",
    "    }\n",
    "    \n",
    "    ++++++++++++++++++++++\n",
    "    .table_border tbody tr:hover,\n",
    "    .table_border tbody td.active\n",
    "    {\n",
    "        background: rgba(66, 165, 245, 0.2) !important;\n",
    "    }\n",
    "    \n",
    "    ++++++++++++++++++++++\n",
    "    .table_border tbody td:hover\n",
    "    {\n",
    "        font-weight: bold;\n",
    "        color: #03a9f4;\n",
    "    }\n",
    "    \n",
    "    .table_border tbody tr:last-child:hover\n",
    "    {\n",
    "        border-radius: 0px 0px 10px 10px;\n",
    "        display: block;\n",
    "        padding: 0px;\n",
    "        background: antiquewhite !important;\n",
    "    }\n",
    "    \n",
    "    /*.table_border th, \n",
    "    .table_border td\n",
    "    {\n",
    "        width: 250px !important;\n",
    "        word-break: break-word;\n",
    "    }*/\n",
    "    \n",
    "    \n",
    "    .sea_war th,\n",
    "    .sea_war td\n",
    "    {\n",
    "        width: 26px !important;\n",
    "    }\n",
    "    \n",
    "    .sea_war tbody th,\n",
    "    .sea_war tbody td\n",
    "    {\n",
    "        border: 1px solid rgba(0,0,0,0.1);\n",
    "    }\n",
    "    \n",
    "    .sea_war tbody th\n",
    "    {\n",
    "        color: rgba(0,0,0,0.5);\n",
    "        text-align: center !important;\n",
    "    }\n",
    "    \n",
    "    /*---------------Borders------------------------*/\n",
    "    \n",
    "    /* border_horizont  */\n",
    "    .border_horizont tbody th, \n",
    "    .border_horizont tbody td\n",
    "    {\n",
    "        border-bottom: 1px solid rgba(0,0,0,0.04);\n",
    "    }\n",
    "    \n",
    "    .border_horizont tbody tr:last-child th, \n",
    "    .border_horizont tbody tr:last-child td\n",
    "    {\n",
    "        border-bottom: none;\n",
    "    }\n",
    "    \n",
    "    /* border_vertical  */\n",
    "    .border_vertical tbody th, \n",
    "    .border_vertical tbody td\n",
    "    {\n",
    "        border-right: 1px solid rgba(0,0,0,0.04);\n",
    "    }\n",
    "     \n",
    "    .border_vertical tbody td:last-child\n",
    "    {\n",
    "        border-right: none;\n",
    "    }\n",
    "    \n",
    "    /* border_display  */\n",
    "    .border_display tbody th, \n",
    "    .border_display tbody td\n",
    "    {\n",
    "        border: 1px solid rgba(0,0,0,0.04);\n",
    "    }\n",
    "    .border_display tbody th,\n",
    "    .border_display tbody td\n",
    "    {\n",
    "        border-left: none;\n",
    "        border-top: none;\n",
    "    }\n",
    "    .border_display tbody td:last-child\n",
    "    {\n",
    "       border-right: none; \n",
    "    }\n",
    "    .border_display tbody tr:last-child th,\n",
    "    .border_display tbody tr:last-child td \n",
    "    {\n",
    "        border-bottom: none;\n",
    "    }\n",
    "    \n",
    "    \n",
    "    /* positions  */\n",
    "    \n",
    "    .position_left thead th,\n",
    "    .position_left tbody td {\n",
    "        text-align: left !important;\n",
    "    }\n",
    "    \n",
    "    .position_center thead th,\n",
    "    .position_center tbody td {\n",
    "        text-align: center !important;\n",
    "    }\n",
    "\n",
    "    .position_right thead th,\n",
    "    .position_right tbody td {\n",
    "        text-align: right !important;\n",
    "    }\n",
    "    \n",
    "    .position_left_header thead th {\n",
    "        text-align: left !important;\n",
    "    }\n",
    "    \n",
    "    .position_center_header thead th {\n",
    "        text-align: center !important;\n",
    "    }\n",
    "    .position_right_header thead th {\n",
    "        text-align: right !important;\n",
    "    }\n",
    "    \n",
    "    /*---------------Code------------------------*/\n",
    "    .rendered_html p code,\n",
    "    .rendered_html ul code,\n",
    "    .rendered_html pre code[class*=\"custom\"]\n",
    "    {\n",
    "        background-color: #d9edfd;\n",
    "        color: #4c4c4c;\n",
    "        font-size: 16px !important;\n",
    "        border-radius: 10px;\n",
    "        font-weight: bold;\n",
    "        border: 1px solid #ccc !important;\n",
    "        padding: 5px !important;\n",
    "        line-height: 19px !important;\n",
    "        display: inline-block;\n",
    "        margin: 5px 0px -2px 0px;\n",
    "        word-break: break-word;\n",
    "    }\n",
    "    \n",
    "    .rendered_html code span[class*=\"-bold\"]\n",
    "    {\n",
    "        font-weight: bold;\n",
    "    }\n",
    "    \n",
    "    .rendered_html code span[class*=\"-italic\"]\n",
    "    {\n",
    "        font-style: italic;\n",
    "    }\n",
    "    \n",
    "    .rendered_html code span[class*=\"-marker\"]\n",
    "    {\n",
    "        background: #ffeb3b8c;\n",
    "        font-weight: bold;\n",
    "        border: 1px solid #9e9e9e;\n",
    "        box-shadow: 1px 1px 5px 0px #00000045;\n",
    "        border-radius: 4px;\n",
    "        padding: 2px;\n",
    "        opacity: 0.8;\n",
    "        line-height: 30px;\n",
    "    }\n",
    "\n",
    "    .rendered_html code[class*=\"error\"] {\n",
    "        color: red !important;\n",
    "        background-color: rgba(244, 67, 54, 0.1) !important;\n",
    "        font-weight: normal !important;\n",
    "    }\n",
    "    \n",
    "    .rendered_html code[class*=\"warning\"] {\n",
    "        color: #ff9800 !important;\n",
    "        background-color: rgba(244, 243, 54, 0.1) !important;\n",
    "        font-weight: normal !important;\n",
    "    }\n",
    "\n",
    "    .rendered_html code[class*=\"info\"] {\n",
    "        color: green !important;\n",
    "        background-color: rgb(54, 244, 91, 0.1) !important;\n",
    "        font-weight: normal !important;\n",
    "    }\n",
    "    \n",
    "    .rendered_html code[class*=\"word\"] {\n",
    "        color: #00bcd4 !important;\n",
    "        background-color: rgba(54, 195, 244, 0.1) !important;\n",
    "        font-weight: normal !important;\n",
    "    }\n",
    "    \n",
    "    /*---------------Imgs------------------------*/\n",
    "    .rendered_html img\n",
    "    {\n",
    "        border-radius: 16px;\n",
    "        border: 1px solid rgb(0 0 0 / 25%);\n",
    "        box-shadow: 5px 6px 8px 1px hsl(0deg 0% 0% / 25%);\n",
    "        padding: 4px;\n",
    "        margin-bottom: 10px;\n",
    "        max-width: 65em;\n",
    "    }\n",
    "    \n",
    "    #ipython_notebook:after {\n",
    "        content: '@alefair кодит';\n",
    "        position: relative;\n",
    "        color: #2196f3;\n",
    "        bottom: 7px;\n",
    "        right: -35px;\n",
    "    }\n",
    "                                                 \n",
    "   .total .banner {\n",
    "        background: repeating-linear-gradient(248deg , rgba(0 , 188 , 212 , 0.24) , rgba(255 , 0 , 0 , 0) , rgba(0 , 188 , 212 , 0.5) 5px) , repeating-linear-gradient(248deg , rgba(96 , 125 , 139 , 0.5) , rgba(0 , 255 , 0 , 0) 45.71%);\n",
    "        height: 50px;\n",
    "        border: 1px solid #999;\n",
    "        border-bottom: none;\n",
    "   }\n",
    "                                                 \n",
    "   .total .description {\n",
    "        border: 1px solid #999;\n",
    "        border-top: none;\n",
    "        padding: 20px;\n",
    "        font-family: monospace;\n",
    "   }\n",
    "                                                 \n",
    "   .total .description h3,\n",
    "   .total .description h4                                              \n",
    "   {\n",
    "        font-weight: bold;\n",
    "        font-size: 16px;\n",
    "        color: #999;\n",
    "        margin-bottom: 10px;\n",
    "   }\n",
    "                                                 \n",
    "   .total .description .content {\n",
    "        color: #333;\n",
    "        font-size: 13px;\n",
    "        border-radius: 10px;\n",
    "        overflow: hidden;\n",
    "        box-shadow: 1px 1px 3px 2px rgba(0, 0, 0, 0.3);\n",
    "   }\n",
    "                                                 \n",
    "    .ribbon {\n",
    "        text-align: center;\n",
    "        display: block;\n",
    "        width: 150px;\n",
    "        height: 40px;\n",
    "        background: #ff5722;\n",
    "        color: white;\n",
    "        font-family: monospace;\n",
    "        padding-top: 10px;\n",
    "    }\n",
    "    .ribbon:after {\n",
    "        content: \"\";\n",
    "        display: block;\n",
    "        position: relative;\n",
    "        top: 10px;\n",
    "        width: 0px;\n",
    "        height: 0;\n",
    "        border-width: 10px 75px 50px 75px;\n",
    "        border-style: solid;\n",
    "        border-color: #ff5722 #d00202 transparent #d00202;\n",
    "    }\n",
    "                                                 \n",
    "    mark em {\n",
    "        font-style: normal !important;\n",
    "        font-weight: bold;\n",
    "        color: #708;\n",
    "        font-size: 16px;\n",
    "        box-shadow: 3px 3px 3px 1px #ccc;\n",
    "    }\n",
    "</style>"
   ]
  },
  {
   "cell_type": "code",
   "execution_count": null,
   "id": "56ab2e92",
   "metadata": {},
   "outputs": [],
   "source": [
    "def path_remover(path=''):\n",
    "    import sys\n",
    "    for el in sys.path:\n",
    "        if el == path:\n",
    "            sys.path.remove(path)\n",
    "\n",
    "class Formatter(object):\n",
    "    def __init__(self):\n",
    "        self.types = {}\n",
    "        self.htchar = '\\t'\n",
    "        self.lfchar = '\\n'\n",
    "        self.indent = 0\n",
    "        self.set_formater(object, self.__class__.format_object)\n",
    "        self.set_formater(dict, self.__class__.format_dict)\n",
    "        self.set_formater(list, self.__class__.format_list)\n",
    "        self.set_formater(tuple, self.__class__.format_tuple)\n",
    "\n",
    "    def set_formater(self, obj, callback):\n",
    "        self.types[obj] = callback\n",
    "\n",
    "    def __call__(self, value, **args):\n",
    "        for key in args:\n",
    "            setattr(self, key, args[key])\n",
    "        formater = self.types[type(value) if type(value) in self.types else object]\n",
    "        return formater(self, value, self.indent)\n",
    "\n",
    "    def format_object(self, value, indent):\n",
    "        if 'DataFrame' in str(type(value)):\n",
    "            return str(type(value))\n",
    "        else:\n",
    "            return repr(value)\n",
    "\n",
    "    def format_dict(self, value, indent):\n",
    "        items = [\n",
    "            self.lfchar + self.htchar * (indent + 1) + repr(key) + ': ' +\n",
    "            (self.types[type(value[key]) if type(value[key]) in self.types else object])(self, value[key], indent + 1)\n",
    "            for key in value\n",
    "        ]\n",
    "        return '{%s}' % (','.join(items) + self.lfchar + self.htchar * indent)\n",
    "\n",
    "    def format_list(self, value, indent):\n",
    "        items = [\n",
    "            self.lfchar + self.htchar * (indent + 1) + (self.types[type(item) if type(item) in self.types else object])(self, item, indent + 1)\n",
    "            for item in value\n",
    "        ]\n",
    "        return '[%s]' % (','.join(items) + self.lfchar + self.htchar * indent)\n",
    "\n",
    "    def format_tuple(self, value, indent):\n",
    "        items = [\n",
    "            self.lfchar + self.htchar * (indent + 1) + (self.types[type(item) if type(item) in self.types else object])(self, item, indent + 1)\n",
    "            for item in value\n",
    "        ]\n",
    "        return '(%s)' % (','.join(items) + self.lfchar + self.htchar * indent)\n",
    "        \n",
    "\n",
    "\n",
    "def color_nan_red(val, marker=None, table=None):\n",
    "\n",
    "    general_style = 'font-weight:bold;text-transform: capitalize;'\n",
    "    \n",
    "    nan_class    = general_style + 'color: red;'\n",
    "    unknow_class = general_style + 'color: #9c27b0;'\n",
    "    value_class  = ''\n",
    "    \n",
    "    max_class    = general_style + 'color: #ff6f00;'\n",
    "    min_class    = general_style + 'color: #0d64a1;'\n",
    "    \n",
    "    classes_list = []\n",
    "    \n",
    "    for i, cell in enumerate(val):\n",
    "        if marker:\n",
    "            if i in marker.keys():\n",
    "                \n",
    "                \n",
    "                if ('str' in str(type(marker[i])) and 'str' in str(type(cell))):\n",
    "                    if cell == marker[i]:\n",
    "                        classes_list.append(nan_class)\n",
    "                        continue\n",
    "                elif 'list' in str(type(marker[i])):\n",
    "                    if marker[i][0] == 'min' and cell == marker[i][1]:\n",
    "                        classes_list.append(min_class)\n",
    "                        continue\n",
    "                    elif marker[i][0] == 'max' and cell == marker[i][1]:\n",
    "                        classes_list.append(max_class)\n",
    "                        continue\n",
    "                    elif marker[i][0] == 'max_min' and cell in marker[i]:\n",
    "                        if 'str' not in str(type(cell)):\n",
    "                            if cell == min(item for item in marker[i][1:] if 'str' not in str(type(item))):\n",
    "                                classes_list.append(min_class)\n",
    "                                continue\n",
    "                            elif cell == max(item for item in marker[i][1:] if 'str' not in str(type(item))):\n",
    "                                classes_list.append(max_class)\n",
    "                                continue\n",
    "                        elif 'str' in str(type(cell)):\n",
    "                            if cell == min(item for item in marker[i][1:] if 'str' in str(type(item))):\n",
    "                                classes_list.append(min_class)\n",
    "                                continue\n",
    "                            elif cell == max(item for item in marker[i][1:] if 'str' in str(type(item))):\n",
    "                                classes_list.append(max_class)\n",
    "                                continue\n",
    "                    elif cell in marker[i]:\n",
    "                        if 'str' not in str(type(cell)):\n",
    "                            if cell == min(item for item in marker[i] if 'str' not in str(type(item))):\n",
    "                                classes_list.append(min_class)\n",
    "                                continue\n",
    "                            elif cell == max(item for item in marker[i] if 'str' not in str(type(item))):\n",
    "                                classes_list.append(max_class)\n",
    "                                continue\n",
    "                            else:\n",
    "                                classes_list.append(unknow_class)\n",
    "                                continue\n",
    "                        elif 'str' in str(type(cell)):\n",
    "                            if cell == min(item for item in marker[i] if 'str' in str(type(item))):\n",
    "                                classes_list.append(min_class)\n",
    "                                continue\n",
    "                            elif cell == max(item for item in marker[i] if 'str' in str(type(item))):\n",
    "                                classes_list.append(max_class)\n",
    "                                continue\n",
    "                            else:\n",
    "                                classes_list.append(unknow_class)\n",
    "                                continue            \n",
    "                    elif marker[i][0] == '>':\n",
    "                        if 'list' in str(type(marker[i][1])):\n",
    "                            if all(cell > j for j in marker[i][1]):\n",
    "                                classes_list.append(nan_class)\n",
    "                                continue\n",
    "                        else:    \n",
    "                            if cell > marker[i][1]:\n",
    "                                classes_list.append(nan_class)\n",
    "                                continue\n",
    "                    elif marker[i][0] == '<':\n",
    "                        if 'list' in str(type(marker[i][1])):\n",
    "                            if all(cell < j for j in marker[i][1]):\n",
    "                                classes_list.append(min_class)\n",
    "                                continue\n",
    "                        else:    \n",
    "                            if cell < marker[i][1]:\n",
    "                                classes_list.append(min_class)\n",
    "                                continue\n",
    "                    elif marker[i][0] == '=':\n",
    "                        if cell == marker[i][1]:\n",
    "                            classes_list.append(unknow_class)\n",
    "                            continue\n",
    "                        if cell in marker[i][1]:\n",
    "                            classes_list.append(unknow_class)\n",
    "                            continue\n",
    "                    elif marker[i][0] == 'top':\n",
    "                        if cell in list(table.iloc[:, i].head(marker[i][1])):\n",
    "                            classes_list.append(unknow_class)\n",
    "                            continue\n",
    "                    elif marker[i][0] == 'out':\n",
    "                        if cell in list(table.iloc[:, i].tail(marker[i][1])):\n",
    "                            classes_list.append(unknow_class)\n",
    "                            continue\n",
    "                    \n",
    "                                \n",
    "                elif ('str' not in str(type(marker[i])) and 'str' not in str(type(cell))) and  cell >= marker[i]:\n",
    "                    classes_list.append(nan_class)\n",
    "                    continue \n",
    "        \n",
    "        if pd.isna(cell):\n",
    "            classes_list.append(nan_class)\n",
    "            continue\n",
    "        elif cell == 'unknown':\n",
    "            classes_list.append(unknow_class)\n",
    "            continue\n",
    "        \n",
    "        classes_list.append(value_class)\n",
    "        continue\n",
    "        \n",
    "    return classes_list\n",
    "    \n",
    "\n",
    "def set_format(*args):\n",
    "    print(args)\n",
    "    \n",
    "    for i, idx in enumerate(args[0]):\n",
    "        print(i, \":\", idx)\n",
    "        \n",
    "    if 'str' in str(type(args[1])):\n",
    "        if 'float' in str(type(args[0])):\n",
    "            return args[1].format(args[0])\n",
    "        else:\n",
    "            return args[0]\n",
    "    elif 'list' in str(type(args[1])):\n",
    "        if args[1][0] == 'datetime':\n",
    "            return datetime.strptime(args[0], args[1][1]).strftime(args[1][2])\n",
    "        elif args[1][0] == 'float':\n",
    "            print(args[1][1],':', args[0])\n",
    "            return args[1][1].format(args[0])\n",
    "          \n",
    "    return args[0]\n",
    "\n",
    "\n",
    "\n",
    "def check_float(val,format='default'):\n",
    "    if 'float' in str(type(val)):\n",
    "        if format == 'default':\n",
    "            return val\n",
    "        else:\n",
    "            return format.format(val)\n",
    "    else:\n",
    "        return val\n",
    "    \n",
    "    \n",
    "def render(*args, format='default', border='false', position='center_header', marker=None, name='', width='', vartype=False):\n",
    "    '''\n",
    "    format   = {:.2f} Заменяет все float числа в формат\n",
    "    format   = [ [[column_list], [type_format, value_format]] ] - применяет указанный формат к указанным столбцам.\n",
    "    \n",
    "        примеры:\n",
    "        format=[ [['column_1','column_2'], '{:.2f}'] ]\n",
    "        format=[ [['column_1','column_2'], ['float', '{:.2f}']] ]\n",
    "        format=[ [['column_1','column_2'], ['datetime', '%Y%m%dT%H%M%S', '%d.%m.%Y %H:%M:%S']] ]\n",
    "        format=[ [['column_1','column_2'], '<b style=\"color:red\">{}</b>'] ] - применяем стиль к значению\n",
    "    \n",
    "    format   = 'json' - преобразовывает в json формат\n",
    "    \n",
    "    border   = display(d) | horizont(h) | vertical(v)\n",
    "    \n",
    "    position = left | center | right | left_header | center_header | right_header\n",
    "    \n",
    "    marker   = [['column_name', value]] все значения >=  value будут помечены красным цветом\n",
    "    \n",
    "    marker   = [['column_name', 'max_min']] будут отмечены максимальное и минимальное значение цветом\n",
    "    marker   = [['column_name', 'min']]\n",
    "    marker   = [['column_name', 'max']]\n",
    "    \n",
    "    marker   = [['column_name', ['>', 1000]]]\n",
    "    marker   = [['column_name', ['<', 'value']]]\n",
    "    \n",
    "    name     = 'Test title'  Добавляет описание к таблице\n",
    "    \n",
    "    width    = auto | 100% | 300 | 600 | 900 Делает ширину таблицы, указаного значения\n",
    "    \n",
    "    type     = True Выводит имя переменной и его тип\n",
    "    '''\n",
    "    \n",
    "    \n",
    "    \n",
    "    border_style   = ''\n",
    "    position_style = ''\n",
    "    \n",
    "    title          = ''\n",
    "    width_value    = ''\n",
    "    type_value     = ''\n",
    "    \n",
    "    if name != '':\n",
    "        title = ' data-title=\"' + name + '\" '\n",
    "        \n",
    "    if width != '':\n",
    "        width_value = ' data-width=\"' + width + '\" '\n",
    "    \n",
    "    if vartype == True:\n",
    "        type_value = ' data-type=\"[template]\" '\n",
    "    \n",
    "    if border == 'display' or border == 'd':\n",
    "        border_style = ' border_display'\n",
    "    elif border == 'horizont' or border == 'h':\n",
    "        border_style = ' border_horizont'\n",
    "    elif border == 'vertical' or border == 'v':\n",
    "        border_style = ' border_vertical'\n",
    "    else:\n",
    "        border_style = ''\n",
    "    \n",
    "    \n",
    "    if position == 'left':\n",
    "        position_style = ' position_left'\n",
    "    elif position == 'center':\n",
    "        position_style = ' position_center'\n",
    "    elif position == 'right':\n",
    "        position_style = ' position_right'\n",
    "    elif position == 'left_header':\n",
    "        position_style = ' position_left_header'\n",
    "    elif position == 'center_header':\n",
    "        position_style = ' position_center_header'\n",
    "    elif position == 'right_header':\n",
    "        position_style = ' position_right_header'\n",
    "    else:\n",
    "        position_style = ''\n",
    "    \n",
    "    \n",
    "    \n",
    "    if 'Series' in str(type(args[0])) or 'DataFrame' in str(type(args[0])): \n",
    "        df = args[0]\n",
    "    else:\n",
    "        df = args\n",
    "    \n",
    "    if 'Series' in str(type(df)): df = df.to_frame()\n",
    "    \n",
    "    if 'Series' in str(type(df)) or 'DataFrame' in str(type(df)):\n",
    "        \n",
    "        render_df = df.copy()\n",
    "        \n",
    "        \n",
    "        \n",
    "        if len(render_df.index) == 0:\n",
    "            render_df.loc[render_df.shape[0]] = ''\n",
    "        \n",
    "        \n",
    "        \n",
    "        columns = render_df.columns\n",
    "        need_columns = {}\n",
    "        \n",
    "        if marker:\n",
    "            for need_clmn in marker:\n",
    "                for i, clmn in enumerate(columns):\n",
    "                    if need_clmn[0] == clmn:\n",
    "                        if need_clmn[1] in ['min', 'max', 'max_min']:\n",
    "                            if need_clmn[1] == 'min':\n",
    "                                need_columns[i] = ['min', df[clmn].min()]\n",
    "                            elif need_clmn[1] == 'max':\n",
    "                                need_columns[i] = ['max', df[clmn].max()]\n",
    "                            elif need_clmn[1] == 'max_min':\n",
    "                                need_columns[i] = ['max_min', df[clmn].min(), df[clmn].max()]\n",
    "                        else:\n",
    "                            need_columns[i] = need_clmn[1]\n",
    "\n",
    "        if vartype == True:\n",
    "            type_value = type_value.replace(\"[template]\", var_name(render_df))\n",
    "            print(render_df, var_name(render_df))   \n",
    "        \n",
    "        #Render Style\n",
    "        render_df = render_df.style.set_table_attributes('class=\"table_border' + border_style + position_style + '\"' + title + width_value + type_value).apply(color_nan_red,marker=need_columns,table=df, axis=1)\n",
    "        \n",
    "        #print(str(type(render_df))) \n",
    "        \n",
    "        #render_df.format(escape='html')\n",
    "        \n",
    " \n",
    "        if format != 'default':\n",
    "            if 'str' in str(type(format)):\n",
    "                render_df = render_df.format(lambda x: format.format(x) if 'float' in str(type(x)) else x )\n",
    "            elif 'list' in str(type(format)):\n",
    "                need_columns = {}\n",
    "                for list_format in format:\n",
    "\n",
    "                    s_type = None\n",
    "                    s_type = list_format[1]\n",
    "                    \n",
    "                    for clmns_list in list_format[0]:\n",
    "                        if 'str' in str(type(s_type)):\n",
    "                            need_columns[clmns_list] = str_format(s_type)\n",
    "                            continue\n",
    "                        elif 'list' in str(type(s_type)):\n",
    "\n",
    "                            if s_type[0] == 'float':\n",
    "                                need_columns[clmns_list] = float_format(s_type[1])\n",
    "                                continue\n",
    "                            \n",
    "                            elif s_type[0] == 'datetime':\n",
    "                                need_columns[clmns_list] = time_format(s_type[1], s_type[2])\n",
    "                                continue\n",
    "                            \n",
    "                            elif s_type[0] == 'link':\n",
    "                                need_columns[clmns_list] = link_format(s_type[1])\n",
    "                                continue\n",
    "                            \n",
    "                            else:\n",
    "                                continue\n",
    "                \n",
    "                #print(need_columns)\n",
    "                render_df = render_df.format(formatter=need_columns)\n",
    "                                                \n",
    "    else: \n",
    "        list_args = []\n",
    "        \n",
    "        for value in df: \n",
    "            #Render float format\n",
    "            if format != 'default':\n",
    "                if format == 'json':\n",
    "                    pretty = Formatter()\n",
    "                    list_args.append(pretty(value))\n",
    "                else:\n",
    "                    list_args.append(str(check_float(value,format)))\n",
    "            else:\n",
    "                list_args.append(str(value))\n",
    "        \n",
    "        render_df = ' '.join(list_args).replace('<', '&#60;').replace('>', '&#62;')\n",
    "        \n",
    "        if vartype == True:\n",
    "            type_value = type_value.replace(\"[template]\", var_name(render_df))\n",
    "            print(df, var_name(df))\n",
    "            \n",
    "        from IPython.display import HTML\n",
    "        render_df = HTML('<p class=\"value\" ' + title + type_value + '><code>' + str(render_df) + '</code></p>')\n",
    "        \n",
    "        \n",
    "    return display(render_df)\n",
    "\n",
    "\n",
    "def str_format(y):\n",
    "    return lambda x: y.format(x)\n",
    "    \n",
    "def float_format(y):\n",
    "    return lambda x: y.format(x)\n",
    "\n",
    "def link_format(y):\n",
    "    if y != '':\n",
    "        return lambda x: '<a href=\"{}\" title=\"{}\">{}</a>'.format(x, y, y)\n",
    "    else:\n",
    "        return lambda x: '<a href=\"{}\" title=\"{}\">{}</a>'.format(x, x, x)\n",
    "    \n",
    "def time_format(y, z):\n",
    "    if y == '':\n",
    "        y = '%Y%m%dT%H%M%S'\n",
    "    if z == '':\n",
    "        z = '%d.%m.%Y %H:%M:%S'\n",
    "    return lambda x: datetime.strptime(x, y).strftime(z)"
   ]
  },
  {
   "cell_type": "markdown",
   "id": "b0f76250",
   "metadata": {
    "hide_input": false
   },
   "source": [
    "# Исследование надежности заемщиков."
   ]
  },
  {
   "cell_type": "markdown",
   "id": "9a7e94e3",
   "metadata": {},
   "source": [
    "__*`Заказчик` — кредитный отдел банка. Нужно разобраться, влияет ли семейное положение и количество детей клиента на факт погашения кредита в срок. Входные данные от банка — статистика о платёжеспособности клиентов.*__\n",
    "\n",
    "__*Результаты исследования будут учтены при построении модели `кредитного скоринга` — специальной системы, которая оценивает способность потенциального заёмщика вернуть кредит банку.*__"
   ]
  },
  {
   "cell_type": "markdown",
   "id": "704d8cdc",
   "metadata": {},
   "source": [
    "<hr>"
   ]
  },
  {
   "cell_type": "markdown",
   "id": "78cb48a6",
   "metadata": {},
   "source": [
    "### Шаг 1. Обзор данных"
   ]
  },
  {
   "cell_type": "code",
   "execution_count": 2,
   "id": "24a75fc2",
   "metadata": {
    "hide_input": true
   },
   "outputs": [
    {
     "name": "stdout",
     "output_type": "stream",
     "text": [
      "--Считываем данные--\n"
     ]
    }
   ],
   "source": [
    "import pandas as pd\n",
    "\n",
    "#Считаем данные\n",
    "#Просмотрим общую структуру\n",
    "#Проверим строки на пустые значения\n",
    "print('--Считываем данные--')\n",
    "data = pd.read_csv('./datasets/data_2.csv')"
   ]
  },
  {
   "cell_type": "markdown",
   "id": "775a4247",
   "metadata": {},
   "source": [
    "<br>`Структура данных`<br>"
   ]
  },
  {
   "cell_type": "code",
   "execution_count": 3,
   "id": "ce436fba",
   "metadata": {
    "hide_input": true
   },
   "outputs": [
    {
     "data": {
      "text/html": [
       "<style  type=\"text/css\" >\n",
       "</style><table id=\"T_ceece_\" class=\"table_border position_center_header\"><thead>    <tr>        <th class=\"blank level0\" ></th>        <th class=\"col_heading level0 col0\" >children</th>        <th class=\"col_heading level0 col1\" >days_employed</th>        <th class=\"col_heading level0 col2\" >dob_years</th>        <th class=\"col_heading level0 col3\" >education</th>        <th class=\"col_heading level0 col4\" >education_id</th>        <th class=\"col_heading level0 col5\" >family_status</th>        <th class=\"col_heading level0 col6\" >family_status_id</th>        <th class=\"col_heading level0 col7\" >gender</th>        <th class=\"col_heading level0 col8\" >income_type</th>        <th class=\"col_heading level0 col9\" >debt</th>        <th class=\"col_heading level0 col10\" >total_income</th>        <th class=\"col_heading level0 col11\" >purpose</th>    </tr></thead><tbody>\n",
       "                <tr>\n",
       "                        <th id=\"T_ceece_level0_row0\" class=\"row_heading level0 row0\" >0</th>\n",
       "                        <td id=\"T_ceece_row0_col0\" class=\"data row0 col0\" >1</td>\n",
       "                        <td id=\"T_ceece_row0_col1\" class=\"data row0 col1\" >-8437.673028</td>\n",
       "                        <td id=\"T_ceece_row0_col2\" class=\"data row0 col2\" >42</td>\n",
       "                        <td id=\"T_ceece_row0_col3\" class=\"data row0 col3\" >высшее</td>\n",
       "                        <td id=\"T_ceece_row0_col4\" class=\"data row0 col4\" >0</td>\n",
       "                        <td id=\"T_ceece_row0_col5\" class=\"data row0 col5\" >женат / замужем</td>\n",
       "                        <td id=\"T_ceece_row0_col6\" class=\"data row0 col6\" >0</td>\n",
       "                        <td id=\"T_ceece_row0_col7\" class=\"data row0 col7\" >F</td>\n",
       "                        <td id=\"T_ceece_row0_col8\" class=\"data row0 col8\" >сотрудник</td>\n",
       "                        <td id=\"T_ceece_row0_col9\" class=\"data row0 col9\" >0</td>\n",
       "                        <td id=\"T_ceece_row0_col10\" class=\"data row0 col10\" >253875.639453</td>\n",
       "                        <td id=\"T_ceece_row0_col11\" class=\"data row0 col11\" >покупка жилья</td>\n",
       "            </tr>\n",
       "            <tr>\n",
       "                        <th id=\"T_ceece_level0_row1\" class=\"row_heading level0 row1\" >1</th>\n",
       "                        <td id=\"T_ceece_row1_col0\" class=\"data row1 col0\" >1</td>\n",
       "                        <td id=\"T_ceece_row1_col1\" class=\"data row1 col1\" >-4024.803754</td>\n",
       "                        <td id=\"T_ceece_row1_col2\" class=\"data row1 col2\" >36</td>\n",
       "                        <td id=\"T_ceece_row1_col3\" class=\"data row1 col3\" >среднее</td>\n",
       "                        <td id=\"T_ceece_row1_col4\" class=\"data row1 col4\" >1</td>\n",
       "                        <td id=\"T_ceece_row1_col5\" class=\"data row1 col5\" >женат / замужем</td>\n",
       "                        <td id=\"T_ceece_row1_col6\" class=\"data row1 col6\" >0</td>\n",
       "                        <td id=\"T_ceece_row1_col7\" class=\"data row1 col7\" >F</td>\n",
       "                        <td id=\"T_ceece_row1_col8\" class=\"data row1 col8\" >сотрудник</td>\n",
       "                        <td id=\"T_ceece_row1_col9\" class=\"data row1 col9\" >0</td>\n",
       "                        <td id=\"T_ceece_row1_col10\" class=\"data row1 col10\" >112080.014102</td>\n",
       "                        <td id=\"T_ceece_row1_col11\" class=\"data row1 col11\" >приобретение автомобиля</td>\n",
       "            </tr>\n",
       "            <tr>\n",
       "                        <th id=\"T_ceece_level0_row2\" class=\"row_heading level0 row2\" >2</th>\n",
       "                        <td id=\"T_ceece_row2_col0\" class=\"data row2 col0\" >0</td>\n",
       "                        <td id=\"T_ceece_row2_col1\" class=\"data row2 col1\" >-5623.422610</td>\n",
       "                        <td id=\"T_ceece_row2_col2\" class=\"data row2 col2\" >33</td>\n",
       "                        <td id=\"T_ceece_row2_col3\" class=\"data row2 col3\" >Среднее</td>\n",
       "                        <td id=\"T_ceece_row2_col4\" class=\"data row2 col4\" >1</td>\n",
       "                        <td id=\"T_ceece_row2_col5\" class=\"data row2 col5\" >женат / замужем</td>\n",
       "                        <td id=\"T_ceece_row2_col6\" class=\"data row2 col6\" >0</td>\n",
       "                        <td id=\"T_ceece_row2_col7\" class=\"data row2 col7\" >M</td>\n",
       "                        <td id=\"T_ceece_row2_col8\" class=\"data row2 col8\" >сотрудник</td>\n",
       "                        <td id=\"T_ceece_row2_col9\" class=\"data row2 col9\" >0</td>\n",
       "                        <td id=\"T_ceece_row2_col10\" class=\"data row2 col10\" >145885.952297</td>\n",
       "                        <td id=\"T_ceece_row2_col11\" class=\"data row2 col11\" >покупка жилья</td>\n",
       "            </tr>\n",
       "            <tr>\n",
       "                        <th id=\"T_ceece_level0_row3\" class=\"row_heading level0 row3\" >3</th>\n",
       "                        <td id=\"T_ceece_row3_col0\" class=\"data row3 col0\" >3</td>\n",
       "                        <td id=\"T_ceece_row3_col1\" class=\"data row3 col1\" >-4124.747207</td>\n",
       "                        <td id=\"T_ceece_row3_col2\" class=\"data row3 col2\" >32</td>\n",
       "                        <td id=\"T_ceece_row3_col3\" class=\"data row3 col3\" >среднее</td>\n",
       "                        <td id=\"T_ceece_row3_col4\" class=\"data row3 col4\" >1</td>\n",
       "                        <td id=\"T_ceece_row3_col5\" class=\"data row3 col5\" >женат / замужем</td>\n",
       "                        <td id=\"T_ceece_row3_col6\" class=\"data row3 col6\" >0</td>\n",
       "                        <td id=\"T_ceece_row3_col7\" class=\"data row3 col7\" >M</td>\n",
       "                        <td id=\"T_ceece_row3_col8\" class=\"data row3 col8\" >сотрудник</td>\n",
       "                        <td id=\"T_ceece_row3_col9\" class=\"data row3 col9\" >0</td>\n",
       "                        <td id=\"T_ceece_row3_col10\" class=\"data row3 col10\" >267628.550329</td>\n",
       "                        <td id=\"T_ceece_row3_col11\" class=\"data row3 col11\" >дополнительное образование</td>\n",
       "            </tr>\n",
       "            <tr>\n",
       "                        <th id=\"T_ceece_level0_row4\" class=\"row_heading level0 row4\" >4</th>\n",
       "                        <td id=\"T_ceece_row4_col0\" class=\"data row4 col0\" >0</td>\n",
       "                        <td id=\"T_ceece_row4_col1\" class=\"data row4 col1\" >340266.072047</td>\n",
       "                        <td id=\"T_ceece_row4_col2\" class=\"data row4 col2\" >53</td>\n",
       "                        <td id=\"T_ceece_row4_col3\" class=\"data row4 col3\" >среднее</td>\n",
       "                        <td id=\"T_ceece_row4_col4\" class=\"data row4 col4\" >1</td>\n",
       "                        <td id=\"T_ceece_row4_col5\" class=\"data row4 col5\" >гражданский брак</td>\n",
       "                        <td id=\"T_ceece_row4_col6\" class=\"data row4 col6\" >1</td>\n",
       "                        <td id=\"T_ceece_row4_col7\" class=\"data row4 col7\" >F</td>\n",
       "                        <td id=\"T_ceece_row4_col8\" class=\"data row4 col8\" >пенсионер</td>\n",
       "                        <td id=\"T_ceece_row4_col9\" class=\"data row4 col9\" >0</td>\n",
       "                        <td id=\"T_ceece_row4_col10\" class=\"data row4 col10\" >158616.077870</td>\n",
       "                        <td id=\"T_ceece_row4_col11\" class=\"data row4 col11\" >сыграть свадьбу</td>\n",
       "            </tr>\n",
       "    </tbody></table>"
      ],
      "text/plain": [
       "<pandas.io.formats.style.Styler at 0x7f76c5b42760>"
      ]
     },
     "metadata": {},
     "output_type": "display_data"
    }
   ],
   "source": [
    "render(data.head())"
   ]
  },
  {
   "cell_type": "markdown",
   "id": "9ab3d571",
   "metadata": {
    "hide_input": true
   },
   "source": [
    "<br>`Описание данных`<br>"
   ]
  },
  {
   "cell_type": "code",
   "execution_count": 4,
   "id": "91d7d64a",
   "metadata": {
    "hide_input": true
   },
   "outputs": [
    {
     "data": {
      "text/html": [
       "<style  type=\"text/css\" >\n",
       "</style><table id=\"T_0301f_\" class=\"table_border position_center_header\"><thead>    <tr>        <th class=\"blank level0\" ></th>        <th class=\"col_heading level0 col0\" >Столбец</th>        <th class=\"col_heading level0 col1\" >Описание</th>    </tr></thead><tbody>\n",
       "                <tr>\n",
       "                        <th id=\"T_0301f_level0_row0\" class=\"row_heading level0 row0\" >0</th>\n",
       "                        <td id=\"T_0301f_row0_col0\" class=\"data row0 col0\" >children</td>\n",
       "                        <td id=\"T_0301f_row0_col1\" class=\"data row0 col1\" >количество детей в семье</td>\n",
       "            </tr>\n",
       "            <tr>\n",
       "                        <th id=\"T_0301f_level0_row1\" class=\"row_heading level0 row1\" >1</th>\n",
       "                        <td id=\"T_0301f_row1_col0\" class=\"data row1 col0\" >days_employed</td>\n",
       "                        <td id=\"T_0301f_row1_col1\" class=\"data row1 col1\" >общий трудовой стаж в днях</td>\n",
       "            </tr>\n",
       "            <tr>\n",
       "                        <th id=\"T_0301f_level0_row2\" class=\"row_heading level0 row2\" >2</th>\n",
       "                        <td id=\"T_0301f_row2_col0\" class=\"data row2 col0\" >dob_years</td>\n",
       "                        <td id=\"T_0301f_row2_col1\" class=\"data row2 col1\" >возраст клиента в годах</td>\n",
       "            </tr>\n",
       "            <tr>\n",
       "                        <th id=\"T_0301f_level0_row3\" class=\"row_heading level0 row3\" >3</th>\n",
       "                        <td id=\"T_0301f_row3_col0\" class=\"data row3 col0\" >education</td>\n",
       "                        <td id=\"T_0301f_row3_col1\" class=\"data row3 col1\" >уровень образования клиента</td>\n",
       "            </tr>\n",
       "            <tr>\n",
       "                        <th id=\"T_0301f_level0_row4\" class=\"row_heading level0 row4\" >4</th>\n",
       "                        <td id=\"T_0301f_row4_col0\" class=\"data row4 col0\" >education_id</td>\n",
       "                        <td id=\"T_0301f_row4_col1\" class=\"data row4 col1\" >идентификатор уровня образования</td>\n",
       "            </tr>\n",
       "            <tr>\n",
       "                        <th id=\"T_0301f_level0_row5\" class=\"row_heading level0 row5\" >5</th>\n",
       "                        <td id=\"T_0301f_row5_col0\" class=\"data row5 col0\" >family_status</td>\n",
       "                        <td id=\"T_0301f_row5_col1\" class=\"data row5 col1\" >семейное положение</td>\n",
       "            </tr>\n",
       "            <tr>\n",
       "                        <th id=\"T_0301f_level0_row6\" class=\"row_heading level0 row6\" >6</th>\n",
       "                        <td id=\"T_0301f_row6_col0\" class=\"data row6 col0\" >family_status_id</td>\n",
       "                        <td id=\"T_0301f_row6_col1\" class=\"data row6 col1\" >идентификатор семейного положения</td>\n",
       "            </tr>\n",
       "            <tr>\n",
       "                        <th id=\"T_0301f_level0_row7\" class=\"row_heading level0 row7\" >7</th>\n",
       "                        <td id=\"T_0301f_row7_col0\" class=\"data row7 col0\" >gender</td>\n",
       "                        <td id=\"T_0301f_row7_col1\" class=\"data row7 col1\" >пол клиента</td>\n",
       "            </tr>\n",
       "            <tr>\n",
       "                        <th id=\"T_0301f_level0_row8\" class=\"row_heading level0 row8\" >8</th>\n",
       "                        <td id=\"T_0301f_row8_col0\" class=\"data row8 col0\" >income_type</td>\n",
       "                        <td id=\"T_0301f_row8_col1\" class=\"data row8 col1\" >тип занятости</td>\n",
       "            </tr>\n",
       "            <tr>\n",
       "                        <th id=\"T_0301f_level0_row9\" class=\"row_heading level0 row9\" >9</th>\n",
       "                        <td id=\"T_0301f_row9_col0\" class=\"data row9 col0\" >debt</td>\n",
       "                        <td id=\"T_0301f_row9_col1\" class=\"data row9 col1\" >имел ли задолженность по возврату кредитов</td>\n",
       "            </tr>\n",
       "            <tr>\n",
       "                        <th id=\"T_0301f_level0_row10\" class=\"row_heading level0 row10\" >10</th>\n",
       "                        <td id=\"T_0301f_row10_col0\" class=\"data row10 col0\" >total_income</td>\n",
       "                        <td id=\"T_0301f_row10_col1\" class=\"data row10 col1\" >ежемесячный доход</td>\n",
       "            </tr>\n",
       "            <tr>\n",
       "                        <th id=\"T_0301f_level0_row11\" class=\"row_heading level0 row11\" >11</th>\n",
       "                        <td id=\"T_0301f_row11_col0\" class=\"data row11 col0\" >purpose</td>\n",
       "                        <td id=\"T_0301f_row11_col1\" class=\"data row11 col1\" >цель получения кредита</td>\n",
       "            </tr>\n",
       "    </tbody></table>"
      ],
      "text/plain": [
       "<pandas.io.formats.style.Styler at 0x7f76c3e37130>"
      ]
     },
     "metadata": {},
     "output_type": "display_data"
    }
   ],
   "source": [
    "render(pd.DataFrame([\n",
    "    \n",
    "    ['children',         'количество детей в семье'], \n",
    "    ['days_employed',    'общий трудовой стаж в днях'], \n",
    "    ['dob_years',        'возраст клиента в годах'], \n",
    "    ['education',        'уровень образования клиента'], \n",
    "    ['education_id',     'идентификатор уровня образования'], \n",
    "    ['family_status',    'семейное положение'], \n",
    "    ['family_status_id', 'идентификатор семейного положения'], \n",
    "    ['gender',           'пол клиента'], \n",
    "    ['income_type',      'тип занятости'], \n",
    "    ['debt',             'имел ли задолженность по возврату кредитов'], \n",
    "    ['total_income',     'ежемесячный доход'], \n",
    "    ['purpose',          'цель получения кредита']\n",
    "    \n",
    "], columns=['Столбец','Описание']))"
   ]
  },
  {
   "cell_type": "code",
   "execution_count": 5,
   "id": "33e090eb",
   "metadata": {
    "hide_input": true
   },
   "outputs": [
    {
     "data": {
      "text/html": [
       "<p class=\"value\" ><code>Общее количество строк в документе: 21525</code></p>"
      ],
      "text/plain": [
       "<IPython.core.display.HTML object>"
      ]
     },
     "metadata": {},
     "output_type": "display_data"
    }
   ],
   "source": [
    "#Общее количество строк в документе\n",
    "total_count = len(data)\n",
    "render('Общее количество строк в документе:', total_count)"
   ]
  },
  {
   "cell_type": "markdown",
   "id": "043cd1f6",
   "metadata": {
    "hide_input": true
   },
   "source": [
    "### Шаг 2.1 Заполнение пропусков"
   ]
  },
  {
   "cell_type": "code",
   "execution_count": 6,
   "id": "9647db92",
   "metadata": {
    "hide_input": true
   },
   "outputs": [
    {
     "name": "stdout",
     "output_type": "stream",
     "text": [
      "\n"
     ]
    },
    {
     "data": {
      "text/html": [
       "<p class=\"value\" ><code>Структура данных, где есть ошибки</code></p>"
      ],
      "text/plain": [
       "<IPython.core.display.HTML object>"
      ]
     },
     "metadata": {},
     "output_type": "display_data"
    },
    {
     "data": {
      "text/html": [
       "<style  type=\"text/css\" >\n",
       "#T_d477b_row0_col1,#T_d477b_row0_col10,#T_d477b_row1_col1,#T_d477b_row1_col10,#T_d477b_row2_col1,#T_d477b_row2_col10,#T_d477b_row3_col1,#T_d477b_row3_col10,#T_d477b_row4_col1,#T_d477b_row4_col10,#T_d477b_row5_col1,#T_d477b_row5_col10,#T_d477b_row6_col1,#T_d477b_row6_col10,#T_d477b_row7_col1,#T_d477b_row7_col10,#T_d477b_row8_col1,#T_d477b_row8_col10,#T_d477b_row9_col1,#T_d477b_row9_col10{\n",
       "            font-weight: bold;\n",
       "            text-transform:  capitalize;\n",
       "            color:  red;\n",
       "        }</style><table id=\"T_d477b_\" class=\"table_border position_center_header\"><thead>    <tr>        <th class=\"blank level0\" ></th>        <th class=\"col_heading level0 col0\" >children</th>        <th class=\"col_heading level0 col1\" >days_employed</th>        <th class=\"col_heading level0 col2\" >dob_years</th>        <th class=\"col_heading level0 col3\" >education</th>        <th class=\"col_heading level0 col4\" >education_id</th>        <th class=\"col_heading level0 col5\" >family_status</th>        <th class=\"col_heading level0 col6\" >family_status_id</th>        <th class=\"col_heading level0 col7\" >gender</th>        <th class=\"col_heading level0 col8\" >income_type</th>        <th class=\"col_heading level0 col9\" >debt</th>        <th class=\"col_heading level0 col10\" >total_income</th>        <th class=\"col_heading level0 col11\" >purpose</th>    </tr></thead><tbody>\n",
       "                <tr>\n",
       "                        <th id=\"T_d477b_level0_row0\" class=\"row_heading level0 row0\" >12</th>\n",
       "                        <td id=\"T_d477b_row0_col0\" class=\"data row0 col0\" >0</td>\n",
       "                        <td id=\"T_d477b_row0_col1\" class=\"data row0 col1\" >nan</td>\n",
       "                        <td id=\"T_d477b_row0_col2\" class=\"data row0 col2\" >65</td>\n",
       "                        <td id=\"T_d477b_row0_col3\" class=\"data row0 col3\" >среднее</td>\n",
       "                        <td id=\"T_d477b_row0_col4\" class=\"data row0 col4\" >1</td>\n",
       "                        <td id=\"T_d477b_row0_col5\" class=\"data row0 col5\" >гражданский брак</td>\n",
       "                        <td id=\"T_d477b_row0_col6\" class=\"data row0 col6\" >1</td>\n",
       "                        <td id=\"T_d477b_row0_col7\" class=\"data row0 col7\" >M</td>\n",
       "                        <td id=\"T_d477b_row0_col8\" class=\"data row0 col8\" >пенсионер</td>\n",
       "                        <td id=\"T_d477b_row0_col9\" class=\"data row0 col9\" >0</td>\n",
       "                        <td id=\"T_d477b_row0_col10\" class=\"data row0 col10\" >nan</td>\n",
       "                        <td id=\"T_d477b_row0_col11\" class=\"data row0 col11\" >сыграть свадьбу</td>\n",
       "            </tr>\n",
       "            <tr>\n",
       "                        <th id=\"T_d477b_level0_row1\" class=\"row_heading level0 row1\" >26</th>\n",
       "                        <td id=\"T_d477b_row1_col0\" class=\"data row1 col0\" >0</td>\n",
       "                        <td id=\"T_d477b_row1_col1\" class=\"data row1 col1\" >nan</td>\n",
       "                        <td id=\"T_d477b_row1_col2\" class=\"data row1 col2\" >41</td>\n",
       "                        <td id=\"T_d477b_row1_col3\" class=\"data row1 col3\" >среднее</td>\n",
       "                        <td id=\"T_d477b_row1_col4\" class=\"data row1 col4\" >1</td>\n",
       "                        <td id=\"T_d477b_row1_col5\" class=\"data row1 col5\" >женат / замужем</td>\n",
       "                        <td id=\"T_d477b_row1_col6\" class=\"data row1 col6\" >0</td>\n",
       "                        <td id=\"T_d477b_row1_col7\" class=\"data row1 col7\" >M</td>\n",
       "                        <td id=\"T_d477b_row1_col8\" class=\"data row1 col8\" >госслужащий</td>\n",
       "                        <td id=\"T_d477b_row1_col9\" class=\"data row1 col9\" >0</td>\n",
       "                        <td id=\"T_d477b_row1_col10\" class=\"data row1 col10\" >nan</td>\n",
       "                        <td id=\"T_d477b_row1_col11\" class=\"data row1 col11\" >образование</td>\n",
       "            </tr>\n",
       "            <tr>\n",
       "                        <th id=\"T_d477b_level0_row2\" class=\"row_heading level0 row2\" >29</th>\n",
       "                        <td id=\"T_d477b_row2_col0\" class=\"data row2 col0\" >0</td>\n",
       "                        <td id=\"T_d477b_row2_col1\" class=\"data row2 col1\" >nan</td>\n",
       "                        <td id=\"T_d477b_row2_col2\" class=\"data row2 col2\" >63</td>\n",
       "                        <td id=\"T_d477b_row2_col3\" class=\"data row2 col3\" >среднее</td>\n",
       "                        <td id=\"T_d477b_row2_col4\" class=\"data row2 col4\" >1</td>\n",
       "                        <td id=\"T_d477b_row2_col5\" class=\"data row2 col5\" >Не женат / не замужем</td>\n",
       "                        <td id=\"T_d477b_row2_col6\" class=\"data row2 col6\" >4</td>\n",
       "                        <td id=\"T_d477b_row2_col7\" class=\"data row2 col7\" >F</td>\n",
       "                        <td id=\"T_d477b_row2_col8\" class=\"data row2 col8\" >пенсионер</td>\n",
       "                        <td id=\"T_d477b_row2_col9\" class=\"data row2 col9\" >0</td>\n",
       "                        <td id=\"T_d477b_row2_col10\" class=\"data row2 col10\" >nan</td>\n",
       "                        <td id=\"T_d477b_row2_col11\" class=\"data row2 col11\" >строительство жилой недвижимости</td>\n",
       "            </tr>\n",
       "            <tr>\n",
       "                        <th id=\"T_d477b_level0_row3\" class=\"row_heading level0 row3\" >41</th>\n",
       "                        <td id=\"T_d477b_row3_col0\" class=\"data row3 col0\" >0</td>\n",
       "                        <td id=\"T_d477b_row3_col1\" class=\"data row3 col1\" >nan</td>\n",
       "                        <td id=\"T_d477b_row3_col2\" class=\"data row3 col2\" >50</td>\n",
       "                        <td id=\"T_d477b_row3_col3\" class=\"data row3 col3\" >среднее</td>\n",
       "                        <td id=\"T_d477b_row3_col4\" class=\"data row3 col4\" >1</td>\n",
       "                        <td id=\"T_d477b_row3_col5\" class=\"data row3 col5\" >женат / замужем</td>\n",
       "                        <td id=\"T_d477b_row3_col6\" class=\"data row3 col6\" >0</td>\n",
       "                        <td id=\"T_d477b_row3_col7\" class=\"data row3 col7\" >F</td>\n",
       "                        <td id=\"T_d477b_row3_col8\" class=\"data row3 col8\" >госслужащий</td>\n",
       "                        <td id=\"T_d477b_row3_col9\" class=\"data row3 col9\" >0</td>\n",
       "                        <td id=\"T_d477b_row3_col10\" class=\"data row3 col10\" >nan</td>\n",
       "                        <td id=\"T_d477b_row3_col11\" class=\"data row3 col11\" >сделка с подержанным автомобилем</td>\n",
       "            </tr>\n",
       "            <tr>\n",
       "                        <th id=\"T_d477b_level0_row4\" class=\"row_heading level0 row4\" >55</th>\n",
       "                        <td id=\"T_d477b_row4_col0\" class=\"data row4 col0\" >0</td>\n",
       "                        <td id=\"T_d477b_row4_col1\" class=\"data row4 col1\" >nan</td>\n",
       "                        <td id=\"T_d477b_row4_col2\" class=\"data row4 col2\" >54</td>\n",
       "                        <td id=\"T_d477b_row4_col3\" class=\"data row4 col3\" >среднее</td>\n",
       "                        <td id=\"T_d477b_row4_col4\" class=\"data row4 col4\" >1</td>\n",
       "                        <td id=\"T_d477b_row4_col5\" class=\"data row4 col5\" >гражданский брак</td>\n",
       "                        <td id=\"T_d477b_row4_col6\" class=\"data row4 col6\" >1</td>\n",
       "                        <td id=\"T_d477b_row4_col7\" class=\"data row4 col7\" >F</td>\n",
       "                        <td id=\"T_d477b_row4_col8\" class=\"data row4 col8\" >пенсионер</td>\n",
       "                        <td id=\"T_d477b_row4_col9\" class=\"data row4 col9\" >1</td>\n",
       "                        <td id=\"T_d477b_row4_col10\" class=\"data row4 col10\" >nan</td>\n",
       "                        <td id=\"T_d477b_row4_col11\" class=\"data row4 col11\" >сыграть свадьбу</td>\n",
       "            </tr>\n",
       "            <tr>\n",
       "                        <th id=\"T_d477b_level0_row5\" class=\"row_heading level0 row5\" >65</th>\n",
       "                        <td id=\"T_d477b_row5_col0\" class=\"data row5 col0\" >0</td>\n",
       "                        <td id=\"T_d477b_row5_col1\" class=\"data row5 col1\" >nan</td>\n",
       "                        <td id=\"T_d477b_row5_col2\" class=\"data row5 col2\" >21</td>\n",
       "                        <td id=\"T_d477b_row5_col3\" class=\"data row5 col3\" >среднее</td>\n",
       "                        <td id=\"T_d477b_row5_col4\" class=\"data row5 col4\" >1</td>\n",
       "                        <td id=\"T_d477b_row5_col5\" class=\"data row5 col5\" >Не женат / не замужем</td>\n",
       "                        <td id=\"T_d477b_row5_col6\" class=\"data row5 col6\" >4</td>\n",
       "                        <td id=\"T_d477b_row5_col7\" class=\"data row5 col7\" >M</td>\n",
       "                        <td id=\"T_d477b_row5_col8\" class=\"data row5 col8\" >компаньон</td>\n",
       "                        <td id=\"T_d477b_row5_col9\" class=\"data row5 col9\" >0</td>\n",
       "                        <td id=\"T_d477b_row5_col10\" class=\"data row5 col10\" >nan</td>\n",
       "                        <td id=\"T_d477b_row5_col11\" class=\"data row5 col11\" >операции с коммерческой недвижимостью</td>\n",
       "            </tr>\n",
       "            <tr>\n",
       "                        <th id=\"T_d477b_level0_row6\" class=\"row_heading level0 row6\" >67</th>\n",
       "                        <td id=\"T_d477b_row6_col0\" class=\"data row6 col0\" >0</td>\n",
       "                        <td id=\"T_d477b_row6_col1\" class=\"data row6 col1\" >nan</td>\n",
       "                        <td id=\"T_d477b_row6_col2\" class=\"data row6 col2\" >52</td>\n",
       "                        <td id=\"T_d477b_row6_col3\" class=\"data row6 col3\" >высшее</td>\n",
       "                        <td id=\"T_d477b_row6_col4\" class=\"data row6 col4\" >0</td>\n",
       "                        <td id=\"T_d477b_row6_col5\" class=\"data row6 col5\" >женат / замужем</td>\n",
       "                        <td id=\"T_d477b_row6_col6\" class=\"data row6 col6\" >0</td>\n",
       "                        <td id=\"T_d477b_row6_col7\" class=\"data row6 col7\" >F</td>\n",
       "                        <td id=\"T_d477b_row6_col8\" class=\"data row6 col8\" >пенсионер</td>\n",
       "                        <td id=\"T_d477b_row6_col9\" class=\"data row6 col9\" >0</td>\n",
       "                        <td id=\"T_d477b_row6_col10\" class=\"data row6 col10\" >nan</td>\n",
       "                        <td id=\"T_d477b_row6_col11\" class=\"data row6 col11\" >покупка жилья для семьи</td>\n",
       "            </tr>\n",
       "            <tr>\n",
       "                        <th id=\"T_d477b_level0_row7\" class=\"row_heading level0 row7\" >72</th>\n",
       "                        <td id=\"T_d477b_row7_col0\" class=\"data row7 col0\" >1</td>\n",
       "                        <td id=\"T_d477b_row7_col1\" class=\"data row7 col1\" >nan</td>\n",
       "                        <td id=\"T_d477b_row7_col2\" class=\"data row7 col2\" >32</td>\n",
       "                        <td id=\"T_d477b_row7_col3\" class=\"data row7 col3\" >высшее</td>\n",
       "                        <td id=\"T_d477b_row7_col4\" class=\"data row7 col4\" >0</td>\n",
       "                        <td id=\"T_d477b_row7_col5\" class=\"data row7 col5\" >женат / замужем</td>\n",
       "                        <td id=\"T_d477b_row7_col6\" class=\"data row7 col6\" >0</td>\n",
       "                        <td id=\"T_d477b_row7_col7\" class=\"data row7 col7\" >M</td>\n",
       "                        <td id=\"T_d477b_row7_col8\" class=\"data row7 col8\" >госслужащий</td>\n",
       "                        <td id=\"T_d477b_row7_col9\" class=\"data row7 col9\" >0</td>\n",
       "                        <td id=\"T_d477b_row7_col10\" class=\"data row7 col10\" >nan</td>\n",
       "                        <td id=\"T_d477b_row7_col11\" class=\"data row7 col11\" >операции с коммерческой недвижимостью</td>\n",
       "            </tr>\n",
       "            <tr>\n",
       "                        <th id=\"T_d477b_level0_row8\" class=\"row_heading level0 row8\" >82</th>\n",
       "                        <td id=\"T_d477b_row8_col0\" class=\"data row8 col0\" >2</td>\n",
       "                        <td id=\"T_d477b_row8_col1\" class=\"data row8 col1\" >nan</td>\n",
       "                        <td id=\"T_d477b_row8_col2\" class=\"data row8 col2\" >50</td>\n",
       "                        <td id=\"T_d477b_row8_col3\" class=\"data row8 col3\" >высшее</td>\n",
       "                        <td id=\"T_d477b_row8_col4\" class=\"data row8 col4\" >0</td>\n",
       "                        <td id=\"T_d477b_row8_col5\" class=\"data row8 col5\" >женат / замужем</td>\n",
       "                        <td id=\"T_d477b_row8_col6\" class=\"data row8 col6\" >0</td>\n",
       "                        <td id=\"T_d477b_row8_col7\" class=\"data row8 col7\" >F</td>\n",
       "                        <td id=\"T_d477b_row8_col8\" class=\"data row8 col8\" >сотрудник</td>\n",
       "                        <td id=\"T_d477b_row8_col9\" class=\"data row8 col9\" >0</td>\n",
       "                        <td id=\"T_d477b_row8_col10\" class=\"data row8 col10\" >nan</td>\n",
       "                        <td id=\"T_d477b_row8_col11\" class=\"data row8 col11\" >жилье</td>\n",
       "            </tr>\n",
       "            <tr>\n",
       "                        <th id=\"T_d477b_level0_row9\" class=\"row_heading level0 row9\" >83</th>\n",
       "                        <td id=\"T_d477b_row9_col0\" class=\"data row9 col0\" >0</td>\n",
       "                        <td id=\"T_d477b_row9_col1\" class=\"data row9 col1\" >nan</td>\n",
       "                        <td id=\"T_d477b_row9_col2\" class=\"data row9 col2\" >52</td>\n",
       "                        <td id=\"T_d477b_row9_col3\" class=\"data row9 col3\" >среднее</td>\n",
       "                        <td id=\"T_d477b_row9_col4\" class=\"data row9 col4\" >1</td>\n",
       "                        <td id=\"T_d477b_row9_col5\" class=\"data row9 col5\" >женат / замужем</td>\n",
       "                        <td id=\"T_d477b_row9_col6\" class=\"data row9 col6\" >0</td>\n",
       "                        <td id=\"T_d477b_row9_col7\" class=\"data row9 col7\" >M</td>\n",
       "                        <td id=\"T_d477b_row9_col8\" class=\"data row9 col8\" >сотрудник</td>\n",
       "                        <td id=\"T_d477b_row9_col9\" class=\"data row9 col9\" >0</td>\n",
       "                        <td id=\"T_d477b_row9_col10\" class=\"data row9 col10\" >nan</td>\n",
       "                        <td id=\"T_d477b_row9_col11\" class=\"data row9 col11\" >жилье</td>\n",
       "            </tr>\n",
       "    </tbody></table>"
      ],
      "text/plain": [
       "<pandas.io.formats.style.Styler at 0x7f76c3df5a90>"
      ]
     },
     "metadata": {},
     "output_type": "display_data"
    },
    {
     "name": "stdout",
     "output_type": "stream",
     "text": [
      "\n"
     ]
    },
    {
     "data": {
      "text/html": [
       "<p class=\"value\" ><code>Срез по пропускам</code></p>"
      ],
      "text/plain": [
       "<IPython.core.display.HTML object>"
      ]
     },
     "metadata": {},
     "output_type": "display_data"
    },
    {
     "data": {
      "text/html": [
       "<style  type=\"text/css\" >\n",
       "#T_24c3b_row1_col1,#T_24c3b_row10_col1{\n",
       "            font-weight: bold;\n",
       "            text-transform:  capitalize;\n",
       "            color:  red;\n",
       "        }</style><table id=\"T_24c3b_\" class=\"table_border position_center_header\"><thead>    <tr>        <th class=\"blank level0\" ></th>        <th class=\"col_heading level0 col0\" >Столбец</th>        <th class=\"col_heading level0 col1\" >Количество</th>    </tr></thead><tbody>\n",
       "                <tr>\n",
       "                        <th id=\"T_24c3b_level0_row0\" class=\"row_heading level0 row0\" >0</th>\n",
       "                        <td id=\"T_24c3b_row0_col0\" class=\"data row0 col0\" >children</td>\n",
       "                        <td id=\"T_24c3b_row0_col1\" class=\"data row0 col1\" >0</td>\n",
       "            </tr>\n",
       "            <tr>\n",
       "                        <th id=\"T_24c3b_level0_row1\" class=\"row_heading level0 row1\" >1</th>\n",
       "                        <td id=\"T_24c3b_row1_col0\" class=\"data row1 col0\" >days_employed</td>\n",
       "                        <td id=\"T_24c3b_row1_col1\" class=\"data row1 col1\" >2174</td>\n",
       "            </tr>\n",
       "            <tr>\n",
       "                        <th id=\"T_24c3b_level0_row2\" class=\"row_heading level0 row2\" >2</th>\n",
       "                        <td id=\"T_24c3b_row2_col0\" class=\"data row2 col0\" >dob_years</td>\n",
       "                        <td id=\"T_24c3b_row2_col1\" class=\"data row2 col1\" >0</td>\n",
       "            </tr>\n",
       "            <tr>\n",
       "                        <th id=\"T_24c3b_level0_row3\" class=\"row_heading level0 row3\" >3</th>\n",
       "                        <td id=\"T_24c3b_row3_col0\" class=\"data row3 col0\" >education</td>\n",
       "                        <td id=\"T_24c3b_row3_col1\" class=\"data row3 col1\" >0</td>\n",
       "            </tr>\n",
       "            <tr>\n",
       "                        <th id=\"T_24c3b_level0_row4\" class=\"row_heading level0 row4\" >4</th>\n",
       "                        <td id=\"T_24c3b_row4_col0\" class=\"data row4 col0\" >education_id</td>\n",
       "                        <td id=\"T_24c3b_row4_col1\" class=\"data row4 col1\" >0</td>\n",
       "            </tr>\n",
       "            <tr>\n",
       "                        <th id=\"T_24c3b_level0_row5\" class=\"row_heading level0 row5\" >5</th>\n",
       "                        <td id=\"T_24c3b_row5_col0\" class=\"data row5 col0\" >family_status</td>\n",
       "                        <td id=\"T_24c3b_row5_col1\" class=\"data row5 col1\" >0</td>\n",
       "            </tr>\n",
       "            <tr>\n",
       "                        <th id=\"T_24c3b_level0_row6\" class=\"row_heading level0 row6\" >6</th>\n",
       "                        <td id=\"T_24c3b_row6_col0\" class=\"data row6 col0\" >family_status_id</td>\n",
       "                        <td id=\"T_24c3b_row6_col1\" class=\"data row6 col1\" >0</td>\n",
       "            </tr>\n",
       "            <tr>\n",
       "                        <th id=\"T_24c3b_level0_row7\" class=\"row_heading level0 row7\" >7</th>\n",
       "                        <td id=\"T_24c3b_row7_col0\" class=\"data row7 col0\" >gender</td>\n",
       "                        <td id=\"T_24c3b_row7_col1\" class=\"data row7 col1\" >0</td>\n",
       "            </tr>\n",
       "            <tr>\n",
       "                        <th id=\"T_24c3b_level0_row8\" class=\"row_heading level0 row8\" >8</th>\n",
       "                        <td id=\"T_24c3b_row8_col0\" class=\"data row8 col0\" >income_type</td>\n",
       "                        <td id=\"T_24c3b_row8_col1\" class=\"data row8 col1\" >0</td>\n",
       "            </tr>\n",
       "            <tr>\n",
       "                        <th id=\"T_24c3b_level0_row9\" class=\"row_heading level0 row9\" >9</th>\n",
       "                        <td id=\"T_24c3b_row9_col0\" class=\"data row9 col0\" >debt</td>\n",
       "                        <td id=\"T_24c3b_row9_col1\" class=\"data row9 col1\" >0</td>\n",
       "            </tr>\n",
       "            <tr>\n",
       "                        <th id=\"T_24c3b_level0_row10\" class=\"row_heading level0 row10\" >10</th>\n",
       "                        <td id=\"T_24c3b_row10_col0\" class=\"data row10 col0\" >total_income</td>\n",
       "                        <td id=\"T_24c3b_row10_col1\" class=\"data row10 col1\" >2174</td>\n",
       "            </tr>\n",
       "            <tr>\n",
       "                        <th id=\"T_24c3b_level0_row11\" class=\"row_heading level0 row11\" >11</th>\n",
       "                        <td id=\"T_24c3b_row11_col0\" class=\"data row11 col0\" >purpose</td>\n",
       "                        <td id=\"T_24c3b_row11_col1\" class=\"data row11 col1\" >0</td>\n",
       "            </tr>\n",
       "    </tbody></table>"
      ],
      "text/plain": [
       "<pandas.io.formats.style.Styler at 0x7f76c40ecee0>"
      ]
     },
     "metadata": {},
     "output_type": "display_data"
    }
   ],
   "source": [
    "#посмотрим на данные, где были допущены пропуски\n",
    "print('')\n",
    "\n",
    "render('Структура данных, где есть ошибки')\n",
    "render(data[data['total_income'].isna()].head(10))\n",
    "\n",
    "print('')\n",
    "\n",
    "#Проверим столбцы на пропуски\n",
    "\n",
    "nan_df = pd.DataFrame(data.isna().sum(), columns=['Количество'])\n",
    "nan_df.index = nan_df.index.set_names(['Столбец'])\n",
    "nan_df = nan_df.reset_index()\n",
    "\n",
    "render('Срез по пропускам')\n",
    "render(nan_df, marker=[['Количество',0.1]])"
   ]
  },
  {
   "cell_type": "markdown",
   "id": "93db7aeb",
   "metadata": {
    "hide_input": false
   },
   "source": [
    "*__Как мы видим из среза в столбцах `days_employed` (общий трудовой стаж в днях) и `total_income` (ежемесячный доход) есть пропуски, причем их количество одинаково для этих столбцов.__*\n",
    "<br>\n",
    "**Причин может быть несколько:**<br>\n",
    "- Не корректный ввод\n",
    "- Возможно, человек никогда не работал, например, студент\n",
    "- Или человек не хочет говорить свой стаж и уровень зарплаты\n",
    "- Другие причины\n",
    "<br><br>"
   ]
  },
  {
   "cell_type": "code",
   "execution_count": 7,
   "id": "f7ca19ba",
   "metadata": {
    "hide_input": true
   },
   "outputs": [
    {
     "name": "stdout",
     "output_type": "stream",
     "text": [
      "\n"
     ]
    },
    {
     "data": {
      "text/html": [
       "<p class=\"value\" ><code>Строки, где количество пропущенных значений больше 0</code></p>"
      ],
      "text/plain": [
       "<IPython.core.display.HTML object>"
      ]
     },
     "metadata": {},
     "output_type": "display_data"
    },
    {
     "data": {
      "text/html": [
       "<style  type=\"text/css\" >\n",
       "</style><table id=\"T_1bc34_\" class=\"table_border position_center\"><thead>    <tr>        <th class=\"blank level0\" ></th>        <th class=\"col_heading level0 col0\" >Столбец</th>        <th class=\"col_heading level0 col1\" >Количество</th>        <th class=\"col_heading level0 col2\" >Доля к общему количеству</th>    </tr></thead><tbody>\n",
       "                <tr>\n",
       "                        <th id=\"T_1bc34_level0_row0\" class=\"row_heading level0 row0\" >1</th>\n",
       "                        <td id=\"T_1bc34_row0_col0\" class=\"data row0 col0\" >days_employed</td>\n",
       "                        <td id=\"T_1bc34_row0_col1\" class=\"data row0 col1\" >2174</td>\n",
       "                        <td id=\"T_1bc34_row0_col2\" class=\"data row0 col2\" >10.10%</td>\n",
       "            </tr>\n",
       "            <tr>\n",
       "                        <th id=\"T_1bc34_level0_row1\" class=\"row_heading level0 row1\" >10</th>\n",
       "                        <td id=\"T_1bc34_row1_col0\" class=\"data row1 col0\" >total_income</td>\n",
       "                        <td id=\"T_1bc34_row1_col1\" class=\"data row1 col1\" >2174</td>\n",
       "                        <td id=\"T_1bc34_row1_col2\" class=\"data row1 col2\" >10.10%</td>\n",
       "            </tr>\n",
       "    </tbody></table>"
      ],
      "text/plain": [
       "<pandas.io.formats.style.Styler at 0x7f76c3df5280>"
      ]
     },
     "metadata": {},
     "output_type": "display_data"
    }
   ],
   "source": [
    "#Общее количество строк с пропусками:\n",
    "\n",
    "print('')\n",
    "\n",
    "render('Строки, где количество пропущенных значений больше 0')\n",
    "\n",
    "\n",
    "nan_df_no_zero = nan_df[nan_df['Количество'] > 0].copy()\n",
    "nan_df_no_zero['Доля к общему количеству'] = (nan_df_no_zero['Количество'] / total_count * 100)\n",
    "\n",
    "render(nan_df_no_zero, format='{:.2f}%', position='center')"
   ]
  },
  {
   "cell_type": "markdown",
   "id": "ea358457",
   "metadata": {
    "hide_input": true
   },
   "source": [
    "Чтобы анализ был корректен необходимо заполнить пропуски...\n",
    "\n",
    "Мы могли бы взять среднее значение, но тогда мы не сможем точно определить какая зарплата или количество дней мог бы отработать человек на месте пропусков.\n",
    "\n",
    "*__Например, сложив зарплату уборщицы или руководителя мы не получим предполагаемую зарплату.<br><br> Или сложив количество отработанных дней человека, который только закончил институт и человека, который уходит на пенсию__*\n",
    "\n",
    "По этому воспользуемся медианой"
   ]
  },
  {
   "cell_type": "code",
   "execution_count": 8,
   "id": "3ec227b1",
   "metadata": {
    "hide_input": true
   },
   "outputs": [
    {
     "data": {
      "text/html": [
       "<p class=\"value\" ><code>Медиана зарплаты: 145017.94 рублей</code></p>"
      ],
      "text/plain": [
       "<IPython.core.display.HTML object>"
      ]
     },
     "metadata": {},
     "output_type": "display_data"
    }
   ],
   "source": [
    "#Получаем медину зарплаты\n",
    "total_income_mean = data.sort_values('total_income', ascending=False)['total_income'].median()\n",
    "\n",
    "render(\"Медиана зарплаты:\", total_income_mean, 'рублей', format='{:.2f}')"
   ]
  },
  {
   "cell_type": "markdown",
   "id": "4f688c78",
   "metadata": {},
   "source": [
    "Осталось заполнить все пустые значения зарплаты медианой зарплаты и проверить срез по пустым значениям"
   ]
  },
  {
   "cell_type": "code",
   "execution_count": 9,
   "id": "c13dc94d",
   "metadata": {
    "hide_input": true
   },
   "outputs": [
    {
     "name": "stdout",
     "output_type": "stream",
     "text": [
      "\n"
     ]
    },
    {
     "data": {
      "text/html": [
       "<p class=\"value\" ><code>Структура данных, где есть ошибки</code></p>"
      ],
      "text/plain": [
       "<IPython.core.display.HTML object>"
      ]
     },
     "metadata": {},
     "output_type": "display_data"
    },
    {
     "data": {
      "text/html": [
       "<style  type=\"text/css\" >\n",
       "#T_6f7d9_row0_col1,#T_6f7d9_row1_col1,#T_6f7d9_row2_col1,#T_6f7d9_row3_col1,#T_6f7d9_row4_col1,#T_6f7d9_row5_col1,#T_6f7d9_row6_col1,#T_6f7d9_row7_col1,#T_6f7d9_row8_col1,#T_6f7d9_row9_col1{\n",
       "            font-weight: bold;\n",
       "            text-transform:  capitalize;\n",
       "            color:  red;\n",
       "        }</style><table id=\"T_6f7d9_\" class=\"table_border position_center_header\"><thead>    <tr>        <th class=\"blank level0\" ></th>        <th class=\"col_heading level0 col0\" >children</th>        <th class=\"col_heading level0 col1\" >days_employed</th>        <th class=\"col_heading level0 col2\" >dob_years</th>        <th class=\"col_heading level0 col3\" >education</th>        <th class=\"col_heading level0 col4\" >education_id</th>        <th class=\"col_heading level0 col5\" >family_status</th>        <th class=\"col_heading level0 col6\" >family_status_id</th>        <th class=\"col_heading level0 col7\" >gender</th>        <th class=\"col_heading level0 col8\" >income_type</th>        <th class=\"col_heading level0 col9\" >debt</th>        <th class=\"col_heading level0 col10\" >total_income</th>        <th class=\"col_heading level0 col11\" >purpose</th>    </tr></thead><tbody>\n",
       "                <tr>\n",
       "                        <th id=\"T_6f7d9_level0_row0\" class=\"row_heading level0 row0\" >12</th>\n",
       "                        <td id=\"T_6f7d9_row0_col0\" class=\"data row0 col0\" >0</td>\n",
       "                        <td id=\"T_6f7d9_row0_col1\" class=\"data row0 col1\" >nan</td>\n",
       "                        <td id=\"T_6f7d9_row0_col2\" class=\"data row0 col2\" >65</td>\n",
       "                        <td id=\"T_6f7d9_row0_col3\" class=\"data row0 col3\" >среднее</td>\n",
       "                        <td id=\"T_6f7d9_row0_col4\" class=\"data row0 col4\" >1</td>\n",
       "                        <td id=\"T_6f7d9_row0_col5\" class=\"data row0 col5\" >гражданский брак</td>\n",
       "                        <td id=\"T_6f7d9_row0_col6\" class=\"data row0 col6\" >1</td>\n",
       "                        <td id=\"T_6f7d9_row0_col7\" class=\"data row0 col7\" >M</td>\n",
       "                        <td id=\"T_6f7d9_row0_col8\" class=\"data row0 col8\" >пенсионер</td>\n",
       "                        <td id=\"T_6f7d9_row0_col9\" class=\"data row0 col9\" >0</td>\n",
       "                        <td id=\"T_6f7d9_row0_col10\" class=\"data row0 col10\" >145017.94</td>\n",
       "                        <td id=\"T_6f7d9_row0_col11\" class=\"data row0 col11\" >сыграть свадьбу</td>\n",
       "            </tr>\n",
       "            <tr>\n",
       "                        <th id=\"T_6f7d9_level0_row1\" class=\"row_heading level0 row1\" >26</th>\n",
       "                        <td id=\"T_6f7d9_row1_col0\" class=\"data row1 col0\" >0</td>\n",
       "                        <td id=\"T_6f7d9_row1_col1\" class=\"data row1 col1\" >nan</td>\n",
       "                        <td id=\"T_6f7d9_row1_col2\" class=\"data row1 col2\" >41</td>\n",
       "                        <td id=\"T_6f7d9_row1_col3\" class=\"data row1 col3\" >среднее</td>\n",
       "                        <td id=\"T_6f7d9_row1_col4\" class=\"data row1 col4\" >1</td>\n",
       "                        <td id=\"T_6f7d9_row1_col5\" class=\"data row1 col5\" >женат / замужем</td>\n",
       "                        <td id=\"T_6f7d9_row1_col6\" class=\"data row1 col6\" >0</td>\n",
       "                        <td id=\"T_6f7d9_row1_col7\" class=\"data row1 col7\" >M</td>\n",
       "                        <td id=\"T_6f7d9_row1_col8\" class=\"data row1 col8\" >госслужащий</td>\n",
       "                        <td id=\"T_6f7d9_row1_col9\" class=\"data row1 col9\" >0</td>\n",
       "                        <td id=\"T_6f7d9_row1_col10\" class=\"data row1 col10\" >145017.94</td>\n",
       "                        <td id=\"T_6f7d9_row1_col11\" class=\"data row1 col11\" >образование</td>\n",
       "            </tr>\n",
       "            <tr>\n",
       "                        <th id=\"T_6f7d9_level0_row2\" class=\"row_heading level0 row2\" >29</th>\n",
       "                        <td id=\"T_6f7d9_row2_col0\" class=\"data row2 col0\" >0</td>\n",
       "                        <td id=\"T_6f7d9_row2_col1\" class=\"data row2 col1\" >nan</td>\n",
       "                        <td id=\"T_6f7d9_row2_col2\" class=\"data row2 col2\" >63</td>\n",
       "                        <td id=\"T_6f7d9_row2_col3\" class=\"data row2 col3\" >среднее</td>\n",
       "                        <td id=\"T_6f7d9_row2_col4\" class=\"data row2 col4\" >1</td>\n",
       "                        <td id=\"T_6f7d9_row2_col5\" class=\"data row2 col5\" >Не женат / не замужем</td>\n",
       "                        <td id=\"T_6f7d9_row2_col6\" class=\"data row2 col6\" >4</td>\n",
       "                        <td id=\"T_6f7d9_row2_col7\" class=\"data row2 col7\" >F</td>\n",
       "                        <td id=\"T_6f7d9_row2_col8\" class=\"data row2 col8\" >пенсионер</td>\n",
       "                        <td id=\"T_6f7d9_row2_col9\" class=\"data row2 col9\" >0</td>\n",
       "                        <td id=\"T_6f7d9_row2_col10\" class=\"data row2 col10\" >145017.94</td>\n",
       "                        <td id=\"T_6f7d9_row2_col11\" class=\"data row2 col11\" >строительство жилой недвижимости</td>\n",
       "            </tr>\n",
       "            <tr>\n",
       "                        <th id=\"T_6f7d9_level0_row3\" class=\"row_heading level0 row3\" >41</th>\n",
       "                        <td id=\"T_6f7d9_row3_col0\" class=\"data row3 col0\" >0</td>\n",
       "                        <td id=\"T_6f7d9_row3_col1\" class=\"data row3 col1\" >nan</td>\n",
       "                        <td id=\"T_6f7d9_row3_col2\" class=\"data row3 col2\" >50</td>\n",
       "                        <td id=\"T_6f7d9_row3_col3\" class=\"data row3 col3\" >среднее</td>\n",
       "                        <td id=\"T_6f7d9_row3_col4\" class=\"data row3 col4\" >1</td>\n",
       "                        <td id=\"T_6f7d9_row3_col5\" class=\"data row3 col5\" >женат / замужем</td>\n",
       "                        <td id=\"T_6f7d9_row3_col6\" class=\"data row3 col6\" >0</td>\n",
       "                        <td id=\"T_6f7d9_row3_col7\" class=\"data row3 col7\" >F</td>\n",
       "                        <td id=\"T_6f7d9_row3_col8\" class=\"data row3 col8\" >госслужащий</td>\n",
       "                        <td id=\"T_6f7d9_row3_col9\" class=\"data row3 col9\" >0</td>\n",
       "                        <td id=\"T_6f7d9_row3_col10\" class=\"data row3 col10\" >145017.94</td>\n",
       "                        <td id=\"T_6f7d9_row3_col11\" class=\"data row3 col11\" >сделка с подержанным автомобилем</td>\n",
       "            </tr>\n",
       "            <tr>\n",
       "                        <th id=\"T_6f7d9_level0_row4\" class=\"row_heading level0 row4\" >55</th>\n",
       "                        <td id=\"T_6f7d9_row4_col0\" class=\"data row4 col0\" >0</td>\n",
       "                        <td id=\"T_6f7d9_row4_col1\" class=\"data row4 col1\" >nan</td>\n",
       "                        <td id=\"T_6f7d9_row4_col2\" class=\"data row4 col2\" >54</td>\n",
       "                        <td id=\"T_6f7d9_row4_col3\" class=\"data row4 col3\" >среднее</td>\n",
       "                        <td id=\"T_6f7d9_row4_col4\" class=\"data row4 col4\" >1</td>\n",
       "                        <td id=\"T_6f7d9_row4_col5\" class=\"data row4 col5\" >гражданский брак</td>\n",
       "                        <td id=\"T_6f7d9_row4_col6\" class=\"data row4 col6\" >1</td>\n",
       "                        <td id=\"T_6f7d9_row4_col7\" class=\"data row4 col7\" >F</td>\n",
       "                        <td id=\"T_6f7d9_row4_col8\" class=\"data row4 col8\" >пенсионер</td>\n",
       "                        <td id=\"T_6f7d9_row4_col9\" class=\"data row4 col9\" >1</td>\n",
       "                        <td id=\"T_6f7d9_row4_col10\" class=\"data row4 col10\" >145017.94</td>\n",
       "                        <td id=\"T_6f7d9_row4_col11\" class=\"data row4 col11\" >сыграть свадьбу</td>\n",
       "            </tr>\n",
       "            <tr>\n",
       "                        <th id=\"T_6f7d9_level0_row5\" class=\"row_heading level0 row5\" >65</th>\n",
       "                        <td id=\"T_6f7d9_row5_col0\" class=\"data row5 col0\" >0</td>\n",
       "                        <td id=\"T_6f7d9_row5_col1\" class=\"data row5 col1\" >nan</td>\n",
       "                        <td id=\"T_6f7d9_row5_col2\" class=\"data row5 col2\" >21</td>\n",
       "                        <td id=\"T_6f7d9_row5_col3\" class=\"data row5 col3\" >среднее</td>\n",
       "                        <td id=\"T_6f7d9_row5_col4\" class=\"data row5 col4\" >1</td>\n",
       "                        <td id=\"T_6f7d9_row5_col5\" class=\"data row5 col5\" >Не женат / не замужем</td>\n",
       "                        <td id=\"T_6f7d9_row5_col6\" class=\"data row5 col6\" >4</td>\n",
       "                        <td id=\"T_6f7d9_row5_col7\" class=\"data row5 col7\" >M</td>\n",
       "                        <td id=\"T_6f7d9_row5_col8\" class=\"data row5 col8\" >компаньон</td>\n",
       "                        <td id=\"T_6f7d9_row5_col9\" class=\"data row5 col9\" >0</td>\n",
       "                        <td id=\"T_6f7d9_row5_col10\" class=\"data row5 col10\" >145017.94</td>\n",
       "                        <td id=\"T_6f7d9_row5_col11\" class=\"data row5 col11\" >операции с коммерческой недвижимостью</td>\n",
       "            </tr>\n",
       "            <tr>\n",
       "                        <th id=\"T_6f7d9_level0_row6\" class=\"row_heading level0 row6\" >67</th>\n",
       "                        <td id=\"T_6f7d9_row6_col0\" class=\"data row6 col0\" >0</td>\n",
       "                        <td id=\"T_6f7d9_row6_col1\" class=\"data row6 col1\" >nan</td>\n",
       "                        <td id=\"T_6f7d9_row6_col2\" class=\"data row6 col2\" >52</td>\n",
       "                        <td id=\"T_6f7d9_row6_col3\" class=\"data row6 col3\" >высшее</td>\n",
       "                        <td id=\"T_6f7d9_row6_col4\" class=\"data row6 col4\" >0</td>\n",
       "                        <td id=\"T_6f7d9_row6_col5\" class=\"data row6 col5\" >женат / замужем</td>\n",
       "                        <td id=\"T_6f7d9_row6_col6\" class=\"data row6 col6\" >0</td>\n",
       "                        <td id=\"T_6f7d9_row6_col7\" class=\"data row6 col7\" >F</td>\n",
       "                        <td id=\"T_6f7d9_row6_col8\" class=\"data row6 col8\" >пенсионер</td>\n",
       "                        <td id=\"T_6f7d9_row6_col9\" class=\"data row6 col9\" >0</td>\n",
       "                        <td id=\"T_6f7d9_row6_col10\" class=\"data row6 col10\" >145017.94</td>\n",
       "                        <td id=\"T_6f7d9_row6_col11\" class=\"data row6 col11\" >покупка жилья для семьи</td>\n",
       "            </tr>\n",
       "            <tr>\n",
       "                        <th id=\"T_6f7d9_level0_row7\" class=\"row_heading level0 row7\" >72</th>\n",
       "                        <td id=\"T_6f7d9_row7_col0\" class=\"data row7 col0\" >1</td>\n",
       "                        <td id=\"T_6f7d9_row7_col1\" class=\"data row7 col1\" >nan</td>\n",
       "                        <td id=\"T_6f7d9_row7_col2\" class=\"data row7 col2\" >32</td>\n",
       "                        <td id=\"T_6f7d9_row7_col3\" class=\"data row7 col3\" >высшее</td>\n",
       "                        <td id=\"T_6f7d9_row7_col4\" class=\"data row7 col4\" >0</td>\n",
       "                        <td id=\"T_6f7d9_row7_col5\" class=\"data row7 col5\" >женат / замужем</td>\n",
       "                        <td id=\"T_6f7d9_row7_col6\" class=\"data row7 col6\" >0</td>\n",
       "                        <td id=\"T_6f7d9_row7_col7\" class=\"data row7 col7\" >M</td>\n",
       "                        <td id=\"T_6f7d9_row7_col8\" class=\"data row7 col8\" >госслужащий</td>\n",
       "                        <td id=\"T_6f7d9_row7_col9\" class=\"data row7 col9\" >0</td>\n",
       "                        <td id=\"T_6f7d9_row7_col10\" class=\"data row7 col10\" >145017.94</td>\n",
       "                        <td id=\"T_6f7d9_row7_col11\" class=\"data row7 col11\" >операции с коммерческой недвижимостью</td>\n",
       "            </tr>\n",
       "            <tr>\n",
       "                        <th id=\"T_6f7d9_level0_row8\" class=\"row_heading level0 row8\" >82</th>\n",
       "                        <td id=\"T_6f7d9_row8_col0\" class=\"data row8 col0\" >2</td>\n",
       "                        <td id=\"T_6f7d9_row8_col1\" class=\"data row8 col1\" >nan</td>\n",
       "                        <td id=\"T_6f7d9_row8_col2\" class=\"data row8 col2\" >50</td>\n",
       "                        <td id=\"T_6f7d9_row8_col3\" class=\"data row8 col3\" >высшее</td>\n",
       "                        <td id=\"T_6f7d9_row8_col4\" class=\"data row8 col4\" >0</td>\n",
       "                        <td id=\"T_6f7d9_row8_col5\" class=\"data row8 col5\" >женат / замужем</td>\n",
       "                        <td id=\"T_6f7d9_row8_col6\" class=\"data row8 col6\" >0</td>\n",
       "                        <td id=\"T_6f7d9_row8_col7\" class=\"data row8 col7\" >F</td>\n",
       "                        <td id=\"T_6f7d9_row8_col8\" class=\"data row8 col8\" >сотрудник</td>\n",
       "                        <td id=\"T_6f7d9_row8_col9\" class=\"data row8 col9\" >0</td>\n",
       "                        <td id=\"T_6f7d9_row8_col10\" class=\"data row8 col10\" >145017.94</td>\n",
       "                        <td id=\"T_6f7d9_row8_col11\" class=\"data row8 col11\" >жилье</td>\n",
       "            </tr>\n",
       "            <tr>\n",
       "                        <th id=\"T_6f7d9_level0_row9\" class=\"row_heading level0 row9\" >83</th>\n",
       "                        <td id=\"T_6f7d9_row9_col0\" class=\"data row9 col0\" >0</td>\n",
       "                        <td id=\"T_6f7d9_row9_col1\" class=\"data row9 col1\" >nan</td>\n",
       "                        <td id=\"T_6f7d9_row9_col2\" class=\"data row9 col2\" >52</td>\n",
       "                        <td id=\"T_6f7d9_row9_col3\" class=\"data row9 col3\" >среднее</td>\n",
       "                        <td id=\"T_6f7d9_row9_col4\" class=\"data row9 col4\" >1</td>\n",
       "                        <td id=\"T_6f7d9_row9_col5\" class=\"data row9 col5\" >женат / замужем</td>\n",
       "                        <td id=\"T_6f7d9_row9_col6\" class=\"data row9 col6\" >0</td>\n",
       "                        <td id=\"T_6f7d9_row9_col7\" class=\"data row9 col7\" >M</td>\n",
       "                        <td id=\"T_6f7d9_row9_col8\" class=\"data row9 col8\" >сотрудник</td>\n",
       "                        <td id=\"T_6f7d9_row9_col9\" class=\"data row9 col9\" >0</td>\n",
       "                        <td id=\"T_6f7d9_row9_col10\" class=\"data row9 col10\" >145017.94</td>\n",
       "                        <td id=\"T_6f7d9_row9_col11\" class=\"data row9 col11\" >жилье</td>\n",
       "            </tr>\n",
       "    </tbody></table>"
      ],
      "text/plain": [
       "<pandas.io.formats.style.Styler at 0x7f772c0dfe50>"
      ]
     },
     "metadata": {},
     "output_type": "display_data"
    },
    {
     "name": "stdout",
     "output_type": "stream",
     "text": [
      "\n"
     ]
    },
    {
     "data": {
      "text/html": [
       "<p class=\"value\" ><code>Срез по пропускам</code></p>"
      ],
      "text/plain": [
       "<IPython.core.display.HTML object>"
      ]
     },
     "metadata": {},
     "output_type": "display_data"
    },
    {
     "data": {
      "text/html": [
       "<style  type=\"text/css\" >\n",
       "#T_1e4b9_row1_col1{\n",
       "            font-weight: bold;\n",
       "            text-transform:  capitalize;\n",
       "            color:  red;\n",
       "        }</style><table id=\"T_1e4b9_\" class=\"table_border position_center_header\"><thead>    <tr>        <th class=\"blank level0\" ></th>        <th class=\"col_heading level0 col0\" >Столбец</th>        <th class=\"col_heading level0 col1\" >Количество</th>    </tr></thead><tbody>\n",
       "                <tr>\n",
       "                        <th id=\"T_1e4b9_level0_row0\" class=\"row_heading level0 row0\" >0</th>\n",
       "                        <td id=\"T_1e4b9_row0_col0\" class=\"data row0 col0\" >children</td>\n",
       "                        <td id=\"T_1e4b9_row0_col1\" class=\"data row0 col1\" >0</td>\n",
       "            </tr>\n",
       "            <tr>\n",
       "                        <th id=\"T_1e4b9_level0_row1\" class=\"row_heading level0 row1\" >1</th>\n",
       "                        <td id=\"T_1e4b9_row1_col0\" class=\"data row1 col0\" >days_employed</td>\n",
       "                        <td id=\"T_1e4b9_row1_col1\" class=\"data row1 col1\" >2174</td>\n",
       "            </tr>\n",
       "            <tr>\n",
       "                        <th id=\"T_1e4b9_level0_row2\" class=\"row_heading level0 row2\" >2</th>\n",
       "                        <td id=\"T_1e4b9_row2_col0\" class=\"data row2 col0\" >dob_years</td>\n",
       "                        <td id=\"T_1e4b9_row2_col1\" class=\"data row2 col1\" >0</td>\n",
       "            </tr>\n",
       "            <tr>\n",
       "                        <th id=\"T_1e4b9_level0_row3\" class=\"row_heading level0 row3\" >3</th>\n",
       "                        <td id=\"T_1e4b9_row3_col0\" class=\"data row3 col0\" >education</td>\n",
       "                        <td id=\"T_1e4b9_row3_col1\" class=\"data row3 col1\" >0</td>\n",
       "            </tr>\n",
       "            <tr>\n",
       "                        <th id=\"T_1e4b9_level0_row4\" class=\"row_heading level0 row4\" >4</th>\n",
       "                        <td id=\"T_1e4b9_row4_col0\" class=\"data row4 col0\" >education_id</td>\n",
       "                        <td id=\"T_1e4b9_row4_col1\" class=\"data row4 col1\" >0</td>\n",
       "            </tr>\n",
       "            <tr>\n",
       "                        <th id=\"T_1e4b9_level0_row5\" class=\"row_heading level0 row5\" >5</th>\n",
       "                        <td id=\"T_1e4b9_row5_col0\" class=\"data row5 col0\" >family_status</td>\n",
       "                        <td id=\"T_1e4b9_row5_col1\" class=\"data row5 col1\" >0</td>\n",
       "            </tr>\n",
       "            <tr>\n",
       "                        <th id=\"T_1e4b9_level0_row6\" class=\"row_heading level0 row6\" >6</th>\n",
       "                        <td id=\"T_1e4b9_row6_col0\" class=\"data row6 col0\" >family_status_id</td>\n",
       "                        <td id=\"T_1e4b9_row6_col1\" class=\"data row6 col1\" >0</td>\n",
       "            </tr>\n",
       "            <tr>\n",
       "                        <th id=\"T_1e4b9_level0_row7\" class=\"row_heading level0 row7\" >7</th>\n",
       "                        <td id=\"T_1e4b9_row7_col0\" class=\"data row7 col0\" >gender</td>\n",
       "                        <td id=\"T_1e4b9_row7_col1\" class=\"data row7 col1\" >0</td>\n",
       "            </tr>\n",
       "            <tr>\n",
       "                        <th id=\"T_1e4b9_level0_row8\" class=\"row_heading level0 row8\" >8</th>\n",
       "                        <td id=\"T_1e4b9_row8_col0\" class=\"data row8 col0\" >income_type</td>\n",
       "                        <td id=\"T_1e4b9_row8_col1\" class=\"data row8 col1\" >0</td>\n",
       "            </tr>\n",
       "            <tr>\n",
       "                        <th id=\"T_1e4b9_level0_row9\" class=\"row_heading level0 row9\" >9</th>\n",
       "                        <td id=\"T_1e4b9_row9_col0\" class=\"data row9 col0\" >debt</td>\n",
       "                        <td id=\"T_1e4b9_row9_col1\" class=\"data row9 col1\" >0</td>\n",
       "            </tr>\n",
       "            <tr>\n",
       "                        <th id=\"T_1e4b9_level0_row10\" class=\"row_heading level0 row10\" >10</th>\n",
       "                        <td id=\"T_1e4b9_row10_col0\" class=\"data row10 col0\" >total_income</td>\n",
       "                        <td id=\"T_1e4b9_row10_col1\" class=\"data row10 col1\" >0</td>\n",
       "            </tr>\n",
       "            <tr>\n",
       "                        <th id=\"T_1e4b9_level0_row11\" class=\"row_heading level0 row11\" >11</th>\n",
       "                        <td id=\"T_1e4b9_row11_col0\" class=\"data row11 col0\" >purpose</td>\n",
       "                        <td id=\"T_1e4b9_row11_col1\" class=\"data row11 col1\" >0</td>\n",
       "            </tr>\n",
       "    </tbody></table>"
      ],
      "text/plain": [
       "<pandas.io.formats.style.Styler at 0x7f76c3e41610>"
      ]
     },
     "metadata": {},
     "output_type": "display_data"
    }
   ],
   "source": [
    "data['total_income'] = data['total_income'].fillna(total_income_mean)\n",
    "\n",
    "print('')\n",
    "\n",
    "#посмотрим на данные, где были допущены пропуски\n",
    "\n",
    "render('Структура данных, где есть ошибки')\n",
    "render(data[data['days_employed'].isna()].head(10), format='{:.2f}')\n",
    "\n",
    "print('')\n",
    "\n",
    "#Проверим столбцы на пропуски\n",
    "\n",
    "nan_df = pd.DataFrame(data.isna().sum(), columns=['Количество'])\n",
    "nan_df.index = nan_df.index.set_names(['Столбец'])\n",
    "nan_df = nan_df.reset_index()\n",
    "\n",
    "render('Срез по пропускам')\n",
    "render(nan_df, marker=[['Количество',0.1]])"
   ]
  },
  {
   "cell_type": "markdown",
   "id": "49534176",
   "metadata": {},
   "source": [
    "*__В Столбце `total_income` пропуски заполнены, теперь перейдем к столбцу `days_employed`.<br><br>\n",
    "Но из отчета мы видим, что в трудовом стаже есть отрицательные значения дней, и по этому мы пока не можем заменить пропуски на значение медианы дней__*"
   ]
  },
  {
   "attachments": {
    "image.png": {
     "image/png": "[encoded data removed]"
    }
   },
   "cell_type": "markdown",
   "id": "31ab185f",
   "metadata": {},
   "source": [
    "![image.png](attachment:image.png)"
   ]
  },
  {
   "cell_type": "markdown",
   "id": "66c13e44",
   "metadata": {
    "hide_input": true
   },
   "source": [
    "### Шаг 2.2 Проверка данных на аномалии и исправления."
   ]
  },
  {
   "cell_type": "markdown",
   "id": "0a82135e",
   "metadata": {},
   "source": [
    "Напишем простую функцию, которая будет заменять отрицательные значения на положительные и заменим значения"
   ]
  },
  {
   "cell_type": "code",
   "execution_count": 10,
   "id": "e7f2e6a2",
   "metadata": {
    "hide_input": true
   },
   "outputs": [
    {
     "name": "stdout",
     "output_type": "stream",
     "text": [
      "\n"
     ]
    },
    {
     "data": {
      "text/html": [
       "<p class=\"value\" ><code>Проверяем результат</code></p>"
      ],
      "text/plain": [
       "<IPython.core.display.HTML object>"
      ]
     },
     "metadata": {},
     "output_type": "display_data"
    },
    {
     "data": {
      "text/html": [
       "<style  type=\"text/css\" >\n",
       "</style><table id=\"T_e0375_\" class=\"table_border position_center_header\"><thead>    <tr>        <th class=\"blank level0\" ></th>        <th class=\"col_heading level0 col0\" >children</th>        <th class=\"col_heading level0 col1\" >days_employed</th>        <th class=\"col_heading level0 col2\" >dob_years</th>        <th class=\"col_heading level0 col3\" >education</th>        <th class=\"col_heading level0 col4\" >education_id</th>        <th class=\"col_heading level0 col5\" >family_status</th>        <th class=\"col_heading level0 col6\" >family_status_id</th>        <th class=\"col_heading level0 col7\" >gender</th>        <th class=\"col_heading level0 col8\" >income_type</th>        <th class=\"col_heading level0 col9\" >debt</th>        <th class=\"col_heading level0 col10\" >total_income</th>        <th class=\"col_heading level0 col11\" >purpose</th>    </tr></thead><tbody>\n",
       "                <tr>\n",
       "                        <th id=\"T_e0375_level0_row0\" class=\"row_heading level0 row0\" >0</th>\n",
       "                        <td id=\"T_e0375_row0_col0\" class=\"data row0 col0\" >1</td>\n",
       "                        <td id=\"T_e0375_row0_col1\" class=\"data row0 col1\" >8437.673028</td>\n",
       "                        <td id=\"T_e0375_row0_col2\" class=\"data row0 col2\" >42</td>\n",
       "                        <td id=\"T_e0375_row0_col3\" class=\"data row0 col3\" >высшее</td>\n",
       "                        <td id=\"T_e0375_row0_col4\" class=\"data row0 col4\" >0</td>\n",
       "                        <td id=\"T_e0375_row0_col5\" class=\"data row0 col5\" >женат / замужем</td>\n",
       "                        <td id=\"T_e0375_row0_col6\" class=\"data row0 col6\" >0</td>\n",
       "                        <td id=\"T_e0375_row0_col7\" class=\"data row0 col7\" >F</td>\n",
       "                        <td id=\"T_e0375_row0_col8\" class=\"data row0 col8\" >сотрудник</td>\n",
       "                        <td id=\"T_e0375_row0_col9\" class=\"data row0 col9\" >0</td>\n",
       "                        <td id=\"T_e0375_row0_col10\" class=\"data row0 col10\" >253875.639453</td>\n",
       "                        <td id=\"T_e0375_row0_col11\" class=\"data row0 col11\" >покупка жилья</td>\n",
       "            </tr>\n",
       "            <tr>\n",
       "                        <th id=\"T_e0375_level0_row1\" class=\"row_heading level0 row1\" >1</th>\n",
       "                        <td id=\"T_e0375_row1_col0\" class=\"data row1 col0\" >1</td>\n",
       "                        <td id=\"T_e0375_row1_col1\" class=\"data row1 col1\" >4024.803754</td>\n",
       "                        <td id=\"T_e0375_row1_col2\" class=\"data row1 col2\" >36</td>\n",
       "                        <td id=\"T_e0375_row1_col3\" class=\"data row1 col3\" >среднее</td>\n",
       "                        <td id=\"T_e0375_row1_col4\" class=\"data row1 col4\" >1</td>\n",
       "                        <td id=\"T_e0375_row1_col5\" class=\"data row1 col5\" >женат / замужем</td>\n",
       "                        <td id=\"T_e0375_row1_col6\" class=\"data row1 col6\" >0</td>\n",
       "                        <td id=\"T_e0375_row1_col7\" class=\"data row1 col7\" >F</td>\n",
       "                        <td id=\"T_e0375_row1_col8\" class=\"data row1 col8\" >сотрудник</td>\n",
       "                        <td id=\"T_e0375_row1_col9\" class=\"data row1 col9\" >0</td>\n",
       "                        <td id=\"T_e0375_row1_col10\" class=\"data row1 col10\" >112080.014102</td>\n",
       "                        <td id=\"T_e0375_row1_col11\" class=\"data row1 col11\" >приобретение автомобиля</td>\n",
       "            </tr>\n",
       "            <tr>\n",
       "                        <th id=\"T_e0375_level0_row2\" class=\"row_heading level0 row2\" >2</th>\n",
       "                        <td id=\"T_e0375_row2_col0\" class=\"data row2 col0\" >0</td>\n",
       "                        <td id=\"T_e0375_row2_col1\" class=\"data row2 col1\" >5623.422610</td>\n",
       "                        <td id=\"T_e0375_row2_col2\" class=\"data row2 col2\" >33</td>\n",
       "                        <td id=\"T_e0375_row2_col3\" class=\"data row2 col3\" >Среднее</td>\n",
       "                        <td id=\"T_e0375_row2_col4\" class=\"data row2 col4\" >1</td>\n",
       "                        <td id=\"T_e0375_row2_col5\" class=\"data row2 col5\" >женат / замужем</td>\n",
       "                        <td id=\"T_e0375_row2_col6\" class=\"data row2 col6\" >0</td>\n",
       "                        <td id=\"T_e0375_row2_col7\" class=\"data row2 col7\" >M</td>\n",
       "                        <td id=\"T_e0375_row2_col8\" class=\"data row2 col8\" >сотрудник</td>\n",
       "                        <td id=\"T_e0375_row2_col9\" class=\"data row2 col9\" >0</td>\n",
       "                        <td id=\"T_e0375_row2_col10\" class=\"data row2 col10\" >145885.952297</td>\n",
       "                        <td id=\"T_e0375_row2_col11\" class=\"data row2 col11\" >покупка жилья</td>\n",
       "            </tr>\n",
       "            <tr>\n",
       "                        <th id=\"T_e0375_level0_row3\" class=\"row_heading level0 row3\" >3</th>\n",
       "                        <td id=\"T_e0375_row3_col0\" class=\"data row3 col0\" >3</td>\n",
       "                        <td id=\"T_e0375_row3_col1\" class=\"data row3 col1\" >4124.747207</td>\n",
       "                        <td id=\"T_e0375_row3_col2\" class=\"data row3 col2\" >32</td>\n",
       "                        <td id=\"T_e0375_row3_col3\" class=\"data row3 col3\" >среднее</td>\n",
       "                        <td id=\"T_e0375_row3_col4\" class=\"data row3 col4\" >1</td>\n",
       "                        <td id=\"T_e0375_row3_col5\" class=\"data row3 col5\" >женат / замужем</td>\n",
       "                        <td id=\"T_e0375_row3_col6\" class=\"data row3 col6\" >0</td>\n",
       "                        <td id=\"T_e0375_row3_col7\" class=\"data row3 col7\" >M</td>\n",
       "                        <td id=\"T_e0375_row3_col8\" class=\"data row3 col8\" >сотрудник</td>\n",
       "                        <td id=\"T_e0375_row3_col9\" class=\"data row3 col9\" >0</td>\n",
       "                        <td id=\"T_e0375_row3_col10\" class=\"data row3 col10\" >267628.550329</td>\n",
       "                        <td id=\"T_e0375_row3_col11\" class=\"data row3 col11\" >дополнительное образование</td>\n",
       "            </tr>\n",
       "            <tr>\n",
       "                        <th id=\"T_e0375_level0_row4\" class=\"row_heading level0 row4\" >4</th>\n",
       "                        <td id=\"T_e0375_row4_col0\" class=\"data row4 col0\" >0</td>\n",
       "                        <td id=\"T_e0375_row4_col1\" class=\"data row4 col1\" >340266.072047</td>\n",
       "                        <td id=\"T_e0375_row4_col2\" class=\"data row4 col2\" >53</td>\n",
       "                        <td id=\"T_e0375_row4_col3\" class=\"data row4 col3\" >среднее</td>\n",
       "                        <td id=\"T_e0375_row4_col4\" class=\"data row4 col4\" >1</td>\n",
       "                        <td id=\"T_e0375_row4_col5\" class=\"data row4 col5\" >гражданский брак</td>\n",
       "                        <td id=\"T_e0375_row4_col6\" class=\"data row4 col6\" >1</td>\n",
       "                        <td id=\"T_e0375_row4_col7\" class=\"data row4 col7\" >F</td>\n",
       "                        <td id=\"T_e0375_row4_col8\" class=\"data row4 col8\" >пенсионер</td>\n",
       "                        <td id=\"T_e0375_row4_col9\" class=\"data row4 col9\" >0</td>\n",
       "                        <td id=\"T_e0375_row4_col10\" class=\"data row4 col10\" >158616.077870</td>\n",
       "                        <td id=\"T_e0375_row4_col11\" class=\"data row4 col11\" >сыграть свадьбу</td>\n",
       "            </tr>\n",
       "            <tr>\n",
       "                        <th id=\"T_e0375_level0_row5\" class=\"row_heading level0 row5\" >5</th>\n",
       "                        <td id=\"T_e0375_row5_col0\" class=\"data row5 col0\" >0</td>\n",
       "                        <td id=\"T_e0375_row5_col1\" class=\"data row5 col1\" >926.185831</td>\n",
       "                        <td id=\"T_e0375_row5_col2\" class=\"data row5 col2\" >27</td>\n",
       "                        <td id=\"T_e0375_row5_col3\" class=\"data row5 col3\" >высшее</td>\n",
       "                        <td id=\"T_e0375_row5_col4\" class=\"data row5 col4\" >0</td>\n",
       "                        <td id=\"T_e0375_row5_col5\" class=\"data row5 col5\" >гражданский брак</td>\n",
       "                        <td id=\"T_e0375_row5_col6\" class=\"data row5 col6\" >1</td>\n",
       "                        <td id=\"T_e0375_row5_col7\" class=\"data row5 col7\" >M</td>\n",
       "                        <td id=\"T_e0375_row5_col8\" class=\"data row5 col8\" >компаньон</td>\n",
       "                        <td id=\"T_e0375_row5_col9\" class=\"data row5 col9\" >0</td>\n",
       "                        <td id=\"T_e0375_row5_col10\" class=\"data row5 col10\" >255763.565419</td>\n",
       "                        <td id=\"T_e0375_row5_col11\" class=\"data row5 col11\" >покупка жилья</td>\n",
       "            </tr>\n",
       "            <tr>\n",
       "                        <th id=\"T_e0375_level0_row6\" class=\"row_heading level0 row6\" >6</th>\n",
       "                        <td id=\"T_e0375_row6_col0\" class=\"data row6 col0\" >0</td>\n",
       "                        <td id=\"T_e0375_row6_col1\" class=\"data row6 col1\" >2879.202052</td>\n",
       "                        <td id=\"T_e0375_row6_col2\" class=\"data row6 col2\" >43</td>\n",
       "                        <td id=\"T_e0375_row6_col3\" class=\"data row6 col3\" >высшее</td>\n",
       "                        <td id=\"T_e0375_row6_col4\" class=\"data row6 col4\" >0</td>\n",
       "                        <td id=\"T_e0375_row6_col5\" class=\"data row6 col5\" >женат / замужем</td>\n",
       "                        <td id=\"T_e0375_row6_col6\" class=\"data row6 col6\" >0</td>\n",
       "                        <td id=\"T_e0375_row6_col7\" class=\"data row6 col7\" >F</td>\n",
       "                        <td id=\"T_e0375_row6_col8\" class=\"data row6 col8\" >компаньон</td>\n",
       "                        <td id=\"T_e0375_row6_col9\" class=\"data row6 col9\" >0</td>\n",
       "                        <td id=\"T_e0375_row6_col10\" class=\"data row6 col10\" >240525.971920</td>\n",
       "                        <td id=\"T_e0375_row6_col11\" class=\"data row6 col11\" >операции с жильем</td>\n",
       "            </tr>\n",
       "            <tr>\n",
       "                        <th id=\"T_e0375_level0_row7\" class=\"row_heading level0 row7\" >7</th>\n",
       "                        <td id=\"T_e0375_row7_col0\" class=\"data row7 col0\" >0</td>\n",
       "                        <td id=\"T_e0375_row7_col1\" class=\"data row7 col1\" >152.779569</td>\n",
       "                        <td id=\"T_e0375_row7_col2\" class=\"data row7 col2\" >50</td>\n",
       "                        <td id=\"T_e0375_row7_col3\" class=\"data row7 col3\" >СРЕДНЕЕ</td>\n",
       "                        <td id=\"T_e0375_row7_col4\" class=\"data row7 col4\" >1</td>\n",
       "                        <td id=\"T_e0375_row7_col5\" class=\"data row7 col5\" >женат / замужем</td>\n",
       "                        <td id=\"T_e0375_row7_col6\" class=\"data row7 col6\" >0</td>\n",
       "                        <td id=\"T_e0375_row7_col7\" class=\"data row7 col7\" >M</td>\n",
       "                        <td id=\"T_e0375_row7_col8\" class=\"data row7 col8\" >сотрудник</td>\n",
       "                        <td id=\"T_e0375_row7_col9\" class=\"data row7 col9\" >0</td>\n",
       "                        <td id=\"T_e0375_row7_col10\" class=\"data row7 col10\" >135823.934197</td>\n",
       "                        <td id=\"T_e0375_row7_col11\" class=\"data row7 col11\" >образование</td>\n",
       "            </tr>\n",
       "            <tr>\n",
       "                        <th id=\"T_e0375_level0_row8\" class=\"row_heading level0 row8\" >8</th>\n",
       "                        <td id=\"T_e0375_row8_col0\" class=\"data row8 col0\" >2</td>\n",
       "                        <td id=\"T_e0375_row8_col1\" class=\"data row8 col1\" >6929.865299</td>\n",
       "                        <td id=\"T_e0375_row8_col2\" class=\"data row8 col2\" >35</td>\n",
       "                        <td id=\"T_e0375_row8_col3\" class=\"data row8 col3\" >ВЫСШЕЕ</td>\n",
       "                        <td id=\"T_e0375_row8_col4\" class=\"data row8 col4\" >0</td>\n",
       "                        <td id=\"T_e0375_row8_col5\" class=\"data row8 col5\" >гражданский брак</td>\n",
       "                        <td id=\"T_e0375_row8_col6\" class=\"data row8 col6\" >1</td>\n",
       "                        <td id=\"T_e0375_row8_col7\" class=\"data row8 col7\" >F</td>\n",
       "                        <td id=\"T_e0375_row8_col8\" class=\"data row8 col8\" >сотрудник</td>\n",
       "                        <td id=\"T_e0375_row8_col9\" class=\"data row8 col9\" >0</td>\n",
       "                        <td id=\"T_e0375_row8_col10\" class=\"data row8 col10\" >95856.832424</td>\n",
       "                        <td id=\"T_e0375_row8_col11\" class=\"data row8 col11\" >на проведение свадьбы</td>\n",
       "            </tr>\n",
       "            <tr>\n",
       "                        <th id=\"T_e0375_level0_row9\" class=\"row_heading level0 row9\" >9</th>\n",
       "                        <td id=\"T_e0375_row9_col0\" class=\"data row9 col0\" >0</td>\n",
       "                        <td id=\"T_e0375_row9_col1\" class=\"data row9 col1\" >2188.756445</td>\n",
       "                        <td id=\"T_e0375_row9_col2\" class=\"data row9 col2\" >41</td>\n",
       "                        <td id=\"T_e0375_row9_col3\" class=\"data row9 col3\" >среднее</td>\n",
       "                        <td id=\"T_e0375_row9_col4\" class=\"data row9 col4\" >1</td>\n",
       "                        <td id=\"T_e0375_row9_col5\" class=\"data row9 col5\" >женат / замужем</td>\n",
       "                        <td id=\"T_e0375_row9_col6\" class=\"data row9 col6\" >0</td>\n",
       "                        <td id=\"T_e0375_row9_col7\" class=\"data row9 col7\" >M</td>\n",
       "                        <td id=\"T_e0375_row9_col8\" class=\"data row9 col8\" >сотрудник</td>\n",
       "                        <td id=\"T_e0375_row9_col9\" class=\"data row9 col9\" >0</td>\n",
       "                        <td id=\"T_e0375_row9_col10\" class=\"data row9 col10\" >144425.938277</td>\n",
       "                        <td id=\"T_e0375_row9_col11\" class=\"data row9 col11\" >покупка жилья для семьи</td>\n",
       "            </tr>\n",
       "    </tbody></table>"
      ],
      "text/plain": [
       "<pandas.io.formats.style.Styler at 0x7f76c3d9ad60>"
      ]
     },
     "metadata": {},
     "output_type": "display_data"
    }
   ],
   "source": [
    "#заменим отрицательные числа на положительные в стаже\n",
    "def negative_to_pozitive(value):\n",
    "    if value < 0:\n",
    "        value *= -1\n",
    "        return value\n",
    "    else:\n",
    "        return value\n",
    "    \n",
    "data['days_employed'] = data['days_employed'].apply(negative_to_pozitive)\n",
    "\n",
    "print('')\n",
    "\n",
    "render('Проверяем результат')\n",
    "\n",
    "render(data.head(10))"
   ]
  },
  {
   "cell_type": "code",
   "execution_count": 11,
   "id": "9b3fc75a",
   "metadata": {
    "hide_input": true
   },
   "outputs": [
    {
     "data": {
      "text/html": [
       "<p class=\"value\" ><code>Медиана дней: 2194.22 дней</code></p>"
      ],
      "text/plain": [
       "<IPython.core.display.HTML object>"
      ]
     },
     "metadata": {},
     "output_type": "display_data"
    }
   ],
   "source": [
    "#Получаем медину зарплаты\n",
    "days_employed_mean = data.sort_values('days_employed', ascending=False)['days_employed'].median()\n",
    "\n",
    "render(\"Медиана дней:\", days_employed_mean, 'дней', format='{:.2f}')"
   ]
  },
  {
   "cell_type": "code",
   "execution_count": 12,
   "id": "19cd3f4d",
   "metadata": {
    "hide_input": true
   },
   "outputs": [
    {
     "name": "stdout",
     "output_type": "stream",
     "text": [
      "\n"
     ]
    },
    {
     "data": {
      "text/html": [
       "<p class=\"value\" ><code>Структура данных, где есть ошибки</code></p>"
      ],
      "text/plain": [
       "<IPython.core.display.HTML object>"
      ]
     },
     "metadata": {},
     "output_type": "display_data"
    },
    {
     "data": {
      "text/html": [
       "<style  type=\"text/css\" >\n",
       "</style><table id=\"T_f3301_\" class=\"table_border position_center_header\"><thead>    <tr>        <th class=\"blank level0\" ></th>        <th class=\"col_heading level0 col0\" >children</th>        <th class=\"col_heading level0 col1\" >days_employed</th>        <th class=\"col_heading level0 col2\" >dob_years</th>        <th class=\"col_heading level0 col3\" >education</th>        <th class=\"col_heading level0 col4\" >education_id</th>        <th class=\"col_heading level0 col5\" >family_status</th>        <th class=\"col_heading level0 col6\" >family_status_id</th>        <th class=\"col_heading level0 col7\" >gender</th>        <th class=\"col_heading level0 col8\" >income_type</th>        <th class=\"col_heading level0 col9\" >debt</th>        <th class=\"col_heading level0 col10\" >total_income</th>        <th class=\"col_heading level0 col11\" >purpose</th>    </tr></thead><tbody>\n",
       "                <tr>\n",
       "                        <th id=\"T_f3301_level0_row0\" class=\"row_heading level0 row0\" >0</th>\n",
       "                        <td id=\"T_f3301_row0_col0\" class=\"data row0 col0\" ></td>\n",
       "                        <td id=\"T_f3301_row0_col1\" class=\"data row0 col1\" ></td>\n",
       "                        <td id=\"T_f3301_row0_col2\" class=\"data row0 col2\" ></td>\n",
       "                        <td id=\"T_f3301_row0_col3\" class=\"data row0 col3\" ></td>\n",
       "                        <td id=\"T_f3301_row0_col4\" class=\"data row0 col4\" ></td>\n",
       "                        <td id=\"T_f3301_row0_col5\" class=\"data row0 col5\" ></td>\n",
       "                        <td id=\"T_f3301_row0_col6\" class=\"data row0 col6\" ></td>\n",
       "                        <td id=\"T_f3301_row0_col7\" class=\"data row0 col7\" ></td>\n",
       "                        <td id=\"T_f3301_row0_col8\" class=\"data row0 col8\" ></td>\n",
       "                        <td id=\"T_f3301_row0_col9\" class=\"data row0 col9\" ></td>\n",
       "                        <td id=\"T_f3301_row0_col10\" class=\"data row0 col10\" ></td>\n",
       "                        <td id=\"T_f3301_row0_col11\" class=\"data row0 col11\" ></td>\n",
       "            </tr>\n",
       "    </tbody></table>"
      ],
      "text/plain": [
       "<pandas.io.formats.style.Styler at 0x7f76c3dc87f0>"
      ]
     },
     "metadata": {},
     "output_type": "display_data"
    },
    {
     "name": "stdout",
     "output_type": "stream",
     "text": [
      "\n"
     ]
    },
    {
     "data": {
      "text/html": [
       "<p class=\"value\" ><code>Срез по пропускам</code></p>"
      ],
      "text/plain": [
       "<IPython.core.display.HTML object>"
      ]
     },
     "metadata": {},
     "output_type": "display_data"
    },
    {
     "data": {
      "text/html": [
       "<style  type=\"text/css\" >\n",
       "</style><table id=\"T_bff9e_\" class=\"table_border position_center_header\"><thead>    <tr>        <th class=\"blank level0\" ></th>        <th class=\"col_heading level0 col0\" >Столбец</th>        <th class=\"col_heading level0 col1\" >Количество</th>    </tr></thead><tbody>\n",
       "                <tr>\n",
       "                        <th id=\"T_bff9e_level0_row0\" class=\"row_heading level0 row0\" >0</th>\n",
       "                        <td id=\"T_bff9e_row0_col0\" class=\"data row0 col0\" >children</td>\n",
       "                        <td id=\"T_bff9e_row0_col1\" class=\"data row0 col1\" >0</td>\n",
       "            </tr>\n",
       "            <tr>\n",
       "                        <th id=\"T_bff9e_level0_row1\" class=\"row_heading level0 row1\" >1</th>\n",
       "                        <td id=\"T_bff9e_row1_col0\" class=\"data row1 col0\" >days_employed</td>\n",
       "                        <td id=\"T_bff9e_row1_col1\" class=\"data row1 col1\" >0</td>\n",
       "            </tr>\n",
       "            <tr>\n",
       "                        <th id=\"T_bff9e_level0_row2\" class=\"row_heading level0 row2\" >2</th>\n",
       "                        <td id=\"T_bff9e_row2_col0\" class=\"data row2 col0\" >dob_years</td>\n",
       "                        <td id=\"T_bff9e_row2_col1\" class=\"data row2 col1\" >0</td>\n",
       "            </tr>\n",
       "            <tr>\n",
       "                        <th id=\"T_bff9e_level0_row3\" class=\"row_heading level0 row3\" >3</th>\n",
       "                        <td id=\"T_bff9e_row3_col0\" class=\"data row3 col0\" >education</td>\n",
       "                        <td id=\"T_bff9e_row3_col1\" class=\"data row3 col1\" >0</td>\n",
       "            </tr>\n",
       "            <tr>\n",
       "                        <th id=\"T_bff9e_level0_row4\" class=\"row_heading level0 row4\" >4</th>\n",
       "                        <td id=\"T_bff9e_row4_col0\" class=\"data row4 col0\" >education_id</td>\n",
       "                        <td id=\"T_bff9e_row4_col1\" class=\"data row4 col1\" >0</td>\n",
       "            </tr>\n",
       "            <tr>\n",
       "                        <th id=\"T_bff9e_level0_row5\" class=\"row_heading level0 row5\" >5</th>\n",
       "                        <td id=\"T_bff9e_row5_col0\" class=\"data row5 col0\" >family_status</td>\n",
       "                        <td id=\"T_bff9e_row5_col1\" class=\"data row5 col1\" >0</td>\n",
       "            </tr>\n",
       "            <tr>\n",
       "                        <th id=\"T_bff9e_level0_row6\" class=\"row_heading level0 row6\" >6</th>\n",
       "                        <td id=\"T_bff9e_row6_col0\" class=\"data row6 col0\" >family_status_id</td>\n",
       "                        <td id=\"T_bff9e_row6_col1\" class=\"data row6 col1\" >0</td>\n",
       "            </tr>\n",
       "            <tr>\n",
       "                        <th id=\"T_bff9e_level0_row7\" class=\"row_heading level0 row7\" >7</th>\n",
       "                        <td id=\"T_bff9e_row7_col0\" class=\"data row7 col0\" >gender</td>\n",
       "                        <td id=\"T_bff9e_row7_col1\" class=\"data row7 col1\" >0</td>\n",
       "            </tr>\n",
       "            <tr>\n",
       "                        <th id=\"T_bff9e_level0_row8\" class=\"row_heading level0 row8\" >8</th>\n",
       "                        <td id=\"T_bff9e_row8_col0\" class=\"data row8 col0\" >income_type</td>\n",
       "                        <td id=\"T_bff9e_row8_col1\" class=\"data row8 col1\" >0</td>\n",
       "            </tr>\n",
       "            <tr>\n",
       "                        <th id=\"T_bff9e_level0_row9\" class=\"row_heading level0 row9\" >9</th>\n",
       "                        <td id=\"T_bff9e_row9_col0\" class=\"data row9 col0\" >debt</td>\n",
       "                        <td id=\"T_bff9e_row9_col1\" class=\"data row9 col1\" >0</td>\n",
       "            </tr>\n",
       "            <tr>\n",
       "                        <th id=\"T_bff9e_level0_row10\" class=\"row_heading level0 row10\" >10</th>\n",
       "                        <td id=\"T_bff9e_row10_col0\" class=\"data row10 col0\" >total_income</td>\n",
       "                        <td id=\"T_bff9e_row10_col1\" class=\"data row10 col1\" >0</td>\n",
       "            </tr>\n",
       "            <tr>\n",
       "                        <th id=\"T_bff9e_level0_row11\" class=\"row_heading level0 row11\" >11</th>\n",
       "                        <td id=\"T_bff9e_row11_col0\" class=\"data row11 col0\" >purpose</td>\n",
       "                        <td id=\"T_bff9e_row11_col1\" class=\"data row11 col1\" >0</td>\n",
       "            </tr>\n",
       "    </tbody></table>"
      ],
      "text/plain": [
       "<pandas.io.formats.style.Styler at 0x7f76c3df5100>"
      ]
     },
     "metadata": {},
     "output_type": "display_data"
    }
   ],
   "source": [
    "data['days_employed'] = data['days_employed'].fillna(days_employed_mean)\n",
    "\n",
    "print('')\n",
    "\n",
    "#посмотрим на данные, где были допущены пропуски\n",
    "\n",
    "render('Структура данных, где есть ошибки')\n",
    "render(data[data['days_employed'].isna()].head(10), format='{:.2f}')\n",
    "\n",
    "print('')\n",
    "\n",
    "#Проверим столбцы на пропуски\n",
    "\n",
    "nan_df = pd.DataFrame(data.isna().sum(), columns=['Количество'])\n",
    "nan_df.index = nan_df.index.set_names(['Столбец'])\n",
    "nan_df = nan_df.reset_index()\n",
    "\n",
    "render('Срез по пропускам')\n",
    "render(nan_df, marker=[['Количество',0.1]])"
   ]
  },
  {
   "cell_type": "markdown",
   "id": "a3251239",
   "metadata": {},
   "source": [
    "<br><br>\n",
    "**Проверим текстовые значения столбцов**"
   ]
  },
  {
   "cell_type": "markdown",
   "id": "2bd1f72b",
   "metadata": {},
   "source": [
    "Вещественные числа заменены на целые числа. \n",
    "\n",
    "*__Из первого же среза видно, что количество дней у пенсионера сильно завышено: `340266 дней` / 360 дней = <b>945 лет!</b><br><br>\n",
    "В среднем на пенсию выходят в 50 лет и начинают работу в 20 лет и получим среднее количество дней стажа = 30 * 360 = 10800.<br><br>\n",
    "<b>При таких ошибках нужно сообщить о том, что данные не корректны, нужно на это обратить внимание!</b>__*\n",
    "\n",
    "Проверим ли ошибки в написании значений столбцов `education`, `family_status`, `income_type`, `purpose`"
   ]
  },
  {
   "cell_type": "code",
   "execution_count": 13,
   "id": "17403455",
   "metadata": {
    "hide_input": true
   },
   "outputs": [
    {
     "name": "stdout",
     "output_type": "stream",
     "text": [
      "\n"
     ]
    },
    {
     "data": {
      "text/html": [
       "<p class=\"value\" ><code>Столбец \"education\"</code></p>"
      ],
      "text/plain": [
       "<IPython.core.display.HTML object>"
      ]
     },
     "metadata": {},
     "output_type": "display_data"
    },
    {
     "data": {
      "text/html": [
       "<style  type=\"text/css\" >\n",
       "</style><table id=\"T_123fd_\" class=\"table_border position_center_header\"><thead>    <tr>        <th class=\"blank level0\" ></th>        <th class=\"col_heading level0 col0\" >Образование</th>        <th class=\"col_heading level0 col1\" >Количество</th>    </tr></thead><tbody>\n",
       "                <tr>\n",
       "                        <th id=\"T_123fd_level0_row0\" class=\"row_heading level0 row0\" >0</th>\n",
       "                        <td id=\"T_123fd_row0_col0\" class=\"data row0 col0\" >среднее</td>\n",
       "                        <td id=\"T_123fd_row0_col1\" class=\"data row0 col1\" >13750</td>\n",
       "            </tr>\n",
       "            <tr>\n",
       "                        <th id=\"T_123fd_level0_row1\" class=\"row_heading level0 row1\" >1</th>\n",
       "                        <td id=\"T_123fd_row1_col0\" class=\"data row1 col0\" >высшее</td>\n",
       "                        <td id=\"T_123fd_row1_col1\" class=\"data row1 col1\" >4718</td>\n",
       "            </tr>\n",
       "            <tr>\n",
       "                        <th id=\"T_123fd_level0_row2\" class=\"row_heading level0 row2\" >2</th>\n",
       "                        <td id=\"T_123fd_row2_col0\" class=\"data row2 col0\" >СРЕДНЕЕ</td>\n",
       "                        <td id=\"T_123fd_row2_col1\" class=\"data row2 col1\" >772</td>\n",
       "            </tr>\n",
       "            <tr>\n",
       "                        <th id=\"T_123fd_level0_row3\" class=\"row_heading level0 row3\" >3</th>\n",
       "                        <td id=\"T_123fd_row3_col0\" class=\"data row3 col0\" >Среднее</td>\n",
       "                        <td id=\"T_123fd_row3_col1\" class=\"data row3 col1\" >711</td>\n",
       "            </tr>\n",
       "            <tr>\n",
       "                        <th id=\"T_123fd_level0_row4\" class=\"row_heading level0 row4\" >4</th>\n",
       "                        <td id=\"T_123fd_row4_col0\" class=\"data row4 col0\" >неоконченное высшее</td>\n",
       "                        <td id=\"T_123fd_row4_col1\" class=\"data row4 col1\" >668</td>\n",
       "            </tr>\n",
       "            <tr>\n",
       "                        <th id=\"T_123fd_level0_row5\" class=\"row_heading level0 row5\" >5</th>\n",
       "                        <td id=\"T_123fd_row5_col0\" class=\"data row5 col0\" >ВЫСШЕЕ</td>\n",
       "                        <td id=\"T_123fd_row5_col1\" class=\"data row5 col1\" >274</td>\n",
       "            </tr>\n",
       "            <tr>\n",
       "                        <th id=\"T_123fd_level0_row6\" class=\"row_heading level0 row6\" >6</th>\n",
       "                        <td id=\"T_123fd_row6_col0\" class=\"data row6 col0\" >Высшее</td>\n",
       "                        <td id=\"T_123fd_row6_col1\" class=\"data row6 col1\" >268</td>\n",
       "            </tr>\n",
       "            <tr>\n",
       "                        <th id=\"T_123fd_level0_row7\" class=\"row_heading level0 row7\" >7</th>\n",
       "                        <td id=\"T_123fd_row7_col0\" class=\"data row7 col0\" >начальное</td>\n",
       "                        <td id=\"T_123fd_row7_col1\" class=\"data row7 col1\" >250</td>\n",
       "            </tr>\n",
       "            <tr>\n",
       "                        <th id=\"T_123fd_level0_row8\" class=\"row_heading level0 row8\" >8</th>\n",
       "                        <td id=\"T_123fd_row8_col0\" class=\"data row8 col0\" >Неоконченное высшее</td>\n",
       "                        <td id=\"T_123fd_row8_col1\" class=\"data row8 col1\" >47</td>\n",
       "            </tr>\n",
       "            <tr>\n",
       "                        <th id=\"T_123fd_level0_row9\" class=\"row_heading level0 row9\" >9</th>\n",
       "                        <td id=\"T_123fd_row9_col0\" class=\"data row9 col0\" >НЕОКОНЧЕННОЕ ВЫСШЕЕ</td>\n",
       "                        <td id=\"T_123fd_row9_col1\" class=\"data row9 col1\" >29</td>\n",
       "            </tr>\n",
       "            <tr>\n",
       "                        <th id=\"T_123fd_level0_row10\" class=\"row_heading level0 row10\" >10</th>\n",
       "                        <td id=\"T_123fd_row10_col0\" class=\"data row10 col0\" >НАЧАЛЬНОЕ</td>\n",
       "                        <td id=\"T_123fd_row10_col1\" class=\"data row10 col1\" >17</td>\n",
       "            </tr>\n",
       "            <tr>\n",
       "                        <th id=\"T_123fd_level0_row11\" class=\"row_heading level0 row11\" >11</th>\n",
       "                        <td id=\"T_123fd_row11_col0\" class=\"data row11 col0\" >Начальное</td>\n",
       "                        <td id=\"T_123fd_row11_col1\" class=\"data row11 col1\" >15</td>\n",
       "            </tr>\n",
       "            <tr>\n",
       "                        <th id=\"T_123fd_level0_row12\" class=\"row_heading level0 row12\" >12</th>\n",
       "                        <td id=\"T_123fd_row12_col0\" class=\"data row12 col0\" >ученая степень</td>\n",
       "                        <td id=\"T_123fd_row12_col1\" class=\"data row12 col1\" >4</td>\n",
       "            </tr>\n",
       "            <tr>\n",
       "                        <th id=\"T_123fd_level0_row13\" class=\"row_heading level0 row13\" >13</th>\n",
       "                        <td id=\"T_123fd_row13_col0\" class=\"data row13 col0\" >Ученая степень</td>\n",
       "                        <td id=\"T_123fd_row13_col1\" class=\"data row13 col1\" >1</td>\n",
       "            </tr>\n",
       "            <tr>\n",
       "                        <th id=\"T_123fd_level0_row14\" class=\"row_heading level0 row14\" >14</th>\n",
       "                        <td id=\"T_123fd_row14_col0\" class=\"data row14 col0\" >УЧЕНАЯ СТЕПЕНЬ</td>\n",
       "                        <td id=\"T_123fd_row14_col1\" class=\"data row14 col1\" >1</td>\n",
       "            </tr>\n",
       "    </tbody></table>"
      ],
      "text/plain": [
       "<pandas.io.formats.style.Styler at 0x7f76c3d83550>"
      ]
     },
     "metadata": {},
     "output_type": "display_data"
    }
   ],
   "source": [
    "print('')\n",
    "\n",
    "#Образование\n",
    "render('Столбец \"education\"')\n",
    "education_df = data['education'].value_counts().rename_axis('Образование').reset_index(name='Количество')\n",
    "render(education_df)"
   ]
  },
  {
   "cell_type": "markdown",
   "id": "04551ef7",
   "metadata": {},
   "source": [
    "__*Здесь видим повторы, которые написаны разным начертанием: <b>С большой буквы, все буквы большие.</b> Нужно привести к единому формату: <b>все маленькие буквы</b>*__"
   ]
  },
  {
   "cell_type": "code",
   "execution_count": 14,
   "id": "76ac9b0f",
   "metadata": {
    "hide_input": true
   },
   "outputs": [
    {
     "name": "stdout",
     "output_type": "stream",
     "text": [
      "\n"
     ]
    },
    {
     "data": {
      "text/html": [
       "<p class=\"value\" ><code>Столбец \"family_status\"</code></p>"
      ],
      "text/plain": [
       "<IPython.core.display.HTML object>"
      ]
     },
     "metadata": {},
     "output_type": "display_data"
    },
    {
     "data": {
      "text/html": [
       "<style  type=\"text/css\" >\n",
       "</style><table id=\"T_85d68_\" class=\"table_border position_center_header\"><thead>    <tr>        <th class=\"blank level0\" ></th>        <th class=\"col_heading level0 col0\" >Семейное положение</th>        <th class=\"col_heading level0 col1\" >Количество</th>    </tr></thead><tbody>\n",
       "                <tr>\n",
       "                        <th id=\"T_85d68_level0_row0\" class=\"row_heading level0 row0\" >0</th>\n",
       "                        <td id=\"T_85d68_row0_col0\" class=\"data row0 col0\" >женат / замужем</td>\n",
       "                        <td id=\"T_85d68_row0_col1\" class=\"data row0 col1\" >12380</td>\n",
       "            </tr>\n",
       "            <tr>\n",
       "                        <th id=\"T_85d68_level0_row1\" class=\"row_heading level0 row1\" >1</th>\n",
       "                        <td id=\"T_85d68_row1_col0\" class=\"data row1 col0\" >гражданский брак</td>\n",
       "                        <td id=\"T_85d68_row1_col1\" class=\"data row1 col1\" >4177</td>\n",
       "            </tr>\n",
       "            <tr>\n",
       "                        <th id=\"T_85d68_level0_row2\" class=\"row_heading level0 row2\" >2</th>\n",
       "                        <td id=\"T_85d68_row2_col0\" class=\"data row2 col0\" >Не женат / не замужем</td>\n",
       "                        <td id=\"T_85d68_row2_col1\" class=\"data row2 col1\" >2813</td>\n",
       "            </tr>\n",
       "            <tr>\n",
       "                        <th id=\"T_85d68_level0_row3\" class=\"row_heading level0 row3\" >3</th>\n",
       "                        <td id=\"T_85d68_row3_col0\" class=\"data row3 col0\" >в разводе</td>\n",
       "                        <td id=\"T_85d68_row3_col1\" class=\"data row3 col1\" >1195</td>\n",
       "            </tr>\n",
       "            <tr>\n",
       "                        <th id=\"T_85d68_level0_row4\" class=\"row_heading level0 row4\" >4</th>\n",
       "                        <td id=\"T_85d68_row4_col0\" class=\"data row4 col0\" >вдовец / вдова</td>\n",
       "                        <td id=\"T_85d68_row4_col1\" class=\"data row4 col1\" >960</td>\n",
       "            </tr>\n",
       "    </tbody></table>"
      ],
      "text/plain": [
       "<pandas.io.formats.style.Styler at 0x7f76c3dcbd90>"
      ]
     },
     "metadata": {},
     "output_type": "display_data"
    }
   ],
   "source": [
    "print('')\n",
    "\n",
    "#Семейное положение\n",
    "render('Столбец \"family_status\"')\n",
    "family_status_df = data['family_status'].value_counts().rename_axis('Семейное положение').reset_index(name='Количество')\n",
    "render(family_status_df)"
   ]
  },
  {
   "cell_type": "markdown",
   "id": "64a5ca1e",
   "metadata": {},
   "source": [
    "__*Здесь все нормально, но приведем к единому формату: <b>все маленькие буквы</b>*__"
   ]
  },
  {
   "cell_type": "code",
   "execution_count": 15,
   "id": "00e5f17b",
   "metadata": {
    "hide_input": true
   },
   "outputs": [
    {
     "name": "stdout",
     "output_type": "stream",
     "text": [
      "\n"
     ]
    },
    {
     "data": {
      "text/html": [
       "<p class=\"value\" ><code>Столбец \"income_type\"</code></p>"
      ],
      "text/plain": [
       "<IPython.core.display.HTML object>"
      ]
     },
     "metadata": {},
     "output_type": "display_data"
    },
    {
     "data": {
      "text/html": [
       "<style  type=\"text/css\" >\n",
       "</style><table id=\"T_3b8f2_\" class=\"table_border position_center_header\"><thead>    <tr>        <th class=\"blank level0\" ></th>        <th class=\"col_heading level0 col0\" >Тип деятельности</th>        <th class=\"col_heading level0 col1\" >Количество</th>    </tr></thead><tbody>\n",
       "                <tr>\n",
       "                        <th id=\"T_3b8f2_level0_row0\" class=\"row_heading level0 row0\" >0</th>\n",
       "                        <td id=\"T_3b8f2_row0_col0\" class=\"data row0 col0\" >сотрудник</td>\n",
       "                        <td id=\"T_3b8f2_row0_col1\" class=\"data row0 col1\" >11119</td>\n",
       "            </tr>\n",
       "            <tr>\n",
       "                        <th id=\"T_3b8f2_level0_row1\" class=\"row_heading level0 row1\" >1</th>\n",
       "                        <td id=\"T_3b8f2_row1_col0\" class=\"data row1 col0\" >компаньон</td>\n",
       "                        <td id=\"T_3b8f2_row1_col1\" class=\"data row1 col1\" >5085</td>\n",
       "            </tr>\n",
       "            <tr>\n",
       "                        <th id=\"T_3b8f2_level0_row2\" class=\"row_heading level0 row2\" >2</th>\n",
       "                        <td id=\"T_3b8f2_row2_col0\" class=\"data row2 col0\" >пенсионер</td>\n",
       "                        <td id=\"T_3b8f2_row2_col1\" class=\"data row2 col1\" >3856</td>\n",
       "            </tr>\n",
       "            <tr>\n",
       "                        <th id=\"T_3b8f2_level0_row3\" class=\"row_heading level0 row3\" >3</th>\n",
       "                        <td id=\"T_3b8f2_row3_col0\" class=\"data row3 col0\" >госслужащий</td>\n",
       "                        <td id=\"T_3b8f2_row3_col1\" class=\"data row3 col1\" >1459</td>\n",
       "            </tr>\n",
       "            <tr>\n",
       "                        <th id=\"T_3b8f2_level0_row4\" class=\"row_heading level0 row4\" >4</th>\n",
       "                        <td id=\"T_3b8f2_row4_col0\" class=\"data row4 col0\" >предприниматель</td>\n",
       "                        <td id=\"T_3b8f2_row4_col1\" class=\"data row4 col1\" >2</td>\n",
       "            </tr>\n",
       "            <tr>\n",
       "                        <th id=\"T_3b8f2_level0_row5\" class=\"row_heading level0 row5\" >5</th>\n",
       "                        <td id=\"T_3b8f2_row5_col0\" class=\"data row5 col0\" >безработный</td>\n",
       "                        <td id=\"T_3b8f2_row5_col1\" class=\"data row5 col1\" >2</td>\n",
       "            </tr>\n",
       "            <tr>\n",
       "                        <th id=\"T_3b8f2_level0_row6\" class=\"row_heading level0 row6\" >6</th>\n",
       "                        <td id=\"T_3b8f2_row6_col0\" class=\"data row6 col0\" >в декрете</td>\n",
       "                        <td id=\"T_3b8f2_row6_col1\" class=\"data row6 col1\" >1</td>\n",
       "            </tr>\n",
       "            <tr>\n",
       "                        <th id=\"T_3b8f2_level0_row7\" class=\"row_heading level0 row7\" >7</th>\n",
       "                        <td id=\"T_3b8f2_row7_col0\" class=\"data row7 col0\" >студент</td>\n",
       "                        <td id=\"T_3b8f2_row7_col1\" class=\"data row7 col1\" >1</td>\n",
       "            </tr>\n",
       "    </tbody></table>"
      ],
      "text/plain": [
       "<pandas.io.formats.style.Styler at 0x7f76c3e15f10>"
      ]
     },
     "metadata": {},
     "output_type": "display_data"
    }
   ],
   "source": [
    "print('')\n",
    "\n",
    "#Тип деятельности\n",
    "render('Столбец \"income_type\"')\n",
    "income_type_df = data['income_type'].value_counts().rename_axis('Тип деятельности').reset_index(name='Количество')\n",
    "render(income_type_df)"
   ]
  },
  {
   "cell_type": "markdown",
   "id": "1f4d48ee",
   "metadata": {},
   "source": [
    "__*Единственный нормальный столбец, где все нормально*__"
   ]
  },
  {
   "cell_type": "code",
   "execution_count": 16,
   "id": "7e38684b",
   "metadata": {
    "hide_input": true
   },
   "outputs": [
    {
     "name": "stdout",
     "output_type": "stream",
     "text": [
      "\n"
     ]
    },
    {
     "data": {
      "text/html": [
       "<p class=\"value\" ><code>Столбец \"purpose\"</code></p>"
      ],
      "text/plain": [
       "<IPython.core.display.HTML object>"
      ]
     },
     "metadata": {},
     "output_type": "display_data"
    },
    {
     "data": {
      "text/html": [
       "<style  type=\"text/css\" >\n",
       "</style><table id=\"T_44089_\" class=\"table_border position_center_header\"><thead>    <tr>        <th class=\"blank level0\" ></th>        <th class=\"col_heading level0 col0\" >Цель кредита</th>        <th class=\"col_heading level0 col1\" >Количество</th>    </tr></thead><tbody>\n",
       "                <tr>\n",
       "                        <th id=\"T_44089_level0_row0\" class=\"row_heading level0 row0\" >0</th>\n",
       "                        <td id=\"T_44089_row0_col0\" class=\"data row0 col0\" >свадьба</td>\n",
       "                        <td id=\"T_44089_row0_col1\" class=\"data row0 col1\" >797</td>\n",
       "            </tr>\n",
       "            <tr>\n",
       "                        <th id=\"T_44089_level0_row1\" class=\"row_heading level0 row1\" >1</th>\n",
       "                        <td id=\"T_44089_row1_col0\" class=\"data row1 col0\" >на проведение свадьбы</td>\n",
       "                        <td id=\"T_44089_row1_col1\" class=\"data row1 col1\" >777</td>\n",
       "            </tr>\n",
       "            <tr>\n",
       "                        <th id=\"T_44089_level0_row2\" class=\"row_heading level0 row2\" >2</th>\n",
       "                        <td id=\"T_44089_row2_col0\" class=\"data row2 col0\" >сыграть свадьбу</td>\n",
       "                        <td id=\"T_44089_row2_col1\" class=\"data row2 col1\" >774</td>\n",
       "            </tr>\n",
       "            <tr>\n",
       "                        <th id=\"T_44089_level0_row3\" class=\"row_heading level0 row3\" >3</th>\n",
       "                        <td id=\"T_44089_row3_col0\" class=\"data row3 col0\" >операции с недвижимостью</td>\n",
       "                        <td id=\"T_44089_row3_col1\" class=\"data row3 col1\" >676</td>\n",
       "            </tr>\n",
       "            <tr>\n",
       "                        <th id=\"T_44089_level0_row4\" class=\"row_heading level0 row4\" >4</th>\n",
       "                        <td id=\"T_44089_row4_col0\" class=\"data row4 col0\" >покупка коммерческой недвижимости</td>\n",
       "                        <td id=\"T_44089_row4_col1\" class=\"data row4 col1\" >664</td>\n",
       "            </tr>\n",
       "            <tr>\n",
       "                        <th id=\"T_44089_level0_row5\" class=\"row_heading level0 row5\" >5</th>\n",
       "                        <td id=\"T_44089_row5_col0\" class=\"data row5 col0\" >операции с жильем</td>\n",
       "                        <td id=\"T_44089_row5_col1\" class=\"data row5 col1\" >653</td>\n",
       "            </tr>\n",
       "            <tr>\n",
       "                        <th id=\"T_44089_level0_row6\" class=\"row_heading level0 row6\" >6</th>\n",
       "                        <td id=\"T_44089_row6_col0\" class=\"data row6 col0\" >покупка жилья для сдачи</td>\n",
       "                        <td id=\"T_44089_row6_col1\" class=\"data row6 col1\" >653</td>\n",
       "            </tr>\n",
       "            <tr>\n",
       "                        <th id=\"T_44089_level0_row7\" class=\"row_heading level0 row7\" >7</th>\n",
       "                        <td id=\"T_44089_row7_col0\" class=\"data row7 col0\" >операции с коммерческой недвижимостью</td>\n",
       "                        <td id=\"T_44089_row7_col1\" class=\"data row7 col1\" >651</td>\n",
       "            </tr>\n",
       "            <tr>\n",
       "                        <th id=\"T_44089_level0_row8\" class=\"row_heading level0 row8\" >8</th>\n",
       "                        <td id=\"T_44089_row8_col0\" class=\"data row8 col0\" >покупка жилья</td>\n",
       "                        <td id=\"T_44089_row8_col1\" class=\"data row8 col1\" >647</td>\n",
       "            </tr>\n",
       "            <tr>\n",
       "                        <th id=\"T_44089_level0_row9\" class=\"row_heading level0 row9\" >9</th>\n",
       "                        <td id=\"T_44089_row9_col0\" class=\"data row9 col0\" >жилье</td>\n",
       "                        <td id=\"T_44089_row9_col1\" class=\"data row9 col1\" >647</td>\n",
       "            </tr>\n",
       "            <tr>\n",
       "                        <th id=\"T_44089_level0_row10\" class=\"row_heading level0 row10\" >10</th>\n",
       "                        <td id=\"T_44089_row10_col0\" class=\"data row10 col0\" >покупка жилья для семьи</td>\n",
       "                        <td id=\"T_44089_row10_col1\" class=\"data row10 col1\" >641</td>\n",
       "            </tr>\n",
       "            <tr>\n",
       "                        <th id=\"T_44089_level0_row11\" class=\"row_heading level0 row11\" >11</th>\n",
       "                        <td id=\"T_44089_row11_col0\" class=\"data row11 col0\" >строительство собственной недвижимости</td>\n",
       "                        <td id=\"T_44089_row11_col1\" class=\"data row11 col1\" >635</td>\n",
       "            </tr>\n",
       "            <tr>\n",
       "                        <th id=\"T_44089_level0_row12\" class=\"row_heading level0 row12\" >12</th>\n",
       "                        <td id=\"T_44089_row12_col0\" class=\"data row12 col0\" >недвижимость</td>\n",
       "                        <td id=\"T_44089_row12_col1\" class=\"data row12 col1\" >634</td>\n",
       "            </tr>\n",
       "            <tr>\n",
       "                        <th id=\"T_44089_level0_row13\" class=\"row_heading level0 row13\" >13</th>\n",
       "                        <td id=\"T_44089_row13_col0\" class=\"data row13 col0\" >операции со своей недвижимостью</td>\n",
       "                        <td id=\"T_44089_row13_col1\" class=\"data row13 col1\" >630</td>\n",
       "            </tr>\n",
       "            <tr>\n",
       "                        <th id=\"T_44089_level0_row14\" class=\"row_heading level0 row14\" >14</th>\n",
       "                        <td id=\"T_44089_row14_col0\" class=\"data row14 col0\" >строительство жилой недвижимости</td>\n",
       "                        <td id=\"T_44089_row14_col1\" class=\"data row14 col1\" >626</td>\n",
       "            </tr>\n",
       "            <tr>\n",
       "                        <th id=\"T_44089_level0_row15\" class=\"row_heading level0 row15\" >15</th>\n",
       "                        <td id=\"T_44089_row15_col0\" class=\"data row15 col0\" >покупка недвижимости</td>\n",
       "                        <td id=\"T_44089_row15_col1\" class=\"data row15 col1\" >624</td>\n",
       "            </tr>\n",
       "            <tr>\n",
       "                        <th id=\"T_44089_level0_row16\" class=\"row_heading level0 row16\" >16</th>\n",
       "                        <td id=\"T_44089_row16_col0\" class=\"data row16 col0\" >строительство недвижимости</td>\n",
       "                        <td id=\"T_44089_row16_col1\" class=\"data row16 col1\" >620</td>\n",
       "            </tr>\n",
       "            <tr>\n",
       "                        <th id=\"T_44089_level0_row17\" class=\"row_heading level0 row17\" >17</th>\n",
       "                        <td id=\"T_44089_row17_col0\" class=\"data row17 col0\" >покупка своего жилья</td>\n",
       "                        <td id=\"T_44089_row17_col1\" class=\"data row17 col1\" >620</td>\n",
       "            </tr>\n",
       "            <tr>\n",
       "                        <th id=\"T_44089_level0_row18\" class=\"row_heading level0 row18\" >18</th>\n",
       "                        <td id=\"T_44089_row18_col0\" class=\"data row18 col0\" >ремонт жилью</td>\n",
       "                        <td id=\"T_44089_row18_col1\" class=\"data row18 col1\" >612</td>\n",
       "            </tr>\n",
       "            <tr>\n",
       "                        <th id=\"T_44089_level0_row19\" class=\"row_heading level0 row19\" >19</th>\n",
       "                        <td id=\"T_44089_row19_col0\" class=\"data row19 col0\" >покупка жилой недвижимости</td>\n",
       "                        <td id=\"T_44089_row19_col1\" class=\"data row19 col1\" >607</td>\n",
       "            </tr>\n",
       "            <tr>\n",
       "                        <th id=\"T_44089_level0_row20\" class=\"row_heading level0 row20\" >20</th>\n",
       "                        <td id=\"T_44089_row20_col0\" class=\"data row20 col0\" >на покупку своего автомобиля</td>\n",
       "                        <td id=\"T_44089_row20_col1\" class=\"data row20 col1\" >505</td>\n",
       "            </tr>\n",
       "            <tr>\n",
       "                        <th id=\"T_44089_level0_row21\" class=\"row_heading level0 row21\" >21</th>\n",
       "                        <td id=\"T_44089_row21_col0\" class=\"data row21 col0\" >заняться высшим образованием</td>\n",
       "                        <td id=\"T_44089_row21_col1\" class=\"data row21 col1\" >496</td>\n",
       "            </tr>\n",
       "            <tr>\n",
       "                        <th id=\"T_44089_level0_row22\" class=\"row_heading level0 row22\" >22</th>\n",
       "                        <td id=\"T_44089_row22_col0\" class=\"data row22 col0\" >автомобиль</td>\n",
       "                        <td id=\"T_44089_row22_col1\" class=\"data row22 col1\" >495</td>\n",
       "            </tr>\n",
       "            <tr>\n",
       "                        <th id=\"T_44089_level0_row23\" class=\"row_heading level0 row23\" >23</th>\n",
       "                        <td id=\"T_44089_row23_col0\" class=\"data row23 col0\" >сделка с подержанным автомобилем</td>\n",
       "                        <td id=\"T_44089_row23_col1\" class=\"data row23 col1\" >489</td>\n",
       "            </tr>\n",
       "            <tr>\n",
       "                        <th id=\"T_44089_level0_row24\" class=\"row_heading level0 row24\" >24</th>\n",
       "                        <td id=\"T_44089_row24_col0\" class=\"data row24 col0\" >свой автомобиль</td>\n",
       "                        <td id=\"T_44089_row24_col1\" class=\"data row24 col1\" >480</td>\n",
       "            </tr>\n",
       "            <tr>\n",
       "                        <th id=\"T_44089_level0_row25\" class=\"row_heading level0 row25\" >25</th>\n",
       "                        <td id=\"T_44089_row25_col0\" class=\"data row25 col0\" >на покупку подержанного автомобиля</td>\n",
       "                        <td id=\"T_44089_row25_col1\" class=\"data row25 col1\" >479</td>\n",
       "            </tr>\n",
       "            <tr>\n",
       "                        <th id=\"T_44089_level0_row26\" class=\"row_heading level0 row26\" >26</th>\n",
       "                        <td id=\"T_44089_row26_col0\" class=\"data row26 col0\" >автомобили</td>\n",
       "                        <td id=\"T_44089_row26_col1\" class=\"data row26 col1\" >478</td>\n",
       "            </tr>\n",
       "            <tr>\n",
       "                        <th id=\"T_44089_level0_row27\" class=\"row_heading level0 row27\" >27</th>\n",
       "                        <td id=\"T_44089_row27_col0\" class=\"data row27 col0\" >на покупку автомобиля</td>\n",
       "                        <td id=\"T_44089_row27_col1\" class=\"data row27 col1\" >472</td>\n",
       "            </tr>\n",
       "            <tr>\n",
       "                        <th id=\"T_44089_level0_row28\" class=\"row_heading level0 row28\" >28</th>\n",
       "                        <td id=\"T_44089_row28_col0\" class=\"data row28 col0\" >дополнительное образование</td>\n",
       "                        <td id=\"T_44089_row28_col1\" class=\"data row28 col1\" >462</td>\n",
       "            </tr>\n",
       "            <tr>\n",
       "                        <th id=\"T_44089_level0_row29\" class=\"row_heading level0 row29\" >29</th>\n",
       "                        <td id=\"T_44089_row29_col0\" class=\"data row29 col0\" >приобретение автомобиля</td>\n",
       "                        <td id=\"T_44089_row29_col1\" class=\"data row29 col1\" >462</td>\n",
       "            </tr>\n",
       "            <tr>\n",
       "                        <th id=\"T_44089_level0_row30\" class=\"row_heading level0 row30\" >30</th>\n",
       "                        <td id=\"T_44089_row30_col0\" class=\"data row30 col0\" >сделка с автомобилем</td>\n",
       "                        <td id=\"T_44089_row30_col1\" class=\"data row30 col1\" >455</td>\n",
       "            </tr>\n",
       "            <tr>\n",
       "                        <th id=\"T_44089_level0_row31\" class=\"row_heading level0 row31\" >31</th>\n",
       "                        <td id=\"T_44089_row31_col0\" class=\"data row31 col0\" >высшее образование</td>\n",
       "                        <td id=\"T_44089_row31_col1\" class=\"data row31 col1\" >453</td>\n",
       "            </tr>\n",
       "            <tr>\n",
       "                        <th id=\"T_44089_level0_row32\" class=\"row_heading level0 row32\" >32</th>\n",
       "                        <td id=\"T_44089_row32_col0\" class=\"data row32 col0\" >получение дополнительного образования</td>\n",
       "                        <td id=\"T_44089_row32_col1\" class=\"data row32 col1\" >447</td>\n",
       "            </tr>\n",
       "            <tr>\n",
       "                        <th id=\"T_44089_level0_row33\" class=\"row_heading level0 row33\" >33</th>\n",
       "                        <td id=\"T_44089_row33_col0\" class=\"data row33 col0\" >образование</td>\n",
       "                        <td id=\"T_44089_row33_col1\" class=\"data row33 col1\" >447</td>\n",
       "            </tr>\n",
       "            <tr>\n",
       "                        <th id=\"T_44089_level0_row34\" class=\"row_heading level0 row34\" >34</th>\n",
       "                        <td id=\"T_44089_row34_col0\" class=\"data row34 col0\" >получение образования</td>\n",
       "                        <td id=\"T_44089_row34_col1\" class=\"data row34 col1\" >443</td>\n",
       "            </tr>\n",
       "            <tr>\n",
       "                        <th id=\"T_44089_level0_row35\" class=\"row_heading level0 row35\" >35</th>\n",
       "                        <td id=\"T_44089_row35_col0\" class=\"data row35 col0\" >профильное образование</td>\n",
       "                        <td id=\"T_44089_row35_col1\" class=\"data row35 col1\" >436</td>\n",
       "            </tr>\n",
       "            <tr>\n",
       "                        <th id=\"T_44089_level0_row36\" class=\"row_heading level0 row36\" >36</th>\n",
       "                        <td id=\"T_44089_row36_col0\" class=\"data row36 col0\" >получение высшего образования</td>\n",
       "                        <td id=\"T_44089_row36_col1\" class=\"data row36 col1\" >426</td>\n",
       "            </tr>\n",
       "            <tr>\n",
       "                        <th id=\"T_44089_level0_row37\" class=\"row_heading level0 row37\" >37</th>\n",
       "                        <td id=\"T_44089_row37_col0\" class=\"data row37 col0\" >заняться образованием</td>\n",
       "                        <td id=\"T_44089_row37_col1\" class=\"data row37 col1\" >412</td>\n",
       "            </tr>\n",
       "    </tbody></table>"
      ],
      "text/plain": [
       "<pandas.io.formats.style.Styler at 0x7f76c3dcb100>"
      ]
     },
     "metadata": {},
     "output_type": "display_data"
    }
   ],
   "source": [
    "print('')\n",
    "\n",
    "#Цель кредита\n",
    "render('Столбец \"purpose\"')\n",
    "purpose_df = data['purpose'].value_counts().rename_axis('Цель кредита').reset_index(name='Количество')\n",
    "render(purpose_df)"
   ]
  },
  {
   "cell_type": "markdown",
   "id": "70d8094d",
   "metadata": {},
   "source": [
    "__*В этом столбце тоже все нормально, но можно заменить часть целей кредита на их эквивалент, например: `свадьба`, `на проведение свадьбы`, `сыграть свадьбу` можно объединить в цель - `проведение свадьбы`*__"
   ]
  },
  {
   "cell_type": "markdown",
   "id": "256469da",
   "metadata": {},
   "source": [
    "Теперь можно проверить и другие столбцы..."
   ]
  },
  {
   "cell_type": "code",
   "execution_count": 17,
   "id": "2eac01ed",
   "metadata": {
    "hide_input": true
   },
   "outputs": [
    {
     "name": "stdout",
     "output_type": "stream",
     "text": [
      "\n"
     ]
    },
    {
     "data": {
      "text/html": [
       "<p class=\"value\" ><code>Столбец \"gender\"</code></p>"
      ],
      "text/plain": [
       "<IPython.core.display.HTML object>"
      ]
     },
     "metadata": {},
     "output_type": "display_data"
    },
    {
     "data": {
      "text/html": [
       "<style  type=\"text/css\" >\n",
       "</style><table id=\"T_9cf6d_\" class=\"table_border position_center_header\"><thead>    <tr>        <th class=\"blank level0\" ></th>        <th class=\"col_heading level0 col0\" >Пол</th>        <th class=\"col_heading level0 col1\" >Количество</th>    </tr></thead><tbody>\n",
       "                <tr>\n",
       "                        <th id=\"T_9cf6d_level0_row0\" class=\"row_heading level0 row0\" >0</th>\n",
       "                        <td id=\"T_9cf6d_row0_col0\" class=\"data row0 col0\" >F</td>\n",
       "                        <td id=\"T_9cf6d_row0_col1\" class=\"data row0 col1\" >14236</td>\n",
       "            </tr>\n",
       "            <tr>\n",
       "                        <th id=\"T_9cf6d_level0_row1\" class=\"row_heading level0 row1\" >1</th>\n",
       "                        <td id=\"T_9cf6d_row1_col0\" class=\"data row1 col0\" >M</td>\n",
       "                        <td id=\"T_9cf6d_row1_col1\" class=\"data row1 col1\" >7288</td>\n",
       "            </tr>\n",
       "            <tr>\n",
       "                        <th id=\"T_9cf6d_level0_row2\" class=\"row_heading level0 row2\" >2</th>\n",
       "                        <td id=\"T_9cf6d_row2_col0\" class=\"data row2 col0\" >XNA</td>\n",
       "                        <td id=\"T_9cf6d_row2_col1\" class=\"data row2 col1\" >1</td>\n",
       "            </tr>\n",
       "    </tbody></table>"
      ],
      "text/plain": [
       "<pandas.io.formats.style.Styler at 0x7f76c3dcbbb0>"
      ]
     },
     "metadata": {},
     "output_type": "display_data"
    }
   ],
   "source": [
    "print('')\n",
    "\n",
    "#Пол\n",
    "render('Столбец \"gender\"')\n",
    "gender_df = data['gender'].value_counts().rename_axis('Пол').reset_index(name='Количество')\n",
    "render(gender_df)"
   ]
  },
  {
   "cell_type": "markdown",
   "id": "396b6d6d",
   "metadata": {},
   "source": [
    "__*Среди списка пола обнаружили артефакт `XNA`, скорее всего это пропуск, но так как мы не знаем пола, а по остальным данным невозможно определить, то оставим его, как есть, тем более состоит из одной строки и в целом на статистику не влияет*__"
   ]
  },
  {
   "cell_type": "code",
   "execution_count": 18,
   "id": "7e4c922e",
   "metadata": {
    "hide_input": true
   },
   "outputs": [
    {
     "name": "stdout",
     "output_type": "stream",
     "text": [
      "\n"
     ]
    },
    {
     "data": {
      "text/html": [
       "<p class=\"value\" ><code>Столбец \"dob_years\"</code></p>"
      ],
      "text/plain": [
       "<IPython.core.display.HTML object>"
      ]
     },
     "metadata": {},
     "output_type": "display_data"
    },
    {
     "data": {
      "text/html": [
       "<style  type=\"text/css\" >\n",
       "</style><table id=\"T_9d185_\" class=\"table_border position_center_header\"><thead>    <tr>        <th class=\"blank level0\" ></th>        <th class=\"col_heading level0 col0\" >Возраст</th>        <th class=\"col_heading level0 col1\" >Количество</th>    </tr></thead><tbody>\n",
       "                <tr>\n",
       "                        <th id=\"T_9d185_level0_row0\" class=\"row_heading level0 row0\" >47</th>\n",
       "                        <td id=\"T_9d185_row0_col0\" class=\"data row0 col0\" >0</td>\n",
       "                        <td id=\"T_9d185_row0_col1\" class=\"data row0 col1\" >101</td>\n",
       "            </tr>\n",
       "            <tr>\n",
       "                        <th id=\"T_9d185_level0_row1\" class=\"row_heading level0 row1\" >54</th>\n",
       "                        <td id=\"T_9d185_row1_col0\" class=\"data row1 col0\" >19</td>\n",
       "                        <td id=\"T_9d185_row1_col1\" class=\"data row1 col1\" >14</td>\n",
       "            </tr>\n",
       "            <tr>\n",
       "                        <th id=\"T_9d185_level0_row2\" class=\"row_heading level0 row2\" >52</th>\n",
       "                        <td id=\"T_9d185_row2_col0\" class=\"data row2 col0\" >20</td>\n",
       "                        <td id=\"T_9d185_row2_col1\" class=\"data row2 col1\" >51</td>\n",
       "            </tr>\n",
       "            <tr>\n",
       "                        <th id=\"T_9d185_level0_row3\" class=\"row_heading level0 row3\" >46</th>\n",
       "                        <td id=\"T_9d185_row3_col0\" class=\"data row3 col0\" >21</td>\n",
       "                        <td id=\"T_9d185_row3_col1\" class=\"data row3 col1\" >111</td>\n",
       "            </tr>\n",
       "            <tr>\n",
       "                        <th id=\"T_9d185_level0_row4\" class=\"row_heading level0 row4\" >44</th>\n",
       "                        <td id=\"T_9d185_row4_col0\" class=\"data row4 col0\" >22</td>\n",
       "                        <td id=\"T_9d185_row4_col1\" class=\"data row4 col1\" >183</td>\n",
       "            </tr>\n",
       "            <tr>\n",
       "                        <th id=\"T_9d185_level0_row5\" class=\"row_heading level0 row5\" >41</th>\n",
       "                        <td id=\"T_9d185_row5_col0\" class=\"data row5 col0\" >23</td>\n",
       "                        <td id=\"T_9d185_row5_col1\" class=\"data row5 col1\" >254</td>\n",
       "            </tr>\n",
       "            <tr>\n",
       "                        <th id=\"T_9d185_level0_row6\" class=\"row_heading level0 row6\" >40</th>\n",
       "                        <td id=\"T_9d185_row6_col0\" class=\"data row6 col0\" >24</td>\n",
       "                        <td id=\"T_9d185_row6_col1\" class=\"data row6 col1\" >264</td>\n",
       "            </tr>\n",
       "            <tr>\n",
       "                        <th id=\"T_9d185_level0_row7\" class=\"row_heading level0 row7\" >35</th>\n",
       "                        <td id=\"T_9d185_row7_col0\" class=\"data row7 col0\" >25</td>\n",
       "                        <td id=\"T_9d185_row7_col1\" class=\"data row7 col1\" >357</td>\n",
       "            </tr>\n",
       "            <tr>\n",
       "                        <th id=\"T_9d185_level0_row8\" class=\"row_heading level0 row8\" >33</th>\n",
       "                        <td id=\"T_9d185_row8_col0\" class=\"data row8 col0\" >26</td>\n",
       "                        <td id=\"T_9d185_row8_col1\" class=\"data row8 col1\" >408</td>\n",
       "            </tr>\n",
       "            <tr>\n",
       "                        <th id=\"T_9d185_level0_row9\" class=\"row_heading level0 row9\" >21</th>\n",
       "                        <td id=\"T_9d185_row9_col0\" class=\"data row9 col0\" >27</td>\n",
       "                        <td id=\"T_9d185_row9_col1\" class=\"data row9 col1\" >493</td>\n",
       "            </tr>\n",
       "            <tr>\n",
       "                        <th id=\"T_9d185_level0_row10\" class=\"row_heading level0 row10\" >19</th>\n",
       "                        <td id=\"T_9d185_row10_col0\" class=\"data row10 col0\" >28</td>\n",
       "                        <td id=\"T_9d185_row10_col1\" class=\"data row10 col1\" >503</td>\n",
       "            </tr>\n",
       "            <tr>\n",
       "                        <th id=\"T_9d185_level0_row11\" class=\"row_heading level0 row11\" >11</th>\n",
       "                        <td id=\"T_9d185_row11_col0\" class=\"data row11 col0\" >29</td>\n",
       "                        <td id=\"T_9d185_row11_col1\" class=\"data row11 col1\" >545</td>\n",
       "            </tr>\n",
       "            <tr>\n",
       "                        <th id=\"T_9d185_level0_row12\" class=\"row_heading level0 row12\" >12</th>\n",
       "                        <td id=\"T_9d185_row12_col0\" class=\"data row12 col0\" >30</td>\n",
       "                        <td id=\"T_9d185_row12_col1\" class=\"data row12 col1\" >540</td>\n",
       "            </tr>\n",
       "            <tr>\n",
       "                        <th id=\"T_9d185_level0_row13\" class=\"row_heading level0 row13\" >8</th>\n",
       "                        <td id=\"T_9d185_row13_col0\" class=\"data row13 col0\" >31</td>\n",
       "                        <td id=\"T_9d185_row13_col1\" class=\"data row13 col1\" >560</td>\n",
       "            </tr>\n",
       "            <tr>\n",
       "                        <th id=\"T_9d185_level0_row14\" class=\"row_heading level0 row14\" >17</th>\n",
       "                        <td id=\"T_9d185_row14_col0\" class=\"data row14 col0\" >32</td>\n",
       "                        <td id=\"T_9d185_row14_col1\" class=\"data row14 col1\" >510</td>\n",
       "            </tr>\n",
       "            <tr>\n",
       "                        <th id=\"T_9d185_level0_row15\" class=\"row_heading level0 row15\" >6</th>\n",
       "                        <td id=\"T_9d185_row15_col0\" class=\"data row15 col0\" >33</td>\n",
       "                        <td id=\"T_9d185_row15_col1\" class=\"data row15 col1\" >581</td>\n",
       "            </tr>\n",
       "            <tr>\n",
       "                        <th id=\"T_9d185_level0_row16\" class=\"row_heading level0 row16\" >3</th>\n",
       "                        <td id=\"T_9d185_row16_col0\" class=\"data row16 col0\" >34</td>\n",
       "                        <td id=\"T_9d185_row16_col1\" class=\"data row16 col1\" >603</td>\n",
       "            </tr>\n",
       "            <tr>\n",
       "                        <th id=\"T_9d185_level0_row17\" class=\"row_heading level0 row17\" >0</th>\n",
       "                        <td id=\"T_9d185_row17_col0\" class=\"data row17 col0\" >35</td>\n",
       "                        <td id=\"T_9d185_row17_col1\" class=\"data row17 col1\" >617</td>\n",
       "            </tr>\n",
       "            <tr>\n",
       "                        <th id=\"T_9d185_level0_row18\" class=\"row_heading level0 row18\" >9</th>\n",
       "                        <td id=\"T_9d185_row18_col0\" class=\"data row18 col0\" >36</td>\n",
       "                        <td id=\"T_9d185_row18_col1\" class=\"data row18 col1\" >555</td>\n",
       "            </tr>\n",
       "            <tr>\n",
       "                        <th id=\"T_9d185_level0_row19\" class=\"row_heading level0 row19\" >14</th>\n",
       "                        <td id=\"T_9d185_row19_col0\" class=\"data row19 col0\" >37</td>\n",
       "                        <td id=\"T_9d185_row19_col1\" class=\"data row19 col1\" >537</td>\n",
       "            </tr>\n",
       "            <tr>\n",
       "                        <th id=\"T_9d185_level0_row20\" class=\"row_heading level0 row20\" >4</th>\n",
       "                        <td id=\"T_9d185_row20_col0\" class=\"data row20 col0\" >38</td>\n",
       "                        <td id=\"T_9d185_row20_col1\" class=\"data row20 col1\" >598</td>\n",
       "            </tr>\n",
       "            <tr>\n",
       "                        <th id=\"T_9d185_level0_row21\" class=\"row_heading level0 row21\" >7</th>\n",
       "                        <td id=\"T_9d185_row21_col0\" class=\"data row21 col0\" >39</td>\n",
       "                        <td id=\"T_9d185_row21_col1\" class=\"data row21 col1\" >573</td>\n",
       "            </tr>\n",
       "            <tr>\n",
       "                        <th id=\"T_9d185_level0_row22\" class=\"row_heading level0 row22\" >1</th>\n",
       "                        <td id=\"T_9d185_row22_col0\" class=\"data row22 col0\" >40</td>\n",
       "                        <td id=\"T_9d185_row22_col1\" class=\"data row22 col1\" >609</td>\n",
       "            </tr>\n",
       "            <tr>\n",
       "                        <th id=\"T_9d185_level0_row23\" class=\"row_heading level0 row23\" >2</th>\n",
       "                        <td id=\"T_9d185_row23_col0\" class=\"data row23 col0\" >41</td>\n",
       "                        <td id=\"T_9d185_row23_col1\" class=\"data row23 col1\" >607</td>\n",
       "            </tr>\n",
       "            <tr>\n",
       "                        <th id=\"T_9d185_level0_row24\" class=\"row_heading level0 row24\" >5</th>\n",
       "                        <td id=\"T_9d185_row24_col0\" class=\"data row24 col0\" >42</td>\n",
       "                        <td id=\"T_9d185_row24_col1\" class=\"data row24 col1\" >597</td>\n",
       "            </tr>\n",
       "            <tr>\n",
       "                        <th id=\"T_9d185_level0_row25\" class=\"row_heading level0 row25\" >16</th>\n",
       "                        <td id=\"T_9d185_row25_col0\" class=\"data row25 col0\" >43</td>\n",
       "                        <td id=\"T_9d185_row25_col1\" class=\"data row25 col1\" >513</td>\n",
       "            </tr>\n",
       "            <tr>\n",
       "                        <th id=\"T_9d185_level0_row26\" class=\"row_heading level0 row26\" >10</th>\n",
       "                        <td id=\"T_9d185_row26_col0\" class=\"data row26 col0\" >44</td>\n",
       "                        <td id=\"T_9d185_row26_col1\" class=\"data row26 col1\" >547</td>\n",
       "            </tr>\n",
       "            <tr>\n",
       "                        <th id=\"T_9d185_level0_row27\" class=\"row_heading level0 row27\" >20</th>\n",
       "                        <td id=\"T_9d185_row27_col0\" class=\"data row27 col0\" >45</td>\n",
       "                        <td id=\"T_9d185_row27_col1\" class=\"data row27 col1\" >497</td>\n",
       "            </tr>\n",
       "            <tr>\n",
       "                        <th id=\"T_9d185_level0_row28\" class=\"row_heading level0 row28\" >26</th>\n",
       "                        <td id=\"T_9d185_row28_col0\" class=\"data row28 col0\" >46</td>\n",
       "                        <td id=\"T_9d185_row28_col1\" class=\"data row28 col1\" >475</td>\n",
       "            </tr>\n",
       "            <tr>\n",
       "                        <th id=\"T_9d185_level0_row29\" class=\"row_heading level0 row29\" >24</th>\n",
       "                        <td id=\"T_9d185_row29_col0\" class=\"data row29 col0\" >47</td>\n",
       "                        <td id=\"T_9d185_row29_col1\" class=\"data row29 col1\" >480</td>\n",
       "            </tr>\n",
       "            <tr>\n",
       "                        <th id=\"T_9d185_level0_row30\" class=\"row_heading level0 row30\" >13</th>\n",
       "                        <td id=\"T_9d185_row30_col0\" class=\"data row30 col0\" >48</td>\n",
       "                        <td id=\"T_9d185_row30_col1\" class=\"data row30 col1\" >538</td>\n",
       "            </tr>\n",
       "            <tr>\n",
       "                        <th id=\"T_9d185_level0_row31\" class=\"row_heading level0 row31\" >18</th>\n",
       "                        <td id=\"T_9d185_row31_col0\" class=\"data row31 col0\" >49</td>\n",
       "                        <td id=\"T_9d185_row31_col1\" class=\"data row31 col1\" >508</td>\n",
       "            </tr>\n",
       "            <tr>\n",
       "                        <th id=\"T_9d185_level0_row32\" class=\"row_heading level0 row32\" >15</th>\n",
       "                        <td id=\"T_9d185_row32_col0\" class=\"data row32 col0\" >50</td>\n",
       "                        <td id=\"T_9d185_row32_col1\" class=\"data row32 col1\" >514</td>\n",
       "            </tr>\n",
       "            <tr>\n",
       "                        <th id=\"T_9d185_level0_row33\" class=\"row_heading level0 row33\" >30</th>\n",
       "                        <td id=\"T_9d185_row33_col0\" class=\"data row33 col0\" >51</td>\n",
       "                        <td id=\"T_9d185_row33_col1\" class=\"data row33 col1\" >448</td>\n",
       "            </tr>\n",
       "            <tr>\n",
       "                        <th id=\"T_9d185_level0_row34\" class=\"row_heading level0 row34\" >23</th>\n",
       "                        <td id=\"T_9d185_row34_col0\" class=\"data row34 col0\" >52</td>\n",
       "                        <td id=\"T_9d185_row34_col1\" class=\"data row34 col1\" >484</td>\n",
       "            </tr>\n",
       "            <tr>\n",
       "                        <th id=\"T_9d185_level0_row35\" class=\"row_heading level0 row35\" >29</th>\n",
       "                        <td id=\"T_9d185_row35_col0\" class=\"data row35 col0\" >53</td>\n",
       "                        <td id=\"T_9d185_row35_col1\" class=\"data row35 col1\" >459</td>\n",
       "            </tr>\n",
       "            <tr>\n",
       "                        <th id=\"T_9d185_level0_row36\" class=\"row_heading level0 row36\" >25</th>\n",
       "                        <td id=\"T_9d185_row36_col0\" class=\"data row36 col0\" >54</td>\n",
       "                        <td id=\"T_9d185_row36_col1\" class=\"data row36 col1\" >479</td>\n",
       "            </tr>\n",
       "            <tr>\n",
       "                        <th id=\"T_9d185_level0_row37\" class=\"row_heading level0 row37\" >32</th>\n",
       "                        <td id=\"T_9d185_row37_col0\" class=\"data row37 col0\" >55</td>\n",
       "                        <td id=\"T_9d185_row37_col1\" class=\"data row37 col1\" >443</td>\n",
       "            </tr>\n",
       "            <tr>\n",
       "                        <th id=\"T_9d185_level0_row38\" class=\"row_heading level0 row38\" >22</th>\n",
       "                        <td id=\"T_9d185_row38_col0\" class=\"data row38 col0\" >56</td>\n",
       "                        <td id=\"T_9d185_row38_col1\" class=\"data row38 col1\" >487</td>\n",
       "            </tr>\n",
       "            <tr>\n",
       "                        <th id=\"T_9d185_level0_row39\" class=\"row_heading level0 row39\" >28</th>\n",
       "                        <td id=\"T_9d185_row39_col0\" class=\"data row39 col0\" >57</td>\n",
       "                        <td id=\"T_9d185_row39_col1\" class=\"data row39 col1\" >460</td>\n",
       "            </tr>\n",
       "            <tr>\n",
       "                        <th id=\"T_9d185_level0_row40\" class=\"row_heading level0 row40\" >27</th>\n",
       "                        <td id=\"T_9d185_row40_col0\" class=\"data row40 col0\" >58</td>\n",
       "                        <td id=\"T_9d185_row40_col1\" class=\"data row40 col1\" >461</td>\n",
       "            </tr>\n",
       "            <tr>\n",
       "                        <th id=\"T_9d185_level0_row41\" class=\"row_heading level0 row41\" >31</th>\n",
       "                        <td id=\"T_9d185_row41_col0\" class=\"data row41 col0\" >59</td>\n",
       "                        <td id=\"T_9d185_row41_col1\" class=\"data row41 col1\" >444</td>\n",
       "            </tr>\n",
       "            <tr>\n",
       "                        <th id=\"T_9d185_level0_row42\" class=\"row_heading level0 row42\" >34</th>\n",
       "                        <td id=\"T_9d185_row42_col0\" class=\"data row42 col0\" >60</td>\n",
       "                        <td id=\"T_9d185_row42_col1\" class=\"data row42 col1\" >377</td>\n",
       "            </tr>\n",
       "            <tr>\n",
       "                        <th id=\"T_9d185_level0_row43\" class=\"row_heading level0 row43\" >36</th>\n",
       "                        <td id=\"T_9d185_row43_col0\" class=\"data row43 col0\" >61</td>\n",
       "                        <td id=\"T_9d185_row43_col1\" class=\"data row43 col1\" >355</td>\n",
       "            </tr>\n",
       "            <tr>\n",
       "                        <th id=\"T_9d185_level0_row44\" class=\"row_heading level0 row44\" >37</th>\n",
       "                        <td id=\"T_9d185_row44_col0\" class=\"data row44 col0\" >62</td>\n",
       "                        <td id=\"T_9d185_row44_col1\" class=\"data row44 col1\" >352</td>\n",
       "            </tr>\n",
       "            <tr>\n",
       "                        <th id=\"T_9d185_level0_row45\" class=\"row_heading level0 row45\" >38</th>\n",
       "                        <td id=\"T_9d185_row45_col0\" class=\"data row45 col0\" >63</td>\n",
       "                        <td id=\"T_9d185_row45_col1\" class=\"data row45 col1\" >269</td>\n",
       "            </tr>\n",
       "            <tr>\n",
       "                        <th id=\"T_9d185_level0_row46\" class=\"row_heading level0 row46\" >39</th>\n",
       "                        <td id=\"T_9d185_row46_col0\" class=\"data row46 col0\" >64</td>\n",
       "                        <td id=\"T_9d185_row46_col1\" class=\"data row46 col1\" >265</td>\n",
       "            </tr>\n",
       "            <tr>\n",
       "                        <th id=\"T_9d185_level0_row47\" class=\"row_heading level0 row47\" >42</th>\n",
       "                        <td id=\"T_9d185_row47_col0\" class=\"data row47 col0\" >65</td>\n",
       "                        <td id=\"T_9d185_row47_col1\" class=\"data row47 col1\" >194</td>\n",
       "            </tr>\n",
       "            <tr>\n",
       "                        <th id=\"T_9d185_level0_row48\" class=\"row_heading level0 row48\" >43</th>\n",
       "                        <td id=\"T_9d185_row48_col0\" class=\"data row48 col0\" >66</td>\n",
       "                        <td id=\"T_9d185_row48_col1\" class=\"data row48 col1\" >183</td>\n",
       "            </tr>\n",
       "            <tr>\n",
       "                        <th id=\"T_9d185_level0_row49\" class=\"row_heading level0 row49\" >45</th>\n",
       "                        <td id=\"T_9d185_row49_col0\" class=\"data row49 col0\" >67</td>\n",
       "                        <td id=\"T_9d185_row49_col1\" class=\"data row49 col1\" >167</td>\n",
       "            </tr>\n",
       "            <tr>\n",
       "                        <th id=\"T_9d185_level0_row50\" class=\"row_heading level0 row50\" >48</th>\n",
       "                        <td id=\"T_9d185_row50_col0\" class=\"data row50 col0\" >68</td>\n",
       "                        <td id=\"T_9d185_row50_col1\" class=\"data row50 col1\" >99</td>\n",
       "            </tr>\n",
       "            <tr>\n",
       "                        <th id=\"T_9d185_level0_row51\" class=\"row_heading level0 row51\" >49</th>\n",
       "                        <td id=\"T_9d185_row51_col0\" class=\"data row51 col0\" >69</td>\n",
       "                        <td id=\"T_9d185_row51_col1\" class=\"data row51 col1\" >85</td>\n",
       "            </tr>\n",
       "            <tr>\n",
       "                        <th id=\"T_9d185_level0_row52\" class=\"row_heading level0 row52\" >50</th>\n",
       "                        <td id=\"T_9d185_row52_col0\" class=\"data row52 col0\" >70</td>\n",
       "                        <td id=\"T_9d185_row52_col1\" class=\"data row52 col1\" >65</td>\n",
       "            </tr>\n",
       "            <tr>\n",
       "                        <th id=\"T_9d185_level0_row53\" class=\"row_heading level0 row53\" >51</th>\n",
       "                        <td id=\"T_9d185_row53_col0\" class=\"data row53 col0\" >71</td>\n",
       "                        <td id=\"T_9d185_row53_col1\" class=\"data row53 col1\" >58</td>\n",
       "            </tr>\n",
       "            <tr>\n",
       "                        <th id=\"T_9d185_level0_row54\" class=\"row_heading level0 row54\" >53</th>\n",
       "                        <td id=\"T_9d185_row54_col0\" class=\"data row54 col0\" >72</td>\n",
       "                        <td id=\"T_9d185_row54_col1\" class=\"data row54 col1\" >33</td>\n",
       "            </tr>\n",
       "            <tr>\n",
       "                        <th id=\"T_9d185_level0_row55\" class=\"row_heading level0 row55\" >55</th>\n",
       "                        <td id=\"T_9d185_row55_col0\" class=\"data row55 col0\" >73</td>\n",
       "                        <td id=\"T_9d185_row55_col1\" class=\"data row55 col1\" >8</td>\n",
       "            </tr>\n",
       "            <tr>\n",
       "                        <th id=\"T_9d185_level0_row56\" class=\"row_heading level0 row56\" >56</th>\n",
       "                        <td id=\"T_9d185_row56_col0\" class=\"data row56 col0\" >74</td>\n",
       "                        <td id=\"T_9d185_row56_col1\" class=\"data row56 col1\" >6</td>\n",
       "            </tr>\n",
       "            <tr>\n",
       "                        <th id=\"T_9d185_level0_row57\" class=\"row_heading level0 row57\" >57</th>\n",
       "                        <td id=\"T_9d185_row57_col0\" class=\"data row57 col0\" >75</td>\n",
       "                        <td id=\"T_9d185_row57_col1\" class=\"data row57 col1\" >1</td>\n",
       "            </tr>\n",
       "    </tbody></table>"
      ],
      "text/plain": [
       "<pandas.io.formats.style.Styler at 0x7f76c3e418e0>"
      ]
     },
     "metadata": {},
     "output_type": "display_data"
    }
   ],
   "source": [
    "print('')\n",
    "\n",
    "#Пол\n",
    "render('Столбец \"dob_years\"')\n",
    "dob_years_df = data['dob_years'].value_counts().rename_axis('Возраст').reset_index(name='Количество')\n",
    "render(dob_years_df.sort_values('Возраст',ascending=True))"
   ]
  },
  {
   "cell_type": "markdown",
   "id": "bd4083fa",
   "metadata": {},
   "source": [
    "__*Из среза видим, что есть <u>101 запись у еще не родившихся людей</u>. Скорее всего это ошибка*__"
   ]
  },
  {
   "cell_type": "markdown",
   "id": "83264577",
   "metadata": {},
   "source": [
    "Проверим количество детей"
   ]
  },
  {
   "cell_type": "code",
   "execution_count": 19,
   "id": "5a8d9ae3",
   "metadata": {
    "hide_input": true
   },
   "outputs": [
    {
     "name": "stdout",
     "output_type": "stream",
     "text": [
      "\n"
     ]
    },
    {
     "data": {
      "text/html": [
       "<p class=\"value\" ><code>Столбец \"children\"</code></p>"
      ],
      "text/plain": [
       "<IPython.core.display.HTML object>"
      ]
     },
     "metadata": {},
     "output_type": "display_data"
    },
    {
     "data": {
      "text/html": [
       "<style  type=\"text/css\" >\n",
       "</style><table id=\"T_009e8_\" class=\"table_border position_center_header\"><thead>    <tr>        <th class=\"blank level0\" ></th>        <th class=\"col_heading level0 col0\" >Количество детей</th>        <th class=\"col_heading level0 col1\" >Количество</th>    </tr></thead><tbody>\n",
       "                <tr>\n",
       "                        <th id=\"T_009e8_level0_row0\" class=\"row_heading level0 row0\" >5</th>\n",
       "                        <td id=\"T_009e8_row0_col0\" class=\"data row0 col0\" >-1</td>\n",
       "                        <td id=\"T_009e8_row0_col1\" class=\"data row0 col1\" >47</td>\n",
       "            </tr>\n",
       "            <tr>\n",
       "                        <th id=\"T_009e8_level0_row1\" class=\"row_heading level0 row1\" >0</th>\n",
       "                        <td id=\"T_009e8_row1_col0\" class=\"data row1 col0\" >0</td>\n",
       "                        <td id=\"T_009e8_row1_col1\" class=\"data row1 col1\" >14149</td>\n",
       "            </tr>\n",
       "            <tr>\n",
       "                        <th id=\"T_009e8_level0_row2\" class=\"row_heading level0 row2\" >1</th>\n",
       "                        <td id=\"T_009e8_row2_col0\" class=\"data row2 col0\" >1</td>\n",
       "                        <td id=\"T_009e8_row2_col1\" class=\"data row2 col1\" >4818</td>\n",
       "            </tr>\n",
       "            <tr>\n",
       "                        <th id=\"T_009e8_level0_row3\" class=\"row_heading level0 row3\" >2</th>\n",
       "                        <td id=\"T_009e8_row3_col0\" class=\"data row3 col0\" >2</td>\n",
       "                        <td id=\"T_009e8_row3_col1\" class=\"data row3 col1\" >2055</td>\n",
       "            </tr>\n",
       "            <tr>\n",
       "                        <th id=\"T_009e8_level0_row4\" class=\"row_heading level0 row4\" >3</th>\n",
       "                        <td id=\"T_009e8_row4_col0\" class=\"data row4 col0\" >3</td>\n",
       "                        <td id=\"T_009e8_row4_col1\" class=\"data row4 col1\" >330</td>\n",
       "            </tr>\n",
       "            <tr>\n",
       "                        <th id=\"T_009e8_level0_row5\" class=\"row_heading level0 row5\" >6</th>\n",
       "                        <td id=\"T_009e8_row5_col0\" class=\"data row5 col0\" >4</td>\n",
       "                        <td id=\"T_009e8_row5_col1\" class=\"data row5 col1\" >41</td>\n",
       "            </tr>\n",
       "            <tr>\n",
       "                        <th id=\"T_009e8_level0_row6\" class=\"row_heading level0 row6\" >7</th>\n",
       "                        <td id=\"T_009e8_row6_col0\" class=\"data row6 col0\" >5</td>\n",
       "                        <td id=\"T_009e8_row6_col1\" class=\"data row6 col1\" >9</td>\n",
       "            </tr>\n",
       "            <tr>\n",
       "                        <th id=\"T_009e8_level0_row7\" class=\"row_heading level0 row7\" >4</th>\n",
       "                        <td id=\"T_009e8_row7_col0\" class=\"data row7 col0\" >20</td>\n",
       "                        <td id=\"T_009e8_row7_col1\" class=\"data row7 col1\" >76</td>\n",
       "            </tr>\n",
       "    </tbody></table>"
      ],
      "text/plain": [
       "<pandas.io.formats.style.Styler at 0x7f76c3e370a0>"
      ]
     },
     "metadata": {},
     "output_type": "display_data"
    }
   ],
   "source": [
    "print('')\n",
    "\n",
    "#Пол\n",
    "render('Столбец \"children\"')\n",
    "children_df = data['children'].value_counts().rename_axis('Количество детей').reset_index(name='Количество')\n",
    "render(children_df.sort_values('Количество детей',ascending=True))"
   ]
  },
  {
   "cell_type": "markdown",
   "id": "be8c16bc",
   "metadata": {},
   "source": [
    "__*Ого, у нас есть `-1 ребенок` и более `75 семей с количеством 20 детей`. Не объяснимо, но факт!*__"
   ]
  },
  {
   "cell_type": "code",
   "execution_count": 20,
   "id": "c7e30611",
   "metadata": {
    "hide_input": true
   },
   "outputs": [
    {
     "name": "stdout",
     "output_type": "stream",
     "text": [
      "\n"
     ]
    },
    {
     "data": {
      "text/html": [
       "<p class=\"value\" ><code>Столбец \"debt\"</code></p>"
      ],
      "text/plain": [
       "<IPython.core.display.HTML object>"
      ]
     },
     "metadata": {},
     "output_type": "display_data"
    },
    {
     "data": {
      "text/html": [
       "<style  type=\"text/css\" >\n",
       "</style><table id=\"T_5b23a_\" class=\"table_border position_center_header\"><thead>    <tr>        <th class=\"blank level0\" ></th>        <th class=\"col_heading level0 col0\" >Задолженность</th>        <th class=\"col_heading level0 col1\" >Количество</th>    </tr></thead><tbody>\n",
       "                <tr>\n",
       "                        <th id=\"T_5b23a_level0_row0\" class=\"row_heading level0 row0\" >0</th>\n",
       "                        <td id=\"T_5b23a_row0_col0\" class=\"data row0 col0\" >0</td>\n",
       "                        <td id=\"T_5b23a_row0_col1\" class=\"data row0 col1\" >19784</td>\n",
       "            </tr>\n",
       "            <tr>\n",
       "                        <th id=\"T_5b23a_level0_row1\" class=\"row_heading level0 row1\" >1</th>\n",
       "                        <td id=\"T_5b23a_row1_col0\" class=\"data row1 col0\" >1</td>\n",
       "                        <td id=\"T_5b23a_row1_col1\" class=\"data row1 col1\" >1741</td>\n",
       "            </tr>\n",
       "    </tbody></table>"
      ],
      "text/plain": [
       "<pandas.io.formats.style.Styler at 0x7f76c3dcbdf0>"
      ]
     },
     "metadata": {},
     "output_type": "display_data"
    }
   ],
   "source": [
    "print('')\n",
    "\n",
    "#Пол\n",
    "render('Столбец \"debt\"')\n",
    "debt_df = data['debt'].value_counts().rename_axis('Задолженность').reset_index(name='Количество')\n",
    "render(debt_df.sort_values('Задолженность',ascending=True))"
   ]
  },
  {
   "cell_type": "markdown",
   "id": "d0427d37",
   "metadata": {},
   "source": [
    "### Шаг 2.3. Изменение типов данных."
   ]
  },
  {
   "cell_type": "markdown",
   "id": "87dcca0d",
   "metadata": {},
   "source": [
    "*__Мы избавились от пропусков, заполнили медианым значением, осталось перевести столбец `days_employed` и `total_income` к целым числам__*"
   ]
  },
  {
   "cell_type": "code",
   "execution_count": 21,
   "id": "d481c01b",
   "metadata": {
    "hide_input": true
   },
   "outputs": [
    {
     "data": {
      "text/html": [
       "<style  type=\"text/css\" >\n",
       "</style><table id=\"T_9d2b4_\" class=\"table_border position_center_header\"><thead>    <tr>        <th class=\"blank level0\" ></th>        <th class=\"col_heading level0 col0\" >children</th>        <th class=\"col_heading level0 col1\" >days_employed</th>        <th class=\"col_heading level0 col2\" >dob_years</th>        <th class=\"col_heading level0 col3\" >education</th>        <th class=\"col_heading level0 col4\" >education_id</th>        <th class=\"col_heading level0 col5\" >family_status</th>        <th class=\"col_heading level0 col6\" >family_status_id</th>        <th class=\"col_heading level0 col7\" >gender</th>        <th class=\"col_heading level0 col8\" >income_type</th>        <th class=\"col_heading level0 col9\" >debt</th>        <th class=\"col_heading level0 col10\" >total_income</th>        <th class=\"col_heading level0 col11\" >purpose</th>    </tr></thead><tbody>\n",
       "                <tr>\n",
       "                        <th id=\"T_9d2b4_level0_row0\" class=\"row_heading level0 row0\" >0</th>\n",
       "                        <td id=\"T_9d2b4_row0_col0\" class=\"data row0 col0\" >1</td>\n",
       "                        <td id=\"T_9d2b4_row0_col1\" class=\"data row0 col1\" >8437</td>\n",
       "                        <td id=\"T_9d2b4_row0_col2\" class=\"data row0 col2\" >42</td>\n",
       "                        <td id=\"T_9d2b4_row0_col3\" class=\"data row0 col3\" >высшее</td>\n",
       "                        <td id=\"T_9d2b4_row0_col4\" class=\"data row0 col4\" >0</td>\n",
       "                        <td id=\"T_9d2b4_row0_col5\" class=\"data row0 col5\" >женат / замужем</td>\n",
       "                        <td id=\"T_9d2b4_row0_col6\" class=\"data row0 col6\" >0</td>\n",
       "                        <td id=\"T_9d2b4_row0_col7\" class=\"data row0 col7\" >F</td>\n",
       "                        <td id=\"T_9d2b4_row0_col8\" class=\"data row0 col8\" >сотрудник</td>\n",
       "                        <td id=\"T_9d2b4_row0_col9\" class=\"data row0 col9\" >0</td>\n",
       "                        <td id=\"T_9d2b4_row0_col10\" class=\"data row0 col10\" >253875</td>\n",
       "                        <td id=\"T_9d2b4_row0_col11\" class=\"data row0 col11\" >покупка жилья</td>\n",
       "            </tr>\n",
       "            <tr>\n",
       "                        <th id=\"T_9d2b4_level0_row1\" class=\"row_heading level0 row1\" >1</th>\n",
       "                        <td id=\"T_9d2b4_row1_col0\" class=\"data row1 col0\" >1</td>\n",
       "                        <td id=\"T_9d2b4_row1_col1\" class=\"data row1 col1\" >4024</td>\n",
       "                        <td id=\"T_9d2b4_row1_col2\" class=\"data row1 col2\" >36</td>\n",
       "                        <td id=\"T_9d2b4_row1_col3\" class=\"data row1 col3\" >среднее</td>\n",
       "                        <td id=\"T_9d2b4_row1_col4\" class=\"data row1 col4\" >1</td>\n",
       "                        <td id=\"T_9d2b4_row1_col5\" class=\"data row1 col5\" >женат / замужем</td>\n",
       "                        <td id=\"T_9d2b4_row1_col6\" class=\"data row1 col6\" >0</td>\n",
       "                        <td id=\"T_9d2b4_row1_col7\" class=\"data row1 col7\" >F</td>\n",
       "                        <td id=\"T_9d2b4_row1_col8\" class=\"data row1 col8\" >сотрудник</td>\n",
       "                        <td id=\"T_9d2b4_row1_col9\" class=\"data row1 col9\" >0</td>\n",
       "                        <td id=\"T_9d2b4_row1_col10\" class=\"data row1 col10\" >112080</td>\n",
       "                        <td id=\"T_9d2b4_row1_col11\" class=\"data row1 col11\" >приобретение автомобиля</td>\n",
       "            </tr>\n",
       "            <tr>\n",
       "                        <th id=\"T_9d2b4_level0_row2\" class=\"row_heading level0 row2\" >2</th>\n",
       "                        <td id=\"T_9d2b4_row2_col0\" class=\"data row2 col0\" >0</td>\n",
       "                        <td id=\"T_9d2b4_row2_col1\" class=\"data row2 col1\" >5623</td>\n",
       "                        <td id=\"T_9d2b4_row2_col2\" class=\"data row2 col2\" >33</td>\n",
       "                        <td id=\"T_9d2b4_row2_col3\" class=\"data row2 col3\" >Среднее</td>\n",
       "                        <td id=\"T_9d2b4_row2_col4\" class=\"data row2 col4\" >1</td>\n",
       "                        <td id=\"T_9d2b4_row2_col5\" class=\"data row2 col5\" >женат / замужем</td>\n",
       "                        <td id=\"T_9d2b4_row2_col6\" class=\"data row2 col6\" >0</td>\n",
       "                        <td id=\"T_9d2b4_row2_col7\" class=\"data row2 col7\" >M</td>\n",
       "                        <td id=\"T_9d2b4_row2_col8\" class=\"data row2 col8\" >сотрудник</td>\n",
       "                        <td id=\"T_9d2b4_row2_col9\" class=\"data row2 col9\" >0</td>\n",
       "                        <td id=\"T_9d2b4_row2_col10\" class=\"data row2 col10\" >145885</td>\n",
       "                        <td id=\"T_9d2b4_row2_col11\" class=\"data row2 col11\" >покупка жилья</td>\n",
       "            </tr>\n",
       "            <tr>\n",
       "                        <th id=\"T_9d2b4_level0_row3\" class=\"row_heading level0 row3\" >3</th>\n",
       "                        <td id=\"T_9d2b4_row3_col0\" class=\"data row3 col0\" >3</td>\n",
       "                        <td id=\"T_9d2b4_row3_col1\" class=\"data row3 col1\" >4124</td>\n",
       "                        <td id=\"T_9d2b4_row3_col2\" class=\"data row3 col2\" >32</td>\n",
       "                        <td id=\"T_9d2b4_row3_col3\" class=\"data row3 col3\" >среднее</td>\n",
       "                        <td id=\"T_9d2b4_row3_col4\" class=\"data row3 col4\" >1</td>\n",
       "                        <td id=\"T_9d2b4_row3_col5\" class=\"data row3 col5\" >женат / замужем</td>\n",
       "                        <td id=\"T_9d2b4_row3_col6\" class=\"data row3 col6\" >0</td>\n",
       "                        <td id=\"T_9d2b4_row3_col7\" class=\"data row3 col7\" >M</td>\n",
       "                        <td id=\"T_9d2b4_row3_col8\" class=\"data row3 col8\" >сотрудник</td>\n",
       "                        <td id=\"T_9d2b4_row3_col9\" class=\"data row3 col9\" >0</td>\n",
       "                        <td id=\"T_9d2b4_row3_col10\" class=\"data row3 col10\" >267628</td>\n",
       "                        <td id=\"T_9d2b4_row3_col11\" class=\"data row3 col11\" >дополнительное образование</td>\n",
       "            </tr>\n",
       "            <tr>\n",
       "                        <th id=\"T_9d2b4_level0_row4\" class=\"row_heading level0 row4\" >4</th>\n",
       "                        <td id=\"T_9d2b4_row4_col0\" class=\"data row4 col0\" >0</td>\n",
       "                        <td id=\"T_9d2b4_row4_col1\" class=\"data row4 col1\" >340266</td>\n",
       "                        <td id=\"T_9d2b4_row4_col2\" class=\"data row4 col2\" >53</td>\n",
       "                        <td id=\"T_9d2b4_row4_col3\" class=\"data row4 col3\" >среднее</td>\n",
       "                        <td id=\"T_9d2b4_row4_col4\" class=\"data row4 col4\" >1</td>\n",
       "                        <td id=\"T_9d2b4_row4_col5\" class=\"data row4 col5\" >гражданский брак</td>\n",
       "                        <td id=\"T_9d2b4_row4_col6\" class=\"data row4 col6\" >1</td>\n",
       "                        <td id=\"T_9d2b4_row4_col7\" class=\"data row4 col7\" >F</td>\n",
       "                        <td id=\"T_9d2b4_row4_col8\" class=\"data row4 col8\" >пенсионер</td>\n",
       "                        <td id=\"T_9d2b4_row4_col9\" class=\"data row4 col9\" >0</td>\n",
       "                        <td id=\"T_9d2b4_row4_col10\" class=\"data row4 col10\" >158616</td>\n",
       "                        <td id=\"T_9d2b4_row4_col11\" class=\"data row4 col11\" >сыграть свадьбу</td>\n",
       "            </tr>\n",
       "            <tr>\n",
       "                        <th id=\"T_9d2b4_level0_row5\" class=\"row_heading level0 row5\" >5</th>\n",
       "                        <td id=\"T_9d2b4_row5_col0\" class=\"data row5 col0\" >0</td>\n",
       "                        <td id=\"T_9d2b4_row5_col1\" class=\"data row5 col1\" >926</td>\n",
       "                        <td id=\"T_9d2b4_row5_col2\" class=\"data row5 col2\" >27</td>\n",
       "                        <td id=\"T_9d2b4_row5_col3\" class=\"data row5 col3\" >высшее</td>\n",
       "                        <td id=\"T_9d2b4_row5_col4\" class=\"data row5 col4\" >0</td>\n",
       "                        <td id=\"T_9d2b4_row5_col5\" class=\"data row5 col5\" >гражданский брак</td>\n",
       "                        <td id=\"T_9d2b4_row5_col6\" class=\"data row5 col6\" >1</td>\n",
       "                        <td id=\"T_9d2b4_row5_col7\" class=\"data row5 col7\" >M</td>\n",
       "                        <td id=\"T_9d2b4_row5_col8\" class=\"data row5 col8\" >компаньон</td>\n",
       "                        <td id=\"T_9d2b4_row5_col9\" class=\"data row5 col9\" >0</td>\n",
       "                        <td id=\"T_9d2b4_row5_col10\" class=\"data row5 col10\" >255763</td>\n",
       "                        <td id=\"T_9d2b4_row5_col11\" class=\"data row5 col11\" >покупка жилья</td>\n",
       "            </tr>\n",
       "            <tr>\n",
       "                        <th id=\"T_9d2b4_level0_row6\" class=\"row_heading level0 row6\" >6</th>\n",
       "                        <td id=\"T_9d2b4_row6_col0\" class=\"data row6 col0\" >0</td>\n",
       "                        <td id=\"T_9d2b4_row6_col1\" class=\"data row6 col1\" >2879</td>\n",
       "                        <td id=\"T_9d2b4_row6_col2\" class=\"data row6 col2\" >43</td>\n",
       "                        <td id=\"T_9d2b4_row6_col3\" class=\"data row6 col3\" >высшее</td>\n",
       "                        <td id=\"T_9d2b4_row6_col4\" class=\"data row6 col4\" >0</td>\n",
       "                        <td id=\"T_9d2b4_row6_col5\" class=\"data row6 col5\" >женат / замужем</td>\n",
       "                        <td id=\"T_9d2b4_row6_col6\" class=\"data row6 col6\" >0</td>\n",
       "                        <td id=\"T_9d2b4_row6_col7\" class=\"data row6 col7\" >F</td>\n",
       "                        <td id=\"T_9d2b4_row6_col8\" class=\"data row6 col8\" >компаньон</td>\n",
       "                        <td id=\"T_9d2b4_row6_col9\" class=\"data row6 col9\" >0</td>\n",
       "                        <td id=\"T_9d2b4_row6_col10\" class=\"data row6 col10\" >240525</td>\n",
       "                        <td id=\"T_9d2b4_row6_col11\" class=\"data row6 col11\" >операции с жильем</td>\n",
       "            </tr>\n",
       "            <tr>\n",
       "                        <th id=\"T_9d2b4_level0_row7\" class=\"row_heading level0 row7\" >7</th>\n",
       "                        <td id=\"T_9d2b4_row7_col0\" class=\"data row7 col0\" >0</td>\n",
       "                        <td id=\"T_9d2b4_row7_col1\" class=\"data row7 col1\" >152</td>\n",
       "                        <td id=\"T_9d2b4_row7_col2\" class=\"data row7 col2\" >50</td>\n",
       "                        <td id=\"T_9d2b4_row7_col3\" class=\"data row7 col3\" >СРЕДНЕЕ</td>\n",
       "                        <td id=\"T_9d2b4_row7_col4\" class=\"data row7 col4\" >1</td>\n",
       "                        <td id=\"T_9d2b4_row7_col5\" class=\"data row7 col5\" >женат / замужем</td>\n",
       "                        <td id=\"T_9d2b4_row7_col6\" class=\"data row7 col6\" >0</td>\n",
       "                        <td id=\"T_9d2b4_row7_col7\" class=\"data row7 col7\" >M</td>\n",
       "                        <td id=\"T_9d2b4_row7_col8\" class=\"data row7 col8\" >сотрудник</td>\n",
       "                        <td id=\"T_9d2b4_row7_col9\" class=\"data row7 col9\" >0</td>\n",
       "                        <td id=\"T_9d2b4_row7_col10\" class=\"data row7 col10\" >135823</td>\n",
       "                        <td id=\"T_9d2b4_row7_col11\" class=\"data row7 col11\" >образование</td>\n",
       "            </tr>\n",
       "            <tr>\n",
       "                        <th id=\"T_9d2b4_level0_row8\" class=\"row_heading level0 row8\" >8</th>\n",
       "                        <td id=\"T_9d2b4_row8_col0\" class=\"data row8 col0\" >2</td>\n",
       "                        <td id=\"T_9d2b4_row8_col1\" class=\"data row8 col1\" >6929</td>\n",
       "                        <td id=\"T_9d2b4_row8_col2\" class=\"data row8 col2\" >35</td>\n",
       "                        <td id=\"T_9d2b4_row8_col3\" class=\"data row8 col3\" >ВЫСШЕЕ</td>\n",
       "                        <td id=\"T_9d2b4_row8_col4\" class=\"data row8 col4\" >0</td>\n",
       "                        <td id=\"T_9d2b4_row8_col5\" class=\"data row8 col5\" >гражданский брак</td>\n",
       "                        <td id=\"T_9d2b4_row8_col6\" class=\"data row8 col6\" >1</td>\n",
       "                        <td id=\"T_9d2b4_row8_col7\" class=\"data row8 col7\" >F</td>\n",
       "                        <td id=\"T_9d2b4_row8_col8\" class=\"data row8 col8\" >сотрудник</td>\n",
       "                        <td id=\"T_9d2b4_row8_col9\" class=\"data row8 col9\" >0</td>\n",
       "                        <td id=\"T_9d2b4_row8_col10\" class=\"data row8 col10\" >95856</td>\n",
       "                        <td id=\"T_9d2b4_row8_col11\" class=\"data row8 col11\" >на проведение свадьбы</td>\n",
       "            </tr>\n",
       "            <tr>\n",
       "                        <th id=\"T_9d2b4_level0_row9\" class=\"row_heading level0 row9\" >9</th>\n",
       "                        <td id=\"T_9d2b4_row9_col0\" class=\"data row9 col0\" >0</td>\n",
       "                        <td id=\"T_9d2b4_row9_col1\" class=\"data row9 col1\" >2188</td>\n",
       "                        <td id=\"T_9d2b4_row9_col2\" class=\"data row9 col2\" >41</td>\n",
       "                        <td id=\"T_9d2b4_row9_col3\" class=\"data row9 col3\" >среднее</td>\n",
       "                        <td id=\"T_9d2b4_row9_col4\" class=\"data row9 col4\" >1</td>\n",
       "                        <td id=\"T_9d2b4_row9_col5\" class=\"data row9 col5\" >женат / замужем</td>\n",
       "                        <td id=\"T_9d2b4_row9_col6\" class=\"data row9 col6\" >0</td>\n",
       "                        <td id=\"T_9d2b4_row9_col7\" class=\"data row9 col7\" >M</td>\n",
       "                        <td id=\"T_9d2b4_row9_col8\" class=\"data row9 col8\" >сотрудник</td>\n",
       "                        <td id=\"T_9d2b4_row9_col9\" class=\"data row9 col9\" >0</td>\n",
       "                        <td id=\"T_9d2b4_row9_col10\" class=\"data row9 col10\" >144425</td>\n",
       "                        <td id=\"T_9d2b4_row9_col11\" class=\"data row9 col11\" >покупка жилья для семьи</td>\n",
       "            </tr>\n",
       "    </tbody></table>"
      ],
      "text/plain": [
       "<pandas.io.formats.style.Styler at 0x7f76c3e157f0>"
      ]
     },
     "metadata": {},
     "output_type": "display_data"
    }
   ],
   "source": [
    "data['days_employed'] = data['days_employed'].astype('int')\n",
    "data['total_income'] = data['total_income'].astype('int')\n",
    "\n",
    "render(data.head(10))"
   ]
  },
  {
   "cell_type": "markdown",
   "id": "05e04140",
   "metadata": {},
   "source": [
    "### Шаг 2.4. Удаление дубликатов."
   ]
  },
  {
   "cell_type": "markdown",
   "id": "9c632f44",
   "metadata": {},
   "source": [
    "*__Изменяем все артефакты__*"
   ]
  },
  {
   "cell_type": "code",
   "execution_count": 22,
   "id": "57f6ef7a",
   "metadata": {
    "hide_input": true
   },
   "outputs": [
    {
     "data": {
      "text/html": [
       "<p class=\"value\" ><code>- Делаем все значения в столбце \"education\" строчными буквами</code></p>"
      ],
      "text/plain": [
       "<IPython.core.display.HTML object>"
      ]
     },
     "metadata": {},
     "output_type": "display_data"
    },
    {
     "data": {
      "text/html": [
       "<p class=\"value\" ><code>- Делаем все значения в столбце \"family_status\" строчными буквами</code></p>"
      ],
      "text/plain": [
       "<IPython.core.display.HTML object>"
      ]
     },
     "metadata": {},
     "output_type": "display_data"
    },
    {
     "data": {
      "text/html": [
       "<p class=\"value\" ><code>- Заменяем значения \"-1\" в столбце \"children\" на 1</code></p>"
      ],
      "text/plain": [
       "<IPython.core.display.HTML object>"
      ]
     },
     "metadata": {},
     "output_type": "display_data"
    },
    {
     "name": "stdout",
     "output_type": "stream",
     "text": [
      "\n",
      "т.к. у нас есть артефакт, что более 75 семей имеет 20 детей заменим на медиану\n"
     ]
    },
    {
     "data": {
      "text/html": [
       "<p class=\"value\" ><code>- Получим медиану количества детей в столбце \"children\"</code></p>"
      ],
      "text/plain": [
       "<IPython.core.display.HTML object>"
      ]
     },
     "metadata": {},
     "output_type": "display_data"
    },
    {
     "data": {
      "text/html": [
       "<p class=\"value\" ><code>Медиана количества детей: 0</code></p>"
      ],
      "text/plain": [
       "<IPython.core.display.HTML object>"
      ]
     },
     "metadata": {},
     "output_type": "display_data"
    },
    {
     "data": {
      "text/html": [
       "<p class=\"value\" ><code>- Заменим количество детей 20 в столбце \"children\" на полученную медиану</code></p>"
      ],
      "text/plain": [
       "<IPython.core.display.HTML object>"
      ]
     },
     "metadata": {},
     "output_type": "display_data"
    },
    {
     "data": {
      "text/html": [
       "<style  type=\"text/css\" >\n",
       "</style><table id=\"T_5bc09_\" class=\"table_border position_center_header\"><thead>    <tr>        <th class=\"blank level0\" ></th>        <th class=\"col_heading level0 col0\" >Количество детей</th>        <th class=\"col_heading level0 col1\" >Количество</th>    </tr></thead><tbody>\n",
       "                <tr>\n",
       "                        <th id=\"T_5bc09_level0_row0\" class=\"row_heading level0 row0\" >0</th>\n",
       "                        <td id=\"T_5bc09_row0_col0\" class=\"data row0 col0\" >0</td>\n",
       "                        <td id=\"T_5bc09_row0_col1\" class=\"data row0 col1\" >14225</td>\n",
       "            </tr>\n",
       "            <tr>\n",
       "                        <th id=\"T_5bc09_level0_row1\" class=\"row_heading level0 row1\" >1</th>\n",
       "                        <td id=\"T_5bc09_row1_col0\" class=\"data row1 col0\" >1</td>\n",
       "                        <td id=\"T_5bc09_row1_col1\" class=\"data row1 col1\" >4865</td>\n",
       "            </tr>\n",
       "            <tr>\n",
       "                        <th id=\"T_5bc09_level0_row2\" class=\"row_heading level0 row2\" >2</th>\n",
       "                        <td id=\"T_5bc09_row2_col0\" class=\"data row2 col0\" >2</td>\n",
       "                        <td id=\"T_5bc09_row2_col1\" class=\"data row2 col1\" >2055</td>\n",
       "            </tr>\n",
       "            <tr>\n",
       "                        <th id=\"T_5bc09_level0_row3\" class=\"row_heading level0 row3\" >3</th>\n",
       "                        <td id=\"T_5bc09_row3_col0\" class=\"data row3 col0\" >3</td>\n",
       "                        <td id=\"T_5bc09_row3_col1\" class=\"data row3 col1\" >330</td>\n",
       "            </tr>\n",
       "            <tr>\n",
       "                        <th id=\"T_5bc09_level0_row4\" class=\"row_heading level0 row4\" >4</th>\n",
       "                        <td id=\"T_5bc09_row4_col0\" class=\"data row4 col0\" >4</td>\n",
       "                        <td id=\"T_5bc09_row4_col1\" class=\"data row4 col1\" >41</td>\n",
       "            </tr>\n",
       "            <tr>\n",
       "                        <th id=\"T_5bc09_level0_row5\" class=\"row_heading level0 row5\" >5</th>\n",
       "                        <td id=\"T_5bc09_row5_col0\" class=\"data row5 col0\" >5</td>\n",
       "                        <td id=\"T_5bc09_row5_col1\" class=\"data row5 col1\" >9</td>\n",
       "            </tr>\n",
       "    </tbody></table>"
      ],
      "text/plain": [
       "<pandas.io.formats.style.Styler at 0x7f76c3e37700>"
      ]
     },
     "metadata": {},
     "output_type": "display_data"
    }
   ],
   "source": [
    "render('-', 'Делаем все значения в столбце \"education\" строчными буквами')\n",
    "data['education'] = data['education'].str.lower()\n",
    "\n",
    "render('-', 'Делаем все значения в столбце \"family_status\" строчными буквами')\n",
    "data['family_status'] = data['family_status'].str.lower()\n",
    "\n",
    "render('-', 'Заменяем значения \"-1\" в столбце \"children\" на 1')\n",
    "data['children'] = data['children'].replace(-1, 1)\n",
    "\n",
    "print('')\n",
    "\n",
    "print('т.к. у нас есть артефакт, что более 75 семей имеет 20 детей заменим на медиану')\n",
    "render('-', 'Получим медиану количества детей в столбце \"children\"')\n",
    "children_median = data[data['children'] != 20]['children'].median()\n",
    "\n",
    "render('Медиана количества детей:', int(children_median))\n",
    "\n",
    "render('-', 'Заменим количество детей 20 в столбце \"children\" на полученную медиану')\n",
    "data['children'] = data['children'].replace(20, children_median).astype('int')\n",
    "\n",
    "children_df = data['children'].value_counts().rename_axis('Количество детей').reset_index(name='Количество')\n",
    "render(children_df.sort_values('Количество детей',ascending=True))"
   ]
  },
  {
   "cell_type": "code",
   "execution_count": 23,
   "id": "392bce61",
   "metadata": {
    "hide_input": true,
    "scrolled": false
   },
   "outputs": [
    {
     "name": "stdout",
     "output_type": "stream",
     "text": [
      "\n",
      "т.к. у нас есть артефакт, что более 101 не родившихся людей хотят взять кредит, заменим на медиану\n"
     ]
    },
    {
     "data": {
      "text/html": [
       "<p class=\"value\" ><code>- Получим медиану возраста человека в столбце \"dob_years\"</code></p>"
      ],
      "text/plain": [
       "<IPython.core.display.HTML object>"
      ]
     },
     "metadata": {},
     "output_type": "display_data"
    },
    {
     "data": {
      "text/html": [
       "<p class=\"value\" ><code>Медиана возраста: 43</code></p>"
      ],
      "text/plain": [
       "<IPython.core.display.HTML object>"
      ]
     },
     "metadata": {},
     "output_type": "display_data"
    },
    {
     "data": {
      "text/html": [
       "<p class=\"value\" ><code>- Заменим возраст 0 в столбце \"dob_years\" на полученную медиану</code></p>"
      ],
      "text/plain": [
       "<IPython.core.display.HTML object>"
      ]
     },
     "metadata": {},
     "output_type": "display_data"
    },
    {
     "data": {
      "text/html": [
       "<style  type=\"text/css\" >\n",
       "</style><table id=\"T_bc6d1_\" class=\"table_border position_center_header\"><thead>    <tr>        <th class=\"blank level0\" ></th>        <th class=\"col_heading level0 col0\" >Возраст</th>        <th class=\"col_heading level0 col1\" >Количество</th>    </tr></thead><tbody>\n",
       "                <tr>\n",
       "                        <th id=\"T_bc6d1_level0_row0\" class=\"row_heading level0 row0\" >53</th>\n",
       "                        <td id=\"T_bc6d1_row0_col0\" class=\"data row0 col0\" >19</td>\n",
       "                        <td id=\"T_bc6d1_row0_col1\" class=\"data row0 col1\" >14</td>\n",
       "            </tr>\n",
       "            <tr>\n",
       "                        <th id=\"T_bc6d1_level0_row1\" class=\"row_heading level0 row1\" >51</th>\n",
       "                        <td id=\"T_bc6d1_row1_col0\" class=\"data row1 col0\" >20</td>\n",
       "                        <td id=\"T_bc6d1_row1_col1\" class=\"data row1 col1\" >51</td>\n",
       "            </tr>\n",
       "            <tr>\n",
       "                        <th id=\"T_bc6d1_level0_row2\" class=\"row_heading level0 row2\" >46</th>\n",
       "                        <td id=\"T_bc6d1_row2_col0\" class=\"data row2 col0\" >21</td>\n",
       "                        <td id=\"T_bc6d1_row2_col1\" class=\"data row2 col1\" >111</td>\n",
       "            </tr>\n",
       "            <tr>\n",
       "                        <th id=\"T_bc6d1_level0_row3\" class=\"row_heading level0 row3\" >43</th>\n",
       "                        <td id=\"T_bc6d1_row3_col0\" class=\"data row3 col0\" >22</td>\n",
       "                        <td id=\"T_bc6d1_row3_col1\" class=\"data row3 col1\" >183</td>\n",
       "            </tr>\n",
       "            <tr>\n",
       "                        <th id=\"T_bc6d1_level0_row4\" class=\"row_heading level0 row4\" >41</th>\n",
       "                        <td id=\"T_bc6d1_row4_col0\" class=\"data row4 col0\" >23</td>\n",
       "                        <td id=\"T_bc6d1_row4_col1\" class=\"data row4 col1\" >254</td>\n",
       "            </tr>\n",
       "            <tr>\n",
       "                        <th id=\"T_bc6d1_level0_row5\" class=\"row_heading level0 row5\" >40</th>\n",
       "                        <td id=\"T_bc6d1_row5_col0\" class=\"data row5 col0\" >24</td>\n",
       "                        <td id=\"T_bc6d1_row5_col1\" class=\"data row5 col1\" >264</td>\n",
       "            </tr>\n",
       "            <tr>\n",
       "                        <th id=\"T_bc6d1_level0_row6\" class=\"row_heading level0 row6\" >35</th>\n",
       "                        <td id=\"T_bc6d1_row6_col0\" class=\"data row6 col0\" >25</td>\n",
       "                        <td id=\"T_bc6d1_row6_col1\" class=\"data row6 col1\" >357</td>\n",
       "            </tr>\n",
       "            <tr>\n",
       "                        <th id=\"T_bc6d1_level0_row7\" class=\"row_heading level0 row7\" >33</th>\n",
       "                        <td id=\"T_bc6d1_row7_col0\" class=\"data row7 col0\" >26</td>\n",
       "                        <td id=\"T_bc6d1_row7_col1\" class=\"data row7 col1\" >408</td>\n",
       "            </tr>\n",
       "            <tr>\n",
       "                        <th id=\"T_bc6d1_level0_row8\" class=\"row_heading level0 row8\" >21</th>\n",
       "                        <td id=\"T_bc6d1_row8_col0\" class=\"data row8 col0\" >27</td>\n",
       "                        <td id=\"T_bc6d1_row8_col1\" class=\"data row8 col1\" >493</td>\n",
       "            </tr>\n",
       "            <tr>\n",
       "                        <th id=\"T_bc6d1_level0_row9\" class=\"row_heading level0 row9\" >19</th>\n",
       "                        <td id=\"T_bc6d1_row9_col0\" class=\"data row9 col0\" >28</td>\n",
       "                        <td id=\"T_bc6d1_row9_col1\" class=\"data row9 col1\" >503</td>\n",
       "            </tr>\n",
       "            <tr>\n",
       "                        <th id=\"T_bc6d1_level0_row10\" class=\"row_heading level0 row10\" >12</th>\n",
       "                        <td id=\"T_bc6d1_row10_col0\" class=\"data row10 col0\" >29</td>\n",
       "                        <td id=\"T_bc6d1_row10_col1\" class=\"data row10 col1\" >545</td>\n",
       "            </tr>\n",
       "            <tr>\n",
       "                        <th id=\"T_bc6d1_level0_row11\" class=\"row_heading level0 row11\" >13</th>\n",
       "                        <td id=\"T_bc6d1_row11_col0\" class=\"data row11 col0\" >30</td>\n",
       "                        <td id=\"T_bc6d1_row11_col1\" class=\"data row11 col1\" >540</td>\n",
       "            </tr>\n",
       "            <tr>\n",
       "                        <th id=\"T_bc6d1_level0_row12\" class=\"row_heading level0 row12\" >9</th>\n",
       "                        <td id=\"T_bc6d1_row12_col0\" class=\"data row12 col0\" >31</td>\n",
       "                        <td id=\"T_bc6d1_row12_col1\" class=\"data row12 col1\" >560</td>\n",
       "            </tr>\n",
       "            <tr>\n",
       "                        <th id=\"T_bc6d1_level0_row13\" class=\"row_heading level0 row13\" >17</th>\n",
       "                        <td id=\"T_bc6d1_row13_col0\" class=\"data row13 col0\" >32</td>\n",
       "                        <td id=\"T_bc6d1_row13_col1\" class=\"data row13 col1\" >510</td>\n",
       "            </tr>\n",
       "            <tr>\n",
       "                        <th id=\"T_bc6d1_level0_row14\" class=\"row_heading level0 row14\" >7</th>\n",
       "                        <td id=\"T_bc6d1_row14_col0\" class=\"data row14 col0\" >33</td>\n",
       "                        <td id=\"T_bc6d1_row14_col1\" class=\"data row14 col1\" >581</td>\n",
       "            </tr>\n",
       "            <tr>\n",
       "                        <th id=\"T_bc6d1_level0_row15\" class=\"row_heading level0 row15\" >4</th>\n",
       "                        <td id=\"T_bc6d1_row15_col0\" class=\"data row15 col0\" >34</td>\n",
       "                        <td id=\"T_bc6d1_row15_col1\" class=\"data row15 col1\" >603</td>\n",
       "            </tr>\n",
       "            <tr>\n",
       "                        <th id=\"T_bc6d1_level0_row16\" class=\"row_heading level0 row16\" >0</th>\n",
       "                        <td id=\"T_bc6d1_row16_col0\" class=\"data row16 col0\" >35</td>\n",
       "                        <td id=\"T_bc6d1_row16_col1\" class=\"data row16 col1\" >617</td>\n",
       "            </tr>\n",
       "            <tr>\n",
       "                        <th id=\"T_bc6d1_level0_row17\" class=\"row_heading level0 row17\" >10</th>\n",
       "                        <td id=\"T_bc6d1_row17_col0\" class=\"data row17 col0\" >36</td>\n",
       "                        <td id=\"T_bc6d1_row17_col1\" class=\"data row17 col1\" >555</td>\n",
       "            </tr>\n",
       "            <tr>\n",
       "                        <th id=\"T_bc6d1_level0_row18\" class=\"row_heading level0 row18\" >15</th>\n",
       "                        <td id=\"T_bc6d1_row18_col0\" class=\"data row18 col0\" >37</td>\n",
       "                        <td id=\"T_bc6d1_row18_col1\" class=\"data row18 col1\" >537</td>\n",
       "            </tr>\n",
       "            <tr>\n",
       "                        <th id=\"T_bc6d1_level0_row19\" class=\"row_heading level0 row19\" >5</th>\n",
       "                        <td id=\"T_bc6d1_row19_col0\" class=\"data row19 col0\" >38</td>\n",
       "                        <td id=\"T_bc6d1_row19_col1\" class=\"data row19 col1\" >598</td>\n",
       "            </tr>\n",
       "            <tr>\n",
       "                        <th id=\"T_bc6d1_level0_row20\" class=\"row_heading level0 row20\" >8</th>\n",
       "                        <td id=\"T_bc6d1_row20_col0\" class=\"data row20 col0\" >39</td>\n",
       "                        <td id=\"T_bc6d1_row20_col1\" class=\"data row20 col1\" >573</td>\n",
       "            </tr>\n",
       "            <tr>\n",
       "                        <th id=\"T_bc6d1_level0_row21\" class=\"row_heading level0 row21\" >2</th>\n",
       "                        <td id=\"T_bc6d1_row21_col0\" class=\"data row21 col0\" >40</td>\n",
       "                        <td id=\"T_bc6d1_row21_col1\" class=\"data row21 col1\" >609</td>\n",
       "            </tr>\n",
       "            <tr>\n",
       "                        <th id=\"T_bc6d1_level0_row22\" class=\"row_heading level0 row22\" >3</th>\n",
       "                        <td id=\"T_bc6d1_row22_col0\" class=\"data row22 col0\" >41</td>\n",
       "                        <td id=\"T_bc6d1_row22_col1\" class=\"data row22 col1\" >607</td>\n",
       "            </tr>\n",
       "            <tr>\n",
       "                        <th id=\"T_bc6d1_level0_row23\" class=\"row_heading level0 row23\" >6</th>\n",
       "                        <td id=\"T_bc6d1_row23_col0\" class=\"data row23 col0\" >42</td>\n",
       "                        <td id=\"T_bc6d1_row23_col1\" class=\"data row23 col1\" >597</td>\n",
       "            </tr>\n",
       "            <tr>\n",
       "                        <th id=\"T_bc6d1_level0_row24\" class=\"row_heading level0 row24\" >1</th>\n",
       "                        <td id=\"T_bc6d1_row24_col0\" class=\"data row24 col0\" >43</td>\n",
       "                        <td id=\"T_bc6d1_row24_col1\" class=\"data row24 col1\" >614</td>\n",
       "            </tr>\n",
       "            <tr>\n",
       "                        <th id=\"T_bc6d1_level0_row25\" class=\"row_heading level0 row25\" >11</th>\n",
       "                        <td id=\"T_bc6d1_row25_col0\" class=\"data row25 col0\" >44</td>\n",
       "                        <td id=\"T_bc6d1_row25_col1\" class=\"data row25 col1\" >547</td>\n",
       "            </tr>\n",
       "            <tr>\n",
       "                        <th id=\"T_bc6d1_level0_row26\" class=\"row_heading level0 row26\" >20</th>\n",
       "                        <td id=\"T_bc6d1_row26_col0\" class=\"data row26 col0\" >45</td>\n",
       "                        <td id=\"T_bc6d1_row26_col1\" class=\"data row26 col1\" >497</td>\n",
       "            </tr>\n",
       "            <tr>\n",
       "                        <th id=\"T_bc6d1_level0_row27\" class=\"row_heading level0 row27\" >26</th>\n",
       "                        <td id=\"T_bc6d1_row27_col0\" class=\"data row27 col0\" >46</td>\n",
       "                        <td id=\"T_bc6d1_row27_col1\" class=\"data row27 col1\" >475</td>\n",
       "            </tr>\n",
       "            <tr>\n",
       "                        <th id=\"T_bc6d1_level0_row28\" class=\"row_heading level0 row28\" >24</th>\n",
       "                        <td id=\"T_bc6d1_row28_col0\" class=\"data row28 col0\" >47</td>\n",
       "                        <td id=\"T_bc6d1_row28_col1\" class=\"data row28 col1\" >480</td>\n",
       "            </tr>\n",
       "            <tr>\n",
       "                        <th id=\"T_bc6d1_level0_row29\" class=\"row_heading level0 row29\" >14</th>\n",
       "                        <td id=\"T_bc6d1_row29_col0\" class=\"data row29 col0\" >48</td>\n",
       "                        <td id=\"T_bc6d1_row29_col1\" class=\"data row29 col1\" >538</td>\n",
       "            </tr>\n",
       "            <tr>\n",
       "                        <th id=\"T_bc6d1_level0_row30\" class=\"row_heading level0 row30\" >18</th>\n",
       "                        <td id=\"T_bc6d1_row30_col0\" class=\"data row30 col0\" >49</td>\n",
       "                        <td id=\"T_bc6d1_row30_col1\" class=\"data row30 col1\" >508</td>\n",
       "            </tr>\n",
       "            <tr>\n",
       "                        <th id=\"T_bc6d1_level0_row31\" class=\"row_heading level0 row31\" >16</th>\n",
       "                        <td id=\"T_bc6d1_row31_col0\" class=\"data row31 col0\" >50</td>\n",
       "                        <td id=\"T_bc6d1_row31_col1\" class=\"data row31 col1\" >514</td>\n",
       "            </tr>\n",
       "            <tr>\n",
       "                        <th id=\"T_bc6d1_level0_row32\" class=\"row_heading level0 row32\" >30</th>\n",
       "                        <td id=\"T_bc6d1_row32_col0\" class=\"data row32 col0\" >51</td>\n",
       "                        <td id=\"T_bc6d1_row32_col1\" class=\"data row32 col1\" >448</td>\n",
       "            </tr>\n",
       "            <tr>\n",
       "                        <th id=\"T_bc6d1_level0_row33\" class=\"row_heading level0 row33\" >23</th>\n",
       "                        <td id=\"T_bc6d1_row33_col0\" class=\"data row33 col0\" >52</td>\n",
       "                        <td id=\"T_bc6d1_row33_col1\" class=\"data row33 col1\" >484</td>\n",
       "            </tr>\n",
       "            <tr>\n",
       "                        <th id=\"T_bc6d1_level0_row34\" class=\"row_heading level0 row34\" >29</th>\n",
       "                        <td id=\"T_bc6d1_row34_col0\" class=\"data row34 col0\" >53</td>\n",
       "                        <td id=\"T_bc6d1_row34_col1\" class=\"data row34 col1\" >459</td>\n",
       "            </tr>\n",
       "            <tr>\n",
       "                        <th id=\"T_bc6d1_level0_row35\" class=\"row_heading level0 row35\" >25</th>\n",
       "                        <td id=\"T_bc6d1_row35_col0\" class=\"data row35 col0\" >54</td>\n",
       "                        <td id=\"T_bc6d1_row35_col1\" class=\"data row35 col1\" >479</td>\n",
       "            </tr>\n",
       "            <tr>\n",
       "                        <th id=\"T_bc6d1_level0_row36\" class=\"row_heading level0 row36\" >32</th>\n",
       "                        <td id=\"T_bc6d1_row36_col0\" class=\"data row36 col0\" >55</td>\n",
       "                        <td id=\"T_bc6d1_row36_col1\" class=\"data row36 col1\" >443</td>\n",
       "            </tr>\n",
       "            <tr>\n",
       "                        <th id=\"T_bc6d1_level0_row37\" class=\"row_heading level0 row37\" >22</th>\n",
       "                        <td id=\"T_bc6d1_row37_col0\" class=\"data row37 col0\" >56</td>\n",
       "                        <td id=\"T_bc6d1_row37_col1\" class=\"data row37 col1\" >487</td>\n",
       "            </tr>\n",
       "            <tr>\n",
       "                        <th id=\"T_bc6d1_level0_row38\" class=\"row_heading level0 row38\" >28</th>\n",
       "                        <td id=\"T_bc6d1_row38_col0\" class=\"data row38 col0\" >57</td>\n",
       "                        <td id=\"T_bc6d1_row38_col1\" class=\"data row38 col1\" >460</td>\n",
       "            </tr>\n",
       "            <tr>\n",
       "                        <th id=\"T_bc6d1_level0_row39\" class=\"row_heading level0 row39\" >27</th>\n",
       "                        <td id=\"T_bc6d1_row39_col0\" class=\"data row39 col0\" >58</td>\n",
       "                        <td id=\"T_bc6d1_row39_col1\" class=\"data row39 col1\" >461</td>\n",
       "            </tr>\n",
       "            <tr>\n",
       "                        <th id=\"T_bc6d1_level0_row40\" class=\"row_heading level0 row40\" >31</th>\n",
       "                        <td id=\"T_bc6d1_row40_col0\" class=\"data row40 col0\" >59</td>\n",
       "                        <td id=\"T_bc6d1_row40_col1\" class=\"data row40 col1\" >444</td>\n",
       "            </tr>\n",
       "            <tr>\n",
       "                        <th id=\"T_bc6d1_level0_row41\" class=\"row_heading level0 row41\" >34</th>\n",
       "                        <td id=\"T_bc6d1_row41_col0\" class=\"data row41 col0\" >60</td>\n",
       "                        <td id=\"T_bc6d1_row41_col1\" class=\"data row41 col1\" >377</td>\n",
       "            </tr>\n",
       "            <tr>\n",
       "                        <th id=\"T_bc6d1_level0_row42\" class=\"row_heading level0 row42\" >36</th>\n",
       "                        <td id=\"T_bc6d1_row42_col0\" class=\"data row42 col0\" >61</td>\n",
       "                        <td id=\"T_bc6d1_row42_col1\" class=\"data row42 col1\" >355</td>\n",
       "            </tr>\n",
       "            <tr>\n",
       "                        <th id=\"T_bc6d1_level0_row43\" class=\"row_heading level0 row43\" >37</th>\n",
       "                        <td id=\"T_bc6d1_row43_col0\" class=\"data row43 col0\" >62</td>\n",
       "                        <td id=\"T_bc6d1_row43_col1\" class=\"data row43 col1\" >352</td>\n",
       "            </tr>\n",
       "            <tr>\n",
       "                        <th id=\"T_bc6d1_level0_row44\" class=\"row_heading level0 row44\" >38</th>\n",
       "                        <td id=\"T_bc6d1_row44_col0\" class=\"data row44 col0\" >63</td>\n",
       "                        <td id=\"T_bc6d1_row44_col1\" class=\"data row44 col1\" >269</td>\n",
       "            </tr>\n",
       "            <tr>\n",
       "                        <th id=\"T_bc6d1_level0_row45\" class=\"row_heading level0 row45\" >39</th>\n",
       "                        <td id=\"T_bc6d1_row45_col0\" class=\"data row45 col0\" >64</td>\n",
       "                        <td id=\"T_bc6d1_row45_col1\" class=\"data row45 col1\" >265</td>\n",
       "            </tr>\n",
       "            <tr>\n",
       "                        <th id=\"T_bc6d1_level0_row46\" class=\"row_heading level0 row46\" >42</th>\n",
       "                        <td id=\"T_bc6d1_row46_col0\" class=\"data row46 col0\" >65</td>\n",
       "                        <td id=\"T_bc6d1_row46_col1\" class=\"data row46 col1\" >194</td>\n",
       "            </tr>\n",
       "            <tr>\n",
       "                        <th id=\"T_bc6d1_level0_row47\" class=\"row_heading level0 row47\" >44</th>\n",
       "                        <td id=\"T_bc6d1_row47_col0\" class=\"data row47 col0\" >66</td>\n",
       "                        <td id=\"T_bc6d1_row47_col1\" class=\"data row47 col1\" >183</td>\n",
       "            </tr>\n",
       "            <tr>\n",
       "                        <th id=\"T_bc6d1_level0_row48\" class=\"row_heading level0 row48\" >45</th>\n",
       "                        <td id=\"T_bc6d1_row48_col0\" class=\"data row48 col0\" >67</td>\n",
       "                        <td id=\"T_bc6d1_row48_col1\" class=\"data row48 col1\" >167</td>\n",
       "            </tr>\n",
       "            <tr>\n",
       "                        <th id=\"T_bc6d1_level0_row49\" class=\"row_heading level0 row49\" >47</th>\n",
       "                        <td id=\"T_bc6d1_row49_col0\" class=\"data row49 col0\" >68</td>\n",
       "                        <td id=\"T_bc6d1_row49_col1\" class=\"data row49 col1\" >99</td>\n",
       "            </tr>\n",
       "            <tr>\n",
       "                        <th id=\"T_bc6d1_level0_row50\" class=\"row_heading level0 row50\" >48</th>\n",
       "                        <td id=\"T_bc6d1_row50_col0\" class=\"data row50 col0\" >69</td>\n",
       "                        <td id=\"T_bc6d1_row50_col1\" class=\"data row50 col1\" >85</td>\n",
       "            </tr>\n",
       "            <tr>\n",
       "                        <th id=\"T_bc6d1_level0_row51\" class=\"row_heading level0 row51\" >49</th>\n",
       "                        <td id=\"T_bc6d1_row51_col0\" class=\"data row51 col0\" >70</td>\n",
       "                        <td id=\"T_bc6d1_row51_col1\" class=\"data row51 col1\" >65</td>\n",
       "            </tr>\n",
       "            <tr>\n",
       "                        <th id=\"T_bc6d1_level0_row52\" class=\"row_heading level0 row52\" >50</th>\n",
       "                        <td id=\"T_bc6d1_row52_col0\" class=\"data row52 col0\" >71</td>\n",
       "                        <td id=\"T_bc6d1_row52_col1\" class=\"data row52 col1\" >58</td>\n",
       "            </tr>\n",
       "            <tr>\n",
       "                        <th id=\"T_bc6d1_level0_row53\" class=\"row_heading level0 row53\" >52</th>\n",
       "                        <td id=\"T_bc6d1_row53_col0\" class=\"data row53 col0\" >72</td>\n",
       "                        <td id=\"T_bc6d1_row53_col1\" class=\"data row53 col1\" >33</td>\n",
       "            </tr>\n",
       "            <tr>\n",
       "                        <th id=\"T_bc6d1_level0_row54\" class=\"row_heading level0 row54\" >54</th>\n",
       "                        <td id=\"T_bc6d1_row54_col0\" class=\"data row54 col0\" >73</td>\n",
       "                        <td id=\"T_bc6d1_row54_col1\" class=\"data row54 col1\" >8</td>\n",
       "            </tr>\n",
       "            <tr>\n",
       "                        <th id=\"T_bc6d1_level0_row55\" class=\"row_heading level0 row55\" >55</th>\n",
       "                        <td id=\"T_bc6d1_row55_col0\" class=\"data row55 col0\" >74</td>\n",
       "                        <td id=\"T_bc6d1_row55_col1\" class=\"data row55 col1\" >6</td>\n",
       "            </tr>\n",
       "            <tr>\n",
       "                        <th id=\"T_bc6d1_level0_row56\" class=\"row_heading level0 row56\" >56</th>\n",
       "                        <td id=\"T_bc6d1_row56_col0\" class=\"data row56 col0\" >75</td>\n",
       "                        <td id=\"T_bc6d1_row56_col1\" class=\"data row56 col1\" >1</td>\n",
       "            </tr>\n",
       "    </tbody></table>"
      ],
      "text/plain": [
       "<pandas.io.formats.style.Styler at 0x7f76c3d7f130>"
      ]
     },
     "metadata": {},
     "output_type": "display_data"
    }
   ],
   "source": [
    "print('')\n",
    "\n",
    "print('т.к. у нас есть артефакт, что более 101 не родившихся людей хотят взять кредит, заменим на медиану')\n",
    "render('-', 'Получим медиану возраста человека в столбце \"dob_years\"')\n",
    "dob_years_median = data[data['dob_years'] != 0]['dob_years'].median()\n",
    "\n",
    "render('Медиана возраста:', int(dob_years_median))\n",
    "\n",
    "render('-', 'Заменим возраст 0 в столбце \"dob_years\" на полученную медиану')\n",
    "data['dob_years'] = data['dob_years'].replace(0, dob_years_median).astype('int')\n",
    "\n",
    "dob_years_df = data['dob_years'].value_counts().rename_axis('Возраст').reset_index(name='Количество')\n",
    "render(dob_years_df.sort_values('Возраст',ascending=True))"
   ]
  },
  {
   "cell_type": "code",
   "execution_count": 24,
   "id": "3d0c96d7",
   "metadata": {
    "hide_input": true
   },
   "outputs": [
    {
     "data": {
      "text/html": [
       "<p class=\"value\" ><code>- Проверим на дубликаты</code></p>"
      ],
      "text/plain": [
       "<IPython.core.display.HTML object>"
      ]
     },
     "metadata": {},
     "output_type": "display_data"
    },
    {
     "data": {
      "text/html": [
       "<p class=\"value\" ><code>Дубликатов в таблице: 71</code></p>"
      ],
      "text/plain": [
       "<IPython.core.display.HTML object>"
      ]
     },
     "metadata": {},
     "output_type": "display_data"
    },
    {
     "data": {
      "text/html": [
       "<p class=\"value\" ><code>- удалим дубликаты</code></p>"
      ],
      "text/plain": [
       "<IPython.core.display.HTML object>"
      ]
     },
     "metadata": {},
     "output_type": "display_data"
    },
    {
     "data": {
      "text/html": [
       "<p class=\"value\" ><code>- Проверим на дубликаты</code></p>"
      ],
      "text/plain": [
       "<IPython.core.display.HTML object>"
      ]
     },
     "metadata": {},
     "output_type": "display_data"
    },
    {
     "data": {
      "text/html": [
       "<p class=\"value\" ><code>Дубликатов в таблице: 0</code></p>"
      ],
      "text/plain": [
       "<IPython.core.display.HTML object>"
      ]
     },
     "metadata": {},
     "output_type": "display_data"
    }
   ],
   "source": [
    "render('-','Проверим на дубликаты')\n",
    "render ('Дубликатов в таблице:', data.duplicated().sum())\n",
    "\n",
    "render('-','удалим дубликаты')\n",
    "data = data.drop_duplicates()\n",
    "\n",
    "render('-','Проверим на дубликаты')\n",
    "render ('Дубликатов в таблице:', data.duplicated().sum())"
   ]
  },
  {
   "cell_type": "code",
   "execution_count": 25,
   "id": "1d2322d0",
   "metadata": {
    "hide_input": true
   },
   "outputs": [
    {
     "data": {
      "text/html": [
       "<style  type=\"text/css\" >\n",
       "</style><table id=\"T_1d2a6_\" class=\"table_border position_center_header\"><thead>    <tr>        <th class=\"blank level0\" ></th>        <th class=\"col_heading level0 col0\" >children</th>        <th class=\"col_heading level0 col1\" >days_employed</th>        <th class=\"col_heading level0 col2\" >dob_years</th>        <th class=\"col_heading level0 col3\" >education</th>        <th class=\"col_heading level0 col4\" >education_id</th>        <th class=\"col_heading level0 col5\" >family_status</th>        <th class=\"col_heading level0 col6\" >family_status_id</th>        <th class=\"col_heading level0 col7\" >gender</th>        <th class=\"col_heading level0 col8\" >income_type</th>        <th class=\"col_heading level0 col9\" >debt</th>        <th class=\"col_heading level0 col10\" >total_income</th>        <th class=\"col_heading level0 col11\" >purpose</th>    </tr></thead><tbody>\n",
       "                <tr>\n",
       "                        <th id=\"T_1d2a6_level0_row0\" class=\"row_heading level0 row0\" >0</th>\n",
       "                        <td id=\"T_1d2a6_row0_col0\" class=\"data row0 col0\" >1</td>\n",
       "                        <td id=\"T_1d2a6_row0_col1\" class=\"data row0 col1\" >8437</td>\n",
       "                        <td id=\"T_1d2a6_row0_col2\" class=\"data row0 col2\" >42</td>\n",
       "                        <td id=\"T_1d2a6_row0_col3\" class=\"data row0 col3\" >высшее</td>\n",
       "                        <td id=\"T_1d2a6_row0_col4\" class=\"data row0 col4\" >0</td>\n",
       "                        <td id=\"T_1d2a6_row0_col5\" class=\"data row0 col5\" >женат / замужем</td>\n",
       "                        <td id=\"T_1d2a6_row0_col6\" class=\"data row0 col6\" >0</td>\n",
       "                        <td id=\"T_1d2a6_row0_col7\" class=\"data row0 col7\" >F</td>\n",
       "                        <td id=\"T_1d2a6_row0_col8\" class=\"data row0 col8\" >сотрудник</td>\n",
       "                        <td id=\"T_1d2a6_row0_col9\" class=\"data row0 col9\" >0</td>\n",
       "                        <td id=\"T_1d2a6_row0_col10\" class=\"data row0 col10\" >253875</td>\n",
       "                        <td id=\"T_1d2a6_row0_col11\" class=\"data row0 col11\" >покупка жилья</td>\n",
       "            </tr>\n",
       "            <tr>\n",
       "                        <th id=\"T_1d2a6_level0_row1\" class=\"row_heading level0 row1\" >1</th>\n",
       "                        <td id=\"T_1d2a6_row1_col0\" class=\"data row1 col0\" >1</td>\n",
       "                        <td id=\"T_1d2a6_row1_col1\" class=\"data row1 col1\" >4024</td>\n",
       "                        <td id=\"T_1d2a6_row1_col2\" class=\"data row1 col2\" >36</td>\n",
       "                        <td id=\"T_1d2a6_row1_col3\" class=\"data row1 col3\" >среднее</td>\n",
       "                        <td id=\"T_1d2a6_row1_col4\" class=\"data row1 col4\" >1</td>\n",
       "                        <td id=\"T_1d2a6_row1_col5\" class=\"data row1 col5\" >женат / замужем</td>\n",
       "                        <td id=\"T_1d2a6_row1_col6\" class=\"data row1 col6\" >0</td>\n",
       "                        <td id=\"T_1d2a6_row1_col7\" class=\"data row1 col7\" >F</td>\n",
       "                        <td id=\"T_1d2a6_row1_col8\" class=\"data row1 col8\" >сотрудник</td>\n",
       "                        <td id=\"T_1d2a6_row1_col9\" class=\"data row1 col9\" >0</td>\n",
       "                        <td id=\"T_1d2a6_row1_col10\" class=\"data row1 col10\" >112080</td>\n",
       "                        <td id=\"T_1d2a6_row1_col11\" class=\"data row1 col11\" >приобретение автомобиля</td>\n",
       "            </tr>\n",
       "            <tr>\n",
       "                        <th id=\"T_1d2a6_level0_row2\" class=\"row_heading level0 row2\" >2</th>\n",
       "                        <td id=\"T_1d2a6_row2_col0\" class=\"data row2 col0\" >0</td>\n",
       "                        <td id=\"T_1d2a6_row2_col1\" class=\"data row2 col1\" >5623</td>\n",
       "                        <td id=\"T_1d2a6_row2_col2\" class=\"data row2 col2\" >33</td>\n",
       "                        <td id=\"T_1d2a6_row2_col3\" class=\"data row2 col3\" >среднее</td>\n",
       "                        <td id=\"T_1d2a6_row2_col4\" class=\"data row2 col4\" >1</td>\n",
       "                        <td id=\"T_1d2a6_row2_col5\" class=\"data row2 col5\" >женат / замужем</td>\n",
       "                        <td id=\"T_1d2a6_row2_col6\" class=\"data row2 col6\" >0</td>\n",
       "                        <td id=\"T_1d2a6_row2_col7\" class=\"data row2 col7\" >M</td>\n",
       "                        <td id=\"T_1d2a6_row2_col8\" class=\"data row2 col8\" >сотрудник</td>\n",
       "                        <td id=\"T_1d2a6_row2_col9\" class=\"data row2 col9\" >0</td>\n",
       "                        <td id=\"T_1d2a6_row2_col10\" class=\"data row2 col10\" >145885</td>\n",
       "                        <td id=\"T_1d2a6_row2_col11\" class=\"data row2 col11\" >покупка жилья</td>\n",
       "            </tr>\n",
       "            <tr>\n",
       "                        <th id=\"T_1d2a6_level0_row3\" class=\"row_heading level0 row3\" >3</th>\n",
       "                        <td id=\"T_1d2a6_row3_col0\" class=\"data row3 col0\" >3</td>\n",
       "                        <td id=\"T_1d2a6_row3_col1\" class=\"data row3 col1\" >4124</td>\n",
       "                        <td id=\"T_1d2a6_row3_col2\" class=\"data row3 col2\" >32</td>\n",
       "                        <td id=\"T_1d2a6_row3_col3\" class=\"data row3 col3\" >среднее</td>\n",
       "                        <td id=\"T_1d2a6_row3_col4\" class=\"data row3 col4\" >1</td>\n",
       "                        <td id=\"T_1d2a6_row3_col5\" class=\"data row3 col5\" >женат / замужем</td>\n",
       "                        <td id=\"T_1d2a6_row3_col6\" class=\"data row3 col6\" >0</td>\n",
       "                        <td id=\"T_1d2a6_row3_col7\" class=\"data row3 col7\" >M</td>\n",
       "                        <td id=\"T_1d2a6_row3_col8\" class=\"data row3 col8\" >сотрудник</td>\n",
       "                        <td id=\"T_1d2a6_row3_col9\" class=\"data row3 col9\" >0</td>\n",
       "                        <td id=\"T_1d2a6_row3_col10\" class=\"data row3 col10\" >267628</td>\n",
       "                        <td id=\"T_1d2a6_row3_col11\" class=\"data row3 col11\" >дополнительное образование</td>\n",
       "            </tr>\n",
       "            <tr>\n",
       "                        <th id=\"T_1d2a6_level0_row4\" class=\"row_heading level0 row4\" >4</th>\n",
       "                        <td id=\"T_1d2a6_row4_col0\" class=\"data row4 col0\" >0</td>\n",
       "                        <td id=\"T_1d2a6_row4_col1\" class=\"data row4 col1\" >340266</td>\n",
       "                        <td id=\"T_1d2a6_row4_col2\" class=\"data row4 col2\" >53</td>\n",
       "                        <td id=\"T_1d2a6_row4_col3\" class=\"data row4 col3\" >среднее</td>\n",
       "                        <td id=\"T_1d2a6_row4_col4\" class=\"data row4 col4\" >1</td>\n",
       "                        <td id=\"T_1d2a6_row4_col5\" class=\"data row4 col5\" >гражданский брак</td>\n",
       "                        <td id=\"T_1d2a6_row4_col6\" class=\"data row4 col6\" >1</td>\n",
       "                        <td id=\"T_1d2a6_row4_col7\" class=\"data row4 col7\" >F</td>\n",
       "                        <td id=\"T_1d2a6_row4_col8\" class=\"data row4 col8\" >пенсионер</td>\n",
       "                        <td id=\"T_1d2a6_row4_col9\" class=\"data row4 col9\" >0</td>\n",
       "                        <td id=\"T_1d2a6_row4_col10\" class=\"data row4 col10\" >158616</td>\n",
       "                        <td id=\"T_1d2a6_row4_col11\" class=\"data row4 col11\" >сыграть свадьбу</td>\n",
       "            </tr>\n",
       "            <tr>\n",
       "                        <th id=\"T_1d2a6_level0_row5\" class=\"row_heading level0 row5\" >5</th>\n",
       "                        <td id=\"T_1d2a6_row5_col0\" class=\"data row5 col0\" >0</td>\n",
       "                        <td id=\"T_1d2a6_row5_col1\" class=\"data row5 col1\" >926</td>\n",
       "                        <td id=\"T_1d2a6_row5_col2\" class=\"data row5 col2\" >27</td>\n",
       "                        <td id=\"T_1d2a6_row5_col3\" class=\"data row5 col3\" >высшее</td>\n",
       "                        <td id=\"T_1d2a6_row5_col4\" class=\"data row5 col4\" >0</td>\n",
       "                        <td id=\"T_1d2a6_row5_col5\" class=\"data row5 col5\" >гражданский брак</td>\n",
       "                        <td id=\"T_1d2a6_row5_col6\" class=\"data row5 col6\" >1</td>\n",
       "                        <td id=\"T_1d2a6_row5_col7\" class=\"data row5 col7\" >M</td>\n",
       "                        <td id=\"T_1d2a6_row5_col8\" class=\"data row5 col8\" >компаньон</td>\n",
       "                        <td id=\"T_1d2a6_row5_col9\" class=\"data row5 col9\" >0</td>\n",
       "                        <td id=\"T_1d2a6_row5_col10\" class=\"data row5 col10\" >255763</td>\n",
       "                        <td id=\"T_1d2a6_row5_col11\" class=\"data row5 col11\" >покупка жилья</td>\n",
       "            </tr>\n",
       "            <tr>\n",
       "                        <th id=\"T_1d2a6_level0_row6\" class=\"row_heading level0 row6\" >6</th>\n",
       "                        <td id=\"T_1d2a6_row6_col0\" class=\"data row6 col0\" >0</td>\n",
       "                        <td id=\"T_1d2a6_row6_col1\" class=\"data row6 col1\" >2879</td>\n",
       "                        <td id=\"T_1d2a6_row6_col2\" class=\"data row6 col2\" >43</td>\n",
       "                        <td id=\"T_1d2a6_row6_col3\" class=\"data row6 col3\" >высшее</td>\n",
       "                        <td id=\"T_1d2a6_row6_col4\" class=\"data row6 col4\" >0</td>\n",
       "                        <td id=\"T_1d2a6_row6_col5\" class=\"data row6 col5\" >женат / замужем</td>\n",
       "                        <td id=\"T_1d2a6_row6_col6\" class=\"data row6 col6\" >0</td>\n",
       "                        <td id=\"T_1d2a6_row6_col7\" class=\"data row6 col7\" >F</td>\n",
       "                        <td id=\"T_1d2a6_row6_col8\" class=\"data row6 col8\" >компаньон</td>\n",
       "                        <td id=\"T_1d2a6_row6_col9\" class=\"data row6 col9\" >0</td>\n",
       "                        <td id=\"T_1d2a6_row6_col10\" class=\"data row6 col10\" >240525</td>\n",
       "                        <td id=\"T_1d2a6_row6_col11\" class=\"data row6 col11\" >операции с жильем</td>\n",
       "            </tr>\n",
       "            <tr>\n",
       "                        <th id=\"T_1d2a6_level0_row7\" class=\"row_heading level0 row7\" >7</th>\n",
       "                        <td id=\"T_1d2a6_row7_col0\" class=\"data row7 col0\" >0</td>\n",
       "                        <td id=\"T_1d2a6_row7_col1\" class=\"data row7 col1\" >152</td>\n",
       "                        <td id=\"T_1d2a6_row7_col2\" class=\"data row7 col2\" >50</td>\n",
       "                        <td id=\"T_1d2a6_row7_col3\" class=\"data row7 col3\" >среднее</td>\n",
       "                        <td id=\"T_1d2a6_row7_col4\" class=\"data row7 col4\" >1</td>\n",
       "                        <td id=\"T_1d2a6_row7_col5\" class=\"data row7 col5\" >женат / замужем</td>\n",
       "                        <td id=\"T_1d2a6_row7_col6\" class=\"data row7 col6\" >0</td>\n",
       "                        <td id=\"T_1d2a6_row7_col7\" class=\"data row7 col7\" >M</td>\n",
       "                        <td id=\"T_1d2a6_row7_col8\" class=\"data row7 col8\" >сотрудник</td>\n",
       "                        <td id=\"T_1d2a6_row7_col9\" class=\"data row7 col9\" >0</td>\n",
       "                        <td id=\"T_1d2a6_row7_col10\" class=\"data row7 col10\" >135823</td>\n",
       "                        <td id=\"T_1d2a6_row7_col11\" class=\"data row7 col11\" >образование</td>\n",
       "            </tr>\n",
       "            <tr>\n",
       "                        <th id=\"T_1d2a6_level0_row8\" class=\"row_heading level0 row8\" >8</th>\n",
       "                        <td id=\"T_1d2a6_row8_col0\" class=\"data row8 col0\" >2</td>\n",
       "                        <td id=\"T_1d2a6_row8_col1\" class=\"data row8 col1\" >6929</td>\n",
       "                        <td id=\"T_1d2a6_row8_col2\" class=\"data row8 col2\" >35</td>\n",
       "                        <td id=\"T_1d2a6_row8_col3\" class=\"data row8 col3\" >высшее</td>\n",
       "                        <td id=\"T_1d2a6_row8_col4\" class=\"data row8 col4\" >0</td>\n",
       "                        <td id=\"T_1d2a6_row8_col5\" class=\"data row8 col5\" >гражданский брак</td>\n",
       "                        <td id=\"T_1d2a6_row8_col6\" class=\"data row8 col6\" >1</td>\n",
       "                        <td id=\"T_1d2a6_row8_col7\" class=\"data row8 col7\" >F</td>\n",
       "                        <td id=\"T_1d2a6_row8_col8\" class=\"data row8 col8\" >сотрудник</td>\n",
       "                        <td id=\"T_1d2a6_row8_col9\" class=\"data row8 col9\" >0</td>\n",
       "                        <td id=\"T_1d2a6_row8_col10\" class=\"data row8 col10\" >95856</td>\n",
       "                        <td id=\"T_1d2a6_row8_col11\" class=\"data row8 col11\" >на проведение свадьбы</td>\n",
       "            </tr>\n",
       "            <tr>\n",
       "                        <th id=\"T_1d2a6_level0_row9\" class=\"row_heading level0 row9\" >9</th>\n",
       "                        <td id=\"T_1d2a6_row9_col0\" class=\"data row9 col0\" >0</td>\n",
       "                        <td id=\"T_1d2a6_row9_col1\" class=\"data row9 col1\" >2188</td>\n",
       "                        <td id=\"T_1d2a6_row9_col2\" class=\"data row9 col2\" >41</td>\n",
       "                        <td id=\"T_1d2a6_row9_col3\" class=\"data row9 col3\" >среднее</td>\n",
       "                        <td id=\"T_1d2a6_row9_col4\" class=\"data row9 col4\" >1</td>\n",
       "                        <td id=\"T_1d2a6_row9_col5\" class=\"data row9 col5\" >женат / замужем</td>\n",
       "                        <td id=\"T_1d2a6_row9_col6\" class=\"data row9 col6\" >0</td>\n",
       "                        <td id=\"T_1d2a6_row9_col7\" class=\"data row9 col7\" >M</td>\n",
       "                        <td id=\"T_1d2a6_row9_col8\" class=\"data row9 col8\" >сотрудник</td>\n",
       "                        <td id=\"T_1d2a6_row9_col9\" class=\"data row9 col9\" >0</td>\n",
       "                        <td id=\"T_1d2a6_row9_col10\" class=\"data row9 col10\" >144425</td>\n",
       "                        <td id=\"T_1d2a6_row9_col11\" class=\"data row9 col11\" >покупка жилья для семьи</td>\n",
       "            </tr>\n",
       "    </tbody></table>"
      ],
      "text/plain": [
       "<pandas.io.formats.style.Styler at 0x7f76c3dcb0a0>"
      ]
     },
     "metadata": {},
     "output_type": "display_data"
    }
   ],
   "source": [
    "render(data.head(10))\n"
   ]
  },
  {
   "cell_type": "markdown",
   "id": "a3f2ba56",
   "metadata": {},
   "source": [
    "### Шаг 2.5. Формирование дополнительных датафреймов словарей, декомпозиция исходного датафрейма."
   ]
  },
  {
   "cell_type": "code",
   "execution_count": 26,
   "id": "792fc05d",
   "metadata": {
    "hide_input": true
   },
   "outputs": [
    {
     "data": {
      "text/html": [
       "<p class=\"value\" ><code>- Формируем справочник education</code></p>"
      ],
      "text/plain": [
       "<IPython.core.display.HTML object>"
      ]
     },
     "metadata": {},
     "output_type": "display_data"
    },
    {
     "data": {
      "text/html": [
       "<style  type=\"text/css\" >\n",
       "</style><table id=\"T_98cf3_\" class=\"table_border position_center_header\"><thead>    <tr>        <th class=\"blank level0\" ></th>        <th class=\"col_heading level0 col0\" >education</th>        <th class=\"col_heading level0 col1\" >education_id</th>    </tr></thead><tbody>\n",
       "                <tr>\n",
       "                        <th id=\"T_98cf3_level0_row0\" class=\"row_heading level0 row0\" >0</th>\n",
       "                        <td id=\"T_98cf3_row0_col0\" class=\"data row0 col0\" >высшее</td>\n",
       "                        <td id=\"T_98cf3_row0_col1\" class=\"data row0 col1\" >0</td>\n",
       "            </tr>\n",
       "            <tr>\n",
       "                        <th id=\"T_98cf3_level0_row1\" class=\"row_heading level0 row1\" >1</th>\n",
       "                        <td id=\"T_98cf3_row1_col0\" class=\"data row1 col0\" >среднее</td>\n",
       "                        <td id=\"T_98cf3_row1_col1\" class=\"data row1 col1\" >1</td>\n",
       "            </tr>\n",
       "            <tr>\n",
       "                        <th id=\"T_98cf3_level0_row2\" class=\"row_heading level0 row2\" >2</th>\n",
       "                        <td id=\"T_98cf3_row2_col0\" class=\"data row2 col0\" >неоконченное высшее</td>\n",
       "                        <td id=\"T_98cf3_row2_col1\" class=\"data row2 col1\" >2</td>\n",
       "            </tr>\n",
       "            <tr>\n",
       "                        <th id=\"T_98cf3_level0_row3\" class=\"row_heading level0 row3\" >3</th>\n",
       "                        <td id=\"T_98cf3_row3_col0\" class=\"data row3 col0\" >начальное</td>\n",
       "                        <td id=\"T_98cf3_row3_col1\" class=\"data row3 col1\" >3</td>\n",
       "            </tr>\n",
       "            <tr>\n",
       "                        <th id=\"T_98cf3_level0_row4\" class=\"row_heading level0 row4\" >4</th>\n",
       "                        <td id=\"T_98cf3_row4_col0\" class=\"data row4 col0\" >ученая степень</td>\n",
       "                        <td id=\"T_98cf3_row4_col1\" class=\"data row4 col1\" >4</td>\n",
       "            </tr>\n",
       "    </tbody></table>"
      ],
      "text/plain": [
       "<pandas.io.formats.style.Styler at 0x7f76c3d7f640>"
      ]
     },
     "metadata": {},
     "output_type": "display_data"
    },
    {
     "name": "stdout",
     "output_type": "stream",
     "text": [
      "\n"
     ]
    },
    {
     "data": {
      "text/html": [
       "<p class=\"value\" ><code>- Формируем справочник family_status</code></p>"
      ],
      "text/plain": [
       "<IPython.core.display.HTML object>"
      ]
     },
     "metadata": {},
     "output_type": "display_data"
    },
    {
     "data": {
      "text/html": [
       "<style  type=\"text/css\" >\n",
       "</style><table id=\"T_42700_\" class=\"table_border position_center_header\"><thead>    <tr>        <th class=\"blank level0\" ></th>        <th class=\"col_heading level0 col0\" >family_status</th>        <th class=\"col_heading level0 col1\" >family_status_id</th>    </tr></thead><tbody>\n",
       "                <tr>\n",
       "                        <th id=\"T_42700_level0_row0\" class=\"row_heading level0 row0\" >0</th>\n",
       "                        <td id=\"T_42700_row0_col0\" class=\"data row0 col0\" >женат / замужем</td>\n",
       "                        <td id=\"T_42700_row0_col1\" class=\"data row0 col1\" >0</td>\n",
       "            </tr>\n",
       "            <tr>\n",
       "                        <th id=\"T_42700_level0_row1\" class=\"row_heading level0 row1\" >1</th>\n",
       "                        <td id=\"T_42700_row1_col0\" class=\"data row1 col0\" >гражданский брак</td>\n",
       "                        <td id=\"T_42700_row1_col1\" class=\"data row1 col1\" >1</td>\n",
       "            </tr>\n",
       "            <tr>\n",
       "                        <th id=\"T_42700_level0_row2\" class=\"row_heading level0 row2\" >2</th>\n",
       "                        <td id=\"T_42700_row2_col0\" class=\"data row2 col0\" >вдовец / вдова</td>\n",
       "                        <td id=\"T_42700_row2_col1\" class=\"data row2 col1\" >2</td>\n",
       "            </tr>\n",
       "            <tr>\n",
       "                        <th id=\"T_42700_level0_row3\" class=\"row_heading level0 row3\" >3</th>\n",
       "                        <td id=\"T_42700_row3_col0\" class=\"data row3 col0\" >в разводе</td>\n",
       "                        <td id=\"T_42700_row3_col1\" class=\"data row3 col1\" >3</td>\n",
       "            </tr>\n",
       "            <tr>\n",
       "                        <th id=\"T_42700_level0_row4\" class=\"row_heading level0 row4\" >4</th>\n",
       "                        <td id=\"T_42700_row4_col0\" class=\"data row4 col0\" >не женат / не замужем</td>\n",
       "                        <td id=\"T_42700_row4_col1\" class=\"data row4 col1\" >4</td>\n",
       "            </tr>\n",
       "    </tbody></table>"
      ],
      "text/plain": [
       "<pandas.io.formats.style.Styler at 0x7f76c3d9aa90>"
      ]
     },
     "metadata": {},
     "output_type": "display_data"
    }
   ],
   "source": [
    "render('-', 'Формируем справочник','education')\n",
    "education_dict = data[['education','education_id']]\n",
    "education_dict = education_dict.drop_duplicates().reset_index(drop=True).sort_values('education_id',ascending=True)\n",
    "render(education_dict)\n",
    "\n",
    "print('')\n",
    "\n",
    "render('-', 'Формируем справочник','family_status')\n",
    "family_status_dict = data[['family_status','family_status_id']]\n",
    "family_status_dict = family_status_dict.drop_duplicates().reset_index(drop=True).sort_values('family_status_id',ascending=True)\n",
    "render(family_status_dict)"
   ]
  },
  {
   "cell_type": "code",
   "execution_count": 27,
   "id": "6247cfe3",
   "metadata": {
    "hide_input": true
   },
   "outputs": [
    {
     "data": {
      "text/html": [
       "<p class=\"value\" ><code>- Удаляем столбцы \"education\" и \"family_status\"</code></p>"
      ],
      "text/plain": [
       "<IPython.core.display.HTML object>"
      ]
     },
     "metadata": {},
     "output_type": "display_data"
    },
    {
     "data": {
      "text/html": [
       "<style  type=\"text/css\" >\n",
       "</style><table id=\"T_92ee4_\" class=\"table_border position_center_header\"><thead>    <tr>        <th class=\"blank level0\" ></th>        <th class=\"col_heading level0 col0\" >children</th>        <th class=\"col_heading level0 col1\" >days_employed</th>        <th class=\"col_heading level0 col2\" >dob_years</th>        <th class=\"col_heading level0 col3\" >education_id</th>        <th class=\"col_heading level0 col4\" >family_status_id</th>        <th class=\"col_heading level0 col5\" >gender</th>        <th class=\"col_heading level0 col6\" >income_type</th>        <th class=\"col_heading level0 col7\" >debt</th>        <th class=\"col_heading level0 col8\" >total_income</th>        <th class=\"col_heading level0 col9\" >purpose</th>    </tr></thead><tbody>\n",
       "                <tr>\n",
       "                        <th id=\"T_92ee4_level0_row0\" class=\"row_heading level0 row0\" >0</th>\n",
       "                        <td id=\"T_92ee4_row0_col0\" class=\"data row0 col0\" >1</td>\n",
       "                        <td id=\"T_92ee4_row0_col1\" class=\"data row0 col1\" >8437</td>\n",
       "                        <td id=\"T_92ee4_row0_col2\" class=\"data row0 col2\" >42</td>\n",
       "                        <td id=\"T_92ee4_row0_col3\" class=\"data row0 col3\" >0</td>\n",
       "                        <td id=\"T_92ee4_row0_col4\" class=\"data row0 col4\" >0</td>\n",
       "                        <td id=\"T_92ee4_row0_col5\" class=\"data row0 col5\" >F</td>\n",
       "                        <td id=\"T_92ee4_row0_col6\" class=\"data row0 col6\" >сотрудник</td>\n",
       "                        <td id=\"T_92ee4_row0_col7\" class=\"data row0 col7\" >0</td>\n",
       "                        <td id=\"T_92ee4_row0_col8\" class=\"data row0 col8\" >253875</td>\n",
       "                        <td id=\"T_92ee4_row0_col9\" class=\"data row0 col9\" >покупка жилья</td>\n",
       "            </tr>\n",
       "            <tr>\n",
       "                        <th id=\"T_92ee4_level0_row1\" class=\"row_heading level0 row1\" >1</th>\n",
       "                        <td id=\"T_92ee4_row1_col0\" class=\"data row1 col0\" >1</td>\n",
       "                        <td id=\"T_92ee4_row1_col1\" class=\"data row1 col1\" >4024</td>\n",
       "                        <td id=\"T_92ee4_row1_col2\" class=\"data row1 col2\" >36</td>\n",
       "                        <td id=\"T_92ee4_row1_col3\" class=\"data row1 col3\" >1</td>\n",
       "                        <td id=\"T_92ee4_row1_col4\" class=\"data row1 col4\" >0</td>\n",
       "                        <td id=\"T_92ee4_row1_col5\" class=\"data row1 col5\" >F</td>\n",
       "                        <td id=\"T_92ee4_row1_col6\" class=\"data row1 col6\" >сотрудник</td>\n",
       "                        <td id=\"T_92ee4_row1_col7\" class=\"data row1 col7\" >0</td>\n",
       "                        <td id=\"T_92ee4_row1_col8\" class=\"data row1 col8\" >112080</td>\n",
       "                        <td id=\"T_92ee4_row1_col9\" class=\"data row1 col9\" >приобретение автомобиля</td>\n",
       "            </tr>\n",
       "            <tr>\n",
       "                        <th id=\"T_92ee4_level0_row2\" class=\"row_heading level0 row2\" >2</th>\n",
       "                        <td id=\"T_92ee4_row2_col0\" class=\"data row2 col0\" >0</td>\n",
       "                        <td id=\"T_92ee4_row2_col1\" class=\"data row2 col1\" >5623</td>\n",
       "                        <td id=\"T_92ee4_row2_col2\" class=\"data row2 col2\" >33</td>\n",
       "                        <td id=\"T_92ee4_row2_col3\" class=\"data row2 col3\" >1</td>\n",
       "                        <td id=\"T_92ee4_row2_col4\" class=\"data row2 col4\" >0</td>\n",
       "                        <td id=\"T_92ee4_row2_col5\" class=\"data row2 col5\" >M</td>\n",
       "                        <td id=\"T_92ee4_row2_col6\" class=\"data row2 col6\" >сотрудник</td>\n",
       "                        <td id=\"T_92ee4_row2_col7\" class=\"data row2 col7\" >0</td>\n",
       "                        <td id=\"T_92ee4_row2_col8\" class=\"data row2 col8\" >145885</td>\n",
       "                        <td id=\"T_92ee4_row2_col9\" class=\"data row2 col9\" >покупка жилья</td>\n",
       "            </tr>\n",
       "            <tr>\n",
       "                        <th id=\"T_92ee4_level0_row3\" class=\"row_heading level0 row3\" >3</th>\n",
       "                        <td id=\"T_92ee4_row3_col0\" class=\"data row3 col0\" >3</td>\n",
       "                        <td id=\"T_92ee4_row3_col1\" class=\"data row3 col1\" >4124</td>\n",
       "                        <td id=\"T_92ee4_row3_col2\" class=\"data row3 col2\" >32</td>\n",
       "                        <td id=\"T_92ee4_row3_col3\" class=\"data row3 col3\" >1</td>\n",
       "                        <td id=\"T_92ee4_row3_col4\" class=\"data row3 col4\" >0</td>\n",
       "                        <td id=\"T_92ee4_row3_col5\" class=\"data row3 col5\" >M</td>\n",
       "                        <td id=\"T_92ee4_row3_col6\" class=\"data row3 col6\" >сотрудник</td>\n",
       "                        <td id=\"T_92ee4_row3_col7\" class=\"data row3 col7\" >0</td>\n",
       "                        <td id=\"T_92ee4_row3_col8\" class=\"data row3 col8\" >267628</td>\n",
       "                        <td id=\"T_92ee4_row3_col9\" class=\"data row3 col9\" >дополнительное образование</td>\n",
       "            </tr>\n",
       "            <tr>\n",
       "                        <th id=\"T_92ee4_level0_row4\" class=\"row_heading level0 row4\" >4</th>\n",
       "                        <td id=\"T_92ee4_row4_col0\" class=\"data row4 col0\" >0</td>\n",
       "                        <td id=\"T_92ee4_row4_col1\" class=\"data row4 col1\" >340266</td>\n",
       "                        <td id=\"T_92ee4_row4_col2\" class=\"data row4 col2\" >53</td>\n",
       "                        <td id=\"T_92ee4_row4_col3\" class=\"data row4 col3\" >1</td>\n",
       "                        <td id=\"T_92ee4_row4_col4\" class=\"data row4 col4\" >1</td>\n",
       "                        <td id=\"T_92ee4_row4_col5\" class=\"data row4 col5\" >F</td>\n",
       "                        <td id=\"T_92ee4_row4_col6\" class=\"data row4 col6\" >пенсионер</td>\n",
       "                        <td id=\"T_92ee4_row4_col7\" class=\"data row4 col7\" >0</td>\n",
       "                        <td id=\"T_92ee4_row4_col8\" class=\"data row4 col8\" >158616</td>\n",
       "                        <td id=\"T_92ee4_row4_col9\" class=\"data row4 col9\" >сыграть свадьбу</td>\n",
       "            </tr>\n",
       "    </tbody></table>"
      ],
      "text/plain": [
       "<pandas.io.formats.style.Styler at 0x7f76c3d7f460>"
      ]
     },
     "metadata": {},
     "output_type": "display_data"
    }
   ],
   "source": [
    "render('-', 'Удаляем столбцы','\"education\" и \"family_status\"')\n",
    "data = data.drop(['education', 'family_status'], axis=1)\n",
    "\n",
    "render(data.head())"
   ]
  },
  {
   "cell_type": "markdown",
   "id": "e92e9b76",
   "metadata": {},
   "source": [
    "### Шаг 2.6. Категоризация дохода."
   ]
  },
  {
   "cell_type": "code",
   "execution_count": 28,
   "id": "cf1cb527",
   "metadata": {
    "hide_input": true
   },
   "outputs": [
    {
     "data": {
      "text/html": [
       "<p class=\"value\" ><code>- Создадим функцию для указания категории уровня зарплат</code></p>"
      ],
      "text/plain": [
       "<IPython.core.display.HTML object>"
      ]
     },
     "metadata": {},
     "output_type": "display_data"
    },
    {
     "data": {
      "text/html": [
       "<p class=\"value\" ><code>- Создадим столбец \"total_income_category\" для указания категории</code></p>"
      ],
      "text/plain": [
       "<IPython.core.display.HTML object>"
      ]
     },
     "metadata": {},
     "output_type": "display_data"
    },
    {
     "data": {
      "text/html": [
       "<style  type=\"text/css\" >\n",
       "</style><table id=\"T_8afac_\" class=\"table_border position_center\"><thead>    <tr>        <th class=\"blank level0\" ></th>        <th class=\"col_heading level0 col0\" >children</th>        <th class=\"col_heading level0 col1\" >days_employed</th>        <th class=\"col_heading level0 col2\" >dob_years</th>        <th class=\"col_heading level0 col3\" >education_id</th>        <th class=\"col_heading level0 col4\" >family_status_id</th>        <th class=\"col_heading level0 col5\" >gender</th>        <th class=\"col_heading level0 col6\" >income_type</th>        <th class=\"col_heading level0 col7\" >debt</th>        <th class=\"col_heading level0 col8\" >total_income</th>        <th class=\"col_heading level0 col9\" >purpose</th>        <th class=\"col_heading level0 col10\" >total_income_category</th>    </tr></thead><tbody>\n",
       "                <tr>\n",
       "                        <th id=\"T_8afac_level0_row0\" class=\"row_heading level0 row0\" >0</th>\n",
       "                        <td id=\"T_8afac_row0_col0\" class=\"data row0 col0\" >1</td>\n",
       "                        <td id=\"T_8afac_row0_col1\" class=\"data row0 col1\" >8437</td>\n",
       "                        <td id=\"T_8afac_row0_col2\" class=\"data row0 col2\" >42</td>\n",
       "                        <td id=\"T_8afac_row0_col3\" class=\"data row0 col3\" >0</td>\n",
       "                        <td id=\"T_8afac_row0_col4\" class=\"data row0 col4\" >0</td>\n",
       "                        <td id=\"T_8afac_row0_col5\" class=\"data row0 col5\" >F</td>\n",
       "                        <td id=\"T_8afac_row0_col6\" class=\"data row0 col6\" >сотрудник</td>\n",
       "                        <td id=\"T_8afac_row0_col7\" class=\"data row0 col7\" >0</td>\n",
       "                        <td id=\"T_8afac_row0_col8\" class=\"data row0 col8\" >253875</td>\n",
       "                        <td id=\"T_8afac_row0_col9\" class=\"data row0 col9\" >покупка жилья</td>\n",
       "                        <td id=\"T_8afac_row0_col10\" class=\"data row0 col10\" >B</td>\n",
       "            </tr>\n",
       "            <tr>\n",
       "                        <th id=\"T_8afac_level0_row1\" class=\"row_heading level0 row1\" >1</th>\n",
       "                        <td id=\"T_8afac_row1_col0\" class=\"data row1 col0\" >1</td>\n",
       "                        <td id=\"T_8afac_row1_col1\" class=\"data row1 col1\" >4024</td>\n",
       "                        <td id=\"T_8afac_row1_col2\" class=\"data row1 col2\" >36</td>\n",
       "                        <td id=\"T_8afac_row1_col3\" class=\"data row1 col3\" >1</td>\n",
       "                        <td id=\"T_8afac_row1_col4\" class=\"data row1 col4\" >0</td>\n",
       "                        <td id=\"T_8afac_row1_col5\" class=\"data row1 col5\" >F</td>\n",
       "                        <td id=\"T_8afac_row1_col6\" class=\"data row1 col6\" >сотрудник</td>\n",
       "                        <td id=\"T_8afac_row1_col7\" class=\"data row1 col7\" >0</td>\n",
       "                        <td id=\"T_8afac_row1_col8\" class=\"data row1 col8\" >112080</td>\n",
       "                        <td id=\"T_8afac_row1_col9\" class=\"data row1 col9\" >приобретение автомобиля</td>\n",
       "                        <td id=\"T_8afac_row1_col10\" class=\"data row1 col10\" >C</td>\n",
       "            </tr>\n",
       "            <tr>\n",
       "                        <th id=\"T_8afac_level0_row2\" class=\"row_heading level0 row2\" >2</th>\n",
       "                        <td id=\"T_8afac_row2_col0\" class=\"data row2 col0\" >0</td>\n",
       "                        <td id=\"T_8afac_row2_col1\" class=\"data row2 col1\" >5623</td>\n",
       "                        <td id=\"T_8afac_row2_col2\" class=\"data row2 col2\" >33</td>\n",
       "                        <td id=\"T_8afac_row2_col3\" class=\"data row2 col3\" >1</td>\n",
       "                        <td id=\"T_8afac_row2_col4\" class=\"data row2 col4\" >0</td>\n",
       "                        <td id=\"T_8afac_row2_col5\" class=\"data row2 col5\" >M</td>\n",
       "                        <td id=\"T_8afac_row2_col6\" class=\"data row2 col6\" >сотрудник</td>\n",
       "                        <td id=\"T_8afac_row2_col7\" class=\"data row2 col7\" >0</td>\n",
       "                        <td id=\"T_8afac_row2_col8\" class=\"data row2 col8\" >145885</td>\n",
       "                        <td id=\"T_8afac_row2_col9\" class=\"data row2 col9\" >покупка жилья</td>\n",
       "                        <td id=\"T_8afac_row2_col10\" class=\"data row2 col10\" >C</td>\n",
       "            </tr>\n",
       "            <tr>\n",
       "                        <th id=\"T_8afac_level0_row3\" class=\"row_heading level0 row3\" >3</th>\n",
       "                        <td id=\"T_8afac_row3_col0\" class=\"data row3 col0\" >3</td>\n",
       "                        <td id=\"T_8afac_row3_col1\" class=\"data row3 col1\" >4124</td>\n",
       "                        <td id=\"T_8afac_row3_col2\" class=\"data row3 col2\" >32</td>\n",
       "                        <td id=\"T_8afac_row3_col3\" class=\"data row3 col3\" >1</td>\n",
       "                        <td id=\"T_8afac_row3_col4\" class=\"data row3 col4\" >0</td>\n",
       "                        <td id=\"T_8afac_row3_col5\" class=\"data row3 col5\" >M</td>\n",
       "                        <td id=\"T_8afac_row3_col6\" class=\"data row3 col6\" >сотрудник</td>\n",
       "                        <td id=\"T_8afac_row3_col7\" class=\"data row3 col7\" >0</td>\n",
       "                        <td id=\"T_8afac_row3_col8\" class=\"data row3 col8\" >267628</td>\n",
       "                        <td id=\"T_8afac_row3_col9\" class=\"data row3 col9\" >дополнительное образование</td>\n",
       "                        <td id=\"T_8afac_row3_col10\" class=\"data row3 col10\" >B</td>\n",
       "            </tr>\n",
       "            <tr>\n",
       "                        <th id=\"T_8afac_level0_row4\" class=\"row_heading level0 row4\" >4</th>\n",
       "                        <td id=\"T_8afac_row4_col0\" class=\"data row4 col0\" >0</td>\n",
       "                        <td id=\"T_8afac_row4_col1\" class=\"data row4 col1\" >340266</td>\n",
       "                        <td id=\"T_8afac_row4_col2\" class=\"data row4 col2\" >53</td>\n",
       "                        <td id=\"T_8afac_row4_col3\" class=\"data row4 col3\" >1</td>\n",
       "                        <td id=\"T_8afac_row4_col4\" class=\"data row4 col4\" >1</td>\n",
       "                        <td id=\"T_8afac_row4_col5\" class=\"data row4 col5\" >F</td>\n",
       "                        <td id=\"T_8afac_row4_col6\" class=\"data row4 col6\" >пенсионер</td>\n",
       "                        <td id=\"T_8afac_row4_col7\" class=\"data row4 col7\" >0</td>\n",
       "                        <td id=\"T_8afac_row4_col8\" class=\"data row4 col8\" >158616</td>\n",
       "                        <td id=\"T_8afac_row4_col9\" class=\"data row4 col9\" >сыграть свадьбу</td>\n",
       "                        <td id=\"T_8afac_row4_col10\" class=\"data row4 col10\" >C</td>\n",
       "            </tr>\n",
       "            <tr>\n",
       "                        <th id=\"T_8afac_level0_row5\" class=\"row_heading level0 row5\" >5</th>\n",
       "                        <td id=\"T_8afac_row5_col0\" class=\"data row5 col0\" >0</td>\n",
       "                        <td id=\"T_8afac_row5_col1\" class=\"data row5 col1\" >926</td>\n",
       "                        <td id=\"T_8afac_row5_col2\" class=\"data row5 col2\" >27</td>\n",
       "                        <td id=\"T_8afac_row5_col3\" class=\"data row5 col3\" >0</td>\n",
       "                        <td id=\"T_8afac_row5_col4\" class=\"data row5 col4\" >1</td>\n",
       "                        <td id=\"T_8afac_row5_col5\" class=\"data row5 col5\" >M</td>\n",
       "                        <td id=\"T_8afac_row5_col6\" class=\"data row5 col6\" >компаньон</td>\n",
       "                        <td id=\"T_8afac_row5_col7\" class=\"data row5 col7\" >0</td>\n",
       "                        <td id=\"T_8afac_row5_col8\" class=\"data row5 col8\" >255763</td>\n",
       "                        <td id=\"T_8afac_row5_col9\" class=\"data row5 col9\" >покупка жилья</td>\n",
       "                        <td id=\"T_8afac_row5_col10\" class=\"data row5 col10\" >B</td>\n",
       "            </tr>\n",
       "            <tr>\n",
       "                        <th id=\"T_8afac_level0_row6\" class=\"row_heading level0 row6\" >6</th>\n",
       "                        <td id=\"T_8afac_row6_col0\" class=\"data row6 col0\" >0</td>\n",
       "                        <td id=\"T_8afac_row6_col1\" class=\"data row6 col1\" >2879</td>\n",
       "                        <td id=\"T_8afac_row6_col2\" class=\"data row6 col2\" >43</td>\n",
       "                        <td id=\"T_8afac_row6_col3\" class=\"data row6 col3\" >0</td>\n",
       "                        <td id=\"T_8afac_row6_col4\" class=\"data row6 col4\" >0</td>\n",
       "                        <td id=\"T_8afac_row6_col5\" class=\"data row6 col5\" >F</td>\n",
       "                        <td id=\"T_8afac_row6_col6\" class=\"data row6 col6\" >компаньон</td>\n",
       "                        <td id=\"T_8afac_row6_col7\" class=\"data row6 col7\" >0</td>\n",
       "                        <td id=\"T_8afac_row6_col8\" class=\"data row6 col8\" >240525</td>\n",
       "                        <td id=\"T_8afac_row6_col9\" class=\"data row6 col9\" >операции с жильем</td>\n",
       "                        <td id=\"T_8afac_row6_col10\" class=\"data row6 col10\" >B</td>\n",
       "            </tr>\n",
       "            <tr>\n",
       "                        <th id=\"T_8afac_level0_row7\" class=\"row_heading level0 row7\" >7</th>\n",
       "                        <td id=\"T_8afac_row7_col0\" class=\"data row7 col0\" >0</td>\n",
       "                        <td id=\"T_8afac_row7_col1\" class=\"data row7 col1\" >152</td>\n",
       "                        <td id=\"T_8afac_row7_col2\" class=\"data row7 col2\" >50</td>\n",
       "                        <td id=\"T_8afac_row7_col3\" class=\"data row7 col3\" >1</td>\n",
       "                        <td id=\"T_8afac_row7_col4\" class=\"data row7 col4\" >0</td>\n",
       "                        <td id=\"T_8afac_row7_col5\" class=\"data row7 col5\" >M</td>\n",
       "                        <td id=\"T_8afac_row7_col6\" class=\"data row7 col6\" >сотрудник</td>\n",
       "                        <td id=\"T_8afac_row7_col7\" class=\"data row7 col7\" >0</td>\n",
       "                        <td id=\"T_8afac_row7_col8\" class=\"data row7 col8\" >135823</td>\n",
       "                        <td id=\"T_8afac_row7_col9\" class=\"data row7 col9\" >образование</td>\n",
       "                        <td id=\"T_8afac_row7_col10\" class=\"data row7 col10\" >C</td>\n",
       "            </tr>\n",
       "            <tr>\n",
       "                        <th id=\"T_8afac_level0_row8\" class=\"row_heading level0 row8\" >8</th>\n",
       "                        <td id=\"T_8afac_row8_col0\" class=\"data row8 col0\" >2</td>\n",
       "                        <td id=\"T_8afac_row8_col1\" class=\"data row8 col1\" >6929</td>\n",
       "                        <td id=\"T_8afac_row8_col2\" class=\"data row8 col2\" >35</td>\n",
       "                        <td id=\"T_8afac_row8_col3\" class=\"data row8 col3\" >0</td>\n",
       "                        <td id=\"T_8afac_row8_col4\" class=\"data row8 col4\" >1</td>\n",
       "                        <td id=\"T_8afac_row8_col5\" class=\"data row8 col5\" >F</td>\n",
       "                        <td id=\"T_8afac_row8_col6\" class=\"data row8 col6\" >сотрудник</td>\n",
       "                        <td id=\"T_8afac_row8_col7\" class=\"data row8 col7\" >0</td>\n",
       "                        <td id=\"T_8afac_row8_col8\" class=\"data row8 col8\" >95856</td>\n",
       "                        <td id=\"T_8afac_row8_col9\" class=\"data row8 col9\" >на проведение свадьбы</td>\n",
       "                        <td id=\"T_8afac_row8_col10\" class=\"data row8 col10\" >C</td>\n",
       "            </tr>\n",
       "            <tr>\n",
       "                        <th id=\"T_8afac_level0_row9\" class=\"row_heading level0 row9\" >9</th>\n",
       "                        <td id=\"T_8afac_row9_col0\" class=\"data row9 col0\" >0</td>\n",
       "                        <td id=\"T_8afac_row9_col1\" class=\"data row9 col1\" >2188</td>\n",
       "                        <td id=\"T_8afac_row9_col2\" class=\"data row9 col2\" >41</td>\n",
       "                        <td id=\"T_8afac_row9_col3\" class=\"data row9 col3\" >1</td>\n",
       "                        <td id=\"T_8afac_row9_col4\" class=\"data row9 col4\" >0</td>\n",
       "                        <td id=\"T_8afac_row9_col5\" class=\"data row9 col5\" >M</td>\n",
       "                        <td id=\"T_8afac_row9_col6\" class=\"data row9 col6\" >сотрудник</td>\n",
       "                        <td id=\"T_8afac_row9_col7\" class=\"data row9 col7\" >0</td>\n",
       "                        <td id=\"T_8afac_row9_col8\" class=\"data row9 col8\" >144425</td>\n",
       "                        <td id=\"T_8afac_row9_col9\" class=\"data row9 col9\" >покупка жилья для семьи</td>\n",
       "                        <td id=\"T_8afac_row9_col10\" class=\"data row9 col10\" >C</td>\n",
       "            </tr>\n",
       "    </tbody></table>"
      ],
      "text/plain": [
       "<pandas.io.formats.style.Styler at 0x7f76c3e41910>"
      ]
     },
     "metadata": {},
     "output_type": "display_data"
    }
   ],
   "source": [
    "render('-', 'Создадим функцию для указания категории уровня зарплат')\n",
    "\n",
    "def get_category_income(value):\n",
    "    if   0       <= value and value <= 30000    : return 'E'\n",
    "    elif 30001   <= value and value <= 50000    : return 'D'\n",
    "    elif 50001   <= value and value <= 200000   : return 'C'\n",
    "    elif 200001  <= value and value <= 1000000  : return 'B'\n",
    "    elif 1000001 <= value                       : return 'A'\n",
    "    \n",
    "render('-', 'Создадим столбец \"total_income_category\" для указания категории')\n",
    "data['total_income_category'] = data['total_income'].apply(get_category_income)\n",
    "\n",
    "render(data.head(10), position='center')"
   ]
  },
  {
   "cell_type": "markdown",
   "id": "6ae5c966",
   "metadata": {},
   "source": [
    "### Шаг 2.7. Категоризация целей кредита."
   ]
  },
  {
   "cell_type": "code",
   "execution_count": 29,
   "id": "687cd776",
   "metadata": {
    "hide_input": true
   },
   "outputs": [
    {
     "data": {
      "text/html": [
       "<p class=\"value\" ><code>- Создадим функцию для указания категории цели кредита</code></p>"
      ],
      "text/plain": [
       "<IPython.core.display.HTML object>"
      ]
     },
     "metadata": {},
     "output_type": "display_data"
    },
    {
     "data": {
      "text/html": [
       "<p class=\"value\" ><code>- Создадим столбец \"purpose_category\" для указания категории цели кредита</code></p>"
      ],
      "text/plain": [
       "<IPython.core.display.HTML object>"
      ]
     },
     "metadata": {},
     "output_type": "display_data"
    },
    {
     "data": {
      "text/html": [
       "<p class=\"value\" ><code>- Заполняем данными новый столбец</code></p>"
      ],
      "text/plain": [
       "<IPython.core.display.HTML object>"
      ]
     },
     "metadata": {},
     "output_type": "display_data"
    },
    {
     "data": {
      "text/html": [
       "<style  type=\"text/css\" >\n",
       "</style><table id=\"T_09e72_\" class=\"table_border position_center\"><thead>    <tr>        <th class=\"blank level0\" ></th>        <th class=\"col_heading level0 col0\" >income_type</th>        <th class=\"col_heading level0 col1\" >gender</th>        <th class=\"col_heading level0 col2\" >dob_years</th>        <th class=\"col_heading level0 col3\" >days_employed</th>        <th class=\"col_heading level0 col4\" >education_id</th>        <th class=\"col_heading level0 col5\" >family_status_id</th>        <th class=\"col_heading level0 col6\" >children</th>        <th class=\"col_heading level0 col7\" >debt</th>        <th class=\"col_heading level0 col8\" >total_income_category</th>        <th class=\"col_heading level0 col9\" >total_income</th>        <th class=\"col_heading level0 col10\" >purpose_category</th>        <th class=\"col_heading level0 col11\" >purpose</th>    </tr></thead><tbody>\n",
       "                <tr>\n",
       "                        <th id=\"T_09e72_level0_row0\" class=\"row_heading level0 row0\" >0</th>\n",
       "                        <td id=\"T_09e72_row0_col0\" class=\"data row0 col0\" >сотрудник</td>\n",
       "                        <td id=\"T_09e72_row0_col1\" class=\"data row0 col1\" >F</td>\n",
       "                        <td id=\"T_09e72_row0_col2\" class=\"data row0 col2\" >42</td>\n",
       "                        <td id=\"T_09e72_row0_col3\" class=\"data row0 col3\" >8437</td>\n",
       "                        <td id=\"T_09e72_row0_col4\" class=\"data row0 col4\" >0</td>\n",
       "                        <td id=\"T_09e72_row0_col5\" class=\"data row0 col5\" >0</td>\n",
       "                        <td id=\"T_09e72_row0_col6\" class=\"data row0 col6\" >1</td>\n",
       "                        <td id=\"T_09e72_row0_col7\" class=\"data row0 col7\" >0</td>\n",
       "                        <td id=\"T_09e72_row0_col8\" class=\"data row0 col8\" >B</td>\n",
       "                        <td id=\"T_09e72_row0_col9\" class=\"data row0 col9\" >253875</td>\n",
       "                        <td id=\"T_09e72_row0_col10\" class=\"data row0 col10\" >операции с недвижимостью</td>\n",
       "                        <td id=\"T_09e72_row0_col11\" class=\"data row0 col11\" >покупка жилья</td>\n",
       "            </tr>\n",
       "            <tr>\n",
       "                        <th id=\"T_09e72_level0_row1\" class=\"row_heading level0 row1\" >1</th>\n",
       "                        <td id=\"T_09e72_row1_col0\" class=\"data row1 col0\" >сотрудник</td>\n",
       "                        <td id=\"T_09e72_row1_col1\" class=\"data row1 col1\" >F</td>\n",
       "                        <td id=\"T_09e72_row1_col2\" class=\"data row1 col2\" >36</td>\n",
       "                        <td id=\"T_09e72_row1_col3\" class=\"data row1 col3\" >4024</td>\n",
       "                        <td id=\"T_09e72_row1_col4\" class=\"data row1 col4\" >1</td>\n",
       "                        <td id=\"T_09e72_row1_col5\" class=\"data row1 col5\" >0</td>\n",
       "                        <td id=\"T_09e72_row1_col6\" class=\"data row1 col6\" >1</td>\n",
       "                        <td id=\"T_09e72_row1_col7\" class=\"data row1 col7\" >0</td>\n",
       "                        <td id=\"T_09e72_row1_col8\" class=\"data row1 col8\" >C</td>\n",
       "                        <td id=\"T_09e72_row1_col9\" class=\"data row1 col9\" >112080</td>\n",
       "                        <td id=\"T_09e72_row1_col10\" class=\"data row1 col10\" >операции с автомобилем</td>\n",
       "                        <td id=\"T_09e72_row1_col11\" class=\"data row1 col11\" >приобретение автомобиля</td>\n",
       "            </tr>\n",
       "            <tr>\n",
       "                        <th id=\"T_09e72_level0_row2\" class=\"row_heading level0 row2\" >2</th>\n",
       "                        <td id=\"T_09e72_row2_col0\" class=\"data row2 col0\" >сотрудник</td>\n",
       "                        <td id=\"T_09e72_row2_col1\" class=\"data row2 col1\" >M</td>\n",
       "                        <td id=\"T_09e72_row2_col2\" class=\"data row2 col2\" >33</td>\n",
       "                        <td id=\"T_09e72_row2_col3\" class=\"data row2 col3\" >5623</td>\n",
       "                        <td id=\"T_09e72_row2_col4\" class=\"data row2 col4\" >1</td>\n",
       "                        <td id=\"T_09e72_row2_col5\" class=\"data row2 col5\" >0</td>\n",
       "                        <td id=\"T_09e72_row2_col6\" class=\"data row2 col6\" >0</td>\n",
       "                        <td id=\"T_09e72_row2_col7\" class=\"data row2 col7\" >0</td>\n",
       "                        <td id=\"T_09e72_row2_col8\" class=\"data row2 col8\" >C</td>\n",
       "                        <td id=\"T_09e72_row2_col9\" class=\"data row2 col9\" >145885</td>\n",
       "                        <td id=\"T_09e72_row2_col10\" class=\"data row2 col10\" >операции с недвижимостью</td>\n",
       "                        <td id=\"T_09e72_row2_col11\" class=\"data row2 col11\" >покупка жилья</td>\n",
       "            </tr>\n",
       "            <tr>\n",
       "                        <th id=\"T_09e72_level0_row3\" class=\"row_heading level0 row3\" >3</th>\n",
       "                        <td id=\"T_09e72_row3_col0\" class=\"data row3 col0\" >сотрудник</td>\n",
       "                        <td id=\"T_09e72_row3_col1\" class=\"data row3 col1\" >M</td>\n",
       "                        <td id=\"T_09e72_row3_col2\" class=\"data row3 col2\" >32</td>\n",
       "                        <td id=\"T_09e72_row3_col3\" class=\"data row3 col3\" >4124</td>\n",
       "                        <td id=\"T_09e72_row3_col4\" class=\"data row3 col4\" >1</td>\n",
       "                        <td id=\"T_09e72_row3_col5\" class=\"data row3 col5\" >0</td>\n",
       "                        <td id=\"T_09e72_row3_col6\" class=\"data row3 col6\" >3</td>\n",
       "                        <td id=\"T_09e72_row3_col7\" class=\"data row3 col7\" >0</td>\n",
       "                        <td id=\"T_09e72_row3_col8\" class=\"data row3 col8\" >B</td>\n",
       "                        <td id=\"T_09e72_row3_col9\" class=\"data row3 col9\" >267628</td>\n",
       "                        <td id=\"T_09e72_row3_col10\" class=\"data row3 col10\" >получение образования</td>\n",
       "                        <td id=\"T_09e72_row3_col11\" class=\"data row3 col11\" >дополнительное образование</td>\n",
       "            </tr>\n",
       "            <tr>\n",
       "                        <th id=\"T_09e72_level0_row4\" class=\"row_heading level0 row4\" >4</th>\n",
       "                        <td id=\"T_09e72_row4_col0\" class=\"data row4 col0\" >пенсионер</td>\n",
       "                        <td id=\"T_09e72_row4_col1\" class=\"data row4 col1\" >F</td>\n",
       "                        <td id=\"T_09e72_row4_col2\" class=\"data row4 col2\" >53</td>\n",
       "                        <td id=\"T_09e72_row4_col3\" class=\"data row4 col3\" >340266</td>\n",
       "                        <td id=\"T_09e72_row4_col4\" class=\"data row4 col4\" >1</td>\n",
       "                        <td id=\"T_09e72_row4_col5\" class=\"data row4 col5\" >1</td>\n",
       "                        <td id=\"T_09e72_row4_col6\" class=\"data row4 col6\" >0</td>\n",
       "                        <td id=\"T_09e72_row4_col7\" class=\"data row4 col7\" >0</td>\n",
       "                        <td id=\"T_09e72_row4_col8\" class=\"data row4 col8\" >C</td>\n",
       "                        <td id=\"T_09e72_row4_col9\" class=\"data row4 col9\" >158616</td>\n",
       "                        <td id=\"T_09e72_row4_col10\" class=\"data row4 col10\" >проведение свадьбы</td>\n",
       "                        <td id=\"T_09e72_row4_col11\" class=\"data row4 col11\" >сыграть свадьбу</td>\n",
       "            </tr>\n",
       "            <tr>\n",
       "                        <th id=\"T_09e72_level0_row5\" class=\"row_heading level0 row5\" >5</th>\n",
       "                        <td id=\"T_09e72_row5_col0\" class=\"data row5 col0\" >компаньон</td>\n",
       "                        <td id=\"T_09e72_row5_col1\" class=\"data row5 col1\" >M</td>\n",
       "                        <td id=\"T_09e72_row5_col2\" class=\"data row5 col2\" >27</td>\n",
       "                        <td id=\"T_09e72_row5_col3\" class=\"data row5 col3\" >926</td>\n",
       "                        <td id=\"T_09e72_row5_col4\" class=\"data row5 col4\" >0</td>\n",
       "                        <td id=\"T_09e72_row5_col5\" class=\"data row5 col5\" >1</td>\n",
       "                        <td id=\"T_09e72_row5_col6\" class=\"data row5 col6\" >0</td>\n",
       "                        <td id=\"T_09e72_row5_col7\" class=\"data row5 col7\" >0</td>\n",
       "                        <td id=\"T_09e72_row5_col8\" class=\"data row5 col8\" >B</td>\n",
       "                        <td id=\"T_09e72_row5_col9\" class=\"data row5 col9\" >255763</td>\n",
       "                        <td id=\"T_09e72_row5_col10\" class=\"data row5 col10\" >операции с недвижимостью</td>\n",
       "                        <td id=\"T_09e72_row5_col11\" class=\"data row5 col11\" >покупка жилья</td>\n",
       "            </tr>\n",
       "            <tr>\n",
       "                        <th id=\"T_09e72_level0_row6\" class=\"row_heading level0 row6\" >6</th>\n",
       "                        <td id=\"T_09e72_row6_col0\" class=\"data row6 col0\" >компаньон</td>\n",
       "                        <td id=\"T_09e72_row6_col1\" class=\"data row6 col1\" >F</td>\n",
       "                        <td id=\"T_09e72_row6_col2\" class=\"data row6 col2\" >43</td>\n",
       "                        <td id=\"T_09e72_row6_col3\" class=\"data row6 col3\" >2879</td>\n",
       "                        <td id=\"T_09e72_row6_col4\" class=\"data row6 col4\" >0</td>\n",
       "                        <td id=\"T_09e72_row6_col5\" class=\"data row6 col5\" >0</td>\n",
       "                        <td id=\"T_09e72_row6_col6\" class=\"data row6 col6\" >0</td>\n",
       "                        <td id=\"T_09e72_row6_col7\" class=\"data row6 col7\" >0</td>\n",
       "                        <td id=\"T_09e72_row6_col8\" class=\"data row6 col8\" >B</td>\n",
       "                        <td id=\"T_09e72_row6_col9\" class=\"data row6 col9\" >240525</td>\n",
       "                        <td id=\"T_09e72_row6_col10\" class=\"data row6 col10\" >операции с недвижимостью</td>\n",
       "                        <td id=\"T_09e72_row6_col11\" class=\"data row6 col11\" >операции с жильем</td>\n",
       "            </tr>\n",
       "            <tr>\n",
       "                        <th id=\"T_09e72_level0_row7\" class=\"row_heading level0 row7\" >7</th>\n",
       "                        <td id=\"T_09e72_row7_col0\" class=\"data row7 col0\" >сотрудник</td>\n",
       "                        <td id=\"T_09e72_row7_col1\" class=\"data row7 col1\" >M</td>\n",
       "                        <td id=\"T_09e72_row7_col2\" class=\"data row7 col2\" >50</td>\n",
       "                        <td id=\"T_09e72_row7_col3\" class=\"data row7 col3\" >152</td>\n",
       "                        <td id=\"T_09e72_row7_col4\" class=\"data row7 col4\" >1</td>\n",
       "                        <td id=\"T_09e72_row7_col5\" class=\"data row7 col5\" >0</td>\n",
       "                        <td id=\"T_09e72_row7_col6\" class=\"data row7 col6\" >0</td>\n",
       "                        <td id=\"T_09e72_row7_col7\" class=\"data row7 col7\" >0</td>\n",
       "                        <td id=\"T_09e72_row7_col8\" class=\"data row7 col8\" >C</td>\n",
       "                        <td id=\"T_09e72_row7_col9\" class=\"data row7 col9\" >135823</td>\n",
       "                        <td id=\"T_09e72_row7_col10\" class=\"data row7 col10\" >получение образования</td>\n",
       "                        <td id=\"T_09e72_row7_col11\" class=\"data row7 col11\" >образование</td>\n",
       "            </tr>\n",
       "            <tr>\n",
       "                        <th id=\"T_09e72_level0_row8\" class=\"row_heading level0 row8\" >8</th>\n",
       "                        <td id=\"T_09e72_row8_col0\" class=\"data row8 col0\" >сотрудник</td>\n",
       "                        <td id=\"T_09e72_row8_col1\" class=\"data row8 col1\" >F</td>\n",
       "                        <td id=\"T_09e72_row8_col2\" class=\"data row8 col2\" >35</td>\n",
       "                        <td id=\"T_09e72_row8_col3\" class=\"data row8 col3\" >6929</td>\n",
       "                        <td id=\"T_09e72_row8_col4\" class=\"data row8 col4\" >0</td>\n",
       "                        <td id=\"T_09e72_row8_col5\" class=\"data row8 col5\" >1</td>\n",
       "                        <td id=\"T_09e72_row8_col6\" class=\"data row8 col6\" >2</td>\n",
       "                        <td id=\"T_09e72_row8_col7\" class=\"data row8 col7\" >0</td>\n",
       "                        <td id=\"T_09e72_row8_col8\" class=\"data row8 col8\" >C</td>\n",
       "                        <td id=\"T_09e72_row8_col9\" class=\"data row8 col9\" >95856</td>\n",
       "                        <td id=\"T_09e72_row8_col10\" class=\"data row8 col10\" >проведение свадьбы</td>\n",
       "                        <td id=\"T_09e72_row8_col11\" class=\"data row8 col11\" >на проведение свадьбы</td>\n",
       "            </tr>\n",
       "            <tr>\n",
       "                        <th id=\"T_09e72_level0_row9\" class=\"row_heading level0 row9\" >9</th>\n",
       "                        <td id=\"T_09e72_row9_col0\" class=\"data row9 col0\" >сотрудник</td>\n",
       "                        <td id=\"T_09e72_row9_col1\" class=\"data row9 col1\" >M</td>\n",
       "                        <td id=\"T_09e72_row9_col2\" class=\"data row9 col2\" >41</td>\n",
       "                        <td id=\"T_09e72_row9_col3\" class=\"data row9 col3\" >2188</td>\n",
       "                        <td id=\"T_09e72_row9_col4\" class=\"data row9 col4\" >1</td>\n",
       "                        <td id=\"T_09e72_row9_col5\" class=\"data row9 col5\" >0</td>\n",
       "                        <td id=\"T_09e72_row9_col6\" class=\"data row9 col6\" >0</td>\n",
       "                        <td id=\"T_09e72_row9_col7\" class=\"data row9 col7\" >0</td>\n",
       "                        <td id=\"T_09e72_row9_col8\" class=\"data row9 col8\" >C</td>\n",
       "                        <td id=\"T_09e72_row9_col9\" class=\"data row9 col9\" >144425</td>\n",
       "                        <td id=\"T_09e72_row9_col10\" class=\"data row9 col10\" >операции с недвижимостью</td>\n",
       "                        <td id=\"T_09e72_row9_col11\" class=\"data row9 col11\" >покупка жилья для семьи</td>\n",
       "            </tr>\n",
       "    </tbody></table>"
      ],
      "text/plain": [
       "<pandas.io.formats.style.Styler at 0x7f76c3d7fe80>"
      ]
     },
     "metadata": {},
     "output_type": "display_data"
    },
    {
     "data": {
      "text/html": [
       "<style  type=\"text/css\" >\n",
       "</style><table id=\"T_3eb27_\" class=\"table_border position_center\"><thead>    <tr>        <th class=\"blank level0\" ></th>        <th class=\"col_heading level0 col0\" >income_type</th>        <th class=\"col_heading level0 col1\" >gender</th>        <th class=\"col_heading level0 col2\" >dob_years</th>        <th class=\"col_heading level0 col3\" >days_employed</th>        <th class=\"col_heading level0 col4\" >education_id</th>        <th class=\"col_heading level0 col5\" >family_status_id</th>        <th class=\"col_heading level0 col6\" >children</th>        <th class=\"col_heading level0 col7\" >debt</th>        <th class=\"col_heading level0 col8\" >total_income_category</th>        <th class=\"col_heading level0 col9\" >total_income</th>        <th class=\"col_heading level0 col10\" >purpose_category</th>        <th class=\"col_heading level0 col11\" >purpose</th>    </tr></thead><tbody>\n",
       "                <tr>\n",
       "                        <th id=\"T_3eb27_level0_row0\" class=\"row_heading level0 row0\" >21515</th>\n",
       "                        <td id=\"T_3eb27_row0_col0\" class=\"data row0 col0\" >сотрудник</td>\n",
       "                        <td id=\"T_3eb27_row0_col1\" class=\"data row0 col1\" >F</td>\n",
       "                        <td id=\"T_3eb27_row0_col2\" class=\"data row0 col2\" >28</td>\n",
       "                        <td id=\"T_3eb27_row0_col3\" class=\"data row0 col3\" >467</td>\n",
       "                        <td id=\"T_3eb27_row0_col4\" class=\"data row0 col4\" >1</td>\n",
       "                        <td id=\"T_3eb27_row0_col5\" class=\"data row0 col5\" >0</td>\n",
       "                        <td id=\"T_3eb27_row0_col6\" class=\"data row0 col6\" >1</td>\n",
       "                        <td id=\"T_3eb27_row0_col7\" class=\"data row0 col7\" >1</td>\n",
       "                        <td id=\"T_3eb27_row0_col8\" class=\"data row0 col8\" >C</td>\n",
       "                        <td id=\"T_3eb27_row0_col9\" class=\"data row0 col9\" >109486</td>\n",
       "                        <td id=\"T_3eb27_row0_col10\" class=\"data row0 col10\" >получение образования</td>\n",
       "                        <td id=\"T_3eb27_row0_col11\" class=\"data row0 col11\" >заняться образованием</td>\n",
       "            </tr>\n",
       "            <tr>\n",
       "                        <th id=\"T_3eb27_level0_row1\" class=\"row_heading level0 row1\" >21516</th>\n",
       "                        <td id=\"T_3eb27_row1_col0\" class=\"data row1 col0\" >компаньон</td>\n",
       "                        <td id=\"T_3eb27_row1_col1\" class=\"data row1 col1\" >F</td>\n",
       "                        <td id=\"T_3eb27_row1_col2\" class=\"data row1 col2\" >42</td>\n",
       "                        <td id=\"T_3eb27_row1_col3\" class=\"data row1 col3\" >914</td>\n",
       "                        <td id=\"T_3eb27_row1_col4\" class=\"data row1 col4\" >0</td>\n",
       "                        <td id=\"T_3eb27_row1_col5\" class=\"data row1 col5\" >0</td>\n",
       "                        <td id=\"T_3eb27_row1_col6\" class=\"data row1 col6\" >0</td>\n",
       "                        <td id=\"T_3eb27_row1_col7\" class=\"data row1 col7\" >0</td>\n",
       "                        <td id=\"T_3eb27_row1_col8\" class=\"data row1 col8\" >B</td>\n",
       "                        <td id=\"T_3eb27_row1_col9\" class=\"data row1 col9\" >322807</td>\n",
       "                        <td id=\"T_3eb27_row1_col10\" class=\"data row1 col10\" >операции с недвижимостью</td>\n",
       "                        <td id=\"T_3eb27_row1_col11\" class=\"data row1 col11\" >покупка своего жилья</td>\n",
       "            </tr>\n",
       "            <tr>\n",
       "                        <th id=\"T_3eb27_level0_row2\" class=\"row_heading level0 row2\" >21517</th>\n",
       "                        <td id=\"T_3eb27_row2_col0\" class=\"data row2 col0\" >компаньон</td>\n",
       "                        <td id=\"T_3eb27_row2_col1\" class=\"data row2 col1\" >F</td>\n",
       "                        <td id=\"T_3eb27_row2_col2\" class=\"data row2 col2\" >42</td>\n",
       "                        <td id=\"T_3eb27_row2_col3\" class=\"data row2 col3\" >404</td>\n",
       "                        <td id=\"T_3eb27_row2_col4\" class=\"data row2 col4\" >0</td>\n",
       "                        <td id=\"T_3eb27_row2_col5\" class=\"data row2 col5\" >1</td>\n",
       "                        <td id=\"T_3eb27_row2_col6\" class=\"data row2 col6\" >0</td>\n",
       "                        <td id=\"T_3eb27_row2_col7\" class=\"data row2 col7\" >0</td>\n",
       "                        <td id=\"T_3eb27_row2_col8\" class=\"data row2 col8\" >C</td>\n",
       "                        <td id=\"T_3eb27_row2_col9\" class=\"data row2 col9\" >178059</td>\n",
       "                        <td id=\"T_3eb27_row2_col10\" class=\"data row2 col10\" >операции с автомобилем</td>\n",
       "                        <td id=\"T_3eb27_row2_col11\" class=\"data row2 col11\" >на покупку своего автомобиля</td>\n",
       "            </tr>\n",
       "            <tr>\n",
       "                        <th id=\"T_3eb27_level0_row3\" class=\"row_heading level0 row3\" >21518</th>\n",
       "                        <td id=\"T_3eb27_row3_col0\" class=\"data row3 col0\" >пенсионер</td>\n",
       "                        <td id=\"T_3eb27_row3_col1\" class=\"data row3 col1\" >F</td>\n",
       "                        <td id=\"T_3eb27_row3_col2\" class=\"data row3 col2\" >59</td>\n",
       "                        <td id=\"T_3eb27_row3_col3\" class=\"data row3 col3\" >373995</td>\n",
       "                        <td id=\"T_3eb27_row3_col4\" class=\"data row3 col4\" >1</td>\n",
       "                        <td id=\"T_3eb27_row3_col5\" class=\"data row3 col5\" >0</td>\n",
       "                        <td id=\"T_3eb27_row3_col6\" class=\"data row3 col6\" >0</td>\n",
       "                        <td id=\"T_3eb27_row3_col7\" class=\"data row3 col7\" >0</td>\n",
       "                        <td id=\"T_3eb27_row3_col8\" class=\"data row3 col8\" >C</td>\n",
       "                        <td id=\"T_3eb27_row3_col9\" class=\"data row3 col9\" >153864</td>\n",
       "                        <td id=\"T_3eb27_row3_col10\" class=\"data row3 col10\" >операции с автомобилем</td>\n",
       "                        <td id=\"T_3eb27_row3_col11\" class=\"data row3 col11\" >сделка с автомобилем</td>\n",
       "            </tr>\n",
       "            <tr>\n",
       "                        <th id=\"T_3eb27_level0_row4\" class=\"row_heading level0 row4\" >21519</th>\n",
       "                        <td id=\"T_3eb27_row4_col0\" class=\"data row4 col0\" >сотрудник</td>\n",
       "                        <td id=\"T_3eb27_row4_col1\" class=\"data row4 col1\" >M</td>\n",
       "                        <td id=\"T_3eb27_row4_col2\" class=\"data row4 col2\" >37</td>\n",
       "                        <td id=\"T_3eb27_row4_col3\" class=\"data row4 col3\" >2351</td>\n",
       "                        <td id=\"T_3eb27_row4_col4\" class=\"data row4 col4\" >4</td>\n",
       "                        <td id=\"T_3eb27_row4_col5\" class=\"data row4 col5\" >3</td>\n",
       "                        <td id=\"T_3eb27_row4_col6\" class=\"data row4 col6\" >1</td>\n",
       "                        <td id=\"T_3eb27_row4_col7\" class=\"data row4 col7\" >0</td>\n",
       "                        <td id=\"T_3eb27_row4_col8\" class=\"data row4 col8\" >C</td>\n",
       "                        <td id=\"T_3eb27_row4_col9\" class=\"data row4 col9\" >115949</td>\n",
       "                        <td id=\"T_3eb27_row4_col10\" class=\"data row4 col10\" >операции с недвижимостью</td>\n",
       "                        <td id=\"T_3eb27_row4_col11\" class=\"data row4 col11\" >покупка коммерческой недвижимости</td>\n",
       "            </tr>\n",
       "            <tr>\n",
       "                        <th id=\"T_3eb27_level0_row5\" class=\"row_heading level0 row5\" >21520</th>\n",
       "                        <td id=\"T_3eb27_row5_col0\" class=\"data row5 col0\" >компаньон</td>\n",
       "                        <td id=\"T_3eb27_row5_col1\" class=\"data row5 col1\" >F</td>\n",
       "                        <td id=\"T_3eb27_row5_col2\" class=\"data row5 col2\" >43</td>\n",
       "                        <td id=\"T_3eb27_row5_col3\" class=\"data row5 col3\" >4529</td>\n",
       "                        <td id=\"T_3eb27_row5_col4\" class=\"data row5 col4\" >1</td>\n",
       "                        <td id=\"T_3eb27_row5_col5\" class=\"data row5 col5\" >1</td>\n",
       "                        <td id=\"T_3eb27_row5_col6\" class=\"data row5 col6\" >1</td>\n",
       "                        <td id=\"T_3eb27_row5_col7\" class=\"data row5 col7\" >0</td>\n",
       "                        <td id=\"T_3eb27_row5_col8\" class=\"data row5 col8\" >B</td>\n",
       "                        <td id=\"T_3eb27_row5_col9\" class=\"data row5 col9\" >224791</td>\n",
       "                        <td id=\"T_3eb27_row5_col10\" class=\"data row5 col10\" >операции с недвижимостью</td>\n",
       "                        <td id=\"T_3eb27_row5_col11\" class=\"data row5 col11\" >операции с жильем</td>\n",
       "            </tr>\n",
       "            <tr>\n",
       "                        <th id=\"T_3eb27_level0_row6\" class=\"row_heading level0 row6\" >21521</th>\n",
       "                        <td id=\"T_3eb27_row6_col0\" class=\"data row6 col0\" >пенсионер</td>\n",
       "                        <td id=\"T_3eb27_row6_col1\" class=\"data row6 col1\" >F</td>\n",
       "                        <td id=\"T_3eb27_row6_col2\" class=\"data row6 col2\" >67</td>\n",
       "                        <td id=\"T_3eb27_row6_col3\" class=\"data row6 col3\" >343937</td>\n",
       "                        <td id=\"T_3eb27_row6_col4\" class=\"data row6 col4\" >1</td>\n",
       "                        <td id=\"T_3eb27_row6_col5\" class=\"data row6 col5\" >0</td>\n",
       "                        <td id=\"T_3eb27_row6_col6\" class=\"data row6 col6\" >0</td>\n",
       "                        <td id=\"T_3eb27_row6_col7\" class=\"data row6 col7\" >0</td>\n",
       "                        <td id=\"T_3eb27_row6_col8\" class=\"data row6 col8\" >C</td>\n",
       "                        <td id=\"T_3eb27_row6_col9\" class=\"data row6 col9\" >155999</td>\n",
       "                        <td id=\"T_3eb27_row6_col10\" class=\"data row6 col10\" >операции с автомобилем</td>\n",
       "                        <td id=\"T_3eb27_row6_col11\" class=\"data row6 col11\" >сделка с автомобилем</td>\n",
       "            </tr>\n",
       "            <tr>\n",
       "                        <th id=\"T_3eb27_level0_row7\" class=\"row_heading level0 row7\" >21522</th>\n",
       "                        <td id=\"T_3eb27_row7_col0\" class=\"data row7 col0\" >сотрудник</td>\n",
       "                        <td id=\"T_3eb27_row7_col1\" class=\"data row7 col1\" >M</td>\n",
       "                        <td id=\"T_3eb27_row7_col2\" class=\"data row7 col2\" >38</td>\n",
       "                        <td id=\"T_3eb27_row7_col3\" class=\"data row7 col3\" >2113</td>\n",
       "                        <td id=\"T_3eb27_row7_col4\" class=\"data row7 col4\" >1</td>\n",
       "                        <td id=\"T_3eb27_row7_col5\" class=\"data row7 col5\" >1</td>\n",
       "                        <td id=\"T_3eb27_row7_col6\" class=\"data row7 col6\" >1</td>\n",
       "                        <td id=\"T_3eb27_row7_col7\" class=\"data row7 col7\" >1</td>\n",
       "                        <td id=\"T_3eb27_row7_col8\" class=\"data row7 col8\" >C</td>\n",
       "                        <td id=\"T_3eb27_row7_col9\" class=\"data row7 col9\" >89672</td>\n",
       "                        <td id=\"T_3eb27_row7_col10\" class=\"data row7 col10\" >операции с недвижимостью</td>\n",
       "                        <td id=\"T_3eb27_row7_col11\" class=\"data row7 col11\" >недвижимость</td>\n",
       "            </tr>\n",
       "            <tr>\n",
       "                        <th id=\"T_3eb27_level0_row8\" class=\"row_heading level0 row8\" >21523</th>\n",
       "                        <td id=\"T_3eb27_row8_col0\" class=\"data row8 col0\" >сотрудник</td>\n",
       "                        <td id=\"T_3eb27_row8_col1\" class=\"data row8 col1\" >M</td>\n",
       "                        <td id=\"T_3eb27_row8_col2\" class=\"data row8 col2\" >38</td>\n",
       "                        <td id=\"T_3eb27_row8_col3\" class=\"data row8 col3\" >3112</td>\n",
       "                        <td id=\"T_3eb27_row8_col4\" class=\"data row8 col4\" >1</td>\n",
       "                        <td id=\"T_3eb27_row8_col5\" class=\"data row8 col5\" >0</td>\n",
       "                        <td id=\"T_3eb27_row8_col6\" class=\"data row8 col6\" >3</td>\n",
       "                        <td id=\"T_3eb27_row8_col7\" class=\"data row8 col7\" >1</td>\n",
       "                        <td id=\"T_3eb27_row8_col8\" class=\"data row8 col8\" >B</td>\n",
       "                        <td id=\"T_3eb27_row8_col9\" class=\"data row8 col9\" >244093</td>\n",
       "                        <td id=\"T_3eb27_row8_col10\" class=\"data row8 col10\" >операции с автомобилем</td>\n",
       "                        <td id=\"T_3eb27_row8_col11\" class=\"data row8 col11\" >на покупку своего автомобиля</td>\n",
       "            </tr>\n",
       "            <tr>\n",
       "                        <th id=\"T_3eb27_level0_row9\" class=\"row_heading level0 row9\" >21524</th>\n",
       "                        <td id=\"T_3eb27_row9_col0\" class=\"data row9 col0\" >сотрудник</td>\n",
       "                        <td id=\"T_3eb27_row9_col1\" class=\"data row9 col1\" >F</td>\n",
       "                        <td id=\"T_3eb27_row9_col2\" class=\"data row9 col2\" >40</td>\n",
       "                        <td id=\"T_3eb27_row9_col3\" class=\"data row9 col3\" >1984</td>\n",
       "                        <td id=\"T_3eb27_row9_col4\" class=\"data row9 col4\" >1</td>\n",
       "                        <td id=\"T_3eb27_row9_col5\" class=\"data row9 col5\" >0</td>\n",
       "                        <td id=\"T_3eb27_row9_col6\" class=\"data row9 col6\" >2</td>\n",
       "                        <td id=\"T_3eb27_row9_col7\" class=\"data row9 col7\" >0</td>\n",
       "                        <td id=\"T_3eb27_row9_col8\" class=\"data row9 col8\" >C</td>\n",
       "                        <td id=\"T_3eb27_row9_col9\" class=\"data row9 col9\" >82047</td>\n",
       "                        <td id=\"T_3eb27_row9_col10\" class=\"data row9 col10\" >операции с автомобилем</td>\n",
       "                        <td id=\"T_3eb27_row9_col11\" class=\"data row9 col11\" >на покупку автомобиля</td>\n",
       "            </tr>\n",
       "    </tbody></table>"
      ],
      "text/plain": [
       "<pandas.io.formats.style.Styler at 0x7f76c37b5f10>"
      ]
     },
     "metadata": {},
     "output_type": "display_data"
    }
   ],
   "source": [
    "render('-', 'Создадим функцию для указания категории цели кредита')\n",
    "\n",
    "def get_category_purpose(category_name, purpose_dict):\n",
    "    for type_purpose in purpose_dict:\n",
    "        for key_of_purpose in purpose_dict[type_purpose]:\n",
    "            if key_of_purpose in category_name:\n",
    "                return type_purpose\n",
    "\n",
    "\n",
    "\n",
    "#Создадим справочник ключевых слов, характерезующих цель кредита\n",
    "purpose_dict = {}\n",
    "purpose_dict['операции с автомобилем'  ] = ['автомоб']\n",
    "purpose_dict['операции с недвижимостью'] = ['недвиж', 'жиль']\n",
    "purpose_dict['проведение свадьбы'      ] = ['свадьб']\n",
    "purpose_dict['получение образования'   ] = ['образов']\n",
    "\n",
    "\n",
    "\n",
    "render('-', 'Создадим столбец \"purpose_category\" для указания категории цели кредита')\n",
    "data['purpose_category'] = None\n",
    "\n",
    "\n",
    "\n",
    "render('-', 'Заполняем данными новый столбец')\n",
    "data['purpose_category'] = data['purpose'].apply(get_category_purpose, purpose_dict=purpose_dict)\n",
    "\n",
    "\n",
    "#Поменяем местами столбцы\n",
    "data = data.reindex([\n",
    "    'income_type', \n",
    "    'gender',\n",
    "    'dob_years',\n",
    "    'days_employed',\n",
    "    'education_id',\n",
    "    'family_status_id',\n",
    "    'children',\n",
    "    'debt',\n",
    "    'total_income_category',\n",
    "    'total_income',\n",
    "    'purpose_category',\n",
    "    'purpose'\n",
    "], axis=1)\n",
    "\n",
    "render(data.head(10), position='center')\n",
    "render(data.tail(10), position='center')"
   ]
  },
  {
   "cell_type": "markdown",
   "id": "01abb9cb",
   "metadata": {},
   "source": [
    "*__Проверим, есть ли пропуски в столбце <b>\"purpose_category\"</b>__*"
   ]
  },
  {
   "cell_type": "code",
   "execution_count": 30,
   "id": "3d5aa63e",
   "metadata": {
    "hide_input": true
   },
   "outputs": [
    {
     "data": {
      "text/html": [
       "<style  type=\"text/css\" >\n",
       "</style><table id=\"T_6bcc6_\" class=\"table_border position_center_header\"><thead>    <tr>        <th class=\"blank level0\" ></th>        <th class=\"col_heading level0 col0\" >Категория</th>        <th class=\"col_heading level0 col1\" >Количество</th>    </tr></thead><tbody>\n",
       "                <tr>\n",
       "                        <th id=\"T_6bcc6_level0_row0\" class=\"row_heading level0 row0\" >1</th>\n",
       "                        <td id=\"T_6bcc6_row0_col0\" class=\"data row0 col0\" >операции с автомобилем</td>\n",
       "                        <td id=\"T_6bcc6_row0_col1\" class=\"data row0 col1\" >4306</td>\n",
       "            </tr>\n",
       "            <tr>\n",
       "                        <th id=\"T_6bcc6_level0_row1\" class=\"row_heading level0 row1\" >0</th>\n",
       "                        <td id=\"T_6bcc6_row1_col0\" class=\"data row1 col0\" >операции с недвижимостью</td>\n",
       "                        <td id=\"T_6bcc6_row1_col1\" class=\"data row1 col1\" >10811</td>\n",
       "            </tr>\n",
       "            <tr>\n",
       "                        <th id=\"T_6bcc6_level0_row2\" class=\"row_heading level0 row2\" >2</th>\n",
       "                        <td id=\"T_6bcc6_row2_col0\" class=\"data row2 col0\" >получение образования</td>\n",
       "                        <td id=\"T_6bcc6_row2_col1\" class=\"data row2 col1\" >4013</td>\n",
       "            </tr>\n",
       "            <tr>\n",
       "                        <th id=\"T_6bcc6_level0_row3\" class=\"row_heading level0 row3\" >3</th>\n",
       "                        <td id=\"T_6bcc6_row3_col0\" class=\"data row3 col0\" >проведение свадьбы</td>\n",
       "                        <td id=\"T_6bcc6_row3_col1\" class=\"data row3 col1\" >2324</td>\n",
       "            </tr>\n",
       "    </tbody></table>"
      ],
      "text/plain": [
       "<pandas.io.formats.style.Styler at 0x7f76c37a93d0>"
      ]
     },
     "metadata": {},
     "output_type": "display_data"
    }
   ],
   "source": [
    "purpose_category_df = data['purpose_category'].value_counts().rename_axis('Категория').reset_index(name='Количество')\n",
    "render(purpose_category_df.sort_values('Категория',ascending=True))"
   ]
  },
  {
   "cell_type": "markdown",
   "id": "ba222e2a",
   "metadata": {},
   "source": [
    "**Отлично!**\n",
    "\n",
    "**Все строки заполненны.**\n",
    "\n",
    "**Пустых значений не осталось**"
   ]
  },
  {
   "cell_type": "markdown",
   "id": "53b72ae3",
   "metadata": {},
   "source": [
    "### Ответы на вопросы."
   ]
  },
  {
   "cell_type": "markdown",
   "id": "572d4ec8",
   "metadata": {},
   "source": [
    "##### Вопрос 1: __*Есть ли зависимость между количеством детей и возвратом кредита в срок?*__"
   ]
  },
  {
   "cell_type": "markdown",
   "id": "da9fc991",
   "metadata": {},
   "source": [
    "##### Вывод 1: "
   ]
  },
  {
   "cell_type": "code",
   "execution_count": 31,
   "id": "afd592b9",
   "metadata": {
    "hide_input": true
   },
   "outputs": [
    {
     "data": {
      "text/html": [
       "<style  type=\"text/css\" >\n",
       "</style><table id=\"T_bbb06_\" class=\"table_border border_display position_center\"><thead>    <tr>        <th class=\"blank level0\" ></th>        <th class=\"col_heading level0 col0\" >count_children</th>        <th class=\"col_heading level0 col1\" >sum_children</th>        <th class=\"col_heading level0 col2\" >result_children</th>    </tr>    <tr>        <th class=\"index_name level0\" >children</th>        <th class=\"blank\" ></th>        <th class=\"blank\" ></th>        <th class=\"blank\" ></th>    </tr></thead><tbody>\n",
       "                <tr>\n",
       "                        <th id=\"T_bbb06_level0_row0\" class=\"row_heading level0 row0\" >4</th>\n",
       "                        <td id=\"T_bbb06_row0_col0\" class=\"data row0 col0\" >41</td>\n",
       "                        <td id=\"T_bbb06_row0_col1\" class=\"data row0 col1\" >4</td>\n",
       "                        <td id=\"T_bbb06_row0_col2\" class=\"data row0 col2\" >0.097561</td>\n",
       "            </tr>\n",
       "            <tr>\n",
       "                        <th id=\"T_bbb06_level0_row1\" class=\"row_heading level0 row1\" >2</th>\n",
       "                        <td id=\"T_bbb06_row1_col0\" class=\"data row1 col0\" >2052</td>\n",
       "                        <td id=\"T_bbb06_row1_col1\" class=\"data row1 col1\" >194</td>\n",
       "                        <td id=\"T_bbb06_row1_col2\" class=\"data row1 col2\" >0.094542</td>\n",
       "            </tr>\n",
       "            <tr>\n",
       "                        <th id=\"T_bbb06_level0_row2\" class=\"row_heading level0 row2\" >1</th>\n",
       "                        <td id=\"T_bbb06_row2_col0\" class=\"data row2 col0\" >4855</td>\n",
       "                        <td id=\"T_bbb06_row2_col1\" class=\"data row2 col1\" >445</td>\n",
       "                        <td id=\"T_bbb06_row2_col2\" class=\"data row2 col2\" >0.091658</td>\n",
       "            </tr>\n",
       "            <tr>\n",
       "                        <th id=\"T_bbb06_level0_row3\" class=\"row_heading level0 row3\" >3</th>\n",
       "                        <td id=\"T_bbb06_row3_col0\" class=\"data row3 col0\" >330</td>\n",
       "                        <td id=\"T_bbb06_row3_col1\" class=\"data row3 col1\" >27</td>\n",
       "                        <td id=\"T_bbb06_row3_col2\" class=\"data row3 col2\" >0.081818</td>\n",
       "            </tr>\n",
       "            <tr>\n",
       "                        <th id=\"T_bbb06_level0_row4\" class=\"row_heading level0 row4\" >0</th>\n",
       "                        <td id=\"T_bbb06_row4_col0\" class=\"data row4 col0\" >14167</td>\n",
       "                        <td id=\"T_bbb06_row4_col1\" class=\"data row4 col1\" >1071</td>\n",
       "                        <td id=\"T_bbb06_row4_col2\" class=\"data row4 col2\" >0.075598</td>\n",
       "            </tr>\n",
       "            <tr>\n",
       "                        <th id=\"T_bbb06_level0_row5\" class=\"row_heading level0 row5\" >5</th>\n",
       "                        <td id=\"T_bbb06_row5_col0\" class=\"data row5 col0\" >9</td>\n",
       "                        <td id=\"T_bbb06_row5_col1\" class=\"data row5 col1\" >0</td>\n",
       "                        <td id=\"T_bbb06_row5_col2\" class=\"data row5 col2\" >0.000000</td>\n",
       "            </tr>\n",
       "    </tbody></table>"
      ],
      "text/plain": [
       "<pandas.io.formats.style.Styler at 0x7f76c37a1490>"
      ]
     },
     "metadata": {},
     "output_type": "display_data"
    }
   ],
   "source": [
    "debt_of_children = pd.DataFrame()\n",
    "debt_of_children['count_children'] = data.groupby('children')['debt'].count()\n",
    "debt_of_children['sum_children'] = data.groupby('children')['debt'].sum()\n",
    "debt_of_children['result_children'] = debt_of_children['sum_children'] / debt_of_children['count_children'] \n",
    "render(debt_of_children.sort_values('result_children', ascending = False), position='center', border='d')"
   ]
  },
  {
   "cell_type": "markdown",
   "id": "3638161c",
   "metadata": {},
   "source": [
    "*__-Семьи без детей реже просрачивают платеж<br>\n",
    "-Чем больше количество детей, тем своевременная оплата платежа становится реже<br>\n",
    "-Из отчета видно, что несмотря на позицию в отчете, семьи с 3 детьми платят чаще, чем с одним<br>__*"
   ]
  },
  {
   "cell_type": "markdown",
   "id": "9d6266a6",
   "metadata": {},
   "source": [
    "##### Вопрос 2: __*Есть ли зависимость между семейным положением и возвратом кредита в срок?*__"
   ]
  },
  {
   "cell_type": "markdown",
   "id": "b51fda6d",
   "metadata": {},
   "source": [
    "##### Вывод 2: "
   ]
  },
  {
   "cell_type": "code",
   "execution_count": 32,
   "id": "9a1edfea",
   "metadata": {
    "hide_input": true
   },
   "outputs": [
    {
     "data": {
      "text/html": [
       "<style  type=\"text/css\" >\n",
       "</style><table id=\"T_8b1b5_\" class=\"table_border border_display position_center\"><thead>    <tr>        <th class=\"blank level0\" ></th>        <th class=\"col_heading level0 col0\" >family_status</th>        <th class=\"col_heading level0 col1\" >count_family_status</th>        <th class=\"col_heading level0 col2\" >sum_family_status</th>        <th class=\"col_heading level0 col3\" >result_family_status</th>    </tr></thead><tbody>\n",
       "                <tr>\n",
       "                        <th id=\"T_8b1b5_level0_row0\" class=\"row_heading level0 row0\" >0</th>\n",
       "                        <td id=\"T_8b1b5_row0_col0\" class=\"data row0 col0\" >не женат / не замужем</td>\n",
       "                        <td id=\"T_8b1b5_row0_col1\" class=\"data row0 col1\" >2810</td>\n",
       "                        <td id=\"T_8b1b5_row0_col2\" class=\"data row0 col2\" >274</td>\n",
       "                        <td id=\"T_8b1b5_row0_col3\" class=\"data row0 col3\" >0.097509</td>\n",
       "            </tr>\n",
       "            <tr>\n",
       "                        <th id=\"T_8b1b5_level0_row1\" class=\"row_heading level0 row1\" >1</th>\n",
       "                        <td id=\"T_8b1b5_row1_col0\" class=\"data row1 col0\" >гражданский брак</td>\n",
       "                        <td id=\"T_8b1b5_row1_col1\" class=\"data row1 col1\" >4151</td>\n",
       "                        <td id=\"T_8b1b5_row1_col2\" class=\"data row1 col2\" >388</td>\n",
       "                        <td id=\"T_8b1b5_row1_col3\" class=\"data row1 col3\" >0.093471</td>\n",
       "            </tr>\n",
       "            <tr>\n",
       "                        <th id=\"T_8b1b5_level0_row2\" class=\"row_heading level0 row2\" >2</th>\n",
       "                        <td id=\"T_8b1b5_row2_col0\" class=\"data row2 col0\" >женат / замужем</td>\n",
       "                        <td id=\"T_8b1b5_row2_col1\" class=\"data row2 col1\" >12339</td>\n",
       "                        <td id=\"T_8b1b5_row2_col2\" class=\"data row2 col2\" >931</td>\n",
       "                        <td id=\"T_8b1b5_row2_col3\" class=\"data row2 col3\" >0.075452</td>\n",
       "            </tr>\n",
       "            <tr>\n",
       "                        <th id=\"T_8b1b5_level0_row3\" class=\"row_heading level0 row3\" >3</th>\n",
       "                        <td id=\"T_8b1b5_row3_col0\" class=\"data row3 col0\" >в разводе</td>\n",
       "                        <td id=\"T_8b1b5_row3_col1\" class=\"data row3 col1\" >1195</td>\n",
       "                        <td id=\"T_8b1b5_row3_col2\" class=\"data row3 col2\" >85</td>\n",
       "                        <td id=\"T_8b1b5_row3_col3\" class=\"data row3 col3\" >0.071130</td>\n",
       "            </tr>\n",
       "            <tr>\n",
       "                        <th id=\"T_8b1b5_level0_row4\" class=\"row_heading level0 row4\" >4</th>\n",
       "                        <td id=\"T_8b1b5_row4_col0\" class=\"data row4 col0\" >вдовец / вдова</td>\n",
       "                        <td id=\"T_8b1b5_row4_col1\" class=\"data row4 col1\" >959</td>\n",
       "                        <td id=\"T_8b1b5_row4_col2\" class=\"data row4 col2\" >63</td>\n",
       "                        <td id=\"T_8b1b5_row4_col3\" class=\"data row4 col3\" >0.065693</td>\n",
       "            </tr>\n",
       "    </tbody></table>"
      ],
      "text/plain": [
       "<pandas.io.formats.style.Styler at 0x7f76c37a4610>"
      ]
     },
     "metadata": {},
     "output_type": "display_data"
    }
   ],
   "source": [
    "debt_of_family_status = pd.DataFrame()\n",
    "debt_of_family_status['count_family_status'] = data.groupby('family_status_id')['debt'].count()\n",
    "debt_of_family_status['sum_family_status'] = data.groupby('family_status_id')['debt'].sum()\n",
    "debt_of_family_status['result_family_status'] = debt_of_family_status['sum_family_status'] / debt_of_family_status['count_family_status']\n",
    "debt_of_family_status = debt_of_family_status.sort_values('result_family_status', ascending = False)\n",
    "\n",
    "debt_of_family_status_final = debt_of_family_status.merge(family_status_dict, on='family_status_id')\n",
    "\n",
    "debt_of_family_status_final.drop(columns = ['family_status_id'],axis = 1)\n",
    "\n",
    "debt_of_family_status_final = debt_of_family_status_final.reindex([\n",
    "    'family_status', \n",
    "    'count_family_status',\n",
    "    'sum_family_status',\n",
    "    'result_family_status'\n",
    "    ''\n",
    "], axis=1)\n",
    "\n",
    "\n",
    "render(debt_of_family_status_final, position='center', border='d')"
   ]
  },
  {
   "cell_type": "markdown",
   "id": "584186e6",
   "metadata": {},
   "source": [
    "*__-Люди в статусе `не женат / не замужем` и `гражданский брак` имеют самый большой процент невозврата<br>\n",
    "-Люди в статусе `вдовец / вдова` и `в разводе` платят чаще, чем люди в браке__*"
   ]
  },
  {
   "cell_type": "markdown",
   "id": "e2ca65ab",
   "metadata": {},
   "source": [
    "##### Вопрос 3: __*Есть ли зависимость между уровнем дохода и возвратом кредита в срок?*__"
   ]
  },
  {
   "cell_type": "markdown",
   "id": "ec570338",
   "metadata": {},
   "source": [
    "##### Вывод 3: "
   ]
  },
  {
   "cell_type": "code",
   "execution_count": 33,
   "id": "d5cba0ea",
   "metadata": {
    "hide_input": true
   },
   "outputs": [
    {
     "data": {
      "text/html": [
       "<style  type=\"text/css\" >\n",
       "</style><table id=\"T_318c3_\" class=\"table_border border_display position_center\"><thead>    <tr>        <th class=\"blank level0\" ></th>        <th class=\"col_heading level0 col0\" >count_income</th>        <th class=\"col_heading level0 col1\" >sum_income</th>        <th class=\"col_heading level0 col2\" >result_income</th>    </tr>    <tr>        <th class=\"index_name level0\" >total_income_category</th>        <th class=\"blank\" ></th>        <th class=\"blank\" ></th>        <th class=\"blank\" ></th>    </tr></thead><tbody>\n",
       "                <tr>\n",
       "                        <th id=\"T_318c3_level0_row0\" class=\"row_heading level0 row0\" >E</th>\n",
       "                        <td id=\"T_318c3_row0_col0\" class=\"data row0 col0\" >22</td>\n",
       "                        <td id=\"T_318c3_row0_col1\" class=\"data row0 col1\" >2</td>\n",
       "                        <td id=\"T_318c3_row0_col2\" class=\"data row0 col2\" >0.090909</td>\n",
       "            </tr>\n",
       "            <tr>\n",
       "                        <th id=\"T_318c3_level0_row1\" class=\"row_heading level0 row1\" >C</th>\n",
       "                        <td id=\"T_318c3_row1_col0\" class=\"data row1 col0\" >16016</td>\n",
       "                        <td id=\"T_318c3_row1_col1\" class=\"data row1 col1\" >1360</td>\n",
       "                        <td id=\"T_318c3_row1_col2\" class=\"data row1 col2\" >0.084915</td>\n",
       "            </tr>\n",
       "            <tr>\n",
       "                        <th id=\"T_318c3_level0_row2\" class=\"row_heading level0 row2\" >A</th>\n",
       "                        <td id=\"T_318c3_row2_col0\" class=\"data row2 col0\" >25</td>\n",
       "                        <td id=\"T_318c3_row2_col1\" class=\"data row2 col1\" >2</td>\n",
       "                        <td id=\"T_318c3_row2_col2\" class=\"data row2 col2\" >0.080000</td>\n",
       "            </tr>\n",
       "            <tr>\n",
       "                        <th id=\"T_318c3_level0_row3\" class=\"row_heading level0 row3\" >B</th>\n",
       "                        <td id=\"T_318c3_row3_col0\" class=\"data row3 col0\" >5041</td>\n",
       "                        <td id=\"T_318c3_row3_col1\" class=\"data row3 col1\" >356</td>\n",
       "                        <td id=\"T_318c3_row3_col2\" class=\"data row3 col2\" >0.070621</td>\n",
       "            </tr>\n",
       "            <tr>\n",
       "                        <th id=\"T_318c3_level0_row4\" class=\"row_heading level0 row4\" >D</th>\n",
       "                        <td id=\"T_318c3_row4_col0\" class=\"data row4 col0\" >350</td>\n",
       "                        <td id=\"T_318c3_row4_col1\" class=\"data row4 col1\" >21</td>\n",
       "                        <td id=\"T_318c3_row4_col2\" class=\"data row4 col2\" >0.060000</td>\n",
       "            </tr>\n",
       "    </tbody></table>"
      ],
      "text/plain": [
       "<pandas.io.formats.style.Styler at 0x7f76c37b5d00>"
      ]
     },
     "metadata": {},
     "output_type": "display_data"
    }
   ],
   "source": [
    "debt_of_income = pd.DataFrame()\n",
    "debt_of_income['count_income'] = data.groupby('total_income_category')['debt'].count()\n",
    "debt_of_income['sum_income'] = data.groupby('total_income_category')['debt'].sum()\n",
    "debt_of_income['result_income'] = debt_of_income['sum_income'] / debt_of_income['count_income']\n",
    "debt_of_income = debt_of_income.sort_values('result_income', ascending = False)\n",
    "\n",
    "\n",
    "render(debt_of_income, position='center', border='d')"
   ]
  },
  {
   "cell_type": "markdown",
   "id": "823c71b3",
   "metadata": {},
   "source": [
    "`Напомним значения категорий:`\n",
    "- 'E' 0–30000\n",
    "- 'D' 30001–50000\n",
    "- 'C' 50001–200000\n",
    "- 'B' 200001–1000000\n",
    "- 'A' 1000001 и выше\n",
    "\n",
    "*__Согласно отчета зависимости уровня зарплат к погашению кредита нет. С одной стороны вроде логично, что на первом месте люди с низкой зарплатой. Но на 2 и 3 месте люди с средней и самой высокой зарплатой соотвественно. Таким образом можно утверждать, что `зависимости уровня дохода к погашению кредита - нет`__*"
   ]
  },
  {
   "cell_type": "markdown",
   "id": "178773e8",
   "metadata": {},
   "source": [
    "##### Вопрос 4: __*Как разные цели кредита влияют на его возврат в срок?*__"
   ]
  },
  {
   "cell_type": "markdown",
   "id": "937676ed",
   "metadata": {},
   "source": [
    "##### Вывод 4: "
   ]
  },
  {
   "cell_type": "code",
   "execution_count": 34,
   "id": "bf420975",
   "metadata": {
    "hide_input": true
   },
   "outputs": [
    {
     "data": {
      "text/html": [
       "<style  type=\"text/css\" >\n",
       "</style><table id=\"T_27d0a_\" class=\"table_border border_display position_center\"><thead>    <tr>        <th class=\"blank level0\" ></th>        <th class=\"col_heading level0 col0\" >count_purpose</th>        <th class=\"col_heading level0 col1\" >sum_purpose</th>        <th class=\"col_heading level0 col2\" >result_purpose</th>    </tr>    <tr>        <th class=\"index_name level0\" >purpose_category</th>        <th class=\"blank\" ></th>        <th class=\"blank\" ></th>        <th class=\"blank\" ></th>    </tr></thead><tbody>\n",
       "                <tr>\n",
       "                        <th id=\"T_27d0a_level0_row0\" class=\"row_heading level0 row0\" >операции с автомобилем</th>\n",
       "                        <td id=\"T_27d0a_row0_col0\" class=\"data row0 col0\" >4306</td>\n",
       "                        <td id=\"T_27d0a_row0_col1\" class=\"data row0 col1\" >403</td>\n",
       "                        <td id=\"T_27d0a_row0_col2\" class=\"data row0 col2\" >0.093590</td>\n",
       "            </tr>\n",
       "            <tr>\n",
       "                        <th id=\"T_27d0a_level0_row1\" class=\"row_heading level0 row1\" >получение образования</th>\n",
       "                        <td id=\"T_27d0a_row1_col0\" class=\"data row1 col0\" >4013</td>\n",
       "                        <td id=\"T_27d0a_row1_col1\" class=\"data row1 col1\" >370</td>\n",
       "                        <td id=\"T_27d0a_row1_col2\" class=\"data row1 col2\" >0.092200</td>\n",
       "            </tr>\n",
       "            <tr>\n",
       "                        <th id=\"T_27d0a_level0_row2\" class=\"row_heading level0 row2\" >проведение свадьбы</th>\n",
       "                        <td id=\"T_27d0a_row2_col0\" class=\"data row2 col0\" >2324</td>\n",
       "                        <td id=\"T_27d0a_row2_col1\" class=\"data row2 col1\" >186</td>\n",
       "                        <td id=\"T_27d0a_row2_col2\" class=\"data row2 col2\" >0.080034</td>\n",
       "            </tr>\n",
       "            <tr>\n",
       "                        <th id=\"T_27d0a_level0_row3\" class=\"row_heading level0 row3\" >операции с недвижимостью</th>\n",
       "                        <td id=\"T_27d0a_row3_col0\" class=\"data row3 col0\" >10811</td>\n",
       "                        <td id=\"T_27d0a_row3_col1\" class=\"data row3 col1\" >782</td>\n",
       "                        <td id=\"T_27d0a_row3_col2\" class=\"data row3 col2\" >0.072334</td>\n",
       "            </tr>\n",
       "    </tbody></table>"
      ],
      "text/plain": [
       "<pandas.io.formats.style.Styler at 0x7f76c379e610>"
      ]
     },
     "metadata": {},
     "output_type": "display_data"
    }
   ],
   "source": [
    "debt_of_purpose = pd.DataFrame()\n",
    "debt_of_purpose['count_purpose'] = data.groupby('purpose_category')['debt'].count()\n",
    "debt_of_purpose['sum_purpose'] = data.groupby('purpose_category')['debt'].sum()\n",
    "debt_of_purpose['result_purpose'] = debt_of_purpose['sum_purpose'] / debt_of_purpose['count_purpose']\n",
    "debt_of_purpose = debt_of_purpose.sort_values('result_purpose', ascending = False)\n",
    "\n",
    "\n",
    "render(debt_of_purpose, position='center', border='d')"
   ]
  },
  {
   "cell_type": "markdown",
   "id": "f0e2aca2",
   "metadata": {},
   "source": [
    "*__-Чаще всего вовремя платят кредит на недвижимость и на проведение свадьбы<br>\n",
    "-А вот кредит на автомобиль и образование - самые не стабильные категории в плане возврата кредита в срок__*"
   ]
  },
  {
   "cell_type": "markdown",
   "id": "9f792bf0",
   "metadata": {},
   "source": [
    "## Общий вывод:"
   ]
  },
  {
   "cell_type": "markdown",
   "id": "a488c00e",
   "metadata": {},
   "source": [
    "*Хотелось бы подитожить следующими заключениями:*<br>\n",
    "__*Семьи в разводе платят чаще, чем те, кто не был в браке. Но при этом Люди, которые овдовели платят чаще, чем в браке*__<br>\n",
    "*__Чем меньше детей, тем чаще платят в срок, но при этом, чем больше детей, тем чаще забывают оплатить вовремя__*<br>\n",
    "__*Уровень зарплаты не влияет на просрочку кредита*__<br>\n",
    "*__Люди чаще берут кредит на атомобиль и на образование и забывают платить вовремя__*<br>\n",
    "\n",
    "\n",
    "\n",
    "**Тем самым мы можем утверждать, что семейное положение сильно влияет на оплату кредита вовремя!**"
   ]
  }
 ],
 "metadata": {
  "ExecuteTimeLog": [
   {
    "duration": 104,
    "start_time": "2022-04-15T21:31:00.942Z"
   },
   {
    "duration": 686,
    "start_time": "2022-04-15T21:31:22.516Z"
   },
   {
    "duration": 31,
    "start_time": "2022-04-15T21:32:53.037Z"
   },
   {
    "duration": 117,
    "start_time": "2022-04-15T21:33:13.967Z"
   },
   {
    "duration": 29,
    "start_time": "2022-04-15T21:33:51.119Z"
   },
   {
    "duration": 4,
    "start_time": "2022-04-15T21:34:04.576Z"
   },
   {
    "duration": 48,
    "start_time": "2022-04-15T21:34:10.010Z"
   },
   {
    "duration": 67,
    "start_time": "2022-04-15T21:34:19.137Z"
   },
   {
    "duration": 34,
    "start_time": "2022-04-15T21:53:44.909Z"
   },
   {
    "duration": 128,
    "start_time": "2022-04-15T22:03:12.472Z"
   },
   {
    "duration": 7429,
    "start_time": "2022-04-15T22:05:10.632Z"
   },
   {
    "duration": 229,
    "start_time": "2022-04-15T22:05:31.837Z"
   },
   {
    "duration": 169,
    "start_time": "2022-04-15T22:05:54.383Z"
   },
   {
    "duration": 198,
    "start_time": "2022-04-15T22:06:04.711Z"
   },
   {
    "duration": 219,
    "start_time": "2022-04-15T22:06:27.832Z"
   },
   {
    "duration": 187,
    "start_time": "2022-04-15T22:11:53.306Z"
   },
   {
    "duration": 175,
    "start_time": "2022-04-15T22:13:06.272Z"
   },
   {
    "duration": 152,
    "start_time": "2022-04-15T22:15:13.231Z"
   },
   {
    "duration": 4,
    "start_time": "2022-04-15T22:16:17.145Z"
   },
   {
    "duration": 205,
    "start_time": "2022-04-15T22:16:30.664Z"
   },
   {
    "duration": 217,
    "start_time": "2022-04-15T22:17:56.282Z"
   },
   {
    "duration": 2564,
    "start_time": "2022-04-15T22:19:20.014Z"
   },
   {
    "duration": 176,
    "start_time": "2022-04-15T22:19:45.415Z"
   },
   {
    "duration": 204,
    "start_time": "2022-04-15T22:35:39.213Z"
   },
   {
    "duration": 38,
    "start_time": "2022-04-16T05:26:01.588Z"
   },
   {
    "duration": 45,
    "start_time": "2022-04-16T05:34:31.897Z"
   },
   {
    "duration": 40,
    "start_time": "2022-04-16T05:38:50.869Z"
   },
   {
    "duration": 422,
    "start_time": "2022-04-16T05:59:13.257Z"
   },
   {
    "duration": 30,
    "start_time": "2022-04-16T05:59:25.049Z"
   },
   {
    "duration": 97,
    "start_time": "2022-04-16T06:10:06.640Z"
   },
   {
    "duration": 1000,
    "start_time": "2022-04-16T06:10:13.273Z"
   },
   {
    "duration": 247,
    "start_time": "2022-04-16T06:15:07.416Z"
   },
   {
    "duration": 216,
    "start_time": "2022-04-16T06:18:55.838Z"
   },
   {
    "duration": 245,
    "start_time": "2022-04-16T06:19:29.928Z"
   },
   {
    "duration": 220,
    "start_time": "2022-04-16T06:21:58.740Z"
   },
   {
    "duration": 132,
    "start_time": "2022-04-16T06:22:19.142Z"
   },
   {
    "duration": 93,
    "start_time": "2022-04-16T06:25:16.156Z"
   },
   {
    "duration": 154,
    "start_time": "2022-04-16T06:25:25.412Z"
   },
   {
    "duration": 184,
    "start_time": "2022-04-16T06:26:35.428Z"
   },
   {
    "duration": 192,
    "start_time": "2022-04-16T06:35:28.657Z"
   },
   {
    "duration": 501,
    "start_time": "2022-04-16T06:37:20.423Z"
   },
   {
    "duration": 771,
    "start_time": "2022-04-16T06:37:27.537Z"
   },
   {
    "duration": 229,
    "start_time": "2022-04-16T06:38:12.073Z"
   },
   {
    "duration": 361,
    "start_time": "2022-04-16T06:43:08.603Z"
   },
   {
    "duration": 845,
    "start_time": "2022-04-16T06:43:12.541Z"
   },
   {
    "duration": 30,
    "start_time": "2022-04-16T06:43:51.755Z"
   },
   {
    "duration": 195,
    "start_time": "2022-04-16T06:43:54.674Z"
   },
   {
    "duration": 401,
    "start_time": "2022-04-16T06:45:06.224Z"
   },
   {
    "duration": 801,
    "start_time": "2022-04-16T06:45:09.314Z"
   },
   {
    "duration": 601,
    "start_time": "2022-04-16T06:46:28.448Z"
   },
   {
    "duration": 755,
    "start_time": "2022-04-16T06:46:32.065Z"
   },
   {
    "duration": 175,
    "start_time": "2022-04-16T06:46:42.321Z"
   },
   {
    "duration": 351,
    "start_time": "2022-04-16T06:47:47.617Z"
   },
   {
    "duration": 774,
    "start_time": "2022-04-16T06:47:50.959Z"
   },
   {
    "duration": 175,
    "start_time": "2022-04-16T06:53:36.169Z"
   },
   {
    "duration": 322,
    "start_time": "2022-04-16T06:53:56.606Z"
   },
   {
    "duration": 902,
    "start_time": "2022-04-16T06:53:59.911Z"
   },
   {
    "duration": 343,
    "start_time": "2022-04-16T06:57:40.089Z"
   },
   {
    "duration": 890,
    "start_time": "2022-04-16T06:57:42.429Z"
   },
   {
    "duration": 413,
    "start_time": "2022-04-16T06:59:42.201Z"
   },
   {
    "duration": 820,
    "start_time": "2022-04-16T06:59:45.107Z"
   },
   {
    "duration": 2657,
    "start_time": "2022-04-16T07:01:18.092Z"
   },
   {
    "duration": 160,
    "start_time": "2022-04-16T07:02:15.590Z"
   },
   {
    "duration": 148,
    "start_time": "2022-04-16T07:02:58.675Z"
   },
   {
    "duration": 212,
    "start_time": "2022-04-16T07:12:43.140Z"
   },
   {
    "duration": 220,
    "start_time": "2022-04-16T07:12:59.517Z"
   },
   {
    "duration": 201,
    "start_time": "2022-04-16T07:13:07.441Z"
   },
   {
    "duration": 146,
    "start_time": "2022-04-16T07:13:34.177Z"
   },
   {
    "duration": 139,
    "start_time": "2022-04-16T07:14:08.892Z"
   },
   {
    "duration": 181,
    "start_time": "2022-04-16T07:15:39.866Z"
   },
   {
    "duration": 174,
    "start_time": "2022-04-16T07:15:58.465Z"
   },
   {
    "duration": 432,
    "start_time": "2022-04-16T07:20:19.531Z"
   },
   {
    "duration": 893,
    "start_time": "2022-04-16T07:20:21.715Z"
   },
   {
    "duration": 31,
    "start_time": "2022-04-16T07:22:09.755Z"
   },
   {
    "duration": 155,
    "start_time": "2022-04-16T07:22:12.956Z"
   },
   {
    "duration": 158,
    "start_time": "2022-04-16T07:22:32.132Z"
   },
   {
    "duration": 175,
    "start_time": "2022-04-16T07:22:42.722Z"
   },
   {
    "duration": 140,
    "start_time": "2022-04-16T07:22:49.156Z"
   },
   {
    "duration": 152,
    "start_time": "2022-04-16T07:22:55.107Z"
   },
   {
    "duration": 212,
    "start_time": "2022-04-16T07:23:03.283Z"
   },
   {
    "duration": 141,
    "start_time": "2022-04-16T07:23:09.172Z"
   },
   {
    "duration": 145,
    "start_time": "2022-04-16T07:39:25.720Z"
   },
   {
    "duration": 167,
    "start_time": "2022-04-16T07:40:15.463Z"
   },
   {
    "duration": 419,
    "start_time": "2022-04-16T07:41:04.786Z"
   },
   {
    "duration": 1013,
    "start_time": "2022-04-16T07:41:07.827Z"
   },
   {
    "duration": 382,
    "start_time": "2022-04-16T07:41:57.214Z"
   },
   {
    "duration": 958,
    "start_time": "2022-04-16T07:41:59.335Z"
   },
   {
    "duration": 224,
    "start_time": "2022-04-16T07:42:39.121Z"
   },
   {
    "duration": 138,
    "start_time": "2022-04-16T07:43:33.908Z"
   },
   {
    "duration": 379,
    "start_time": "2022-04-16T07:47:16.683Z"
   },
   {
    "duration": 97,
    "start_time": "2022-04-16T07:47:19.748Z"
   },
   {
    "duration": 896,
    "start_time": "2022-04-16T07:47:33.891Z"
   },
   {
    "duration": 155,
    "start_time": "2022-04-16T07:48:13.068Z"
   },
   {
    "duration": 120,
    "start_time": "2022-04-16T07:48:51.627Z"
   },
   {
    "duration": 372,
    "start_time": "2022-04-16T07:50:44.234Z"
   },
   {
    "duration": 846,
    "start_time": "2022-04-16T07:50:47.758Z"
   },
   {
    "duration": 165,
    "start_time": "2022-04-16T07:51:43.297Z"
   },
   {
    "duration": 138,
    "start_time": "2022-04-16T07:52:41.469Z"
   },
   {
    "duration": 132,
    "start_time": "2022-04-16T07:53:10.571Z"
   },
   {
    "duration": 146,
    "start_time": "2022-04-16T07:53:21.827Z"
   },
   {
    "duration": 382,
    "start_time": "2022-04-16T07:59:17.934Z"
   },
   {
    "duration": 863,
    "start_time": "2022-04-16T07:59:22.529Z"
   },
   {
    "duration": 401,
    "start_time": "2022-04-16T08:05:14.376Z"
   },
   {
    "duration": 792,
    "start_time": "2022-04-16T08:05:17.764Z"
   },
   {
    "duration": 355,
    "start_time": "2022-04-16T08:08:34.722Z"
   },
   {
    "duration": 846,
    "start_time": "2022-04-16T08:08:38.391Z"
   },
   {
    "duration": 441,
    "start_time": "2022-04-16T08:09:10.781Z"
   },
   {
    "duration": 902,
    "start_time": "2022-04-16T08:09:14.587Z"
   },
   {
    "duration": 157,
    "start_time": "2022-04-16T08:10:49.157Z"
   },
   {
    "duration": 430,
    "start_time": "2022-04-16T08:13:21.613Z"
   },
   {
    "duration": 870,
    "start_time": "2022-04-16T08:13:24.831Z"
   },
   {
    "duration": 227,
    "start_time": "2022-04-16T08:14:05.920Z"
   },
   {
    "duration": 160,
    "start_time": "2022-04-16T08:21:19.799Z"
   },
   {
    "duration": 417,
    "start_time": "2022-04-16T08:21:54.326Z"
   },
   {
    "duration": 866,
    "start_time": "2022-04-16T08:21:56.795Z"
   },
   {
    "duration": 541,
    "start_time": "2022-04-16T08:23:15.051Z"
   },
   {
    "duration": 915,
    "start_time": "2022-04-16T08:23:17.977Z"
   },
   {
    "duration": 238,
    "start_time": "2022-04-16T09:12:46.414Z"
   },
   {
    "duration": 172,
    "start_time": "2022-04-16T09:14:50.547Z"
   },
   {
    "duration": 469,
    "start_time": "2022-04-16T09:15:27.564Z"
   },
   {
    "duration": 1149,
    "start_time": "2022-04-16T09:15:30.439Z"
   },
   {
    "duration": 33,
    "start_time": "2022-04-16T09:19:39.285Z"
   },
   {
    "duration": 395,
    "start_time": "2022-04-16T09:19:46.139Z"
   },
   {
    "duration": 1049,
    "start_time": "2022-04-16T09:19:48.156Z"
   },
   {
    "duration": 380,
    "start_time": "2022-04-16T09:21:37.937Z"
   },
   {
    "duration": 1161,
    "start_time": "2022-04-16T09:21:39.763Z"
   },
   {
    "duration": 580,
    "start_time": "2022-04-16T09:22:53.565Z"
   },
   {
    "duration": 924,
    "start_time": "2022-04-16T09:22:55.959Z"
   },
   {
    "duration": 152,
    "start_time": "2022-04-16T09:23:40.310Z"
   },
   {
    "duration": 472,
    "start_time": "2022-04-16T09:28:11.315Z"
   },
   {
    "duration": 1037,
    "start_time": "2022-04-16T09:28:15.106Z"
   },
   {
    "duration": 423,
    "start_time": "2022-04-16T09:29:56.859Z"
   },
   {
    "duration": 1060,
    "start_time": "2022-04-16T09:29:59.111Z"
   },
   {
    "duration": 384,
    "start_time": "2022-04-16T09:40:17.608Z"
   },
   {
    "duration": 1054,
    "start_time": "2022-04-16T09:40:20.690Z"
   },
   {
    "duration": 489,
    "start_time": "2022-04-16T10:36:31.081Z"
   },
   {
    "duration": 1005,
    "start_time": "2022-04-16T10:36:34.300Z"
   },
   {
    "duration": 425,
    "start_time": "2022-04-16T10:39:17.185Z"
   },
   {
    "duration": 848,
    "start_time": "2022-04-16T10:39:20.329Z"
   },
   {
    "duration": 368,
    "start_time": "2022-04-16T10:42:22.890Z"
   },
   {
    "duration": 962,
    "start_time": "2022-04-16T10:42:25.947Z"
   },
   {
    "duration": 404,
    "start_time": "2022-04-16T10:43:47.264Z"
   },
   {
    "duration": 908,
    "start_time": "2022-04-16T10:43:49.846Z"
   },
   {
    "duration": 177,
    "start_time": "2022-04-16T10:44:09.848Z"
   },
   {
    "duration": 157,
    "start_time": "2022-04-16T10:44:15.739Z"
   },
   {
    "duration": 159,
    "start_time": "2022-04-16T10:44:21.536Z"
   },
   {
    "duration": 157,
    "start_time": "2022-04-16T10:44:33.892Z"
   },
   {
    "duration": 168,
    "start_time": "2022-04-16T10:44:44.086Z"
   },
   {
    "duration": 201,
    "start_time": "2022-04-16T10:45:00.269Z"
   },
   {
    "duration": 191,
    "start_time": "2022-04-16T10:45:46.206Z"
   },
   {
    "duration": 1169,
    "start_time": "2022-04-16T10:46:02.479Z"
   },
   {
    "duration": 443,
    "start_time": "2022-04-16T10:49:30.795Z"
   },
   {
    "duration": 810,
    "start_time": "2022-04-16T10:49:34.147Z"
   },
   {
    "duration": 350,
    "start_time": "2022-04-16T10:50:52.480Z"
   },
   {
    "duration": 800,
    "start_time": "2022-04-16T10:50:55.459Z"
   },
   {
    "duration": 418,
    "start_time": "2022-04-16T10:52:00.059Z"
   },
   {
    "duration": 857,
    "start_time": "2022-04-16T10:52:04.236Z"
   },
   {
    "duration": 252,
    "start_time": "2022-04-16T10:52:33.693Z"
   },
   {
    "duration": 188,
    "start_time": "2022-04-16T10:53:20.683Z"
   },
   {
    "duration": 150,
    "start_time": "2022-04-16T10:53:48.627Z"
   },
   {
    "duration": 258,
    "start_time": "2022-04-16T10:54:36.855Z"
   },
   {
    "duration": 165,
    "start_time": "2022-04-16T10:55:22.398Z"
   },
   {
    "duration": 170,
    "start_time": "2022-04-16T10:55:44.069Z"
   },
   {
    "duration": 147,
    "start_time": "2022-04-16T10:56:05.271Z"
   },
   {
    "duration": 334,
    "start_time": "2022-04-16T10:57:02.843Z"
   },
   {
    "duration": 2542,
    "start_time": "2022-04-16T10:57:05.432Z"
   },
   {
    "duration": 210,
    "start_time": "2022-04-16T10:57:50.283Z"
   },
   {
    "duration": 409,
    "start_time": "2022-04-16T11:01:03.274Z"
   },
   {
    "duration": 928,
    "start_time": "2022-04-16T11:01:05.757Z"
   },
   {
    "duration": 154,
    "start_time": "2022-04-16T11:03:05.239Z"
   },
   {
    "duration": 371,
    "start_time": "2022-04-16T11:03:25.525Z"
   },
   {
    "duration": 947,
    "start_time": "2022-04-16T11:03:27.999Z"
   },
   {
    "duration": 339,
    "start_time": "2022-04-16T11:05:07.350Z"
   },
   {
    "duration": 986,
    "start_time": "2022-04-16T11:05:10.197Z"
   },
   {
    "duration": 438,
    "start_time": "2022-04-16T11:06:05.151Z"
   },
   {
    "duration": 882,
    "start_time": "2022-04-16T11:06:07.620Z"
   },
   {
    "duration": 210,
    "start_time": "2022-04-16T11:06:21.131Z"
   },
   {
    "duration": 186,
    "start_time": "2022-04-16T11:06:52.864Z"
   },
   {
    "duration": 217,
    "start_time": "2022-04-16T11:11:20.111Z"
   },
   {
    "duration": 407,
    "start_time": "2022-04-16T11:13:43.628Z"
   },
   {
    "duration": 910,
    "start_time": "2022-04-16T11:13:47.334Z"
   },
   {
    "duration": 1026,
    "start_time": "2022-04-16T11:15:00.495Z"
   },
   {
    "duration": 889,
    "start_time": "2022-04-16T11:15:03.681Z"
   },
   {
    "duration": 220,
    "start_time": "2022-04-16T11:16:19.402Z"
   },
   {
    "duration": 401,
    "start_time": "2022-04-16T11:17:53.753Z"
   },
   {
    "duration": 215,
    "start_time": "2022-04-16T11:18:48.923Z"
   },
   {
    "duration": 192,
    "start_time": "2022-04-16T11:19:30.570Z"
   },
   {
    "duration": 221,
    "start_time": "2022-04-16T11:19:59.932Z"
   },
   {
    "duration": 499,
    "start_time": "2022-04-16T11:26:43.729Z"
   },
   {
    "duration": 910,
    "start_time": "2022-04-16T11:26:45.671Z"
   },
   {
    "duration": 386,
    "start_time": "2022-04-16T11:33:14.776Z"
   },
   {
    "duration": 967,
    "start_time": "2022-04-16T11:33:17.644Z"
   },
   {
    "duration": 401,
    "start_time": "2022-04-16T11:41:12.969Z"
   },
   {
    "duration": 968,
    "start_time": "2022-04-16T11:41:16.155Z"
   },
   {
    "duration": 350,
    "start_time": "2022-04-16T11:42:55.934Z"
   },
   {
    "duration": 932,
    "start_time": "2022-04-16T11:43:00.030Z"
   },
   {
    "duration": 256,
    "start_time": "2022-04-16T11:43:10.298Z"
   },
   {
    "duration": 29,
    "start_time": "2022-04-16T11:43:36.503Z"
   },
   {
    "duration": 179,
    "start_time": "2022-04-16T11:43:39.746Z"
   },
   {
    "duration": 31,
    "start_time": "2022-04-16T11:46:05.839Z"
   },
   {
    "duration": 192,
    "start_time": "2022-04-16T11:46:08.476Z"
   },
   {
    "duration": 255,
    "start_time": "2022-04-16T11:51:02.613Z"
   },
   {
    "duration": 293,
    "start_time": "2022-04-16T11:51:16.291Z"
   },
   {
    "duration": 189,
    "start_time": "2022-04-16T11:51:26.170Z"
   },
   {
    "duration": 151,
    "start_time": "2022-04-16T11:51:53.764Z"
   },
   {
    "duration": 171,
    "start_time": "2022-04-16T11:52:01.225Z"
   },
   {
    "duration": 169,
    "start_time": "2022-04-16T11:52:12.370Z"
   },
   {
    "duration": 87,
    "start_time": "2022-04-16T11:54:12.948Z"
   },
   {
    "duration": 905,
    "start_time": "2022-04-16T11:54:18.330Z"
   },
   {
    "duration": 386,
    "start_time": "2022-04-16T11:58:28.819Z"
   },
   {
    "duration": 819,
    "start_time": "2022-04-16T11:58:31.879Z"
   },
   {
    "duration": 458,
    "start_time": "2022-04-16T12:00:07.345Z"
   },
   {
    "duration": 989,
    "start_time": "2022-04-16T12:00:08.994Z"
   },
   {
    "duration": 1138,
    "start_time": "2022-04-16T12:03:09.740Z"
   },
   {
    "duration": 876,
    "start_time": "2022-04-16T12:03:14.144Z"
   },
   {
    "duration": 466,
    "start_time": "2022-04-16T12:29:34.374Z"
   },
   {
    "duration": 957,
    "start_time": "2022-04-16T12:29:38.468Z"
   },
   {
    "duration": 336,
    "start_time": "2022-04-16T12:31:35.827Z"
   },
   {
    "duration": 948,
    "start_time": "2022-04-16T12:31:38.292Z"
   },
   {
    "duration": 532,
    "start_time": "2022-04-16T12:39:59.152Z"
   },
   {
    "duration": 1031,
    "start_time": "2022-04-16T12:40:01.913Z"
   },
   {
    "duration": 400,
    "start_time": "2022-04-16T12:41:16.323Z"
   },
   {
    "duration": 914,
    "start_time": "2022-04-16T12:41:18.522Z"
   },
   {
    "duration": 473,
    "start_time": "2022-04-16T13:49:05.692Z"
   },
   {
    "duration": 929,
    "start_time": "2022-04-16T13:49:09.048Z"
   },
   {
    "duration": 160,
    "start_time": "2022-04-16T13:52:31.078Z"
   },
   {
    "duration": 320,
    "start_time": "2022-04-16T13:52:53.171Z"
   },
   {
    "duration": 878,
    "start_time": "2022-04-16T13:52:56.298Z"
   },
   {
    "duration": 390,
    "start_time": "2022-04-16T13:54:40.883Z"
   },
   {
    "duration": 965,
    "start_time": "2022-04-16T13:54:43.602Z"
   },
   {
    "duration": 389,
    "start_time": "2022-04-16T13:57:41.425Z"
   },
   {
    "duration": 957,
    "start_time": "2022-04-16T13:57:43.589Z"
   },
   {
    "duration": 456,
    "start_time": "2022-04-16T13:59:44.976Z"
   },
   {
    "duration": 891,
    "start_time": "2022-04-16T13:59:47.525Z"
   },
   {
    "duration": 158,
    "start_time": "2022-04-16T14:05:56.794Z"
   },
   {
    "duration": 378,
    "start_time": "2022-04-16T14:06:32.754Z"
   },
   {
    "duration": 937,
    "start_time": "2022-04-16T14:06:35.886Z"
   },
   {
    "duration": 430,
    "start_time": "2022-04-16T14:18:06.431Z"
   },
   {
    "duration": 854,
    "start_time": "2022-04-16T14:18:09.420Z"
   },
   {
    "duration": 214,
    "start_time": "2022-04-16T14:20:04.747Z"
   },
   {
    "duration": 443,
    "start_time": "2022-04-16T14:37:30.761Z"
   },
   {
    "duration": 933,
    "start_time": "2022-04-16T14:37:34.247Z"
   },
   {
    "duration": 502,
    "start_time": "2022-04-16T15:20:19.869Z"
   },
   {
    "duration": 1016,
    "start_time": "2022-04-16T15:20:22.706Z"
   },
   {
    "duration": 358,
    "start_time": "2022-04-16T15:24:23.025Z"
   },
   {
    "duration": 997,
    "start_time": "2022-04-16T15:24:27.647Z"
   },
   {
    "duration": 451,
    "start_time": "2022-04-16T16:28:24.965Z"
   },
   {
    "duration": 999,
    "start_time": "2022-04-16T16:28:27.874Z"
   },
   {
    "duration": 397,
    "start_time": "2022-04-16T16:29:34.606Z"
   },
   {
    "duration": 1013,
    "start_time": "2022-04-16T16:29:37.133Z"
   },
   {
    "duration": 398,
    "start_time": "2022-04-16T16:30:02.128Z"
   },
   {
    "duration": 1160,
    "start_time": "2022-04-16T16:30:04.835Z"
   },
   {
    "duration": 208,
    "start_time": "2022-04-16T16:31:11.631Z"
   },
   {
    "duration": 350,
    "start_time": "2022-04-16T16:33:59.636Z"
   },
   {
    "duration": 930,
    "start_time": "2022-04-16T16:34:03.125Z"
   },
   {
    "duration": 358,
    "start_time": "2022-04-16T16:36:12.618Z"
   },
   {
    "duration": 1031,
    "start_time": "2022-04-16T16:36:15.187Z"
   },
   {
    "duration": 174,
    "start_time": "2022-04-16T16:47:23.130Z"
   },
   {
    "duration": 216,
    "start_time": "2022-04-16T16:49:05.365Z"
   },
   {
    "duration": 137,
    "start_time": "2022-04-16T16:49:18.805Z"
   },
   {
    "duration": 36,
    "start_time": "2022-04-16T16:57:52.964Z"
   },
   {
    "duration": 34,
    "start_time": "2022-04-16T16:58:47.277Z"
   },
   {
    "duration": 33,
    "start_time": "2022-04-16T16:59:24.764Z"
   },
   {
    "duration": 42,
    "start_time": "2022-04-16T17:02:09.983Z"
   },
   {
    "duration": 311,
    "start_time": "2022-04-16T17:16:20.368Z"
   },
   {
    "duration": 366,
    "start_time": "2022-04-16T17:31:08.600Z"
   },
   {
    "duration": 978,
    "start_time": "2022-04-16T17:31:16.066Z"
   },
   {
    "duration": 360,
    "start_time": "2022-04-16T17:32:03.430Z"
   },
   {
    "duration": 255,
    "start_time": "2022-04-16T17:45:34.606Z"
   },
   {
    "duration": 370,
    "start_time": "2022-04-16T17:46:38.823Z"
   },
   {
    "duration": 962,
    "start_time": "2022-04-16T17:46:46.071Z"
   },
   {
    "duration": 279,
    "start_time": "2022-04-16T17:46:55.788Z"
   },
   {
    "duration": 439,
    "start_time": "2022-04-16T17:50:14.216Z"
   },
   {
    "duration": 1064,
    "start_time": "2022-04-16T17:50:16.976Z"
   },
   {
    "duration": 36,
    "start_time": "2022-04-16T18:16:49.089Z"
   },
   {
    "duration": 38,
    "start_time": "2022-04-16T18:18:44.788Z"
   },
   {
    "duration": 34,
    "start_time": "2022-04-16T18:19:51.943Z"
   },
   {
    "duration": 305,
    "start_time": "2022-04-16T18:20:08.572Z"
   },
   {
    "duration": 23,
    "start_time": "2022-04-16T18:21:24.415Z"
   },
   {
    "duration": 128,
    "start_time": "2022-04-16T18:21:27.214Z"
   },
   {
    "duration": 250,
    "start_time": "2022-04-16T18:23:26.549Z"
   },
   {
    "duration": 346,
    "start_time": "2022-04-16T18:23:44.895Z"
   },
   {
    "duration": 275,
    "start_time": "2022-04-16T18:23:56.125Z"
   },
   {
    "duration": 267,
    "start_time": "2022-04-16T18:24:12.926Z"
   },
   {
    "duration": 41,
    "start_time": "2022-04-16T18:34:53.055Z"
   },
   {
    "duration": 37,
    "start_time": "2022-04-16T18:36:58.076Z"
   },
   {
    "duration": 31,
    "start_time": "2022-04-16T18:37:15.811Z"
   },
   {
    "duration": 490,
    "start_time": "2022-04-16T18:37:18.914Z"
   },
   {
    "duration": 89,
    "start_time": "2022-04-16T18:52:13.305Z"
   },
   {
    "duration": 67,
    "start_time": "2022-04-16T18:52:29.138Z"
   },
   {
    "duration": 91,
    "start_time": "2022-04-16T18:53:39.997Z"
   },
   {
    "duration": 77,
    "start_time": "2022-04-16T18:53:54.822Z"
   },
   {
    "duration": 69,
    "start_time": "2022-04-16T19:11:39.253Z"
   },
   {
    "duration": 403,
    "start_time": "2022-04-16T19:15:19.822Z"
   },
   {
    "duration": 392,
    "start_time": "2022-04-16T19:20:15.703Z"
   },
   {
    "duration": 334,
    "start_time": "2022-04-16T19:21:06.934Z"
   },
   {
    "duration": 76,
    "start_time": "2022-04-16T19:53:28.649Z"
   },
   {
    "duration": 437,
    "start_time": "2022-04-16T19:54:14.887Z"
   },
   {
    "duration": 155,
    "start_time": "2022-04-16T19:54:34.242Z"
   },
   {
    "duration": 105,
    "start_time": "2022-04-16T19:55:33.352Z"
   },
   {
    "duration": 30,
    "start_time": "2022-04-16T19:55:36.998Z"
   },
   {
    "duration": 279,
    "start_time": "2022-04-16T20:19:13.266Z"
   },
   {
    "duration": 374,
    "start_time": "2022-04-16T20:19:21.901Z"
   },
   {
    "duration": 56,
    "start_time": "2022-04-16T20:28:25.279Z"
   },
   {
    "duration": 45,
    "start_time": "2022-04-16T20:28:47.348Z"
   },
   {
    "duration": 128,
    "start_time": "2022-04-16T20:33:19.287Z"
   },
   {
    "duration": 96,
    "start_time": "2022-04-16T20:33:45.620Z"
   },
   {
    "duration": 141,
    "start_time": "2022-04-16T20:38:04.594Z"
   },
   {
    "duration": 14,
    "start_time": "2022-04-16T20:38:16.003Z"
   },
   {
    "duration": 1581,
    "start_time": "2022-04-16T20:38:51.717Z"
   },
   {
    "duration": 22,
    "start_time": "2022-04-16T20:40:12.901Z"
   },
   {
    "duration": 19,
    "start_time": "2022-04-16T20:40:40.268Z"
   },
   {
    "duration": 1583,
    "start_time": "2022-04-16T20:41:11.912Z"
   },
   {
    "duration": 29,
    "start_time": "2022-04-16T20:41:32.230Z"
   },
   {
    "duration": 87,
    "start_time": "2022-04-16T20:42:24.094Z"
   },
   {
    "duration": 133,
    "start_time": "2022-04-16T20:45:20.178Z"
   },
   {
    "duration": 129,
    "start_time": "2022-04-16T20:45:45.894Z"
   },
   {
    "duration": 85,
    "start_time": "2022-04-16T20:46:03.370Z"
   },
   {
    "duration": 146,
    "start_time": "2022-04-16T20:47:00.712Z"
   },
   {
    "duration": 125,
    "start_time": "2022-04-16T20:47:09.519Z"
   },
   {
    "duration": 144,
    "start_time": "2022-04-16T20:47:22.754Z"
   },
   {
    "duration": 121,
    "start_time": "2022-04-16T20:48:18.207Z"
   },
   {
    "duration": 768,
    "start_time": "2022-04-16T20:49:51.232Z"
   },
   {
    "duration": 129,
    "start_time": "2022-04-16T20:50:14.577Z"
   },
   {
    "duration": 76,
    "start_time": "2022-04-16T20:50:27.743Z"
   },
   {
    "duration": 144,
    "start_time": "2022-04-16T20:50:50.992Z"
   },
   {
    "duration": 143,
    "start_time": "2022-04-16T20:51:03.407Z"
   },
   {
    "duration": 28,
    "start_time": "2022-04-16T20:52:10.991Z"
   },
   {
    "duration": 1682,
    "start_time": "2022-04-16T20:52:52.734Z"
   },
   {
    "duration": 1647,
    "start_time": "2022-04-16T20:53:39.793Z"
   },
   {
    "duration": 1841,
    "start_time": "2022-04-16T20:53:59.976Z"
   },
   {
    "duration": 1675,
    "start_time": "2022-04-16T20:55:25.230Z"
   },
   {
    "duration": 18,
    "start_time": "2022-04-16T20:55:35.775Z"
   },
   {
    "duration": 128,
    "start_time": "2022-04-16T20:57:34.826Z"
   },
   {
    "duration": 44,
    "start_time": "2022-04-16T20:57:55.286Z"
   },
   {
    "duration": 12,
    "start_time": "2022-04-16T20:58:10.233Z"
   },
   {
    "duration": 128,
    "start_time": "2022-04-16T20:58:29.441Z"
   },
   {
    "duration": 12,
    "start_time": "2022-04-16T20:58:47.719Z"
   },
   {
    "duration": 14,
    "start_time": "2022-04-16T20:59:34.902Z"
   },
   {
    "duration": 71,
    "start_time": "2022-04-16T21:02:23.871Z"
   },
   {
    "duration": 62,
    "start_time": "2022-04-16T21:03:16.155Z"
   },
   {
    "duration": 58,
    "start_time": "2022-04-16T21:03:36.168Z"
   },
   {
    "duration": 57,
    "start_time": "2022-04-16T21:03:48.959Z"
   },
   {
    "duration": 63,
    "start_time": "2022-04-16T21:04:29.622Z"
   },
   {
    "duration": 58,
    "start_time": "2022-04-16T21:05:28.631Z"
   },
   {
    "duration": 120,
    "start_time": "2022-04-16T21:06:12.682Z"
   },
   {
    "duration": 10,
    "start_time": "2022-04-16T21:22:27.713Z"
   },
   {
    "duration": 23,
    "start_time": "2022-04-16T21:22:53.585Z"
   },
   {
    "duration": 23,
    "start_time": "2022-04-16T21:23:09.963Z"
   },
   {
    "duration": 25,
    "start_time": "2022-04-16T21:24:21.412Z"
   },
   {
    "duration": 52,
    "start_time": "2022-04-16T21:25:37.650Z"
   },
   {
    "duration": 52,
    "start_time": "2022-04-16T21:26:18.211Z"
   },
   {
    "duration": 53,
    "start_time": "2022-04-16T21:26:26.761Z"
   },
   {
    "duration": 59,
    "start_time": "2022-04-16T21:26:48.827Z"
   },
   {
    "duration": 53,
    "start_time": "2022-04-16T21:27:45.610Z"
   },
   {
    "duration": 49,
    "start_time": "2022-04-16T21:27:53.426Z"
   },
   {
    "duration": 56,
    "start_time": "2022-04-16T21:28:00.057Z"
   },
   {
    "duration": 113,
    "start_time": "2022-04-16T21:28:26.305Z"
   },
   {
    "duration": 50,
    "start_time": "2022-04-16T21:28:47.106Z"
   },
   {
    "duration": 55,
    "start_time": "2022-04-16T21:29:21.169Z"
   },
   {
    "duration": 52,
    "start_time": "2022-04-16T21:33:27.795Z"
   },
   {
    "duration": 8,
    "start_time": "2022-04-16T21:34:36.706Z"
   },
   {
    "duration": 69,
    "start_time": "2022-04-16T21:34:49.563Z"
   },
   {
    "duration": 132,
    "start_time": "2022-04-16T21:35:54.714Z"
   },
   {
    "duration": 131,
    "start_time": "2022-04-16T21:36:30.612Z"
   },
   {
    "duration": 356,
    "start_time": "2022-04-16T21:37:24.869Z"
   },
   {
    "duration": 1067,
    "start_time": "2022-04-17T06:39:54.995Z"
   },
   {
    "duration": 166,
    "start_time": "2022-04-17T06:40:23.027Z"
   },
   {
    "duration": 219,
    "start_time": "2022-04-17T06:40:36.497Z"
   },
   {
    "duration": 216,
    "start_time": "2022-04-17T06:40:41.010Z"
   },
   {
    "duration": 138,
    "start_time": "2022-04-17T06:41:46.317Z"
   },
   {
    "duration": 13,
    "start_time": "2022-04-17T06:43:03.234Z"
   },
   {
    "duration": 9,
    "start_time": "2022-04-17T06:45:51.755Z"
   },
   {
    "duration": 5,
    "start_time": "2022-04-17T06:46:18.218Z"
   },
   {
    "duration": 4,
    "start_time": "2022-04-17T06:47:22.956Z"
   },
   {
    "duration": 412,
    "start_time": "2022-04-17T06:55:37.826Z"
   },
   {
    "duration": 13,
    "start_time": "2022-04-17T06:57:15.989Z"
   },
   {
    "duration": 8,
    "start_time": "2022-04-17T07:02:38.474Z"
   },
   {
    "duration": 39,
    "start_time": "2022-04-17T07:09:49.563Z"
   },
   {
    "duration": 11,
    "start_time": "2022-04-17T07:10:52.204Z"
   },
   {
    "duration": 12,
    "start_time": "2022-04-17T07:11:03.300Z"
   },
   {
    "duration": 14,
    "start_time": "2022-04-17T07:12:11.120Z"
   },
   {
    "duration": 9,
    "start_time": "2022-04-17T07:12:22.851Z"
   },
   {
    "duration": 9,
    "start_time": "2022-04-17T07:12:43.231Z"
   },
   {
    "duration": 9,
    "start_time": "2022-04-17T07:13:38.233Z"
   },
   {
    "duration": 43,
    "start_time": "2022-04-17T07:15:27.874Z"
   },
   {
    "duration": 660,
    "start_time": "2022-04-17T07:15:59.575Z"
   },
   {
    "duration": 267,
    "start_time": "2022-04-17T07:16:08.079Z"
   },
   {
    "duration": 8,
    "start_time": "2022-04-17T07:17:06.153Z"
   },
   {
    "duration": 13,
    "start_time": "2022-04-17T07:19:49.101Z"
   },
   {
    "duration": 45,
    "start_time": "2022-04-17T07:20:11.702Z"
   },
   {
    "duration": 44,
    "start_time": "2022-04-17T07:26:15.568Z"
   },
   {
    "duration": 58,
    "start_time": "2022-04-17T07:27:29.048Z"
   },
   {
    "duration": 84,
    "start_time": "2022-04-17T07:27:49.630Z"
   },
   {
    "duration": 133,
    "start_time": "2022-04-17T07:28:03.472Z"
   },
   {
    "duration": 59,
    "start_time": "2022-04-17T07:28:12.337Z"
   },
   {
    "duration": 66,
    "start_time": "2022-04-17T07:30:37.710Z"
   },
   {
    "duration": 60,
    "start_time": "2022-04-17T07:30:53.849Z"
   },
   {
    "duration": 65,
    "start_time": "2022-04-17T07:31:37.006Z"
   },
   {
    "duration": 149,
    "start_time": "2022-04-17T07:31:45.279Z"
   },
   {
    "duration": 74,
    "start_time": "2022-04-17T07:59:59.899Z"
   },
   {
    "duration": 85,
    "start_time": "2022-04-17T08:00:16.531Z"
   },
   {
    "duration": 80,
    "start_time": "2022-04-17T08:00:20.585Z"
   },
   {
    "duration": 53,
    "start_time": "2022-04-17T08:04:36.566Z"
   },
   {
    "duration": 203,
    "start_time": "2022-04-17T08:04:59.177Z"
   },
   {
    "duration": 21,
    "start_time": "2022-04-17T08:05:08.420Z"
   },
   {
    "duration": 126,
    "start_time": "2022-04-17T08:05:22.551Z"
   },
   {
    "duration": 77,
    "start_time": "2022-04-17T08:05:32.986Z"
   },
   {
    "duration": 57,
    "start_time": "2022-04-17T08:05:46.858Z"
   },
   {
    "duration": 119,
    "start_time": "2022-04-17T08:05:52.520Z"
   },
   {
    "duration": 389,
    "start_time": "2022-04-17T08:06:16.226Z"
   },
   {
    "duration": 87,
    "start_time": "2022-04-17T08:07:18.002Z"
   },
   {
    "duration": 135,
    "start_time": "2022-04-17T08:08:33.587Z"
   },
   {
    "duration": 22,
    "start_time": "2022-04-17T08:24:59.579Z"
   },
   {
    "duration": 137,
    "start_time": "2022-04-17T08:44:12.648Z"
   },
   {
    "duration": 24,
    "start_time": "2022-04-17T08:46:50.239Z"
   },
   {
    "duration": 191,
    "start_time": "2022-04-17T09:01:01.672Z"
   },
   {
    "duration": 54,
    "start_time": "2022-04-17T09:03:47.196Z"
   },
   {
    "duration": 60,
    "start_time": "2022-04-17T09:04:20.375Z"
   },
   {
    "duration": 102,
    "start_time": "2022-04-17T09:04:37.287Z"
   },
   {
    "duration": 76,
    "start_time": "2022-04-17T09:06:15.621Z"
   },
   {
    "duration": 57,
    "start_time": "2022-04-17T09:07:05.967Z"
   },
   {
    "duration": 175,
    "start_time": "2022-04-17T09:07:38.016Z"
   },
   {
    "duration": 76,
    "start_time": "2022-04-17T09:08:15.933Z"
   },
   {
    "duration": 57,
    "start_time": "2022-04-17T09:09:28.463Z"
   },
   {
    "duration": 69,
    "start_time": "2022-04-17T09:09:50.823Z"
   },
   {
    "duration": 82,
    "start_time": "2022-04-17T13:17:15.991Z"
   },
   {
    "duration": 91,
    "start_time": "2022-04-17T13:17:32.211Z"
   },
   {
    "duration": 251,
    "start_time": "2022-04-17T13:23:00.283Z"
   },
   {
    "duration": 90,
    "start_time": "2022-04-17T13:24:18.336Z"
   },
   {
    "duration": 62,
    "start_time": "2022-04-17T13:24:37.213Z"
   },
   {
    "duration": 58,
    "start_time": "2022-04-17T13:25:20.266Z"
   },
   {
    "duration": 61,
    "start_time": "2022-04-17T13:25:39.831Z"
   },
   {
    "duration": 32,
    "start_time": "2022-04-17T13:48:16.301Z"
   },
   {
    "duration": 98,
    "start_time": "2022-04-17T13:48:46.189Z"
   },
   {
    "duration": 138,
    "start_time": "2022-04-17T13:49:50.160Z"
   },
   {
    "duration": 142,
    "start_time": "2022-04-17T14:21:38.673Z"
   },
   {
    "duration": 186,
    "start_time": "2022-04-17T14:24:01.965Z"
   },
   {
    "duration": 56,
    "start_time": "2022-04-17T14:31:33.954Z"
   },
   {
    "duration": 67,
    "start_time": "2022-04-17T16:43:30.609Z"
   },
   {
    "duration": 66,
    "start_time": "2022-04-17T16:45:22.966Z"
   },
   {
    "duration": 97,
    "start_time": "2022-04-17T16:54:39.461Z"
   },
   {
    "duration": 64,
    "start_time": "2022-04-17T17:21:01.795Z"
   },
   {
    "duration": 59,
    "start_time": "2022-04-17T17:21:23.142Z"
   },
   {
    "duration": 309,
    "start_time": "2022-04-17T17:33:17.835Z"
   },
   {
    "duration": 300,
    "start_time": "2022-04-17T17:33:46.745Z"
   },
   {
    "duration": 57,
    "start_time": "2022-04-17T17:34:34.088Z"
   },
   {
    "duration": 329,
    "start_time": "2022-04-17T17:35:42.436Z"
   },
   {
    "duration": 300,
    "start_time": "2022-04-17T17:36:11.784Z"
   },
   {
    "duration": 320,
    "start_time": "2022-04-17T17:37:02.222Z"
   },
   {
    "duration": 3112,
    "start_time": "2022-04-17T17:38:54.523Z"
   },
   {
    "duration": 300,
    "start_time": "2022-04-17T17:39:24.060Z"
   },
   {
    "duration": 303,
    "start_time": "2022-04-17T17:40:09.737Z"
   },
   {
    "duration": 89,
    "start_time": "2022-04-17T17:40:25.136Z"
   },
   {
    "duration": 300,
    "start_time": "2022-04-17T17:40:30.533Z"
   },
   {
    "duration": 334,
    "start_time": "2022-04-17T17:42:08.960Z"
   },
   {
    "duration": 303,
    "start_time": "2022-04-17T17:47:22.490Z"
   },
   {
    "duration": 329,
    "start_time": "2022-04-17T17:48:09.150Z"
   },
   {
    "duration": 350,
    "start_time": "2022-04-17T17:49:12.320Z"
   },
   {
    "duration": 22,
    "start_time": "2022-04-17T17:50:42.949Z"
   },
   {
    "duration": 15,
    "start_time": "2022-04-17T17:50:42.973Z"
   },
   {
    "duration": 619,
    "start_time": "2022-04-17T17:50:42.990Z"
   },
   {
    "duration": 322,
    "start_time": "2022-04-17T17:50:43.612Z"
   },
   {
    "duration": 14,
    "start_time": "2022-04-17T17:50:43.937Z"
   },
   {
    "duration": 49,
    "start_time": "2022-04-17T17:50:43.953Z"
   },
   {
    "duration": 135,
    "start_time": "2022-04-17T17:50:44.004Z"
   },
   {
    "duration": 56,
    "start_time": "2022-04-17T17:50:44.140Z"
   },
   {
    "duration": 54,
    "start_time": "2022-04-17T17:50:44.198Z"
   },
   {
    "duration": 153,
    "start_time": "2022-04-17T17:50:44.257Z"
   },
   {
    "duration": 90,
    "start_time": "2022-04-17T17:50:44.412Z"
   },
   {
    "duration": 58,
    "start_time": "2022-04-17T17:50:44.504Z"
   },
   {
    "duration": 154,
    "start_time": "2022-04-17T17:50:44.564Z"
   },
   {
    "duration": 350,
    "start_time": "2022-04-17T17:50:44.721Z"
   },
   {
    "duration": 63,
    "start_time": "2022-04-17T17:50:45.074Z"
   },
   {
    "duration": 64,
    "start_time": "2022-04-17T17:50:45.139Z"
   },
   {
    "duration": 65,
    "start_time": "2022-04-17T17:50:45.205Z"
   },
   {
    "duration": 63,
    "start_time": "2022-04-17T17:50:45.272Z"
   },
   {
    "duration": 85,
    "start_time": "2022-04-17T17:50:45.336Z"
   },
   {
    "duration": 100,
    "start_time": "2022-04-17T17:50:45.422Z"
   },
   {
    "duration": 54,
    "start_time": "2022-04-17T17:50:45.523Z"
   },
   {
    "duration": 301,
    "start_time": "2022-04-17T17:50:45.579Z"
   },
   {
    "duration": 25,
    "start_time": "2022-04-17T17:50:45.882Z"
   },
   {
    "duration": 403,
    "start_time": "2022-04-17T17:56:23.177Z"
   },
   {
    "duration": 212,
    "start_time": "2022-04-17T17:57:15.667Z"
   },
   {
    "duration": 301,
    "start_time": "2022-04-17T17:57:43.892Z"
   },
   {
    "duration": 164,
    "start_time": "2022-04-17T17:59:21.053Z"
   },
   {
    "duration": 23,
    "start_time": "2022-04-17T18:21:55.301Z"
   },
   {
    "duration": 65,
    "start_time": "2022-04-17T18:27:18.686Z"
   },
   {
    "duration": 119,
    "start_time": "2022-04-17T18:28:21.566Z"
   },
   {
    "duration": 125,
    "start_time": "2022-04-17T18:29:28.871Z"
   },
   {
    "duration": 160,
    "start_time": "2022-04-17T18:31:49.431Z"
   },
   {
    "duration": 1136,
    "start_time": "2022-04-17T18:31:59.543Z"
   },
   {
    "duration": 454,
    "start_time": "2022-04-17T18:33:20.169Z"
   },
   {
    "duration": 296,
    "start_time": "2022-04-17T18:38:05.579Z"
   },
   {
    "duration": 18,
    "start_time": "2022-04-17T18:38:38.518Z"
   },
   {
    "duration": 14,
    "start_time": "2022-04-17T18:38:38.538Z"
   },
   {
    "duration": 553,
    "start_time": "2022-04-17T18:38:38.553Z"
   },
   {
    "duration": 279,
    "start_time": "2022-04-17T18:38:39.108Z"
   },
   {
    "duration": 11,
    "start_time": "2022-04-17T18:38:39.389Z"
   },
   {
    "duration": 52,
    "start_time": "2022-04-17T18:38:39.401Z"
   },
   {
    "duration": 121,
    "start_time": "2022-04-17T18:38:39.454Z"
   },
   {
    "duration": 54,
    "start_time": "2022-04-17T18:38:39.576Z"
   },
   {
    "duration": 53,
    "start_time": "2022-04-17T18:38:39.633Z"
   },
   {
    "duration": 125,
    "start_time": "2022-04-17T18:38:39.688Z"
   },
   {
    "duration": 71,
    "start_time": "2022-04-17T18:38:39.815Z"
   },
   {
    "duration": 51,
    "start_time": "2022-04-17T18:38:39.888Z"
   },
   {
    "duration": 129,
    "start_time": "2022-04-17T18:38:39.940Z"
   },
   {
    "duration": 57,
    "start_time": "2022-04-17T18:38:40.070Z"
   },
   {
    "duration": 57,
    "start_time": "2022-04-17T18:38:40.129Z"
   },
   {
    "duration": 54,
    "start_time": "2022-04-17T18:38:40.188Z"
   },
   {
    "duration": 61,
    "start_time": "2022-04-17T18:38:40.243Z"
   },
   {
    "duration": 56,
    "start_time": "2022-04-17T18:38:40.305Z"
   },
   {
    "duration": 67,
    "start_time": "2022-04-17T18:38:40.363Z"
   },
   {
    "duration": 62,
    "start_time": "2022-04-17T18:38:40.432Z"
   },
   {
    "duration": 54,
    "start_time": "2022-04-17T18:38:40.496Z"
   },
   {
    "duration": 21,
    "start_time": "2022-04-17T18:38:40.551Z"
   },
   {
    "duration": 319,
    "start_time": "2022-04-17T18:38:40.574Z"
   },
   {
    "duration": 165,
    "start_time": "2022-04-17T18:38:40.896Z"
   },
   {
    "duration": 168,
    "start_time": "2022-04-17T18:38:41.063Z"
   },
   {
    "duration": 137,
    "start_time": "2022-04-17T18:39:41.380Z"
   },
   {
    "duration": 332,
    "start_time": "2022-04-17T18:39:55.534Z"
   },
   {
    "duration": 11388,
    "start_time": "2022-04-17T18:41:09.391Z"
   },
   {
    "duration": 158,
    "start_time": "2022-04-17T18:43:23.127Z"
   },
   {
    "duration": 20,
    "start_time": "2022-04-17T18:43:48.863Z"
   },
   {
    "duration": 19,
    "start_time": "2022-04-17T18:43:58.631Z"
   },
   {
    "duration": 23,
    "start_time": "2022-04-17T18:45:01.432Z"
   },
   {
    "duration": 22,
    "start_time": "2022-04-17T18:45:32.194Z"
   },
   {
    "duration": 15,
    "start_time": "2022-04-17T18:45:32.218Z"
   },
   {
    "duration": 559,
    "start_time": "2022-04-17T18:45:32.235Z"
   },
   {
    "duration": 284,
    "start_time": "2022-04-17T18:45:32.797Z"
   },
   {
    "duration": 13,
    "start_time": "2022-04-17T18:45:33.083Z"
   },
   {
    "duration": 67,
    "start_time": "2022-04-17T18:45:33.098Z"
   },
   {
    "duration": 132,
    "start_time": "2022-04-17T18:45:33.167Z"
   },
   {
    "duration": 55,
    "start_time": "2022-04-17T18:45:33.301Z"
   },
   {
    "duration": 58,
    "start_time": "2022-04-17T18:45:33.358Z"
   },
   {
    "duration": 131,
    "start_time": "2022-04-17T18:45:33.419Z"
   },
   {
    "duration": 73,
    "start_time": "2022-04-17T18:45:33.551Z"
   },
   {
    "duration": 50,
    "start_time": "2022-04-17T18:45:33.626Z"
   },
   {
    "duration": 138,
    "start_time": "2022-04-17T18:45:33.677Z"
   },
   {
    "duration": 68,
    "start_time": "2022-04-17T18:45:33.816Z"
   },
   {
    "duration": 58,
    "start_time": "2022-04-17T18:45:33.885Z"
   },
   {
    "duration": 65,
    "start_time": "2022-04-17T18:45:33.945Z"
   },
   {
    "duration": 76,
    "start_time": "2022-04-17T18:45:34.012Z"
   },
   {
    "duration": 75,
    "start_time": "2022-04-17T18:45:34.089Z"
   },
   {
    "duration": 68,
    "start_time": "2022-04-17T18:45:34.166Z"
   },
   {
    "duration": 79,
    "start_time": "2022-04-17T18:45:34.236Z"
   },
   {
    "duration": 83,
    "start_time": "2022-04-17T18:45:34.317Z"
   },
   {
    "duration": 20,
    "start_time": "2022-04-17T18:45:34.402Z"
   },
   {
    "duration": 386,
    "start_time": "2022-04-17T18:45:34.424Z"
   },
   {
    "duration": 234,
    "start_time": "2022-04-17T18:45:34.812Z"
   },
   {
    "duration": 278,
    "start_time": "2022-04-17T18:45:35.048Z"
   },
   {
    "duration": 22,
    "start_time": "2022-04-17T18:45:35.328Z"
   },
   {
    "duration": 7601,
    "start_time": "2022-04-17T18:50:30.552Z"
   },
   {
    "duration": 115,
    "start_time": "2022-04-17T18:51:20.753Z"
   },
   {
    "duration": 112,
    "start_time": "2022-04-17T18:51:24.121Z"
   },
   {
    "duration": 113,
    "start_time": "2022-04-17T18:53:33.210Z"
   },
   {
    "duration": 106,
    "start_time": "2022-04-17T19:06:42.781Z"
   },
   {
    "duration": 627,
    "start_time": "2022-04-17T19:24:59.239Z"
   },
   {
    "duration": 127,
    "start_time": "2022-04-17T19:27:11.732Z"
   },
   {
    "duration": 131,
    "start_time": "2022-04-17T19:27:30.743Z"
   },
   {
    "duration": 89,
    "start_time": "2022-04-17T20:02:07.773Z"
   },
   {
    "duration": 7939,
    "start_time": "2022-04-17T20:04:03.821Z"
   },
   {
    "duration": 171,
    "start_time": "2022-04-17T20:16:40.091Z"
   },
   {
    "duration": 203,
    "start_time": "2022-04-17T20:17:07.491Z"
   },
   {
    "duration": 190,
    "start_time": "2022-04-17T20:20:45.723Z"
   },
   {
    "duration": 225,
    "start_time": "2022-04-17T20:26:27.621Z"
   },
   {
    "duration": 156,
    "start_time": "2022-04-17T20:27:29.795Z"
   },
   {
    "duration": 162,
    "start_time": "2022-04-17T20:27:56.986Z"
   },
   {
    "duration": 194,
    "start_time": "2022-04-17T20:29:07.683Z"
   },
   {
    "duration": 22,
    "start_time": "2022-04-17T20:30:55.821Z"
   },
   {
    "duration": 21,
    "start_time": "2022-04-17T20:30:55.845Z"
   },
   {
    "duration": 506,
    "start_time": "2022-04-17T20:30:55.867Z"
   },
   {
    "duration": 275,
    "start_time": "2022-04-17T20:30:56.375Z"
   },
   {
    "duration": 11,
    "start_time": "2022-04-17T20:30:56.652Z"
   },
   {
    "duration": 50,
    "start_time": "2022-04-17T20:30:56.664Z"
   },
   {
    "duration": 125,
    "start_time": "2022-04-17T20:30:56.715Z"
   },
   {
    "duration": 59,
    "start_time": "2022-04-17T20:30:56.842Z"
   },
   {
    "duration": 52,
    "start_time": "2022-04-17T20:30:56.903Z"
   },
   {
    "duration": 122,
    "start_time": "2022-04-17T20:30:56.957Z"
   },
   {
    "duration": 71,
    "start_time": "2022-04-17T20:30:57.081Z"
   },
   {
    "duration": 56,
    "start_time": "2022-04-17T20:30:57.154Z"
   },
   {
    "duration": 137,
    "start_time": "2022-04-17T20:30:57.211Z"
   },
   {
    "duration": 68,
    "start_time": "2022-04-17T20:30:57.349Z"
   },
   {
    "duration": 59,
    "start_time": "2022-04-17T20:30:57.418Z"
   },
   {
    "duration": 56,
    "start_time": "2022-04-17T20:30:57.479Z"
   },
   {
    "duration": 60,
    "start_time": "2022-04-17T20:30:57.537Z"
   },
   {
    "duration": 55,
    "start_time": "2022-04-17T20:30:57.599Z"
   },
   {
    "duration": 58,
    "start_time": "2022-04-17T20:30:57.656Z"
   },
   {
    "duration": 56,
    "start_time": "2022-04-17T20:30:57.716Z"
   },
   {
    "duration": 59,
    "start_time": "2022-04-17T20:30:57.774Z"
   },
   {
    "duration": 21,
    "start_time": "2022-04-17T20:30:57.835Z"
   },
   {
    "duration": 299,
    "start_time": "2022-04-17T20:30:57.858Z"
   },
   {
    "duration": 162,
    "start_time": "2022-04-17T20:30:58.158Z"
   },
   {
    "duration": 259,
    "start_time": "2022-04-17T20:30:58.322Z"
   },
   {
    "duration": 22,
    "start_time": "2022-04-17T20:30:58.582Z"
   },
   {
    "duration": 110,
    "start_time": "2022-04-17T20:30:58.606Z"
   },
   {
    "duration": 72,
    "start_time": "2022-04-17T20:30:58.719Z"
   },
   {
    "duration": 146,
    "start_time": "2022-04-17T20:30:58.792Z"
   },
   {
    "duration": 190,
    "start_time": "2022-04-17T20:30:58.940Z"
   },
   {
    "duration": 77,
    "start_time": "2022-04-17T20:37:16.062Z"
   },
   {
    "duration": 14,
    "start_time": "2022-04-17T20:37:25.175Z"
   },
   {
    "duration": 16,
    "start_time": "2022-04-17T20:49:23.208Z"
   },
   {
    "duration": 15,
    "start_time": "2022-04-17T20:49:35.767Z"
   },
   {
    "duration": 16,
    "start_time": "2022-04-17T20:51:36.496Z"
   },
   {
    "duration": 16,
    "start_time": "2022-04-17T20:51:53.498Z"
   },
   {
    "duration": 18,
    "start_time": "2022-04-17T20:54:13.377Z"
   },
   {
    "duration": 17,
    "start_time": "2022-04-17T20:54:18.825Z"
   },
   {
    "duration": 19,
    "start_time": "2022-04-17T20:55:00.476Z"
   },
   {
    "duration": 2189,
    "start_time": "2022-04-17T21:17:23.868Z"
   },
   {
    "duration": 10,
    "start_time": "2022-04-17T21:18:31.212Z"
   },
   {
    "duration": 13,
    "start_time": "2022-04-17T21:19:50.110Z"
   },
   {
    "duration": 1439,
    "start_time": "2022-04-17T21:19:57.683Z"
   },
   {
    "duration": 25,
    "start_time": "2022-04-17T21:20:37.525Z"
   },
   {
    "duration": 14,
    "start_time": "2022-04-17T21:25:16.049Z"
   },
   {
    "duration": 12,
    "start_time": "2022-04-17T21:25:24.908Z"
   },
   {
    "duration": 19,
    "start_time": "2022-04-17T21:25:36.948Z"
   },
   {
    "duration": 21,
    "start_time": "2022-04-17T21:25:50.716Z"
   },
   {
    "duration": 22,
    "start_time": "2022-04-17T21:26:07.869Z"
   },
   {
    "duration": 22,
    "start_time": "2022-04-17T21:27:59.077Z"
   },
   {
    "duration": 22,
    "start_time": "2022-04-17T21:29:34.070Z"
   },
   {
    "duration": 21,
    "start_time": "2022-04-17T21:30:05.157Z"
   },
   {
    "duration": 3615,
    "start_time": "2022-04-17T21:40:34.932Z"
   },
   {
    "duration": 17,
    "start_time": "2022-04-17T21:41:57.138Z"
   },
   {
    "duration": 26,
    "start_time": "2022-04-17T21:53:35.261Z"
   },
   {
    "duration": 18,
    "start_time": "2022-04-17T21:54:03.061Z"
   },
   {
    "duration": 21,
    "start_time": "2022-04-17T22:11:48.812Z"
   },
   {
    "duration": 14,
    "start_time": "2022-04-17T22:11:48.835Z"
   },
   {
    "duration": 630,
    "start_time": "2022-04-17T22:11:48.851Z"
   },
   {
    "duration": 277,
    "start_time": "2022-04-17T22:11:49.484Z"
   },
   {
    "duration": 14,
    "start_time": "2022-04-17T22:11:49.763Z"
   },
   {
    "duration": 52,
    "start_time": "2022-04-17T22:11:49.779Z"
   },
   {
    "duration": 125,
    "start_time": "2022-04-17T22:11:49.833Z"
   },
   {
    "duration": 54,
    "start_time": "2022-04-17T22:11:49.960Z"
   },
   {
    "duration": 53,
    "start_time": "2022-04-17T22:11:50.016Z"
   },
   {
    "duration": 126,
    "start_time": "2022-04-17T22:11:50.072Z"
   },
   {
    "duration": 85,
    "start_time": "2022-04-17T22:11:50.200Z"
   },
   {
    "duration": 58,
    "start_time": "2022-04-17T22:11:50.287Z"
   },
   {
    "duration": 135,
    "start_time": "2022-04-17T22:11:50.347Z"
   },
   {
    "duration": 57,
    "start_time": "2022-04-17T22:11:50.483Z"
   },
   {
    "duration": 59,
    "start_time": "2022-04-17T22:11:50.542Z"
   },
   {
    "duration": 67,
    "start_time": "2022-04-17T22:11:50.602Z"
   },
   {
    "duration": 65,
    "start_time": "2022-04-17T22:11:50.671Z"
   },
   {
    "duration": 60,
    "start_time": "2022-04-17T22:11:50.737Z"
   },
   {
    "duration": 75,
    "start_time": "2022-04-17T22:11:50.799Z"
   },
   {
    "duration": 68,
    "start_time": "2022-04-17T22:11:50.876Z"
   },
   {
    "duration": 50,
    "start_time": "2022-04-17T22:11:50.946Z"
   },
   {
    "duration": 23,
    "start_time": "2022-04-17T22:11:50.998Z"
   },
   {
    "duration": 342,
    "start_time": "2022-04-17T22:11:51.022Z"
   },
   {
    "duration": 153,
    "start_time": "2022-04-17T22:11:51.366Z"
   },
   {
    "duration": 278,
    "start_time": "2022-04-17T22:11:51.520Z"
   },
   {
    "duration": 21,
    "start_time": "2022-04-17T22:11:51.799Z"
   },
   {
    "duration": 118,
    "start_time": "2022-04-17T22:11:51.822Z"
   },
   {
    "duration": 58,
    "start_time": "2022-04-17T22:11:51.943Z"
   },
   {
    "duration": 115,
    "start_time": "2022-04-17T22:11:52.003Z"
   },
   {
    "duration": 190,
    "start_time": "2022-04-17T22:11:52.119Z"
   },
   {
    "duration": 14,
    "start_time": "2022-04-17T22:11:52.310Z"
   },
   {
    "duration": 16,
    "start_time": "2022-04-17T22:11:52.326Z"
   },
   {
    "duration": 21,
    "start_time": "2022-04-17T22:11:52.344Z"
   },
   {
    "duration": 43,
    "start_time": "2022-04-17T22:11:52.367Z"
   },
   {
    "duration": 19,
    "start_time": "2022-04-17T22:11:52.412Z"
   },
   {
    "duration": 12,
    "start_time": "2022-04-26T16:20:07.239Z"
   },
   {
    "duration": 45,
    "start_time": "2022-05-08T14:08:31.097Z"
   },
   {
    "duration": 8,
    "start_time": "2022-05-08T14:08:39.562Z"
   },
   {
    "duration": 4,
    "start_time": "2022-05-08T14:10:37.395Z"
   },
   {
    "duration": 3,
    "start_time": "2022-05-08T14:11:39.067Z"
   },
   {
    "duration": 1306,
    "start_time": "2022-05-08T14:13:16.452Z"
   },
   {
    "duration": 0,
    "start_time": "2022-05-08T14:13:17.760Z"
   },
   {
    "duration": 0,
    "start_time": "2022-05-08T14:13:17.762Z"
   },
   {
    "duration": 0,
    "start_time": "2022-05-08T14:13:17.763Z"
   },
   {
    "duration": 0,
    "start_time": "2022-05-08T14:13:17.764Z"
   },
   {
    "duration": 0,
    "start_time": "2022-05-08T14:13:17.766Z"
   },
   {
    "duration": 0,
    "start_time": "2022-05-08T14:13:17.767Z"
   },
   {
    "duration": 0,
    "start_time": "2022-05-08T14:13:17.768Z"
   },
   {
    "duration": 0,
    "start_time": "2022-05-08T14:13:17.769Z"
   },
   {
    "duration": 0,
    "start_time": "2022-05-08T14:13:17.770Z"
   },
   {
    "duration": 0,
    "start_time": "2022-05-08T14:13:17.771Z"
   },
   {
    "duration": 0,
    "start_time": "2022-05-08T14:13:17.772Z"
   },
   {
    "duration": 0,
    "start_time": "2022-05-08T14:13:17.773Z"
   },
   {
    "duration": 0,
    "start_time": "2022-05-08T14:13:17.774Z"
   },
   {
    "duration": 0,
    "start_time": "2022-05-08T14:13:17.776Z"
   },
   {
    "duration": 0,
    "start_time": "2022-05-08T14:13:17.777Z"
   },
   {
    "duration": 0,
    "start_time": "2022-05-08T14:13:17.778Z"
   },
   {
    "duration": 0,
    "start_time": "2022-05-08T14:13:17.779Z"
   },
   {
    "duration": 0,
    "start_time": "2022-05-08T14:13:17.780Z"
   },
   {
    "duration": 0,
    "start_time": "2022-05-08T14:13:17.780Z"
   },
   {
    "duration": 0,
    "start_time": "2022-05-08T14:13:17.781Z"
   },
   {
    "duration": 1,
    "start_time": "2022-05-08T14:13:17.782Z"
   },
   {
    "duration": 0,
    "start_time": "2022-05-08T14:13:17.783Z"
   },
   {
    "duration": 0,
    "start_time": "2022-05-08T14:13:17.784Z"
   },
   {
    "duration": 0,
    "start_time": "2022-05-08T14:13:17.785Z"
   },
   {
    "duration": 0,
    "start_time": "2022-05-08T14:13:17.786Z"
   },
   {
    "duration": 0,
    "start_time": "2022-05-08T14:13:17.788Z"
   },
   {
    "duration": 0,
    "start_time": "2022-05-08T14:13:17.788Z"
   },
   {
    "duration": 0,
    "start_time": "2022-05-08T14:13:17.790Z"
   },
   {
    "duration": 0,
    "start_time": "2022-05-08T14:13:17.791Z"
   },
   {
    "duration": 0,
    "start_time": "2022-05-08T14:13:17.792Z"
   },
   {
    "duration": 0,
    "start_time": "2022-05-08T14:13:17.793Z"
   },
   {
    "duration": 0,
    "start_time": "2022-05-08T14:13:17.794Z"
   },
   {
    "duration": 0,
    "start_time": "2022-05-08T14:13:17.795Z"
   },
   {
    "duration": 1013,
    "start_time": "2022-05-08T14:15:03.801Z"
   },
   {
    "duration": 0,
    "start_time": "2022-05-08T14:15:04.816Z"
   },
   {
    "duration": 0,
    "start_time": "2022-05-08T14:15:04.817Z"
   },
   {
    "duration": 0,
    "start_time": "2022-05-08T14:15:04.818Z"
   },
   {
    "duration": 0,
    "start_time": "2022-05-08T14:15:04.819Z"
   },
   {
    "duration": 0,
    "start_time": "2022-05-08T14:15:04.820Z"
   },
   {
    "duration": 0,
    "start_time": "2022-05-08T14:15:04.821Z"
   },
   {
    "duration": 0,
    "start_time": "2022-05-08T14:15:04.822Z"
   },
   {
    "duration": 0,
    "start_time": "2022-05-08T14:15:04.823Z"
   },
   {
    "duration": 1,
    "start_time": "2022-05-08T14:15:04.823Z"
   },
   {
    "duration": 0,
    "start_time": "2022-05-08T14:15:04.825Z"
   },
   {
    "duration": 0,
    "start_time": "2022-05-08T14:15:04.826Z"
   },
   {
    "duration": 0,
    "start_time": "2022-05-08T14:15:04.827Z"
   },
   {
    "duration": 0,
    "start_time": "2022-05-08T14:15:04.828Z"
   },
   {
    "duration": 0,
    "start_time": "2022-05-08T14:15:04.829Z"
   },
   {
    "duration": 0,
    "start_time": "2022-05-08T14:15:04.830Z"
   },
   {
    "duration": 0,
    "start_time": "2022-05-08T14:15:04.832Z"
   },
   {
    "duration": 0,
    "start_time": "2022-05-08T14:15:04.833Z"
   },
   {
    "duration": 0,
    "start_time": "2022-05-08T14:15:04.834Z"
   },
   {
    "duration": 0,
    "start_time": "2022-05-08T14:15:04.835Z"
   },
   {
    "duration": 0,
    "start_time": "2022-05-08T14:15:04.836Z"
   },
   {
    "duration": 0,
    "start_time": "2022-05-08T14:15:04.837Z"
   },
   {
    "duration": 0,
    "start_time": "2022-05-08T14:15:04.838Z"
   },
   {
    "duration": 0,
    "start_time": "2022-05-08T14:15:04.839Z"
   },
   {
    "duration": 0,
    "start_time": "2022-05-08T14:15:04.841Z"
   },
   {
    "duration": 0,
    "start_time": "2022-05-08T14:15:04.842Z"
   },
   {
    "duration": 0,
    "start_time": "2022-05-08T14:15:04.843Z"
   },
   {
    "duration": 0,
    "start_time": "2022-05-08T14:15:04.847Z"
   },
   {
    "duration": 0,
    "start_time": "2022-05-08T14:15:04.848Z"
   },
   {
    "duration": 0,
    "start_time": "2022-05-08T14:15:04.849Z"
   },
   {
    "duration": 0,
    "start_time": "2022-05-08T14:15:04.850Z"
   },
   {
    "duration": 0,
    "start_time": "2022-05-08T14:15:04.851Z"
   },
   {
    "duration": 0,
    "start_time": "2022-05-08T14:15:04.852Z"
   },
   {
    "duration": 0,
    "start_time": "2022-05-08T14:15:04.853Z"
   },
   {
    "duration": 891,
    "start_time": "2022-05-08T14:17:43.453Z"
   },
   {
    "duration": 0,
    "start_time": "2022-05-08T14:17:44.346Z"
   },
   {
    "duration": 0,
    "start_time": "2022-05-08T14:17:44.347Z"
   },
   {
    "duration": 0,
    "start_time": "2022-05-08T14:17:44.349Z"
   },
   {
    "duration": 0,
    "start_time": "2022-05-08T14:17:44.350Z"
   },
   {
    "duration": 0,
    "start_time": "2022-05-08T14:17:44.350Z"
   },
   {
    "duration": 0,
    "start_time": "2022-05-08T14:17:44.351Z"
   },
   {
    "duration": 0,
    "start_time": "2022-05-08T14:17:44.353Z"
   },
   {
    "duration": 0,
    "start_time": "2022-05-08T14:17:44.354Z"
   },
   {
    "duration": 0,
    "start_time": "2022-05-08T14:17:44.355Z"
   },
   {
    "duration": 0,
    "start_time": "2022-05-08T14:17:44.355Z"
   },
   {
    "duration": 0,
    "start_time": "2022-05-08T14:17:44.356Z"
   },
   {
    "duration": 0,
    "start_time": "2022-05-08T14:17:44.357Z"
   },
   {
    "duration": 0,
    "start_time": "2022-05-08T14:17:44.358Z"
   },
   {
    "duration": 0,
    "start_time": "2022-05-08T14:17:44.359Z"
   },
   {
    "duration": 0,
    "start_time": "2022-05-08T14:17:44.360Z"
   },
   {
    "duration": 0,
    "start_time": "2022-05-08T14:17:44.361Z"
   },
   {
    "duration": 0,
    "start_time": "2022-05-08T14:17:44.362Z"
   },
   {
    "duration": 0,
    "start_time": "2022-05-08T14:17:44.363Z"
   },
   {
    "duration": 0,
    "start_time": "2022-05-08T14:17:44.364Z"
   },
   {
    "duration": 0,
    "start_time": "2022-05-08T14:17:44.365Z"
   },
   {
    "duration": 0,
    "start_time": "2022-05-08T14:17:44.366Z"
   },
   {
    "duration": 0,
    "start_time": "2022-05-08T14:17:44.367Z"
   },
   {
    "duration": 0,
    "start_time": "2022-05-08T14:17:44.368Z"
   },
   {
    "duration": 0,
    "start_time": "2022-05-08T14:17:44.369Z"
   },
   {
    "duration": 0,
    "start_time": "2022-05-08T14:17:44.370Z"
   },
   {
    "duration": 0,
    "start_time": "2022-05-08T14:17:44.371Z"
   },
   {
    "duration": 0,
    "start_time": "2022-05-08T14:17:44.372Z"
   },
   {
    "duration": 0,
    "start_time": "2022-05-08T14:17:44.373Z"
   },
   {
    "duration": 0,
    "start_time": "2022-05-08T14:17:44.374Z"
   },
   {
    "duration": 0,
    "start_time": "2022-05-08T14:17:44.375Z"
   },
   {
    "duration": 0,
    "start_time": "2022-05-08T14:17:44.376Z"
   },
   {
    "duration": 0,
    "start_time": "2022-05-08T14:17:44.377Z"
   },
   {
    "duration": 0,
    "start_time": "2022-05-08T14:17:44.378Z"
   },
   {
    "duration": 796,
    "start_time": "2022-05-08T14:18:20.472Z"
   },
   {
    "duration": 231,
    "start_time": "2022-05-08T14:18:21.270Z"
   },
   {
    "duration": 503,
    "start_time": "2022-05-08T14:18:21.503Z"
   },
   {
    "duration": 0,
    "start_time": "2022-05-08T14:18:22.008Z"
   },
   {
    "duration": 0,
    "start_time": "2022-05-08T14:18:22.010Z"
   },
   {
    "duration": 0,
    "start_time": "2022-05-08T14:18:22.011Z"
   },
   {
    "duration": 0,
    "start_time": "2022-05-08T14:18:22.012Z"
   },
   {
    "duration": 0,
    "start_time": "2022-05-08T14:18:22.013Z"
   },
   {
    "duration": 0,
    "start_time": "2022-05-08T14:18:22.014Z"
   },
   {
    "duration": 0,
    "start_time": "2022-05-08T14:18:22.015Z"
   },
   {
    "duration": 0,
    "start_time": "2022-05-08T14:18:22.017Z"
   },
   {
    "duration": 0,
    "start_time": "2022-05-08T14:18:22.018Z"
   },
   {
    "duration": 0,
    "start_time": "2022-05-08T14:18:22.019Z"
   },
   {
    "duration": 0,
    "start_time": "2022-05-08T14:18:22.020Z"
   },
   {
    "duration": 0,
    "start_time": "2022-05-08T14:18:22.021Z"
   },
   {
    "duration": 0,
    "start_time": "2022-05-08T14:18:22.022Z"
   },
   {
    "duration": 0,
    "start_time": "2022-05-08T14:18:22.023Z"
   },
   {
    "duration": 0,
    "start_time": "2022-05-08T14:18:22.024Z"
   },
   {
    "duration": 0,
    "start_time": "2022-05-08T14:18:22.025Z"
   },
   {
    "duration": 0,
    "start_time": "2022-05-08T14:18:22.026Z"
   },
   {
    "duration": 0,
    "start_time": "2022-05-08T14:18:22.027Z"
   },
   {
    "duration": 0,
    "start_time": "2022-05-08T14:18:22.028Z"
   },
   {
    "duration": 0,
    "start_time": "2022-05-08T14:18:22.029Z"
   },
   {
    "duration": 0,
    "start_time": "2022-05-08T14:18:22.030Z"
   },
   {
    "duration": 0,
    "start_time": "2022-05-08T14:18:22.032Z"
   },
   {
    "duration": 0,
    "start_time": "2022-05-08T14:18:22.047Z"
   },
   {
    "duration": 0,
    "start_time": "2022-05-08T14:18:22.048Z"
   },
   {
    "duration": 0,
    "start_time": "2022-05-08T14:18:22.049Z"
   },
   {
    "duration": 0,
    "start_time": "2022-05-08T14:18:22.051Z"
   },
   {
    "duration": 0,
    "start_time": "2022-05-08T14:18:22.052Z"
   },
   {
    "duration": 0,
    "start_time": "2022-05-08T14:18:22.053Z"
   },
   {
    "duration": 0,
    "start_time": "2022-05-08T14:18:22.054Z"
   },
   {
    "duration": 0,
    "start_time": "2022-05-08T14:18:22.055Z"
   },
   {
    "duration": 0,
    "start_time": "2022-05-08T14:18:22.056Z"
   },
   {
    "duration": 27,
    "start_time": "2022-05-08T14:19:38.633Z"
   },
   {
    "duration": 9,
    "start_time": "2022-05-08T14:20:17.121Z"
   },
   {
    "duration": 13,
    "start_time": "2022-05-08T14:20:44.571Z"
   },
   {
    "duration": 560,
    "start_time": "2022-05-08T14:23:49.435Z"
   },
   {
    "duration": 136,
    "start_time": "2022-05-08T14:23:49.996Z"
   },
   {
    "duration": 376,
    "start_time": "2022-05-08T14:23:50.134Z"
   },
   {
    "duration": 0,
    "start_time": "2022-05-08T14:23:50.512Z"
   },
   {
    "duration": 0,
    "start_time": "2022-05-08T14:23:50.514Z"
   },
   {
    "duration": 0,
    "start_time": "2022-05-08T14:23:50.514Z"
   },
   {
    "duration": 0,
    "start_time": "2022-05-08T14:23:50.515Z"
   },
   {
    "duration": 0,
    "start_time": "2022-05-08T14:23:50.516Z"
   },
   {
    "duration": 0,
    "start_time": "2022-05-08T14:23:50.517Z"
   },
   {
    "duration": 0,
    "start_time": "2022-05-08T14:23:50.518Z"
   },
   {
    "duration": 0,
    "start_time": "2022-05-08T14:23:50.519Z"
   },
   {
    "duration": 0,
    "start_time": "2022-05-08T14:23:50.520Z"
   },
   {
    "duration": 0,
    "start_time": "2022-05-08T14:23:50.521Z"
   },
   {
    "duration": 0,
    "start_time": "2022-05-08T14:23:50.522Z"
   },
   {
    "duration": 0,
    "start_time": "2022-05-08T14:23:50.522Z"
   },
   {
    "duration": 0,
    "start_time": "2022-05-08T14:23:50.523Z"
   },
   {
    "duration": 0,
    "start_time": "2022-05-08T14:23:50.524Z"
   },
   {
    "duration": 0,
    "start_time": "2022-05-08T14:23:50.525Z"
   },
   {
    "duration": 0,
    "start_time": "2022-05-08T14:23:50.526Z"
   },
   {
    "duration": 0,
    "start_time": "2022-05-08T14:23:50.527Z"
   },
   {
    "duration": 0,
    "start_time": "2022-05-08T14:23:50.528Z"
   },
   {
    "duration": 0,
    "start_time": "2022-05-08T14:23:50.529Z"
   },
   {
    "duration": 0,
    "start_time": "2022-05-08T14:23:50.530Z"
   },
   {
    "duration": 1,
    "start_time": "2022-05-08T14:23:50.530Z"
   },
   {
    "duration": 0,
    "start_time": "2022-05-08T14:23:50.532Z"
   },
   {
    "duration": 0,
    "start_time": "2022-05-08T14:23:50.533Z"
   },
   {
    "duration": 0,
    "start_time": "2022-05-08T14:23:50.534Z"
   },
   {
    "duration": 0,
    "start_time": "2022-05-08T14:23:50.535Z"
   },
   {
    "duration": 0,
    "start_time": "2022-05-08T14:23:50.549Z"
   },
   {
    "duration": 0,
    "start_time": "2022-05-08T14:23:50.551Z"
   },
   {
    "duration": 0,
    "start_time": "2022-05-08T14:23:50.552Z"
   },
   {
    "duration": 0,
    "start_time": "2022-05-08T14:23:50.554Z"
   },
   {
    "duration": 0,
    "start_time": "2022-05-08T14:23:50.555Z"
   },
   {
    "duration": 0,
    "start_time": "2022-05-08T14:23:50.557Z"
   },
   {
    "duration": 9,
    "start_time": "2022-05-08T14:27:44.105Z"
   },
   {
    "duration": 9,
    "start_time": "2022-05-08T14:27:50.866Z"
   },
   {
    "duration": 576,
    "start_time": "2022-05-08T14:37:05.295Z"
   },
   {
    "duration": 238,
    "start_time": "2022-05-08T14:37:05.872Z"
   },
   {
    "duration": 272,
    "start_time": "2022-05-08T14:37:06.112Z"
   },
   {
    "duration": 12,
    "start_time": "2022-05-08T14:37:06.386Z"
   },
   {
    "duration": 38,
    "start_time": "2022-05-08T14:37:06.399Z"
   },
   {
    "duration": 110,
    "start_time": "2022-05-08T14:37:06.438Z"
   },
   {
    "duration": 51,
    "start_time": "2022-05-08T14:37:06.550Z"
   },
   {
    "duration": 44,
    "start_time": "2022-05-08T14:37:06.603Z"
   },
   {
    "duration": 117,
    "start_time": "2022-05-08T14:37:06.648Z"
   },
   {
    "duration": 71,
    "start_time": "2022-05-08T14:37:06.767Z"
   },
   {
    "duration": 59,
    "start_time": "2022-05-08T14:37:06.840Z"
   },
   {
    "duration": 122,
    "start_time": "2022-05-08T14:37:06.901Z"
   },
   {
    "duration": 58,
    "start_time": "2022-05-08T14:37:07.024Z"
   },
   {
    "duration": 56,
    "start_time": "2022-05-08T14:37:07.083Z"
   },
   {
    "duration": 57,
    "start_time": "2022-05-08T14:37:07.141Z"
   },
   {
    "duration": 61,
    "start_time": "2022-05-08T14:37:07.200Z"
   },
   {
    "duration": 54,
    "start_time": "2022-05-08T14:37:07.262Z"
   },
   {
    "duration": 63,
    "start_time": "2022-05-08T14:37:07.317Z"
   },
   {
    "duration": 49,
    "start_time": "2022-05-08T14:37:07.382Z"
   },
   {
    "duration": 50,
    "start_time": "2022-05-08T14:37:07.433Z"
   },
   {
    "duration": 22,
    "start_time": "2022-05-08T14:37:07.484Z"
   },
   {
    "duration": 294,
    "start_time": "2022-05-08T14:37:07.507Z"
   },
   {
    "duration": 151,
    "start_time": "2022-05-08T14:37:07.802Z"
   },
   {
    "duration": 242,
    "start_time": "2022-05-08T14:37:07.954Z"
   },
   {
    "duration": 22,
    "start_time": "2022-05-08T14:37:08.198Z"
   },
   {
    "duration": 103,
    "start_time": "2022-05-08T14:37:08.221Z"
   },
   {
    "duration": 52,
    "start_time": "2022-05-08T14:37:08.325Z"
   },
   {
    "duration": 102,
    "start_time": "2022-05-08T14:37:08.380Z"
   },
   {
    "duration": 191,
    "start_time": "2022-05-08T14:37:08.484Z"
   },
   {
    "duration": 13,
    "start_time": "2022-05-08T14:37:08.676Z"
   },
   {
    "duration": 17,
    "start_time": "2022-05-08T14:37:08.691Z"
   },
   {
    "duration": 47,
    "start_time": "2022-05-08T14:37:08.709Z"
   },
   {
    "duration": 20,
    "start_time": "2022-05-08T14:37:08.758Z"
   },
   {
    "duration": 20,
    "start_time": "2022-05-08T14:37:08.779Z"
   },
   {
    "duration": 2345,
    "start_time": "2022-05-08T14:37:44.273Z"
   },
   {
    "duration": 166,
    "start_time": "2022-05-08T14:37:46.620Z"
   },
   {
    "duration": 342,
    "start_time": "2022-05-08T14:37:46.788Z"
   },
   {
    "duration": 18,
    "start_time": "2022-05-08T14:37:47.132Z"
   },
   {
    "duration": 42,
    "start_time": "2022-05-08T14:37:47.151Z"
   },
   {
    "duration": 108,
    "start_time": "2022-05-08T14:37:47.195Z"
   },
   {
    "duration": 47,
    "start_time": "2022-05-08T14:37:47.304Z"
   },
   {
    "duration": 44,
    "start_time": "2022-05-08T14:37:47.353Z"
   },
   {
    "duration": 114,
    "start_time": "2022-05-08T14:37:47.399Z"
   },
   {
    "duration": 67,
    "start_time": "2022-05-08T14:37:47.516Z"
   },
   {
    "duration": 43,
    "start_time": "2022-05-08T14:37:47.585Z"
   },
   {
    "duration": 111,
    "start_time": "2022-05-08T14:37:47.629Z"
   },
   {
    "duration": 48,
    "start_time": "2022-05-08T14:37:47.741Z"
   },
   {
    "duration": 50,
    "start_time": "2022-05-08T14:37:47.791Z"
   },
   {
    "duration": 47,
    "start_time": "2022-05-08T14:37:47.843Z"
   },
   {
    "duration": 54,
    "start_time": "2022-05-08T14:37:47.892Z"
   },
   {
    "duration": 51,
    "start_time": "2022-05-08T14:37:47.947Z"
   },
   {
    "duration": 55,
    "start_time": "2022-05-08T14:37:47.999Z"
   },
   {
    "duration": 51,
    "start_time": "2022-05-08T14:37:48.057Z"
   },
   {
    "duration": 47,
    "start_time": "2022-05-08T14:37:48.109Z"
   },
   {
    "duration": 22,
    "start_time": "2022-05-08T14:37:48.158Z"
   },
   {
    "duration": 291,
    "start_time": "2022-05-08T14:37:48.181Z"
   },
   {
    "duration": 144,
    "start_time": "2022-05-08T14:37:48.474Z"
   },
   {
    "duration": 239,
    "start_time": "2022-05-08T14:37:48.620Z"
   },
   {
    "duration": 26,
    "start_time": "2022-05-08T14:37:48.861Z"
   },
   {
    "duration": 97,
    "start_time": "2022-05-08T14:37:48.889Z"
   },
   {
    "duration": 60,
    "start_time": "2022-05-08T14:37:48.987Z"
   },
   {
    "duration": 99,
    "start_time": "2022-05-08T14:37:49.050Z"
   },
   {
    "duration": 167,
    "start_time": "2022-05-08T14:37:49.151Z"
   },
   {
    "duration": 14,
    "start_time": "2022-05-08T14:37:49.319Z"
   },
   {
    "duration": 18,
    "start_time": "2022-05-08T14:37:49.334Z"
   },
   {
    "duration": 19,
    "start_time": "2022-05-08T14:37:49.354Z"
   },
   {
    "duration": 18,
    "start_time": "2022-05-08T14:37:49.375Z"
   },
   {
    "duration": 18,
    "start_time": "2022-05-08T14:37:49.394Z"
   },
   {
    "duration": 26,
    "start_time": "2022-05-08T14:38:43.251Z"
   },
   {
    "duration": 91,
    "start_time": "2022-08-11T12:48:56.225Z"
   },
   {
    "duration": 79,
    "start_time": "2022-08-11T12:49:32.651Z"
   },
   {
    "duration": 41,
    "start_time": "2022-08-11T12:54:20.672Z"
   },
   {
    "duration": 7,
    "start_time": "2022-08-11T12:54:29.125Z"
   },
   {
    "duration": 10,
    "start_time": "2022-08-11T12:55:06.652Z"
   },
   {
    "duration": 686,
    "start_time": "2022-08-11T13:30:29.166Z"
   },
   {
    "duration": 14,
    "start_time": "2022-08-11T13:34:00.349Z"
   }
  ],
  "kernelspec": {
   "display_name": "Python 3 (ipykernel)",
   "language": "python",
   "name": "python3"
  },
  "language_info": {
   "codemirror_mode": {
    "name": "ipython",
    "version": 3
   },
   "file_extension": ".py",
   "mimetype": "text/x-python",
   "name": "python",
   "nbconvert_exporter": "python",
   "pygments_lexer": "ipython3",
   "version": "3.9.5"
  },
  "toc": {
   "base_numbering": 1,
   "nav_menu": {},
   "number_sections": true,
   "sideBar": true,
   "skip_h1_title": true,
   "title_cell": "Table of Contents",
   "title_sidebar": "Contents",
   "toc_cell": false,
   "toc_position": {},
   "toc_section_display": true,
   "toc_window_display": false
  }
 },
 "nbformat": 4,
 "nbformat_minor": 5
}
