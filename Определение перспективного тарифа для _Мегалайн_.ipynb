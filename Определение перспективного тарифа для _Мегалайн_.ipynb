{
 "cells": [
  {
   "cell_type": "markdown",
   "metadata": {},
   "source": [
    "."
   ]
  },
  {
   "cell_type": "markdown",
   "metadata": {},
   "source": [
    "<div id=\"project_logo\">\n",
    "    <div id=\"logo_bg\">\n",
    "        <p id=\"logo_text\">MEGALINE</p>\n",
    "        <p id=\"project_author\">Made by @Alefair</p>\n",
    "    </div>\n",
    "</div>"
   ]
  },
  {
   "cell_type": "markdown",
   "metadata": {},
   "source": [
    "# Определение перспективного тарифа для \"Мегалайн\""
   ]
  },
  {
   "cell_type": "markdown",
   "metadata": {},
   "source": [
    "**_`Заказчик      :`   Коммерческий департамент<br>\n",
    "`Цель          :`   Определить какой из тарифов приносит больше денег<br>\n",
    "`Описание      :`   Клиентам предлагают два тарифных плана: <b>\"Смарт\"</b> и <b>\"Ультра\"</b>. Чтобы скорректировать рекламный бюджет необходимо определить, какой тариф приносит больше денег.<br>\n",
    "`Что требуется :`   Сделать предварительный анализ тарифов на небольшой выборке клиентов. В распоряжении данные 500 пользователей компании <b>\"Мегалайн\"</b>: кто они, откуда, каким тарифом пользуются, сколько звонков и сообщений каждый отправил за 2018 год.<br><br>\n",
    "<b>Проверить гипотезы:</b><br>\n",
    "-- <i>средняя выручка пользователей тарифов «Ультра» и «Смарт» различается</i><br>\n",
    "-- <i>средняя выручка пользователей из Москвы отличается от выручки пользователей из других регионов.</i><br><br>\n",
    "А также Нужно проанализировать поведение клиентов и сделать вывод - какой тариф лучше._**"
   ]
  },
  {
   "cell_type": "markdown",
   "metadata": {
    "toc": true
   },
   "source": [
    "<h1>Содержание<span class=\"tocSkip\"></span></h1>\n",
    "<div class=\"toc\"><ul class=\"toc-item\"><li><span><a href=\"#Описание-тарифов\" data-toc-modified-id=\"Описание-тарифов-1\"><span class=\"toc-item-num\">1&nbsp;&nbsp;</span>Описание тарифов</a></span><ul class=\"toc-item\"><li><span><a href=\"#Тариф-'СМАРТ'\" data-toc-modified-id=\"Тариф-'СМАРТ'-1.1\"><span class=\"toc-item-num\">1.1&nbsp;&nbsp;</span>Тариф 'СМАРТ'</a></span></li><li><span><a href=\"#Тариф-'УЛЬТРА'\" data-toc-modified-id=\"Тариф-'УЛЬТРА'-1.2\"><span class=\"toc-item-num\">1.2&nbsp;&nbsp;</span>Тариф 'УЛЬТРА'</a></span></li><li><span><a href=\"#Примечание\" data-toc-modified-id=\"Примечание-1.3\"><span class=\"toc-item-num\">1.3&nbsp;&nbsp;</span>Примечание</a></span></li><li><span><a href=\"#Комментарий-ревьюера\" data-toc-modified-id=\"Комментарий-ревьюера-1.4\"><span class=\"toc-item-num\">1.4&nbsp;&nbsp;</span>Комментарий ревьюера</a></span><ul class=\"toc-item\"><li><span><a href=\"#Успех\" data-toc-modified-id=\"Успех-1.4.1\"><span class=\"toc-item-num\">1.4.1&nbsp;&nbsp;</span>Успех</a></span></li></ul></li><li><span><a href=\"#Комментарий-студента\" data-toc-modified-id=\"Комментарий-студента-1.5\"><span class=\"toc-item-num\">1.5&nbsp;&nbsp;</span>Комментарий студента</a></span><ul class=\"toc-item\"><li><span><a href=\"#Исправлено\" data-toc-modified-id=\"Исправлено-1.5.1\"><span class=\"toc-item-num\">1.5.1&nbsp;&nbsp;</span>Исправлено</a></span></li><li><span><a href=\"#Успех\" data-toc-modified-id=\"Успех-1.5.2\"><span class=\"toc-item-num\">1.5.2&nbsp;&nbsp;</span>Успех</a></span></li></ul></li></ul></li><li><span><a href=\"#Инициализация\" data-toc-modified-id=\"Инициализация-2\"><span class=\"toc-item-num\">2&nbsp;&nbsp;</span>Инициализация</a></span><ul class=\"toc-item\"><li><span><a href=\"#Импорт-библиотек\" data-toc-modified-id=\"Импорт-библиотек-2.1\"><span class=\"toc-item-num\">2.1&nbsp;&nbsp;</span>Импорт библиотек</a></span></li><li><span><a href=\"#Вспомогательные-переменные\" data-toc-modified-id=\"Вспомогательные-переменные-2.2\"><span class=\"toc-item-num\">2.2&nbsp;&nbsp;</span>Вспомогательные переменные</a></span></li><li><span><a href=\"#Комментарий-ревьюера\" data-toc-modified-id=\"Комментарий-ревьюера-2.3\"><span class=\"toc-item-num\">2.3&nbsp;&nbsp;</span>Комментарий ревьюера</a></span><ul class=\"toc-item\"><li><span><a href=\"#Успех\" data-toc-modified-id=\"Успех-2.3.1\"><span class=\"toc-item-num\">2.3.1&nbsp;&nbsp;</span>Успех</a></span></li></ul></li><li><span><a href=\"#Вспомогательные-функции\" data-toc-modified-id=\"Вспомогательные-функции-2.4\"><span class=\"toc-item-num\">2.4&nbsp;&nbsp;</span>Вспомогательные функции</a></span></li><li><span><a href=\"#Комментарий-ревьюера\" data-toc-modified-id=\"Комментарий-ревьюера-2.5\"><span class=\"toc-item-num\">2.5&nbsp;&nbsp;</span>Комментарий ревьюера</a></span><ul class=\"toc-item\"><li><span><a href=\"#Успех\" data-toc-modified-id=\"Успех-2.5.1\"><span class=\"toc-item-num\">2.5.1&nbsp;&nbsp;</span>Успех</a></span></li></ul></li></ul></li><li><span><a href=\"#Описание-данных\" data-toc-modified-id=\"Описание-данных-3\"><span class=\"toc-item-num\">3&nbsp;&nbsp;</span>Описание данных</a></span><ul class=\"toc-item\"><li><span><a href=\"#Таблица-users-(информация-о-пользователях)\" data-toc-modified-id=\"Таблица-users-(информация-о-пользователях)-3.1\"><span class=\"toc-item-num\">3.1&nbsp;&nbsp;</span>Таблица users (информация о пользователях)</a></span></li><li><span><a href=\"#Комментарий-ревьюера\" data-toc-modified-id=\"Комментарий-ревьюера-3.2\"><span class=\"toc-item-num\">3.2&nbsp;&nbsp;</span>Комментарий ревьюера</a></span><ul class=\"toc-item\"><li><span><a href=\"#Успех\" data-toc-modified-id=\"Успех-3.2.1\"><span class=\"toc-item-num\">3.2.1&nbsp;&nbsp;</span>Успех</a></span></li></ul></li><li><span><a href=\"#Комментарий-ревьюера\" data-toc-modified-id=\"Комментарий-ревьюера-3.3\"><span class=\"toc-item-num\">3.3&nbsp;&nbsp;</span>Комментарий ревьюера</a></span><ul class=\"toc-item\"><li><span><a href=\"#Успех\" data-toc-modified-id=\"Успех-3.3.1\"><span class=\"toc-item-num\">3.3.1&nbsp;&nbsp;</span>Успех</a></span></li><li><span><a href=\"#Вывод\" data-toc-modified-id=\"Вывод-3.3.2\"><span class=\"toc-item-num\">3.3.2&nbsp;&nbsp;</span>Вывод</a></span></li></ul></li><li><span><a href=\"#Комментарий-ревьюера\" data-toc-modified-id=\"Комментарий-ревьюера-3.4\"><span class=\"toc-item-num\">3.4&nbsp;&nbsp;</span>Комментарий ревьюера</a></span><ul class=\"toc-item\"><li><span><a href=\"#Успех\" data-toc-modified-id=\"Успех-3.4.1\"><span class=\"toc-item-num\">3.4.1&nbsp;&nbsp;</span>Успех</a></span></li></ul></li><li><span><a href=\"#Таблица-calls-(информация-о-звонках)\" data-toc-modified-id=\"Таблица-calls-(информация-о-звонках)-3.5\"><span class=\"toc-item-num\">3.5&nbsp;&nbsp;</span>Таблица calls (информация о звонках)</a></span></li><li><span><a href=\"#Комментарий-ревьюера\" data-toc-modified-id=\"Комментарий-ревьюера-3.6\"><span class=\"toc-item-num\">3.6&nbsp;&nbsp;</span>Комментарий ревьюера</a></span><ul class=\"toc-item\"><li><span><a href=\"#Совет\" data-toc-modified-id=\"Совет-3.6.1\"><span class=\"toc-item-num\">3.6.1&nbsp;&nbsp;</span>Совет</a></span></li></ul></li><li><span><a href=\"#Комментарий-студента\" data-toc-modified-id=\"Комментарий-студента-3.7\"><span class=\"toc-item-num\">3.7&nbsp;&nbsp;</span>Комментарий студента</a></span><ul class=\"toc-item\"><li><span><a href=\"#Исправлено\" data-toc-modified-id=\"Исправлено-3.7.1\"><span class=\"toc-item-num\">3.7.1&nbsp;&nbsp;</span>Исправлено</a></span></li><li><span><a href=\"#Здорово\" data-toc-modified-id=\"Здорово-3.7.2\"><span class=\"toc-item-num\">3.7.2&nbsp;&nbsp;</span>Здорово</a></span></li></ul></li><li><span><a href=\"#Комментарий-ревьюера\" data-toc-modified-id=\"Комментарий-ревьюера-3.8\"><span class=\"toc-item-num\">3.8&nbsp;&nbsp;</span>Комментарий ревьюера</a></span><ul class=\"toc-item\"><li><span><a href=\"#Успех\" data-toc-modified-id=\"Успех-3.8.1\"><span class=\"toc-item-num\">3.8.1&nbsp;&nbsp;</span>Успех</a></span></li></ul></li><li><span><a href=\"#Комментарий-ревьюера\" data-toc-modified-id=\"Комментарий-ревьюера-3.9\"><span class=\"toc-item-num\">3.9&nbsp;&nbsp;</span>Комментарий ревьюера</a></span><ul class=\"toc-item\"><li><span><a href=\"#Успех\" data-toc-modified-id=\"Успех-3.9.1\"><span class=\"toc-item-num\">3.9.1&nbsp;&nbsp;</span>Успех</a></span></li><li><span><a href=\"#Вывод\" data-toc-modified-id=\"Вывод-3.9.2\"><span class=\"toc-item-num\">3.9.2&nbsp;&nbsp;</span>Вывод</a></span></li></ul></li><li><span><a href=\"#Комментарий-ревьюера\" data-toc-modified-id=\"Комментарий-ревьюера-3.10\"><span class=\"toc-item-num\">3.10&nbsp;&nbsp;</span>Комментарий ревьюера</a></span><ul class=\"toc-item\"><li><span><a href=\"#Успех\" data-toc-modified-id=\"Успех-3.10.1\"><span class=\"toc-item-num\">3.10.1&nbsp;&nbsp;</span>Успех</a></span></li></ul></li><li><span><a href=\"#Таблица-messages-(информация-о-сообщениях)\" data-toc-modified-id=\"Таблица-messages-(информация-о-сообщениях)-3.11\"><span class=\"toc-item-num\">3.11&nbsp;&nbsp;</span>Таблица messages (информация о сообщениях)</a></span></li><li><span><a href=\"#Комментарий-ревьюера\" data-toc-modified-id=\"Комментарий-ревьюера-3.12\"><span class=\"toc-item-num\">3.12&nbsp;&nbsp;</span>Комментарий ревьюера</a></span><ul class=\"toc-item\"><li><span><a href=\"#Успех\" data-toc-modified-id=\"Успех-3.12.1\"><span class=\"toc-item-num\">3.12.1&nbsp;&nbsp;</span>Успех</a></span></li><li><span><a href=\"#Вывод\" data-toc-modified-id=\"Вывод-3.12.2\"><span class=\"toc-item-num\">3.12.2&nbsp;&nbsp;</span>Вывод</a></span></li></ul></li><li><span><a href=\"#Комментарий-ревьюера\" data-toc-modified-id=\"Комментарий-ревьюера-3.13\"><span class=\"toc-item-num\">3.13&nbsp;&nbsp;</span>Комментарий ревьюера</a></span><ul class=\"toc-item\"><li><span><a href=\"#Успех\" data-toc-modified-id=\"Успех-3.13.1\"><span class=\"toc-item-num\">3.13.1&nbsp;&nbsp;</span>Успех</a></span></li></ul></li><li><span><a href=\"#Таблица-internet-(информация-об-интернет-сессиях)\" data-toc-modified-id=\"Таблица-internet-(информация-об-интернет-сессиях)-3.14\"><span class=\"toc-item-num\">3.14&nbsp;&nbsp;</span>Таблица internet (информация об интернет-сессиях)</a></span></li><li><span><a href=\"#Комментарий-ревьюера\" data-toc-modified-id=\"Комментарий-ревьюера-3.15\"><span class=\"toc-item-num\">3.15&nbsp;&nbsp;</span>Комментарий ревьюера</a></span><ul class=\"toc-item\"><li><span><a href=\"#Совет\" data-toc-modified-id=\"Совет-3.15.1\"><span class=\"toc-item-num\">3.15.1&nbsp;&nbsp;</span>Совет</a></span></li></ul></li><li><span><a href=\"#Комментарий-студента\" data-toc-modified-id=\"Комментарий-студента-3.16\"><span class=\"toc-item-num\">3.16&nbsp;&nbsp;</span>Комментарий студента</a></span><ul class=\"toc-item\"><li><span><a href=\"#Исправлено\" data-toc-modified-id=\"Исправлено-3.16.1\"><span class=\"toc-item-num\">3.16.1&nbsp;&nbsp;</span>Исправлено</a></span></li><li><span><a href=\"#И-тут-идеально\" data-toc-modified-id=\"И-тут-идеально-3.16.2\"><span class=\"toc-item-num\">3.16.2&nbsp;&nbsp;</span>И тут идеально</a></span></li></ul></li><li><span><a href=\"#Комментарий-ревьюера\" data-toc-modified-id=\"Комментарий-ревьюера-3.17\"><span class=\"toc-item-num\">3.17&nbsp;&nbsp;</span>Комментарий ревьюера</a></span><ul class=\"toc-item\"><li><span><a href=\"#Совет\" data-toc-modified-id=\"Совет-3.17.1\"><span class=\"toc-item-num\">3.17.1&nbsp;&nbsp;</span>Совет</a></span></li></ul></li><li><span><a href=\"#Комментарий-студента\" data-toc-modified-id=\"Комментарий-студента-3.18\"><span class=\"toc-item-num\">3.18&nbsp;&nbsp;</span>Комментарий студента</a></span><ul class=\"toc-item\"><li><span><a href=\"#Исправлено\" data-toc-modified-id=\"Исправлено-3.18.1\"><span class=\"toc-item-num\">3.18.1&nbsp;&nbsp;</span>Исправлено</a></span></li><li><span><a href=\"#Вывод\" data-toc-modified-id=\"Вывод-3.18.2\"><span class=\"toc-item-num\">3.18.2&nbsp;&nbsp;</span>Вывод</a></span></li></ul></li><li><span><a href=\"#Таблица-tariffs-(информация-о-тарифах)\" data-toc-modified-id=\"Таблица-tariffs-(информация-о-тарифах)-3.19\"><span class=\"toc-item-num\">3.19&nbsp;&nbsp;</span>Таблица tariffs (информация о тарифах)</a></span></li><li><span><a href=\"#Комментарий-ревьюера\" data-toc-modified-id=\"Комментарий-ревьюера-3.20\"><span class=\"toc-item-num\">3.20&nbsp;&nbsp;</span>Комментарий ревьюера</a></span><ul class=\"toc-item\"><li><span><a href=\"#Успех\" data-toc-modified-id=\"Успех-3.20.1\"><span class=\"toc-item-num\">3.20.1&nbsp;&nbsp;</span>Успех</a></span></li><li><span><a href=\"#Вывод\" data-toc-modified-id=\"Вывод-3.20.2\"><span class=\"toc-item-num\">3.20.2&nbsp;&nbsp;</span>Вывод</a></span></li></ul></li></ul></li><li><span><a href=\"#Расчет-значений\" data-toc-modified-id=\"Расчет-значений-4\"><span class=\"toc-item-num\">4&nbsp;&nbsp;</span>Расчет значений</a></span><ul class=\"toc-item\"><li><span><a href=\"#Количество-сделанных-звонков-и-израсходованных-минут-разговора-по-месяцам\" data-toc-modified-id=\"Количество-сделанных-звонков-и-израсходованных-минут-разговора-по-месяцам-4.1\"><span class=\"toc-item-num\">4.1&nbsp;&nbsp;</span>Количество сделанных звонков и израсходованных минут разговора по месяцам</a></span></li><li><span><a href=\"#Комментарий-ревьюера\" data-toc-modified-id=\"Комментарий-ревьюера-4.2\"><span class=\"toc-item-num\">4.2&nbsp;&nbsp;</span>Комментарий ревьюера</a></span><ul class=\"toc-item\"><li><span><a href=\"#Ошибка\" data-toc-modified-id=\"Ошибка-4.2.1\"><span class=\"toc-item-num\">4.2.1&nbsp;&nbsp;</span>Ошибка</a></span></li></ul></li><li><span><a href=\"#Комментарий-студента\" data-toc-modified-id=\"Комментарий-студента-4.3\"><span class=\"toc-item-num\">4.3&nbsp;&nbsp;</span>Комментарий студента</a></span><ul class=\"toc-item\"><li><span><a href=\"#Исправлено\" data-toc-modified-id=\"Исправлено-4.3.1\"><span class=\"toc-item-num\">4.3.1&nbsp;&nbsp;</span>Исправлено</a></span></li><li><span><a href=\"#Вот-а-сейчас-другое-дело\" data-toc-modified-id=\"Вот-а-сейчас-другое-дело-4.3.2\"><span class=\"toc-item-num\">4.3.2&nbsp;&nbsp;</span>Вот а сейчас другое дело</a></span></li></ul></li><li><span><a href=\"#Количество-отправленных-сообщений-по-месяцам\" data-toc-modified-id=\"Количество-отправленных-сообщений-по-месяцам-4.4\"><span class=\"toc-item-num\">4.4&nbsp;&nbsp;</span>Количество отправленных сообщений по месяцам</a></span></li><li><span><a href=\"#Комментарий-студента\" data-toc-modified-id=\"Комментарий-студента-4.5\"><span class=\"toc-item-num\">4.5&nbsp;&nbsp;</span>Комментарий студента</a></span><ul class=\"toc-item\"><li><span><a href=\"#Исправлено\" data-toc-modified-id=\"Исправлено-4.5.1\"><span class=\"toc-item-num\">4.5.1&nbsp;&nbsp;</span>Исправлено</a></span></li><li><span><a href=\"#ПО-Сообщениям-верно-получилось\" data-toc-modified-id=\"ПО-Сообщениям-верно-получилось-4.5.2\"><span class=\"toc-item-num\">4.5.2&nbsp;&nbsp;</span>ПО Сообщениям верно получилось</a></span></li></ul></li><li><span><a href=\"#Объем-израсходованного-интернет-трафика-по-месяцам\" data-toc-modified-id=\"Объем-израсходованного-интернет-трафика-по-месяцам-4.6\"><span class=\"toc-item-num\">4.6&nbsp;&nbsp;</span>Объем израсходованного интернет-трафика по месяцам</a></span></li><li><span><a href=\"#Комментарий-студента\" data-toc-modified-id=\"Комментарий-студента-4.7\"><span class=\"toc-item-num\">4.7&nbsp;&nbsp;</span>Комментарий студента</a></span><ul class=\"toc-item\"><li><span><a href=\"#Исправлено\" data-toc-modified-id=\"Исправлено-4.7.1\"><span class=\"toc-item-num\">4.7.1&nbsp;&nbsp;</span>Исправлено</a></span></li></ul></li><li><span><a href=\"#Помесячная-выручка-с-каждого-пользователя\" data-toc-modified-id=\"Помесячная-выручка-с-каждого-пользователя-4.8\"><span class=\"toc-item-num\">4.8&nbsp;&nbsp;</span>Помесячная выручка с каждого пользователя</a></span></li><li><span><a href=\"#Комментарий-ревьюера\" data-toc-modified-id=\"Комментарий-ревьюера-4.9\"><span class=\"toc-item-num\">4.9&nbsp;&nbsp;</span>Комментарий ревьюера</a></span><ul class=\"toc-item\"><li><span><a href=\"#Совет\" data-toc-modified-id=\"Совет-4.9.1\"><span class=\"toc-item-num\">4.9.1&nbsp;&nbsp;</span>Совет</a></span></li></ul></li><li><span><a href=\"#Комментарий-студента\" data-toc-modified-id=\"Комментарий-студента-4.10\"><span class=\"toc-item-num\">4.10&nbsp;&nbsp;</span>Комментарий студента</a></span><ul class=\"toc-item\"><li><span><a href=\"#Исправлено\" data-toc-modified-id=\"Исправлено-4.10.1\"><span class=\"toc-item-num\">4.10.1&nbsp;&nbsp;</span>Исправлено</a></span></li><li><span><a href=\"#Первоклассно-объединил-данные.\" data-toc-modified-id=\"Первоклассно-объединил-данные.-4.10.2\"><span class=\"toc-item-num\">4.10.2&nbsp;&nbsp;</span>Первоклассно объединил данные.</a></span></li></ul></li><li><span><a href=\"#Комментарий-студента\" data-toc-modified-id=\"Комментарий-студента-4.11\"><span class=\"toc-item-num\">4.11&nbsp;&nbsp;</span>Комментарий студента</a></span><ul class=\"toc-item\"><li><span><a href=\"#Исправлено\" data-toc-modified-id=\"Исправлено-4.11.1\"><span class=\"toc-item-num\">4.11.1&nbsp;&nbsp;</span>Исправлено</a></span></li></ul></li><li><span><a href=\"#Вывод\" data-toc-modified-id=\"Вывод-4.12\"><span class=\"toc-item-num\">4.12&nbsp;&nbsp;</span>Вывод</a></span></li></ul></li><li><span><a href=\"#Анализ-полученных-данных\" data-toc-modified-id=\"Анализ-полученных-данных-5\"><span class=\"toc-item-num\">5&nbsp;&nbsp;</span>Анализ полученных данных</a></span><ul class=\"toc-item\"><li><span><a href=\"#Тариф-Смарт\" data-toc-modified-id=\"Тариф-Смарт-5.1\"><span class=\"toc-item-num\">5.1&nbsp;&nbsp;</span>Тариф Смарт</a></span><ul class=\"toc-item\"><li><span><a href=\"#Создаем-отдельные-таблицы-по-звонкам,-сообщениям-и-трафику\" data-toc-modified-id=\"Создаем-отдельные-таблицы-по-звонкам,-сообщениям-и-трафику-5.1.1\"><span class=\"toc-item-num\">5.1.1&nbsp;&nbsp;</span>Создаем отдельные таблицы по звонкам, сообщениям и трафику</a></span></li><li><span><a href=\"#Распределение-длительности-звонков-по-месяцам\" data-toc-modified-id=\"Распределение-длительности-звонков-по-месяцам-5.1.2\"><span class=\"toc-item-num\">5.1.2&nbsp;&nbsp;</span>Распределение длительности звонков по месяцам</a></span></li></ul></li><li><span><a href=\"#Комментарий-ревьюера\" data-toc-modified-id=\"Комментарий-ревьюера-5.2\"><span class=\"toc-item-num\">5.2&nbsp;&nbsp;</span>Комментарий ревьюера</a></span><ul class=\"toc-item\"><li><span><a href=\"#Успех\" data-toc-modified-id=\"Успех-5.2.1\"><span class=\"toc-item-num\">5.2.1&nbsp;&nbsp;</span>Успех</a></span></li></ul></li><li><span><a href=\"#Комментарий-студента\" data-toc-modified-id=\"Комментарий-студента-5.3\"><span class=\"toc-item-num\">5.3&nbsp;&nbsp;</span>Комментарий студента</a></span><ul class=\"toc-item\"><li><span><a href=\"#Исправлено\" data-toc-modified-id=\"Исправлено-5.3.1\"><span class=\"toc-item-num\">5.3.1&nbsp;&nbsp;</span>Исправлено</a></span></li><li><span><a href=\"#Распределение-количества-сообщений\" data-toc-modified-id=\"Распределение-количества-сообщений-5.3.2\"><span class=\"toc-item-num\">5.3.2&nbsp;&nbsp;</span>Распределение количества сообщений</a></span></li></ul></li><li><span><a href=\"#Комментарий-ревьюера\" data-toc-modified-id=\"Комментарий-ревьюера-5.4\"><span class=\"toc-item-num\">5.4&nbsp;&nbsp;</span>Комментарий ревьюера</a></span><ul class=\"toc-item\"><li><span><a href=\"#Успех\" data-toc-modified-id=\"Успех-5.4.1\"><span class=\"toc-item-num\">5.4.1&nbsp;&nbsp;</span>Успех</a></span></li></ul></li><li><span><a href=\"#Комментарий-студента\" data-toc-modified-id=\"Комментарий-студента-5.5\"><span class=\"toc-item-num\">5.5&nbsp;&nbsp;</span>Комментарий студента</a></span><ul class=\"toc-item\"><li><span><a href=\"#Исправлено\" data-toc-modified-id=\"Исправлено-5.5.1\"><span class=\"toc-item-num\">5.5.1&nbsp;&nbsp;</span>Исправлено</a></span></li><li><span><a href=\"#Распределение-интернет-трафика\" data-toc-modified-id=\"Распределение-интернет-трафика-5.5.2\"><span class=\"toc-item-num\">5.5.2&nbsp;&nbsp;</span>Распределение интернет трафика</a></span></li></ul></li><li><span><a href=\"#Комментарий-ревьюера\" data-toc-modified-id=\"Комментарий-ревьюера-5.6\"><span class=\"toc-item-num\">5.6&nbsp;&nbsp;</span>Комментарий ревьюера</a></span><ul class=\"toc-item\"><li><span><a href=\"#Ошибка\" data-toc-modified-id=\"Ошибка-5.6.1\"><span class=\"toc-item-num\">5.6.1&nbsp;&nbsp;</span>Ошибка</a></span></li></ul></li><li><span><a href=\"#Комментарий-студента\" data-toc-modified-id=\"Комментарий-студента-5.7\"><span class=\"toc-item-num\">5.7&nbsp;&nbsp;</span>Комментарий студента</a></span><ul class=\"toc-item\"><li><span><a href=\"#Исправлено\" data-toc-modified-id=\"Исправлено-5.7.1\"><span class=\"toc-item-num\">5.7.1&nbsp;&nbsp;</span>Исправлено</a></span></li><li><span><a href=\"#И-тут-идеально\" data-toc-modified-id=\"И-тут-идеально-5.7.2\"><span class=\"toc-item-num\">5.7.2&nbsp;&nbsp;</span>И тут идеально</a></span></li><li><span><a href=\"#Распределение-выручки\" data-toc-modified-id=\"Распределение-выручки-5.7.3\"><span class=\"toc-item-num\">5.7.3&nbsp;&nbsp;</span>Распределение выручки</a></span></li></ul></li><li><span><a href=\"#Комментарий-ревьюера\" data-toc-modified-id=\"Комментарий-ревьюера-5.8\"><span class=\"toc-item-num\">5.8&nbsp;&nbsp;</span>Комментарий ревьюера</a></span><ul class=\"toc-item\"><li><span><a href=\"#Успех\" data-toc-modified-id=\"Успех-5.8.1\"><span class=\"toc-item-num\">5.8.1&nbsp;&nbsp;</span>Успех</a></span></li></ul></li><li><span><a href=\"#Комментарий-студента\" data-toc-modified-id=\"Комментарий-студента-5.9\"><span class=\"toc-item-num\">5.9&nbsp;&nbsp;</span>Комментарий студента</a></span><ul class=\"toc-item\"><li><span><a href=\"#Исправлено\" data-toc-modified-id=\"Исправлено-5.9.1\"><span class=\"toc-item-num\">5.9.1&nbsp;&nbsp;</span>Исправлено</a></span></li><li><span><a href=\"#Как-и-тут-хорошо\" data-toc-modified-id=\"Как-и-тут-хорошо-5.9.2\"><span class=\"toc-item-num\">5.9.2&nbsp;&nbsp;</span>Как и тут хорошо</a></span></li><li><span><a href=\"#Общий-график-распределения\" data-toc-modified-id=\"Общий-график-распределения-5.9.3\"><span class=\"toc-item-num\">5.9.3&nbsp;&nbsp;</span>Общий график распределения</a></span></li><li><span><a href=\"#Общий-вывод-по-тарифу-&quot;СМАРТ&quot;\" data-toc-modified-id=\"Общий-вывод-по-тарифу-&quot;СМАРТ&quot;-5.9.4\"><span class=\"toc-item-num\">5.9.4&nbsp;&nbsp;</span>Общий вывод по тарифу \"СМАРТ\"</a></span></li></ul></li><li><span><a href=\"#Комментарий-ревьюера\" data-toc-modified-id=\"Комментарий-ревьюера-5.10\"><span class=\"toc-item-num\">5.10&nbsp;&nbsp;</span>Комментарий ревьюера</a></span><ul class=\"toc-item\"><li><span><a href=\"#Успех\" data-toc-modified-id=\"Успех-5.10.1\"><span class=\"toc-item-num\">5.10.1&nbsp;&nbsp;</span>Успех</a></span></li></ul></li><li><span><a href=\"#Тариф-Ультра\" data-toc-modified-id=\"Тариф-Ультра-5.11\"><span class=\"toc-item-num\">5.11&nbsp;&nbsp;</span>Тариф Ультра</a></span><ul class=\"toc-item\"><li><span><a href=\"#Создаем-отдельные-таблицы-по-звонкам,-сообщениям-и-трафику\" data-toc-modified-id=\"Создаем-отдельные-таблицы-по-звонкам,-сообщениям-и-трафику-5.11.1\"><span class=\"toc-item-num\">5.11.1&nbsp;&nbsp;</span>Создаем отдельные таблицы по звонкам, сообщениям и трафику</a></span></li><li><span><a href=\"#Распределение-длительности-звонков-по-месяцам\" data-toc-modified-id=\"Распределение-длительности-звонков-по-месяцам-5.11.2\"><span class=\"toc-item-num\">5.11.2&nbsp;&nbsp;</span>Распределение длительности звонков по месяцам</a></span></li></ul></li><li><span><a href=\"#Комментарий-ревьюера\" data-toc-modified-id=\"Комментарий-ревьюера-5.12\"><span class=\"toc-item-num\">5.12&nbsp;&nbsp;</span>Комментарий ревьюера</a></span><ul class=\"toc-item\"><li><span><a href=\"#Успех\" data-toc-modified-id=\"Успех-5.12.1\"><span class=\"toc-item-num\">5.12.1&nbsp;&nbsp;</span>Успех</a></span></li></ul></li><li><span><a href=\"#Комментарий-студента\" data-toc-modified-id=\"Комментарий-студента-5.13\"><span class=\"toc-item-num\">5.13&nbsp;&nbsp;</span>Комментарий студента</a></span><ul class=\"toc-item\"><li><span><a href=\"#Исправлено\" data-toc-modified-id=\"Исправлено-5.13.1\"><span class=\"toc-item-num\">5.13.1&nbsp;&nbsp;</span>Исправлено</a></span></li><li><span><a href=\"#Распределение-количества-сообщений\" data-toc-modified-id=\"Распределение-количества-сообщений-5.13.2\"><span class=\"toc-item-num\">5.13.2&nbsp;&nbsp;</span>Распределение количества сообщений</a></span></li></ul></li><li><span><a href=\"#Комментарий-студента\" data-toc-modified-id=\"Комментарий-студента-5.14\"><span class=\"toc-item-num\">5.14&nbsp;&nbsp;</span>Комментарий студента</a></span><ul class=\"toc-item\"><li><span><a href=\"#Исправлено\" data-toc-modified-id=\"Исправлено-5.14.1\"><span class=\"toc-item-num\">5.14.1&nbsp;&nbsp;</span>Исправлено</a></span></li><li><span><a href=\"#Распределение-интернет-трафика\" data-toc-modified-id=\"Распределение-интернет-трафика-5.14.2\"><span class=\"toc-item-num\">5.14.2&nbsp;&nbsp;</span>Распределение интернет трафика</a></span></li></ul></li><li><span><a href=\"#Комментарий-ревьюера\" data-toc-modified-id=\"Комментарий-ревьюера-5.15\"><span class=\"toc-item-num\">5.15&nbsp;&nbsp;</span>Комментарий ревьюера</a></span><ul class=\"toc-item\"><li><span><a href=\"#Ошибка\" data-toc-modified-id=\"Ошибка-5.15.1\"><span class=\"toc-item-num\">5.15.1&nbsp;&nbsp;</span>Ошибка</a></span></li></ul></li><li><span><a href=\"#Комментарий-студента\" data-toc-modified-id=\"Комментарий-студента-5.16\"><span class=\"toc-item-num\">5.16&nbsp;&nbsp;</span>Комментарий студента</a></span><ul class=\"toc-item\"><li><span><a href=\"#Исправлено\" data-toc-modified-id=\"Исправлено-5.16.1\"><span class=\"toc-item-num\">5.16.1&nbsp;&nbsp;</span>Исправлено</a></span></li><li><span><a href=\"#Так-и-есть\" data-toc-modified-id=\"Так-и-есть-5.16.2\"><span class=\"toc-item-num\">5.16.2&nbsp;&nbsp;</span>Так и есть</a></span></li><li><span><a href=\"#Распределение-выручки\" data-toc-modified-id=\"Распределение-выручки-5.16.3\"><span class=\"toc-item-num\">5.16.3&nbsp;&nbsp;</span>Распределение выручки</a></span></li></ul></li><li><span><a href=\"#Комментарий-студента\" data-toc-modified-id=\"Комментарий-студента-5.17\"><span class=\"toc-item-num\">5.17&nbsp;&nbsp;</span>Комментарий студента</a></span><ul class=\"toc-item\"><li><span><a href=\"#Исправлено\" data-toc-modified-id=\"Исправлено-5.17.1\"><span class=\"toc-item-num\">5.17.1&nbsp;&nbsp;</span>Исправлено</a></span></li><li><span><a href=\"#Общий-график-распределения\" data-toc-modified-id=\"Общий-график-распределения-5.17.2\"><span class=\"toc-item-num\">5.17.2&nbsp;&nbsp;</span>Общий график распределения</a></span></li><li><span><a href=\"#Общий-вывод-по-тарифу-&quot;УЛЬТРА&quot;\" data-toc-modified-id=\"Общий-вывод-по-тарифу-&quot;УЛЬТРА&quot;-5.17.3\"><span class=\"toc-item-num\">5.17.3&nbsp;&nbsp;</span>Общий вывод по тарифу \"УЛЬТРА\"</a></span></li></ul></li><li><span><a href=\"#Комментарий-ревьюера\" data-toc-modified-id=\"Комментарий-ревьюера-5.18\"><span class=\"toc-item-num\">5.18&nbsp;&nbsp;</span>Комментарий ревьюера</a></span><ul class=\"toc-item\"><li><span><a href=\"#Успех\" data-toc-modified-id=\"Успех-5.18.1\"><span class=\"toc-item-num\">5.18.1&nbsp;&nbsp;</span>Успех</a></span></li></ul></li></ul></li><li><span><a href=\"#Проверка-гипотез\" data-toc-modified-id=\"Проверка-гипотез-6\"><span class=\"toc-item-num\">6&nbsp;&nbsp;</span>Проверка гипотез</a></span><ul class=\"toc-item\"><li><span><a href=\"#Средняя-выручка-пользователей-тарифов-Ультра-и-Смарт-различается\" data-toc-modified-id=\"Средняя-выручка-пользователей-тарифов-Ультра-и-Смарт-различается-6.1\"><span class=\"toc-item-num\">6.1&nbsp;&nbsp;</span>Средняя выручка пользователей тарифов Ультра и Смарт различается</a></span></li><li><span><a href=\"#Комментарий-ревьюера\" data-toc-modified-id=\"Комментарий-ревьюера-6.2\"><span class=\"toc-item-num\">6.2&nbsp;&nbsp;</span>Комментарий ревьюера</a></span><ul class=\"toc-item\"><li><span><a href=\"#Ошибка\" data-toc-modified-id=\"Ошибка-6.2.1\"><span class=\"toc-item-num\">6.2.1&nbsp;&nbsp;</span>Ошибка</a></span></li></ul></li><li><span><a href=\"#Комментарий-студента\" data-toc-modified-id=\"Комментарий-студента-6.3\"><span class=\"toc-item-num\">6.3&nbsp;&nbsp;</span>Комментарий студента</a></span><ul class=\"toc-item\"><li><span><a href=\"#Исправлено\" data-toc-modified-id=\"Исправлено-6.3.1\"><span class=\"toc-item-num\">6.3.1&nbsp;&nbsp;</span>Исправлено</a></span></li><li><span><a href=\"#Здорово\" data-toc-modified-id=\"Здорово-6.3.2\"><span class=\"toc-item-num\">6.3.2&nbsp;&nbsp;</span>Здорово</a></span></li></ul></li><li><span><a href=\"#Средняя-выручка-пользователей-из-Москвы-отличается-от-выручки-пользователей-из-других-регионов\" data-toc-modified-id=\"Средняя-выручка-пользователей-из-Москвы-отличается-от-выручки-пользователей-из-других-регионов-6.4\"><span class=\"toc-item-num\">6.4&nbsp;&nbsp;</span>Средняя выручка пользователей из Москвы отличается от выручки пользователей из других регионов</a></span></li><li><span><a href=\"#Комментарий-ревьюера\" data-toc-modified-id=\"Комментарий-ревьюера-6.5\"><span class=\"toc-item-num\">6.5&nbsp;&nbsp;</span>Комментарий ревьюера</a></span><ul class=\"toc-item\"><li><span><a href=\"#Ошибка\" data-toc-modified-id=\"Ошибка-6.5.1\"><span class=\"toc-item-num\">6.5.1&nbsp;&nbsp;</span>Ошибка</a></span></li></ul></li><li><span><a href=\"#Комментарий-студента\" data-toc-modified-id=\"Комментарий-студента-6.6\"><span class=\"toc-item-num\">6.6&nbsp;&nbsp;</span>Комментарий студента</a></span><ul class=\"toc-item\"><li><span><a href=\"#Исправлено\" data-toc-modified-id=\"Исправлено-6.6.1\"><span class=\"toc-item-num\">6.6.1&nbsp;&nbsp;</span>Исправлено</a></span></li><li><span><a href=\"#Ну-и-тут-без-особого-труда.-Молодец\" data-toc-modified-id=\"Ну-и-тут-без-особого-труда.-Молодец-6.6.2\"><span class=\"toc-item-num\">6.6.2&nbsp;&nbsp;</span>Ну и тут без особого труда. Молодец</a></span></li></ul></li></ul></li><li><span><a href=\"#Общий-вывод-по-проведенной-работе\" data-toc-modified-id=\"Общий-вывод-по-проведенной-работе-7\"><span class=\"toc-item-num\">7&nbsp;&nbsp;</span>Общий вывод по проведенной работе</a></span></li><li><span><a href=\"#Итоговый-комментарии-от-ревьюера:\" data-toc-modified-id=\"Итоговый-комментарии-от-ревьюера:-8\"><span class=\"toc-item-num\">8&nbsp;&nbsp;</span>Итоговый комментарии от ревьюера:</a></span><ul class=\"toc-item\"><li><ul class=\"toc-item\"><li><span><a href=\"#Успех\" data-toc-modified-id=\"Успех-8.0.1\"><span class=\"toc-item-num\">8.0.1&nbsp;&nbsp;</span>Успех</a></span></li></ul></li></ul></li></ul></div>"
   ]
  },
  {
   "cell_type": "code",
   "execution_count": 1,
   "metadata": {},
   "outputs": [
    {
     "data": {
      "text/html": [
       "<style> \n",
       "    \n",
       "    #project_logo\n",
       "    {\n",
       "        height: 150px;\n",
       "    }\n",
       "    \n",
       "    #logo_bg\n",
       "    {\n",
       "        text-align: right;\n",
       "        color: white;\n",
       "        font-family: monospace;\n",
       "        height: 100px;\n",
       "        background: \n",
       "            repeating-linear-gradient(\n",
       "                248deg, \n",
       "                rgba(0 , 188 , 212 , 0.24), \n",
       "                rgba(255 , 0 , 0 , 0), \n",
       "                rgba(0 , 188 , 212 , 0.5) 5px\n",
       "            ), \n",
       "            repeating-linear-gradient(\n",
       "                180deg, \n",
       "                #9e9e9e, \n",
       "                rgba(0 , 255 , 0 , 0) 70.71%\n",
       "            ), \n",
       "            repeating-linear-gradient(\n",
       "                0deg, \n",
       "                #607d8b, \n",
       "                rgba(0 , 0 , 255 , 0) 70.71%\n",
       "            );\n",
       "    }\n",
       "    \n",
       "    #logo_text \n",
       "    {\n",
       "        font-size: 100px; \n",
       "        font-weight: bold; \n",
       "        font-family: monospace; \n",
       "        color: #607d8b; \n",
       "        line-height: 100px; \n",
       "        text-shadow: 10px 0 0 rgba(255 , 255 , 255 , 0.45), \n",
       "            -2px 0 0 #fff, \n",
       "            0 1px 0 #fff, \n",
       "            0 -1px 0 #fff, \n",
       "            1px 1px #fff, \n",
       "            -1px -1px 0 #fff, \n",
       "            1px -1px 0 #fff,\n",
       "            -1px 1px 0 #fff, \n",
       "            10px 19px 4px; \n",
       "        opacity: 0.8; \n",
       "        text-align: center;\n",
       "    }\n",
       "    \n",
       "    #project_author\n",
       "    {\n",
       "        width: 160px;\n",
       "        height: 30px;\n",
       "        line-height: 10px;\n",
       "        display: inline-block;\n",
       "        background-color: #ff5722;\n",
       "        padding: 10px;\n",
       "        border-radius: 0px 0px 20px 20px;\n",
       "        text-align: center;\n",
       "        box-shadow: 3px 2px 3px 2px #ccc;\n",
       "        margin: 0;\n",
       "        margin-right: 40px;\n",
       "    }\n",
       "    \n",
       "    \n",
       "    \n",
       "    /*********TARIFFS***********/\n",
       "    \n",
       "    #tariff_smart\n",
       "    {\n",
       "        text-align: right; \n",
       "        color: white; \n",
       "        font-family: monospace; \n",
       "        height: 580px; \n",
       "        background: \n",
       "            repeating-linear-gradient(\n",
       "                248deg, \n",
       "                rgba(0, 188, 212, 0.24), \n",
       "                rgba(255 , 0 , 0 , 0), \n",
       "                rgba(0, 188, 212, 0.5) 5px\n",
       "            ), \n",
       "            repeating-linear-gradient(\n",
       "                130deg, \n",
       "                #9e9e9e, \n",
       "                rgba(0 , 255 , 0 , 0) 70.71%\n",
       "            ), \n",
       "            repeating-linear-gradient(\n",
       "                20deg, \n",
       "                #607d8b, \n",
       "                rgba(0 , 0 , 255 , 0) 70.71%\n",
       "            );\n",
       "    }\n",
       "\n",
       "    #tariff_ultra\n",
       "    {\n",
       "        text-align: left; \n",
       "        color: white; \n",
       "        font-family: monospace; \n",
       "        height: 580px;\n",
       "        background: \n",
       "            repeating-linear-gradient(\n",
       "                248deg, \n",
       "                rgba(0 , 188 , 212 , 0.24), \n",
       "                rgba(255 , 0 , 0 , 0), \n",
       "                rgba(0 , 188 , 212 , 0.5) 5px\n",
       "            ), \n",
       "            repeating-linear-gradient(\n",
       "                310deg, \n",
       "                #9e9e9e, \n",
       "                rgba(0 , 255 , 0 , 0) 70.71%\n",
       "            ) , \n",
       "            repeating-linear-gradient(\n",
       "                205deg, \n",
       "                #607d8b, \n",
       "                rgba(0 , 0 , 255 , 0) 70.71%\n",
       "            );\n",
       "    }\n",
       "\n",
       "    .tariff_block\n",
       "    {\n",
       "        width: 440px;\n",
       "        display: inline-block;\n",
       "        text-align: center;\n",
       "    }\n",
       "\n",
       "    .tariff_name\n",
       "    {\n",
       "        width: 118px;\n",
       "        display: inline-block;\n",
       "        background-color: #ff5722;\n",
       "        padding: 10px;\n",
       "        border-radius: 20px 0px 40px 0px;\n",
       "        margin-right: -100px;\n",
       "    }\n",
       "\n",
       "    #tariff_ultra .tariff_name\n",
       "    {\n",
       "        margin-right: -100px !important;\n",
       "    }\n",
       "\n",
       "    .tariff_bg\n",
       "    {\n",
       "        width: 400px;\n",
       "        height: 400px;\n",
       "        background: \n",
       "            linear-gradient(\n",
       "                248deg, \n",
       "                #4caf50, \n",
       "                rgba(255 , 0 , 0 , 0.2) 70.71%\n",
       "            ), \n",
       "            linear-gradient(\n",
       "                122deg, \n",
       "                #8bc34a, \n",
       "                rgba(0 , 255 , 0 , 0.5) 70.71%\n",
       "            ), \n",
       "            linear-gradient(\n",
       "                9deg, \n",
       "                #4caf50, \n",
       "                rgba(0 , 0 , 255 , 0.5) 70.71%\n",
       "            );\n",
       "        display: inline-block;\n",
       "        padding: 10px;\n",
       "        box-shadow: 3px 3px 4px 1px rgba(0, 0, 0, 0.27);\n",
       "        border-radius: 160px;\n",
       "        margin: 20px;\n",
       "        margin-top: 0px !important;\n",
       "        text-align: center !important;\n",
       "    }\n",
       "\n",
       "    .tariff_price\n",
       "    {\n",
       "        color: #333;\n",
       "        font-weight: bold;\n",
       "        font-size: 60px;\n",
       "        line-height: 125px;\n",
       "        width: 150px;\n",
       "        height: 150px;\n",
       "        background-color: white;\n",
       "        border-radius: 80px;\n",
       "        padding: 10px;\n",
       "        position: relative;\n",
       "        top: 5px;\n",
       "        display: inline-block\n",
       "    }\n",
       "\n",
       "    .tariff_price_description\n",
       "    {\n",
       "        display: inline-block;\n",
       "        position: relative;\n",
       "        width: 400px;\n",
       "        top: -30px;\n",
       "        color: #333;\n",
       "        font-size: 10px;\n",
       "        margin-left: -10px\n",
       "    }\n",
       "\n",
       "    .tariff_settings_block\n",
       "    {\n",
       "        position: relative;\n",
       "        left: 20px;\n",
       "        top: -25px;\n",
       "        display: flex;\n",
       "        width: 320px;\n",
       "    }\n",
       "\n",
       "    .tariff_settings_buttons_block\n",
       "    {\n",
       "        color: #333;\n",
       "        font-family: 'segoe ui' , 'roboto' , 'oxygen' , 'ubuntu' , 'helvetica neue' , 'arial' , sans-serif , 'apple color emoji' , 'segoe ui emoji' , 'segoe ui symbol';\n",
       "        font-size: 40px;\n",
       "        width: 90px;\n",
       "        display: inline-block;\n",
       "        line-height: 40px;\n",
       "        text-align: center;\n",
       "        padding: 10px;\n",
       "    }\n",
       "\n",
       "    .tariff_settings_button\n",
       "    {\n",
       "        border-radius: 30px;\n",
       "        background-color: white;\n",
       "        height: 60px;\n",
       "        width: 60px;\n",
       "        padding-top: 8px;\n",
       "        display: inline-block;\n",
       "    }\n",
       "\n",
       "    .tariff_settings_button.last\n",
       "    {\n",
       "        padding-top: 8px !important;\n",
       "    }\n",
       "\n",
       "\n",
       "    .tariff_settings_description_block\n",
       "    {\n",
       "        text-align: left;\n",
       "        padding: 10px;\n",
       "        line-height: 60px;\n",
       "        font-size: 18px;\n",
       "        font-weight: bold;\n",
       "    }\n",
       "\n",
       "    .tariff_settings_description\n",
       "    {\n",
       "        display: inline-block;\n",
       "        height: 60px;\n",
       "        width: 100%;\n",
       "    }\n",
       "\n",
       "    .tariff_settings_limit\n",
       "    {\n",
       "        width: 100%;\n",
       "        background: \n",
       "            linear-gradient(\n",
       "                248deg, \n",
       "                #ff5722, \n",
       "                rgba(255 , 0 , 0 , 0) 70.71%\n",
       "            ), \n",
       "            linear-gradient(\n",
       "                122deg, \n",
       "                #e91e63, \n",
       "                rgba(0 , 255 , 0 , 0) 70.71%\n",
       "            ), \n",
       "            linear-gradient(\n",
       "                9deg, \n",
       "                #9c27b0, \n",
       "                rgba(0 , 0 , 255 , 0) 70.71%\n",
       "            );\n",
       "            text-align: left;\n",
       "            padding: 10px;\n",
       "    }\n",
       "    \n",
       "    /****END***TARIFFS***********/\n",
       "    \n",
       "    h1, h2, h3 {\n",
       "        /* background: repeating-linear-gradient(248deg , #ffffff , rgb(96 125 139 / 50%) , rgb(255 255 255 / 50%) 5px); */\n",
       "        padding: 10px;\n",
       "        color: #607d8b;\n",
       "    }\n",
       "    \n",
       "    div.ow_fl {\n",
       "        overflow: auto;\n",
       "    }\n",
       "    \n",
       "    div.ow_fl p {\n",
       "        display:flex;\n",
       "    }\n",
       "    \n",
       "    .rendered_html :link {\n",
       "        text-decoration: none;\n",
       "    }\n",
       "        \n",
       "    a:hover, a:focus {\n",
       "        color: #1a466c;\n",
       "        text-decoration: underline !important;\n",
       "    }\n",
       "    \n",
       "    #notebook-container {\n",
       "        /*width: 1700px;*/\n",
       "    }\n",
       "    \n",
       "    #notebook-container .cell:nth-child(6) {\n",
       "        display: none;\n",
       "    }\n",
       "    \n",
       "    #notebook-container .cell:nth-child(7) {\n",
       "        display: none;\n",
       "    }\n",
       "    \n",
       "    table {float: left;}\n",
       "    table td, table th, table tr {\n",
       "        text-align:left !important;\n",
       "    }\n",
       "    \n",
       "    .menu_table thead,\n",
       "    .menu_table tbody,\n",
       "    .menu_table tr\n",
       "    {\n",
       "        border: none !important;\n",
       "        background: none !important;\n",
       "        cursor: default;\n",
       "    }\n",
       "    \n",
       "    .menu_table thead {\n",
       "        display: none;\n",
       "    }\n",
       "    \n",
       "    .clearfix {\n",
       "        clear: both;\n",
       "    }\n",
       "    \n",
       "    \n",
       "    /*----BLOCKS-------------*/\n",
       "    \n",
       "    .rendered_html em del \n",
       "    {\n",
       "        text-decoration: none;\n",
       "        border: 1px solid gray;\n",
       "        border-radius: 10px;\n",
       "        padding: 2px;\n",
       "        background: bisque;\n",
       "        box-shadow: 1px 1px 3px grey;\n",
       "        font-style: italic;\n",
       "        font-weight: bold;\n",
       "        color: brown;\n",
       "        line-height: 30px;\n",
       "    }\n",
       "    \n",
       "    .rendered_html del {\n",
       "        text-decoration: none !important;\n",
       "    }\n",
       "    \n",
       "    \n",
       "    .rendered_html strong em,\n",
       "    .rendered_html em strong \n",
       "    {\n",
       "        \n",
       "        display: block;\n",
       "        border-radius: 5px;\n",
       "        padding: 15px;\n",
       "        font-style: normal !important;\n",
       "        text-decoration: none;\n",
       "    }\n",
       "    \n",
       "    .rendered_html strong em\n",
       "    {\n",
       "        background: rgba(66, 165, 245, 0.2);\n",
       "        color: rgba(0, 0, 0, 0.8);\n",
       "        font-weight: normal;\n",
       "    }\n",
       "    \n",
       "    .rendered_html em strong\n",
       "    {\n",
       "        background: rgba(232, 245, 233, 1);\n",
       "        color: rgba(0, 0, 0, 0.8);\n",
       "        font-weight: normal;\n",
       "    }\n",
       "\n",
       "    .rendered_html strong em code,\n",
       "    .rendered_html em strong code\n",
       "    {\n",
       "        background: white;\n",
       "        border-radius: 4px;\n",
       "        padding: 2px !important;\n",
       "    }    \n",
       "\n",
       "\n",
       "    /*-----TABLE---------*/\n",
       "    \n",
       "    .table_border {\n",
       "        border-radius: 10px;\n",
       "        border: 1px solid #ccc !important;\n",
       "        margin: 5px;\n",
       "        margin-top: 40px !important;\n",
       "        padding: 5px;\n",
       "        display: inline-block;\n",
       "        cursor: default;\n",
       "        box-shadow: 5px 4px 5px 1px rgba(0, 0, 0, 0.07);\n",
       "    }\n",
       "    \n",
       "    .table_border:before, \n",
       "    p.value:before \n",
       "    {\n",
       "        content: attr(data-title);\n",
       "        position: absolute;\n",
       "        display: block;\n",
       "        margin-block: auto;\n",
       "        margin-top: -25px;\n",
       "        /*color: rgb(0 0 0 / 30%);*/\n",
       "        color: #4caf50;\n",
       "        font-size: 10px;\n",
       "    }\n",
       "\n",
       "    p:before \n",
       "    {\n",
       "        margin-top: -15px !important;\n",
       "    }\n",
       "    \n",
       "    p.value \n",
       "    {\n",
       "        padding-top: 40px;\n",
       "    }\n",
       "    \n",
       "    .table_border thead, \n",
       "    .table_border thead tr, \n",
       "    .table_border thead th {\n",
       "        color: #03a9f4;\n",
       "        vertical-align: middle;\n",
       "    }\n",
       "    \n",
       "\n",
       "    .table_border thead tr\n",
       "    {\n",
       "        background: rgba(66, 165, 245, 0.2) !important;\n",
       "        border-bottom: 1px solid #b2ebf2 !important;\n",
       "        padding: 1px;\n",
       "    }\n",
       "    \n",
       "    .table_border tbody td:hover\n",
       "    {\n",
       "        font-weight: bold;\n",
       "        color: #03a9f4;\n",
       "    }\n",
       "\n",
       "    .table_border thead tr:first-child th:first-child {\n",
       "        border-radius: 10px 0px 0px 0px;\n",
       "    }\n",
       "\n",
       "    .table_border thead tr:first-child th:last-child {\n",
       "        border-radius: 0px 10px 0px 0px;\n",
       "    }\n",
       "    \n",
       "    .table_border tbody tr:last-child:hover\n",
       "    {\n",
       "        border-radius: 0px 0px 10px 10px;\n",
       "        padding: 0px;\n",
       "    }\n",
       "    \n",
       "    .table_border tbody tr:last-child:hover th,\n",
       "    .table_border tbody tr:last-child:hover td {\n",
       "        background: antiquewhite !important;\n",
       "    }\n",
       "\n",
       "    .table_border tbody tr:hover,\n",
       "    .table_border tbody tr:hover th,\n",
       "    .table_border tbody tr:hover td,\n",
       "    .table_border tbody tr:hover > th,\n",
       "    .table_border tbody td.active\n",
       "    {\n",
       "        background: rgba(66, 165, 245, 0.2) !important;\n",
       "    }\n",
       "    \n",
       "    .table_border tbody tr:last-child:hover th,\n",
       "    .table_border tbody tr:last-child:hover td:first-child {\n",
       "        border-radius: 0px 0px 0px 10px;\n",
       "        display: table-cell;\n",
       "    }\n",
       "    \n",
       "    .table_border tbody tr:last-child:hover td:last-child {\n",
       "        border-radius: 0px 0px 10px 0px;\n",
       "        display: table-cell;\n",
       "    }\n",
       "    \n",
       "    .table_border tbody tr,\n",
       "    .table_border tbody th,\n",
       "    .table_border tbody td\n",
       "    {\n",
       "        background: white;\n",
       "    }\n",
       "    \n",
       "    .table_border tbody td {\n",
       "        min-width: 120px;\n",
       "    }\n",
       "    \n",
       "    .table_border tbody tr .row_heading {\n",
       "        color: rgba(0,0,0,0.2)\n",
       "    }\n",
       "    \n",
       "    .table_border td.table_border_td_nan {\n",
       "        font-weight: bold;\n",
       "        text-transform: capitalize;\n",
       "        color: red;\n",
       "    }\n",
       "\n",
       "    .table_border tbody tr:hover .row_heading {\n",
       "        color: #1565c0;\n",
       "    }\n",
       "    \n",
       "    /*\n",
       "    ++++++++++++++++++++++\n",
       "    .table_border {\n",
       "        border-radius: 13px;\n",
       "        border: 1px solid #ccc !important;\n",
       "        margin: 5px;\n",
       "        padding: 5px;\n",
       "        display: inline-block;\n",
       "        cursor: default;\n",
       "        box-shadow: 5px 4px 5px 1px rgba(0, 0, 0, 0.07);\n",
       "    }\n",
       "    \n",
       "    .table_border table, \n",
       "    {\n",
       "        border-collapse: separate;\n",
       "    }\n",
       "    \n",
       "    .table_border thead,\n",
       "    .table_border thead tr,\n",
       "    .table_border thead th\n",
       "    {\n",
       "        text-align: center !important;\n",
       "        color: #03a9f4;\n",
       "    }\n",
       "    \n",
       "    \n",
       "    .table_border thead th\n",
       "    {\n",
       "        border-right: 1px solid;\n",
       "    }\n",
       "    \n",
       "    .table_border thead th:last-child\n",
       "    {\n",
       "        border-right: none;\n",
       "    }\n",
       "    \n",
       "    .table_border thead\n",
       "    {\n",
       "        display: table-caption;\n",
       "        border: none !important;\n",
       "    }\n",
       "    \n",
       "    .table_border tbody\n",
       "    {\n",
       "        border: none !important;\n",
       "        display: table-cell;\n",
       "    }\n",
       "    \n",
       "    ++++++++++++++++++++++\n",
       "    .table_border thead tr\n",
       "    {\n",
       "        background: rgba(66, 165, 245, 0.2) !important;\n",
       "        border-bottom: 1px solid #b2ebf2 !important;\n",
       "        display: table-row;\n",
       "        padding: 1px;\n",
       "    }\n",
       "    \n",
       "    ++++++++++++++++++++++\n",
       "    .table_border thead tr:first-child th:first-child {\n",
       "        display: table-cell;\n",
       "        border-radius: 10px 0px 0px 0px;\n",
       "    }\n",
       "    ++++++++++++++++++++++\n",
       "    .table_border thead tr:first-child th:last-child {\n",
       "        display: table-cell;\n",
       "        border-radius: 0px 10px 0px 0px;\n",
       "    }\n",
       "    \n",
       "    .table_border thead th\n",
       "    {\n",
       "        word-break: inherit;            \n",
       "    }\n",
       "\n",
       "    .table_border th, .table_border tbody td {\n",
       "        width: 110px;\n",
       "        word-break: break-word;\n",
       "    }\n",
       "    \n",
       "    .table_border tbody tr\n",
       "    {\n",
       "        background: none !important;\n",
       "    }\n",
       "    \n",
       "    ++++++++++++++++++++++\n",
       "    .table_border tbody tr:hover,\n",
       "    .table_border tbody td.active\n",
       "    {\n",
       "        background: rgba(66, 165, 245, 0.2) !important;\n",
       "    }\n",
       "    \n",
       "    ++++++++++++++++++++++\n",
       "    .table_border tbody td:hover\n",
       "    {\n",
       "        font-weight: bold;\n",
       "        color: #03a9f4;\n",
       "    }\n",
       "    \n",
       "    .table_border tbody tr:last-child:hover\n",
       "    {\n",
       "        border-radius: 0px 0px 10px 10px;\n",
       "        display: block;\n",
       "        padding: 0px;\n",
       "        background: antiquewhite !important;\n",
       "    }\n",
       "    \n",
       "    /*.table_border th, \n",
       "    .table_border td\n",
       "    {\n",
       "        width: 250px !important;\n",
       "        word-break: break-word;\n",
       "    }*/\n",
       "    \n",
       "    \n",
       "    .sea_war th,\n",
       "    .sea_war td\n",
       "    {\n",
       "        width: 26px !important;\n",
       "    }\n",
       "    \n",
       "    .sea_war tbody th,\n",
       "    .sea_war tbody td\n",
       "    {\n",
       "        border: 1px solid rgba(0,0,0,0.1);\n",
       "    }\n",
       "    \n",
       "    .sea_war tbody th\n",
       "    {\n",
       "        color: rgba(0,0,0,0.5);\n",
       "        text-align: center !important;\n",
       "    }\n",
       "    \n",
       "    /*---------------Borders------------------------*/\n",
       "    \n",
       "    /* border_horizont  */\n",
       "    .border_horizont tbody th, \n",
       "    .border_horizont tbody td\n",
       "    {\n",
       "        border-bottom: 1px solid rgba(0,0,0,0.04);\n",
       "    }\n",
       "    \n",
       "    .border_horizont tbody tr:last-child th, \n",
       "    .border_horizont tbody tr:last-child td\n",
       "    {\n",
       "        border-bottom: none;\n",
       "    }\n",
       "    \n",
       "    /* border_vertical  */\n",
       "    .border_vertical tbody th, \n",
       "    .border_vertical tbody td\n",
       "    {\n",
       "        border-right: 1px solid rgba(0,0,0,0.04);\n",
       "    }\n",
       "     \n",
       "    .border_vertical tbody td:last-child\n",
       "    {\n",
       "        border-right: none;\n",
       "    }\n",
       "    \n",
       "    /* border_display  */\n",
       "    .border_display tbody th, \n",
       "    .border_display tbody td\n",
       "    {\n",
       "        border: 1px solid rgba(0,0,0,0.04);\n",
       "    }\n",
       "    .border_display tbody th,\n",
       "    .border_display tbody td\n",
       "    {\n",
       "        border-left: none;\n",
       "        border-top: none;\n",
       "    }\n",
       "    .border_display tbody td:last-child\n",
       "    {\n",
       "       border-right: none; \n",
       "    }\n",
       "    .border_display tbody tr:last-child th,\n",
       "    .border_display tbody tr:last-child td \n",
       "    {\n",
       "        border-bottom: none;\n",
       "    }\n",
       "    \n",
       "    \n",
       "    /* positions  */\n",
       "    \n",
       "    .position_left thead th,\n",
       "    .position_left tbody td {\n",
       "        text-align: left !important;\n",
       "    }\n",
       "    \n",
       "    .position_center thead th,\n",
       "    .position_center tbody td {\n",
       "        text-align: center !important;\n",
       "    }\n",
       "\n",
       "    .position_right thead th,\n",
       "    .position_right tbody td {\n",
       "        text-align: right !important;\n",
       "    }\n",
       "    \n",
       "    .position_left_header thead th {\n",
       "        text-align: left !important;\n",
       "    }\n",
       "    \n",
       "    .position_center_header thead th {\n",
       "        text-align: center !important;\n",
       "    }\n",
       "    .position_right_header thead th {\n",
       "        text-align: right !important;\n",
       "    }\n",
       "    \n",
       "    /*---------------Code------------------------*/\n",
       "    .rendered_html p code,\n",
       "    .rendered_html ul code,\n",
       "    .rendered_html pre code[class*=\"custom\"]\n",
       "    {\n",
       "        background-color: #d9edfd;\n",
       "        color: #4c4c4c;\n",
       "        font-size: 16px !important;\n",
       "        border-radius: 10px;\n",
       "        font-weight: bold;\n",
       "        border: 1px solid #ccc !important;\n",
       "        padding: 5px !important;\n",
       "        line-height: 19px !important;\n",
       "        display: inline-block;\n",
       "        margin: 5px 0px 0px 0px;\n",
       "        word-break: break-word;\n",
       "    }\n",
       "    \n",
       "    .rendered_html code span[class*=\"-bold\"]\n",
       "    {\n",
       "        font-weight: bold;\n",
       "    }\n",
       "    \n",
       "    .rendered_html code span[class*=\"-italic\"]\n",
       "    {\n",
       "        font-style: italic;\n",
       "    }\n",
       "    \n",
       "    .rendered_html code span[class*=\"-marker\"]\n",
       "    {\n",
       "        background: #ffeb3b8c;\n",
       "        font-weight: bold;\n",
       "        border: 1px solid #9e9e9e;\n",
       "        box-shadow: 1px 1px 5px 0px #00000045;\n",
       "        border-radius: 4px;\n",
       "        padding: 2px;\n",
       "        opacity: 0.8;\n",
       "        line-height: 30px;\n",
       "    }\n",
       "\n",
       "    .rendered_html code[class*=\"error\"] {\n",
       "        color: red !important;\n",
       "        background-color: rgba(244, 67, 54, 0.1) !important;\n",
       "        font-weight: normal !important;\n",
       "    }\n",
       "    \n",
       "    .rendered_html code[class*=\"warning\"] {\n",
       "        color: #ff9800 !important;\n",
       "        background-color: rgba(244, 243, 54, 0.1) !important;\n",
       "        font-weight: normal !important;\n",
       "    }\n",
       "\n",
       "    .rendered_html code[class*=\"info\"] {\n",
       "        color: green !important;\n",
       "        background-color: rgb(54, 244, 91, 0.1) !important;\n",
       "        font-weight: normal !important;\n",
       "    }\n",
       "    \n",
       "    .rendered_html code[class*=\"word\"] {\n",
       "        color: #00bcd4 !important;\n",
       "        background-color: rgba(54, 195, 244, 0.1) !important;\n",
       "        font-weight: normal !important;\n",
       "    }\n",
       "    \n",
       "    /*---------------Imgs------------------------*/\n",
       "    .rendered_html img\n",
       "    {\n",
       "        border-radius: 16px;\n",
       "        border: 1px solid rgb(0 0 0 / 25%);\n",
       "        box-shadow: 5px 6px 8px 1px hsl(0deg 0% 0% / 25%);\n",
       "        padding: 4px;\n",
       "        margin-bottom: 10px;\n",
       "        max-width: 65em;\n",
       "    }\n",
       "    \n",
       "    #ipython_notebook:after {\n",
       "        content: '@alefair кодит';\n",
       "        position: relative;\n",
       "        color: #2196f3;\n",
       "        bottom: 7px;\n",
       "        right: -35px;\n",
       "    }\n",
       "                                                 \n",
       "   .total .banner {\n",
       "        background: repeating-linear-gradient(248deg , rgba(0 , 188 , 212 , 0.24) , rgba(255 , 0 , 0 , 0) , rgba(0 , 188 , 212 , 0.5) 5px) , repeating-linear-gradient(248deg , rgba(96 , 125 , 139 , 0.5) , rgba(0 , 255 , 0 , 0) 45.71%);\n",
       "        height: 50px;\n",
       "        border: 1px solid #999;\n",
       "        border-bottom: none;\n",
       "   }\n",
       "                                                 \n",
       "   .total .description {\n",
       "        border: 1px solid #999;\n",
       "        border-top: none;\n",
       "        padding: 20px;\n",
       "        font-family: monospace;\n",
       "   }\n",
       "                                                 \n",
       "   .total .description h3,\n",
       "   .total .description h4                                              \n",
       "   {\n",
       "        font-weight: bold;\n",
       "        font-size: 16px;\n",
       "        color: #999;\n",
       "        margin-bottom: 10px;\n",
       "   }\n",
       "                                                 \n",
       "   .total .description .content {\n",
       "        color: #333;\n",
       "        font-size: 13px;\n",
       "        border-radius: 10px;\n",
       "        overflow: hidden;\n",
       "        box-shadow: 1px 1px 3px 2px rgba(0, 0, 0, 0.3);\n",
       "   }\n",
       "                                                 \n",
       "    .ribbon {\n",
       "        text-align: center;\n",
       "        display: block;\n",
       "        width: 150px;\n",
       "        height: 40px;\n",
       "        background: #ff5722;\n",
       "        color: white;\n",
       "        font-family: monospace;\n",
       "        padding-top: 10px;\n",
       "    }\n",
       "    .ribbon:after {\n",
       "        content: \"\";\n",
       "        display: block;\n",
       "        position: relative;\n",
       "        top: 10px;\n",
       "        width: 0px;\n",
       "        height: 0;\n",
       "        border-width: 10px 75px 50px 75px;\n",
       "        border-style: solid;\n",
       "        border-color: #ff5722 #d00202 transparent #d00202;\n",
       "    }\n",
       "</style>\n"
      ],
      "text/plain": [
       "<IPython.core.display.HTML object>"
      ]
     },
     "metadata": {},
     "output_type": "display_data"
    }
   ],
   "source": [
    "%%HTML\n",
    "<style> \n",
    "    \n",
    "    #project_logo\n",
    "    {\n",
    "        height: 150px;\n",
    "    }\n",
    "    \n",
    "    #logo_bg\n",
    "    {\n",
    "        text-align: right;\n",
    "        color: white;\n",
    "        font-family: monospace;\n",
    "        height: 100px;\n",
    "        background: \n",
    "            repeating-linear-gradient(\n",
    "                248deg, \n",
    "                rgba(0 , 188 , 212 , 0.24), \n",
    "                rgba(255 , 0 , 0 , 0), \n",
    "                rgba(0 , 188 , 212 , 0.5) 5px\n",
    "            ), \n",
    "            repeating-linear-gradient(\n",
    "                180deg, \n",
    "                #9e9e9e, \n",
    "                rgba(0 , 255 , 0 , 0) 70.71%\n",
    "            ), \n",
    "            repeating-linear-gradient(\n",
    "                0deg, \n",
    "                #607d8b, \n",
    "                rgba(0 , 0 , 255 , 0) 70.71%\n",
    "            );\n",
    "    }\n",
    "    \n",
    "    #logo_text \n",
    "    {\n",
    "        font-size: 100px; \n",
    "        font-weight: bold; \n",
    "        font-family: monospace; \n",
    "        color: #607d8b; \n",
    "        line-height: 100px; \n",
    "        text-shadow: 10px 0 0 rgba(255 , 255 , 255 , 0.45), \n",
    "            -2px 0 0 #fff, \n",
    "            0 1px 0 #fff, \n",
    "            0 -1px 0 #fff, \n",
    "            1px 1px #fff, \n",
    "            -1px -1px 0 #fff, \n",
    "            1px -1px 0 #fff,\n",
    "            -1px 1px 0 #fff, \n",
    "            10px 19px 4px; \n",
    "        opacity: 0.8; \n",
    "        text-align: center;\n",
    "    }\n",
    "    \n",
    "    #project_author\n",
    "    {\n",
    "        width: 160px;\n",
    "        height: 30px;\n",
    "        line-height: 10px;\n",
    "        display: inline-block;\n",
    "        background-color: #ff5722;\n",
    "        padding: 10px;\n",
    "        border-radius: 0px 0px 20px 20px;\n",
    "        text-align: center;\n",
    "        box-shadow: 3px 2px 3px 2px #ccc;\n",
    "        margin: 0;\n",
    "        margin-right: 40px;\n",
    "    }\n",
    "    \n",
    "    \n",
    "    \n",
    "    /*********TARIFFS***********/\n",
    "    \n",
    "    #tariff_smart\n",
    "    {\n",
    "        text-align: right; \n",
    "        color: white; \n",
    "        font-family: monospace; \n",
    "        height: 580px; \n",
    "        background: \n",
    "            repeating-linear-gradient(\n",
    "                248deg, \n",
    "                rgba(0, 188, 212, 0.24), \n",
    "                rgba(255 , 0 , 0 , 0), \n",
    "                rgba(0, 188, 212, 0.5) 5px\n",
    "            ), \n",
    "            repeating-linear-gradient(\n",
    "                130deg, \n",
    "                #9e9e9e, \n",
    "                rgba(0 , 255 , 0 , 0) 70.71%\n",
    "            ), \n",
    "            repeating-linear-gradient(\n",
    "                20deg, \n",
    "                #607d8b, \n",
    "                rgba(0 , 0 , 255 , 0) 70.71%\n",
    "            );\n",
    "    }\n",
    "\n",
    "    #tariff_ultra\n",
    "    {\n",
    "        text-align: left; \n",
    "        color: white; \n",
    "        font-family: monospace; \n",
    "        height: 580px;\n",
    "        background: \n",
    "            repeating-linear-gradient(\n",
    "                248deg, \n",
    "                rgba(0 , 188 , 212 , 0.24), \n",
    "                rgba(255 , 0 , 0 , 0), \n",
    "                rgba(0 , 188 , 212 , 0.5) 5px\n",
    "            ), \n",
    "            repeating-linear-gradient(\n",
    "                310deg, \n",
    "                #9e9e9e, \n",
    "                rgba(0 , 255 , 0 , 0) 70.71%\n",
    "            ) , \n",
    "            repeating-linear-gradient(\n",
    "                205deg, \n",
    "                #607d8b, \n",
    "                rgba(0 , 0 , 255 , 0) 70.71%\n",
    "            );\n",
    "    }\n",
    "\n",
    "    .tariff_block\n",
    "    {\n",
    "        width: 440px;\n",
    "        display: inline-block;\n",
    "        text-align: center;\n",
    "    }\n",
    "\n",
    "    .tariff_name\n",
    "    {\n",
    "        width: 118px;\n",
    "        display: inline-block;\n",
    "        background-color: #ff5722;\n",
    "        padding: 10px;\n",
    "        border-radius: 20px 0px 40px 0px;\n",
    "        margin-right: -100px;\n",
    "    }\n",
    "\n",
    "    #tariff_ultra .tariff_name\n",
    "    {\n",
    "        margin-right: -100px !important;\n",
    "    }\n",
    "\n",
    "    .tariff_bg\n",
    "    {\n",
    "        width: 400px;\n",
    "        height: 400px;\n",
    "        background: \n",
    "            linear-gradient(\n",
    "                248deg, \n",
    "                #4caf50, \n",
    "                rgba(255 , 0 , 0 , 0.2) 70.71%\n",
    "            ), \n",
    "            linear-gradient(\n",
    "                122deg, \n",
    "                #8bc34a, \n",
    "                rgba(0 , 255 , 0 , 0.5) 70.71%\n",
    "            ), \n",
    "            linear-gradient(\n",
    "                9deg, \n",
    "                #4caf50, \n",
    "                rgba(0 , 0 , 255 , 0.5) 70.71%\n",
    "            );\n",
    "        display: inline-block;\n",
    "        padding: 10px;\n",
    "        box-shadow: 3px 3px 4px 1px rgba(0, 0, 0, 0.27);\n",
    "        border-radius: 160px;\n",
    "        margin: 20px;\n",
    "        margin-top: 0px !important;\n",
    "        text-align: center !important;\n",
    "    }\n",
    "\n",
    "    .tariff_price\n",
    "    {\n",
    "        color: #333;\n",
    "        font-weight: bold;\n",
    "        font-size: 60px;\n",
    "        line-height: 125px;\n",
    "        width: 150px;\n",
    "        height: 150px;\n",
    "        background-color: white;\n",
    "        border-radius: 80px;\n",
    "        padding: 10px;\n",
    "        position: relative;\n",
    "        top: 5px;\n",
    "        display: inline-block\n",
    "    }\n",
    "\n",
    "    .tariff_price_description\n",
    "    {\n",
    "        display: inline-block;\n",
    "        position: relative;\n",
    "        width: 400px;\n",
    "        top: -30px;\n",
    "        color: #333;\n",
    "        font-size: 10px;\n",
    "        margin-left: -10px\n",
    "    }\n",
    "\n",
    "    .tariff_settings_block\n",
    "    {\n",
    "        position: relative;\n",
    "        left: 20px;\n",
    "        top: -25px;\n",
    "        display: flex;\n",
    "        width: 320px;\n",
    "    }\n",
    "\n",
    "    .tariff_settings_buttons_block\n",
    "    {\n",
    "        color: #333;\n",
    "        font-family: 'segoe ui' , 'roboto' , 'oxygen' , 'ubuntu' , 'helvetica neue' , 'arial' , sans-serif , 'apple color emoji' , 'segoe ui emoji' , 'segoe ui symbol';\n",
    "        font-size: 40px;\n",
    "        width: 90px;\n",
    "        display: inline-block;\n",
    "        line-height: 40px;\n",
    "        text-align: center;\n",
    "        padding: 10px;\n",
    "    }\n",
    "\n",
    "    .tariff_settings_button\n",
    "    {\n",
    "        border-radius: 30px;\n",
    "        background-color: white;\n",
    "        height: 60px;\n",
    "        width: 60px;\n",
    "        padding-top: 8px;\n",
    "        display: inline-block;\n",
    "    }\n",
    "\n",
    "    .tariff_settings_button.last\n",
    "    {\n",
    "        padding-top: 8px !important;\n",
    "    }\n",
    "\n",
    "\n",
    "    .tariff_settings_description_block\n",
    "    {\n",
    "        text-align: left;\n",
    "        padding: 10px;\n",
    "        line-height: 60px;\n",
    "        font-size: 18px;\n",
    "        font-weight: bold;\n",
    "    }\n",
    "\n",
    "    .tariff_settings_description\n",
    "    {\n",
    "        display: inline-block;\n",
    "        height: 60px;\n",
    "        width: 100%;\n",
    "    }\n",
    "\n",
    "    .tariff_settings_limit\n",
    "    {\n",
    "        width: 100%;\n",
    "        background: \n",
    "            linear-gradient(\n",
    "                248deg, \n",
    "                #ff5722, \n",
    "                rgba(255 , 0 , 0 , 0) 70.71%\n",
    "            ), \n",
    "            linear-gradient(\n",
    "                122deg, \n",
    "                #e91e63, \n",
    "                rgba(0 , 255 , 0 , 0) 70.71%\n",
    "            ), \n",
    "            linear-gradient(\n",
    "                9deg, \n",
    "                #9c27b0, \n",
    "                rgba(0 , 0 , 255 , 0) 70.71%\n",
    "            );\n",
    "            text-align: left;\n",
    "            padding: 10px;\n",
    "    }\n",
    "    \n",
    "    /****END***TARIFFS***********/\n",
    "    \n",
    "    h1, h2, h3 {\n",
    "        /* background: repeating-linear-gradient(248deg , #ffffff , rgb(96 125 139 / 50%) , rgb(255 255 255 / 50%) 5px); */\n",
    "        padding: 10px;\n",
    "        color: #607d8b;\n",
    "    }\n",
    "    \n",
    "    div.ow_fl {\n",
    "        overflow: auto;\n",
    "    }\n",
    "    \n",
    "    div.ow_fl p {\n",
    "        display:flex;\n",
    "    }\n",
    "    \n",
    "    .rendered_html :link {\n",
    "        text-decoration: none;\n",
    "    }\n",
    "        \n",
    "    a:hover, a:focus {\n",
    "        color: #1a466c;\n",
    "        text-decoration: underline !important;\n",
    "    }\n",
    "    \n",
    "    #notebook-container {\n",
    "        /*width: 1700px;*/\n",
    "    }\n",
    "    \n",
    "    #notebook-container .cell:nth-child(6) {\n",
    "        display: none;\n",
    "    }\n",
    "    \n",
    "    #notebook-container .cell:nth-child(7) {\n",
    "        display: none;\n",
    "    }\n",
    "    \n",
    "    table {float: left;}\n",
    "    table td, table th, table tr {\n",
    "        text-align:left !important;\n",
    "    }\n",
    "    \n",
    "    .menu_table thead,\n",
    "    .menu_table tbody,\n",
    "    .menu_table tr\n",
    "    {\n",
    "        border: none !important;\n",
    "        background: none !important;\n",
    "        cursor: default;\n",
    "    }\n",
    "    \n",
    "    .menu_table thead {\n",
    "        display: none;\n",
    "    }\n",
    "    \n",
    "    .clearfix {\n",
    "        clear: both;\n",
    "    }\n",
    "    \n",
    "    \n",
    "    /*----BLOCKS-------------*/\n",
    "    \n",
    "    .rendered_html em del \n",
    "    {\n",
    "        text-decoration: none;\n",
    "        border: 1px solid gray;\n",
    "        border-radius: 10px;\n",
    "        padding: 2px;\n",
    "        background: bisque;\n",
    "        box-shadow: 1px 1px 3px grey;\n",
    "        font-style: italic;\n",
    "        font-weight: bold;\n",
    "        color: brown;\n",
    "        line-height: 30px;\n",
    "    }\n",
    "    \n",
    "    .rendered_html del {\n",
    "        text-decoration: none !important;\n",
    "    }\n",
    "    \n",
    "    \n",
    "    .rendered_html strong em,\n",
    "    .rendered_html em strong \n",
    "    {\n",
    "        \n",
    "        display: block;\n",
    "        border-radius: 5px;\n",
    "        padding: 15px;\n",
    "        font-style: normal !important;\n",
    "        text-decoration: none;\n",
    "    }\n",
    "    \n",
    "    .rendered_html strong em\n",
    "    {\n",
    "        background: rgba(66, 165, 245, 0.2);\n",
    "        color: rgba(0, 0, 0, 0.8);\n",
    "        font-weight: normal;\n",
    "    }\n",
    "    \n",
    "    .rendered_html em strong\n",
    "    {\n",
    "        background: rgba(232, 245, 233, 1);\n",
    "        color: rgba(0, 0, 0, 0.8);\n",
    "        font-weight: normal;\n",
    "    }\n",
    "\n",
    "    .rendered_html strong em code,\n",
    "    .rendered_html em strong code\n",
    "    {\n",
    "        background: white;\n",
    "        border-radius: 4px;\n",
    "        padding: 2px !important;\n",
    "    }    \n",
    "\n",
    "\n",
    "    /*-----TABLE---------*/\n",
    "    \n",
    "    .table_border {\n",
    "        border-radius: 10px;\n",
    "        border: 1px solid #ccc !important;\n",
    "        margin: 5px;\n",
    "        margin-top: 40px !important;\n",
    "        padding: 5px;\n",
    "        display: inline-block;\n",
    "        cursor: default;\n",
    "        box-shadow: 5px 4px 5px 1px rgba(0, 0, 0, 0.07);\n",
    "    }\n",
    "    \n",
    "    .table_border:before, \n",
    "    p.value:before \n",
    "    {\n",
    "        content: attr(data-title);\n",
    "        position: absolute;\n",
    "        display: block;\n",
    "        margin-block: auto;\n",
    "        margin-top: -25px;\n",
    "        /*color: rgb(0 0 0 / 30%);*/\n",
    "        color: #4caf50;\n",
    "        font-size: 10px;\n",
    "    }\n",
    "\n",
    "    p:before \n",
    "    {\n",
    "        margin-top: -15px !important;\n",
    "    }\n",
    "    \n",
    "    p.value \n",
    "    {\n",
    "        padding-top: 40px;\n",
    "    }\n",
    "    \n",
    "    .table_border thead, \n",
    "    .table_border thead tr, \n",
    "    .table_border thead th {\n",
    "        color: #03a9f4;\n",
    "        vertical-align: middle;\n",
    "    }\n",
    "    \n",
    "\n",
    "    .table_border thead tr\n",
    "    {\n",
    "        background: rgba(66, 165, 245, 0.2) !important;\n",
    "        border-bottom: 1px solid #b2ebf2 !important;\n",
    "        padding: 1px;\n",
    "    }\n",
    "    \n",
    "    .table_border tbody td:hover\n",
    "    {\n",
    "        font-weight: bold;\n",
    "        color: #03a9f4;\n",
    "    }\n",
    "\n",
    "    .table_border thead tr:first-child th:first-child {\n",
    "        border-radius: 10px 0px 0px 0px;\n",
    "    }\n",
    "\n",
    "    .table_border thead tr:first-child th:last-child {\n",
    "        border-radius: 0px 10px 0px 0px;\n",
    "    }\n",
    "    \n",
    "    .table_border tbody tr:last-child:hover\n",
    "    {\n",
    "        border-radius: 0px 0px 10px 10px;\n",
    "        padding: 0px;\n",
    "    }\n",
    "    \n",
    "    .table_border tbody tr:last-child:hover th,\n",
    "    .table_border tbody tr:last-child:hover td {\n",
    "        background: antiquewhite !important;\n",
    "    }\n",
    "\n",
    "    .table_border tbody tr:hover,\n",
    "    .table_border tbody tr:hover th,\n",
    "    .table_border tbody tr:hover td,\n",
    "    .table_border tbody tr:hover > th,\n",
    "    .table_border tbody td.active\n",
    "    {\n",
    "        background: rgba(66, 165, 245, 0.2) !important;\n",
    "    }\n",
    "    \n",
    "    .table_border tbody tr:last-child:hover th,\n",
    "    .table_border tbody tr:last-child:hover td:first-child {\n",
    "        border-radius: 0px 0px 0px 10px;\n",
    "        display: table-cell;\n",
    "    }\n",
    "    \n",
    "    .table_border tbody tr:last-child:hover td:last-child {\n",
    "        border-radius: 0px 0px 10px 0px;\n",
    "        display: table-cell;\n",
    "    }\n",
    "    \n",
    "    .table_border tbody tr,\n",
    "    .table_border tbody th,\n",
    "    .table_border tbody td\n",
    "    {\n",
    "        background: white;\n",
    "    }\n",
    "    \n",
    "    .table_border tbody td {\n",
    "        min-width: 120px;\n",
    "    }\n",
    "    \n",
    "    .table_border tbody tr .row_heading {\n",
    "        color: rgba(0,0,0,0.2)\n",
    "    }\n",
    "    \n",
    "    .table_border td.table_border_td_nan {\n",
    "        font-weight: bold;\n",
    "        text-transform: capitalize;\n",
    "        color: red;\n",
    "    }\n",
    "\n",
    "    .table_border tbody tr:hover .row_heading {\n",
    "        color: #1565c0;\n",
    "    }\n",
    "    \n",
    "    /*\n",
    "    ++++++++++++++++++++++\n",
    "    .table_border {\n",
    "        border-radius: 13px;\n",
    "        border: 1px solid #ccc !important;\n",
    "        margin: 5px;\n",
    "        padding: 5px;\n",
    "        display: inline-block;\n",
    "        cursor: default;\n",
    "        box-shadow: 5px 4px 5px 1px rgba(0, 0, 0, 0.07);\n",
    "    }\n",
    "    \n",
    "    .table_border table, \n",
    "    {\n",
    "        border-collapse: separate;\n",
    "    }\n",
    "    \n",
    "    .table_border thead,\n",
    "    .table_border thead tr,\n",
    "    .table_border thead th\n",
    "    {\n",
    "        text-align: center !important;\n",
    "        color: #03a9f4;\n",
    "    }\n",
    "    \n",
    "    \n",
    "    .table_border thead th\n",
    "    {\n",
    "        border-right: 1px solid;\n",
    "    }\n",
    "    \n",
    "    .table_border thead th:last-child\n",
    "    {\n",
    "        border-right: none;\n",
    "    }\n",
    "    \n",
    "    .table_border thead\n",
    "    {\n",
    "        display: table-caption;\n",
    "        border: none !important;\n",
    "    }\n",
    "    \n",
    "    .table_border tbody\n",
    "    {\n",
    "        border: none !important;\n",
    "        display: table-cell;\n",
    "    }\n",
    "    \n",
    "    ++++++++++++++++++++++\n",
    "    .table_border thead tr\n",
    "    {\n",
    "        background: rgba(66, 165, 245, 0.2) !important;\n",
    "        border-bottom: 1px solid #b2ebf2 !important;\n",
    "        display: table-row;\n",
    "        padding: 1px;\n",
    "    }\n",
    "    \n",
    "    ++++++++++++++++++++++\n",
    "    .table_border thead tr:first-child th:first-child {\n",
    "        display: table-cell;\n",
    "        border-radius: 10px 0px 0px 0px;\n",
    "    }\n",
    "    ++++++++++++++++++++++\n",
    "    .table_border thead tr:first-child th:last-child {\n",
    "        display: table-cell;\n",
    "        border-radius: 0px 10px 0px 0px;\n",
    "    }\n",
    "    \n",
    "    .table_border thead th\n",
    "    {\n",
    "        word-break: inherit;            \n",
    "    }\n",
    "\n",
    "    .table_border th, .table_border tbody td {\n",
    "        width: 110px;\n",
    "        word-break: break-word;\n",
    "    }\n",
    "    \n",
    "    .table_border tbody tr\n",
    "    {\n",
    "        background: none !important;\n",
    "    }\n",
    "    \n",
    "    ++++++++++++++++++++++\n",
    "    .table_border tbody tr:hover,\n",
    "    .table_border tbody td.active\n",
    "    {\n",
    "        background: rgba(66, 165, 245, 0.2) !important;\n",
    "    }\n",
    "    \n",
    "    ++++++++++++++++++++++\n",
    "    .table_border tbody td:hover\n",
    "    {\n",
    "        font-weight: bold;\n",
    "        color: #03a9f4;\n",
    "    }\n",
    "    \n",
    "    .table_border tbody tr:last-child:hover\n",
    "    {\n",
    "        border-radius: 0px 0px 10px 10px;\n",
    "        display: block;\n",
    "        padding: 0px;\n",
    "        background: antiquewhite !important;\n",
    "    }\n",
    "    \n",
    "    /*.table_border th, \n",
    "    .table_border td\n",
    "    {\n",
    "        width: 250px !important;\n",
    "        word-break: break-word;\n",
    "    }*/\n",
    "    \n",
    "    \n",
    "    .sea_war th,\n",
    "    .sea_war td\n",
    "    {\n",
    "        width: 26px !important;\n",
    "    }\n",
    "    \n",
    "    .sea_war tbody th,\n",
    "    .sea_war tbody td\n",
    "    {\n",
    "        border: 1px solid rgba(0,0,0,0.1);\n",
    "    }\n",
    "    \n",
    "    .sea_war tbody th\n",
    "    {\n",
    "        color: rgba(0,0,0,0.5);\n",
    "        text-align: center !important;\n",
    "    }\n",
    "    \n",
    "    /*---------------Borders------------------------*/\n",
    "    \n",
    "    /* border_horizont  */\n",
    "    .border_horizont tbody th, \n",
    "    .border_horizont tbody td\n",
    "    {\n",
    "        border-bottom: 1px solid rgba(0,0,0,0.04);\n",
    "    }\n",
    "    \n",
    "    .border_horizont tbody tr:last-child th, \n",
    "    .border_horizont tbody tr:last-child td\n",
    "    {\n",
    "        border-bottom: none;\n",
    "    }\n",
    "    \n",
    "    /* border_vertical  */\n",
    "    .border_vertical tbody th, \n",
    "    .border_vertical tbody td\n",
    "    {\n",
    "        border-right: 1px solid rgba(0,0,0,0.04);\n",
    "    }\n",
    "     \n",
    "    .border_vertical tbody td:last-child\n",
    "    {\n",
    "        border-right: none;\n",
    "    }\n",
    "    \n",
    "    /* border_display  */\n",
    "    .border_display tbody th, \n",
    "    .border_display tbody td\n",
    "    {\n",
    "        border: 1px solid rgba(0,0,0,0.04);\n",
    "    }\n",
    "    .border_display tbody th,\n",
    "    .border_display tbody td\n",
    "    {\n",
    "        border-left: none;\n",
    "        border-top: none;\n",
    "    }\n",
    "    .border_display tbody td:last-child\n",
    "    {\n",
    "       border-right: none; \n",
    "    }\n",
    "    .border_display tbody tr:last-child th,\n",
    "    .border_display tbody tr:last-child td \n",
    "    {\n",
    "        border-bottom: none;\n",
    "    }\n",
    "    \n",
    "    \n",
    "    /* positions  */\n",
    "    \n",
    "    .position_left thead th,\n",
    "    .position_left tbody td {\n",
    "        text-align: left !important;\n",
    "    }\n",
    "    \n",
    "    .position_center thead th,\n",
    "    .position_center tbody td {\n",
    "        text-align: center !important;\n",
    "    }\n",
    "\n",
    "    .position_right thead th,\n",
    "    .position_right tbody td {\n",
    "        text-align: right !important;\n",
    "    }\n",
    "    \n",
    "    .position_left_header thead th {\n",
    "        text-align: left !important;\n",
    "    }\n",
    "    \n",
    "    .position_center_header thead th {\n",
    "        text-align: center !important;\n",
    "    }\n",
    "    .position_right_header thead th {\n",
    "        text-align: right !important;\n",
    "    }\n",
    "    \n",
    "    /*---------------Code------------------------*/\n",
    "    .rendered_html p code,\n",
    "    .rendered_html ul code,\n",
    "    .rendered_html pre code[class*=\"custom\"]\n",
    "    {\n",
    "        background-color: #d9edfd;\n",
    "        color: #4c4c4c;\n",
    "        font-size: 16px !important;\n",
    "        border-radius: 10px;\n",
    "        font-weight: bold;\n",
    "        border: 1px solid #ccc !important;\n",
    "        padding: 5px !important;\n",
    "        line-height: 19px !important;\n",
    "        display: inline-block;\n",
    "        margin: 5px 0px 0px 0px;\n",
    "        word-break: break-word;\n",
    "    }\n",
    "    \n",
    "    .rendered_html code span[class*=\"-bold\"]\n",
    "    {\n",
    "        font-weight: bold;\n",
    "    }\n",
    "    \n",
    "    .rendered_html code span[class*=\"-italic\"]\n",
    "    {\n",
    "        font-style: italic;\n",
    "    }\n",
    "    \n",
    "    .rendered_html code span[class*=\"-marker\"]\n",
    "    {\n",
    "        background: #ffeb3b8c;\n",
    "        font-weight: bold;\n",
    "        border: 1px solid #9e9e9e;\n",
    "        box-shadow: 1px 1px 5px 0px #00000045;\n",
    "        border-radius: 4px;\n",
    "        padding: 2px;\n",
    "        opacity: 0.8;\n",
    "        line-height: 30px;\n",
    "    }\n",
    "\n",
    "    .rendered_html code[class*=\"error\"] {\n",
    "        color: red !important;\n",
    "        background-color: rgba(244, 67, 54, 0.1) !important;\n",
    "        font-weight: normal !important;\n",
    "    }\n",
    "    \n",
    "    .rendered_html code[class*=\"warning\"] {\n",
    "        color: #ff9800 !important;\n",
    "        background-color: rgba(244, 243, 54, 0.1) !important;\n",
    "        font-weight: normal !important;\n",
    "    }\n",
    "\n",
    "    .rendered_html code[class*=\"info\"] {\n",
    "        color: green !important;\n",
    "        background-color: rgb(54, 244, 91, 0.1) !important;\n",
    "        font-weight: normal !important;\n",
    "    }\n",
    "    \n",
    "    .rendered_html code[class*=\"word\"] {\n",
    "        color: #00bcd4 !important;\n",
    "        background-color: rgba(54, 195, 244, 0.1) !important;\n",
    "        font-weight: normal !important;\n",
    "    }\n",
    "    \n",
    "    /*---------------Imgs------------------------*/\n",
    "    .rendered_html img\n",
    "    {\n",
    "        border-radius: 16px;\n",
    "        border: 1px solid rgb(0 0 0 / 25%);\n",
    "        box-shadow: 5px 6px 8px 1px hsl(0deg 0% 0% / 25%);\n",
    "        padding: 4px;\n",
    "        margin-bottom: 10px;\n",
    "        max-width: 65em;\n",
    "    }\n",
    "    \n",
    "    #ipython_notebook:after {\n",
    "        content: '@alefair кодит';\n",
    "        position: relative;\n",
    "        color: #2196f3;\n",
    "        bottom: 7px;\n",
    "        right: -35px;\n",
    "    }\n",
    "                                                 \n",
    "   .total .banner {\n",
    "        background: repeating-linear-gradient(248deg , rgba(0 , 188 , 212 , 0.24) , rgba(255 , 0 , 0 , 0) , rgba(0 , 188 , 212 , 0.5) 5px) , repeating-linear-gradient(248deg , rgba(96 , 125 , 139 , 0.5) , rgba(0 , 255 , 0 , 0) 45.71%);\n",
    "        height: 50px;\n",
    "        border: 1px solid #999;\n",
    "        border-bottom: none;\n",
    "   }\n",
    "                                                 \n",
    "   .total .description {\n",
    "        border: 1px solid #999;\n",
    "        border-top: none;\n",
    "        padding: 20px;\n",
    "        font-family: monospace;\n",
    "   }\n",
    "                                                 \n",
    "   .total .description h3,\n",
    "   .total .description h4                                              \n",
    "   {\n",
    "        font-weight: bold;\n",
    "        font-size: 16px;\n",
    "        color: #999;\n",
    "        margin-bottom: 10px;\n",
    "   }\n",
    "                                                 \n",
    "   .total .description .content {\n",
    "        color: #333;\n",
    "        font-size: 13px;\n",
    "        border-radius: 10px;\n",
    "        overflow: hidden;\n",
    "        box-shadow: 1px 1px 3px 2px rgba(0, 0, 0, 0.3);\n",
    "   }\n",
    "                                                 \n",
    "    .ribbon {\n",
    "        text-align: center;\n",
    "        display: block;\n",
    "        width: 150px;\n",
    "        height: 40px;\n",
    "        background: #ff5722;\n",
    "        color: white;\n",
    "        font-family: monospace;\n",
    "        padding-top: 10px;\n",
    "    }\n",
    "    .ribbon:after {\n",
    "        content: \"\";\n",
    "        display: block;\n",
    "        position: relative;\n",
    "        top: 10px;\n",
    "        width: 0px;\n",
    "        height: 0;\n",
    "        border-width: 10px 75px 50px 75px;\n",
    "        border-style: solid;\n",
    "        border-color: #ff5722 #d00202 transparent #d00202;\n",
    "    }\n",
    "</style>"
   ]
  },
  {
   "cell_type": "code",
   "execution_count": 2,
   "metadata": {},
   "outputs": [],
   "source": [
    "def path_remover(path=''):\n",
    "    import sys\n",
    "    for el in sys.path:\n",
    "        if el == path:\n",
    "            sys.path.remove(path)\n",
    "\n",
    "class Formatter(object):\n",
    "    def __init__(self):\n",
    "        self.types = {}\n",
    "        self.htchar = '\\t'\n",
    "        self.lfchar = '\\n'\n",
    "        self.indent = 0\n",
    "        self.set_formater(object, self.__class__.format_object)\n",
    "        self.set_formater(dict, self.__class__.format_dict)\n",
    "        self.set_formater(list, self.__class__.format_list)\n",
    "        self.set_formater(tuple, self.__class__.format_tuple)\n",
    "\n",
    "    def set_formater(self, obj, callback):\n",
    "        self.types[obj] = callback\n",
    "\n",
    "    def __call__(self, value, **args):\n",
    "        for key in args:\n",
    "            setattr(self, key, args[key])\n",
    "        formater = self.types[type(value) if type(value) in self.types else object]\n",
    "        return formater(self, value, self.indent)\n",
    "\n",
    "    def format_object(self, value, indent):\n",
    "        if 'DataFrame' in str(type(value)):\n",
    "            return str(type(value))\n",
    "        else:\n",
    "            return repr(value)\n",
    "\n",
    "    def format_dict(self, value, indent):\n",
    "        items = [\n",
    "            self.lfchar + self.htchar * (indent + 1) + repr(key) + ': ' +\n",
    "            (self.types[type(value[key]) if type(value[key]) in self.types else object])(self, value[key], indent + 1)\n",
    "            for key in value\n",
    "        ]\n",
    "        return '{%s}' % (','.join(items) + self.lfchar + self.htchar * indent)\n",
    "\n",
    "    def format_list(self, value, indent):\n",
    "        items = [\n",
    "            self.lfchar + self.htchar * (indent + 1) + (self.types[type(item) if type(item) in self.types else object])(self, item, indent + 1)\n",
    "            for item in value\n",
    "        ]\n",
    "        return '[%s]' % (','.join(items) + self.lfchar + self.htchar * indent)\n",
    "\n",
    "    def format_tuple(self, value, indent):\n",
    "        items = [\n",
    "            self.lfchar + self.htchar * (indent + 1) + (self.types[type(item) if type(item) in self.types else object])(self, item, indent + 1)\n",
    "            for item in value\n",
    "        ]\n",
    "        return '(%s)' % (','.join(items) + self.lfchar + self.htchar * indent)\n",
    "        \n",
    "\n",
    "\n",
    "def color_nan_red(val, marker=None, table=None):\n",
    "\n",
    "    general_style = 'font-weight:bold;text-transform: capitalize;'\n",
    "    \n",
    "    nan_class    = general_style + 'color: red;'\n",
    "    unknow_class = general_style + 'color: #9c27b0;'\n",
    "    value_class  = ''\n",
    "    \n",
    "    max_class    = general_style + 'color: #ff6f00;'\n",
    "    min_class    = general_style + 'color: #0d64a1;'\n",
    "    \n",
    "    classes_list = []\n",
    "    \n",
    "    for i, cell in enumerate(val):\n",
    "        if marker:\n",
    "            if i in marker.keys():\n",
    "                \n",
    "                \n",
    "                if ('str' in str(type(marker[i])) and 'str' in str(type(cell))):\n",
    "                    if cell == marker[i]:\n",
    "                        classes_list.append(nan_class)\n",
    "                        continue\n",
    "                elif 'list' in str(type(marker[i])):\n",
    "                    if marker[i][0] == 'min' and cell == marker[i][1]:\n",
    "                        classes_list.append(min_class)\n",
    "                        continue\n",
    "                    elif marker[i][0] == 'max' and cell == marker[i][1]:\n",
    "                        classes_list.append(max_class)\n",
    "                        continue\n",
    "                    elif marker[i][0] == 'max_min' and cell in marker[i]:\n",
    "                        if 'str' not in str(type(cell)):\n",
    "                            if cell == min(item for item in marker[i][1:] if 'str' not in str(type(item))):\n",
    "                                classes_list.append(min_class)\n",
    "                                continue\n",
    "                            elif cell == max(item for item in marker[i][1:] if 'str' not in str(type(item))):\n",
    "                                classes_list.append(max_class)\n",
    "                                continue\n",
    "                        elif 'str' in str(type(cell)):\n",
    "                            if cell == min(item for item in marker[i][1:] if 'str' in str(type(item))):\n",
    "                                classes_list.append(min_class)\n",
    "                                continue\n",
    "                            elif cell == max(item for item in marker[i][1:] if 'str' in str(type(item))):\n",
    "                                classes_list.append(max_class)\n",
    "                                continue\n",
    "                    elif cell in marker[i]:\n",
    "                        if 'str' not in str(type(cell)):\n",
    "                            if cell == min(item for item in marker[i] if 'str' not in str(type(item))):\n",
    "                                classes_list.append(min_class)\n",
    "                                continue\n",
    "                            elif cell == max(item for item in marker[i] if 'str' not in str(type(item))):\n",
    "                                classes_list.append(max_class)\n",
    "                                continue\n",
    "                            else:\n",
    "                                classes_list.append(unknow_class)\n",
    "                                continue\n",
    "                        elif 'str' in str(type(cell)):\n",
    "                            if cell == min(item for item in marker[i] if 'str' in str(type(item))):\n",
    "                                classes_list.append(min_class)\n",
    "                                continue\n",
    "                            elif cell == max(item for item in marker[i] if 'str' in str(type(item))):\n",
    "                                classes_list.append(max_class)\n",
    "                                continue\n",
    "                            else:\n",
    "                                classes_list.append(unknow_class)\n",
    "                                continue            \n",
    "                    elif marker[i][0] == '>':\n",
    "                        if 'list' in str(type(marker[i][1])):\n",
    "                            if all(cell > j for j in marker[i][1]):\n",
    "                                classes_list.append(nan_class)\n",
    "                                continue\n",
    "                        else:    \n",
    "                            if cell > marker[i][1]:\n",
    "                                classes_list.append(nan_class)\n",
    "                                continue\n",
    "                    elif marker[i][0] == '<':\n",
    "                        if 'list' in str(type(marker[i][1])):\n",
    "                            if all(cell < j for j in marker[i][1]):\n",
    "                                classes_list.append(min_class)\n",
    "                                continue\n",
    "                        else:    \n",
    "                            if cell < marker[i][1]:\n",
    "                                classes_list.append(min_class)\n",
    "                                continue\n",
    "                    elif marker[i][0] == '=':\n",
    "                        if cell == marker[i][1]:\n",
    "                            classes_list.append(unknow_class)\n",
    "                            continue\n",
    "                        if cell in marker[i][1]:\n",
    "                            classes_list.append(unknow_class)\n",
    "                            continue\n",
    "                    elif marker[i][0] == 'top':\n",
    "                        if cell in list(table.iloc[:, i].head(marker[i][1])):\n",
    "                            classes_list.append(unknow_class)\n",
    "                            continue\n",
    "                    elif marker[i][0] == 'out':\n",
    "                        if cell in list(table.iloc[:, i].tail(marker[i][1])):\n",
    "                            classes_list.append(unknow_class)\n",
    "                            continue\n",
    "                    \n",
    "                                \n",
    "                elif ('str' not in str(type(marker[i])) and 'str' not in str(type(cell))) and  cell >= marker[i]:\n",
    "                    classes_list.append(nan_class)\n",
    "                    continue \n",
    "        \n",
    "        if pd.isna(cell):\n",
    "            classes_list.append(nan_class)\n",
    "            continue\n",
    "        elif cell == 'unknown':\n",
    "            classes_list.append(unknow_class)\n",
    "            continue\n",
    "        \n",
    "        classes_list.append(value_class)\n",
    "        continue\n",
    "        \n",
    "    return classes_list\n",
    "    \n",
    "\n",
    "def set_format(*args):\n",
    "    print(args)\n",
    "    \n",
    "    for i, idx in enumerate(args[0]):\n",
    "        print(i, \":\", idx)\n",
    "        \n",
    "    if 'str' in str(type(args[1])):\n",
    "        if 'float' in str(type(args[0])):\n",
    "            return args[1].format(args[0])\n",
    "        else:\n",
    "            return args[0]\n",
    "    elif 'list' in str(type(args[1])):\n",
    "        if args[1][0] == 'datetime':\n",
    "            return datetime.strptime(args[0], args[1][1]).strftime(args[1][2])\n",
    "        elif args[1][0] == 'float':\n",
    "            print(args[1][1],':', args[0])\n",
    "            return args[1][1].format(args[0])\n",
    "          \n",
    "    return args[0]\n",
    "\n",
    "\n",
    "\n",
    "def check_float(val,format='default'):\n",
    "    if 'float' in str(type(val)):\n",
    "        if format == 'default':\n",
    "            return val\n",
    "        else:\n",
    "            return format.format(val)\n",
    "    else:\n",
    "        return val\n",
    "    \n",
    "    \n",
    "def render(*args, format='default', border='false', position='center_header', marker=None, name='', width='', vartype=False):\n",
    "    '''\n",
    "    format   = {:.2f} Заменяет все float числа в формат\n",
    "    format   = [ [[column_list], [type_format, value_format]] ] - применяет указанный формат к указанным столбцам.\n",
    "    \n",
    "        примеры:\n",
    "        format=[ [['column_1','column_2'], '{:.2f}'] ]\n",
    "        format=[ [['column_1','column_2'], ['float', '{:.2f}']] ]\n",
    "        format=[ [['column_1','column_2'], ['datetime', '%Y%m%dT%H%M%S', '%d.%m.%Y %H:%M:%S']] ]\n",
    "        format=[ [['column_1','column_2'], '<b style=\"color:red\">{}</b>'] ] - применяем стиль к значению\n",
    "    \n",
    "    format   = 'json' - преобразовывает в json формат\n",
    "    \n",
    "    border   = display(d) | horizont(h) | vertical(v)\n",
    "    \n",
    "    position = left | center | right | left_header | center_header | right_header\n",
    "    \n",
    "    marker   = [['column_name', value]] все значения >=  value будут помечены красным цветом\n",
    "    \n",
    "    marker   = [['column_name', 'max_min']] будут отмечены максимальное и минимальное значение цветом\n",
    "    marker   = [['column_name', 'min']]\n",
    "    marker   = [['column_name', 'max']]\n",
    "    \n",
    "    marker   = [['column_name', ['>', 1000]]]\n",
    "    marker   = [['column_name', ['<', 'value']]]\n",
    "    \n",
    "    name     = 'Test title'  Добавляет описание к таблице\n",
    "    \n",
    "    width    = auto | 100% | 300 | 600 | 900 Делает ширину таблицы, указаного значения\n",
    "    \n",
    "    type     = True Выводит имя переменной и его тип\n",
    "    '''\n",
    "    \n",
    "    \n",
    "    \n",
    "    border_style   = ''\n",
    "    position_style = ''\n",
    "    \n",
    "    title          = ''\n",
    "    width_value    = ''\n",
    "    type_value     = ''\n",
    "    \n",
    "    if name != '':\n",
    "        title = ' data-title=\"' + name + '\" '\n",
    "        \n",
    "    if width != '':\n",
    "        width_value = ' data-width=\"' + width + '\" '\n",
    "    \n",
    "    if vartype == True:\n",
    "        type_value = ' data-type=\"[template]\" '\n",
    "    \n",
    "    if border == 'display' or border == 'd':\n",
    "        border_style = ' border_display'\n",
    "    elif border == 'horizont' or border == 'h':\n",
    "        border_style = ' border_horizont'\n",
    "    elif border == 'vertical' or border == 'v':\n",
    "        border_style = ' border_vertical'\n",
    "    else:\n",
    "        border_style = ''\n",
    "    \n",
    "    \n",
    "    if position == 'left':\n",
    "        position_style = ' position_left'\n",
    "    elif position == 'center':\n",
    "        position_style = ' position_center'\n",
    "    elif position == 'right':\n",
    "        position_style = ' position_right'\n",
    "    elif position == 'left_header':\n",
    "        position_style = ' position_left_header'\n",
    "    elif position == 'center_header':\n",
    "        position_style = ' position_center_header'\n",
    "    elif position == 'right_header':\n",
    "        position_style = ' position_right_header'\n",
    "    else:\n",
    "        position_style = ''\n",
    "    \n",
    "    \n",
    "    \n",
    "    if 'Series' in str(type(args[0])) or 'DataFrame' in str(type(args[0])): \n",
    "        df = args[0]\n",
    "    else:\n",
    "        df = args\n",
    "    \n",
    "    if 'Series' in str(type(df)): df = df.to_frame()\n",
    "    \n",
    "    if 'Series' in str(type(df)) or 'DataFrame' in str(type(df)):\n",
    "        \n",
    "        render_df = df.copy()\n",
    "        \n",
    "        \n",
    "        \n",
    "        if len(render_df.index) == 0:\n",
    "            render_df.loc[render_df.shape[0]] = ''\n",
    "        \n",
    "        \n",
    "        \n",
    "        columns = render_df.columns\n",
    "        need_columns = {}\n",
    "        \n",
    "        if marker:\n",
    "            for need_clmn in marker:\n",
    "                for i, clmn in enumerate(columns):\n",
    "                    if need_clmn[0] == clmn:\n",
    "                        if need_clmn[1] in ['min', 'max', 'max_min']:\n",
    "                            if need_clmn[1] == 'min':\n",
    "                                need_columns[i] = ['min', df[clmn].min()]\n",
    "                            elif need_clmn[1] == 'max':\n",
    "                                need_columns[i] = ['max', df[clmn].max()]\n",
    "                            elif need_clmn[1] == 'max_min':\n",
    "                                need_columns[i] = ['max_min', df[clmn].min(), df[clmn].max()]\n",
    "                        else:\n",
    "                            need_columns[i] = need_clmn[1]\n",
    "\n",
    "        if vartype == True:\n",
    "            type_value = type_value.replace(\"[template]\", var_name(render_df))\n",
    "            print(render_df, var_name(render_df))   \n",
    "        \n",
    "        #Render Style\n",
    "        render_df = render_df.style.set_table_attributes('class=\"table_border' + border_style + position_style + '\"' + title + width_value + type_value).apply(color_nan_red,marker=need_columns,table=df, axis=1)\n",
    "        \n",
    "        #print(str(type(render_df))) \n",
    "        \n",
    "        #render_df.format(escape='html')\n",
    "        \n",
    " \n",
    "        if format != 'default':\n",
    "            if 'str' in str(type(format)):\n",
    "                render_df = render_df.format(lambda x: format.format(x) if 'float' in str(type(x)) else x )\n",
    "            elif 'list' in str(type(format)):\n",
    "                need_columns = {}\n",
    "                for list_format in format:\n",
    "\n",
    "                    s_type = None\n",
    "                    s_type = list_format[1]\n",
    "                    \n",
    "                    for clmns_list in list_format[0]:\n",
    "                        if 'str' in str(type(s_type)):\n",
    "                            need_columns[clmns_list] = str_format(s_type)\n",
    "                            continue\n",
    "                        elif 'list' in str(type(s_type)):\n",
    "\n",
    "                            if s_type[0] == 'float':\n",
    "                                need_columns[clmns_list] = float_format(s_type[1])\n",
    "                                continue\n",
    "                            \n",
    "                            elif s_type[0] == 'datetime':\n",
    "                                need_columns[clmns_list] = time_format(s_type[1], s_type[2])\n",
    "                                continue\n",
    "                            \n",
    "                            elif s_type[0] == 'link':\n",
    "                                need_columns[clmns_list] = link_format(s_type[1])\n",
    "                                continue\n",
    "                            \n",
    "                            else:\n",
    "                                continue\n",
    "                \n",
    "                #print(need_columns)\n",
    "                render_df = render_df.format(formatter=need_columns)\n",
    "                                                \n",
    "    else: \n",
    "        list_args = []\n",
    "        \n",
    "        for value in df: \n",
    "            #Render float format\n",
    "            if format != 'default':\n",
    "                if format == 'json':\n",
    "                    pretty = Formatter()\n",
    "                    list_args.append(pretty(value))\n",
    "                else:\n",
    "                    list_args.append(str(check_float(value,format)))\n",
    "            else:\n",
    "                list_args.append(str(value))\n",
    "        \n",
    "        render_df = ' '.join(list_args).replace('<', '&#60;').replace('>', '&#62;')\n",
    "        \n",
    "        if vartype == True:\n",
    "            type_value = type_value.replace(\"[template]\", var_name(render_df))\n",
    "            print(df, var_name(df))\n",
    "            \n",
    "        from IPython.display import HTML\n",
    "        render_df = HTML('<p class=\"value\" ' + title + type_value + '><code>' + str(render_df) + '</code></p>')\n",
    "        \n",
    "        \n",
    "    return display(render_df)\n",
    "\n",
    "\n",
    "def str_format(y):\n",
    "    return lambda x: y.format(x)\n",
    "    \n",
    "def float_format(y):\n",
    "    return lambda x: y.format(x)\n",
    "\n",
    "def link_format(y):\n",
    "    if y != '':\n",
    "        return lambda x: '<a href=\"{}\" title=\"{}\">{}</a>'.format(x, y, y)\n",
    "    else:\n",
    "        return lambda x: '<a href=\"{}\" title=\"{}\">{}</a>'.format(x, x, x)\n",
    "    \n",
    "def time_format(y, z):\n",
    "    if y == '':\n",
    "        y = '%Y%m%dT%H%M%S'\n",
    "    if z == '':\n",
    "        z = '%d.%m.%Y %H:%M:%S'\n",
    "    return lambda x: datetime.strptime(x, y).strftime(z)"
   ]
  },
  {
   "cell_type": "markdown",
   "metadata": {},
   "source": [
    "## Описание тарифов"
   ]
  },
  {
   "cell_type": "markdown",
   "metadata": {},
   "source": [
    "<div class=\"total\">\n",
    "    <div class=\"banner\">&nbsp;</div>\n",
    "    <div class=\"description\">\n",
    "        <h3>Тариф 'СМАРТ'</h3>\n",
    "        <div class=\"content\">\n",
    "            <div id=\"tariff_smart\">\n",
    "                <div class=\"tariff_block\">\n",
    "                    <p class=\"tariff_name\">Тариф СМАРТ</p>\n",
    "                    <p class=\"tariff_bg\">\n",
    "                        <span class=\"tariff_price\">550</span>\n",
    "                        <span class=\"tariff_price_description\">рублей в месяц</span>\n",
    "                        <span class=\"tariff_settings_block\">\n",
    "                            <span class=\"tariff_settings_buttons_block\">\n",
    "                                <span class=\"tariff_settings_button\">&#xE2C6;</span>\n",
    "                                <span class=\"tariff_settings_button\">&#xE20B;</span>\n",
    "                                <span class=\"tariff_settings_button last\">&#xE128;</span>\n",
    "                            </span>\n",
    "                            <span class=\"tariff_settings_description_block\">\n",
    "                                <span class=\"tariff_settings_description\">500 минут разговора</span>\n",
    "                                <span class=\"tariff_settings_description\">50 сообщений</span>\n",
    "                                <span class=\"tariff_settings_description\">15 Гб интернет-трафика</span>\n",
    "                            </span>\n",
    "                        </span>\n",
    "                    </p>\n",
    "                    <div class=\"tariff_settings_limit\">\n",
    "                        <p><span>Стоимость услуг сверх тарифного пакета:</span></p>\n",
    "                        <ul>\n",
    "                            <li>минута разговора: 3 рубля</li>\n",
    "                            <li>сообщение: 3 рубля</li>\n",
    "                            <li>1 Гб интернет-трафика: 200 рублей</li>\n",
    "                        </ul>\n",
    "                    </div>\n",
    "                </div>\n",
    "            </div>\n",
    "        </div>\n",
    "    </div>\n",
    "</div>"
   ]
  },
  {
   "cell_type": "markdown",
   "metadata": {},
   "source": [
    "<div class=\"total\">\n",
    "    <div class=\"banner\">&nbsp;</div>\n",
    "    <div class=\"description\">\n",
    "        <h3>Тариф 'УЛЬТРА'</h3>\n",
    "        <div class=\"content\">\n",
    "            <div id=\"tariff_ultra\">\n",
    "                <div class=\"tariff_block\">\n",
    "                    <p class=\"tariff_name\">Тариф УЛЬТРА</p>\n",
    "                    <p class=\"tariff_bg\">\n",
    "                        <span class=\"tariff_price\">1950</span>\n",
    "                        <span class=\"tariff_price_description\">рублей в месяц</span>\n",
    "                        <span class=\"tariff_settings_block\">\n",
    "                            <span class=\"tariff_settings_buttons_block\">\n",
    "                                <span class=\"tariff_settings_button\">&#xE2C6;</span>\n",
    "                                <span class=\"tariff_settings_button\">&#xE20B;</span>\n",
    "                                <span class=\"tariff_settings_button last\">&#xE128;</span>\n",
    "                            </span>\n",
    "                            <span class=\"tariff_settings_description_block\">\n",
    "                                <span class=\"tariff_settings_description\">3000 минут разговора</span>\n",
    "                                <span class=\"tariff_settings_description\">1000 сообщений</span>\n",
    "                                <span class=\"tariff_settings_description\">30 Гб интернет-трафика</span>\n",
    "                            </span>\n",
    "                        </span>\n",
    "                    </p>\n",
    "                    <div class=\"tariff_settings_limit\">\n",
    "                        <p><span>Стоимость услуг сверх тарифного пакета:</span></p>\n",
    "                        <ul>\n",
    "                            <li>минута разговора: 1 рубль</li>\n",
    "                            <li>сообщение: 1 рубль</li>\n",
    "                            <li>1 Гб интернет-трафика: 150 рублей</li>\n",
    "                        </ul>\n",
    "                    </div>\n",
    "                </div>\n",
    "            </div>\n",
    "        </div>\n",
    "    </div>\n",
    "</div>"
   ]
  },
  {
   "cell_type": "markdown",
   "metadata": {},
   "source": [
    "<div class=\"total\">\n",
    "    <div class=\"banner\">&nbsp;</div>\n",
    "    <div class=\"description\">\n",
    "        <h3>Примечание</h3>\n",
    "        <div>\n",
    "            <b>«Мегалайн»</b> всегда округляет секунды до минут, а мегабайты — до гигабайт. Каждый звонок округляется отдельно: даже если он длился всего 1 секунду, будет засчитан как 1 минута.\n",
    "\n",
    "Для веб-трафика отдельные сессии не считаются. Вместо этого общая сумма за месяц округляется в бо́льшую сторону. Если абонент использует 1025 мегабайт в этом месяце, с него возьмут плату за 2 гигабайта. Примите, что неиспользованные за предыдущий месяц звонки, смс, интернет на следующий месяц не переносятся.\n",
    "        </div>\n",
    "    </div>\n",
    "</div>"
   ]
  },
  {
   "cell_type": "markdown",
   "metadata": {},
   "source": [
    "## Инициализация"
   ]
  },
  {
   "cell_type": "markdown",
   "metadata": {},
   "source": [
    "### Импорт библиотек"
   ]
  },
  {
   "cell_type": "code",
   "execution_count": 3,
   "metadata": {},
   "outputs": [],
   "source": [
    "%matplotlib inline\n",
    "\n",
    "import pandas as pd\n",
    "import matplotlib.pyplot as plt\n",
    "import math\n",
    "import numpy as np\n",
    "from scipy import stats as st\n",
    "import copy\n",
    "from IPython.display import Markdown as md\n",
    "import markdown"
   ]
  },
  {
   "cell_type": "markdown",
   "metadata": {},
   "source": [
    "### Вспомогательные переменные"
   ]
  },
  {
   "cell_type": "code",
   "execution_count": 4,
   "metadata": {},
   "outputs": [],
   "source": [
    "# Переменная содержит список названий месяцев на английском языке\n",
    "months = ['Jan', 'Feb', 'Mar', 'Apr', 'May', 'Jun', 'Jul','Aug', 'Sep', 'Oct', 'Nov', 'Dec']\n",
    "\n",
    "\n",
    "# Шаблоны словарей тарифов\n",
    "# база [количество минут, количество сообщений, количество мегабайт]\n",
    "tarif_limit = {\n",
    "    'smart' : [0, 0, 0],\n",
    "    'ultra' : [0, 0, 0]\n",
    "}\n",
    "\n",
    "\n",
    "# сверх план [количество минут, количество сообщений, количество мегабайт]\n",
    "tarif_limit_adv = {\n",
    "    'smart' : [0, 0, 0],\n",
    "    'ultra' : [0, 0, 0]\n",
    "}\n",
    "\n",
    "\n",
    "# стоимость тарифного плана\n",
    "tarif_price = {\n",
    "    'smart' : 0,\n",
    "    'ultra' : 0\n",
    "}"
   ]
  },
  {
   "cell_type": "markdown",
   "metadata": {},
   "source": [
    "### Вспомогательные функции"
   ]
  },
  {
   "cell_type": "code",
   "execution_count": 5,
   "metadata": {},
   "outputs": [],
   "source": [
    "# Функция возвращает id тарифа согласно наименованию тарифа\n",
    "def set_tariff_id(object):\n",
    "    if object.lower() == 'smart':\n",
    "        return 0\n",
    "    elif object.lower() == 'ultra':\n",
    "        return 1\n",
    "    \n",
    "# Функция округления значения\n",
    "def round_value(value):\n",
    "    return math.ceil(value)\n",
    "\n",
    "\n",
    "# Функция возвращает имя месяца по индексу начиная с 1\n",
    "def month_name(object):\n",
    "    return months[int(object) - 1]\n",
    "\n",
    "\n",
    "# Функция возвращает выручку для пользователя user_id в месяц из словаря months\n",
    "def get_profit_for_user(row, month_name):\n",
    "    \n",
    "    \n",
    "    # Выручка пользователя, согласно условию:\n",
    "    # ---------------------------------------\n",
    "    # Вычтите бесплатный лимит из суммарного количества звонков, сообщений и интернет-трафика; \n",
    "    # Остаток умножьте на значение из тарифного плана; \n",
    "    # Прибавьте абонентскую плату, соответствующую тарифному плану\n",
    "    \n",
    "    # Данные пользователя\n",
    "    user_tariff    = row['tariff'] \n",
    "    user_minutes   = row['sum_calls'      + '_' + month_name ]\n",
    "    user_messages  = row['count_messages' + '_' + month_name ]\n",
    "    user_megabytes = row['sum_internet'   + '_' + month_name ]\n",
    "    \n",
    "    \n",
    "    # Выручка с пользователя по минутам\n",
    "    profit_user_minutes = ( user_minutes - tarif_limit[user_tariff][0] ) * tarif_limit_adv[user_tariff][0]\n",
    "    if profit_user_minutes < 0:\n",
    "        profit_user_minutes = 0\n",
    "        \n",
    "    # Выручка с пользователя по сообщениям\n",
    "    profit_user_messages = ( user_messages - tarif_limit[user_tariff][1] ) * tarif_limit_adv[user_tariff][1]\n",
    "    if profit_user_messages < 0:\n",
    "        profit_user_messages = 0\n",
    "        \n",
    "    # Выручка с пользователя по интернет-трафику\n",
    "    profit_user_megabytes = ( user_megabytes - tarif_limit[user_tariff][2] ) * tarif_limit_adv[user_tariff][2]\n",
    "    if profit_user_megabytes < 0:\n",
    "        profit_user_megabytes = 0\n",
    "    \n",
    "    \n",
    "    return profit_user_minutes + profit_user_messages + profit_user_megabytes + tarif_price[user_tariff]\n",
    "\n",
    "\n",
    "# Функция возвращает выручку для пользователя user_id | 2 версия\n",
    "def get_profit_for_user_2(row):\n",
    "    \n",
    "    \n",
    "    # Выручка пользователя, согласно условию:\n",
    "    # ---------------------------------------\n",
    "    # Вычтите бесплатный лимит из суммарного количества звонков, сообщений и интернет-трафика; \n",
    "    # Остаток умножьте на значение из тарифного плана; \n",
    "    # Прибавьте абонентскую плату, соответствующую тарифному плану\n",
    "    \n",
    "    \n",
    "    # Данные пользователя\n",
    "    user_tariff    = row['tariff'        ] \n",
    "    user_minutes   = row['calls_sum'     ]\n",
    "    user_messages  = row['messages_count']\n",
    "    user_megabytes = row['internet_sum'  ]\n",
    "    \n",
    "    \n",
    "    # Выручка с пользователя по минутам\n",
    "    profit_user_minutes = ( user_minutes - tarif_limit[user_tariff][0] ) * tarif_limit_adv[user_tariff][0]\n",
    "    if profit_user_minutes < 0:\n",
    "        profit_user_minutes = 0\n",
    "        \n",
    "    # Выручка с пользователя по сообщениям\n",
    "    profit_user_messages = ( user_messages - tarif_limit[user_tariff][1] ) * tarif_limit_adv[user_tariff][1]\n",
    "    if profit_user_messages < 0:\n",
    "        profit_user_messages = 0\n",
    "        \n",
    "    # Выручка с пользователя по интернет-трафику\n",
    "    profit_user_megabytes = ( user_megabytes - tarif_limit[user_tariff][2] ) * tarif_limit_adv[user_tariff][2]\n",
    "    if profit_user_megabytes < 0:\n",
    "        profit_user_megabytes = 0\n",
    "    \n",
    "    return profit_user_minutes + profit_user_messages + profit_user_megabytes + tarif_price[user_tariff]"
   ]
  },
  {
   "cell_type": "markdown",
   "metadata": {},
   "source": [
    "## Описание данных"
   ]
  },
  {
   "cell_type": "markdown",
   "metadata": {},
   "source": [
    "### Таблица users (информация о пользователях)"
   ]
  },
  {
   "cell_type": "code",
   "execution_count": 6,
   "metadata": {},
   "outputs": [
    {
     "data": {
      "text/html": [
       "<style  type=\"text/css\" >\n",
       "#T_542d2_row0_col2,#T_542d2_row1_col2,#T_542d2_row2_col2,#T_542d2_row3_col2,#T_542d2_row4_col2{\n",
       "            font-weight: bold;\n",
       "            text-transform:  capitalize;\n",
       "            color:  red;\n",
       "        }</style><table id=\"T_542d2_\" class=\"table_border position_center_header\" data-title=\"Фрагмент источника данных users (500 строк)\" ><thead>    <tr>        <th class=\"blank level0\" ></th>        <th class=\"col_heading level0 col0\" >user_id</th>        <th class=\"col_heading level0 col1\" >age</th>        <th class=\"col_heading level0 col2\" >churn_date</th>        <th class=\"col_heading level0 col3\" >city</th>        <th class=\"col_heading level0 col4\" >first_name</th>        <th class=\"col_heading level0 col5\" >last_name</th>        <th class=\"col_heading level0 col6\" >reg_date</th>        <th class=\"col_heading level0 col7\" >tariff</th>    </tr></thead><tbody>\n",
       "                <tr>\n",
       "                        <th id=\"T_542d2_level0_row0\" class=\"row_heading level0 row0\" >0</th>\n",
       "                        <td id=\"T_542d2_row0_col0\" class=\"data row0 col0\" >1000</td>\n",
       "                        <td id=\"T_542d2_row0_col1\" class=\"data row0 col1\" >52</td>\n",
       "                        <td id=\"T_542d2_row0_col2\" class=\"data row0 col2\" >nan</td>\n",
       "                        <td id=\"T_542d2_row0_col3\" class=\"data row0 col3\" >Краснодар</td>\n",
       "                        <td id=\"T_542d2_row0_col4\" class=\"data row0 col4\" >Рафаил</td>\n",
       "                        <td id=\"T_542d2_row0_col5\" class=\"data row0 col5\" >Верещагин</td>\n",
       "                        <td id=\"T_542d2_row0_col6\" class=\"data row0 col6\" >2018-05-25</td>\n",
       "                        <td id=\"T_542d2_row0_col7\" class=\"data row0 col7\" >ultra</td>\n",
       "            </tr>\n",
       "            <tr>\n",
       "                        <th id=\"T_542d2_level0_row1\" class=\"row_heading level0 row1\" >1</th>\n",
       "                        <td id=\"T_542d2_row1_col0\" class=\"data row1 col0\" >1001</td>\n",
       "                        <td id=\"T_542d2_row1_col1\" class=\"data row1 col1\" >41</td>\n",
       "                        <td id=\"T_542d2_row1_col2\" class=\"data row1 col2\" >nan</td>\n",
       "                        <td id=\"T_542d2_row1_col3\" class=\"data row1 col3\" >Москва</td>\n",
       "                        <td id=\"T_542d2_row1_col4\" class=\"data row1 col4\" >Иван</td>\n",
       "                        <td id=\"T_542d2_row1_col5\" class=\"data row1 col5\" >Ежов</td>\n",
       "                        <td id=\"T_542d2_row1_col6\" class=\"data row1 col6\" >2018-11-01</td>\n",
       "                        <td id=\"T_542d2_row1_col7\" class=\"data row1 col7\" >smart</td>\n",
       "            </tr>\n",
       "            <tr>\n",
       "                        <th id=\"T_542d2_level0_row2\" class=\"row_heading level0 row2\" >2</th>\n",
       "                        <td id=\"T_542d2_row2_col0\" class=\"data row2 col0\" >1002</td>\n",
       "                        <td id=\"T_542d2_row2_col1\" class=\"data row2 col1\" >59</td>\n",
       "                        <td id=\"T_542d2_row2_col2\" class=\"data row2 col2\" >nan</td>\n",
       "                        <td id=\"T_542d2_row2_col3\" class=\"data row2 col3\" >Стерлитамак</td>\n",
       "                        <td id=\"T_542d2_row2_col4\" class=\"data row2 col4\" >Евгений</td>\n",
       "                        <td id=\"T_542d2_row2_col5\" class=\"data row2 col5\" >Абрамович</td>\n",
       "                        <td id=\"T_542d2_row2_col6\" class=\"data row2 col6\" >2018-06-17</td>\n",
       "                        <td id=\"T_542d2_row2_col7\" class=\"data row2 col7\" >smart</td>\n",
       "            </tr>\n",
       "            <tr>\n",
       "                        <th id=\"T_542d2_level0_row3\" class=\"row_heading level0 row3\" >3</th>\n",
       "                        <td id=\"T_542d2_row3_col0\" class=\"data row3 col0\" >1003</td>\n",
       "                        <td id=\"T_542d2_row3_col1\" class=\"data row3 col1\" >23</td>\n",
       "                        <td id=\"T_542d2_row3_col2\" class=\"data row3 col2\" >nan</td>\n",
       "                        <td id=\"T_542d2_row3_col3\" class=\"data row3 col3\" >Москва</td>\n",
       "                        <td id=\"T_542d2_row3_col4\" class=\"data row3 col4\" >Белла</td>\n",
       "                        <td id=\"T_542d2_row3_col5\" class=\"data row3 col5\" >Белякова</td>\n",
       "                        <td id=\"T_542d2_row3_col6\" class=\"data row3 col6\" >2018-08-17</td>\n",
       "                        <td id=\"T_542d2_row3_col7\" class=\"data row3 col7\" >ultra</td>\n",
       "            </tr>\n",
       "            <tr>\n",
       "                        <th id=\"T_542d2_level0_row4\" class=\"row_heading level0 row4\" >4</th>\n",
       "                        <td id=\"T_542d2_row4_col0\" class=\"data row4 col0\" >1004</td>\n",
       "                        <td id=\"T_542d2_row4_col1\" class=\"data row4 col1\" >68</td>\n",
       "                        <td id=\"T_542d2_row4_col2\" class=\"data row4 col2\" >nan</td>\n",
       "                        <td id=\"T_542d2_row4_col3\" class=\"data row4 col3\" >Новокузнецк</td>\n",
       "                        <td id=\"T_542d2_row4_col4\" class=\"data row4 col4\" >Татьяна</td>\n",
       "                        <td id=\"T_542d2_row4_col5\" class=\"data row4 col5\" >Авдеенко</td>\n",
       "                        <td id=\"T_542d2_row4_col6\" class=\"data row4 col6\" >2018-05-14</td>\n",
       "                        <td id=\"T_542d2_row4_col7\" class=\"data row4 col7\" >ultra</td>\n",
       "            </tr>\n",
       "    </tbody></table>"
      ],
      "text/plain": [
       "<pandas.io.formats.style.Styler at 0x7f13f720cdc0>"
      ]
     },
     "metadata": {},
     "output_type": "display_data"
    }
   ],
   "source": [
    "#Считываем данные по пользователям\n",
    "users = pd.read_csv('/datasets/users.csv')\n",
    "\n",
    "rows_count = len(users)\n",
    "\n",
    "render(users.head(), name='Фрагмент источника данных users (' + str(rows_count) + ' строк)')"
   ]
  },
  {
   "cell_type": "markdown",
   "metadata": {},
   "source": [
    "_**` `<br>\n",
    "`:: user_id    ::` — уникальный идентификатор пользователя<br>\n",
    "`:: first_name ::` — имя пользователя<br>\n",
    "`:: last_name  ::` — фамилия пользователя<br>\n",
    "`:: age        ::` — возраст пользователя (годы)<br>\n",
    "`:: reg_date   ::` — дата подключения тарифа (день, месяц, год)<br>\n",
    "`:: churn_date ::` — дата прекращения пользования тарифом (если значение пропущено, то тариф ещё действовал на момент выгрузки данных)<br>\n",
    "`:: city       ::` — город проживания пользователя<br>\n",
    "`:: tariff     ::` — название тарифного плана<br>\n",
    "` `**_"
   ]
  },
  {
   "cell_type": "code",
   "execution_count": 7,
   "metadata": {},
   "outputs": [
    {
     "name": "stdout",
     "output_type": "stream",
     "text": [
      "<class 'pandas.core.frame.DataFrame'>\n",
      "RangeIndex: 500 entries, 0 to 499\n",
      "Data columns (total 8 columns):\n",
      " #   Column      Non-Null Count  Dtype \n",
      "---  ------      --------------  ----- \n",
      " 0   user_id     500 non-null    int64 \n",
      " 1   age         500 non-null    int64 \n",
      " 2   churn_date  38 non-null     object\n",
      " 3   city        500 non-null    object\n",
      " 4   first_name  500 non-null    object\n",
      " 5   last_name   500 non-null    object\n",
      " 6   reg_date    500 non-null    object\n",
      " 7   tariff      500 non-null    object\n",
      "dtypes: int64(2), object(6)\n",
      "memory usage: 31.4+ KB\n"
     ]
    }
   ],
   "source": [
    "#посмотрим на тип данных в столбцах\n",
    "users.info()"
   ]
  },
  {
   "cell_type": "code",
   "execution_count": 8,
   "metadata": {},
   "outputs": [],
   "source": [
    "# Согласно методу info() было обнаружено, что столбцы churn_date и reg_date имеют тип object, а должен - datetime\n",
    "\n",
    "# Преобразуем в datetume столбцы churn_date и reg_date\n",
    "users['reg_date']   = pd.to_datetime( users['reg_date'],   format='%Y-%m-%d' )\n",
    "users['churn_date'] = pd.to_datetime( users['churn_date'], format='%Y-%m-%d' )\n",
    "\n",
    "# Добавим столбец с id тарифа\n",
    "users['tariff_id'] = users['tariff'].apply(set_tariff_id)"
   ]
  },
  {
   "cell_type": "code",
   "execution_count": 9,
   "metadata": {},
   "outputs": [
    {
     "data": {
      "text/html": [
       "<style  type=\"text/css\" >\n",
       "#T_4887e_row0_col2,#T_4887e_row1_col2,#T_4887e_row2_col2,#T_4887e_row3_col2,#T_4887e_row4_col2{\n",
       "            font-weight: bold;\n",
       "            text-transform:  capitalize;\n",
       "            color:  red;\n",
       "        }</style><table id=\"T_4887e_\" class=\"table_border position_center_header\" data-title=\"Фрагмент источника данных users (500 строк)\" ><thead>    <tr>        <th class=\"blank level0\" ></th>        <th class=\"col_heading level0 col0\" >user_id</th>        <th class=\"col_heading level0 col1\" >age</th>        <th class=\"col_heading level0 col2\" >churn_date</th>        <th class=\"col_heading level0 col3\" >city</th>        <th class=\"col_heading level0 col4\" >first_name</th>        <th class=\"col_heading level0 col5\" >last_name</th>        <th class=\"col_heading level0 col6\" >reg_date</th>        <th class=\"col_heading level0 col7\" >tariff</th>        <th class=\"col_heading level0 col8\" >tariff_id</th>    </tr></thead><tbody>\n",
       "                <tr>\n",
       "                        <th id=\"T_4887e_level0_row0\" class=\"row_heading level0 row0\" >0</th>\n",
       "                        <td id=\"T_4887e_row0_col0\" class=\"data row0 col0\" >1000</td>\n",
       "                        <td id=\"T_4887e_row0_col1\" class=\"data row0 col1\" >52</td>\n",
       "                        <td id=\"T_4887e_row0_col2\" class=\"data row0 col2\" >NaT</td>\n",
       "                        <td id=\"T_4887e_row0_col3\" class=\"data row0 col3\" >Краснодар</td>\n",
       "                        <td id=\"T_4887e_row0_col4\" class=\"data row0 col4\" >Рафаил</td>\n",
       "                        <td id=\"T_4887e_row0_col5\" class=\"data row0 col5\" >Верещагин</td>\n",
       "                        <td id=\"T_4887e_row0_col6\" class=\"data row0 col6\" >2018-05-25 00:00:00</td>\n",
       "                        <td id=\"T_4887e_row0_col7\" class=\"data row0 col7\" >ultra</td>\n",
       "                        <td id=\"T_4887e_row0_col8\" class=\"data row0 col8\" >1</td>\n",
       "            </tr>\n",
       "            <tr>\n",
       "                        <th id=\"T_4887e_level0_row1\" class=\"row_heading level0 row1\" >1</th>\n",
       "                        <td id=\"T_4887e_row1_col0\" class=\"data row1 col0\" >1001</td>\n",
       "                        <td id=\"T_4887e_row1_col1\" class=\"data row1 col1\" >41</td>\n",
       "                        <td id=\"T_4887e_row1_col2\" class=\"data row1 col2\" >NaT</td>\n",
       "                        <td id=\"T_4887e_row1_col3\" class=\"data row1 col3\" >Москва</td>\n",
       "                        <td id=\"T_4887e_row1_col4\" class=\"data row1 col4\" >Иван</td>\n",
       "                        <td id=\"T_4887e_row1_col5\" class=\"data row1 col5\" >Ежов</td>\n",
       "                        <td id=\"T_4887e_row1_col6\" class=\"data row1 col6\" >2018-11-01 00:00:00</td>\n",
       "                        <td id=\"T_4887e_row1_col7\" class=\"data row1 col7\" >smart</td>\n",
       "                        <td id=\"T_4887e_row1_col8\" class=\"data row1 col8\" >0</td>\n",
       "            </tr>\n",
       "            <tr>\n",
       "                        <th id=\"T_4887e_level0_row2\" class=\"row_heading level0 row2\" >2</th>\n",
       "                        <td id=\"T_4887e_row2_col0\" class=\"data row2 col0\" >1002</td>\n",
       "                        <td id=\"T_4887e_row2_col1\" class=\"data row2 col1\" >59</td>\n",
       "                        <td id=\"T_4887e_row2_col2\" class=\"data row2 col2\" >NaT</td>\n",
       "                        <td id=\"T_4887e_row2_col3\" class=\"data row2 col3\" >Стерлитамак</td>\n",
       "                        <td id=\"T_4887e_row2_col4\" class=\"data row2 col4\" >Евгений</td>\n",
       "                        <td id=\"T_4887e_row2_col5\" class=\"data row2 col5\" >Абрамович</td>\n",
       "                        <td id=\"T_4887e_row2_col6\" class=\"data row2 col6\" >2018-06-17 00:00:00</td>\n",
       "                        <td id=\"T_4887e_row2_col7\" class=\"data row2 col7\" >smart</td>\n",
       "                        <td id=\"T_4887e_row2_col8\" class=\"data row2 col8\" >0</td>\n",
       "            </tr>\n",
       "            <tr>\n",
       "                        <th id=\"T_4887e_level0_row3\" class=\"row_heading level0 row3\" >3</th>\n",
       "                        <td id=\"T_4887e_row3_col0\" class=\"data row3 col0\" >1003</td>\n",
       "                        <td id=\"T_4887e_row3_col1\" class=\"data row3 col1\" >23</td>\n",
       "                        <td id=\"T_4887e_row3_col2\" class=\"data row3 col2\" >NaT</td>\n",
       "                        <td id=\"T_4887e_row3_col3\" class=\"data row3 col3\" >Москва</td>\n",
       "                        <td id=\"T_4887e_row3_col4\" class=\"data row3 col4\" >Белла</td>\n",
       "                        <td id=\"T_4887e_row3_col5\" class=\"data row3 col5\" >Белякова</td>\n",
       "                        <td id=\"T_4887e_row3_col6\" class=\"data row3 col6\" >2018-08-17 00:00:00</td>\n",
       "                        <td id=\"T_4887e_row3_col7\" class=\"data row3 col7\" >ultra</td>\n",
       "                        <td id=\"T_4887e_row3_col8\" class=\"data row3 col8\" >1</td>\n",
       "            </tr>\n",
       "            <tr>\n",
       "                        <th id=\"T_4887e_level0_row4\" class=\"row_heading level0 row4\" >4</th>\n",
       "                        <td id=\"T_4887e_row4_col0\" class=\"data row4 col0\" >1004</td>\n",
       "                        <td id=\"T_4887e_row4_col1\" class=\"data row4 col1\" >68</td>\n",
       "                        <td id=\"T_4887e_row4_col2\" class=\"data row4 col2\" >NaT</td>\n",
       "                        <td id=\"T_4887e_row4_col3\" class=\"data row4 col3\" >Новокузнецк</td>\n",
       "                        <td id=\"T_4887e_row4_col4\" class=\"data row4 col4\" >Татьяна</td>\n",
       "                        <td id=\"T_4887e_row4_col5\" class=\"data row4 col5\" >Авдеенко</td>\n",
       "                        <td id=\"T_4887e_row4_col6\" class=\"data row4 col6\" >2018-05-14 00:00:00</td>\n",
       "                        <td id=\"T_4887e_row4_col7\" class=\"data row4 col7\" >ultra</td>\n",
       "                        <td id=\"T_4887e_row4_col8\" class=\"data row4 col8\" >1</td>\n",
       "            </tr>\n",
       "    </tbody></table>"
      ],
      "text/plain": [
       "<pandas.io.formats.style.Styler at 0x7f14780c4790>"
      ]
     },
     "metadata": {},
     "output_type": "display_data"
    },
    {
     "name": "stdout",
     "output_type": "stream",
     "text": [
      "<class 'pandas.core.frame.DataFrame'>\n",
      "RangeIndex: 500 entries, 0 to 499\n",
      "Data columns (total 9 columns):\n",
      " #   Column      Non-Null Count  Dtype         \n",
      "---  ------      --------------  -----         \n",
      " 0   user_id     500 non-null    int64         \n",
      " 1   age         500 non-null    int64         \n",
      " 2   churn_date  38 non-null     datetime64[ns]\n",
      " 3   city        500 non-null    object        \n",
      " 4   first_name  500 non-null    object        \n",
      " 5   last_name   500 non-null    object        \n",
      " 6   reg_date    500 non-null    datetime64[ns]\n",
      " 7   tariff      500 non-null    object        \n",
      " 8   tariff_id   500 non-null    int64         \n",
      "dtypes: datetime64[ns](2), int64(3), object(4)\n",
      "memory usage: 35.3+ KB\n"
     ]
    }
   ],
   "source": [
    "# Снова посмотрим на данные и тип данных\n",
    "rows_count = len(users)\n",
    "render(users.head(), name='Фрагмент источника данных users (' + str(rows_count) + ' строк)')\n",
    "users.info()"
   ]
  },
  {
   "cell_type": "code",
   "execution_count": 10,
   "metadata": {},
   "outputs": [
    {
     "data": {
      "text/html": [
       "<style  type=\"text/css\" >\n",
       "</style><table id=\"T_4ce70_\" class=\"table_border position_center_header\"><thead>    <tr>        <th class=\"blank level0\" ></th>        <th class=\"col_heading level0 col0\" >age</th>    </tr></thead><tbody>\n",
       "                <tr>\n",
       "                        <th id=\"T_4ce70_level0_row0\" class=\"row_heading level0 row0\" >count</th>\n",
       "                        <td id=\"T_4ce70_row0_col0\" class=\"data row0 col0\" >500.000000</td>\n",
       "            </tr>\n",
       "            <tr>\n",
       "                        <th id=\"T_4ce70_level0_row1\" class=\"row_heading level0 row1\" >mean</th>\n",
       "                        <td id=\"T_4ce70_row1_col0\" class=\"data row1 col0\" >46.588000</td>\n",
       "            </tr>\n",
       "            <tr>\n",
       "                        <th id=\"T_4ce70_level0_row2\" class=\"row_heading level0 row2\" >std</th>\n",
       "                        <td id=\"T_4ce70_row2_col0\" class=\"data row2 col0\" >16.667630</td>\n",
       "            </tr>\n",
       "            <tr>\n",
       "                        <th id=\"T_4ce70_level0_row3\" class=\"row_heading level0 row3\" >min</th>\n",
       "                        <td id=\"T_4ce70_row3_col0\" class=\"data row3 col0\" >18.000000</td>\n",
       "            </tr>\n",
       "            <tr>\n",
       "                        <th id=\"T_4ce70_level0_row4\" class=\"row_heading level0 row4\" >25%</th>\n",
       "                        <td id=\"T_4ce70_row4_col0\" class=\"data row4 col0\" >32.000000</td>\n",
       "            </tr>\n",
       "            <tr>\n",
       "                        <th id=\"T_4ce70_level0_row5\" class=\"row_heading level0 row5\" >50%</th>\n",
       "                        <td id=\"T_4ce70_row5_col0\" class=\"data row5 col0\" >46.000000</td>\n",
       "            </tr>\n",
       "            <tr>\n",
       "                        <th id=\"T_4ce70_level0_row6\" class=\"row_heading level0 row6\" >75%</th>\n",
       "                        <td id=\"T_4ce70_row6_col0\" class=\"data row6 col0\" >62.000000</td>\n",
       "            </tr>\n",
       "            <tr>\n",
       "                        <th id=\"T_4ce70_level0_row7\" class=\"row_heading level0 row7\" >max</th>\n",
       "                        <td id=\"T_4ce70_row7_col0\" class=\"data row7 col0\" >75.000000</td>\n",
       "            </tr>\n",
       "    </tbody></table>"
      ],
      "text/plain": [
       "<pandas.io.formats.style.Styler at 0x7f147077c5e0>"
      ]
     },
     "metadata": {},
     "output_type": "display_data"
    }
   ],
   "source": [
    "# Посмотрим на макисмальное/минимальное/среднее значение возраста абонента\n",
    "render(users['age'].describe())"
   ]
  },
  {
   "cell_type": "code",
   "execution_count": 11,
   "metadata": {},
   "outputs": [
    {
     "name": "stdout",
     "output_type": "stream",
     "text": [
      "Количество дупликатов в users равно 0\n"
     ]
    }
   ],
   "source": [
    "# Проверим на дубликаты\n",
    "print(f\"Количество дупликатов в users равно {users.duplicated().sum()}\")"
   ]
  },
  {
   "cell_type": "markdown",
   "metadata": {},
   "source": [
    "<div class=\"total\">\n",
    "    <div class=\"banner\">&nbsp;</div>\n",
    "    <div class=\"description\">\n",
    "        <h4>Вывод</h4>\n",
    "        <span>\n",
    "            - Исправили тип данных столбцов <b>churn_date</b> и <b>reg_date</b><br>\n",
    "            - Добавили столбец <b>tariff_id</b>, который содержит идентификатор тарифа<br>\n",
    "            - Обнаружили пропуски в столбце 'дата прекращения пользования тарифом' (churn_date)<br>\n",
    "            - Количество дупликатов в users равно 0<br>\n",
    "            - Определили, что возраст самого младшего абонента - 18 лет, старшего - 75, а среднее значение возраста - 46 лет\n",
    "        </span>\n",
    "    </div>\n",
    "</div>"
   ]
  },
  {
   "cell_type": "markdown",
   "metadata": {},
   "source": [
    "### Таблица calls (информация о звонках)"
   ]
  },
  {
   "cell_type": "code",
   "execution_count": 12,
   "metadata": {},
   "outputs": [
    {
     "data": {
      "text/html": [
       "<style  type=\"text/css\" >\n",
       "</style><table id=\"T_1b038_\" class=\"table_border position_center_header\" data-title=\"Фрагмент источника данных calls (202607 строк)\" ><thead>    <tr>        <th class=\"blank level0\" ></th>        <th class=\"col_heading level0 col0\" >id</th>        <th class=\"col_heading level0 col1\" >call_date</th>        <th class=\"col_heading level0 col2\" >duration</th>        <th class=\"col_heading level0 col3\" >user_id</th>    </tr></thead><tbody>\n",
       "                <tr>\n",
       "                        <th id=\"T_1b038_level0_row0\" class=\"row_heading level0 row0\" >0</th>\n",
       "                        <td id=\"T_1b038_row0_col0\" class=\"data row0 col0\" >1000_0</td>\n",
       "                        <td id=\"T_1b038_row0_col1\" class=\"data row0 col1\" >2018-07-25</td>\n",
       "                        <td id=\"T_1b038_row0_col2\" class=\"data row0 col2\" >0.000000</td>\n",
       "                        <td id=\"T_1b038_row0_col3\" class=\"data row0 col3\" >1000</td>\n",
       "            </tr>\n",
       "            <tr>\n",
       "                        <th id=\"T_1b038_level0_row1\" class=\"row_heading level0 row1\" >1</th>\n",
       "                        <td id=\"T_1b038_row1_col0\" class=\"data row1 col0\" >1000_1</td>\n",
       "                        <td id=\"T_1b038_row1_col1\" class=\"data row1 col1\" >2018-08-17</td>\n",
       "                        <td id=\"T_1b038_row1_col2\" class=\"data row1 col2\" >0.000000</td>\n",
       "                        <td id=\"T_1b038_row1_col3\" class=\"data row1 col3\" >1000</td>\n",
       "            </tr>\n",
       "            <tr>\n",
       "                        <th id=\"T_1b038_level0_row2\" class=\"row_heading level0 row2\" >2</th>\n",
       "                        <td id=\"T_1b038_row2_col0\" class=\"data row2 col0\" >1000_2</td>\n",
       "                        <td id=\"T_1b038_row2_col1\" class=\"data row2 col1\" >2018-06-11</td>\n",
       "                        <td id=\"T_1b038_row2_col2\" class=\"data row2 col2\" >2.850000</td>\n",
       "                        <td id=\"T_1b038_row2_col3\" class=\"data row2 col3\" >1000</td>\n",
       "            </tr>\n",
       "            <tr>\n",
       "                        <th id=\"T_1b038_level0_row3\" class=\"row_heading level0 row3\" >3</th>\n",
       "                        <td id=\"T_1b038_row3_col0\" class=\"data row3 col0\" >1000_3</td>\n",
       "                        <td id=\"T_1b038_row3_col1\" class=\"data row3 col1\" >2018-09-21</td>\n",
       "                        <td id=\"T_1b038_row3_col2\" class=\"data row3 col2\" >13.800000</td>\n",
       "                        <td id=\"T_1b038_row3_col3\" class=\"data row3 col3\" >1000</td>\n",
       "            </tr>\n",
       "            <tr>\n",
       "                        <th id=\"T_1b038_level0_row4\" class=\"row_heading level0 row4\" >4</th>\n",
       "                        <td id=\"T_1b038_row4_col0\" class=\"data row4 col0\" >1000_4</td>\n",
       "                        <td id=\"T_1b038_row4_col1\" class=\"data row4 col1\" >2018-12-15</td>\n",
       "                        <td id=\"T_1b038_row4_col2\" class=\"data row4 col2\" >5.180000</td>\n",
       "                        <td id=\"T_1b038_row4_col3\" class=\"data row4 col3\" >1000</td>\n",
       "            </tr>\n",
       "    </tbody></table>"
      ],
      "text/plain": [
       "<pandas.io.formats.style.Styler at 0x7f13f701d760>"
      ]
     },
     "metadata": {},
     "output_type": "display_data"
    }
   ],
   "source": [
    "#Считываем данные о звонках\n",
    "calls = pd.read_csv('/datasets/calls.csv')\n",
    "\n",
    "rows_count = len(calls)\n",
    "\n",
    "render(calls.head(), name='Фрагмент источника данных calls (' + str(rows_count) + ' строк)')"
   ]
  },
  {
   "cell_type": "markdown",
   "metadata": {},
   "source": [
    "**_` `<br>\n",
    "`:: id         ::` — уникальный номер звонка<br>\n",
    "`:: call_date  ::` — дата звонка<br>\n",
    "`:: duration   ::` — длительность звонка в минутах<br>\n",
    "`:: user_id    ::` — идентификатор пользователя, сделавшего звонок<br>\n",
    "` `_**"
   ]
  },
  {
   "cell_type": "code",
   "execution_count": 13,
   "metadata": {},
   "outputs": [
    {
     "name": "stdout",
     "output_type": "stream",
     "text": [
      "<class 'pandas.core.frame.DataFrame'>\n",
      "RangeIndex: 202607 entries, 0 to 202606\n",
      "Data columns (total 4 columns):\n",
      " #   Column     Non-Null Count   Dtype  \n",
      "---  ------     --------------   -----  \n",
      " 0   id         202607 non-null  object \n",
      " 1   call_date  202607 non-null  object \n",
      " 2   duration   202607 non-null  float64\n",
      " 3   user_id    202607 non-null  int64  \n",
      "dtypes: float64(1), int64(1), object(2)\n",
      "memory usage: 6.2+ MB\n"
     ]
    }
   ],
   "source": [
    "#посмотрим на тип данных в столбцах\n",
    "calls.info()"
   ]
  },
  {
   "cell_type": "code",
   "execution_count": 14,
   "metadata": {},
   "outputs": [],
   "source": [
    "# Согласно методу info() было обнаружено, что столбец call_date имеет тип object, а должен - datetime\n",
    "\n",
    "# Преобразуем в datetume столбец call_date\n",
    "calls['call_date']   = pd.to_datetime( calls['call_date'],   format='%Y-%m-%d' )\n",
    "\n",
    "# Согласно условию \"...Каждый звонок округляется отдельно...\" см. примечание в разделе \"Описание тарифов\"\n",
    "# [--исправлено--] calls['duration'] = calls['duration'].apply(round_value)\n",
    "calls['duration'] = np.ceil(calls['duration'])\n",
    "\n",
    "# Добавим дополнительный столбец с месяцем\n",
    "calls['month'] = pd.DatetimeIndex(calls['call_date']).month"
   ]
  },
  {
   "cell_type": "code",
   "execution_count": 15,
   "metadata": {},
   "outputs": [
    {
     "data": {
      "text/html": [
       "<style  type=\"text/css\" >\n",
       "</style><table id=\"T_34097_\" class=\"table_border position_center_header\" data-title=\"Фрагмент источника данных calls (202607 строк)\" ><thead>    <tr>        <th class=\"blank level0\" ></th>        <th class=\"col_heading level0 col0\" >id</th>        <th class=\"col_heading level0 col1\" >call_date</th>        <th class=\"col_heading level0 col2\" >duration</th>        <th class=\"col_heading level0 col3\" >user_id</th>        <th class=\"col_heading level0 col4\" >month</th>    </tr></thead><tbody>\n",
       "                <tr>\n",
       "                        <th id=\"T_34097_level0_row0\" class=\"row_heading level0 row0\" >0</th>\n",
       "                        <td id=\"T_34097_row0_col0\" class=\"data row0 col0\" >1000_0</td>\n",
       "                        <td id=\"T_34097_row0_col1\" class=\"data row0 col1\" >2018-07-25 00:00:00</td>\n",
       "                        <td id=\"T_34097_row0_col2\" class=\"data row0 col2\" >0.000000</td>\n",
       "                        <td id=\"T_34097_row0_col3\" class=\"data row0 col3\" >1000</td>\n",
       "                        <td id=\"T_34097_row0_col4\" class=\"data row0 col4\" >7</td>\n",
       "            </tr>\n",
       "            <tr>\n",
       "                        <th id=\"T_34097_level0_row1\" class=\"row_heading level0 row1\" >1</th>\n",
       "                        <td id=\"T_34097_row1_col0\" class=\"data row1 col0\" >1000_1</td>\n",
       "                        <td id=\"T_34097_row1_col1\" class=\"data row1 col1\" >2018-08-17 00:00:00</td>\n",
       "                        <td id=\"T_34097_row1_col2\" class=\"data row1 col2\" >0.000000</td>\n",
       "                        <td id=\"T_34097_row1_col3\" class=\"data row1 col3\" >1000</td>\n",
       "                        <td id=\"T_34097_row1_col4\" class=\"data row1 col4\" >8</td>\n",
       "            </tr>\n",
       "            <tr>\n",
       "                        <th id=\"T_34097_level0_row2\" class=\"row_heading level0 row2\" >2</th>\n",
       "                        <td id=\"T_34097_row2_col0\" class=\"data row2 col0\" >1000_2</td>\n",
       "                        <td id=\"T_34097_row2_col1\" class=\"data row2 col1\" >2018-06-11 00:00:00</td>\n",
       "                        <td id=\"T_34097_row2_col2\" class=\"data row2 col2\" >3.000000</td>\n",
       "                        <td id=\"T_34097_row2_col3\" class=\"data row2 col3\" >1000</td>\n",
       "                        <td id=\"T_34097_row2_col4\" class=\"data row2 col4\" >6</td>\n",
       "            </tr>\n",
       "            <tr>\n",
       "                        <th id=\"T_34097_level0_row3\" class=\"row_heading level0 row3\" >3</th>\n",
       "                        <td id=\"T_34097_row3_col0\" class=\"data row3 col0\" >1000_3</td>\n",
       "                        <td id=\"T_34097_row3_col1\" class=\"data row3 col1\" >2018-09-21 00:00:00</td>\n",
       "                        <td id=\"T_34097_row3_col2\" class=\"data row3 col2\" >14.000000</td>\n",
       "                        <td id=\"T_34097_row3_col3\" class=\"data row3 col3\" >1000</td>\n",
       "                        <td id=\"T_34097_row3_col4\" class=\"data row3 col4\" >9</td>\n",
       "            </tr>\n",
       "            <tr>\n",
       "                        <th id=\"T_34097_level0_row4\" class=\"row_heading level0 row4\" >4</th>\n",
       "                        <td id=\"T_34097_row4_col0\" class=\"data row4 col0\" >1000_4</td>\n",
       "                        <td id=\"T_34097_row4_col1\" class=\"data row4 col1\" >2018-12-15 00:00:00</td>\n",
       "                        <td id=\"T_34097_row4_col2\" class=\"data row4 col2\" >6.000000</td>\n",
       "                        <td id=\"T_34097_row4_col3\" class=\"data row4 col3\" >1000</td>\n",
       "                        <td id=\"T_34097_row4_col4\" class=\"data row4 col4\" >12</td>\n",
       "            </tr>\n",
       "    </tbody></table>"
      ],
      "text/plain": [
       "<pandas.io.formats.style.Styler at 0x7f13f48d46a0>"
      ]
     },
     "metadata": {},
     "output_type": "display_data"
    },
    {
     "name": "stdout",
     "output_type": "stream",
     "text": [
      "<class 'pandas.core.frame.DataFrame'>\n",
      "RangeIndex: 202607 entries, 0 to 202606\n",
      "Data columns (total 5 columns):\n",
      " #   Column     Non-Null Count   Dtype         \n",
      "---  ------     --------------   -----         \n",
      " 0   id         202607 non-null  object        \n",
      " 1   call_date  202607 non-null  datetime64[ns]\n",
      " 2   duration   202607 non-null  float64       \n",
      " 3   user_id    202607 non-null  int64         \n",
      " 4   month      202607 non-null  int64         \n",
      "dtypes: datetime64[ns](1), float64(1), int64(2), object(1)\n",
      "memory usage: 7.7+ MB\n"
     ]
    }
   ],
   "source": [
    "# Снова посмотрим на данные и тип данных\n",
    "rows_count = len(calls)\n",
    "render(calls.head(), name='Фрагмент источника данных calls (' + str(rows_count) + ' строк)')\n",
    "calls.info()"
   ]
  },
  {
   "cell_type": "code",
   "execution_count": 16,
   "metadata": {},
   "outputs": [
    {
     "data": {
      "text/html": [
       "<style  type=\"text/css\" >\n",
       "</style><table id=\"T_5f80d_\" class=\"table_border position_center_header\"><thead>    <tr>        <th class=\"blank level0\" ></th>        <th class=\"col_heading level0 col0\" >duration</th>    </tr></thead><tbody>\n",
       "                <tr>\n",
       "                        <th id=\"T_5f80d_level0_row0\" class=\"row_heading level0 row0\" >count</th>\n",
       "                        <td id=\"T_5f80d_row0_col0\" class=\"data row0 col0\" >162994.000000</td>\n",
       "            </tr>\n",
       "            <tr>\n",
       "                        <th id=\"T_5f80d_level0_row1\" class=\"row_heading level0 row1\" >mean</th>\n",
       "                        <td id=\"T_5f80d_row1_col0\" class=\"data row1 col0\" >8.897880</td>\n",
       "            </tr>\n",
       "            <tr>\n",
       "                        <th id=\"T_5f80d_level0_row2\" class=\"row_heading level0 row2\" >std</th>\n",
       "                        <td id=\"T_5f80d_row2_col0\" class=\"data row2 col0\" >5.353761</td>\n",
       "            </tr>\n",
       "            <tr>\n",
       "                        <th id=\"T_5f80d_level0_row3\" class=\"row_heading level0 row3\" >min</th>\n",
       "                        <td id=\"T_5f80d_row3_col0\" class=\"data row3 col0\" >1.000000</td>\n",
       "            </tr>\n",
       "            <tr>\n",
       "                        <th id=\"T_5f80d_level0_row4\" class=\"row_heading level0 row4\" >25%</th>\n",
       "                        <td id=\"T_5f80d_row4_col0\" class=\"data row4 col0\" >5.000000</td>\n",
       "            </tr>\n",
       "            <tr>\n",
       "                        <th id=\"T_5f80d_level0_row5\" class=\"row_heading level0 row5\" >50%</th>\n",
       "                        <td id=\"T_5f80d_row5_col0\" class=\"data row5 col0\" >8.000000</td>\n",
       "            </tr>\n",
       "            <tr>\n",
       "                        <th id=\"T_5f80d_level0_row6\" class=\"row_heading level0 row6\" >75%</th>\n",
       "                        <td id=\"T_5f80d_row6_col0\" class=\"data row6 col0\" >12.000000</td>\n",
       "            </tr>\n",
       "            <tr>\n",
       "                        <th id=\"T_5f80d_level0_row7\" class=\"row_heading level0 row7\" >max</th>\n",
       "                        <td id=\"T_5f80d_row7_col0\" class=\"data row7 col0\" >38.000000</td>\n",
       "            </tr>\n",
       "    </tbody></table>"
      ],
      "text/plain": [
       "<pandas.io.formats.style.Styler at 0x7f13f708ed60>"
      ]
     },
     "metadata": {},
     "output_type": "display_data"
    }
   ],
   "source": [
    "# Посмотрим на макисмальное/минимальное/среднее значение осуществленного звонка\n",
    "render(calls[calls['duration'] != 0]['duration'].describe())"
   ]
  },
  {
   "cell_type": "code",
   "execution_count": 17,
   "metadata": {},
   "outputs": [
    {
     "name": "stdout",
     "output_type": "stream",
     "text": [
      "Количество дупликатов в calls равно 0\n"
     ]
    }
   ],
   "source": [
    "# Проверим на дубликаты\n",
    "print(f\"Количество дупликатов в calls равно {calls.duplicated().sum()}\")"
   ]
  },
  {
   "cell_type": "code",
   "execution_count": 18,
   "metadata": {},
   "outputs": [],
   "source": [
    "# Пропущенные звонки могут подпортить нам статистику и расчеты, уберем их из анализа, так как они не участвуют в расчетах стоимости\n",
    "calls = calls[calls['duration']>0]"
   ]
  },
  {
   "cell_type": "code",
   "execution_count": 19,
   "metadata": {},
   "outputs": [
    {
     "data": {
      "image/png": "[encoded data removed]",
      "text/plain": [
       "<Figure size 432x288 with 1 Axes>"
      ]
     },
     "metadata": {
      "needs_background": "light"
     },
     "output_type": "display_data"
    }
   ],
   "source": [
    "# График длительности звонков\n",
    "calls['duration'].plot(kind='hist', bins=25, title='Длительность звонков')\n",
    "\n",
    "plt.ylabel('Количество звонков')\n",
    "plt.xlabel('Длительность')\n",
    "\n",
    "plt.show()"
   ]
  },
  {
   "cell_type": "code",
   "execution_count": 20,
   "metadata": {},
   "outputs": [
    {
     "data": {
      "image/png": "[encoded data removed]",
      "text/plain": [
       "<Figure size 432x288 with 1 Axes>"
      ]
     },
     "metadata": {
      "needs_background": "light"
     },
     "output_type": "display_data"
    }
   ],
   "source": [
    "# График количества звонков по месяцам\n",
    "\n",
    "calls_by_month = calls['month'].value_counts()\n",
    "calls_by_month = calls_by_month.reset_index(name='count').sort_values(by=['index'])\n",
    "calls_by_month['month'] = calls_by_month['index'].apply(month_name)\n",
    "\n",
    "calls_by_month.plot(kind='barh', title='Количество звонков по месяцам', x='month', y='count')\n",
    "\n",
    "plt.xlabel('Количество звонков')\n",
    "plt.ylabel('Месяц')\n",
    "\n",
    "plt.show()"
   ]
  },
  {
   "cell_type": "markdown",
   "metadata": {},
   "source": [
    "<div class=\"total\">\n",
    "    <div class=\"banner\">&nbsp;</div>\n",
    "    <div class=\"description\">\n",
    "        <h4>Вывод</h4>\n",
    "        <span>\n",
    "            - Исправили тип данных столбца <b>call_date</b><br>\n",
    "            - Округлили значение в столбце <b>duration</b><br>\n",
    "            - Добавили столбец <b>month</b>, который содержит месяц, когда был совершен звонок<br>\n",
    "            - Видим пропущенные звонки - 0 минут, самый короткий разговор - 1 минута, самый долгий разговор - 38 минут, а среднее значение - 8 минут<br>\n",
    "            - Для рассчетов и анализа избавились от пропущенных звонков и длительностью 0 минут<br>\n",
    "            - Количество звонков в определенный месяц растет по нарастающей. В январе звонили меньше всего, а в декабре - максимальное количество звонков<br>\n",
    "            - Строк с пропущенными данными нет<br>\n",
    "            - Количество дупликатов в calls равно 0\n",
    "        </span>\n",
    "    </div>\n",
    "</div>"
   ]
  },
  {
   "cell_type": "markdown",
   "metadata": {},
   "source": [
    "### Таблица messages (информация о сообщениях)"
   ]
  },
  {
   "cell_type": "code",
   "execution_count": 21,
   "metadata": {},
   "outputs": [
    {
     "data": {
      "text/html": [
       "<style  type=\"text/css\" >\n",
       "</style><table id=\"T_e4713_\" class=\"table_border position_center_header\" data-title=\"Фрагмент источника данных messages (123036 строк)\" ><thead>    <tr>        <th class=\"blank level0\" ></th>        <th class=\"col_heading level0 col0\" >id</th>        <th class=\"col_heading level0 col1\" >message_date</th>        <th class=\"col_heading level0 col2\" >user_id</th>    </tr></thead><tbody>\n",
       "                <tr>\n",
       "                        <th id=\"T_e4713_level0_row0\" class=\"row_heading level0 row0\" >0</th>\n",
       "                        <td id=\"T_e4713_row0_col0\" class=\"data row0 col0\" >1000_0</td>\n",
       "                        <td id=\"T_e4713_row0_col1\" class=\"data row0 col1\" >2018-06-27</td>\n",
       "                        <td id=\"T_e4713_row0_col2\" class=\"data row0 col2\" >1000</td>\n",
       "            </tr>\n",
       "            <tr>\n",
       "                        <th id=\"T_e4713_level0_row1\" class=\"row_heading level0 row1\" >1</th>\n",
       "                        <td id=\"T_e4713_row1_col0\" class=\"data row1 col0\" >1000_1</td>\n",
       "                        <td id=\"T_e4713_row1_col1\" class=\"data row1 col1\" >2018-10-08</td>\n",
       "                        <td id=\"T_e4713_row1_col2\" class=\"data row1 col2\" >1000</td>\n",
       "            </tr>\n",
       "            <tr>\n",
       "                        <th id=\"T_e4713_level0_row2\" class=\"row_heading level0 row2\" >2</th>\n",
       "                        <td id=\"T_e4713_row2_col0\" class=\"data row2 col0\" >1000_2</td>\n",
       "                        <td id=\"T_e4713_row2_col1\" class=\"data row2 col1\" >2018-08-04</td>\n",
       "                        <td id=\"T_e4713_row2_col2\" class=\"data row2 col2\" >1000</td>\n",
       "            </tr>\n",
       "            <tr>\n",
       "                        <th id=\"T_e4713_level0_row3\" class=\"row_heading level0 row3\" >3</th>\n",
       "                        <td id=\"T_e4713_row3_col0\" class=\"data row3 col0\" >1000_3</td>\n",
       "                        <td id=\"T_e4713_row3_col1\" class=\"data row3 col1\" >2018-06-16</td>\n",
       "                        <td id=\"T_e4713_row3_col2\" class=\"data row3 col2\" >1000</td>\n",
       "            </tr>\n",
       "            <tr>\n",
       "                        <th id=\"T_e4713_level0_row4\" class=\"row_heading level0 row4\" >4</th>\n",
       "                        <td id=\"T_e4713_row4_col0\" class=\"data row4 col0\" >1000_4</td>\n",
       "                        <td id=\"T_e4713_row4_col1\" class=\"data row4 col1\" >2018-12-05</td>\n",
       "                        <td id=\"T_e4713_row4_col2\" class=\"data row4 col2\" >1000</td>\n",
       "            </tr>\n",
       "    </tbody></table>"
      ],
      "text/plain": [
       "<pandas.io.formats.style.Styler at 0x7f13f6c93850>"
      ]
     },
     "metadata": {},
     "output_type": "display_data"
    }
   ],
   "source": [
    "#Считываем данные о сообщениях\n",
    "messages = pd.read_csv('/datasets/messages.csv')\n",
    "\n",
    "rows_count = len(messages)\n",
    "\n",
    "render(messages.head(), name='Фрагмент источника данных messages (' + str(rows_count) + ' строк)')"
   ]
  },
  {
   "cell_type": "markdown",
   "metadata": {},
   "source": [
    "_**` `<br>\n",
    "`:: id            ::` — уникальный номер сообщения<br>\n",
    "`:: message_date  ::` — дата сообщения<br>\n",
    "`:: user_id       ::` — идентификатор пользователя, отправившего сообщение<br>\n",
    "` `**_"
   ]
  },
  {
   "cell_type": "code",
   "execution_count": 22,
   "metadata": {},
   "outputs": [
    {
     "name": "stdout",
     "output_type": "stream",
     "text": [
      "<class 'pandas.core.frame.DataFrame'>\n",
      "RangeIndex: 123036 entries, 0 to 123035\n",
      "Data columns (total 3 columns):\n",
      " #   Column        Non-Null Count   Dtype \n",
      "---  ------        --------------   ----- \n",
      " 0   id            123036 non-null  object\n",
      " 1   message_date  123036 non-null  object\n",
      " 2   user_id       123036 non-null  int64 \n",
      "dtypes: int64(1), object(2)\n",
      "memory usage: 2.8+ MB\n"
     ]
    }
   ],
   "source": [
    "#посмотрим на тип данных в столбцах\n",
    "messages.info()"
   ]
  },
  {
   "cell_type": "code",
   "execution_count": 23,
   "metadata": {},
   "outputs": [],
   "source": [
    "# Согласно методу info() было обнаружено, что столбец message_date имеет тип object, а должен - datetime\n",
    "\n",
    "# Преобразуем в datetume столбец message_date\n",
    "messages['message_date']   = pd.to_datetime( messages['message_date'],   format='%Y-%m-%d' )\n",
    " \n",
    "# Добавим дополнительный столбец с месяцем\n",
    "messages['month'] = pd.DatetimeIndex(messages['message_date']).month"
   ]
  },
  {
   "cell_type": "code",
   "execution_count": 24,
   "metadata": {},
   "outputs": [
    {
     "data": {
      "text/html": [
       "<style  type=\"text/css\" >\n",
       "</style><table id=\"T_802b5_\" class=\"table_border position_center_header\" data-title=\"Фрагмент источника данных messages (123036 строк)\" ><thead>    <tr>        <th class=\"blank level0\" ></th>        <th class=\"col_heading level0 col0\" >id</th>        <th class=\"col_heading level0 col1\" >message_date</th>        <th class=\"col_heading level0 col2\" >user_id</th>        <th class=\"col_heading level0 col3\" >month</th>    </tr></thead><tbody>\n",
       "                <tr>\n",
       "                        <th id=\"T_802b5_level0_row0\" class=\"row_heading level0 row0\" >0</th>\n",
       "                        <td id=\"T_802b5_row0_col0\" class=\"data row0 col0\" >1000_0</td>\n",
       "                        <td id=\"T_802b5_row0_col1\" class=\"data row0 col1\" >2018-06-27 00:00:00</td>\n",
       "                        <td id=\"T_802b5_row0_col2\" class=\"data row0 col2\" >1000</td>\n",
       "                        <td id=\"T_802b5_row0_col3\" class=\"data row0 col3\" >6</td>\n",
       "            </tr>\n",
       "            <tr>\n",
       "                        <th id=\"T_802b5_level0_row1\" class=\"row_heading level0 row1\" >1</th>\n",
       "                        <td id=\"T_802b5_row1_col0\" class=\"data row1 col0\" >1000_1</td>\n",
       "                        <td id=\"T_802b5_row1_col1\" class=\"data row1 col1\" >2018-10-08 00:00:00</td>\n",
       "                        <td id=\"T_802b5_row1_col2\" class=\"data row1 col2\" >1000</td>\n",
       "                        <td id=\"T_802b5_row1_col3\" class=\"data row1 col3\" >10</td>\n",
       "            </tr>\n",
       "            <tr>\n",
       "                        <th id=\"T_802b5_level0_row2\" class=\"row_heading level0 row2\" >2</th>\n",
       "                        <td id=\"T_802b5_row2_col0\" class=\"data row2 col0\" >1000_2</td>\n",
       "                        <td id=\"T_802b5_row2_col1\" class=\"data row2 col1\" >2018-08-04 00:00:00</td>\n",
       "                        <td id=\"T_802b5_row2_col2\" class=\"data row2 col2\" >1000</td>\n",
       "                        <td id=\"T_802b5_row2_col3\" class=\"data row2 col3\" >8</td>\n",
       "            </tr>\n",
       "            <tr>\n",
       "                        <th id=\"T_802b5_level0_row3\" class=\"row_heading level0 row3\" >3</th>\n",
       "                        <td id=\"T_802b5_row3_col0\" class=\"data row3 col0\" >1000_3</td>\n",
       "                        <td id=\"T_802b5_row3_col1\" class=\"data row3 col1\" >2018-06-16 00:00:00</td>\n",
       "                        <td id=\"T_802b5_row3_col2\" class=\"data row3 col2\" >1000</td>\n",
       "                        <td id=\"T_802b5_row3_col3\" class=\"data row3 col3\" >6</td>\n",
       "            </tr>\n",
       "            <tr>\n",
       "                        <th id=\"T_802b5_level0_row4\" class=\"row_heading level0 row4\" >4</th>\n",
       "                        <td id=\"T_802b5_row4_col0\" class=\"data row4 col0\" >1000_4</td>\n",
       "                        <td id=\"T_802b5_row4_col1\" class=\"data row4 col1\" >2018-12-05 00:00:00</td>\n",
       "                        <td id=\"T_802b5_row4_col2\" class=\"data row4 col2\" >1000</td>\n",
       "                        <td id=\"T_802b5_row4_col3\" class=\"data row4 col3\" >12</td>\n",
       "            </tr>\n",
       "    </tbody></table>"
      ],
      "text/plain": [
       "<pandas.io.formats.style.Styler at 0x7f13f6c91670>"
      ]
     },
     "metadata": {},
     "output_type": "display_data"
    },
    {
     "name": "stdout",
     "output_type": "stream",
     "text": [
      "<class 'pandas.core.frame.DataFrame'>\n",
      "RangeIndex: 123036 entries, 0 to 123035\n",
      "Data columns (total 4 columns):\n",
      " #   Column        Non-Null Count   Dtype         \n",
      "---  ------        --------------   -----         \n",
      " 0   id            123036 non-null  object        \n",
      " 1   message_date  123036 non-null  datetime64[ns]\n",
      " 2   user_id       123036 non-null  int64         \n",
      " 3   month         123036 non-null  int64         \n",
      "dtypes: datetime64[ns](1), int64(2), object(1)\n",
      "memory usage: 3.8+ MB\n"
     ]
    }
   ],
   "source": [
    "# Снова посмотрим на данные и тип данных\n",
    "rows_count = len(messages)\n",
    "render(messages.head(), name='Фрагмент источника данных messages (' + str(rows_count) + ' строк)')\n",
    "messages.info()"
   ]
  },
  {
   "cell_type": "code",
   "execution_count": 25,
   "metadata": {},
   "outputs": [
    {
     "name": "stdout",
     "output_type": "stream",
     "text": [
      "Количество дупликатов в messages равно 0\n"
     ]
    }
   ],
   "source": [
    "# Проверим на дубликаты\n",
    "print(f\"Количество дупликатов в messages равно {messages.duplicated().sum()}\")"
   ]
  },
  {
   "cell_type": "code",
   "execution_count": 26,
   "metadata": {},
   "outputs": [
    {
     "data": {
      "image/png": "[encoded data removed]",
      "text/plain": [
       "<Figure size 432x288 with 1 Axes>"
      ]
     },
     "metadata": {
      "needs_background": "light"
     },
     "output_type": "display_data"
    }
   ],
   "source": [
    "# График количества писем по месяцам\n",
    "\n",
    "messages_by_month = messages['month'].value_counts()\n",
    "messages_by_month = messages_by_month.reset_index(name='count').sort_values(by=['index'])\n",
    "messages_by_month['month'] = messages_by_month['index'].apply(month_name)\n",
    "\n",
    "messages_by_month.plot(kind='barh', title='Количество писем по месяцам', x='month', y='count')\n",
    "\n",
    "plt.xlabel('Количество писем')\n",
    "plt.ylabel('Месяц')\n",
    "\n",
    "plt.show()"
   ]
  },
  {
   "cell_type": "markdown",
   "metadata": {},
   "source": [
    "<div class=\"total\">\n",
    "    <div class=\"banner\">&nbsp;</div>\n",
    "    <div class=\"description\">\n",
    "        <h4>Вывод</h4>\n",
    "        <span>\n",
    "            - Исправили тип данных столбца <b>message_date</b><br>\n",
    "            - Добавили столбец <b>month</b>, который содержит месяц, когда было написано сообщение<br>\n",
    "            - Количество писем отправленных в определенный месяц растет по нарастающей. В январе написало меньше всего писем, а в декабре - максимальное количество<br>\n",
    "            - Строк с пропущенными данными нет<br>\n",
    "            - Количество дупликатов в messages равно 0\n",
    "        </span>\n",
    "    </div>\n",
    "</div>"
   ]
  },
  {
   "cell_type": "markdown",
   "metadata": {},
   "source": [
    "### Таблица internet (информация об интернет-сессиях)"
   ]
  },
  {
   "cell_type": "code",
   "execution_count": 27,
   "metadata": {},
   "outputs": [
    {
     "data": {
      "text/html": [
       "<style  type=\"text/css\" >\n",
       "</style><table id=\"T_6b57b_\" class=\"table_border position_center_header\" data-title=\"Фрагмент источника данных internet (149396 строк)\" ><thead>    <tr>        <th class=\"blank level0\" ></th>        <th class=\"col_heading level0 col0\" >id</th>        <th class=\"col_heading level0 col1\" >mb_used</th>        <th class=\"col_heading level0 col2\" >session_date</th>        <th class=\"col_heading level0 col3\" >user_id</th>    </tr></thead><tbody>\n",
       "                <tr>\n",
       "                        <th id=\"T_6b57b_level0_row0\" class=\"row_heading level0 row0\" >0</th>\n",
       "                        <td id=\"T_6b57b_row0_col0\" class=\"data row0 col0\" >1000_0</td>\n",
       "                        <td id=\"T_6b57b_row0_col1\" class=\"data row0 col1\" >112.950000</td>\n",
       "                        <td id=\"T_6b57b_row0_col2\" class=\"data row0 col2\" >2018-11-25</td>\n",
       "                        <td id=\"T_6b57b_row0_col3\" class=\"data row0 col3\" >1000</td>\n",
       "            </tr>\n",
       "            <tr>\n",
       "                        <th id=\"T_6b57b_level0_row1\" class=\"row_heading level0 row1\" >1</th>\n",
       "                        <td id=\"T_6b57b_row1_col0\" class=\"data row1 col0\" >1000_1</td>\n",
       "                        <td id=\"T_6b57b_row1_col1\" class=\"data row1 col1\" >1052.810000</td>\n",
       "                        <td id=\"T_6b57b_row1_col2\" class=\"data row1 col2\" >2018-09-07</td>\n",
       "                        <td id=\"T_6b57b_row1_col3\" class=\"data row1 col3\" >1000</td>\n",
       "            </tr>\n",
       "            <tr>\n",
       "                        <th id=\"T_6b57b_level0_row2\" class=\"row_heading level0 row2\" >2</th>\n",
       "                        <td id=\"T_6b57b_row2_col0\" class=\"data row2 col0\" >1000_2</td>\n",
       "                        <td id=\"T_6b57b_row2_col1\" class=\"data row2 col1\" >1197.260000</td>\n",
       "                        <td id=\"T_6b57b_row2_col2\" class=\"data row2 col2\" >2018-06-25</td>\n",
       "                        <td id=\"T_6b57b_row2_col3\" class=\"data row2 col3\" >1000</td>\n",
       "            </tr>\n",
       "            <tr>\n",
       "                        <th id=\"T_6b57b_level0_row3\" class=\"row_heading level0 row3\" >3</th>\n",
       "                        <td id=\"T_6b57b_row3_col0\" class=\"data row3 col0\" >1000_3</td>\n",
       "                        <td id=\"T_6b57b_row3_col1\" class=\"data row3 col1\" >550.270000</td>\n",
       "                        <td id=\"T_6b57b_row3_col2\" class=\"data row3 col2\" >2018-08-22</td>\n",
       "                        <td id=\"T_6b57b_row3_col3\" class=\"data row3 col3\" >1000</td>\n",
       "            </tr>\n",
       "            <tr>\n",
       "                        <th id=\"T_6b57b_level0_row4\" class=\"row_heading level0 row4\" >4</th>\n",
       "                        <td id=\"T_6b57b_row4_col0\" class=\"data row4 col0\" >1000_4</td>\n",
       "                        <td id=\"T_6b57b_row4_col1\" class=\"data row4 col1\" >302.560000</td>\n",
       "                        <td id=\"T_6b57b_row4_col2\" class=\"data row4 col2\" >2018-09-24</td>\n",
       "                        <td id=\"T_6b57b_row4_col3\" class=\"data row4 col3\" >1000</td>\n",
       "            </tr>\n",
       "    </tbody></table>"
      ],
      "text/plain": [
       "<pandas.io.formats.style.Styler at 0x7f13f6bd6e20>"
      ]
     },
     "metadata": {},
     "output_type": "display_data"
    }
   ],
   "source": [
    "#Считываем данные о сессиях\n",
    "#internet = pd.read_csv('/datasets/internet.csv')\n",
    "internet = pd.read_csv('/datasets/internet.csv', index_col=0)\n",
    "\n",
    "rows_count = len(internet)\n",
    "\n",
    "render(internet.head(), name='Фрагмент источника данных internet (' + str(rows_count) + ' строк)')"
   ]
  },
  {
   "cell_type": "markdown",
   "metadata": {},
   "source": [
    "**_` `<br>\n",
    "`:: id            ::` — уникальный номер сессии<br>\n",
    "`:: mb_used       ::` — объём потраченного за сессию интернет-трафика (в мегабайтах)<br>\n",
    "`:: session_date  ::` — дата интернет-сессии<br>\n",
    "`:: user_id       ::` — идентификатор пользователя<br>\n",
    "` `_**"
   ]
  },
  {
   "cell_type": "code",
   "execution_count": 28,
   "metadata": {},
   "outputs": [
    {
     "name": "stdout",
     "output_type": "stream",
     "text": [
      "<class 'pandas.core.frame.DataFrame'>\n",
      "Int64Index: 149396 entries, 0 to 149395\n",
      "Data columns (total 4 columns):\n",
      " #   Column        Non-Null Count   Dtype  \n",
      "---  ------        --------------   -----  \n",
      " 0   id            149396 non-null  object \n",
      " 1   mb_used       149396 non-null  float64\n",
      " 2   session_date  149396 non-null  object \n",
      " 3   user_id       149396 non-null  int64  \n",
      "dtypes: float64(1), int64(1), object(2)\n",
      "memory usage: 5.7+ MB\n"
     ]
    }
   ],
   "source": [
    "#посмотрим на тип данных в столбцах\n",
    "internet.info()"
   ]
  },
  {
   "cell_type": "code",
   "execution_count": 29,
   "metadata": {},
   "outputs": [],
   "source": [
    "# Согласно методу info() было обнаружено, что столбец session_date имеет тип object, а должен - datetime\n",
    "# [--исправлено--] А также обнаружен безимянный столбец, который нужно удалить\n",
    "\n",
    "# Преобразуем в datetume столбец message_date\n",
    "internet['session_date'] = pd.to_datetime(internet['session_date'], format='%Y-%m-%d')\n",
    "\n",
    "# Добавим дополнительный столбец с месяцем\n",
    "internet['month'] = pd.DatetimeIndex(internet['session_date']).month\n",
    "\n",
    "\n",
    "# [--исправлено--] Удалим лишний столбец\n",
    "#internet.drop('Unnamed: 0', axis=1, inplace=True)"
   ]
  },
  {
   "cell_type": "code",
   "execution_count": 30,
   "metadata": {},
   "outputs": [
    {
     "data": {
      "text/html": [
       "<style  type=\"text/css\" >\n",
       "</style><table id=\"T_59e27_\" class=\"table_border position_center_header\" data-title=\"Фрагмент источника данных internet (149396 строк)\" ><thead>    <tr>        <th class=\"blank level0\" ></th>        <th class=\"col_heading level0 col0\" >id</th>        <th class=\"col_heading level0 col1\" >mb_used</th>        <th class=\"col_heading level0 col2\" >session_date</th>        <th class=\"col_heading level0 col3\" >user_id</th>        <th class=\"col_heading level0 col4\" >month</th>    </tr></thead><tbody>\n",
       "                <tr>\n",
       "                        <th id=\"T_59e27_level0_row0\" class=\"row_heading level0 row0\" >0</th>\n",
       "                        <td id=\"T_59e27_row0_col0\" class=\"data row0 col0\" >1000_0</td>\n",
       "                        <td id=\"T_59e27_row0_col1\" class=\"data row0 col1\" >112.950000</td>\n",
       "                        <td id=\"T_59e27_row0_col2\" class=\"data row0 col2\" >2018-11-25 00:00:00</td>\n",
       "                        <td id=\"T_59e27_row0_col3\" class=\"data row0 col3\" >1000</td>\n",
       "                        <td id=\"T_59e27_row0_col4\" class=\"data row0 col4\" >11</td>\n",
       "            </tr>\n",
       "            <tr>\n",
       "                        <th id=\"T_59e27_level0_row1\" class=\"row_heading level0 row1\" >1</th>\n",
       "                        <td id=\"T_59e27_row1_col0\" class=\"data row1 col0\" >1000_1</td>\n",
       "                        <td id=\"T_59e27_row1_col1\" class=\"data row1 col1\" >1052.810000</td>\n",
       "                        <td id=\"T_59e27_row1_col2\" class=\"data row1 col2\" >2018-09-07 00:00:00</td>\n",
       "                        <td id=\"T_59e27_row1_col3\" class=\"data row1 col3\" >1000</td>\n",
       "                        <td id=\"T_59e27_row1_col4\" class=\"data row1 col4\" >9</td>\n",
       "            </tr>\n",
       "            <tr>\n",
       "                        <th id=\"T_59e27_level0_row2\" class=\"row_heading level0 row2\" >2</th>\n",
       "                        <td id=\"T_59e27_row2_col0\" class=\"data row2 col0\" >1000_2</td>\n",
       "                        <td id=\"T_59e27_row2_col1\" class=\"data row2 col1\" >1197.260000</td>\n",
       "                        <td id=\"T_59e27_row2_col2\" class=\"data row2 col2\" >2018-06-25 00:00:00</td>\n",
       "                        <td id=\"T_59e27_row2_col3\" class=\"data row2 col3\" >1000</td>\n",
       "                        <td id=\"T_59e27_row2_col4\" class=\"data row2 col4\" >6</td>\n",
       "            </tr>\n",
       "            <tr>\n",
       "                        <th id=\"T_59e27_level0_row3\" class=\"row_heading level0 row3\" >3</th>\n",
       "                        <td id=\"T_59e27_row3_col0\" class=\"data row3 col0\" >1000_3</td>\n",
       "                        <td id=\"T_59e27_row3_col1\" class=\"data row3 col1\" >550.270000</td>\n",
       "                        <td id=\"T_59e27_row3_col2\" class=\"data row3 col2\" >2018-08-22 00:00:00</td>\n",
       "                        <td id=\"T_59e27_row3_col3\" class=\"data row3 col3\" >1000</td>\n",
       "                        <td id=\"T_59e27_row3_col4\" class=\"data row3 col4\" >8</td>\n",
       "            </tr>\n",
       "            <tr>\n",
       "                        <th id=\"T_59e27_level0_row4\" class=\"row_heading level0 row4\" >4</th>\n",
       "                        <td id=\"T_59e27_row4_col0\" class=\"data row4 col0\" >1000_4</td>\n",
       "                        <td id=\"T_59e27_row4_col1\" class=\"data row4 col1\" >302.560000</td>\n",
       "                        <td id=\"T_59e27_row4_col2\" class=\"data row4 col2\" >2018-09-24 00:00:00</td>\n",
       "                        <td id=\"T_59e27_row4_col3\" class=\"data row4 col3\" >1000</td>\n",
       "                        <td id=\"T_59e27_row4_col4\" class=\"data row4 col4\" >9</td>\n",
       "            </tr>\n",
       "    </tbody></table>"
      ],
      "text/plain": [
       "<pandas.io.formats.style.Styler at 0x7f13f48d6ac0>"
      ]
     },
     "metadata": {},
     "output_type": "display_data"
    },
    {
     "name": "stdout",
     "output_type": "stream",
     "text": [
      "<class 'pandas.core.frame.DataFrame'>\n",
      "Int64Index: 149396 entries, 0 to 149395\n",
      "Data columns (total 5 columns):\n",
      " #   Column        Non-Null Count   Dtype         \n",
      "---  ------        --------------   -----         \n",
      " 0   id            149396 non-null  object        \n",
      " 1   mb_used       149396 non-null  float64       \n",
      " 2   session_date  149396 non-null  datetime64[ns]\n",
      " 3   user_id       149396 non-null  int64         \n",
      " 4   month         149396 non-null  int64         \n",
      "dtypes: datetime64[ns](1), float64(1), int64(2), object(1)\n",
      "memory usage: 6.8+ MB\n"
     ]
    }
   ],
   "source": [
    "# Снова посмотрим на данные и тип данных\n",
    "rows_count = len(internet)\n",
    "render(internet.head(), name='Фрагмент источника данных internet (' + str(rows_count) + ' строк)')\n",
    "internet.info()"
   ]
  },
  {
   "cell_type": "code",
   "execution_count": 31,
   "metadata": {},
   "outputs": [
    {
     "name": "stdout",
     "output_type": "stream",
     "text": [
      "Количество дупликатов в internet равно 0\n"
     ]
    }
   ],
   "source": [
    "# Проверим на дубликаты\n",
    "print(f\"Количество дупликатов в internet равно {internet.duplicated().sum()}\")"
   ]
  },
  {
   "cell_type": "code",
   "execution_count": 32,
   "metadata": {},
   "outputs": [
    {
     "data": {
      "image/png": "[encoded data removed]",
      "text/plain": [
       "<Figure size 432x288 with 1 Axes>"
      ]
     },
     "metadata": {
      "needs_background": "light"
     },
     "output_type": "display_data"
    }
   ],
   "source": [
    "# График количества подключений интернет трафика по месяцам\n",
    "\n",
    "internet_by_month = internet['month'].value_counts()\n",
    "internet_by_month = internet_by_month.reset_index(name='count').sort_values(by=['index'])\n",
    "internet_by_month['month'] = internet_by_month['index'].apply(month_name)\n",
    "\n",
    "internet_by_month.plot(kind='barh', title='Количество подключений интернет-трафика по месяцам', x='month', y='count')\n",
    "\n",
    "plt.xlabel('Количество подключений интернет-трафика')\n",
    "plt.ylabel('Месяц')\n",
    "\n",
    "plt.show()"
   ]
  },
  {
   "cell_type": "code",
   "execution_count": 33,
   "metadata": {},
   "outputs": [
    {
     "data": {
      "image/png": "[encoded data removed]",
      "text/plain": [
       "<Figure size 1152x288 with 1 Axes>"
      ]
     },
     "metadata": {
      "needs_background": "light"
     },
     "output_type": "display_data"
    }
   ],
   "source": [
    "internet['mb_used'].plot(kind='hist', bins=20, title='Количество использования трафика', figsize=(16,4))\n",
    "\n",
    "plt.xlabel('Мегабайты')\n",
    "plt.ylabel('Количество клиентов')\n",
    "\n",
    "plt.show()"
   ]
  },
  {
   "cell_type": "markdown",
   "metadata": {},
   "source": [
    "На графике видим 0 мегабайт, скорее всего это неудачные выходы в интернет."
   ]
  },
  {
   "cell_type": "code",
   "execution_count": 34,
   "metadata": {},
   "outputs": [
    {
     "data": {
      "text/html": [
       "<style  type=\"text/css\" >\n",
       "</style><table id=\"T_2d545_\" class=\"table_border position_center_header\"><thead>    <tr>        <th class=\"blank level0\" ></th>        <th class=\"col_heading level0 col0\" >mb_used</th>    </tr></thead><tbody>\n",
       "                <tr>\n",
       "                        <th id=\"T_2d545_level0_row0\" class=\"row_heading level0 row0\" >count</th>\n",
       "                        <td id=\"T_2d545_row0_col0\" class=\"data row0 col0\" >149396.000000</td>\n",
       "            </tr>\n",
       "            <tr>\n",
       "                        <th id=\"T_2d545_level0_row1\" class=\"row_heading level0 row1\" >mean</th>\n",
       "                        <td id=\"T_2d545_row1_col0\" class=\"data row1 col0\" >370.192426</td>\n",
       "            </tr>\n",
       "            <tr>\n",
       "                        <th id=\"T_2d545_level0_row2\" class=\"row_heading level0 row2\" >std</th>\n",
       "                        <td id=\"T_2d545_row2_col0\" class=\"data row2 col0\" >278.300951</td>\n",
       "            </tr>\n",
       "            <tr>\n",
       "                        <th id=\"T_2d545_level0_row3\" class=\"row_heading level0 row3\" >min</th>\n",
       "                        <td id=\"T_2d545_row3_col0\" class=\"data row3 col0\" >0.000000</td>\n",
       "            </tr>\n",
       "            <tr>\n",
       "                        <th id=\"T_2d545_level0_row4\" class=\"row_heading level0 row4\" >25%</th>\n",
       "                        <td id=\"T_2d545_row4_col0\" class=\"data row4 col0\" >138.187500</td>\n",
       "            </tr>\n",
       "            <tr>\n",
       "                        <th id=\"T_2d545_level0_row5\" class=\"row_heading level0 row5\" >50%</th>\n",
       "                        <td id=\"T_2d545_row5_col0\" class=\"data row5 col0\" >348.015000</td>\n",
       "            </tr>\n",
       "            <tr>\n",
       "                        <th id=\"T_2d545_level0_row6\" class=\"row_heading level0 row6\" >75%</th>\n",
       "                        <td id=\"T_2d545_row6_col0\" class=\"data row6 col0\" >559.552500</td>\n",
       "            </tr>\n",
       "            <tr>\n",
       "                        <th id=\"T_2d545_level0_row7\" class=\"row_heading level0 row7\" >max</th>\n",
       "                        <td id=\"T_2d545_row7_col0\" class=\"data row7 col0\" >1724.830000</td>\n",
       "            </tr>\n",
       "    </tbody></table>"
      ],
      "text/plain": [
       "<pandas.io.formats.style.Styler at 0x7f13f6c90be0>"
      ]
     },
     "metadata": {},
     "output_type": "display_data"
    }
   ],
   "source": [
    "#[--исправлено--] \n",
    "render(internet['mb_used'].describe())"
   ]
  },
  {
   "cell_type": "markdown",
   "metadata": {},
   "source": [
    "<div class=\"alert alert-block alert-info\">\n",
    " \n",
    "### Комментарий студента\n",
    "    \n",
    "#### Исправлено\n",
    "</div>"
   ]
  },
  {
   "cell_type": "markdown",
   "metadata": {},
   "source": [
    "<div class=\"total\">\n",
    "    <div class=\"banner\">&nbsp;</div>\n",
    "    <div class=\"description\">\n",
    "        <h4>Вывод</h4>\n",
    "        <span>\n",
    "            - Исправили тип данных столбца <b>session_date</b><br>\n",
    "            - Добавили столбец <b>month</b>, который содержит месяц, когда была сессия<br>\n",
    "            - Удалили лишний столбец <b>Unnamed: 0</b> [--Исправлено--]<br>\n",
    "            - Количество использования интернет-трафика в определенный месяц растет по нарастающей. В январе подключений меньше всего, а в декабре - максимальное количество<br>\n",
    "            - Строк с пропущенными данными нет<br>\n",
    "            - Количество дупликатов в internet равно 0\n",
    "        </span>\n",
    "    </div>\n",
    "</div>"
   ]
  },
  {
   "cell_type": "markdown",
   "metadata": {},
   "source": [
    "### Таблица tariffs (информация о тарифах)"
   ]
  },
  {
   "cell_type": "code",
   "execution_count": 35,
   "metadata": {},
   "outputs": [
    {
     "data": {
      "text/html": [
       "<style  type=\"text/css\" >\n",
       "</style><table id=\"T_f4b9f_\" class=\"table_border position_center_header\" data-title=\"Фрагмент источника данных tariffs (2 строк)\" ><thead>    <tr>        <th class=\"blank level0\" ></th>        <th class=\"col_heading level0 col0\" >messages_included</th>        <th class=\"col_heading level0 col1\" >mb_per_month_included</th>        <th class=\"col_heading level0 col2\" >minutes_included</th>        <th class=\"col_heading level0 col3\" >rub_monthly_fee</th>        <th class=\"col_heading level0 col4\" >rub_per_gb</th>        <th class=\"col_heading level0 col5\" >rub_per_message</th>        <th class=\"col_heading level0 col6\" >rub_per_minute</th>        <th class=\"col_heading level0 col7\" >tariff_name</th>    </tr></thead><tbody>\n",
       "                <tr>\n",
       "                        <th id=\"T_f4b9f_level0_row0\" class=\"row_heading level0 row0\" >0</th>\n",
       "                        <td id=\"T_f4b9f_row0_col0\" class=\"data row0 col0\" >50</td>\n",
       "                        <td id=\"T_f4b9f_row0_col1\" class=\"data row0 col1\" >15360</td>\n",
       "                        <td id=\"T_f4b9f_row0_col2\" class=\"data row0 col2\" >500</td>\n",
       "                        <td id=\"T_f4b9f_row0_col3\" class=\"data row0 col3\" >550</td>\n",
       "                        <td id=\"T_f4b9f_row0_col4\" class=\"data row0 col4\" >200</td>\n",
       "                        <td id=\"T_f4b9f_row0_col5\" class=\"data row0 col5\" >3</td>\n",
       "                        <td id=\"T_f4b9f_row0_col6\" class=\"data row0 col6\" >3</td>\n",
       "                        <td id=\"T_f4b9f_row0_col7\" class=\"data row0 col7\" >smart</td>\n",
       "            </tr>\n",
       "            <tr>\n",
       "                        <th id=\"T_f4b9f_level0_row1\" class=\"row_heading level0 row1\" >1</th>\n",
       "                        <td id=\"T_f4b9f_row1_col0\" class=\"data row1 col0\" >1000</td>\n",
       "                        <td id=\"T_f4b9f_row1_col1\" class=\"data row1 col1\" >30720</td>\n",
       "                        <td id=\"T_f4b9f_row1_col2\" class=\"data row1 col2\" >3000</td>\n",
       "                        <td id=\"T_f4b9f_row1_col3\" class=\"data row1 col3\" >1950</td>\n",
       "                        <td id=\"T_f4b9f_row1_col4\" class=\"data row1 col4\" >150</td>\n",
       "                        <td id=\"T_f4b9f_row1_col5\" class=\"data row1 col5\" >1</td>\n",
       "                        <td id=\"T_f4b9f_row1_col6\" class=\"data row1 col6\" >1</td>\n",
       "                        <td id=\"T_f4b9f_row1_col7\" class=\"data row1 col7\" >ultra</td>\n",
       "            </tr>\n",
       "    </tbody></table>"
      ],
      "text/plain": [
       "<pandas.io.formats.style.Styler at 0x7f13f5431b20>"
      ]
     },
     "metadata": {},
     "output_type": "display_data"
    }
   ],
   "source": [
    "#Считываем данные о тарифах\n",
    "tariffs = pd.read_csv('/datasets/tariffs.csv')\n",
    "\n",
    "rows_count = len(tariffs)\n",
    "\n",
    "render(tariffs.head(), name='Фрагмент источника данных tariffs (' + str(rows_count) + ' строк)')"
   ]
  },
  {
   "cell_type": "markdown",
   "metadata": {},
   "source": [
    "_**` `<br>\n",
    "`:: tariff_name            ::` — название тарифа<br>\n",
    "`:: rub_monthly_fee        ::` — ежемесячная абонентская плата в рублях<br>\n",
    "`:: minutes_included       ::` — количество минут разговора в месяц, включённых в абонентскую плату<br>\n",
    "`:: messages_included      ::` — количество сообщений в месяц, включённых в абонентскую плату<br>\n",
    "`:: mb_per_month_included  ::` — объём интернет-трафика, включённого в абонентскую плату (в мегабайтах)<br>\n",
    "`:: rub_per_minute         ::` — стоимость минуты разговора сверх тарифного пакета (например, если в тарифе 100 минут разговора в месяц, то со 101 минуты будет взиматься плата)<br>\n",
    "`:: rub_per_message        ::` — стоимость отправки сообщения сверх тарифного пакета<br>\n",
    "`:: rub_per_gb             ::` — стоимость дополнительного гигабайта интернет-трафика сверх тарифного пакета (1 гигабайт = 1024 мегабайта)<br>\n",
    "` `**_"
   ]
  },
  {
   "cell_type": "code",
   "execution_count": 36,
   "metadata": {},
   "outputs": [
    {
     "name": "stdout",
     "output_type": "stream",
     "text": [
      "<class 'pandas.core.frame.DataFrame'>\n",
      "RangeIndex: 2 entries, 0 to 1\n",
      "Data columns (total 8 columns):\n",
      " #   Column                 Non-Null Count  Dtype \n",
      "---  ------                 --------------  ----- \n",
      " 0   messages_included      2 non-null      int64 \n",
      " 1   mb_per_month_included  2 non-null      int64 \n",
      " 2   minutes_included       2 non-null      int64 \n",
      " 3   rub_monthly_fee        2 non-null      int64 \n",
      " 4   rub_per_gb             2 non-null      int64 \n",
      " 5   rub_per_message        2 non-null      int64 \n",
      " 6   rub_per_minute         2 non-null      int64 \n",
      " 7   tariff_name            2 non-null      object\n",
      "dtypes: int64(7), object(1)\n",
      "memory usage: 256.0+ bytes\n"
     ]
    }
   ],
   "source": [
    "#посмотрим на тип данных в столбцах\n",
    "tariffs.info()"
   ]
  },
  {
   "cell_type": "code",
   "execution_count": 37,
   "metadata": {},
   "outputs": [],
   "source": [
    "# Добавим столбец с id тарифа\n",
    "tariffs['tariff_id'] = tariffs['tariff_name'].apply(set_tariff_id)"
   ]
  },
  {
   "cell_type": "code",
   "execution_count": null,
   "metadata": {},
   "outputs": [],
   "source": []
  },
  {
   "cell_type": "code",
   "execution_count": 38,
   "metadata": {},
   "outputs": [
    {
     "data": {
      "text/html": [
       "<style  type=\"text/css\" >\n",
       "</style><table id=\"T_42125_\" class=\"table_border position_center_header\" data-title=\"Фрагмент источника данных tariffs (2 строк)\" ><thead>    <tr>        <th class=\"blank level0\" ></th>        <th class=\"col_heading level0 col0\" >messages_included</th>        <th class=\"col_heading level0 col1\" >mb_per_month_included</th>        <th class=\"col_heading level0 col2\" >minutes_included</th>        <th class=\"col_heading level0 col3\" >rub_monthly_fee</th>        <th class=\"col_heading level0 col4\" >rub_per_gb</th>        <th class=\"col_heading level0 col5\" >rub_per_message</th>        <th class=\"col_heading level0 col6\" >rub_per_minute</th>        <th class=\"col_heading level0 col7\" >tariff_name</th>        <th class=\"col_heading level0 col8\" >tariff_id</th>    </tr></thead><tbody>\n",
       "                <tr>\n",
       "                        <th id=\"T_42125_level0_row0\" class=\"row_heading level0 row0\" >0</th>\n",
       "                        <td id=\"T_42125_row0_col0\" class=\"data row0 col0\" >50</td>\n",
       "                        <td id=\"T_42125_row0_col1\" class=\"data row0 col1\" >15360</td>\n",
       "                        <td id=\"T_42125_row0_col2\" class=\"data row0 col2\" >500</td>\n",
       "                        <td id=\"T_42125_row0_col3\" class=\"data row0 col3\" >550</td>\n",
       "                        <td id=\"T_42125_row0_col4\" class=\"data row0 col4\" >200</td>\n",
       "                        <td id=\"T_42125_row0_col5\" class=\"data row0 col5\" >3</td>\n",
       "                        <td id=\"T_42125_row0_col6\" class=\"data row0 col6\" >3</td>\n",
       "                        <td id=\"T_42125_row0_col7\" class=\"data row0 col7\" >smart</td>\n",
       "                        <td id=\"T_42125_row0_col8\" class=\"data row0 col8\" >0</td>\n",
       "            </tr>\n",
       "            <tr>\n",
       "                        <th id=\"T_42125_level0_row1\" class=\"row_heading level0 row1\" >1</th>\n",
       "                        <td id=\"T_42125_row1_col0\" class=\"data row1 col0\" >1000</td>\n",
       "                        <td id=\"T_42125_row1_col1\" class=\"data row1 col1\" >30720</td>\n",
       "                        <td id=\"T_42125_row1_col2\" class=\"data row1 col2\" >3000</td>\n",
       "                        <td id=\"T_42125_row1_col3\" class=\"data row1 col3\" >1950</td>\n",
       "                        <td id=\"T_42125_row1_col4\" class=\"data row1 col4\" >150</td>\n",
       "                        <td id=\"T_42125_row1_col5\" class=\"data row1 col5\" >1</td>\n",
       "                        <td id=\"T_42125_row1_col6\" class=\"data row1 col6\" >1</td>\n",
       "                        <td id=\"T_42125_row1_col7\" class=\"data row1 col7\" >ultra</td>\n",
       "                        <td id=\"T_42125_row1_col8\" class=\"data row1 col8\" >1</td>\n",
       "            </tr>\n",
       "    </tbody></table>"
      ],
      "text/plain": [
       "<pandas.io.formats.style.Styler at 0x7f13f6180b50>"
      ]
     },
     "metadata": {},
     "output_type": "display_data"
    },
    {
     "name": "stdout",
     "output_type": "stream",
     "text": [
      "<class 'pandas.core.frame.DataFrame'>\n",
      "RangeIndex: 2 entries, 0 to 1\n",
      "Data columns (total 9 columns):\n",
      " #   Column                 Non-Null Count  Dtype \n",
      "---  ------                 --------------  ----- \n",
      " 0   messages_included      2 non-null      int64 \n",
      " 1   mb_per_month_included  2 non-null      int64 \n",
      " 2   minutes_included       2 non-null      int64 \n",
      " 3   rub_monthly_fee        2 non-null      int64 \n",
      " 4   rub_per_gb             2 non-null      int64 \n",
      " 5   rub_per_message        2 non-null      int64 \n",
      " 6   rub_per_minute         2 non-null      int64 \n",
      " 7   tariff_name            2 non-null      object\n",
      " 8   tariff_id              2 non-null      int64 \n",
      "dtypes: int64(8), object(1)\n",
      "memory usage: 272.0+ bytes\n"
     ]
    }
   ],
   "source": [
    "# Снова посмотрим на данные и тип данных\n",
    "rows_count = len(tariffs)\n",
    "render(tariffs.head(), name='Фрагмент источника данных tariffs (' + str(rows_count) + ' строк)')\n",
    "tariffs.info()"
   ]
  },
  {
   "cell_type": "code",
   "execution_count": 39,
   "metadata": {},
   "outputs": [
    {
     "data": {
      "text/html": [
       "<p class=\"value\" ><code>tarif_limit {'smart': [500, 50, 15360], 'ultra': [3000, 1000, 30720]}</code></p>"
      ],
      "text/plain": [
       "<IPython.core.display.HTML object>"
      ]
     },
     "metadata": {},
     "output_type": "display_data"
    },
    {
     "data": {
      "text/html": [
       "<p class=\"value\" ><code>tarif_limit_adv {'smart': [3, 3, 0.2], 'ultra': [1, 1, 0.15]}</code></p>"
      ],
      "text/plain": [
       "<IPython.core.display.HTML object>"
      ]
     },
     "metadata": {},
     "output_type": "display_data"
    },
    {
     "data": {
      "text/html": [
       "<p class=\"value\" ><code>tarif_price {'smart': 550, 'ultra': 1950}</code></p>"
      ],
      "text/plain": [
       "<IPython.core.display.HTML object>"
      ]
     },
     "metadata": {},
     "output_type": "display_data"
    }
   ],
   "source": [
    "# Заполним словари тарифов\n",
    "\n",
    "for idx, row in tariffs.iterrows():\n",
    "    \n",
    "    #база\n",
    "    tarif_limit[row['tariff_name']]     = [row['minutes_included'], row['messages_included'], row['mb_per_month_included']]\n",
    "    \n",
    "    #сверх план\n",
    "    tarif_limit_adv[row['tariff_name']] = [row['rub_per_minute'], row['rub_per_message'], row['rub_per_gb']/1000]\n",
    "\n",
    "    # стоимость тарифного плана\n",
    "    tarif_price[row['tariff_name']]     = row['rub_monthly_fee']\n",
    "\n",
    "render( 'tarif_limit',     tarif_limit )\n",
    "render( 'tarif_limit_adv', tarif_limit_adv )\n",
    "render( 'tarif_price',     tarif_price )"
   ]
  },
  {
   "cell_type": "markdown",
   "metadata": {},
   "source": [
    "<div class=\"total\">\n",
    "    <div class=\"banner\">&nbsp;</div>\n",
    "    <div class=\"description\">\n",
    "        <h4>Вывод</h4>\n",
    "        <span>\n",
    "            - Для удобства добавили столбец <b>tariff_id</b><br>\n",
    "            - Заполнили шаблоны словарей тарифов данными<br>\n",
    "            - Строк с пропущенными данными нет\n",
    "        </span>\n",
    "    </div>\n",
    "</div>"
   ]
  },
  {
   "cell_type": "markdown",
   "metadata": {},
   "source": [
    "## Расчет значений"
   ]
  },
  {
   "cell_type": "markdown",
   "metadata": {},
   "source": [
    "### Количество сделанных звонков и израсходованных минут разговора по месяцам"
   ]
  },
  {
   "cell_type": "code",
   "execution_count": 40,
   "metadata": {},
   "outputs": [
    {
     "name": "stdout",
     "output_type": "stream",
     "text": [
      "\n"
     ]
    }
   ],
   "source": [
    "# [--исправлено--]\n",
    "'''\n",
    "# Построим сводную таблицу по количеству звонков\n",
    "count_calls_by_month = calls.pivot_table(index='user_id', columns='month', values='duration', aggfunc='count')\n",
    "count_calls_by_month.columns = ['count_calls' + '_' + month for month in months]\n",
    "count_calls_by_month = count_calls_by_month.reset_index()\n",
    "\n",
    "render(count_calls_by_month.head(), position='center', format='{:.0f}', name='Количество сделанных звонков')\n",
    "\n",
    "### --------------------------------------------\n",
    "\n",
    "# Построим сводную таблицу по количеству минут\n",
    "sum_calls_by_month = calls.pivot_table(index='user_id', columns='month', values='duration', aggfunc='sum')\n",
    "sum_calls_by_month.columns = ['sum_calls' + '_' + month for month in months]\n",
    "sum_calls_by_month = sum_calls_by_month.reset_index()\n",
    "\n",
    "render(sum_calls_by_month.head(), position='center', format='{:.0f}', name='Количество минут')\n",
    "'''\n",
    "print('')"
   ]
  },
  {
   "cell_type": "code",
   "execution_count": 41,
   "metadata": {},
   "outputs": [
    {
     "data": {
      "text/html": [
       "<style  type=\"text/css\" >\n",
       "</style><table id=\"T_cd260_\" class=\"table_border position_center\" data-title=\"Количество сделанных звонков / Количество минут\" ><thead>    <tr>        <th class=\"blank level0\" ></th>        <th class=\"col_heading level0 col0\" >user_id</th>        <th class=\"col_heading level0 col1\" >month</th>        <th class=\"col_heading level0 col2\" >calls_count</th>        <th class=\"col_heading level0 col3\" >calls_sum</th>    </tr></thead><tbody>\n",
       "                <tr>\n",
       "                        <th id=\"T_cd260_level0_row0\" class=\"row_heading level0 row0\" >0</th>\n",
       "                        <td id=\"T_cd260_row0_col0\" class=\"data row0 col0\" >1000</td>\n",
       "                        <td id=\"T_cd260_row0_col1\" class=\"data row0 col1\" >5</td>\n",
       "                        <td id=\"T_cd260_row0_col2\" class=\"data row0 col2\" >17</td>\n",
       "                        <td id=\"T_cd260_row0_col3\" class=\"data row0 col3\" >159</td>\n",
       "            </tr>\n",
       "            <tr>\n",
       "                        <th id=\"T_cd260_level0_row1\" class=\"row_heading level0 row1\" >1</th>\n",
       "                        <td id=\"T_cd260_row1_col0\" class=\"data row1 col0\" >1000</td>\n",
       "                        <td id=\"T_cd260_row1_col1\" class=\"data row1 col1\" >6</td>\n",
       "                        <td id=\"T_cd260_row1_col2\" class=\"data row1 col2\" >28</td>\n",
       "                        <td id=\"T_cd260_row1_col3\" class=\"data row1 col3\" >172</td>\n",
       "            </tr>\n",
       "            <tr>\n",
       "                        <th id=\"T_cd260_level0_row2\" class=\"row_heading level0 row2\" >2</th>\n",
       "                        <td id=\"T_cd260_row2_col0\" class=\"data row2 col0\" >1000</td>\n",
       "                        <td id=\"T_cd260_row2_col1\" class=\"data row2 col1\" >7</td>\n",
       "                        <td id=\"T_cd260_row2_col2\" class=\"data row2 col2\" >41</td>\n",
       "                        <td id=\"T_cd260_row2_col3\" class=\"data row2 col3\" >340</td>\n",
       "            </tr>\n",
       "            <tr>\n",
       "                        <th id=\"T_cd260_level0_row3\" class=\"row_heading level0 row3\" >3</th>\n",
       "                        <td id=\"T_cd260_row3_col0\" class=\"data row3 col0\" >1000</td>\n",
       "                        <td id=\"T_cd260_row3_col1\" class=\"data row3 col1\" >8</td>\n",
       "                        <td id=\"T_cd260_row3_col2\" class=\"data row3 col2\" >42</td>\n",
       "                        <td id=\"T_cd260_row3_col3\" class=\"data row3 col3\" >408</td>\n",
       "            </tr>\n",
       "            <tr>\n",
       "                        <th id=\"T_cd260_level0_row4\" class=\"row_heading level0 row4\" >4</th>\n",
       "                        <td id=\"T_cd260_row4_col0\" class=\"data row4 col0\" >1000</td>\n",
       "                        <td id=\"T_cd260_row4_col1\" class=\"data row4 col1\" >9</td>\n",
       "                        <td id=\"T_cd260_row4_col2\" class=\"data row4 col2\" >46</td>\n",
       "                        <td id=\"T_cd260_row4_col3\" class=\"data row4 col3\" >466</td>\n",
       "            </tr>\n",
       "    </tbody></table>"
      ],
      "text/plain": [
       "<pandas.io.formats.style.Styler at 0x7f13f61c6430>"
      ]
     },
     "metadata": {},
     "output_type": "display_data"
    }
   ],
   "source": [
    "# Построим сводную таблицу по количеству звонков\n",
    "calls_pivot = (\n",
    "    calls.pivot_table(\n",
    "        index=['user_id', 'month'], \n",
    "        values='duration', \n",
    "        aggfunc=['count', 'sum'])\n",
    "    .reset_index()\n",
    ")\n",
    "calls_pivot.columns = ['user_id', 'month', 'calls_count', 'calls_sum']\n",
    "render(calls_pivot.head(), position='center', format='{:.0f}', name='Количество сделанных звонков / Количество минут')"
   ]
  },
  {
   "cell_type": "markdown",
   "metadata": {},
   "source": [
    "### Количество отправленных сообщений по месяцам"
   ]
  },
  {
   "cell_type": "code",
   "execution_count": 42,
   "metadata": {},
   "outputs": [
    {
     "name": "stdout",
     "output_type": "stream",
     "text": [
      "\n"
     ]
    }
   ],
   "source": [
    "# [--исправлено--]\n",
    "'''\n",
    "# Построим сводную таблицу по количеству сообщений\n",
    "count_messages_by_month = messages.pivot_table(index='user_id', columns='month', values='id', aggfunc='count')\n",
    "count_messages_by_month.columns = ['count_messages' + '_' + month for month in months]\n",
    "count_messages_by_month = count_messages_by_month.reset_index()\n",
    "\n",
    "render(count_messages_by_month.head(), position='center', format='{:.0f}', name='Количество отправленных сообщений по месяцам')\n",
    "'''\n",
    "print('')"
   ]
  },
  {
   "cell_type": "code",
   "execution_count": 43,
   "metadata": {},
   "outputs": [
    {
     "data": {
      "text/html": [
       "<style  type=\"text/css\" >\n",
       "</style><table id=\"T_844c4_\" class=\"table_border position_center\" data-title=\"Количество отправленных сообщений по месяцам\" ><thead>    <tr>        <th class=\"blank level0\" ></th>        <th class=\"col_heading level0 col0\" >user_id</th>        <th class=\"col_heading level0 col1\" >month</th>        <th class=\"col_heading level0 col2\" >messages_count</th>    </tr></thead><tbody>\n",
       "                <tr>\n",
       "                        <th id=\"T_844c4_level0_row0\" class=\"row_heading level0 row0\" >0</th>\n",
       "                        <td id=\"T_844c4_row0_col0\" class=\"data row0 col0\" >1000</td>\n",
       "                        <td id=\"T_844c4_row0_col1\" class=\"data row0 col1\" >5</td>\n",
       "                        <td id=\"T_844c4_row0_col2\" class=\"data row0 col2\" >22</td>\n",
       "            </tr>\n",
       "            <tr>\n",
       "                        <th id=\"T_844c4_level0_row1\" class=\"row_heading level0 row1\" >1</th>\n",
       "                        <td id=\"T_844c4_row1_col0\" class=\"data row1 col0\" >1000</td>\n",
       "                        <td id=\"T_844c4_row1_col1\" class=\"data row1 col1\" >6</td>\n",
       "                        <td id=\"T_844c4_row1_col2\" class=\"data row1 col2\" >60</td>\n",
       "            </tr>\n",
       "            <tr>\n",
       "                        <th id=\"T_844c4_level0_row2\" class=\"row_heading level0 row2\" >2</th>\n",
       "                        <td id=\"T_844c4_row2_col0\" class=\"data row2 col0\" >1000</td>\n",
       "                        <td id=\"T_844c4_row2_col1\" class=\"data row2 col1\" >7</td>\n",
       "                        <td id=\"T_844c4_row2_col2\" class=\"data row2 col2\" >75</td>\n",
       "            </tr>\n",
       "            <tr>\n",
       "                        <th id=\"T_844c4_level0_row3\" class=\"row_heading level0 row3\" >3</th>\n",
       "                        <td id=\"T_844c4_row3_col0\" class=\"data row3 col0\" >1000</td>\n",
       "                        <td id=\"T_844c4_row3_col1\" class=\"data row3 col1\" >8</td>\n",
       "                        <td id=\"T_844c4_row3_col2\" class=\"data row3 col2\" >81</td>\n",
       "            </tr>\n",
       "            <tr>\n",
       "                        <th id=\"T_844c4_level0_row4\" class=\"row_heading level0 row4\" >4</th>\n",
       "                        <td id=\"T_844c4_row4_col0\" class=\"data row4 col0\" >1000</td>\n",
       "                        <td id=\"T_844c4_row4_col1\" class=\"data row4 col1\" >9</td>\n",
       "                        <td id=\"T_844c4_row4_col2\" class=\"data row4 col2\" >57</td>\n",
       "            </tr>\n",
       "    </tbody></table>"
      ],
      "text/plain": [
       "<pandas.io.formats.style.Styler at 0x7f13f617b760>"
      ]
     },
     "metadata": {},
     "output_type": "display_data"
    }
   ],
   "source": [
    "# Построим сводную таблицу по количеству сообщений\n",
    "messages_pivot = (\n",
    "    messages.pivot_table(\n",
    "        index=['user_id', 'month'], \n",
    "        values='id', \n",
    "        aggfunc=['count'])\n",
    "    .reset_index()\n",
    ")\n",
    "messages_pivot.columns = ['user_id', 'month', 'messages_count']\n",
    "render(messages_pivot.head(), position='center', format='{:.0f}', name='Количество отправленных сообщений по месяцам')"
   ]
  },
  {
   "cell_type": "markdown",
   "metadata": {},
   "source": [
    "### Объем израсходованного интернет-трафика по месяцам"
   ]
  },
  {
   "cell_type": "code",
   "execution_count": 44,
   "metadata": {},
   "outputs": [
    {
     "name": "stdout",
     "output_type": "stream",
     "text": [
      "\n"
     ]
    }
   ],
   "source": [
    "# [--исправлено--]\n",
    "'''\n",
    "# Построим сводную таблицу по трафику\n",
    "sum_internet_by_month = internet.pivot_table(index='user_id', columns='month', values='mb_used', aggfunc='sum')\n",
    "sum_internet_by_month.columns = ['sum_internet' + '_' + month for month in months]\n",
    "sum_internet_by_month = sum_internet_by_month.reset_index()\n",
    "\n",
    "render(sum_internet_by_month.head(), position='center', format='{:.0f}', name='Объем израсходованного интернет-трафика по месяцам')\n",
    "'''\n",
    "print('')"
   ]
  },
  {
   "cell_type": "code",
   "execution_count": 45,
   "metadata": {},
   "outputs": [
    {
     "data": {
      "text/html": [
       "<style  type=\"text/css\" >\n",
       "</style><table id=\"T_43555_\" class=\"table_border position_center\" data-title=\"Объем израсходованного интернет-трафика по месяцам\" ><thead>    <tr>        <th class=\"blank level0\" ></th>        <th class=\"col_heading level0 col0\" >user_id</th>        <th class=\"col_heading level0 col1\" >month</th>        <th class=\"col_heading level0 col2\" >internet_sum</th>    </tr></thead><tbody>\n",
       "                <tr>\n",
       "                        <th id=\"T_43555_level0_row0\" class=\"row_heading level0 row0\" >0</th>\n",
       "                        <td id=\"T_43555_row0_col0\" class=\"data row0 col0\" >1000</td>\n",
       "                        <td id=\"T_43555_row0_col1\" class=\"data row0 col1\" >5</td>\n",
       "                        <td id=\"T_43555_row0_col2\" class=\"data row0 col2\" >2253</td>\n",
       "            </tr>\n",
       "            <tr>\n",
       "                        <th id=\"T_43555_level0_row1\" class=\"row_heading level0 row1\" >1</th>\n",
       "                        <td id=\"T_43555_row1_col0\" class=\"data row1 col0\" >1000</td>\n",
       "                        <td id=\"T_43555_row1_col1\" class=\"data row1 col1\" >6</td>\n",
       "                        <td id=\"T_43555_row1_col2\" class=\"data row1 col2\" >23234</td>\n",
       "            </tr>\n",
       "            <tr>\n",
       "                        <th id=\"T_43555_level0_row2\" class=\"row_heading level0 row2\" >2</th>\n",
       "                        <td id=\"T_43555_row2_col0\" class=\"data row2 col0\" >1000</td>\n",
       "                        <td id=\"T_43555_row2_col1\" class=\"data row2 col1\" >7</td>\n",
       "                        <td id=\"T_43555_row2_col2\" class=\"data row2 col2\" >14004</td>\n",
       "            </tr>\n",
       "            <tr>\n",
       "                        <th id=\"T_43555_level0_row3\" class=\"row_heading level0 row3\" >3</th>\n",
       "                        <td id=\"T_43555_row3_col0\" class=\"data row3 col0\" >1000</td>\n",
       "                        <td id=\"T_43555_row3_col1\" class=\"data row3 col1\" >8</td>\n",
       "                        <td id=\"T_43555_row3_col2\" class=\"data row3 col2\" >14056</td>\n",
       "            </tr>\n",
       "            <tr>\n",
       "                        <th id=\"T_43555_level0_row4\" class=\"row_heading level0 row4\" >4</th>\n",
       "                        <td id=\"T_43555_row4_col0\" class=\"data row4 col0\" >1000</td>\n",
       "                        <td id=\"T_43555_row4_col1\" class=\"data row4 col1\" >9</td>\n",
       "                        <td id=\"T_43555_row4_col2\" class=\"data row4 col2\" >14569</td>\n",
       "            </tr>\n",
       "    </tbody></table>"
      ],
      "text/plain": [
       "<pandas.io.formats.style.Styler at 0x7f13f6165550>"
      ]
     },
     "metadata": {},
     "output_type": "display_data"
    }
   ],
   "source": [
    "# Построим сводную таблицу по трафику\n",
    "internet_pivot = (\n",
    "    internet.pivot_table(\n",
    "        index=['user_id', 'month'], \n",
    "        values='mb_used', \n",
    "        aggfunc=['sum'])\n",
    "    .reset_index()\n",
    ")\n",
    "internet_pivot.columns = ['user_id', 'month', 'internet_sum']\n",
    "render(internet_pivot.head(), position='center', format='{:.0f}', name='Объем израсходованного интернет-трафика по месяцам')"
   ]
  },
  {
   "cell_type": "markdown",
   "metadata": {},
   "source": [
    "### Помесячная выручка с каждого пользователя"
   ]
  },
  {
   "cell_type": "code",
   "execution_count": 46,
   "metadata": {},
   "outputs": [
    {
     "name": "stdout",
     "output_type": "stream",
     "text": [
      "\n"
     ]
    }
   ],
   "source": [
    "# [--исправлено--]\n",
    "'''\n",
    "# Создадим сводную таблицу с указанием звонков/сообщений/интернет-трафика\n",
    "profit = sum_calls_by_month.merge(sum_internet_by_month, on='user_id', how='outer')\n",
    "profit = profit.merge(count_messages_by_month, on='user_id', how='outer')\n",
    "profit = profit.merge(users[['user_id','tariff']], on='user_id', how='left')\n",
    "\n",
    "render(profit.head())\n",
    "'''\n",
    "print('')"
   ]
  },
  {
   "cell_type": "code",
   "execution_count": 47,
   "metadata": {},
   "outputs": [
    {
     "data": {
      "text/html": [
       "<style  type=\"text/css\" >\n",
       "</style><table id=\"T_b0490_\" class=\"table_border position_center_header\"><thead>    <tr>        <th class=\"blank level0\" ></th>        <th class=\"col_heading level0 col0\" >user_id</th>        <th class=\"col_heading level0 col1\" >month</th>        <th class=\"col_heading level0 col2\" >calls_count</th>        <th class=\"col_heading level0 col3\" >calls_sum</th>        <th class=\"col_heading level0 col4\" >internet_sum</th>        <th class=\"col_heading level0 col5\" >messages_count</th>        <th class=\"col_heading level0 col6\" >tariff</th>    </tr></thead><tbody>\n",
       "                <tr>\n",
       "                        <th id=\"T_b0490_level0_row0\" class=\"row_heading level0 row0\" >0</th>\n",
       "                        <td id=\"T_b0490_row0_col0\" class=\"data row0 col0\" >1000</td>\n",
       "                        <td id=\"T_b0490_row0_col1\" class=\"data row0 col1\" >5</td>\n",
       "                        <td id=\"T_b0490_row0_col2\" class=\"data row0 col2\" >17.000000</td>\n",
       "                        <td id=\"T_b0490_row0_col3\" class=\"data row0 col3\" >159.000000</td>\n",
       "                        <td id=\"T_b0490_row0_col4\" class=\"data row0 col4\" >2253.490000</td>\n",
       "                        <td id=\"T_b0490_row0_col5\" class=\"data row0 col5\" >22.000000</td>\n",
       "                        <td id=\"T_b0490_row0_col6\" class=\"data row0 col6\" >ultra</td>\n",
       "            </tr>\n",
       "            <tr>\n",
       "                        <th id=\"T_b0490_level0_row1\" class=\"row_heading level0 row1\" >1</th>\n",
       "                        <td id=\"T_b0490_row1_col0\" class=\"data row1 col0\" >1000</td>\n",
       "                        <td id=\"T_b0490_row1_col1\" class=\"data row1 col1\" >6</td>\n",
       "                        <td id=\"T_b0490_row1_col2\" class=\"data row1 col2\" >28.000000</td>\n",
       "                        <td id=\"T_b0490_row1_col3\" class=\"data row1 col3\" >172.000000</td>\n",
       "                        <td id=\"T_b0490_row1_col4\" class=\"data row1 col4\" >23233.770000</td>\n",
       "                        <td id=\"T_b0490_row1_col5\" class=\"data row1 col5\" >60.000000</td>\n",
       "                        <td id=\"T_b0490_row1_col6\" class=\"data row1 col6\" >ultra</td>\n",
       "            </tr>\n",
       "            <tr>\n",
       "                        <th id=\"T_b0490_level0_row2\" class=\"row_heading level0 row2\" >2</th>\n",
       "                        <td id=\"T_b0490_row2_col0\" class=\"data row2 col0\" >1000</td>\n",
       "                        <td id=\"T_b0490_row2_col1\" class=\"data row2 col1\" >7</td>\n",
       "                        <td id=\"T_b0490_row2_col2\" class=\"data row2 col2\" >41.000000</td>\n",
       "                        <td id=\"T_b0490_row2_col3\" class=\"data row2 col3\" >340.000000</td>\n",
       "                        <td id=\"T_b0490_row2_col4\" class=\"data row2 col4\" >14003.640000</td>\n",
       "                        <td id=\"T_b0490_row2_col5\" class=\"data row2 col5\" >75.000000</td>\n",
       "                        <td id=\"T_b0490_row2_col6\" class=\"data row2 col6\" >ultra</td>\n",
       "            </tr>\n",
       "            <tr>\n",
       "                        <th id=\"T_b0490_level0_row3\" class=\"row_heading level0 row3\" >3</th>\n",
       "                        <td id=\"T_b0490_row3_col0\" class=\"data row3 col0\" >1000</td>\n",
       "                        <td id=\"T_b0490_row3_col1\" class=\"data row3 col1\" >8</td>\n",
       "                        <td id=\"T_b0490_row3_col2\" class=\"data row3 col2\" >42.000000</td>\n",
       "                        <td id=\"T_b0490_row3_col3\" class=\"data row3 col3\" >408.000000</td>\n",
       "                        <td id=\"T_b0490_row3_col4\" class=\"data row3 col4\" >14055.930000</td>\n",
       "                        <td id=\"T_b0490_row3_col5\" class=\"data row3 col5\" >81.000000</td>\n",
       "                        <td id=\"T_b0490_row3_col6\" class=\"data row3 col6\" >ultra</td>\n",
       "            </tr>\n",
       "            <tr>\n",
       "                        <th id=\"T_b0490_level0_row4\" class=\"row_heading level0 row4\" >4</th>\n",
       "                        <td id=\"T_b0490_row4_col0\" class=\"data row4 col0\" >1000</td>\n",
       "                        <td id=\"T_b0490_row4_col1\" class=\"data row4 col1\" >9</td>\n",
       "                        <td id=\"T_b0490_row4_col2\" class=\"data row4 col2\" >46.000000</td>\n",
       "                        <td id=\"T_b0490_row4_col3\" class=\"data row4 col3\" >466.000000</td>\n",
       "                        <td id=\"T_b0490_row4_col4\" class=\"data row4 col4\" >14568.910000</td>\n",
       "                        <td id=\"T_b0490_row4_col5\" class=\"data row4 col5\" >57.000000</td>\n",
       "                        <td id=\"T_b0490_row4_col6\" class=\"data row4 col6\" >ultra</td>\n",
       "            </tr>\n",
       "    </tbody></table>"
      ],
      "text/plain": [
       "<pandas.io.formats.style.Styler at 0x7f13f61902b0>"
      ]
     },
     "metadata": {},
     "output_type": "display_data"
    }
   ],
   "source": [
    "# Создадим сводную таблицу с указанием звонков/сообщений/интернет-трафика\n",
    "profit = calls_pivot.merge(internet_pivot, on=['user_id', 'month'], how='outer')\n",
    "profit = profit.merge(messages_pivot, on=['user_id', 'month'], how='outer')\n",
    "profit = profit.merge(users[['user_id','tariff']], on='user_id', how='left')\n",
    "\n",
    "render(profit.head())"
   ]
  },
  {
   "cell_type": "code",
   "execution_count": 48,
   "metadata": {
    "scrolled": false
   },
   "outputs": [
    {
     "name": "stdout",
     "output_type": "stream",
     "text": [
      "\n"
     ]
    }
   ],
   "source": [
    "# [--исправлено--]\n",
    "'''\n",
    "# Добавим столбцы с выручкой по месяцам\n",
    "for month in months:\n",
    "    profit[ 'profit' + '_' + month ] = 0\n",
    "\n",
    "# Заполним значениями\n",
    "for month in months:\n",
    "    profit[ 'profit' + '_' + month ] = profit.apply(get_profit_for_user, axis=1, month_name=month)\n",
    "    \n",
    "render(profit.head(10), position='center', format='{:.0f}', name='Общие данные по месяцам')\n",
    "'''\n",
    "print('')"
   ]
  },
  {
   "cell_type": "code",
   "execution_count": 49,
   "metadata": {},
   "outputs": [
    {
     "data": {
      "text/html": [
       "<style  type=\"text/css\" >\n",
       "#T_ce231_row8_col5,#T_ce231_row8_col7,#T_ce231_row9_col5,#T_ce231_row9_col7{\n",
       "            font-weight: bold;\n",
       "            text-transform:  capitalize;\n",
       "            color:  red;\n",
       "        }</style><table id=\"T_ce231_\" class=\"table_border position_center\" data-title=\"Общие данные по месяцам\" ><thead>    <tr>        <th class=\"blank level0\" ></th>        <th class=\"col_heading level0 col0\" >user_id</th>        <th class=\"col_heading level0 col1\" >month</th>        <th class=\"col_heading level0 col2\" >calls_count</th>        <th class=\"col_heading level0 col3\" >calls_sum</th>        <th class=\"col_heading level0 col4\" >internet_sum</th>        <th class=\"col_heading level0 col5\" >messages_count</th>        <th class=\"col_heading level0 col6\" >tariff</th>        <th class=\"col_heading level0 col7\" >profit</th>    </tr></thead><tbody>\n",
       "                <tr>\n",
       "                        <th id=\"T_ce231_level0_row0\" class=\"row_heading level0 row0\" >0</th>\n",
       "                        <td id=\"T_ce231_row0_col0\" class=\"data row0 col0\" >1000</td>\n",
       "                        <td id=\"T_ce231_row0_col1\" class=\"data row0 col1\" >5</td>\n",
       "                        <td id=\"T_ce231_row0_col2\" class=\"data row0 col2\" >17</td>\n",
       "                        <td id=\"T_ce231_row0_col3\" class=\"data row0 col3\" >159</td>\n",
       "                        <td id=\"T_ce231_row0_col4\" class=\"data row0 col4\" >2253</td>\n",
       "                        <td id=\"T_ce231_row0_col5\" class=\"data row0 col5\" >22</td>\n",
       "                        <td id=\"T_ce231_row0_col6\" class=\"data row0 col6\" >ultra</td>\n",
       "                        <td id=\"T_ce231_row0_col7\" class=\"data row0 col7\" >1950</td>\n",
       "            </tr>\n",
       "            <tr>\n",
       "                        <th id=\"T_ce231_level0_row1\" class=\"row_heading level0 row1\" >1</th>\n",
       "                        <td id=\"T_ce231_row1_col0\" class=\"data row1 col0\" >1000</td>\n",
       "                        <td id=\"T_ce231_row1_col1\" class=\"data row1 col1\" >6</td>\n",
       "                        <td id=\"T_ce231_row1_col2\" class=\"data row1 col2\" >28</td>\n",
       "                        <td id=\"T_ce231_row1_col3\" class=\"data row1 col3\" >172</td>\n",
       "                        <td id=\"T_ce231_row1_col4\" class=\"data row1 col4\" >23234</td>\n",
       "                        <td id=\"T_ce231_row1_col5\" class=\"data row1 col5\" >60</td>\n",
       "                        <td id=\"T_ce231_row1_col6\" class=\"data row1 col6\" >ultra</td>\n",
       "                        <td id=\"T_ce231_row1_col7\" class=\"data row1 col7\" >1950</td>\n",
       "            </tr>\n",
       "            <tr>\n",
       "                        <th id=\"T_ce231_level0_row2\" class=\"row_heading level0 row2\" >2</th>\n",
       "                        <td id=\"T_ce231_row2_col0\" class=\"data row2 col0\" >1000</td>\n",
       "                        <td id=\"T_ce231_row2_col1\" class=\"data row2 col1\" >7</td>\n",
       "                        <td id=\"T_ce231_row2_col2\" class=\"data row2 col2\" >41</td>\n",
       "                        <td id=\"T_ce231_row2_col3\" class=\"data row2 col3\" >340</td>\n",
       "                        <td id=\"T_ce231_row2_col4\" class=\"data row2 col4\" >14004</td>\n",
       "                        <td id=\"T_ce231_row2_col5\" class=\"data row2 col5\" >75</td>\n",
       "                        <td id=\"T_ce231_row2_col6\" class=\"data row2 col6\" >ultra</td>\n",
       "                        <td id=\"T_ce231_row2_col7\" class=\"data row2 col7\" >1950</td>\n",
       "            </tr>\n",
       "            <tr>\n",
       "                        <th id=\"T_ce231_level0_row3\" class=\"row_heading level0 row3\" >3</th>\n",
       "                        <td id=\"T_ce231_row3_col0\" class=\"data row3 col0\" >1000</td>\n",
       "                        <td id=\"T_ce231_row3_col1\" class=\"data row3 col1\" >8</td>\n",
       "                        <td id=\"T_ce231_row3_col2\" class=\"data row3 col2\" >42</td>\n",
       "                        <td id=\"T_ce231_row3_col3\" class=\"data row3 col3\" >408</td>\n",
       "                        <td id=\"T_ce231_row3_col4\" class=\"data row3 col4\" >14056</td>\n",
       "                        <td id=\"T_ce231_row3_col5\" class=\"data row3 col5\" >81</td>\n",
       "                        <td id=\"T_ce231_row3_col6\" class=\"data row3 col6\" >ultra</td>\n",
       "                        <td id=\"T_ce231_row3_col7\" class=\"data row3 col7\" >1950</td>\n",
       "            </tr>\n",
       "            <tr>\n",
       "                        <th id=\"T_ce231_level0_row4\" class=\"row_heading level0 row4\" >4</th>\n",
       "                        <td id=\"T_ce231_row4_col0\" class=\"data row4 col0\" >1000</td>\n",
       "                        <td id=\"T_ce231_row4_col1\" class=\"data row4 col1\" >9</td>\n",
       "                        <td id=\"T_ce231_row4_col2\" class=\"data row4 col2\" >46</td>\n",
       "                        <td id=\"T_ce231_row4_col3\" class=\"data row4 col3\" >466</td>\n",
       "                        <td id=\"T_ce231_row4_col4\" class=\"data row4 col4\" >14569</td>\n",
       "                        <td id=\"T_ce231_row4_col5\" class=\"data row4 col5\" >57</td>\n",
       "                        <td id=\"T_ce231_row4_col6\" class=\"data row4 col6\" >ultra</td>\n",
       "                        <td id=\"T_ce231_row4_col7\" class=\"data row4 col7\" >1950</td>\n",
       "            </tr>\n",
       "            <tr>\n",
       "                        <th id=\"T_ce231_level0_row5\" class=\"row_heading level0 row5\" >5</th>\n",
       "                        <td id=\"T_ce231_row5_col0\" class=\"data row5 col0\" >1000</td>\n",
       "                        <td id=\"T_ce231_row5_col1\" class=\"data row5 col1\" >10</td>\n",
       "                        <td id=\"T_ce231_row5_col2\" class=\"data row5 col2\" >44</td>\n",
       "                        <td id=\"T_ce231_row5_col3\" class=\"data row5 col3\" >350</td>\n",
       "                        <td id=\"T_ce231_row5_col4\" class=\"data row5 col4\" >14702</td>\n",
       "                        <td id=\"T_ce231_row5_col5\" class=\"data row5 col5\" >73</td>\n",
       "                        <td id=\"T_ce231_row5_col6\" class=\"data row5 col6\" >ultra</td>\n",
       "                        <td id=\"T_ce231_row5_col7\" class=\"data row5 col7\" >1950</td>\n",
       "            </tr>\n",
       "            <tr>\n",
       "                        <th id=\"T_ce231_level0_row6\" class=\"row_heading level0 row6\" >6</th>\n",
       "                        <td id=\"T_ce231_row6_col0\" class=\"data row6 col0\" >1000</td>\n",
       "                        <td id=\"T_ce231_row6_col1\" class=\"data row6 col1\" >11</td>\n",
       "                        <td id=\"T_ce231_row6_col2\" class=\"data row6 col2\" >37</td>\n",
       "                        <td id=\"T_ce231_row6_col3\" class=\"data row6 col3\" >338</td>\n",
       "                        <td id=\"T_ce231_row6_col4\" class=\"data row6 col4\" >14756</td>\n",
       "                        <td id=\"T_ce231_row6_col5\" class=\"data row6 col5\" >58</td>\n",
       "                        <td id=\"T_ce231_row6_col6\" class=\"data row6 col6\" >ultra</td>\n",
       "                        <td id=\"T_ce231_row6_col7\" class=\"data row6 col7\" >1950</td>\n",
       "            </tr>\n",
       "            <tr>\n",
       "                        <th id=\"T_ce231_level0_row7\" class=\"row_heading level0 row7\" >7</th>\n",
       "                        <td id=\"T_ce231_row7_col0\" class=\"data row7 col0\" >1000</td>\n",
       "                        <td id=\"T_ce231_row7_col1\" class=\"data row7 col1\" >12</td>\n",
       "                        <td id=\"T_ce231_row7_col2\" class=\"data row7 col2\" >38</td>\n",
       "                        <td id=\"T_ce231_row7_col3\" class=\"data row7 col3\" >333</td>\n",
       "                        <td id=\"T_ce231_row7_col4\" class=\"data row7 col4\" >9818</td>\n",
       "                        <td id=\"T_ce231_row7_col5\" class=\"data row7 col5\" >70</td>\n",
       "                        <td id=\"T_ce231_row7_col6\" class=\"data row7 col6\" >ultra</td>\n",
       "                        <td id=\"T_ce231_row7_col7\" class=\"data row7 col7\" >1950</td>\n",
       "            </tr>\n",
       "            <tr>\n",
       "                        <th id=\"T_ce231_level0_row8\" class=\"row_heading level0 row8\" >8</th>\n",
       "                        <td id=\"T_ce231_row8_col0\" class=\"data row8 col0\" >1001</td>\n",
       "                        <td id=\"T_ce231_row8_col1\" class=\"data row8 col1\" >11</td>\n",
       "                        <td id=\"T_ce231_row8_col2\" class=\"data row8 col2\" >45</td>\n",
       "                        <td id=\"T_ce231_row8_col3\" class=\"data row8 col3\" >430</td>\n",
       "                        <td id=\"T_ce231_row8_col4\" class=\"data row8 col4\" >18429</td>\n",
       "                        <td id=\"T_ce231_row8_col5\" class=\"data row8 col5\" >nan</td>\n",
       "                        <td id=\"T_ce231_row8_col6\" class=\"data row8 col6\" >smart</td>\n",
       "                        <td id=\"T_ce231_row8_col7\" class=\"data row8 col7\" >nan</td>\n",
       "            </tr>\n",
       "            <tr>\n",
       "                        <th id=\"T_ce231_level0_row9\" class=\"row_heading level0 row9\" >9</th>\n",
       "                        <td id=\"T_ce231_row9_col0\" class=\"data row9 col0\" >1001</td>\n",
       "                        <td id=\"T_ce231_row9_col1\" class=\"data row9 col1\" >12</td>\n",
       "                        <td id=\"T_ce231_row9_col2\" class=\"data row9 col2\" >47</td>\n",
       "                        <td id=\"T_ce231_row9_col3\" class=\"data row9 col3\" >414</td>\n",
       "                        <td id=\"T_ce231_row9_col4\" class=\"data row9 col4\" >14037</td>\n",
       "                        <td id=\"T_ce231_row9_col5\" class=\"data row9 col5\" >nan</td>\n",
       "                        <td id=\"T_ce231_row9_col6\" class=\"data row9 col6\" >smart</td>\n",
       "                        <td id=\"T_ce231_row9_col7\" class=\"data row9 col7\" >nan</td>\n",
       "            </tr>\n",
       "    </tbody></table>"
      ],
      "text/plain": [
       "<pandas.io.formats.style.Styler at 0x7f13f6190a00>"
      ]
     },
     "metadata": {},
     "output_type": "display_data"
    }
   ],
   "source": [
    "# Добавим столбцы с выручкой по месяцам\n",
    "profit['profit'] = profit.apply(get_profit_for_user_2, axis=1)\n",
    "\n",
    "render(profit.head(10), position='center', format='{:.0f}', name='Общие данные по месяцам')"
   ]
  },
  {
   "cell_type": "markdown",
   "metadata": {},
   "source": [
    "<div class=\"total\">\n",
    "    <div class=\"banner\">&nbsp;</div>\n",
    "    <div class=\"description\">\n",
    "        <h3>Вывод</h3>\n",
    "        <span>\n",
    "            - Подсчитали количество сделанных звонков и израсходованных минут разговора по месяцам<br>\n",
    "            - Подсчитали количество отправленных сообщений по месяцам<br>\n",
    "            - Подсчитали объем израсходованного интернет-трафика по месяцам<br>\n",
    "            - Подсчитали помесячную выручку с каждого пользователя<br>\n",
    "            - Получили итоговую таблицу с подсчитанными данными\n",
    "        </span>\n",
    "    </div>\n",
    "</div>"
   ]
  },
  {
   "cell_type": "markdown",
   "metadata": {},
   "source": [
    "## Анализ полученных данных"
   ]
  },
  {
   "cell_type": "markdown",
   "metadata": {},
   "source": [
    "### Тариф Смарт"
   ]
  },
  {
   "cell_type": "code",
   "execution_count": 50,
   "metadata": {},
   "outputs": [
    {
     "data": {
      "text/html": [
       "<style  type=\"text/css\" >\n",
       "#T_0dd9f_row0_col5,#T_0dd9f_row0_col7,#T_0dd9f_row1_col5,#T_0dd9f_row1_col7{\n",
       "            font-weight: bold;\n",
       "            text-transform:  capitalize;\n",
       "            color:  red;\n",
       "        }</style><table id=\"T_0dd9f_\" class=\"table_border position_center\" data-title=\"Тариф СМАРТ\" ><thead>    <tr>        <th class=\"blank level0\" ></th>        <th class=\"col_heading level0 col0\" >user_id</th>        <th class=\"col_heading level0 col1\" >month</th>        <th class=\"col_heading level0 col2\" >calls_count</th>        <th class=\"col_heading level0 col3\" >calls_sum</th>        <th class=\"col_heading level0 col4\" >internet_sum</th>        <th class=\"col_heading level0 col5\" >messages_count</th>        <th class=\"col_heading level0 col6\" >tariff</th>        <th class=\"col_heading level0 col7\" >profit</th>    </tr></thead><tbody>\n",
       "                <tr>\n",
       "                        <th id=\"T_0dd9f_level0_row0\" class=\"row_heading level0 row0\" >8</th>\n",
       "                        <td id=\"T_0dd9f_row0_col0\" class=\"data row0 col0\" >1001</td>\n",
       "                        <td id=\"T_0dd9f_row0_col1\" class=\"data row0 col1\" >11</td>\n",
       "                        <td id=\"T_0dd9f_row0_col2\" class=\"data row0 col2\" >45</td>\n",
       "                        <td id=\"T_0dd9f_row0_col3\" class=\"data row0 col3\" >430</td>\n",
       "                        <td id=\"T_0dd9f_row0_col4\" class=\"data row0 col4\" >18429</td>\n",
       "                        <td id=\"T_0dd9f_row0_col5\" class=\"data row0 col5\" >nan</td>\n",
       "                        <td id=\"T_0dd9f_row0_col6\" class=\"data row0 col6\" >smart</td>\n",
       "                        <td id=\"T_0dd9f_row0_col7\" class=\"data row0 col7\" >nan</td>\n",
       "            </tr>\n",
       "            <tr>\n",
       "                        <th id=\"T_0dd9f_level0_row1\" class=\"row_heading level0 row1\" >9</th>\n",
       "                        <td id=\"T_0dd9f_row1_col0\" class=\"data row1 col0\" >1001</td>\n",
       "                        <td id=\"T_0dd9f_row1_col1\" class=\"data row1 col1\" >12</td>\n",
       "                        <td id=\"T_0dd9f_row1_col2\" class=\"data row1 col2\" >47</td>\n",
       "                        <td id=\"T_0dd9f_row1_col3\" class=\"data row1 col3\" >414</td>\n",
       "                        <td id=\"T_0dd9f_row1_col4\" class=\"data row1 col4\" >14037</td>\n",
       "                        <td id=\"T_0dd9f_row1_col5\" class=\"data row1 col5\" >nan</td>\n",
       "                        <td id=\"T_0dd9f_row1_col6\" class=\"data row1 col6\" >smart</td>\n",
       "                        <td id=\"T_0dd9f_row1_col7\" class=\"data row1 col7\" >nan</td>\n",
       "            </tr>\n",
       "            <tr>\n",
       "                        <th id=\"T_0dd9f_level0_row2\" class=\"row_heading level0 row2\" >10</th>\n",
       "                        <td id=\"T_0dd9f_row2_col0\" class=\"data row2 col0\" >1002</td>\n",
       "                        <td id=\"T_0dd9f_row2_col1\" class=\"data row2 col1\" >6</td>\n",
       "                        <td id=\"T_0dd9f_row2_col2\" class=\"data row2 col2\" >14</td>\n",
       "                        <td id=\"T_0dd9f_row2_col3\" class=\"data row2 col3\" >117</td>\n",
       "                        <td id=\"T_0dd9f_row2_col4\" class=\"data row2 col4\" >10857</td>\n",
       "                        <td id=\"T_0dd9f_row2_col5\" class=\"data row2 col5\" >4</td>\n",
       "                        <td id=\"T_0dd9f_row2_col6\" class=\"data row2 col6\" >smart</td>\n",
       "                        <td id=\"T_0dd9f_row2_col7\" class=\"data row2 col7\" >550</td>\n",
       "            </tr>\n",
       "            <tr>\n",
       "                        <th id=\"T_0dd9f_level0_row3\" class=\"row_heading level0 row3\" >11</th>\n",
       "                        <td id=\"T_0dd9f_row3_col0\" class=\"data row3 col0\" >1002</td>\n",
       "                        <td id=\"T_0dd9f_row3_col1\" class=\"data row3 col1\" >7</td>\n",
       "                        <td id=\"T_0dd9f_row3_col2\" class=\"data row3 col2\" >21</td>\n",
       "                        <td id=\"T_0dd9f_row3_col3\" class=\"data row3 col3\" >214</td>\n",
       "                        <td id=\"T_0dd9f_row3_col4\" class=\"data row3 col4\" >17580</td>\n",
       "                        <td id=\"T_0dd9f_row3_col5\" class=\"data row3 col5\" >11</td>\n",
       "                        <td id=\"T_0dd9f_row3_col6\" class=\"data row3 col6\" >smart</td>\n",
       "                        <td id=\"T_0dd9f_row3_col7\" class=\"data row3 col7\" >994</td>\n",
       "            </tr>\n",
       "            <tr>\n",
       "                        <th id=\"T_0dd9f_level0_row4\" class=\"row_heading level0 row4\" >12</th>\n",
       "                        <td id=\"T_0dd9f_row4_col0\" class=\"data row4 col0\" >1002</td>\n",
       "                        <td id=\"T_0dd9f_row4_col1\" class=\"data row4 col1\" >8</td>\n",
       "                        <td id=\"T_0dd9f_row4_col2\" class=\"data row4 col2\" >37</td>\n",
       "                        <td id=\"T_0dd9f_row4_col3\" class=\"data row4 col3\" >289</td>\n",
       "                        <td id=\"T_0dd9f_row4_col4\" class=\"data row4 col4\" >20319</td>\n",
       "                        <td id=\"T_0dd9f_row4_col5\" class=\"data row4 col5\" >13</td>\n",
       "                        <td id=\"T_0dd9f_row4_col6\" class=\"data row4 col6\" >smart</td>\n",
       "                        <td id=\"T_0dd9f_row4_col7\" class=\"data row4 col7\" >1542</td>\n",
       "            </tr>\n",
       "            <tr>\n",
       "                        <th id=\"T_0dd9f_level0_row5\" class=\"row_heading level0 row5\" >13</th>\n",
       "                        <td id=\"T_0dd9f_row5_col0\" class=\"data row5 col0\" >1002</td>\n",
       "                        <td id=\"T_0dd9f_row5_col1\" class=\"data row5 col1\" >9</td>\n",
       "                        <td id=\"T_0dd9f_row5_col2\" class=\"data row5 col2\" >25</td>\n",
       "                        <td id=\"T_0dd9f_row5_col3\" class=\"data row5 col3\" >206</td>\n",
       "                        <td id=\"T_0dd9f_row5_col4\" class=\"data row5 col4\" >16691</td>\n",
       "                        <td id=\"T_0dd9f_row5_col5\" class=\"data row5 col5\" >4</td>\n",
       "                        <td id=\"T_0dd9f_row5_col6\" class=\"data row5 col6\" >smart</td>\n",
       "                        <td id=\"T_0dd9f_row5_col7\" class=\"data row5 col7\" >816</td>\n",
       "            </tr>\n",
       "            <tr>\n",
       "                        <th id=\"T_0dd9f_level0_row6\" class=\"row_heading level0 row6\" >14</th>\n",
       "                        <td id=\"T_0dd9f_row6_col0\" class=\"data row6 col0\" >1002</td>\n",
       "                        <td id=\"T_0dd9f_row6_col1\" class=\"data row6 col1\" >10</td>\n",
       "                        <td id=\"T_0dd9f_row6_col2\" class=\"data row6 col2\" >24</td>\n",
       "                        <td id=\"T_0dd9f_row6_col3\" class=\"data row6 col3\" >212</td>\n",
       "                        <td id=\"T_0dd9f_row6_col4\" class=\"data row6 col4\" >13888</td>\n",
       "                        <td id=\"T_0dd9f_row6_col5\" class=\"data row6 col5\" >10</td>\n",
       "                        <td id=\"T_0dd9f_row6_col6\" class=\"data row6 col6\" >smart</td>\n",
       "                        <td id=\"T_0dd9f_row6_col7\" class=\"data row6 col7\" >550</td>\n",
       "            </tr>\n",
       "            <tr>\n",
       "                        <th id=\"T_0dd9f_level0_row7\" class=\"row_heading level0 row7\" >15</th>\n",
       "                        <td id=\"T_0dd9f_row7_col0\" class=\"data row7 col0\" >1002</td>\n",
       "                        <td id=\"T_0dd9f_row7_col1\" class=\"data row7 col1\" >11</td>\n",
       "                        <td id=\"T_0dd9f_row7_col2\" class=\"data row7 col2\" >25</td>\n",
       "                        <td id=\"T_0dd9f_row7_col3\" class=\"data row7 col3\" >243</td>\n",
       "                        <td id=\"T_0dd9f_row7_col4\" class=\"data row7 col4\" >18587</td>\n",
       "                        <td id=\"T_0dd9f_row7_col5\" class=\"data row7 col5\" >16</td>\n",
       "                        <td id=\"T_0dd9f_row7_col6\" class=\"data row7 col6\" >smart</td>\n",
       "                        <td id=\"T_0dd9f_row7_col7\" class=\"data row7 col7\" >1195</td>\n",
       "            </tr>\n",
       "            <tr>\n",
       "                        <th id=\"T_0dd9f_level0_row8\" class=\"row_heading level0 row8\" >16</th>\n",
       "                        <td id=\"T_0dd9f_row8_col0\" class=\"data row8 col0\" >1002</td>\n",
       "                        <td id=\"T_0dd9f_row8_col1\" class=\"data row8 col1\" >12</td>\n",
       "                        <td id=\"T_0dd9f_row8_col2\" class=\"data row8 col2\" >27</td>\n",
       "                        <td id=\"T_0dd9f_row8_col3\" class=\"data row8 col3\" >236</td>\n",
       "                        <td id=\"T_0dd9f_row8_col4\" class=\"data row8 col4\" >18114</td>\n",
       "                        <td id=\"T_0dd9f_row8_col5\" class=\"data row8 col5\" >12</td>\n",
       "                        <td id=\"T_0dd9f_row8_col6\" class=\"data row8 col6\" >smart</td>\n",
       "                        <td id=\"T_0dd9f_row8_col7\" class=\"data row8 col7\" >1101</td>\n",
       "            </tr>\n",
       "            <tr>\n",
       "                        <th id=\"T_0dd9f_level0_row9\" class=\"row_heading level0 row9\" >30</th>\n",
       "                        <td id=\"T_0dd9f_row9_col0\" class=\"data row9 col0\" >1005</td>\n",
       "                        <td id=\"T_0dd9f_row9_col1\" class=\"data row9 col1\" >1</td>\n",
       "                        <td id=\"T_0dd9f_row9_col2\" class=\"data row9 col2\" >11</td>\n",
       "                        <td id=\"T_0dd9f_row9_col3\" class=\"data row9 col3\" >95</td>\n",
       "                        <td id=\"T_0dd9f_row9_col4\" class=\"data row9 col4\" >2728</td>\n",
       "                        <td id=\"T_0dd9f_row9_col5\" class=\"data row9 col5\" >7</td>\n",
       "                        <td id=\"T_0dd9f_row9_col6\" class=\"data row9 col6\" >smart</td>\n",
       "                        <td id=\"T_0dd9f_row9_col7\" class=\"data row9 col7\" >550</td>\n",
       "            </tr>\n",
       "    </tbody></table>"
      ],
      "text/plain": [
       "<pandas.io.formats.style.Styler at 0x7f13f6165b20>"
      ]
     },
     "metadata": {},
     "output_type": "display_data"
    }
   ],
   "source": [
    "tariff_smart_table = profit[profit[\"tariff\"] == \"smart\"].replace(0, np.NaN)\n",
    "\n",
    "render(tariff_smart_table.head(10), position='center', format='{:.0f}', name='Тариф СМАРТ')"
   ]
  },
  {
   "cell_type": "markdown",
   "metadata": {},
   "source": [
    "#### Создаем отдельные таблицы по звонкам, сообщениям и трафику"
   ]
  },
  {
   "cell_type": "code",
   "execution_count": 51,
   "metadata": {},
   "outputs": [
    {
     "name": "stdout",
     "output_type": "stream",
     "text": [
      "\n"
     ]
    }
   ],
   "source": [
    "# [--исправлено--]\n",
    "'''\n",
    "tariff_smart_calls    = tariff_smart_table.loc[ :, 'sum_calls_Jan'     : 'sum_calls_Dec'      ]\n",
    "tariff_smart_messages = tariff_smart_table.loc[ :, 'count_messages_Jan': 'count_messages_Dec' ]\n",
    "tariff_smart_internet = tariff_smart_table.loc[ :, 'sum_internet_Jan'  : 'sum_internet_Dec'   ]\n",
    "tariff_smart_profit   = tariff_smart_table.loc[ :, 'profit_Jan'        : 'profit_Dec'         ]\n",
    "#\n",
    "render(tariff_smart_calls.head(3),    position='center', format='{:.0f}', name='Тариф СМАРТ - звонки')\n",
    "render(tariff_smart_messages.head(3), position='center', format='{:.0f}', name='Тариф СМАРТ - сообщения')\n",
    "render(tariff_smart_internet.head(3), position='center', format='{:.0f}', name='Тариф СМАРТ - трафик')\n",
    "render(tariff_smart_profit.head(3),   position='center', format='{:.0f}', name='Тариф СМАРТ - выручка')\n",
    "'''\n",
    "print('')"
   ]
  },
  {
   "cell_type": "markdown",
   "metadata": {},
   "source": [
    "#### Распределение длительности звонков по месяцам"
   ]
  },
  {
   "cell_type": "code",
   "execution_count": 52,
   "metadata": {},
   "outputs": [
    {
     "name": "stdout",
     "output_type": "stream",
     "text": [
      "\n"
     ]
    }
   ],
   "source": [
    "# [--исправлено--]\n",
    "'''\n",
    "for column in tariff_smart_calls.columns.values.tolist():\n",
    "    tariff_smart_calls[column].plot(kind='hist', range=(1,1000), alpha=0.2)\n",
    "    \n",
    "tariff_smart_calls['mean_value'] = tariff_smart_calls.apply(pd.DataFrame.mean, axis=1) \n",
    "\n",
    "render(tariff_smart_calls['mean_value'].describe())\n",
    "\n",
    "# Построим график\n",
    "tariff_smart_calls['mean_value'].plot(kind='hist', alpha=0.7, color='skyblue', ec='skyblue')\n",
    "\n",
    "plt.title('Распределение длительности звонков')\n",
    "plt.xlabel('Минуты')\n",
    "plt.ylabel('')\n",
    "plt.show()\n",
    "'''\n",
    "print('')"
   ]
  },
  {
   "cell_type": "code",
   "execution_count": 53,
   "metadata": {},
   "outputs": [
    {
     "data": {
      "text/html": [
       "<style  type=\"text/css\" >\n",
       "</style><table id=\"T_b5d4b_\" class=\"table_border position_center_header\"><thead>    <tr>        <th class=\"blank level0\" ></th>        <th class=\"col_heading level0 col0\" >mean_value</th>    </tr></thead><tbody>\n",
       "                <tr>\n",
       "                        <th id=\"T_b5d4b_level0_row0\" class=\"row_heading level0 row0\" >count</th>\n",
       "                        <td id=\"T_b5d4b_row0_col0\" class=\"data row0 col0\" >349.000000</td>\n",
       "            </tr>\n",
       "            <tr>\n",
       "                        <th id=\"T_b5d4b_level0_row1\" class=\"row_heading level0 row1\" >mean</th>\n",
       "                        <td id=\"T_b5d4b_row1_col0\" class=\"data row1 col0\" >420.848019</td>\n",
       "            </tr>\n",
       "            <tr>\n",
       "                        <th id=\"T_b5d4b_level0_row2\" class=\"row_heading level0 row2\" >std</th>\n",
       "                        <td id=\"T_b5d4b_row2_col0\" class=\"data row2 col0\" >143.451303</td>\n",
       "            </tr>\n",
       "            <tr>\n",
       "                        <th id=\"T_b5d4b_level0_row3\" class=\"row_heading level0 row3\" >min</th>\n",
       "                        <td id=\"T_b5d4b_row3_col0\" class=\"data row3 col0\" >15.111111</td>\n",
       "            </tr>\n",
       "            <tr>\n",
       "                        <th id=\"T_b5d4b_level0_row4\" class=\"row_heading level0 row4\" >25%</th>\n",
       "                        <td id=\"T_b5d4b_row4_col0\" class=\"data row4 col0\" >317.545455</td>\n",
       "            </tr>\n",
       "            <tr>\n",
       "                        <th id=\"T_b5d4b_level0_row5\" class=\"row_heading level0 row5\" >50%</th>\n",
       "                        <td id=\"T_b5d4b_row5_col0\" class=\"data row5 col0\" >425.250000</td>\n",
       "            </tr>\n",
       "            <tr>\n",
       "                        <th id=\"T_b5d4b_level0_row6\" class=\"row_heading level0 row6\" >75%</th>\n",
       "                        <td id=\"T_b5d4b_row6_col0\" class=\"data row6 col0\" >520.400000</td>\n",
       "            </tr>\n",
       "            <tr>\n",
       "                        <th id=\"T_b5d4b_level0_row7\" class=\"row_heading level0 row7\" >max</th>\n",
       "                        <td id=\"T_b5d4b_row7_col0\" class=\"data row7 col0\" >891.500000</td>\n",
       "            </tr>\n",
       "    </tbody></table>"
      ],
      "text/plain": [
       "<pandas.io.formats.style.Styler at 0x7f13f6b58820>"
      ]
     },
     "metadata": {},
     "output_type": "display_data"
    },
    {
     "data": {
      "image/png": "[encoded data removed]",
      "text/plain": [
       "<Figure size 432x288 with 1 Axes>"
      ]
     },
     "metadata": {
      "needs_background": "light"
     },
     "output_type": "display_data"
    }
   ],
   "source": [
    "# Перебираем каждый месяц\n",
    "for idx in range(1,13):\n",
    "    tariff_smart_table[tariff_smart_table['month'] == idx]['calls_sum'].plot(kind='hist', range=(1,1000), alpha=0.2)\n",
    "\n",
    "tariff_smart_calls = tariff_smart_table.groupby('user_id')['calls_sum'].mean().reset_index().rename(columns={'calls_sum':'mean_value'})\n",
    "\n",
    "render(tariff_smart_calls['mean_value'].describe())\n",
    "\n",
    "# Построим график\n",
    "tariff_smart_calls['mean_value'].plot(kind='hist', alpha=0.7, color='skyblue', ec='skyblue')\n",
    "\n",
    "plt.title('Распределение длительности звонков')\n",
    "plt.xlabel('минуты')\n",
    "plt.ylabel('')\n",
    "plt.show()"
   ]
  },
  {
   "cell_type": "code",
   "execution_count": 54,
   "metadata": {},
   "outputs": [
    {
     "data": {
      "text/markdown": [
       "\n",
       "<div class=\"total\">\n",
       "    <div class=\"banner\">&nbsp;</div>\n",
       "    <div class=\"description\">\n",
       "        <h3>Вывод</h3>\n",
       "        <span>\n",
       "            - Подсчитали среднее значение длительности звонка<br>\n",
       "            - Построили график распределения длительности звонков. Судя по графику - распределение нормальное<br><br>\n",
       "            - Распределение длительности звонков:<br><br>\n",
       "            <i style=\"width: 170px;display: inline-block;\">Среднее значение</i>       -> <b>420.8480194908561</b><br>\n",
       "            <i style=\"width: 170px;display: inline-block;\">Стандартное отклонение</i> -> <b>143.4513026826271</b><br>\n",
       "            <i style=\"width: 170px;display: inline-block;\">Дисперсия</i>              -> <b>20578.276241342694</b>\n",
       "        </span>\n",
       "    </div>\n",
       "</div>\n"
      ],
      "text/plain": [
       "<IPython.core.display.Markdown object>"
      ]
     },
     "execution_count": 54,
     "metadata": {},
     "output_type": "execute_result"
    }
   ],
   "source": [
    "md('''\n",
    "<div class=\"total\">\n",
    "    <div class=\"banner\">&nbsp;</div>\n",
    "    <div class=\"description\">\n",
    "        <h3>Вывод</h3>\n",
    "        <span>\n",
    "            - Подсчитали среднее значение длительности звонка<br>\n",
    "            - Построили график распределения длительности звонков. Судя по графику - распределение нормальное<br><br>\n",
    "            - Распределение длительности звонков:<br><br>\n",
    "            <i style=\"width: 170px;display: inline-block;\">Среднее значение</i>       -> <b>{}</b><br>\n",
    "            <i style=\"width: 170px;display: inline-block;\">Стандартное отклонение</i> -> <b>{}</b><br>\n",
    "            <i style=\"width: 170px;display: inline-block;\">Дисперсия</i>              -> <b>{}</b>\n",
    "        </span>\n",
    "    </div>\n",
    "</div>\n",
    "'''.format(\n",
    "        tariff_smart_calls['mean_value'].mean(),\n",
    "        tariff_smart_calls['mean_value'].std(),\n",
    "        tariff_smart_calls['mean_value'].var()\n",
    "    )\n",
    ")"
   ]
  },
  {
   "cell_type": "markdown",
   "metadata": {},
   "source": [
    "#### Распределение количества сообщений"
   ]
  },
  {
   "cell_type": "code",
   "execution_count": 55,
   "metadata": {},
   "outputs": [
    {
     "name": "stdout",
     "output_type": "stream",
     "text": [
      "\n"
     ]
    }
   ],
   "source": [
    "# [--исправлено--]\n",
    "'''\n",
    "for column in tariff_smart_messages.columns.values.tolist():\n",
    "    tariff_smart_messages[column].plot(kind='hist', range=(1,150), alpha=0.2)\n",
    "    \n",
    "tariff_smart_messages['mean_value'] = tariff_smart_messages.apply(pd.DataFrame.mean, axis=1) \n",
    "\n",
    "render(tariff_smart_messages['mean_value'].describe())\n",
    "\n",
    "# Построим график\n",
    "tariff_smart_messages['mean_value'].plot(kind='hist', alpha=0.7, color='skyblue', ec='skyblue')\n",
    "\n",
    "plt.title('Распределение количества сообщений')\n",
    "plt.xlabel('сообщения')\n",
    "plt.ylabel('')\n",
    "plt.show()\n",
    "'''\n",
    "print('')"
   ]
  },
  {
   "cell_type": "code",
   "execution_count": 56,
   "metadata": {},
   "outputs": [
    {
     "data": {
      "text/html": [
       "<style  type=\"text/css\" >\n",
       "</style><table id=\"T_be725_\" class=\"table_border position_center_header\"><thead>    <tr>        <th class=\"blank level0\" ></th>        <th class=\"col_heading level0 col0\" >mean_value</th>    </tr></thead><tbody>\n",
       "                <tr>\n",
       "                        <th id=\"T_be725_level0_row0\" class=\"row_heading level0 row0\" >count</th>\n",
       "                        <td id=\"T_be725_row0_col0\" class=\"data row0 col0\" >302.000000</td>\n",
       "            </tr>\n",
       "            <tr>\n",
       "                        <th id=\"T_be725_level0_row1\" class=\"row_heading level0 row1\" >mean</th>\n",
       "                        <td id=\"T_be725_row1_col0\" class=\"data row1 col0\" >37.575606</td>\n",
       "            </tr>\n",
       "            <tr>\n",
       "                        <th id=\"T_be725_level0_row2\" class=\"row_heading level0 row2\" >std</th>\n",
       "                        <td id=\"T_be725_row2_col0\" class=\"data row2 col0\" >24.849738</td>\n",
       "            </tr>\n",
       "            <tr>\n",
       "                        <th id=\"T_be725_level0_row3\" class=\"row_heading level0 row3\" >min</th>\n",
       "                        <td id=\"T_be725_row3_col0\" class=\"data row3 col0\" >1.000000</td>\n",
       "            </tr>\n",
       "            <tr>\n",
       "                        <th id=\"T_be725_level0_row4\" class=\"row_heading level0 row4\" >25%</th>\n",
       "                        <td id=\"T_be725_row4_col0\" class=\"data row4 col0\" >19.000000</td>\n",
       "            </tr>\n",
       "            <tr>\n",
       "                        <th id=\"T_be725_level0_row5\" class=\"row_heading level0 row5\" >50%</th>\n",
       "                        <td id=\"T_be725_row5_col0\" class=\"data row5 col0\" >33.000000</td>\n",
       "            </tr>\n",
       "            <tr>\n",
       "                        <th id=\"T_be725_level0_row6\" class=\"row_heading level0 row6\" >75%</th>\n",
       "                        <td id=\"T_be725_row6_col0\" class=\"data row6 col0\" >54.000000</td>\n",
       "            </tr>\n",
       "            <tr>\n",
       "                        <th id=\"T_be725_level0_row7\" class=\"row_heading level0 row7\" >max</th>\n",
       "                        <td id=\"T_be725_row7_col0\" class=\"data row7 col0\" >118.000000</td>\n",
       "            </tr>\n",
       "    </tbody></table>"
      ],
      "text/plain": [
       "<pandas.io.formats.style.Styler at 0x7f13f6060f10>"
      ]
     },
     "metadata": {},
     "output_type": "display_data"
    },
    {
     "data": {
      "image/png": "[encoded data removed]",
      "text/plain": [
       "<Figure size 432x288 with 1 Axes>"
      ]
     },
     "metadata": {
      "needs_background": "light"
     },
     "output_type": "display_data"
    }
   ],
   "source": [
    "# Перебираем каждый месяц\n",
    "for idx in range(1,13):\n",
    "    tariff_smart_table[tariff_smart_table['month'] == idx]['messages_count'].plot(kind='hist', range=(1,150), alpha=0.2)\n",
    "\n",
    "tariff_smart_messages = tariff_smart_table.groupby('user_id')['messages_count'].mean().reset_index().rename(columns={'messages_count':'mean_value'})\n",
    "\n",
    "render(tariff_smart_messages['mean_value'].describe())\n",
    "\n",
    "# Построим график\n",
    "tariff_smart_messages['mean_value'].plot(kind='hist', alpha=0.7, color='skyblue', ec='skyblue')\n",
    "\n",
    "plt.title('Распределение количества сообщений')\n",
    "plt.xlabel('сообщения')\n",
    "plt.ylabel('')\n",
    "plt.show()"
   ]
  },
  {
   "cell_type": "code",
   "execution_count": 57,
   "metadata": {},
   "outputs": [
    {
     "data": {
      "text/markdown": [
       "\n",
       "<div class=\"total\">\n",
       "    <div class=\"banner\">&nbsp;</div>\n",
       "    <div class=\"description\">\n",
       "        <h3>Вывод</h3>\n",
       "        <span>\n",
       "            - Подсчитали среднее значение количества сообщений<br>\n",
       "            - Построили график распределения количества сообщений. Судя по графику - распределение Пуассона<br><br>\n",
       "            - Распределение количества сообщений:<br><br>\n",
       "            <i style=\"width: 170px;display: inline-block;\">Среднее значение</i>       -> <b>37.57560563057252</b><br>\n",
       "            <i style=\"width: 170px;display: inline-block;\">Стандартное отклонение</i> -> <b>24.849738360517687</b><br>\n",
       "            <i style=\"width: 170px;display: inline-block;\">Дисперсия</i>              -> <b>617.5094965861842</b>\n",
       "        </span>\n",
       "    </div>\n",
       "</div>\n"
      ],
      "text/plain": [
       "<IPython.core.display.Markdown object>"
      ]
     },
     "execution_count": 57,
     "metadata": {},
     "output_type": "execute_result"
    }
   ],
   "source": [
    "md('''\n",
    "<div class=\"total\">\n",
    "    <div class=\"banner\">&nbsp;</div>\n",
    "    <div class=\"description\">\n",
    "        <h3>Вывод</h3>\n",
    "        <span>\n",
    "            - Подсчитали среднее значение количества сообщений<br>\n",
    "            - Построили график распределения количества сообщений. Судя по графику - распределение Пуассона<br><br>\n",
    "            - Распределение количества сообщений:<br><br>\n",
    "            <i style=\"width: 170px;display: inline-block;\">Среднее значение</i>       -> <b>{}</b><br>\n",
    "            <i style=\"width: 170px;display: inline-block;\">Стандартное отклонение</i> -> <b>{}</b><br>\n",
    "            <i style=\"width: 170px;display: inline-block;\">Дисперсия</i>              -> <b>{}</b>\n",
    "        </span>\n",
    "    </div>\n",
    "</div>\n",
    "'''.format(\n",
    "        tariff_smart_messages['mean_value'].mean(),\n",
    "        tariff_smart_messages['mean_value'].std(),\n",
    "        tariff_smart_messages['mean_value'].var()\n",
    "    )\n",
    ")"
   ]
  },
  {
   "cell_type": "markdown",
   "metadata": {},
   "source": [
    "#### Распределение интернет трафика"
   ]
  },
  {
   "cell_type": "code",
   "execution_count": 58,
   "metadata": {},
   "outputs": [
    {
     "name": "stdout",
     "output_type": "stream",
     "text": [
      "\n"
     ]
    }
   ],
   "source": [
    "# [--исправлено--]\n",
    "'''\n",
    "for column in tariff_smart_internet.columns.values.tolist():\n",
    "    tariff_smart_internet[column].plot(kind='hist', range=(1,35000), alpha=0.2)\n",
    "    \n",
    "tariff_smart_internet['mean_value'] = tariff_smart_internet.apply(pd.DataFrame.mean, axis=1) \n",
    "\n",
    "render(tariff_smart_internet['mean_value'].describe())\n",
    "\n",
    "# Построим график\n",
    "tariff_smart_internet['mean_value'].plot(kind='hist', alpha=0.7, color='skyblue', ec='skyblue')\n",
    "\n",
    "plt.title('Распределение интернет трафика')\n",
    "plt.xlabel('трафик')\n",
    "plt.ylabel('')\n",
    "plt.show()\n",
    "'''\n",
    "print('')"
   ]
  },
  {
   "cell_type": "code",
   "execution_count": 59,
   "metadata": {},
   "outputs": [
    {
     "data": {
      "text/html": [
       "<style  type=\"text/css\" >\n",
       "</style><table id=\"T_c7e82_\" class=\"table_border position_center_header\"><thead>    <tr>        <th class=\"blank level0\" ></th>        <th class=\"col_heading level0 col0\" >mean_value</th>    </tr></thead><tbody>\n",
       "                <tr>\n",
       "                        <th id=\"T_c7e82_level0_row0\" class=\"row_heading level0 row0\" >count</th>\n",
       "                        <td id=\"T_c7e82_row0_col0\" class=\"data row0 col0\" >350.000000</td>\n",
       "            </tr>\n",
       "            <tr>\n",
       "                        <th id=\"T_c7e82_level0_row1\" class=\"row_heading level0 row1\" >mean</th>\n",
       "                        <td id=\"T_c7e82_row1_col0\" class=\"data row1 col0\" >15.836117</td>\n",
       "            </tr>\n",
       "            <tr>\n",
       "                        <th id=\"T_c7e82_level0_row2\" class=\"row_heading level0 row2\" >std</th>\n",
       "                        <td id=\"T_c7e82_row2_col0\" class=\"data row2 col0\" >3.537754</td>\n",
       "            </tr>\n",
       "            <tr>\n",
       "                        <th id=\"T_c7e82_level0_row3\" class=\"row_heading level0 row3\" >min</th>\n",
       "                        <td id=\"T_c7e82_row3_col0\" class=\"data row3 col0\" >5.258026</td>\n",
       "            </tr>\n",
       "            <tr>\n",
       "                        <th id=\"T_c7e82_level0_row4\" class=\"row_heading level0 row4\" >25%</th>\n",
       "                        <td id=\"T_c7e82_row4_col0\" class=\"data row4 col0\" >13.620754</td>\n",
       "            </tr>\n",
       "            <tr>\n",
       "                        <th id=\"T_c7e82_level0_row5\" class=\"row_heading level0 row5\" >50%</th>\n",
       "                        <td id=\"T_c7e82_row5_col0\" class=\"data row5 col0\" >15.886113</td>\n",
       "            </tr>\n",
       "            <tr>\n",
       "                        <th id=\"T_c7e82_level0_row6\" class=\"row_heading level0 row6\" >75%</th>\n",
       "                        <td id=\"T_c7e82_row6_col0\" class=\"data row6 col0\" >18.196843</td>\n",
       "            </tr>\n",
       "            <tr>\n",
       "                        <th id=\"T_c7e82_level0_row7\" class=\"row_heading level0 row7\" >max</th>\n",
       "                        <td id=\"T_c7e82_row7_col0\" class=\"data row7 col0\" >26.647422</td>\n",
       "            </tr>\n",
       "    </tbody></table>"
      ],
      "text/plain": [
       "<pandas.io.formats.style.Styler at 0x7f13f5560640>"
      ]
     },
     "metadata": {},
     "output_type": "display_data"
    },
    {
     "data": {
      "image/png": "[encoded data removed]",
      "text/plain": [
       "<Figure size 432x288 with 1 Axes>"
      ]
     },
     "metadata": {
      "needs_background": "light"
     },
     "output_type": "display_data"
    }
   ],
   "source": [
    "# Перебираем каждый месяц\n",
    "for idx in range(1,13):\n",
    "    (tariff_smart_table[tariff_smart_table['month'] == idx]['internet_sum']/1024).plot(kind='hist', range=(1,30), alpha=0.2)\n",
    "\n",
    "tariff_smart_internet = tariff_smart_table.groupby('user_id')['internet_sum'].mean().reset_index().rename(columns={'internet_sum':'mean_value'})\n",
    "\n",
    "tariff_smart_internet['mean_value'] = tariff_smart_internet['mean_value']\n",
    "\n",
    "render((tariff_smart_internet['mean_value']/1024).describe())\n",
    "\n",
    "# Построим график\n",
    "(tariff_smart_internet['mean_value']/1024).plot(kind='hist', alpha=0.7, color='skyblue', ec='skyblue')\n",
    "\n",
    "plt.title('Распределение интернет трафика')\n",
    "plt.xlabel('Гб')\n",
    "plt.ylabel('')\n",
    "plt.show()"
   ]
  },
  {
   "cell_type": "code",
   "execution_count": 60,
   "metadata": {},
   "outputs": [
    {
     "data": {
      "text/markdown": [
       "\n",
       "<div class=\"total\">\n",
       "    <div class=\"banner\">&nbsp;</div>\n",
       "    <div class=\"description\">\n",
       "        <h3>Вывод</h3>\n",
       "        <span>\n",
       "            - Подсчитали среднее значение использования интернет трафика<br>\n",
       "            - Построили график распределения количества сообщений. Судя по графику - распределение нормальное<br><br>\n",
       "            - Распределение интернет трафика:<br><br>\n",
       "            <i style=\"width: 170px;display: inline-block;\">Среднее значение</i>       -> <b>16216.183827286128</b><br>\n",
       "            <i style=\"width: 170px;display: inline-block;\">Стандартное отклонение</i> -> <b>3622.6598278450474</b><br>\n",
       "            <i style=\"width: 170px;display: inline-block;\">Дисперсия</i>              -> <b>13123664.22828231</b>\n",
       "        </span>\n",
       "    </div>\n",
       "</div>\n"
      ],
      "text/plain": [
       "<IPython.core.display.Markdown object>"
      ]
     },
     "execution_count": 60,
     "metadata": {},
     "output_type": "execute_result"
    }
   ],
   "source": [
    "md('''\n",
    "<div class=\"total\">\n",
    "    <div class=\"banner\">&nbsp;</div>\n",
    "    <div class=\"description\">\n",
    "        <h3>Вывод</h3>\n",
    "        <span>\n",
    "            - Подсчитали среднее значение использования интернет трафика<br>\n",
    "            - Построили график распределения количества сообщений. Судя по графику - распределение нормальное<br><br>\n",
    "            - Распределение интернет трафика:<br><br>\n",
    "            <i style=\"width: 170px;display: inline-block;\">Среднее значение</i>       -> <b>{}</b><br>\n",
    "            <i style=\"width: 170px;display: inline-block;\">Стандартное отклонение</i> -> <b>{}</b><br>\n",
    "            <i style=\"width: 170px;display: inline-block;\">Дисперсия</i>              -> <b>{}</b>\n",
    "        </span>\n",
    "    </div>\n",
    "</div>\n",
    "'''.format(\n",
    "        tariff_smart_internet['mean_value'].mean(),\n",
    "        tariff_smart_internet['mean_value'].std(),\n",
    "        tariff_smart_internet['mean_value'].var()\n",
    "    )\n",
    ")"
   ]
  },
  {
   "cell_type": "markdown",
   "metadata": {},
   "source": [
    "#### Распределение выручки"
   ]
  },
  {
   "cell_type": "code",
   "execution_count": 61,
   "metadata": {},
   "outputs": [
    {
     "name": "stdout",
     "output_type": "stream",
     "text": [
      "\n"
     ]
    }
   ],
   "source": [
    "# [--исправлено--]\n",
    "'''\n",
    "for column in tariff_smart_profit.columns.values.tolist():\n",
    "    tariff_smart_profit[column].plot(kind='hist', range=(1,5000), alpha=0.2)\n",
    "    \n",
    "tariff_smart_profit['mean_value'] = tariff_smart_profit.apply(pd.DataFrame.mean, axis=1) \n",
    "\n",
    "render(tariff_smart_profit['mean_value'].describe())\n",
    "\n",
    "# Построим график\n",
    "tariff_smart_profit['mean_value'].plot(kind='hist', alpha=0.7, color='skyblue', ec='skyblue')\n",
    "\n",
    "plt.title('Распределение выручки')\n",
    "plt.xlabel('')\n",
    "plt.ylabel('')\n",
    "plt.show()\n",
    "'''\n",
    "print('')"
   ]
  },
  {
   "cell_type": "code",
   "execution_count": 62,
   "metadata": {},
   "outputs": [
    {
     "data": {
      "text/html": [
       "<style  type=\"text/css\" >\n",
       "</style><table id=\"T_2dacf_\" class=\"table_border position_center_header\"><thead>    <tr>        <th class=\"blank level0\" ></th>        <th class=\"col_heading level0 col0\" >mean_value</th>    </tr></thead><tbody>\n",
       "                <tr>\n",
       "                        <th id=\"T_2dacf_level0_row0\" class=\"row_heading level0 row0\" >count</th>\n",
       "                        <td id=\"T_2dacf_row0_col0\" class=\"data row0 col0\" >301.000000</td>\n",
       "            </tr>\n",
       "            <tr>\n",
       "                        <th id=\"T_2dacf_level0_row1\" class=\"row_heading level0 row1\" >mean</th>\n",
       "                        <td id=\"T_2dacf_row1_col0\" class=\"data row1 col0\" >1292.943792</td>\n",
       "            </tr>\n",
       "            <tr>\n",
       "                        <th id=\"T_2dacf_level0_row2\" class=\"row_heading level0 row2\" >std</th>\n",
       "                        <td id=\"T_2dacf_row2_col0\" class=\"data row2 col0\" >654.918182</td>\n",
       "            </tr>\n",
       "            <tr>\n",
       "                        <th id=\"T_2dacf_level0_row3\" class=\"row_heading level0 row3\" >min</th>\n",
       "                        <td id=\"T_2dacf_row3_col0\" class=\"data row3 col0\" >550.000000</td>\n",
       "            </tr>\n",
       "            <tr>\n",
       "                        <th id=\"T_2dacf_level0_row4\" class=\"row_heading level0 row4\" >25%</th>\n",
       "                        <td id=\"T_2dacf_row4_col0\" class=\"data row4 col0\" >816.788667</td>\n",
       "            </tr>\n",
       "            <tr>\n",
       "                        <th id=\"T_2dacf_level0_row5\" class=\"row_heading level0 row5\" >50%</th>\n",
       "                        <td id=\"T_2dacf_row5_col0\" class=\"data row5 col0\" >1130.604000</td>\n",
       "            </tr>\n",
       "            <tr>\n",
       "                        <th id=\"T_2dacf_level0_row6\" class=\"row_heading level0 row6\" >75%</th>\n",
       "                        <td id=\"T_2dacf_row6_col0\" class=\"data row6 col0\" >1617.415667</td>\n",
       "            </tr>\n",
       "            <tr>\n",
       "                        <th id=\"T_2dacf_level0_row7\" class=\"row_heading level0 row7\" >max</th>\n",
       "                        <td id=\"T_2dacf_row7_col0\" class=\"data row7 col0\" >5207.178000</td>\n",
       "            </tr>\n",
       "    </tbody></table>"
      ],
      "text/plain": [
       "<pandas.io.formats.style.Styler at 0x7f13f5319700>"
      ]
     },
     "metadata": {},
     "output_type": "display_data"
    },
    {
     "data": {
      "image/png": "[encoded data removed]",
      "text/plain": [
       "<Figure size 432x288 with 1 Axes>"
      ]
     },
     "metadata": {
      "needs_background": "light"
     },
     "output_type": "display_data"
    }
   ],
   "source": [
    "# Перебираем каждый месяц\n",
    "for idx in range(1,13):\n",
    "    tariff_smart_table[tariff_smart_table['month'] == idx]['profit'].plot(kind='hist', range=(1,5000), alpha=0.2)\n",
    "\n",
    "tariff_smart_profit = tariff_smart_table.groupby('user_id')['profit'].mean().reset_index().rename(columns={'profit':'mean_value'})\n",
    "\n",
    "render(tariff_smart_profit['mean_value'].describe())\n",
    "\n",
    "# Построим график\n",
    "tariff_smart_profit['mean_value'].plot(kind='hist', alpha=0.7, color='skyblue', ec='skyblue')\n",
    "\n",
    "plt.title('Распределение выручки')\n",
    "plt.xlabel('руб')\n",
    "plt.ylabel('')\n",
    "plt.show()"
   ]
  },
  {
   "cell_type": "code",
   "execution_count": 63,
   "metadata": {},
   "outputs": [
    {
     "data": {
      "text/markdown": [
       "\n",
       "<div class=\"total\">\n",
       "    <div class=\"banner\">&nbsp;</div>\n",
       "    <div class=\"description\">\n",
       "        <h3>Вывод</h3>\n",
       "        <span>\n",
       "            - Подсчитали среднее значение выручки.<br>\n",
       "            - Построили график распределения выручки. Судя по графику видм пик в 550 рублей, а это говорит о том, что большая часть клиентов укладывается в лимит\n",
       "            - Распределение выручки:<br><br>\n",
       "            <i style=\"width: 170px;display: inline-block;\">Среднее значение</i>       -> <b>1292.9437915538872</b><br>\n",
       "            <i style=\"width: 170px;display: inline-block;\">Стандартное отклонение</i> -> <b>654.9181824922457</b><br>\n",
       "            <i style=\"width: 170px;display: inline-block;\">Дисперсия</i>              -> <b>428917.8257589464</b>\n",
       "        </span>\n",
       "    </div>\n",
       "</div>\n"
      ],
      "text/plain": [
       "<IPython.core.display.Markdown object>"
      ]
     },
     "execution_count": 63,
     "metadata": {},
     "output_type": "execute_result"
    }
   ],
   "source": [
    "md('''\n",
    "<div class=\"total\">\n",
    "    <div class=\"banner\">&nbsp;</div>\n",
    "    <div class=\"description\">\n",
    "        <h3>Вывод</h3>\n",
    "        <span>\n",
    "            - Подсчитали среднее значение выручки.<br>\n",
    "            - Построили график распределения выручки. Судя по графику видм пик в 550 рублей, а это говорит о том, что большая часть клиентов укладывается в лимит\n",
    "            - Распределение выручки:<br><br>\n",
    "            <i style=\"width: 170px;display: inline-block;\">Среднее значение</i>       -> <b>{}</b><br>\n",
    "            <i style=\"width: 170px;display: inline-block;\">Стандартное отклонение</i> -> <b>{}</b><br>\n",
    "            <i style=\"width: 170px;display: inline-block;\">Дисперсия</i>              -> <b>{}</b>\n",
    "        </span>\n",
    "    </div>\n",
    "</div>\n",
    "'''.format(\n",
    "        tariff_smart_profit['mean_value'].mean(),\n",
    "        tariff_smart_profit['mean_value'].std(),\n",
    "        tariff_smart_profit['mean_value'].var()\n",
    "    )\n",
    ")"
   ]
  },
  {
   "cell_type": "markdown",
   "metadata": {},
   "source": [
    "#### Общий график распределения"
   ]
  },
  {
   "cell_type": "code",
   "execution_count": 64,
   "metadata": {},
   "outputs": [
    {
     "data": {
      "text/html": [
       "<style  type=\"text/css\" >\n",
       "#T_c6408_row0_col1,#T_c6408_row0_col3{\n",
       "            font-weight: bold;\n",
       "            text-transform:  capitalize;\n",
       "            color:  red;\n",
       "        }</style><table id=\"T_c6408_\" class=\"table_border position_center_header\"><thead>    <tr>        <th class=\"blank level0\" ></th>        <th class=\"col_heading level0 col0\" >calls_mean</th>        <th class=\"col_heading level0 col1\" >messages_mean</th>        <th class=\"col_heading level0 col2\" >internet_mean</th>        <th class=\"col_heading level0 col3\" >profit_mean</th>    </tr></thead><tbody>\n",
       "                <tr>\n",
       "                        <th id=\"T_c6408_level0_row0\" class=\"row_heading level0 row0\" >0</th>\n",
       "                        <td id=\"T_c6408_row0_col0\" class=\"data row0 col0\" >422.000000</td>\n",
       "                        <td id=\"T_c6408_row0_col1\" class=\"data row0 col1\" >nan</td>\n",
       "                        <td id=\"T_c6408_row0_col2\" class=\"data row0 col2\" >16233.000000</td>\n",
       "                        <td id=\"T_c6408_row0_col3\" class=\"data row0 col3\" >nan</td>\n",
       "            </tr>\n",
       "            <tr>\n",
       "                        <th id=\"T_c6408_level0_row1\" class=\"row_heading level0 row1\" >1</th>\n",
       "                        <td id=\"T_c6408_row1_col0\" class=\"data row1 col0\" >216.714286</td>\n",
       "                        <td id=\"T_c6408_row1_col1\" class=\"data row1 col1\" >10.000000</td>\n",
       "                        <td id=\"T_c6408_row1_col2\" class=\"data row1 col2\" >16576.645714</td>\n",
       "                        <td id=\"T_c6408_row1_col3\" class=\"data row1 col3\" >964.041429</td>\n",
       "            </tr>\n",
       "            <tr>\n",
       "                        <th id=\"T_c6408_level0_row2\" class=\"row_heading level0 row2\" >2</th>\n",
       "                        <td id=\"T_c6408_row2_col0\" class=\"data row2 col0\" >550.416667</td>\n",
       "                        <td id=\"T_c6408_row2_col1\" class=\"data row2 col1\" >46.000000</td>\n",
       "                        <td id=\"T_c6408_row2_col2\" class=\"data row2 col2\" >8307.275833</td>\n",
       "                        <td id=\"T_c6408_row2_col3\" class=\"data row2 col3\" >827.000000</td>\n",
       "            </tr>\n",
       "    </tbody></table>"
      ],
      "text/plain": [
       "<pandas.io.formats.style.Styler at 0x7f13f56968b0>"
      ]
     },
     "metadata": {},
     "output_type": "display_data"
    },
    {
     "data": {
      "image/png": "[encoded data removed]",
      "text/plain": [
       "<Figure size 720x720 with 16 Axes>"
      ]
     },
     "metadata": {
      "needs_background": "light"
     },
     "output_type": "display_data"
    }
   ],
   "source": [
    "tariff_smart_mean     = pd.DataFrame({\n",
    "                            'calls_mean'   : tariff_smart_calls['mean_value'],\n",
    "                            'messages_mean': tariff_smart_messages['mean_value'],\n",
    "                            'internet_mean': tariff_smart_internet['mean_value'],\n",
    "                            'profit_mean'  : tariff_smart_profit['mean_value']\n",
    "                        })\n",
    "\n",
    "render(tariff_smart_mean.head(3))\n",
    "\n",
    "pd.plotting.scatter_matrix(tariff_smart_mean, alpha = 0.3, figsize = (10,10))\n",
    "plt.show()"
   ]
  },
  {
   "cell_type": "markdown",
   "metadata": {},
   "source": [
    "#### Общий вывод по тарифу \"СМАРТ\""
   ]
  },
  {
   "cell_type": "code",
   "execution_count": 65,
   "metadata": {},
   "outputs": [
    {
     "data": {
      "text/markdown": [
       "\n",
       "<div class=\"total\">\n",
       "    <div class=\"banner\">&nbsp;</div>\n",
       "    <div class=\"description\">\n",
       "        <p style=\"font-size: 20px; color: #ff5722;\">Общий вывод по тарифу \"СМАРТ\" (550 рублей)</p><br><br>\n",
       "        <p><b>Характеристики тарифа \"СМАРТ:\"</b></p>\n",
       "        <span style=\"display: inline-block;padding: 10px;font-family: monospace;color: white;width: 250px;background: linear-gradient(248deg , #ff5722 , rgba(255 , 0 , 0 , 0) 70.71%) , linear-gradient(122deg , #e91e63 , rgba(0 , 255 , 0 , 0) 70.71%) , linear-gradient(9deg , #9c27b0 , rgba(0 , 0 , 255 , 0) 70.71%);\">\n",
       "            <i style=\"width: 80px;display: inline-block;\">Минут</i>     -> <b>500</b><br>\n",
       "            <i style=\"width: 80px;display: inline-block;\">Сообщений</i> -> <b>50</b><br>\n",
       "            <i style=\"width: 80px;display: inline-block;\">Интернета</i> -> <b>15360</b>\n",
       "        </span>\n",
       "        <br><br>\n",
       "        <p>\n",
       "        Согласно проведенному анализу в среднем пользователь тарифа тратит:<br><br>\n",
       "        - 420 минут разговора из 500 в месяц. Стандартное отклонение при этом - 143 минут(-ы) <br><br>\n",
       "        - 37 сообщений из 50 в месяц. Стандартное отклонение при этом - 24 сообщений(-я, -е) <br><br>\n",
       "        - 16216 мб интернет трафика из 15360 в месяц. Стандартное отклонение при этом - 3622 мб. Это говорит о том, что пользователи пользуются интернетом, даже если исчерпали лимит\n",
       "        </p><br><br>\n",
       "        <p>С точки зрения выгоды я бы рекомендовал следующие характеристики для тарифа \"СМАРТ\", но за 500 рублей:<br>\n",
       "        - Минут: <b>450</b><br>\n",
       "        - Сообщений: <b>35</b><br>\n",
       "        - Интернет-Трафика: <b>15гб</b>\n",
       "        </p>\n",
       "        <p>Этакая магия чисел \"500 за 500\" -  500 единиц услуг за 500 рублей!</p>\n",
       "    </div>\n",
       "</div>\n"
      ],
      "text/plain": [
       "<IPython.core.display.Markdown object>"
      ]
     },
     "execution_count": 65,
     "metadata": {},
     "output_type": "execute_result"
    }
   ],
   "source": [
    "md('''\n",
    "<div class=\"total\">\n",
    "    <div class=\"banner\">&nbsp;</div>\n",
    "    <div class=\"description\">\n",
    "        <p style=\"font-size: 20px; color: #ff5722;\">Общий вывод по тарифу \"СМАРТ\" ({} рублей)</p><br><br>\n",
    "        <p><b>Характеристики тарифа \"СМАРТ:\"</b></p>\n",
    "        <span style=\"display: inline-block;padding: 10px;font-family: monospace;color: white;width: 250px;background: linear-gradient(248deg , #ff5722 , rgba(255 , 0 , 0 , 0) 70.71%) , linear-gradient(122deg , #e91e63 , rgba(0 , 255 , 0 , 0) 70.71%) , linear-gradient(9deg , #9c27b0 , rgba(0 , 0 , 255 , 0) 70.71%);\">\n",
    "            <i style=\"width: 80px;display: inline-block;\">Минут</i>     -> <b>{}</b><br>\n",
    "            <i style=\"width: 80px;display: inline-block;\">Сообщений</i> -> <b>{}</b><br>\n",
    "            <i style=\"width: 80px;display: inline-block;\">Интернета</i> -> <b>{}</b>\n",
    "        </span>\n",
    "        <br><br>\n",
    "        <p>\n",
    "        Согласно проведенному анализу в среднем пользователь тарифа тратит:<br><br>\n",
    "        - {} минут разговора из {} в месяц. Стандартное отклонение при этом - {} минут(-ы) <br><br>\n",
    "        - {} сообщений из {} в месяц. Стандартное отклонение при этом - {} сообщений(-я, -е) <br><br>\n",
    "        - {} мб интернет трафика из {} в месяц. Стандартное отклонение при этом - {} мб. Это говорит о том, что пользователи пользуются интернетом, даже если исчерпали лимит\n",
    "        </p><br><br>\n",
    "        <p>С точки зрения выгоды я бы рекомендовал следующие характеристики для тарифа \"СМАРТ\", но за 500 рублей:<br>\n",
    "        - Минут: <b>450</b><br>\n",
    "        - Сообщений: <b>35</b><br>\n",
    "        - Интернет-Трафика: <b>15гб</b>\n",
    "        </p>\n",
    "        <p>Этакая магия чисел \"500 за 500\" -  500 единиц услуг за 500 рублей!</p>\n",
    "    </div>\n",
    "</div>\n",
    "'''.format(\n",
    "        tarif_price['smart'],\n",
    "    \n",
    "        tarif_limit['smart'][0],\n",
    "        tarif_limit['smart'][1],\n",
    "        tarif_limit['smart'][2],\n",
    "        \n",
    "        int(tariff_smart_calls['mean_value'].mean()),\n",
    "        tarif_limit['smart'][0],\n",
    "        int(tariff_smart_calls['mean_value'].std()),\n",
    "    \n",
    "        int(tariff_smart_messages['mean_value'].mean()),\n",
    "        tarif_limit['smart'][1],\n",
    "        int(tariff_smart_messages['mean_value'].std()),\n",
    "    \n",
    "        int(tariff_smart_internet['mean_value'].mean()),\n",
    "        tarif_limit['smart'][2],\n",
    "        int(tariff_smart_internet['mean_value'].std())\n",
    "    )\n",
    ")"
   ]
  },
  {
   "cell_type": "markdown",
   "metadata": {},
   "source": [
    "### Тариф Ультра"
   ]
  },
  {
   "cell_type": "code",
   "execution_count": 66,
   "metadata": {},
   "outputs": [
    {
     "data": {
      "text/html": [
       "<style  type=\"text/css\" >\n",
       "</style><table id=\"T_132bb_\" class=\"table_border position_center\" data-title=\"Тариф УЛЬТРА\" ><thead>    <tr>        <th class=\"blank level0\" ></th>        <th class=\"col_heading level0 col0\" >user_id</th>        <th class=\"col_heading level0 col1\" >month</th>        <th class=\"col_heading level0 col2\" >calls_count</th>        <th class=\"col_heading level0 col3\" >calls_sum</th>        <th class=\"col_heading level0 col4\" >internet_sum</th>        <th class=\"col_heading level0 col5\" >messages_count</th>        <th class=\"col_heading level0 col6\" >tariff</th>        <th class=\"col_heading level0 col7\" >profit</th>    </tr></thead><tbody>\n",
       "                <tr>\n",
       "                        <th id=\"T_132bb_level0_row0\" class=\"row_heading level0 row0\" >0</th>\n",
       "                        <td id=\"T_132bb_row0_col0\" class=\"data row0 col0\" >1000</td>\n",
       "                        <td id=\"T_132bb_row0_col1\" class=\"data row0 col1\" >5</td>\n",
       "                        <td id=\"T_132bb_row0_col2\" class=\"data row0 col2\" >17</td>\n",
       "                        <td id=\"T_132bb_row0_col3\" class=\"data row0 col3\" >159</td>\n",
       "                        <td id=\"T_132bb_row0_col4\" class=\"data row0 col4\" >2253</td>\n",
       "                        <td id=\"T_132bb_row0_col5\" class=\"data row0 col5\" >22</td>\n",
       "                        <td id=\"T_132bb_row0_col6\" class=\"data row0 col6\" >ultra</td>\n",
       "                        <td id=\"T_132bb_row0_col7\" class=\"data row0 col7\" >1950</td>\n",
       "            </tr>\n",
       "            <tr>\n",
       "                        <th id=\"T_132bb_level0_row1\" class=\"row_heading level0 row1\" >1</th>\n",
       "                        <td id=\"T_132bb_row1_col0\" class=\"data row1 col0\" >1000</td>\n",
       "                        <td id=\"T_132bb_row1_col1\" class=\"data row1 col1\" >6</td>\n",
       "                        <td id=\"T_132bb_row1_col2\" class=\"data row1 col2\" >28</td>\n",
       "                        <td id=\"T_132bb_row1_col3\" class=\"data row1 col3\" >172</td>\n",
       "                        <td id=\"T_132bb_row1_col4\" class=\"data row1 col4\" >23234</td>\n",
       "                        <td id=\"T_132bb_row1_col5\" class=\"data row1 col5\" >60</td>\n",
       "                        <td id=\"T_132bb_row1_col6\" class=\"data row1 col6\" >ultra</td>\n",
       "                        <td id=\"T_132bb_row1_col7\" class=\"data row1 col7\" >1950</td>\n",
       "            </tr>\n",
       "            <tr>\n",
       "                        <th id=\"T_132bb_level0_row2\" class=\"row_heading level0 row2\" >2</th>\n",
       "                        <td id=\"T_132bb_row2_col0\" class=\"data row2 col0\" >1000</td>\n",
       "                        <td id=\"T_132bb_row2_col1\" class=\"data row2 col1\" >7</td>\n",
       "                        <td id=\"T_132bb_row2_col2\" class=\"data row2 col2\" >41</td>\n",
       "                        <td id=\"T_132bb_row2_col3\" class=\"data row2 col3\" >340</td>\n",
       "                        <td id=\"T_132bb_row2_col4\" class=\"data row2 col4\" >14004</td>\n",
       "                        <td id=\"T_132bb_row2_col5\" class=\"data row2 col5\" >75</td>\n",
       "                        <td id=\"T_132bb_row2_col6\" class=\"data row2 col6\" >ultra</td>\n",
       "                        <td id=\"T_132bb_row2_col7\" class=\"data row2 col7\" >1950</td>\n",
       "            </tr>\n",
       "            <tr>\n",
       "                        <th id=\"T_132bb_level0_row3\" class=\"row_heading level0 row3\" >3</th>\n",
       "                        <td id=\"T_132bb_row3_col0\" class=\"data row3 col0\" >1000</td>\n",
       "                        <td id=\"T_132bb_row3_col1\" class=\"data row3 col1\" >8</td>\n",
       "                        <td id=\"T_132bb_row3_col2\" class=\"data row3 col2\" >42</td>\n",
       "                        <td id=\"T_132bb_row3_col3\" class=\"data row3 col3\" >408</td>\n",
       "                        <td id=\"T_132bb_row3_col4\" class=\"data row3 col4\" >14056</td>\n",
       "                        <td id=\"T_132bb_row3_col5\" class=\"data row3 col5\" >81</td>\n",
       "                        <td id=\"T_132bb_row3_col6\" class=\"data row3 col6\" >ultra</td>\n",
       "                        <td id=\"T_132bb_row3_col7\" class=\"data row3 col7\" >1950</td>\n",
       "            </tr>\n",
       "            <tr>\n",
       "                        <th id=\"T_132bb_level0_row4\" class=\"row_heading level0 row4\" >4</th>\n",
       "                        <td id=\"T_132bb_row4_col0\" class=\"data row4 col0\" >1000</td>\n",
       "                        <td id=\"T_132bb_row4_col1\" class=\"data row4 col1\" >9</td>\n",
       "                        <td id=\"T_132bb_row4_col2\" class=\"data row4 col2\" >46</td>\n",
       "                        <td id=\"T_132bb_row4_col3\" class=\"data row4 col3\" >466</td>\n",
       "                        <td id=\"T_132bb_row4_col4\" class=\"data row4 col4\" >14569</td>\n",
       "                        <td id=\"T_132bb_row4_col5\" class=\"data row4 col5\" >57</td>\n",
       "                        <td id=\"T_132bb_row4_col6\" class=\"data row4 col6\" >ultra</td>\n",
       "                        <td id=\"T_132bb_row4_col7\" class=\"data row4 col7\" >1950</td>\n",
       "            </tr>\n",
       "            <tr>\n",
       "                        <th id=\"T_132bb_level0_row5\" class=\"row_heading level0 row5\" >5</th>\n",
       "                        <td id=\"T_132bb_row5_col0\" class=\"data row5 col0\" >1000</td>\n",
       "                        <td id=\"T_132bb_row5_col1\" class=\"data row5 col1\" >10</td>\n",
       "                        <td id=\"T_132bb_row5_col2\" class=\"data row5 col2\" >44</td>\n",
       "                        <td id=\"T_132bb_row5_col3\" class=\"data row5 col3\" >350</td>\n",
       "                        <td id=\"T_132bb_row5_col4\" class=\"data row5 col4\" >14702</td>\n",
       "                        <td id=\"T_132bb_row5_col5\" class=\"data row5 col5\" >73</td>\n",
       "                        <td id=\"T_132bb_row5_col6\" class=\"data row5 col6\" >ultra</td>\n",
       "                        <td id=\"T_132bb_row5_col7\" class=\"data row5 col7\" >1950</td>\n",
       "            </tr>\n",
       "            <tr>\n",
       "                        <th id=\"T_132bb_level0_row6\" class=\"row_heading level0 row6\" >6</th>\n",
       "                        <td id=\"T_132bb_row6_col0\" class=\"data row6 col0\" >1000</td>\n",
       "                        <td id=\"T_132bb_row6_col1\" class=\"data row6 col1\" >11</td>\n",
       "                        <td id=\"T_132bb_row6_col2\" class=\"data row6 col2\" >37</td>\n",
       "                        <td id=\"T_132bb_row6_col3\" class=\"data row6 col3\" >338</td>\n",
       "                        <td id=\"T_132bb_row6_col4\" class=\"data row6 col4\" >14756</td>\n",
       "                        <td id=\"T_132bb_row6_col5\" class=\"data row6 col5\" >58</td>\n",
       "                        <td id=\"T_132bb_row6_col6\" class=\"data row6 col6\" >ultra</td>\n",
       "                        <td id=\"T_132bb_row6_col7\" class=\"data row6 col7\" >1950</td>\n",
       "            </tr>\n",
       "            <tr>\n",
       "                        <th id=\"T_132bb_level0_row7\" class=\"row_heading level0 row7\" >7</th>\n",
       "                        <td id=\"T_132bb_row7_col0\" class=\"data row7 col0\" >1000</td>\n",
       "                        <td id=\"T_132bb_row7_col1\" class=\"data row7 col1\" >12</td>\n",
       "                        <td id=\"T_132bb_row7_col2\" class=\"data row7 col2\" >38</td>\n",
       "                        <td id=\"T_132bb_row7_col3\" class=\"data row7 col3\" >333</td>\n",
       "                        <td id=\"T_132bb_row7_col4\" class=\"data row7 col4\" >9818</td>\n",
       "                        <td id=\"T_132bb_row7_col5\" class=\"data row7 col5\" >70</td>\n",
       "                        <td id=\"T_132bb_row7_col6\" class=\"data row7 col6\" >ultra</td>\n",
       "                        <td id=\"T_132bb_row7_col7\" class=\"data row7 col7\" >1950</td>\n",
       "            </tr>\n",
       "            <tr>\n",
       "                        <th id=\"T_132bb_level0_row8\" class=\"row_heading level0 row8\" >17</th>\n",
       "                        <td id=\"T_132bb_row8_col0\" class=\"data row8 col0\" >1003</td>\n",
       "                        <td id=\"T_132bb_row8_col1\" class=\"data row8 col1\" >8</td>\n",
       "                        <td id=\"T_132bb_row8_col2\" class=\"data row8 col2\" >43</td>\n",
       "                        <td id=\"T_132bb_row8_col3\" class=\"data row8 col3\" >380</td>\n",
       "                        <td id=\"T_132bb_row8_col4\" class=\"data row8 col4\" >8565</td>\n",
       "                        <td id=\"T_132bb_row8_col5\" class=\"data row8 col5\" >37</td>\n",
       "                        <td id=\"T_132bb_row8_col6\" class=\"data row8 col6\" >ultra</td>\n",
       "                        <td id=\"T_132bb_row8_col7\" class=\"data row8 col7\" >1950</td>\n",
       "            </tr>\n",
       "            <tr>\n",
       "                        <th id=\"T_132bb_level0_row9\" class=\"row_heading level0 row9\" >18</th>\n",
       "                        <td id=\"T_132bb_row9_col0\" class=\"data row9 col0\" >1003</td>\n",
       "                        <td id=\"T_132bb_row9_col1\" class=\"data row9 col1\" >9</td>\n",
       "                        <td id=\"T_132bb_row9_col2\" class=\"data row9 col2\" >105</td>\n",
       "                        <td id=\"T_132bb_row9_col3\" class=\"data row9 col3\" >961</td>\n",
       "                        <td id=\"T_132bb_row9_col4\" class=\"data row9 col4\" >12469</td>\n",
       "                        <td id=\"T_132bb_row9_col5\" class=\"data row9 col5\" >91</td>\n",
       "                        <td id=\"T_132bb_row9_col6\" class=\"data row9 col6\" >ultra</td>\n",
       "                        <td id=\"T_132bb_row9_col7\" class=\"data row9 col7\" >1950</td>\n",
       "            </tr>\n",
       "    </tbody></table>"
      ],
      "text/plain": [
       "<pandas.io.formats.style.Styler at 0x7f13f6d8c2b0>"
      ]
     },
     "metadata": {},
     "output_type": "display_data"
    }
   ],
   "source": [
    "tariff_ultra_table = profit[profit[\"tariff\"] == \"ultra\"].replace(0, np.NaN)\n",
    "\n",
    "render(tariff_ultra_table.head(10), position='center', format='{:.0f}', name='Тариф УЛЬТРА')"
   ]
  },
  {
   "cell_type": "markdown",
   "metadata": {},
   "source": [
    "#### Создаем отдельные таблицы по звонкам, сообщениям и трафику"
   ]
  },
  {
   "cell_type": "code",
   "execution_count": 67,
   "metadata": {},
   "outputs": [
    {
     "name": "stdout",
     "output_type": "stream",
     "text": [
      "\n"
     ]
    }
   ],
   "source": [
    "# [--исправлено--]\n",
    "'''\n",
    "tariff_ultra_calls    = tariff_ultra_table.loc[ :, 'sum_calls_Jan'     : 'sum_calls_Dec'      ]\n",
    "tariff_ultra_messages = tariff_ultra_table.loc[ :, 'count_messages_Jan': 'count_messages_Dec' ]\n",
    "tariff_ultra_internet = tariff_ultra_table.loc[ :, 'sum_internet_Jan'  : 'sum_internet_Dec'   ]\n",
    "tariff_ultra_profit   = tariff_ultra_table.loc[ :, 'profit_Jan'        : 'profit_Dec'         ]\n",
    "\n",
    "render(tariff_ultra_calls.head(3),    position='center', format='{:.0f}', name='Тариф УЛЬТРА - звонки')\n",
    "render(tariff_ultra_messages.head(3), position='center', format='{:.0f}', name='Тариф УЛЬТРА - сообщения')\n",
    "render(tariff_ultra_internet.head(3), position='center', format='{:.0f}', name='Тариф УЛЬТРА - трафик')\n",
    "render(tariff_ultra_profit.head(3),   position='center', format='{:.0f}', name='Тариф УЛЬТРА - выручка')\n",
    "'''\n",
    "print('')"
   ]
  },
  {
   "cell_type": "markdown",
   "metadata": {},
   "source": [
    "#### Распределение длительности звонков по месяцам"
   ]
  },
  {
   "cell_type": "code",
   "execution_count": 68,
   "metadata": {},
   "outputs": [
    {
     "name": "stdout",
     "output_type": "stream",
     "text": [
      "\n"
     ]
    }
   ],
   "source": [
    "# [--исправлено--]\n",
    "'''\n",
    "for column in tariff_ultra_calls.columns.values.tolist():\n",
    "    tariff_ultra_calls[column].plot(kind='hist', range=(1,1200), alpha=0.2)\n",
    "    \n",
    "tariff_ultra_calls['mean_value'] = tariff_ultra_calls.apply(pd.DataFrame.mean, axis=1) \n",
    "\n",
    "render(tariff_ultra_calls['mean_value'].describe())\n",
    "\n",
    "# Построим график\n",
    "tariff_ultra_calls['mean_value'].plot(kind='hist', alpha=0.7, color='skyblue', ec='skyblue')\n",
    "\n",
    "plt.title('Распределение длительности звонков')\n",
    "plt.xlabel('Минуты')\n",
    "plt.ylabel('')\n",
    "plt.show()\n",
    "'''\n",
    "print('')"
   ]
  },
  {
   "cell_type": "code",
   "execution_count": 69,
   "metadata": {},
   "outputs": [
    {
     "data": {
      "text/html": [
       "<style  type=\"text/css\" >\n",
       "</style><table id=\"T_ca4ba_\" class=\"table_border position_center_header\"><thead>    <tr>        <th class=\"blank level0\" ></th>        <th class=\"col_heading level0 col0\" >mean_value</th>    </tr></thead><tbody>\n",
       "                <tr>\n",
       "                        <th id=\"T_ca4ba_level0_row0\" class=\"row_heading level0 row0\" >count</th>\n",
       "                        <td id=\"T_ca4ba_row0_col0\" class=\"data row0 col0\" >143.000000</td>\n",
       "            </tr>\n",
       "            <tr>\n",
       "                        <th id=\"T_ca4ba_level0_row1\" class=\"row_heading level0 row1\" >mean</th>\n",
       "                        <td id=\"T_ca4ba_row1_col0\" class=\"data row1 col0\" >546.998401</td>\n",
       "            </tr>\n",
       "            <tr>\n",
       "                        <th id=\"T_ca4ba_level0_row2\" class=\"row_heading level0 row2\" >std</th>\n",
       "                        <td id=\"T_ca4ba_row2_col0\" class=\"data row2 col0\" >268.089662</td>\n",
       "            </tr>\n",
       "            <tr>\n",
       "                        <th id=\"T_ca4ba_level0_row3\" class=\"row_heading level0 row3\" >min</th>\n",
       "                        <td id=\"T_ca4ba_row3_col0\" class=\"data row3 col0\" >16.500000</td>\n",
       "            </tr>\n",
       "            <tr>\n",
       "                        <th id=\"T_ca4ba_level0_row4\" class=\"row_heading level0 row4\" >25%</th>\n",
       "                        <td id=\"T_ca4ba_row4_col0\" class=\"data row4 col0\" >342.883333</td>\n",
       "            </tr>\n",
       "            <tr>\n",
       "                        <th id=\"T_ca4ba_level0_row5\" class=\"row_heading level0 row5\" >50%</th>\n",
       "                        <td id=\"T_ca4ba_row5_col0\" class=\"data row5 col0\" >525.500000</td>\n",
       "            </tr>\n",
       "            <tr>\n",
       "                        <th id=\"T_ca4ba_level0_row6\" class=\"row_heading level0 row6\" >75%</th>\n",
       "                        <td id=\"T_ca4ba_row6_col0\" class=\"data row6 col0\" >750.000000</td>\n",
       "            </tr>\n",
       "            <tr>\n",
       "                        <th id=\"T_ca4ba_level0_row7\" class=\"row_heading level0 row7\" >max</th>\n",
       "                        <td id=\"T_ca4ba_row7_col0\" class=\"data row7 col0\" >1179.363636</td>\n",
       "            </tr>\n",
       "    </tbody></table>"
      ],
      "text/plain": [
       "<pandas.io.formats.style.Styler at 0x7f13f6be1790>"
      ]
     },
     "metadata": {},
     "output_type": "display_data"
    },
    {
     "data": {
      "image/png": "[encoded data removed]",
      "text/plain": [
       "<Figure size 432x288 with 1 Axes>"
      ]
     },
     "metadata": {
      "needs_background": "light"
     },
     "output_type": "display_data"
    }
   ],
   "source": [
    "# Перебираем каждый месяц\n",
    "for idx in range(1,13):\n",
    "    tariff_ultra_table[tariff_ultra_table['month'] == idx]['calls_sum'].plot(kind='hist', range=(1,1200), alpha=0.2)\n",
    "\n",
    "tariff_ultra_calls = tariff_ultra_table.groupby('user_id')['calls_sum'].mean().reset_index().rename(columns={'calls_sum':'mean_value'})\n",
    "\n",
    "render(tariff_ultra_calls['mean_value'].describe())\n",
    "\n",
    "# Построим график\n",
    "tariff_ultra_calls['mean_value'].plot(kind='hist', alpha=0.7, color='skyblue', ec='skyblue')\n",
    "\n",
    "plt.title('Распределение длительности звонков')\n",
    "plt.xlabel('минуты')\n",
    "plt.ylabel('')\n",
    "plt.show()"
   ]
  },
  {
   "cell_type": "code",
   "execution_count": 70,
   "metadata": {},
   "outputs": [
    {
     "data": {
      "text/markdown": [
       "\n",
       "<div class=\"total\">\n",
       "    <div class=\"banner\">&nbsp;</div>\n",
       "    <div class=\"description\">\n",
       "        <h3>Вывод</h3>\n",
       "        <span>\n",
       "            - Подсчитали среднее значение длительности звонка<br>\n",
       "            - Построили график распределения длительности звонков. Судя по графику - распределение нормальное<br><br>\n",
       "            - Распределение длительности звонков:<br><br>\n",
       "            <i style=\"width: 170px;display: inline-block;\">Среднее значение</i>       -> <b>546.9984013461286</b><br>\n",
       "            <i style=\"width: 170px;display: inline-block;\">Стандартное отклонение</i> -> <b>268.08966247678853</b><br>\n",
       "            <i style=\"width: 170px;display: inline-block;\">Дисперсия</i>              -> <b>71872.0671269184</b>\n",
       "        </span>\n",
       "    </div>\n",
       "</div>\n"
      ],
      "text/plain": [
       "<IPython.core.display.Markdown object>"
      ]
     },
     "execution_count": 70,
     "metadata": {},
     "output_type": "execute_result"
    }
   ],
   "source": [
    "md('''\n",
    "<div class=\"total\">\n",
    "    <div class=\"banner\">&nbsp;</div>\n",
    "    <div class=\"description\">\n",
    "        <h3>Вывод</h3>\n",
    "        <span>\n",
    "            - Подсчитали среднее значение длительности звонка<br>\n",
    "            - Построили график распределения длительности звонков. Судя по графику - распределение нормальное<br><br>\n",
    "            - Распределение длительности звонков:<br><br>\n",
    "            <i style=\"width: 170px;display: inline-block;\">Среднее значение</i>       -> <b>{}</b><br>\n",
    "            <i style=\"width: 170px;display: inline-block;\">Стандартное отклонение</i> -> <b>{}</b><br>\n",
    "            <i style=\"width: 170px;display: inline-block;\">Дисперсия</i>              -> <b>{}</b>\n",
    "        </span>\n",
    "    </div>\n",
    "</div>\n",
    "'''.format(\n",
    "        tariff_ultra_calls['mean_value'].mean(),\n",
    "        tariff_ultra_calls['mean_value'].std(),\n",
    "        tariff_ultra_calls['mean_value'].var()\n",
    "    )\n",
    ")"
   ]
  },
  {
   "cell_type": "markdown",
   "metadata": {},
   "source": [
    "#### Распределение количества сообщений"
   ]
  },
  {
   "cell_type": "code",
   "execution_count": 71,
   "metadata": {},
   "outputs": [
    {
     "name": "stdout",
     "output_type": "stream",
     "text": [
      "\n"
     ]
    }
   ],
   "source": [
    "# [--исправлено--]\n",
    "'''\n",
    "for column in tariff_ultra_messages.columns.values.tolist():\n",
    "    tariff_ultra_messages[column].plot(kind='hist', range=(1,180), alpha=0.2)\n",
    "    \n",
    "tariff_ultra_messages['mean_value'] = tariff_ultra_messages.apply(pd.DataFrame.mean, axis=1) \n",
    "\n",
    "render(tariff_ultra_messages['mean_value'].describe())\n",
    "\n",
    "# Построим график\n",
    "tariff_ultra_messages['mean_value'].plot(kind='hist', alpha=0.7, color='skyblue', ec='skyblue')\n",
    "\n",
    "plt.title('Распределение количества сообщений')\n",
    "plt.xlabel('сообщения')\n",
    "plt.ylabel('')\n",
    "plt.show()\n",
    "'''\n",
    "print('')"
   ]
  },
  {
   "cell_type": "code",
   "execution_count": 72,
   "metadata": {},
   "outputs": [
    {
     "data": {
      "text/html": [
       "<style  type=\"text/css\" >\n",
       "</style><table id=\"T_929d7_\" class=\"table_border position_center_header\"><thead>    <tr>        <th class=\"blank level0\" ></th>        <th class=\"col_heading level0 col0\" >mean_value</th>    </tr></thead><tbody>\n",
       "                <tr>\n",
       "                        <th id=\"T_929d7_level0_row0\" class=\"row_heading level0 row0\" >count</th>\n",
       "                        <td id=\"T_929d7_row0_col0\" class=\"data row0 col0\" >124.000000</td>\n",
       "            </tr>\n",
       "            <tr>\n",
       "                        <th id=\"T_929d7_level0_row1\" class=\"row_heading level0 row1\" >mean</th>\n",
       "                        <td id=\"T_929d7_row1_col0\" class=\"data row1 col0\" >64.555802</td>\n",
       "            </tr>\n",
       "            <tr>\n",
       "                        <th id=\"T_929d7_level0_row2\" class=\"row_heading level0 row2\" >std</th>\n",
       "                        <td id=\"T_929d7_row2_col0\" class=\"data row2 col0\" >43.390612</td>\n",
       "            </tr>\n",
       "            <tr>\n",
       "                        <th id=\"T_929d7_level0_row3\" class=\"row_heading level0 row3\" >min</th>\n",
       "                        <td id=\"T_929d7_row3_col0\" class=\"data row3 col0\" >3.000000</td>\n",
       "            </tr>\n",
       "            <tr>\n",
       "                        <th id=\"T_929d7_level0_row4\" class=\"row_heading level0 row4\" >25%</th>\n",
       "                        <td id=\"T_929d7_row4_col0\" class=\"data row4 col0\" >28.000000</td>\n",
       "            </tr>\n",
       "            <tr>\n",
       "                        <th id=\"T_929d7_level0_row5\" class=\"row_heading level0 row5\" >50%</th>\n",
       "                        <td id=\"T_929d7_row5_col0\" class=\"data row5 col0\" >57.800000</td>\n",
       "            </tr>\n",
       "            <tr>\n",
       "                        <th id=\"T_929d7_level0_row6\" class=\"row_heading level0 row6\" >75%</th>\n",
       "                        <td id=\"T_929d7_row6_col0\" class=\"data row6 col0\" >89.000000</td>\n",
       "            </tr>\n",
       "            <tr>\n",
       "                        <th id=\"T_929d7_level0_row7\" class=\"row_heading level0 row7\" >max</th>\n",
       "                        <td id=\"T_929d7_row7_col0\" class=\"data row7 col0\" >192.000000</td>\n",
       "            </tr>\n",
       "    </tbody></table>"
      ],
      "text/plain": [
       "<pandas.io.formats.style.Styler at 0x7f13f56c4eb0>"
      ]
     },
     "metadata": {},
     "output_type": "display_data"
    },
    {
     "data": {
      "image/png": "[encoded data removed]",
      "text/plain": [
       "<Figure size 432x288 with 1 Axes>"
      ]
     },
     "metadata": {
      "needs_background": "light"
     },
     "output_type": "display_data"
    }
   ],
   "source": [
    "# Перебираем каждый месяц\n",
    "for idx in range(1,13):\n",
    "    tariff_ultra_table[tariff_ultra_table['month'] == idx]['messages_count'].plot(kind='hist', range=(1,180), alpha=0.2)\n",
    "\n",
    "tariff_ultra_messages = tariff_ultra_table.groupby('user_id')['messages_count'].mean().reset_index().rename(columns={'messages_count':'mean_value'})\n",
    "\n",
    "render(tariff_ultra_messages['mean_value'].describe())\n",
    "\n",
    "# Построим график\n",
    "tariff_ultra_messages['mean_value'].plot(kind='hist', alpha=0.7, color='skyblue', ec='skyblue')\n",
    "\n",
    "plt.title('Распределение количества сообщений')\n",
    "plt.xlabel('сообщения')\n",
    "plt.ylabel('')\n",
    "plt.show()"
   ]
  },
  {
   "cell_type": "code",
   "execution_count": 73,
   "metadata": {},
   "outputs": [
    {
     "data": {
      "text/markdown": [
       "\n",
       "<div class=\"total\">\n",
       "    <div class=\"banner\">&nbsp;</div>\n",
       "    <div class=\"description\">\n",
       "        <h3>Вывод</h3>\n",
       "        <span>\n",
       "            - Подсчитали среднее значение количества сообщений<br>\n",
       "            - Построили график распределения количества сообщений. Судя по графику - распределение Пуассона<br><br>\n",
       "            - Распределение количества сообщений:<br><br>\n",
       "            <i style=\"width: 170px;display: inline-block;\">Среднее значение</i>       -> <b>64.55580197132616</b><br>\n",
       "            <i style=\"width: 170px;display: inline-block;\">Стандартное отклонение</i> -> <b>43.390612090133864</b><br>\n",
       "            <i style=\"width: 170px;display: inline-block;\">Дисперсия</i>              -> <b>1882.745217556471</b>\n",
       "        </span>\n",
       "    </div>\n",
       "</div>\n"
      ],
      "text/plain": [
       "<IPython.core.display.Markdown object>"
      ]
     },
     "execution_count": 73,
     "metadata": {},
     "output_type": "execute_result"
    }
   ],
   "source": [
    "md('''\n",
    "<div class=\"total\">\n",
    "    <div class=\"banner\">&nbsp;</div>\n",
    "    <div class=\"description\">\n",
    "        <h3>Вывод</h3>\n",
    "        <span>\n",
    "            - Подсчитали среднее значение количества сообщений<br>\n",
    "            - Построили график распределения количества сообщений. Судя по графику - распределение Пуассона<br><br>\n",
    "            - Распределение количества сообщений:<br><br>\n",
    "            <i style=\"width: 170px;display: inline-block;\">Среднее значение</i>       -> <b>{}</b><br>\n",
    "            <i style=\"width: 170px;display: inline-block;\">Стандартное отклонение</i> -> <b>{}</b><br>\n",
    "            <i style=\"width: 170px;display: inline-block;\">Дисперсия</i>              -> <b>{}</b>\n",
    "        </span>\n",
    "    </div>\n",
    "</div>\n",
    "'''.format(\n",
    "        tariff_ultra_messages['mean_value'].mean(),\n",
    "        tariff_ultra_messages['mean_value'].std(),\n",
    "        tariff_ultra_messages['mean_value'].var()\n",
    "    )\n",
    ")"
   ]
  },
  {
   "cell_type": "markdown",
   "metadata": {},
   "source": [
    "<div class=\"alert alert-block alert-info\">\n",
    " \n",
    "### Комментарий студента\n",
    "    \n",
    "#### Исправлено\n",
    "</div>"
   ]
  },
  {
   "cell_type": "markdown",
   "metadata": {},
   "source": [
    "#### Распределение интернет трафика"
   ]
  },
  {
   "cell_type": "code",
   "execution_count": 74,
   "metadata": {},
   "outputs": [
    {
     "name": "stdout",
     "output_type": "stream",
     "text": [
      "\n"
     ]
    }
   ],
   "source": [
    "# [--исправлено--]\n",
    "'''\n",
    "for column in tariff_ultra_internet.columns.values.tolist():\n",
    "    tariff_ultra_internet[column].plot(kind='hist', range=(1,55000), alpha=0.2)\n",
    "    \n",
    "tariff_ultra_internet['mean_value'] = tariff_ultra_internet.apply(pd.DataFrame.mean, axis=1) \n",
    "\n",
    "render(tariff_ultra_internet['mean_value'].describe())\n",
    "\n",
    "# Построим график\n",
    "tariff_ultra_internet['mean_value'].plot(kind='hist', alpha=0.7, color='skyblue', ec='skyblue')\n",
    "\n",
    "plt.title('Распределение интернет трафика')\n",
    "plt.xlabel('трафик')\n",
    "plt.ylabel('')\n",
    "plt.show()\n",
    "'''\n",
    "print('')"
   ]
  },
  {
   "cell_type": "code",
   "execution_count": 75,
   "metadata": {},
   "outputs": [
    {
     "data": {
      "text/html": [
       "<style  type=\"text/css\" >\n",
       "</style><table id=\"T_1e915_\" class=\"table_border position_center_header\"><thead>    <tr>        <th class=\"blank level0\" ></th>        <th class=\"col_heading level0 col0\" >mean_value</th>    </tr></thead><tbody>\n",
       "                <tr>\n",
       "                        <th id=\"T_1e915_level0_row0\" class=\"row_heading level0 row0\" >count</th>\n",
       "                        <td id=\"T_1e915_row0_col0\" class=\"data row0 col0\" >147.000000</td>\n",
       "            </tr>\n",
       "            <tr>\n",
       "                        <th id=\"T_1e915_level0_row1\" class=\"row_heading level0 row1\" >mean</th>\n",
       "                        <td id=\"T_1e915_row1_col0\" class=\"data row1 col0\" >19.281331</td>\n",
       "            </tr>\n",
       "            <tr>\n",
       "                        <th id=\"T_1e915_level0_row2\" class=\"row_heading level0 row2\" >std</th>\n",
       "                        <td id=\"T_1e915_row2_col0\" class=\"data row2 col0\" >7.978464</td>\n",
       "            </tr>\n",
       "            <tr>\n",
       "                        <th id=\"T_1e915_level0_row3\" class=\"row_heading level0 row3\" >min</th>\n",
       "                        <td id=\"T_1e915_row3_col0\" class=\"data row3 col0\" >2.247813</td>\n",
       "            </tr>\n",
       "            <tr>\n",
       "                        <th id=\"T_1e915_level0_row4\" class=\"row_heading level0 row4\" >25%</th>\n",
       "                        <td id=\"T_1e915_row4_col0\" class=\"data row4 col0\" >14.459807</td>\n",
       "            </tr>\n",
       "            <tr>\n",
       "                        <th id=\"T_1e915_level0_row5\" class=\"row_heading level0 row5\" >50%</th>\n",
       "                        <td id=\"T_1e915_row5_col0\" class=\"data row5 col0\" >18.541570</td>\n",
       "            </tr>\n",
       "            <tr>\n",
       "                        <th id=\"T_1e915_level0_row6\" class=\"row_heading level0 row6\" >75%</th>\n",
       "                        <td id=\"T_1e915_row6_col0\" class=\"data row6 col0\" >25.356309</td>\n",
       "            </tr>\n",
       "            <tr>\n",
       "                        <th id=\"T_1e915_level0_row7\" class=\"row_heading level0 row7\" >max</th>\n",
       "                        <td id=\"T_1e915_row7_col0\" class=\"data row7 col0\" >37.562080</td>\n",
       "            </tr>\n",
       "    </tbody></table>"
      ],
      "text/plain": [
       "<pandas.io.formats.style.Styler at 0x7f13f55db070>"
      ]
     },
     "metadata": {},
     "output_type": "display_data"
    },
    {
     "data": {
      "image/png": "[encoded data removed]",
      "text/plain": [
       "<Figure size 432x288 with 1 Axes>"
      ]
     },
     "metadata": {
      "needs_background": "light"
     },
     "output_type": "display_data"
    }
   ],
   "source": [
    "# Перебираем каждый месяц\n",
    "for idx in range(1,13):\n",
    "    (tariff_ultra_table[tariff_ultra_table['month'] == idx]['internet_sum']/1024).plot(kind='hist', range=(1,55), alpha=0.2)\n",
    "\n",
    "tariff_ultra_internet = tariff_ultra_table.groupby('user_id')['internet_sum'].mean().reset_index().rename(columns={'internet_sum':'mean_value'})\n",
    "\n",
    "tariff_ultra_internet['mean_value'] = tariff_ultra_internet['mean_value']\n",
    "\n",
    "render((tariff_ultra_internet['mean_value']/1024).describe())\n",
    "\n",
    "# Построим график\n",
    "(tariff_ultra_internet['mean_value']/1024).plot(kind='hist', alpha=0.7, color='skyblue', ec='skyblue')\n",
    "\n",
    "plt.title('Распределение интернет трафика')\n",
    "plt.xlabel('Гб')\n",
    "plt.ylabel('')\n",
    "plt.show()"
   ]
  },
  {
   "cell_type": "code",
   "execution_count": 76,
   "metadata": {},
   "outputs": [
    {
     "data": {
      "text/markdown": [
       "\n",
       "<div class=\"total\">\n",
       "    <div class=\"banner\">&nbsp;</div>\n",
       "    <div class=\"description\">\n",
       "        <h3>Вывод</h3>\n",
       "        <span>\n",
       "            - Подсчитали среднее значение использования интернет трафика<br>\n",
       "            - Построили график распределения количества сообщений. Судя по графику - распределение нормальное<br><br>\n",
       "            - Распределение интернет трафика:<br><br>\n",
       "            <i style=\"width: 170px;display: inline-block;\">Среднее значение</i>       -> <b>19744.083245172817</b><br>\n",
       "            <i style=\"width: 170px;display: inline-block;\">Стандартное отклонение</i> -> <b>8169.9470173659265</b><br>\n",
       "            <i style=\"width: 170px;display: inline-block;\">Дисперсия</i>              -> <b>66748034.266566396</b>\n",
       "        </span>\n",
       "    </div>\n",
       "</div>\n"
      ],
      "text/plain": [
       "<IPython.core.display.Markdown object>"
      ]
     },
     "execution_count": 76,
     "metadata": {},
     "output_type": "execute_result"
    }
   ],
   "source": [
    "md('''\n",
    "<div class=\"total\">\n",
    "    <div class=\"banner\">&nbsp;</div>\n",
    "    <div class=\"description\">\n",
    "        <h3>Вывод</h3>\n",
    "        <span>\n",
    "            - Подсчитали среднее значение использования интернет трафика<br>\n",
    "            - Построили график распределения количества сообщений. Судя по графику - распределение нормальное<br><br>\n",
    "            - Распределение интернет трафика:<br><br>\n",
    "            <i style=\"width: 170px;display: inline-block;\">Среднее значение</i>       -> <b>{}</b><br>\n",
    "            <i style=\"width: 170px;display: inline-block;\">Стандартное отклонение</i> -> <b>{}</b><br>\n",
    "            <i style=\"width: 170px;display: inline-block;\">Дисперсия</i>              -> <b>{}</b>\n",
    "        </span>\n",
    "    </div>\n",
    "</div>\n",
    "'''.format(\n",
    "        tariff_ultra_internet['mean_value'].mean(),\n",
    "        tariff_ultra_internet['mean_value'].std(),\n",
    "        tariff_ultra_internet['mean_value'].var()\n",
    "    )\n",
    ")"
   ]
  },
  {
   "cell_type": "markdown",
   "metadata": {},
   "source": [
    "#### Распределение выручки"
   ]
  },
  {
   "cell_type": "code",
   "execution_count": 77,
   "metadata": {},
   "outputs": [
    {
     "name": "stdout",
     "output_type": "stream",
     "text": [
      "\n"
     ]
    }
   ],
   "source": [
    "# [--исправлено--]\n",
    "'''\n",
    "for column in tariff_ultra_profit.columns.values.tolist():\n",
    "    tariff_ultra_profit[column].plot(kind='hist', range=(1800,4000), alpha=0.2)\n",
    "    \n",
    "tariff_ultra_profit['mean_value'] = tariff_ultra_profit.apply(pd.DataFrame.mean, axis=1) \n",
    "\n",
    "render(tariff_ultra_profit['mean_value'].describe())\n",
    "\n",
    "# Построим график\n",
    "tariff_ultra_profit['mean_value'].plot(kind='hist', alpha=0.7, color='skyblue', ec='skyblue')\n",
    "\n",
    "plt.title('Распределение выручки')\n",
    "plt.xlabel('')\n",
    "plt.ylabel('')\n",
    "plt.show()\n",
    "'''\n",
    "print('')"
   ]
  },
  {
   "cell_type": "code",
   "execution_count": 78,
   "metadata": {},
   "outputs": [
    {
     "data": {
      "text/html": [
       "<style  type=\"text/css\" >\n",
       "</style><table id=\"T_dc883_\" class=\"table_border position_center_header\"><thead>    <tr>        <th class=\"blank level0\" ></th>        <th class=\"col_heading level0 col0\" >mean_value</th>    </tr></thead><tbody>\n",
       "                <tr>\n",
       "                        <th id=\"T_dc883_level0_row0\" class=\"row_heading level0 row0\" >count</th>\n",
       "                        <td id=\"T_dc883_row0_col0\" class=\"data row0 col0\" >118.000000</td>\n",
       "            </tr>\n",
       "            <tr>\n",
       "                        <th id=\"T_dc883_level0_row1\" class=\"row_heading level0 row1\" >mean</th>\n",
       "                        <td id=\"T_dc883_row1_col0\" class=\"data row1 col0\" >2060.081619</td>\n",
       "            </tr>\n",
       "            <tr>\n",
       "                        <th id=\"T_dc883_level0_row2\" class=\"row_heading level0 row2\" >std</th>\n",
       "                        <td id=\"T_dc883_row2_col0\" class=\"data row2 col0\" >262.800427</td>\n",
       "            </tr>\n",
       "            <tr>\n",
       "                        <th id=\"T_dc883_level0_row3\" class=\"row_heading level0 row3\" >min</th>\n",
       "                        <td id=\"T_dc883_row3_col0\" class=\"data row3 col0\" >1950.000000</td>\n",
       "            </tr>\n",
       "            <tr>\n",
       "                        <th id=\"T_dc883_level0_row4\" class=\"row_heading level0 row4\" >25%</th>\n",
       "                        <td id=\"T_dc883_row4_col0\" class=\"data row4 col0\" >1950.000000</td>\n",
       "            </tr>\n",
       "            <tr>\n",
       "                        <th id=\"T_dc883_level0_row5\" class=\"row_heading level0 row5\" >50%</th>\n",
       "                        <td id=\"T_dc883_row5_col0\" class=\"data row5 col0\" >1950.000000</td>\n",
       "            </tr>\n",
       "            <tr>\n",
       "                        <th id=\"T_dc883_level0_row6\" class=\"row_heading level0 row6\" >75%</th>\n",
       "                        <td id=\"T_dc883_row6_col0\" class=\"data row6 col0\" >1964.585522</td>\n",
       "            </tr>\n",
       "            <tr>\n",
       "                        <th id=\"T_dc883_level0_row7\" class=\"row_heading level0 row7\" >max</th>\n",
       "                        <td id=\"T_dc883_row7_col0\" class=\"data row7 col0\" >3237.095625</td>\n",
       "            </tr>\n",
       "    </tbody></table>"
      ],
      "text/plain": [
       "<pandas.io.formats.style.Styler at 0x7f13f5082d60>"
      ]
     },
     "metadata": {},
     "output_type": "display_data"
    },
    {
     "data": {
      "image/png": "[encoded data removed]",
      "text/plain": [
       "<Figure size 432x288 with 1 Axes>"
      ]
     },
     "metadata": {
      "needs_background": "light"
     },
     "output_type": "display_data"
    }
   ],
   "source": [
    "# Перебираем каждый месяц\n",
    "for idx in range(1,13):\n",
    "    tariff_ultra_table[tariff_ultra_table['month'] == idx]['profit'].plot(kind='hist', range=(1800,4000), alpha=0.2)\n",
    "\n",
    "tariff_ultra_profit = tariff_ultra_table.groupby('user_id')['profit'].mean().reset_index().rename(columns={'profit':'mean_value'})\n",
    "\n",
    "render(tariff_ultra_profit['mean_value'].describe())\n",
    "\n",
    "# Построим график\n",
    "tariff_ultra_profit['mean_value'].plot(kind='hist', alpha=0.7, color='skyblue', ec='skyblue')\n",
    "\n",
    "plt.title('Распределение выручки')\n",
    "plt.xlabel('руб')\n",
    "plt.ylabel('')\n",
    "plt.show()"
   ]
  },
  {
   "cell_type": "code",
   "execution_count": 79,
   "metadata": {},
   "outputs": [
    {
     "data": {
      "text/markdown": [
       "\n",
       "<div class=\"total\">\n",
       "    <div class=\"banner\">&nbsp;</div>\n",
       "    <div class=\"description\">\n",
       "        <h3>Вывод</h3>\n",
       "        <span>\n",
       "            - Подсчитали среднее значение выручки.<br>\n",
       "            - Построили график распределения выручки. Судя по графику видим пик до 1920 рублей, а это говорит о том, что большая часть клиентов укладывается в лимит\n",
       "            - Распределение выручки:<br><br>\n",
       "            <i style=\"width: 170px;display: inline-block;\">Среднее значение</i>       -> <b>2060.081619035696</b><br>\n",
       "            <i style=\"width: 170px;display: inline-block;\">Стандартное отклонение</i> -> <b>262.80042730383593</b><br>\n",
       "            <i style=\"width: 170px;display: inline-block;\">Дисперсия</i>              -> <b>69064.06459107874</b>\n",
       "        </span>\n",
       "    </div>\n",
       "</div>\n"
      ],
      "text/plain": [
       "<IPython.core.display.Markdown object>"
      ]
     },
     "execution_count": 79,
     "metadata": {},
     "output_type": "execute_result"
    }
   ],
   "source": [
    "md('''\n",
    "<div class=\"total\">\n",
    "    <div class=\"banner\">&nbsp;</div>\n",
    "    <div class=\"description\">\n",
    "        <h3>Вывод</h3>\n",
    "        <span>\n",
    "            - Подсчитали среднее значение выручки.<br>\n",
    "            - Построили график распределения выручки. Судя по графику видим пик до 1920 рублей, а это говорит о том, что большая часть клиентов укладывается в лимит\n",
    "            - Распределение выручки:<br><br>\n",
    "            <i style=\"width: 170px;display: inline-block;\">Среднее значение</i>       -> <b>{}</b><br>\n",
    "            <i style=\"width: 170px;display: inline-block;\">Стандартное отклонение</i> -> <b>{}</b><br>\n",
    "            <i style=\"width: 170px;display: inline-block;\">Дисперсия</i>              -> <b>{}</b>\n",
    "        </span>\n",
    "    </div>\n",
    "</div>\n",
    "'''.format(\n",
    "        tariff_ultra_profit['mean_value'].mean(),\n",
    "        tariff_ultra_profit['mean_value'].std(),\n",
    "        tariff_ultra_profit['mean_value'].var()\n",
    "    )\n",
    ")"
   ]
  },
  {
   "cell_type": "markdown",
   "metadata": {},
   "source": [
    "#### Общий график распределения"
   ]
  },
  {
   "cell_type": "code",
   "execution_count": 80,
   "metadata": {},
   "outputs": [
    {
     "data": {
      "text/html": [
       "<style  type=\"text/css\" >\n",
       "</style><table id=\"T_90350_\" class=\"table_border position_center_header\"><thead>    <tr>        <th class=\"blank level0\" ></th>        <th class=\"col_heading level0 col0\" >calls_mean</th>        <th class=\"col_heading level0 col1\" >messages_mean</th>        <th class=\"col_heading level0 col2\" >internet_mean</th>        <th class=\"col_heading level0 col3\" >profit_mean</th>    </tr></thead><tbody>\n",
       "                <tr>\n",
       "                        <th id=\"T_90350_level0_row0\" class=\"row_heading level0 row0\" >0</th>\n",
       "                        <td id=\"T_90350_row0_col0\" class=\"data row0 col0\" >320.750000</td>\n",
       "                        <td id=\"T_90350_row0_col1\" class=\"data row0 col1\" >62.000000</td>\n",
       "                        <td id=\"T_90350_row0_col2\" class=\"data row0 col2\" >13424.038750</td>\n",
       "                        <td id=\"T_90350_row0_col3\" class=\"data row0 col3\" >1950.000000</td>\n",
       "            </tr>\n",
       "            <tr>\n",
       "                        <th id=\"T_90350_level0_row1\" class=\"row_heading level0 row1\" >1</th>\n",
       "                        <td id=\"T_90350_row1_col0\" class=\"data row1 col0\" >764.400000</td>\n",
       "                        <td id=\"T_90350_row1_col1\" class=\"data row1 col1\" >76.000000</td>\n",
       "                        <td id=\"T_90350_row1_col2\" class=\"data row1 col2\" >11456.128000</td>\n",
       "                        <td id=\"T_90350_row1_col3\" class=\"data row1 col3\" >1950.000000</td>\n",
       "            </tr>\n",
       "            <tr>\n",
       "                        <th id=\"T_90350_level0_row2\" class=\"row_heading level0 row2\" >2</th>\n",
       "                        <td id=\"T_90350_row2_col0\" class=\"data row2 col0\" >123.375000</td>\n",
       "                        <td id=\"T_90350_row2_col1\" class=\"data row2 col1\" >149.000000</td>\n",
       "                        <td id=\"T_90350_row2_col2\" class=\"data row2 col2\" >18629.935000</td>\n",
       "                        <td id=\"T_90350_row2_col3\" class=\"data row2 col3\" >1950.000000</td>\n",
       "            </tr>\n",
       "    </tbody></table>"
      ],
      "text/plain": [
       "<pandas.io.formats.style.Styler at 0x7f13ec0ac940>"
      ]
     },
     "metadata": {},
     "output_type": "display_data"
    },
    {
     "data": {
      "image/png": "[encoded data removed]",
      "text/plain": [
       "<Figure size 720x720 with 16 Axes>"
      ]
     },
     "metadata": {
      "needs_background": "light"
     },
     "output_type": "display_data"
    }
   ],
   "source": [
    "tariff_ultra_mean     = pd.DataFrame({\n",
    "                            'calls_mean'   : tariff_ultra_calls['mean_value'],\n",
    "                            'messages_mean': tariff_ultra_messages['mean_value'],\n",
    "                            'internet_mean': tariff_ultra_internet['mean_value'],\n",
    "                            'profit_mean'  : tariff_ultra_profit['mean_value']\n",
    "                        })\n",
    "\n",
    "render(tariff_ultra_mean.head(3))\n",
    "\n",
    "pd.plotting.scatter_matrix(tariff_ultra_mean, alpha = 0.3, figsize = (10,10))\n",
    "plt.show()"
   ]
  },
  {
   "cell_type": "markdown",
   "metadata": {},
   "source": [
    "#### Общий вывод по тарифу \"УЛЬТРА\""
   ]
  },
  {
   "cell_type": "code",
   "execution_count": 81,
   "metadata": {},
   "outputs": [
    {
     "data": {
      "text/markdown": [
       "\n",
       "<div class=\"total\">\n",
       "    <div class=\"banner\">&nbsp;</div>\n",
       "    <div class=\"description\">\n",
       "        <p style=\"font-size: 20px; color: #ff5722;\">Общий вывод по тарифу \"УЛЬТРА\" (1950 рублей)</p><br><br>\n",
       "        <p><b>Характеристики тарифа \"УЛЬТРА:\"</b></p>\n",
       "        <span style=\"display: inline-block;padding: 10px;font-family: monospace;color: white;width: 250px;background: linear-gradient(248deg , #ff5722 , rgba(255 , 0 , 0 , 0) 70.71%) , linear-gradient(122deg , #e91e63 , rgba(0 , 255 , 0 , 0) 70.71%) , linear-gradient(9deg , #9c27b0 , rgba(0 , 0 , 255 , 0) 70.71%);\">\n",
       "            <i style=\"width: 80px;display: inline-block;\">Минут</i>     -> <b>3000</b><br>\n",
       "            <i style=\"width: 80px;display: inline-block;\">Сообщений</i> -> <b>1000</b><br>\n",
       "            <i style=\"width: 80px;display: inline-block;\">Интернета</i> -> <b>30720</b>\n",
       "        </span>\n",
       "        <br><br>\n",
       "        <p>\n",
       "        Согласно проведенному анализу в среднем пользователь тарифа тратит:<br><br>\n",
       "        - 546 минут разговора из 3000 в месяц. Стандартное отклонение при этом - 268 минут(-ы) <br><br>\n",
       "        - 64 сообщений из 1000 в месяц. Стандартное отклонение при этом - 43 сообщений(-я, -е) <br><br>\n",
       "        - 19744 мб интернет трафика из 30720 в месяц. Стандартное отклонение при этом - 8169 мб.\n",
       "        </p><br><br>\n",
       "        <p>Данный тариф абсолютно не выгоден для пользователя. Пользователь использует в среднем лишь 18% минут звонков от общего лимита, 6% сообщений, однако трафик интернета 65% от лимита</p>\n",
       "        <p>Для того, чтобы пользователю дать возможность использовать еще тариф я бы рекомендовал следующие характеристики для тарифа \"УЛЬТРА\", но за 1000 рублей:<br>\n",
       "        - Минут: <b>800</b><br>\n",
       "        - Сообщений: <b>180</b><br>\n",
       "        - Интернет-Трафика: <b>20гб</b>\n",
       "        </p>\n",
       "        <p>Этакая магия чисел \"1000 за 1000\" -  1000 единиц услуг за 1000 рублей!</p>\n",
       "    </div>\n",
       "</div>\n"
      ],
      "text/plain": [
       "<IPython.core.display.Markdown object>"
      ]
     },
     "execution_count": 81,
     "metadata": {},
     "output_type": "execute_result"
    }
   ],
   "source": [
    "md('''\n",
    "<div class=\"total\">\n",
    "    <div class=\"banner\">&nbsp;</div>\n",
    "    <div class=\"description\">\n",
    "        <p style=\"font-size: 20px; color: #ff5722;\">Общий вывод по тарифу \"УЛЬТРА\" ({} рублей)</p><br><br>\n",
    "        <p><b>Характеристики тарифа \"УЛЬТРА:\"</b></p>\n",
    "        <span style=\"display: inline-block;padding: 10px;font-family: monospace;color: white;width: 250px;background: linear-gradient(248deg , #ff5722 , rgba(255 , 0 , 0 , 0) 70.71%) , linear-gradient(122deg , #e91e63 , rgba(0 , 255 , 0 , 0) 70.71%) , linear-gradient(9deg , #9c27b0 , rgba(0 , 0 , 255 , 0) 70.71%);\">\n",
    "            <i style=\"width: 80px;display: inline-block;\">Минут</i>     -> <b>{}</b><br>\n",
    "            <i style=\"width: 80px;display: inline-block;\">Сообщений</i> -> <b>{}</b><br>\n",
    "            <i style=\"width: 80px;display: inline-block;\">Интернета</i> -> <b>{}</b>\n",
    "        </span>\n",
    "        <br><br>\n",
    "        <p>\n",
    "        Согласно проведенному анализу в среднем пользователь тарифа тратит:<br><br>\n",
    "        - {} минут разговора из {} в месяц. Стандартное отклонение при этом - {} минут(-ы) <br><br>\n",
    "        - {} сообщений из {} в месяц. Стандартное отклонение при этом - {} сообщений(-я, -е) <br><br>\n",
    "        - {} мб интернет трафика из {} в месяц. Стандартное отклонение при этом - {} мб.\n",
    "        </p><br><br>\n",
    "        <p>Данный тариф абсолютно не выгоден для пользователя. Пользователь использует в среднем лишь 18% минут звонков от общего лимита, 6% сообщений, однако трафик интернета 65% от лимита</p>\n",
    "        <p>Для того, чтобы пользователю дать возможность использовать еще тариф я бы рекомендовал следующие характеристики для тарифа \"УЛЬТРА\", но за 1000 рублей:<br>\n",
    "        - Минут: <b>800</b><br>\n",
    "        - Сообщений: <b>180</b><br>\n",
    "        - Интернет-Трафика: <b>20гб</b>\n",
    "        </p>\n",
    "        <p>Этакая магия чисел \"1000 за 1000\" -  1000 единиц услуг за 1000 рублей!</p>\n",
    "    </div>\n",
    "</div>\n",
    "'''.format(\n",
    "        tarif_price['ultra'],\n",
    "    \n",
    "        tarif_limit['ultra'][0],\n",
    "        tarif_limit['ultra'][1],\n",
    "        tarif_limit['ultra'][2],\n",
    "        \n",
    "        int(tariff_ultra_calls['mean_value'].mean()),\n",
    "        tarif_limit['ultra'][0],\n",
    "        int(tariff_ultra_calls['mean_value'].std()),\n",
    "    \n",
    "        int(tariff_ultra_messages['mean_value'].mean()),\n",
    "        tarif_limit['ultra'][1],\n",
    "        int(tariff_ultra_messages['mean_value'].std()),\n",
    "    \n",
    "        int(tariff_ultra_internet['mean_value'].mean()),\n",
    "        tarif_limit['ultra'][2],\n",
    "        int(tariff_ultra_internet['mean_value'].std())\n",
    "    )\n",
    ")"
   ]
  },
  {
   "cell_type": "markdown",
   "metadata": {},
   "source": [
    "## Проверка гипотез"
   ]
  },
  {
   "cell_type": "markdown",
   "metadata": {},
   "source": [
    "_**У нас есть все данные, чтобы мы могли потвердить или отвергнуть 2 гипотезы:<br>\n",
    "` `<br>\n",
    "`:: средняя выручка пользователей тарифов «Ультра» и «Смарт» различается                            ::`<br>\n",
    "`:: средняя выручка пользователей из Москвы отличается от выручки пользователей из других регионов  ::`<br>\n",
    "` `**_"
   ]
  },
  {
   "cell_type": "markdown",
   "metadata": {},
   "source": [
    "### Средняя выручка пользователей тарифов Ультра и Смарт различается"
   ]
  },
  {
   "cell_type": "markdown",
   "metadata": {},
   "source": [
    "Предположим, что средние наших выборок равны и примем это утверждение, как \"нулевая гипотеза\", следовательно альтернативной гипотезой будет утверждение, что \"Средняя выручка пользователей тарифов «Ультра» и «Смарт» различается\".\n",
    "\n",
    "Критический уровень значимости, `alpha`, задам `.05`\n",
    "<br><br>\n",
    "Для определения истины гипотезы воспользуемся методом `scipy.stats.ttest_ind (array1, array2, equal_var = False)`\n",
    "<br><br>\n",
    "Параметр `equal_var`, получим сравнив дисперсии выручки тарифов\n"
   ]
  },
  {
   "cell_type": "code",
   "execution_count": 82,
   "metadata": {},
   "outputs": [
    {
     "data": {
      "text/html": [
       "<p class=\"value\" ><code>Дисперия выручки разная, значит equal_var=False</code></p>"
      ],
      "text/plain": [
       "<IPython.core.display.HTML object>"
      ]
     },
     "metadata": {},
     "output_type": "display_data"
    },
    {
     "data": {
      "text/html": [
       "<p class=\"value\" ><code>P-value: 4.282238944496136e-50</code></p>"
      ],
      "text/plain": [
       "<IPython.core.display.HTML object>"
      ]
     },
     "metadata": {},
     "output_type": "display_data"
    },
    {
     "data": {
      "text/html": [
       "<p class=\"value\" ><code>Отвергаем нулевую гипотезу</code></p>"
      ],
      "text/plain": [
       "<IPython.core.display.HTML object>"
      ]
     },
     "metadata": {},
     "output_type": "display_data"
    }
   ],
   "source": [
    "b_equal_var = False\n",
    "alpha_1     = .05\n",
    "\n",
    "H0 = 'Гипотеза, что выручка различается не верна'\n",
    "H1 = 'Гипотеза, что выручка различается верна'\n",
    "\n",
    "result_1 = ''\n",
    "\n",
    "# Сравниваем дисперсии\n",
    "if (tariff_smart_profit['mean_value'].dropna().var() != tariff_ultra_profit['mean_value'].dropna().var()):\n",
    "    render('Дисперия выручки разная, значит equal_var=False')\n",
    "    b_equal_var = False\n",
    "else:\n",
    "    render('Дисперия выручки одинаковая, значит equal_var=True')\n",
    "    b_equal_var = True\n",
    "    \n",
    "results = st.ttest_ind(\n",
    "    tariff_smart_profit['mean_value'].dropna(), \n",
    "    tariff_ultra_profit['mean_value'].dropna(), \n",
    "    equal_var=b_equal_var\n",
    ")\n",
    "\n",
    "p_value_1 = results.pvalue\n",
    "\n",
    "render('P-value:', p_value_1)\n",
    "\n",
    "if (p_value_1 < alpha_1):\n",
    "    render(\"Отвергаем нулевую гипотезу\")\n",
    "    result_1 = H1\n",
    "else:\n",
    "    render(\"Не получилось отвергнуть нулевую гипотезу\")\n",
    "    result_1 = H0"
   ]
  },
  {
   "cell_type": "code",
   "execution_count": 83,
   "metadata": {},
   "outputs": [
    {
     "data": {
      "text/markdown": [
       "\n",
       "<div class=\"total\">\n",
       "    <div class=\"banner\">&nbsp;</div>\n",
       "    <div class=\"description\">\n",
       "        <h3>Вывод</h3>\n",
       "        <span>\n",
       "            - Сравнили дисперсии значений выручки.<br>\n",
       "            - Получили p-value: 0.00000... и сравнили ее с alpha: 0.05<br><br>\n",
       "            - Результат: <b>Гипотеза, что выручка различается верна</b>\n",
       "        </span>\n",
       "    </div>\n",
       "</div>\n"
      ],
      "text/plain": [
       "<IPython.core.display.Markdown object>"
      ]
     },
     "execution_count": 83,
     "metadata": {},
     "output_type": "execute_result"
    }
   ],
   "source": [
    "md('''\n",
    "<div class=\"total\">\n",
    "    <div class=\"banner\">&nbsp;</div>\n",
    "    <div class=\"description\">\n",
    "        <h3>Вывод</h3>\n",
    "        <span>\n",
    "            - Сравнили дисперсии значений выручки.<br>\n",
    "            - Получили p-value: {:.5f}... и сравнили ее с alpha: {}<br><br>\n",
    "            - Результат: <b>{}</b>\n",
    "        </span>\n",
    "    </div>\n",
    "</div>\n",
    "'''.format(\n",
    "        p_value_1,\n",
    "        alpha_1,\n",
    "        result_1\n",
    "    )\n",
    ")"
   ]
  },
  {
   "cell_type": "markdown",
   "metadata": {},
   "source": [
    "### Средняя выручка пользователей из Москвы отличается от выручки пользователей из других регионов"
   ]
  },
  {
   "cell_type": "markdown",
   "metadata": {},
   "source": [
    "Предположим, что средние наших выборок равны и примем это утверждение, как \"нулевая гипотеза\", следовательно альтернативной гипотезой будет утверждение, что \"Средняя выручка пользователей из Москвы отличается от выручки пользователей из других регионов\".\n",
    "\n",
    "Критический уровень значимости, `alpha`, задам `.05`\n",
    "<br><br>\n",
    "Для определения истины гипотезы воспользуемся методом `scipy.stats.ttest_ind (array1, array2, equal_var = False)`\n",
    "<br><br>\n",
    "Параметр `equal_var`, получим сравнив дисперсии выручки тарифов в городе Москва и в других регионах"
   ]
  },
  {
   "cell_type": "code",
   "execution_count": 84,
   "metadata": {},
   "outputs": [
    {
     "data": {
      "text/html": [
       "<style  type=\"text/css\" >\n",
       "#T_852e1_row1_col2{\n",
       "            font-weight: bold;\n",
       "            text-transform:  capitalize;\n",
       "            color:  red;\n",
       "        }</style><table id=\"T_852e1_\" class=\"table_border position_center_header\"><thead>    <tr>        <th class=\"blank level0\" ></th>        <th class=\"col_heading level0 col0\" >user_id</th>        <th class=\"col_heading level0 col1\" >city</th>        <th class=\"col_heading level0 col2\" >mean_value</th>    </tr></thead><tbody>\n",
       "                <tr>\n",
       "                        <th id=\"T_852e1_level0_row0\" class=\"row_heading level0 row0\" >0</th>\n",
       "                        <td id=\"T_852e1_row0_col0\" class=\"data row0 col0\" >1000</td>\n",
       "                        <td id=\"T_852e1_row0_col1\" class=\"data row0 col1\" >Краснодар</td>\n",
       "                        <td id=\"T_852e1_row0_col2\" class=\"data row0 col2\" >1950.000000</td>\n",
       "            </tr>\n",
       "            <tr>\n",
       "                        <th id=\"T_852e1_level0_row1\" class=\"row_heading level0 row1\" >1</th>\n",
       "                        <td id=\"T_852e1_row1_col0\" class=\"data row1 col0\" >1001</td>\n",
       "                        <td id=\"T_852e1_row1_col1\" class=\"data row1 col1\" >Москва</td>\n",
       "                        <td id=\"T_852e1_row1_col2\" class=\"data row1 col2\" >nan</td>\n",
       "            </tr>\n",
       "            <tr>\n",
       "                        <th id=\"T_852e1_level0_row2\" class=\"row_heading level0 row2\" >2</th>\n",
       "                        <td id=\"T_852e1_row2_col0\" class=\"data row2 col0\" >1002</td>\n",
       "                        <td id=\"T_852e1_row2_col1\" class=\"data row2 col1\" >Стерлитамак</td>\n",
       "                        <td id=\"T_852e1_row2_col2\" class=\"data row2 col2\" >964.041429</td>\n",
       "            </tr>\n",
       "    </tbody></table>"
      ],
      "text/plain": [
       "<pandas.io.formats.style.Styler at 0x7f13f6d4e940>"
      ]
     },
     "metadata": {},
     "output_type": "display_data"
    },
    {
     "data": {
      "text/html": [
       "<p class=\"value\" ><code>Дисперия выручки разная, значит equal_var=False</code></p>"
      ],
      "text/plain": [
       "<IPython.core.display.HTML object>"
      ]
     },
     "metadata": {},
     "output_type": "display_data"
    },
    {
     "data": {
      "text/html": [
       "<p class=\"value\" ><code>P-value: 0.7737234152468361</code></p>"
      ],
      "text/plain": [
       "<IPython.core.display.HTML object>"
      ]
     },
     "metadata": {},
     "output_type": "display_data"
    },
    {
     "data": {
      "text/html": [
       "<p class=\"value\" ><code>Не получилось отвергнуть нулевую гипотезу</code></p>"
      ],
      "text/plain": [
       "<IPython.core.display.HTML object>"
      ]
     },
     "metadata": {},
     "output_type": "display_data"
    }
   ],
   "source": [
    "b_equal_var = False\n",
    "alpha_2     = .05\n",
    "\n",
    "H0 = 'Гипотеза, что Средняя выручка пользователей из Москвы отличается от выручки пользователей из других регионов не подтвердилась'\n",
    "H1 = 'Гипотеза, что Средняя выручка пользователей из Москвы отличается от выручки пользователей из других регионов верна'\n",
    "\n",
    "result_2 = ''\n",
    "\n",
    "columns = ['user_id', 'profit']\n",
    "    \n",
    "# Получим таблицу только выручки\n",
    "profit_table = profit[columns]\n",
    "profit_table = profit_table.replace(0, np.NaN)\n",
    "\n",
    "# Добавим город пользователя\n",
    "profit_table = profit_table.merge(users.loc[:,['user_id', 'city']], on='user_id', how='left')\n",
    "profit_table.set_index('city',inplace=True)\n",
    "profit_table.reset_index(inplace=True)\n",
    "\n",
    "# Получим среднюю выручку\n",
    "# [--исправлено--] profit_table['mean_value'] = profit_table.apply(lambda row: np.mean(row[2:]), axis=1)\n",
    "profit_table = profit_table.groupby(['user_id', 'city']).mean().reset_index().rename(columns={'profit':'mean_value'})\n",
    "render(profit_table.head(3))\n",
    "\n",
    "\n",
    "# Получим средние показатели выручки по городу Москва и по другим городам\n",
    "profit_table_msk   = profit_table[ profit_table['city'] == 'Москва' ]\n",
    "profit_table_other = profit_table[ profit_table['city'] != 'Москва' ]\n",
    "\n",
    "\n",
    "# Сравниваем дисперсии\n",
    "if (profit_table_msk['mean_value'].dropna().var() != profit_table_other['mean_value'].dropna().var()):\n",
    "    render('Дисперия выручки разная, значит equal_var=False')\n",
    "    b_equal_var = False\n",
    "else:\n",
    "    render('Дисперия выручки одинаковая, значит equal_var=True')\n",
    "    b_equal_var = True\n",
    "    \n",
    "results = st.ttest_ind(\n",
    "    profit_table_msk['mean_value'].dropna(), \n",
    "    profit_table_other['mean_value'].dropna(), \n",
    "    equal_var=b_equal_var\n",
    ")\n",
    "\n",
    "p_value_2 = results.pvalue\n",
    "\n",
    "render('P-value:', p_value_2)\n",
    "\n",
    "if (p_value_2 < alpha_2):\n",
    "    render(\"Отвергаем нулевую гипотезу\")\n",
    "    result_2 = H1\n",
    "else:\n",
    "    render(\"Не получилось отвергнуть нулевую гипотезу\")\n",
    "    result_2 = H0\n"
   ]
  },
  {
   "cell_type": "code",
   "execution_count": 85,
   "metadata": {},
   "outputs": [
    {
     "data": {
      "text/markdown": [
       "\n",
       "<div class=\"total\">\n",
       "    <div class=\"banner\">&nbsp;</div>\n",
       "    <div class=\"description\">\n",
       "        <h3>Вывод</h3>\n",
       "        <span>\n",
       "            - Получили таблицу только выручки<br>\n",
       "            - Добавили к ней город<br>\n",
       "            - Получили среднюю выручку<br>\n",
       "            - Создали 2 списка - только Москва, только остальные города<br>\n",
       "            - Сравнили дисперсии значений выручки.<br>\n",
       "            - Получили p-value: 0.77372... и сравнили ее с alpha: 0.05<br><br>\n",
       "            - Результат: <b>Гипотеза, что Средняя выручка пользователей из Москвы отличается от выручки пользователей из других регионов не подтвердилась</b>\n",
       "        </span>\n",
       "    </div>\n",
       "</div>\n"
      ],
      "text/plain": [
       "<IPython.core.display.Markdown object>"
      ]
     },
     "execution_count": 85,
     "metadata": {},
     "output_type": "execute_result"
    }
   ],
   "source": [
    "md('''\n",
    "<div class=\"total\">\n",
    "    <div class=\"banner\">&nbsp;</div>\n",
    "    <div class=\"description\">\n",
    "        <h3>Вывод</h3>\n",
    "        <span>\n",
    "            - Получили таблицу только выручки<br>\n",
    "            - Добавили к ней город<br>\n",
    "            - Получили среднюю выручку<br>\n",
    "            - Создали 2 списка - только Москва, только остальные города<br>\n",
    "            - Сравнили дисперсии значений выручки.<br>\n",
    "            - Получили p-value: {:.5f}... и сравнили ее с alpha: {}<br><br>\n",
    "            - Результат: <b>{}</b>\n",
    "        </span>\n",
    "    </div>\n",
    "</div>\n",
    "'''.format(\n",
    "        p_value_2,\n",
    "        alpha_2,\n",
    "        result_2\n",
    "    )\n",
    ")"
   ]
  },
  {
   "cell_type": "markdown",
   "metadata": {},
   "source": [
    "## Общий вывод по проведенной работе"
   ]
  },
  {
   "cell_type": "code",
   "execution_count": 86,
   "metadata": {
    "scrolled": false
   },
   "outputs": [
    {
     "data": {
      "text/markdown": [
       "\n",
       "<div class=\"total\">\n",
       "    <div class=\"banner\">&nbsp;</div>\n",
       "    <div class=\"description\">\n",
       "        <p style=\"font-size: 20px; color: #ff5722;\">Общий вывод по проведенной работе</p><br><br>\n",
       "        <span>\n",
       "            <b>Провели ряд исследований:</b><br><br>\n",
       "            - <i><a href=\"#Описание-данных\">Описание данных:</a></i>\n",
       "            <ul style=\"margin-left: 20px;\">\n",
       "                <li>\n",
       "                    <span>Таблица <b><a href=\"#Таблица-users-(информация-о-пользователях)\">users</a></b></span>\n",
       "                    <ul style=\"margin-left: 20px;\">\n",
       "                        <li>Исправили тип данных столбцов churn_date и reg_date</li>\n",
       "                        <li>Добавили столбец tariff_id, который содержит идентификатор тарифа</li>\n",
       "                        <li>Обнаружили пропуски в столбце 'дата прекращения пользования тарифом' (churn_date)</li>\n",
       "                        <li>Количество дупликатов в users равно 0</li>\n",
       "                        <li>Определили, что возраст самого младшего абонента - 18 лет, старшего - 75, а среднее значение возраста - 46 лет</li>\n",
       "                    </ul>\n",
       "                </li>\n",
       "                <br>\n",
       "                <li>\n",
       "                    <span>Таблица <b><a href=\"#Таблица-calls-(информация-о-звонках)\">calls</a></b></span>\n",
       "                    <ul style=\"margin-left: 20px;\">\n",
       "                        <li>Исправили тип данных столбца call_date</li>\n",
       "                        <li>Округлили значение в столбце duration</li>\n",
       "                        <li>Добавили столбец month, который содержит месяц, когда был совершен звонок</li>\n",
       "                        <li>Видим пропущенные звонки - 0 минут, самый короткий разговор - 1.0 минута, самый долгий разговор - 38.0 минут, а среднее значение - 8 минут</li>\n",
       "                        <li>Для рассчетов и анализа избавились от пропущенных звонков и длительностью 0 минут</li>\n",
       "                        <li>Количество звонков в определенный месяц растет по нарастающей. В январе звонили меньше всего, а в декабре - максимальное количество звонков</li>\n",
       "                        <li>Строк с пропущенными данными нет</li>\n",
       "                        <li>Количество дупликатов в calls равно 0</li>\n",
       "                    </ul>\n",
       "                </li>\n",
       "                <br>\n",
       "                <li>\n",
       "                    <span>Таблица <b><a href=\"#Таблица-messages-(информация-о-сообщениях)\">messages</a></b></span>\n",
       "                    <ul style=\"margin-left: 20px;\">\n",
       "                        <li>Исправили тип данных столбца message_date</li>\n",
       "                        <li>Добавили столбец month, который содержит месяц, когда было написано сообщение</li>\n",
       "                        <li>Количество писем отправленных в определенный месяц растет по нарастающей. В январе написало меньше всего писем, а в декабре - максимальное количество</li>\n",
       "                        <li>Строк с пропущенными данными нет</li>\n",
       "                        <li>Количество дупликатов в messages равно 0</li>\n",
       "                    </ul>\n",
       "                </li>\n",
       "                <br>\n",
       "                <li>\n",
       "                    <span>Таблица <b><a href=\"#Таблица-internet-(информация-об-интернет-сессиях)\">internet</a></b></span>\n",
       "                    <ul style=\"margin-left: 20px;\">\n",
       "                        <li>Исправили тип данных столбца session_date</li>\n",
       "                        <li>Добавили столбец month, который содержит месяц, когда была сессия</li>\n",
       "                        <li>Удалили лишний столбец Unnamed: 0</li>\n",
       "                        <li>Количество использования интернет-трафика в определенный месяц растет по нарастающей. В январе подключений меньше всего, а в декабре - максимальное количество</li>\n",
       "                        <li>Строк с пропущенными данными нет</li>\n",
       "                        <li>Количество дупликатов в internet равно 0</li>\n",
       "                    </ul>\n",
       "                </li>\n",
       "                <br>\n",
       "                <li>\n",
       "                    <span>Таблица <b><a href=\"#Таблица-tariffs-(информация-о-тарифах)\">tariffs</a></b></span>\n",
       "                    <ul style=\"margin-left: 20px;\">\n",
       "                        <li>Для удобства добавили столбец tariff_id</li>\n",
       "                        <li>Заполнили шаблоны словарей тарифов данными</li>\n",
       "                        <li>Строк с пропущенными данными нет</li>\n",
       "                    </ul>\n",
       "                </li>\n",
       "            </ul>\n",
       "            <br><br>\n",
       "            - <i><a href=\"#Расчет-значений\">Расчет значений:</a></i>\n",
       "            <ul style=\"margin-left: 20px;\">\n",
       "                <li>Подсчитали количество сделанных звонков и израсходованных минут разговора по месяцам</li>\n",
       "                <li>Подсчитали количество отправленных сообщений по месяцам</li>\n",
       "                <li>Подсчитали объем израсходованного интернет-трафика по месяцам</li>\n",
       "                <li>Подсчитали помесячную выручку с каждого пользователя</li>\n",
       "                <li>Получили итоговую таблицу с подсчитанными данными</li>\n",
       "            </ul>\n",
       "            <br><br>\n",
       "            - <i><a href=\"#Анализ-полученных-данных\">Анализ полученных данных:</a></i>\n",
       "            <ul style=\"margin-left: 20px;\">\n",
       "                <li>\n",
       "                    <span><b><a href=\"#Тариф-Смарт\">Тариф Смарт</a></b></span>\n",
       "                    <ul style=\"margin-left: 20px;\">\n",
       "                        <span>Согласно проведенному анализу в среднем пользователь тарифа тратит:</span>\n",
       "                        <li>420 минут разговора из 500 в месяц. Стандартное отклонение при этом - 143 минут(-ы)</li>\n",
       "                        <li>37 сообщений из 50 в месяц. Стандартное отклонение при этом - 24 сообщений(-я, -е)</li>\n",
       "                        <li>16216 мб интернет трафика из 15360 в месяц. Стандартное отклонение при этом - 3622 мб. Это говорит о том, что пользователи пользуются интернетом, даже если исчерпали лимит</li>\n",
       "                    </ul>\n",
       "                </li>\n",
       "                <br>\n",
       "                <li>\n",
       "                    <span><b><a href=\"#Тариф-Ультра\">Тариф Ультра</a></b></span>\n",
       "                    <ul style=\"margin-left: 20px;\">\n",
       "                        <span>Согласно проведенному анализу в среднем пользователь тарифа тратит:</span>\n",
       "                        <li>546 минут разговора из 3000 в месяц. Стандартное отклонение при этом - 268 минут(-ы)</li>\n",
       "                        <li>64 сообщений из 1000 в месяц. Стандартное отклонение при этом - 43 сообщений(-я, -е)</li>\n",
       "                        <li>19744 мб интернет трафика из 30720 в месяц. Стандартное отклонение при этом - 8169 мб</li>\n",
       "                    </ul>\n",
       "                </li>\n",
       "            </ul>\n",
       "            <br><br>\n",
       "            - <i><a href=\"#Проверка-гипотез\">Проверка гипотез:</a></i>\n",
       "            <ul style=\"margin-left: 20px;\">\n",
       "                <li>\n",
       "                    <span><b><a href=\"#Средняя-выручка-пользователей-тарифов-Ультра-и-Смарт-различается\">Средняя выручка пользователей тарифов Ультра и Смарт различается</a></b></span>\n",
       "                    <ul style=\"margin-left: 20px;\">\n",
       "                        <li>Сравнили дисперсии значений выручки.</li>\n",
       "                        <li>Получили p-value: 0.00000... и сравнили ее с alpha: 0.05</li>\n",
       "                        <li>Результат: <b>Гипотеза, что выручка различается верна</b></li>\n",
       "                    </ul>\n",
       "                </li>\n",
       "                <br>\n",
       "                <li>\n",
       "                    <span><b><a href=\"#Средняя-выручка-пользователей-из-Москвы-отличается-от-выручки-пользователей-из-других-регионов\">Средняя выручка пользователей из Москвы отличается от выручки пользователей из других регионов</a></b></span>\n",
       "                    <ul style=\"margin-left: 20px;\">\n",
       "                        <li>Получили таблицу только выручки</li>\n",
       "                        <li>Добавили к ней город</li>\n",
       "                        <li>Получили среднюю выручку</li>\n",
       "                        <li>Создали 2 списка - только Москва, только остальные города</li>\n",
       "                        <li>Сравнили дисперсии значений выручки</li>\n",
       "                        <li>Получили p-value: 0.77372... и сравнили ее с alpha: 0.05</li>\n",
       "                        <li>Результат: <b>Гипотеза, что Средняя выручка пользователей из Москвы отличается от выручки пользователей из других регионов не подтвердилась</b></li>\n",
       "                    </ul>\n",
       "                </li>\n",
       "            </ul>\n",
       "        </span>\n",
       "        <br>\n",
       "        <span>\n",
       "            <b>Резюме:</b><br><br>\n",
       "            <span style=\"width: 500px; word-break: break-word;\">\n",
       "                В проекте было рассмотрено распределение длительности звонков, количества сообщений, траффик интернета.<br><br>\n",
       "                Как показали рассчеты, пользователям не выгодно использовать тариф \"Ультра\", и скорее всего со временем они точно перешли бы на тариф \"Смарт\"<br><br>\n",
       "                При рассчетах было определено, что средняя прибыльность в двух тарифах отличается, учитывая тот факт, что используют опции в среднем и там и там одинаково, но доходность от тарифа Ultra больше в 3.5 раза.<br><br>\n",
       "                Данный тариф абсолютно не выгоден для пользователя. Пользователь использует в среднем лишь 18% минут звонков от общего лимита, 6% сообщений, однако трафик интернета 65% от лимита.<br><br>\n",
       "                Однако, чтобы удержать клиентов того или иного тарифа из представленных, я бы рекомендовал следующие характеристики для каждого из тарифа:\n",
       "            </span>\n",
       "            <br><br>\n",
       "            <span>\n",
       "                <i>- Тариф <b>Smart</b></i>\n",
       "                <ul style=\"margin-left: 20px;\">\n",
       "                    <li>Минут: <b>450</b></li>\n",
       "                    <li>Сообщений: <b>35</b></li>\n",
       "                    <li>Интернет-Трафика: <b>15гб</b></li>\n",
       "                </ul>\n",
       "                <br>\n",
       "                <i>- Тариф <b>Ultra</b></i>\n",
       "                <ul style=\"margin-left: 20px;\">\n",
       "                    <li>Минут: <b>800</b></li>\n",
       "                    <li>Сообщений: <b>180</b></li>\n",
       "                    <li>Интернет-Трафика: <b>20гб</b></li>\n",
       "                </ul>\n",
       "                <br>\n",
       "                <span>И провел бы маркетинговую акцию: <b>\"500 за 500\"</b> - 500 единиц услуг за 500 рублей для тарифа <b>Smart</b> и <b>\"1000 за 1000\"</b> - 1000 единиц услуг за 1000 рублей для тарифа <b>Ultra</b></span>\n",
       "                <br><br>\n",
       "                <span>Данные характеристики были бы привлекательны и для новых клиентов, так и для старых, а также привлекательны для самой компании - по тому, что пользователи больше потребляют трафик интернета, но при этом им будет не хватать совсем чуть-чуть от лимита, и они будут вынуждены продлить тариф сверхлимита, что окажется более выгодным для компании.</span>\n",
       "            </span>\n",
       "        </span>\n",
       "    </div>\n",
       "</div>\n"
      ],
      "text/plain": [
       "<IPython.core.display.Markdown object>"
      ]
     },
     "execution_count": 86,
     "metadata": {},
     "output_type": "execute_result"
    }
   ],
   "source": [
    "md('''\n",
    "<div class=\"total\">\n",
    "    <div class=\"banner\">&nbsp;</div>\n",
    "    <div class=\"description\">\n",
    "        <p style=\"font-size: 20px; color: #ff5722;\">Общий вывод по проведенной работе</p><br><br>\n",
    "        <span>\n",
    "            <b>Провели ряд исследований:</b><br><br>\n",
    "            - <i><a href=\"#Описание-данных\">Описание данных:</a></i>\n",
    "            <ul style=\"margin-left: 20px;\">\n",
    "                <li>\n",
    "                    <span>Таблица <b><a href=\"#Таблица-users-(информация-о-пользователях)\">users</a></b></span>\n",
    "                    <ul style=\"margin-left: 20px;\">\n",
    "                        <li>Исправили тип данных столбцов churn_date и reg_date</li>\n",
    "                        <li>Добавили столбец tariff_id, который содержит идентификатор тарифа</li>\n",
    "                        <li>Обнаружили пропуски в столбце 'дата прекращения пользования тарифом' (churn_date)</li>\n",
    "                        <li>Количество дупликатов в users равно 0</li>\n",
    "                        <li>Определили, что возраст самого младшего абонента - {} лет, старшего - {}, а среднее значение возраста - {} лет</li>\n",
    "                    </ul>\n",
    "                </li>\n",
    "                <br>\n",
    "                <li>\n",
    "                    <span>Таблица <b><a href=\"#Таблица-calls-(информация-о-звонках)\">calls</a></b></span>\n",
    "                    <ul style=\"margin-left: 20px;\">\n",
    "                        <li>Исправили тип данных столбца call_date</li>\n",
    "                        <li>Округлили значение в столбце duration</li>\n",
    "                        <li>Добавили столбец month, который содержит месяц, когда был совершен звонок</li>\n",
    "                        <li>Видим пропущенные звонки - 0 минут, самый короткий разговор - {} минута, самый долгий разговор - {} минут, а среднее значение - {} минут</li>\n",
    "                        <li>Для рассчетов и анализа избавились от пропущенных звонков и длительностью 0 минут</li>\n",
    "                        <li>Количество звонков в определенный месяц растет по нарастающей. В январе звонили меньше всего, а в декабре - максимальное количество звонков</li>\n",
    "                        <li>Строк с пропущенными данными нет</li>\n",
    "                        <li>Количество дупликатов в calls равно 0</li>\n",
    "                    </ul>\n",
    "                </li>\n",
    "                <br>\n",
    "                <li>\n",
    "                    <span>Таблица <b><a href=\"#Таблица-messages-(информация-о-сообщениях)\">messages</a></b></span>\n",
    "                    <ul style=\"margin-left: 20px;\">\n",
    "                        <li>Исправили тип данных столбца message_date</li>\n",
    "                        <li>Добавили столбец month, который содержит месяц, когда было написано сообщение</li>\n",
    "                        <li>Количество писем отправленных в определенный месяц растет по нарастающей. В январе написало меньше всего писем, а в декабре - максимальное количество</li>\n",
    "                        <li>Строк с пропущенными данными нет</li>\n",
    "                        <li>Количество дупликатов в messages равно 0</li>\n",
    "                    </ul>\n",
    "                </li>\n",
    "                <br>\n",
    "                <li>\n",
    "                    <span>Таблица <b><a href=\"#Таблица-internet-(информация-об-интернет-сессиях)\">internet</a></b></span>\n",
    "                    <ul style=\"margin-left: 20px;\">\n",
    "                        <li>Исправили тип данных столбца session_date</li>\n",
    "                        <li>Добавили столбец month, который содержит месяц, когда была сессия</li>\n",
    "                        <li>Удалили лишний столбец Unnamed: 0</li>\n",
    "                        <li>Количество использования интернет-трафика в определенный месяц растет по нарастающей. В январе подключений меньше всего, а в декабре - максимальное количество</li>\n",
    "                        <li>Строк с пропущенными данными нет</li>\n",
    "                        <li>Количество дупликатов в internet равно 0</li>\n",
    "                    </ul>\n",
    "                </li>\n",
    "                <br>\n",
    "                <li>\n",
    "                    <span>Таблица <b><a href=\"#Таблица-tariffs-(информация-о-тарифах)\">tariffs</a></b></span>\n",
    "                    <ul style=\"margin-left: 20px;\">\n",
    "                        <li>Для удобства добавили столбец tariff_id</li>\n",
    "                        <li>Заполнили шаблоны словарей тарифов данными</li>\n",
    "                        <li>Строк с пропущенными данными нет</li>\n",
    "                    </ul>\n",
    "                </li>\n",
    "            </ul>\n",
    "            <br><br>\n",
    "            - <i><a href=\"#Расчет-значений\">Расчет значений:</a></i>\n",
    "            <ul style=\"margin-left: 20px;\">\n",
    "                <li>Подсчитали количество сделанных звонков и израсходованных минут разговора по месяцам</li>\n",
    "                <li>Подсчитали количество отправленных сообщений по месяцам</li>\n",
    "                <li>Подсчитали объем израсходованного интернет-трафика по месяцам</li>\n",
    "                <li>Подсчитали помесячную выручку с каждого пользователя</li>\n",
    "                <li>Получили итоговую таблицу с подсчитанными данными</li>\n",
    "            </ul>\n",
    "            <br><br>\n",
    "            - <i><a href=\"#Анализ-полученных-данных\">Анализ полученных данных:</a></i>\n",
    "            <ul style=\"margin-left: 20px;\">\n",
    "                <li>\n",
    "                    <span><b><a href=\"#Тариф-Смарт\">Тариф Смарт</a></b></span>\n",
    "                    <ul style=\"margin-left: 20px;\">\n",
    "                        <span>Согласно проведенному анализу в среднем пользователь тарифа тратит:</span>\n",
    "                        <li>{} минут разговора из {} в месяц. Стандартное отклонение при этом - {} минут(-ы)</li>\n",
    "                        <li>{} сообщений из {} в месяц. Стандартное отклонение при этом - {} сообщений(-я, -е)</li>\n",
    "                        <li>{} мб интернет трафика из {} в месяц. Стандартное отклонение при этом - {} мб. Это говорит о том, что пользователи пользуются интернетом, даже если исчерпали лимит</li>\n",
    "                    </ul>\n",
    "                </li>\n",
    "                <br>\n",
    "                <li>\n",
    "                    <span><b><a href=\"#Тариф-Ультра\">Тариф Ультра</a></b></span>\n",
    "                    <ul style=\"margin-left: 20px;\">\n",
    "                        <span>Согласно проведенному анализу в среднем пользователь тарифа тратит:</span>\n",
    "                        <li>{} минут разговора из {} в месяц. Стандартное отклонение при этом - {} минут(-ы)</li>\n",
    "                        <li>{} сообщений из {} в месяц. Стандартное отклонение при этом - {} сообщений(-я, -е)</li>\n",
    "                        <li>{} мб интернет трафика из {} в месяц. Стандартное отклонение при этом - {} мб</li>\n",
    "                    </ul>\n",
    "                </li>\n",
    "            </ul>\n",
    "            <br><br>\n",
    "            - <i><a href=\"#Проверка-гипотез\">Проверка гипотез:</a></i>\n",
    "            <ul style=\"margin-left: 20px;\">\n",
    "                <li>\n",
    "                    <span><b><a href=\"#Средняя-выручка-пользователей-тарифов-Ультра-и-Смарт-различается\">Средняя выручка пользователей тарифов Ультра и Смарт различается</a></b></span>\n",
    "                    <ul style=\"margin-left: 20px;\">\n",
    "                        <li>Сравнили дисперсии значений выручки.</li>\n",
    "                        <li>Получили p-value: {:.5f}... и сравнили ее с alpha: {}</li>\n",
    "                        <li>Результат: <b>{}</b></li>\n",
    "                    </ul>\n",
    "                </li>\n",
    "                <br>\n",
    "                <li>\n",
    "                    <span><b><a href=\"#Средняя-выручка-пользователей-из-Москвы-отличается-от-выручки-пользователей-из-других-регионов\">Средняя выручка пользователей из Москвы отличается от выручки пользователей из других регионов</a></b></span>\n",
    "                    <ul style=\"margin-left: 20px;\">\n",
    "                        <li>Получили таблицу только выручки</li>\n",
    "                        <li>Добавили к ней город</li>\n",
    "                        <li>Получили среднюю выручку</li>\n",
    "                        <li>Создали 2 списка - только Москва, только остальные города</li>\n",
    "                        <li>Сравнили дисперсии значений выручки</li>\n",
    "                        <li>Получили p-value: {:.5f}... и сравнили ее с alpha: {}</li>\n",
    "                        <li>Результат: <b>{}</b></li>\n",
    "                    </ul>\n",
    "                </li>\n",
    "            </ul>\n",
    "        </span>\n",
    "        <br>\n",
    "        <span>\n",
    "            <b>Резюме:</b><br><br>\n",
    "            <span style=\"width: 500px; word-break: break-word;\">\n",
    "                В проекте было рассмотрено распределение длительности звонков, количества сообщений, траффик интернета.<br><br>\n",
    "                Как показали рассчеты, пользователям не выгодно использовать тариф \"Ультра\", и скорее всего со временем они точно перешли бы на тариф \"Смарт\"<br><br>\n",
    "                При рассчетах было определено, что средняя прибыльность в двух тарифах отличается, учитывая тот факт, что используют опции в среднем и там и там одинаково, но доходность от тарифа Ultra больше в 3.5 раза.<br><br>\n",
    "                Данный тариф абсолютно не выгоден для пользователя. Пользователь использует в среднем лишь 18% минут звонков от общего лимита, 6% сообщений, однако трафик интернета 65% от лимита.<br><br>\n",
    "                Однако, чтобы удержать клиентов того или иного тарифа из представленных, я бы рекомендовал следующие характеристики для каждого из тарифа:\n",
    "            </span>\n",
    "            <br><br>\n",
    "            <span>\n",
    "                <i>- Тариф <b>Smart</b></i>\n",
    "                <ul style=\"margin-left: 20px;\">\n",
    "                    <li>Минут: <b>450</b></li>\n",
    "                    <li>Сообщений: <b>35</b></li>\n",
    "                    <li>Интернет-Трафика: <b>15гб</b></li>\n",
    "                </ul>\n",
    "                <br>\n",
    "                <i>- Тариф <b>Ultra</b></i>\n",
    "                <ul style=\"margin-left: 20px;\">\n",
    "                    <li>Минут: <b>800</b></li>\n",
    "                    <li>Сообщений: <b>180</b></li>\n",
    "                    <li>Интернет-Трафика: <b>20гб</b></li>\n",
    "                </ul>\n",
    "                <br>\n",
    "                <span>И провел бы маркетинговую акцию: <b>\"500 за 500\"</b> - 500 единиц услуг за 500 рублей для тарифа <b>Smart</b> и <b>\"1000 за 1000\"</b> - 1000 единиц услуг за 1000 рублей для тарифа <b>Ultra</b></span>\n",
    "                <br><br>\n",
    "                <span>Данные характеристики были бы привлекательны и для новых клиентов, так и для старых, а также привлекательны для самой компании - по тому, что пользователи больше потребляют трафик интернета, но при этом им будет не хватать совсем чуть-чуть от лимита, и они будут вынуждены продлить тариф сверхлимита, что окажется более выгодным для компании.</span>\n",
    "            </span>\n",
    "        </span>\n",
    "    </div>\n",
    "</div>\n",
    "'''.format(\n",
    "        users['age'].min(),\n",
    "        users['age'].max(),\n",
    "        int(users['age'].mean()),\n",
    "    \n",
    "        calls['duration'].min(),\n",
    "        calls['duration'].max(),\n",
    "        int(calls['duration'].mean()),\n",
    "    \n",
    "        int(tariff_smart_calls['mean_value'].mean()),\n",
    "        tarif_limit['smart'][0],\n",
    "        int(tariff_smart_calls['mean_value'].std()),\n",
    "    \n",
    "        int(tariff_smart_messages['mean_value'].mean()),\n",
    "        tarif_limit['smart'][1],\n",
    "        int(tariff_smart_messages['mean_value'].std()),\n",
    "    \n",
    "        int(tariff_smart_internet['mean_value'].mean()),\n",
    "        tarif_limit['smart'][2],\n",
    "        int(tariff_smart_internet['mean_value'].std()),\n",
    "    \n",
    "        int(tariff_ultra_calls['mean_value'].mean()),\n",
    "        tarif_limit['ultra'][0],\n",
    "        int(tariff_ultra_calls['mean_value'].std()),\n",
    "    \n",
    "        int(tariff_ultra_messages['mean_value'].mean()),\n",
    "        tarif_limit['ultra'][1],\n",
    "        int(tariff_ultra_messages['mean_value'].std()),\n",
    "    \n",
    "        int(tariff_ultra_internet['mean_value'].mean()),\n",
    "        tarif_limit['ultra'][2],\n",
    "        int(tariff_ultra_internet['mean_value'].std()),\n",
    "    \n",
    "        p_value_1,\n",
    "        alpha_1,\n",
    "        result_1,\n",
    "    \n",
    "        p_value_2,\n",
    "        alpha_2,\n",
    "        result_2\n",
    "    )\n",
    ")"
   ]
  }
 ],
 "metadata": {
  "ExecuteTimeLog": [
   {
    "duration": 19,
    "start_time": "2022-07-05T06:01:00.610Z"
   },
   {
    "duration": 9,
    "start_time": "2022-07-05T06:02:19.665Z"
   },
   {
    "duration": 40,
    "start_time": "2022-07-05T06:10:20.877Z"
   },
   {
    "duration": 16,
    "start_time": "2022-07-05T12:34:58.815Z"
   },
   {
    "duration": 1327,
    "start_time": "2022-07-05T12:44:29.624Z"
   },
   {
    "duration": 7,
    "start_time": "2022-07-05T12:57:55.046Z"
   },
   {
    "duration": 143,
    "start_time": "2022-07-05T13:00:37.844Z"
   },
   {
    "duration": 14,
    "start_time": "2022-07-05T13:40:51.958Z"
   },
   {
    "duration": 5,
    "start_time": "2022-07-05T13:46:22.570Z"
   },
   {
    "duration": 8,
    "start_time": "2022-07-05T13:50:23.147Z"
   },
   {
    "duration": 44,
    "start_time": "2022-07-05T13:51:13.003Z"
   },
   {
    "duration": 548,
    "start_time": "2022-07-05T13:59:31.681Z"
   },
   {
    "duration": 23,
    "start_time": "2022-07-05T14:00:46.989Z"
   },
   {
    "duration": 4,
    "start_time": "2022-07-05T14:03:29.164Z"
   },
   {
    "duration": 141,
    "start_time": "2022-07-05T14:06:05.825Z"
   },
   {
    "duration": 33,
    "start_time": "2022-07-05T14:08:44.000Z"
   },
   {
    "duration": 10,
    "start_time": "2022-07-05T14:33:28.477Z"
   },
   {
    "duration": 10,
    "start_time": "2022-07-05T14:38:07.637Z"
   },
   {
    "duration": 10,
    "start_time": "2022-07-05T14:39:26.445Z"
   },
   {
    "duration": 10,
    "start_time": "2022-07-05T14:44:16.286Z"
   },
   {
    "duration": 10,
    "start_time": "2022-07-05T14:47:09.854Z"
   },
   {
    "duration": 11,
    "start_time": "2022-07-05T15:05:15.932Z"
   },
   {
    "duration": 11,
    "start_time": "2022-07-05T15:08:09.313Z"
   },
   {
    "duration": 9,
    "start_time": "2022-07-05T15:28:12.347Z"
   },
   {
    "duration": 13,
    "start_time": "2022-07-05T15:44:05.919Z"
   },
   {
    "duration": 403,
    "start_time": "2022-07-05T16:44:05.103Z"
   },
   {
    "duration": 18,
    "start_time": "2022-07-05T16:45:11.818Z"
   },
   {
    "duration": 50,
    "start_time": "2022-07-05T16:49:56.980Z"
   },
   {
    "duration": 23,
    "start_time": "2022-07-05T16:50:25.229Z"
   },
   {
    "duration": 461,
    "start_time": "2022-07-05T16:57:24.731Z"
   },
   {
    "duration": 27,
    "start_time": "2022-07-05T16:59:04.700Z"
   },
   {
    "duration": 71,
    "start_time": "2022-07-05T17:10:16.438Z"
   },
   {
    "duration": 25,
    "start_time": "2022-07-05T17:10:17.823Z"
   },
   {
    "duration": 23,
    "start_time": "2022-07-05T17:13:05.367Z"
   },
   {
    "duration": 52,
    "start_time": "2022-07-05T17:13:05.392Z"
   },
   {
    "duration": 1154,
    "start_time": "2022-07-05T17:13:05.446Z"
   },
   {
    "duration": 4,
    "start_time": "2022-07-05T17:13:06.605Z"
   },
   {
    "duration": 138,
    "start_time": "2022-07-05T17:13:06.611Z"
   },
   {
    "duration": 17,
    "start_time": "2022-07-05T17:13:06.751Z"
   },
   {
    "duration": 11,
    "start_time": "2022-07-05T17:13:06.770Z"
   },
   {
    "duration": 73,
    "start_time": "2022-07-05T17:13:06.784Z"
   },
   {
    "duration": 170,
    "start_time": "2022-07-05T17:13:06.860Z"
   },
   {
    "duration": 27,
    "start_time": "2022-07-05T17:13:07.034Z"
   },
   {
    "duration": 146,
    "start_time": "2022-07-05T17:13:07.063Z"
   },
   {
    "duration": 32,
    "start_time": "2022-07-05T17:13:07.211Z"
   },
   {
    "duration": 116,
    "start_time": "2022-07-05T17:13:07.245Z"
   },
   {
    "duration": 18,
    "start_time": "2022-07-05T17:13:07.363Z"
   },
   {
    "duration": 45,
    "start_time": "2022-07-05T17:13:07.383Z"
   },
   {
    "duration": 25,
    "start_time": "2022-07-05T17:13:07.430Z"
   },
   {
    "duration": 149,
    "start_time": "2022-07-05T17:13:07.457Z"
   },
   {
    "duration": 24,
    "start_time": "2022-07-05T17:13:07.608Z"
   },
   {
    "duration": 48,
    "start_time": "2022-07-05T17:13:07.635Z"
   },
   {
    "duration": 28,
    "start_time": "2022-07-05T17:13:07.703Z"
   },
   {
    "duration": 101,
    "start_time": "2022-07-05T17:17:17.330Z"
   },
   {
    "duration": 14,
    "start_time": "2022-07-05T17:18:38.640Z"
   },
   {
    "duration": 6,
    "start_time": "2022-07-05T17:21:43.430Z"
   },
   {
    "duration": 43,
    "start_time": "2022-07-05T17:21:56.490Z"
   },
   {
    "duration": 6,
    "start_time": "2022-07-05T17:23:29.149Z"
   },
   {
    "duration": 31,
    "start_time": "2022-07-05T17:42:23.816Z"
   },
   {
    "duration": 33,
    "start_time": "2022-07-05T17:42:44.003Z"
   },
   {
    "duration": 43,
    "start_time": "2022-07-05T17:45:28.606Z"
   },
   {
    "duration": 142,
    "start_time": "2022-07-05T17:50:40.152Z"
   },
   {
    "duration": 14,
    "start_time": "2022-07-05T17:51:47.442Z"
   },
   {
    "duration": 8,
    "start_time": "2022-07-05T17:53:27.737Z"
   },
   {
    "duration": 9,
    "start_time": "2022-07-05T17:53:40.336Z"
   },
   {
    "duration": 57,
    "start_time": "2022-07-05T17:53:49.881Z"
   },
   {
    "duration": 15296,
    "start_time": "2022-07-05T17:55:57.730Z"
   },
   {
    "duration": 29,
    "start_time": "2022-07-05T17:56:21.834Z"
   },
   {
    "duration": 51,
    "start_time": "2022-07-05T17:56:31.843Z"
   },
   {
    "duration": 23,
    "start_time": "2022-07-05T17:56:49.339Z"
   },
   {
    "duration": 8,
    "start_time": "2022-07-06T05:56:44.445Z"
   },
   {
    "duration": 83,
    "start_time": "2022-07-06T05:57:40.337Z"
   },
   {
    "duration": 36,
    "start_time": "2022-07-06T05:58:24.714Z"
   },
   {
    "duration": 36,
    "start_time": "2022-07-06T05:59:14.491Z"
   },
   {
    "duration": 12,
    "start_time": "2022-07-06T06:07:14.430Z"
   },
   {
    "duration": 4,
    "start_time": "2022-07-06T06:12:35.120Z"
   },
   {
    "duration": 36,
    "start_time": "2022-07-06T06:13:33.025Z"
   },
   {
    "duration": 33,
    "start_time": "2022-07-06T06:14:16.731Z"
   },
   {
    "duration": 36,
    "start_time": "2022-07-06T06:14:31.101Z"
   },
   {
    "duration": 36,
    "start_time": "2022-07-06T06:14:49.954Z"
   },
   {
    "duration": 3,
    "start_time": "2022-07-06T06:18:13.851Z"
   },
   {
    "duration": 35,
    "start_time": "2022-07-06T06:18:59.604Z"
   },
   {
    "duration": 78,
    "start_time": "2022-07-06T06:20:23.540Z"
   },
   {
    "duration": 76,
    "start_time": "2022-07-06T06:20:41.986Z"
   },
   {
    "duration": 37,
    "start_time": "2022-07-06T06:20:50.028Z"
   },
   {
    "duration": 37,
    "start_time": "2022-07-06T06:20:56.740Z"
   },
   {
    "duration": 39,
    "start_time": "2022-07-06T06:23:23.062Z"
   },
   {
    "duration": 69,
    "start_time": "2022-07-06T06:26:06.069Z"
   },
   {
    "duration": 1524,
    "start_time": "2022-07-06T06:40:12.971Z"
   },
   {
    "duration": 570,
    "start_time": "2022-07-06T06:41:50.644Z"
   },
   {
    "duration": 162,
    "start_time": "2022-07-06T06:42:14.844Z"
   },
   {
    "duration": 78,
    "start_time": "2022-07-06T06:43:44.069Z"
   },
   {
    "duration": 15,
    "start_time": "2022-07-06T06:49:50.621Z"
   },
   {
    "duration": 150,
    "start_time": "2022-07-06T06:50:09.373Z"
   },
   {
    "duration": 131,
    "start_time": "2022-07-06T06:50:41.552Z"
   },
   {
    "duration": 995,
    "start_time": "2022-07-06T06:54:19.369Z"
   },
   {
    "duration": 163,
    "start_time": "2022-07-06T06:54:42.318Z"
   },
   {
    "duration": 164,
    "start_time": "2022-07-06T06:55:09.300Z"
   },
   {
    "duration": 166,
    "start_time": "2022-07-06T06:56:11.393Z"
   },
   {
    "duration": 166,
    "start_time": "2022-07-06T06:56:53.945Z"
   },
   {
    "duration": 135,
    "start_time": "2022-07-06T06:57:19.448Z"
   },
   {
    "duration": 174,
    "start_time": "2022-07-06T06:58:06.231Z"
   },
   {
    "duration": 180,
    "start_time": "2022-07-06T06:58:59.046Z"
   },
   {
    "duration": 179,
    "start_time": "2022-07-06T06:59:14.151Z"
   },
   {
    "duration": 170,
    "start_time": "2022-07-06T06:59:55.049Z"
   },
   {
    "duration": 156,
    "start_time": "2022-07-06T07:00:27.950Z"
   },
   {
    "duration": 83,
    "start_time": "2022-07-06T07:01:42.355Z"
   },
   {
    "duration": 314,
    "start_time": "2022-07-06T07:01:57.967Z"
   },
   {
    "duration": 129,
    "start_time": "2022-07-06T07:02:12.444Z"
   },
   {
    "duration": 157,
    "start_time": "2022-07-06T07:02:34.084Z"
   },
   {
    "duration": 183,
    "start_time": "2022-07-06T07:03:49.552Z"
   },
   {
    "duration": 148,
    "start_time": "2022-07-06T07:04:07.306Z"
   },
   {
    "duration": 165,
    "start_time": "2022-07-06T07:05:04.346Z"
   },
   {
    "duration": 165,
    "start_time": "2022-07-06T07:06:15.146Z"
   },
   {
    "duration": 158,
    "start_time": "2022-07-06T07:06:55.680Z"
   },
   {
    "duration": 887,
    "start_time": "2022-07-06T07:11:10.543Z"
   },
   {
    "duration": 327,
    "start_time": "2022-07-06T07:11:33.943Z"
   },
   {
    "duration": 12,
    "start_time": "2022-07-06T07:12:55.409Z"
   },
   {
    "duration": 12,
    "start_time": "2022-07-06T07:13:29.008Z"
   },
   {
    "duration": 117,
    "start_time": "2022-07-06T07:13:51.044Z"
   },
   {
    "duration": 61,
    "start_time": "2022-07-06T07:14:28.267Z"
   },
   {
    "duration": 146,
    "start_time": "2022-07-06T07:14:47.058Z"
   },
   {
    "duration": 155,
    "start_time": "2022-07-06T07:15:39.585Z"
   },
   {
    "duration": 12,
    "start_time": "2022-07-06T07:16:16.177Z"
   },
   {
    "duration": 144,
    "start_time": "2022-07-06T07:18:14.817Z"
   },
   {
    "duration": 50,
    "start_time": "2022-07-06T07:22:13.778Z"
   },
   {
    "duration": 15,
    "start_time": "2022-07-06T07:22:29.106Z"
   },
   {
    "duration": 21,
    "start_time": "2022-07-06T07:25:35.010Z"
   },
   {
    "duration": 10,
    "start_time": "2022-07-06T07:26:07.482Z"
   },
   {
    "duration": 10,
    "start_time": "2022-07-06T07:27:37.340Z"
   },
   {
    "duration": 20,
    "start_time": "2022-07-06T07:28:36.540Z"
   },
   {
    "duration": 11,
    "start_time": "2022-07-06T07:29:22.248Z"
   },
   {
    "duration": 10,
    "start_time": "2022-07-06T07:29:33.724Z"
   },
   {
    "duration": 11,
    "start_time": "2022-07-06T07:30:20.395Z"
   },
   {
    "duration": 10,
    "start_time": "2022-07-06T07:30:36.827Z"
   },
   {
    "duration": 11,
    "start_time": "2022-07-06T07:33:22.028Z"
   },
   {
    "duration": 13,
    "start_time": "2022-07-06T07:33:43.900Z"
   },
   {
    "duration": 153,
    "start_time": "2022-07-06T07:35:00.333Z"
   },
   {
    "duration": 12,
    "start_time": "2022-07-06T07:38:07.565Z"
   },
   {
    "duration": 196,
    "start_time": "2022-07-06T07:38:59.924Z"
   },
   {
    "duration": 217,
    "start_time": "2022-07-06T07:40:46.381Z"
   },
   {
    "duration": 201,
    "start_time": "2022-07-06T07:41:12.883Z"
   },
   {
    "duration": 9,
    "start_time": "2022-07-06T07:42:30.396Z"
   },
   {
    "duration": 13,
    "start_time": "2022-07-06T07:42:39.294Z"
   },
   {
    "duration": 9,
    "start_time": "2022-07-06T07:48:03.004Z"
   },
   {
    "duration": 341,
    "start_time": "2022-07-06T07:48:14.934Z"
   },
   {
    "duration": 11,
    "start_time": "2022-07-06T07:50:48.941Z"
   },
   {
    "duration": 12,
    "start_time": "2022-07-06T07:51:17.421Z"
   },
   {
    "duration": 14,
    "start_time": "2022-07-06T07:51:47.406Z"
   },
   {
    "duration": 19,
    "start_time": "2022-07-06T07:52:52.950Z"
   },
   {
    "duration": 12,
    "start_time": "2022-07-06T07:53:17.879Z"
   },
   {
    "duration": 4,
    "start_time": "2022-07-06T07:57:32.982Z"
   },
   {
    "duration": 14,
    "start_time": "2022-07-06T07:58:03.791Z"
   },
   {
    "duration": 200,
    "start_time": "2022-07-06T07:58:28.798Z"
   },
   {
    "duration": 178,
    "start_time": "2022-07-06T07:58:38.286Z"
   },
   {
    "duration": 166,
    "start_time": "2022-07-06T08:11:50.160Z"
   },
   {
    "duration": 165,
    "start_time": "2022-07-06T08:12:30.736Z"
   },
   {
    "duration": 189,
    "start_time": "2022-07-06T08:16:26.882Z"
   },
   {
    "duration": 43,
    "start_time": "2022-07-06T08:24:27.196Z"
   },
   {
    "duration": 169,
    "start_time": "2022-07-06T08:26:47.379Z"
   },
   {
    "duration": 13,
    "start_time": "2022-07-06T08:28:23.962Z"
   },
   {
    "duration": 205,
    "start_time": "2022-07-06T08:28:36.436Z"
   },
   {
    "duration": 173,
    "start_time": "2022-07-06T08:28:55.683Z"
   },
   {
    "duration": 201,
    "start_time": "2022-07-06T08:29:01.155Z"
   },
   {
    "duration": 170,
    "start_time": "2022-07-06T08:30:02.144Z"
   },
   {
    "duration": 170,
    "start_time": "2022-07-06T08:30:26.604Z"
   },
   {
    "duration": 309,
    "start_time": "2022-07-06T08:30:51.336Z"
   },
   {
    "duration": 191,
    "start_time": "2022-07-06T08:31:04.227Z"
   },
   {
    "duration": 173,
    "start_time": "2022-07-06T08:31:30.955Z"
   },
   {
    "duration": 47,
    "start_time": "2022-07-06T08:33:06.429Z"
   },
   {
    "duration": 35,
    "start_time": "2022-07-06T08:33:40.583Z"
   },
   {
    "duration": 10,
    "start_time": "2022-07-06T08:57:43.382Z"
   },
   {
    "duration": 5,
    "start_time": "2022-07-06T09:13:12.394Z"
   },
   {
    "duration": 10,
    "start_time": "2022-07-06T09:36:25.238Z"
   },
   {
    "duration": 9,
    "start_time": "2022-07-06T09:37:33.283Z"
   },
   {
    "duration": 358,
    "start_time": "2022-07-06T09:38:21.478Z"
   },
   {
    "duration": 46,
    "start_time": "2022-07-06T09:40:39.640Z"
   },
   {
    "duration": 129,
    "start_time": "2022-07-06T09:43:38.068Z"
   },
   {
    "duration": 11,
    "start_time": "2022-07-06T10:06:30.052Z"
   },
   {
    "duration": 37,
    "start_time": "2022-07-06T10:07:04.579Z"
   },
   {
    "duration": 10,
    "start_time": "2022-07-06T10:07:09.141Z"
   },
   {
    "duration": 46,
    "start_time": "2022-07-06T10:07:37.553Z"
   },
   {
    "duration": 59,
    "start_time": "2022-07-06T10:07:40.978Z"
   },
   {
    "duration": 143,
    "start_time": "2022-07-06T10:10:31.063Z"
   },
   {
    "duration": 70,
    "start_time": "2022-07-06T10:10:56.044Z"
   },
   {
    "duration": 51,
    "start_time": "2022-07-06T10:11:16.454Z"
   },
   {
    "duration": 77,
    "start_time": "2022-07-06T10:11:19.398Z"
   },
   {
    "duration": 7,
    "start_time": "2022-07-06T11:28:11.424Z"
   },
   {
    "duration": 176,
    "start_time": "2022-07-06T11:37:26.671Z"
   },
   {
    "duration": 348,
    "start_time": "2022-07-06T11:39:08.153Z"
   },
   {
    "duration": 9,
    "start_time": "2022-07-06T11:40:12.805Z"
   },
   {
    "duration": 81573,
    "start_time": "2022-07-06T11:40:17.049Z"
   },
   {
    "duration": 8,
    "start_time": "2022-07-06T11:43:14.065Z"
   },
   {
    "duration": 8,
    "start_time": "2022-07-06T11:43:47.198Z"
   },
   {
    "duration": 18,
    "start_time": "2022-07-06T11:44:50.964Z"
   },
   {
    "duration": 42,
    "start_time": "2022-07-06T11:44:50.985Z"
   },
   {
    "duration": 1043,
    "start_time": "2022-07-06T11:44:51.029Z"
   },
   {
    "duration": 8,
    "start_time": "2022-07-06T11:44:52.075Z"
   },
   {
    "duration": 126,
    "start_time": "2022-07-06T11:44:52.085Z"
   },
   {
    "duration": 11,
    "start_time": "2022-07-06T11:44:52.213Z"
   },
   {
    "duration": 23,
    "start_time": "2022-07-06T11:44:52.225Z"
   },
   {
    "duration": 53,
    "start_time": "2022-07-06T11:44:52.249Z"
   },
   {
    "duration": 17,
    "start_time": "2022-07-06T11:44:52.304Z"
   },
   {
    "duration": 24,
    "start_time": "2022-07-06T11:44:52.322Z"
   },
   {
    "duration": 174,
    "start_time": "2022-07-06T11:44:52.347Z"
   },
   {
    "duration": 22,
    "start_time": "2022-07-06T11:44:52.523Z"
   },
   {
    "duration": 128,
    "start_time": "2022-07-06T11:44:52.546Z"
   },
   {
    "duration": 36,
    "start_time": "2022-07-06T11:44:52.676Z"
   },
   {
    "duration": 34,
    "start_time": "2022-07-06T11:44:52.713Z"
   },
   {
    "duration": 115,
    "start_time": "2022-07-06T11:44:52.748Z"
   },
   {
    "duration": 14,
    "start_time": "2022-07-06T11:44:52.864Z"
   },
   {
    "duration": 183,
    "start_time": "2022-07-06T11:44:52.880Z"
   },
   {
    "duration": 170,
    "start_time": "2022-07-06T11:44:53.064Z"
   },
   {
    "duration": 108,
    "start_time": "2022-07-06T11:44:53.236Z"
   },
   {
    "duration": 17,
    "start_time": "2022-07-06T11:44:53.346Z"
   },
   {
    "duration": 39,
    "start_time": "2022-07-06T11:44:53.365Z"
   },
   {
    "duration": 28,
    "start_time": "2022-07-06T11:44:53.405Z"
   },
   {
    "duration": 47,
    "start_time": "2022-07-06T11:44:53.434Z"
   },
   {
    "duration": 183,
    "start_time": "2022-07-06T11:44:53.482Z"
   },
   {
    "duration": 125,
    "start_time": "2022-07-06T11:44:53.666Z"
   },
   {
    "duration": 21,
    "start_time": "2022-07-06T11:44:53.793Z"
   },
   {
    "duration": 42,
    "start_time": "2022-07-06T11:44:53.815Z"
   },
   {
    "duration": 46,
    "start_time": "2022-07-06T11:44:53.859Z"
   },
   {
    "duration": 40,
    "start_time": "2022-07-06T11:44:53.909Z"
   },
   {
    "duration": 181,
    "start_time": "2022-07-06T11:44:53.951Z"
   },
   {
    "duration": 193,
    "start_time": "2022-07-06T11:44:54.134Z"
   },
   {
    "duration": 36,
    "start_time": "2022-07-06T11:44:54.329Z"
   },
   {
    "duration": 11,
    "start_time": "2022-07-06T11:44:54.367Z"
   },
   {
    "duration": 10,
    "start_time": "2022-07-06T11:44:54.379Z"
   },
   {
    "duration": 32,
    "start_time": "2022-07-06T11:44:54.390Z"
   },
   {
    "duration": 172,
    "start_time": "2022-07-06T11:44:54.424Z"
   },
   {
    "duration": 84,
    "start_time": "2022-07-06T11:44:54.598Z"
   },
   {
    "duration": 62,
    "start_time": "2022-07-06T11:44:54.684Z"
   },
   {
    "duration": 37,
    "start_time": "2022-07-06T11:44:54.748Z"
   },
   {
    "duration": 66,
    "start_time": "2022-07-06T11:44:54.787Z"
   },
   {
    "duration": 1036,
    "start_time": "2022-07-06T11:44:54.856Z"
   },
   {
    "duration": 11,
    "start_time": "2022-07-06T12:28:15.316Z"
   },
   {
    "duration": 59,
    "start_time": "2022-07-06T12:28:25.034Z"
   },
   {
    "duration": 2615,
    "start_time": "2022-07-06T12:28:32.293Z"
   },
   {
    "duration": 8,
    "start_time": "2022-07-06T12:30:31.973Z"
   },
   {
    "duration": 59,
    "start_time": "2022-07-06T12:30:37.573Z"
   },
   {
    "duration": 3462,
    "start_time": "2022-07-06T12:30:39.968Z"
   },
   {
    "duration": 9,
    "start_time": "2022-07-06T12:31:45.813Z"
   },
   {
    "duration": 38,
    "start_time": "2022-07-06T12:31:54.718Z"
   },
   {
    "duration": 4,
    "start_time": "2022-07-06T12:31:59.559Z"
   },
   {
    "duration": 23,
    "start_time": "2022-07-06T12:32:00.678Z"
   },
   {
    "duration": 178,
    "start_time": "2022-07-06T12:32:03.654Z"
   },
   {
    "duration": 53,
    "start_time": "2022-07-06T12:32:12.663Z"
   },
   {
    "duration": 3026,
    "start_time": "2022-07-06T12:32:14.312Z"
   },
   {
    "duration": 8,
    "start_time": "2022-07-06T12:33:26.351Z"
   },
   {
    "duration": 119,
    "start_time": "2022-07-06T12:33:40.517Z"
   },
   {
    "duration": 55,
    "start_time": "2022-07-06T12:33:52.865Z"
   },
   {
    "duration": 159,
    "start_time": "2022-07-06T12:33:55.379Z"
   },
   {
    "duration": 171,
    "start_time": "2022-07-06T12:33:59.868Z"
   },
   {
    "duration": 190,
    "start_time": "2022-07-06T12:35:29.781Z"
   },
   {
    "duration": 95,
    "start_time": "2022-07-06T16:13:22.139Z"
   },
   {
    "duration": 69,
    "start_time": "2022-07-06T16:14:41.865Z"
   },
   {
    "duration": 91,
    "start_time": "2022-07-06T16:14:58.770Z"
   },
   {
    "duration": 12,
    "start_time": "2022-07-06T16:15:05.199Z"
   },
   {
    "duration": 70,
    "start_time": "2022-07-06T16:15:15.474Z"
   },
   {
    "duration": 108,
    "start_time": "2022-07-06T16:15:50.202Z"
   },
   {
    "duration": 81,
    "start_time": "2022-07-06T16:16:10.883Z"
   },
   {
    "duration": 156,
    "start_time": "2022-07-06T16:16:16.503Z"
   },
   {
    "duration": 213,
    "start_time": "2022-07-06T16:16:42.567Z"
   },
   {
    "duration": 148,
    "start_time": "2022-07-06T16:16:52.506Z"
   },
   {
    "duration": 153,
    "start_time": "2022-07-06T16:17:03.396Z"
   },
   {
    "duration": 108,
    "start_time": "2022-07-06T16:17:48.139Z"
   },
   {
    "duration": 75,
    "start_time": "2022-07-06T16:18:15.939Z"
   },
   {
    "duration": 52,
    "start_time": "2022-07-06T16:22:41.098Z"
   },
   {
    "duration": 37,
    "start_time": "2022-07-07T04:56:48.671Z"
   },
   {
    "duration": 294,
    "start_time": "2022-07-07T04:58:20.510Z"
   },
   {
    "duration": 358,
    "start_time": "2022-07-07T05:01:23.191Z"
   },
   {
    "duration": 65,
    "start_time": "2022-07-07T05:04:03.938Z"
   },
   {
    "duration": 50,
    "start_time": "2022-07-07T05:04:11.427Z"
   },
   {
    "duration": 455,
    "start_time": "2022-07-07T05:04:19.530Z"
   },
   {
    "duration": 391,
    "start_time": "2022-07-07T05:04:36.391Z"
   },
   {
    "duration": 390,
    "start_time": "2022-07-07T05:05:29.924Z"
   },
   {
    "duration": 376,
    "start_time": "2022-07-07T05:05:51.495Z"
   },
   {
    "duration": 383,
    "start_time": "2022-07-07T05:07:19.383Z"
   },
   {
    "duration": 485,
    "start_time": "2022-07-07T05:08:24.031Z"
   },
   {
    "duration": 11,
    "start_time": "2022-07-07T05:08:50.430Z"
   },
   {
    "duration": 386,
    "start_time": "2022-07-07T05:09:46.119Z"
   },
   {
    "duration": 412,
    "start_time": "2022-07-07T05:10:24.312Z"
   },
   {
    "duration": 91,
    "start_time": "2022-07-07T05:15:19.161Z"
   },
   {
    "duration": 42,
    "start_time": "2022-07-07T05:15:31.278Z"
   },
   {
    "duration": 40,
    "start_time": "2022-07-07T05:16:33.859Z"
   },
   {
    "duration": 80,
    "start_time": "2022-07-07T05:22:46.233Z"
   },
   {
    "duration": 40,
    "start_time": "2022-07-07T05:23:10.993Z"
   },
   {
    "duration": 3,
    "start_time": "2022-07-07T05:25:44.999Z"
   },
   {
    "duration": 65,
    "start_time": "2022-07-07T05:27:31.881Z"
   },
   {
    "duration": 41,
    "start_time": "2022-07-07T05:27:51.378Z"
   },
   {
    "duration": 5,
    "start_time": "2022-07-07T05:29:42.971Z"
   },
   {
    "duration": 404,
    "start_time": "2022-07-07T05:32:57.371Z"
   },
   {
    "duration": 451,
    "start_time": "2022-07-07T05:33:05.610Z"
   },
   {
    "duration": 358,
    "start_time": "2022-07-07T05:49:18.130Z"
   },
   {
    "duration": 187,
    "start_time": "2022-07-07T05:55:50.922Z"
   },
   {
    "duration": 7,
    "start_time": "2022-07-07T05:56:02.387Z"
   },
   {
    "duration": 8,
    "start_time": "2022-07-07T05:57:31.746Z"
   },
   {
    "duration": 76,
    "start_time": "2022-07-07T05:59:03.483Z"
   },
   {
    "duration": 41,
    "start_time": "2022-07-07T05:59:13.034Z"
   },
   {
    "duration": 42,
    "start_time": "2022-07-07T05:59:17.514Z"
   },
   {
    "duration": 7,
    "start_time": "2022-07-07T06:00:09.659Z"
   },
   {
    "duration": 44,
    "start_time": "2022-07-07T06:00:26.609Z"
   },
   {
    "duration": 10,
    "start_time": "2022-07-07T06:03:02.578Z"
   },
   {
    "duration": 42,
    "start_time": "2022-07-07T06:03:11.274Z"
   },
   {
    "duration": 44,
    "start_time": "2022-07-07T06:06:20.857Z"
   },
   {
    "duration": 7,
    "start_time": "2022-07-07T06:06:44.675Z"
   },
   {
    "duration": 8,
    "start_time": "2022-07-07T06:06:50.939Z"
   },
   {
    "duration": 77,
    "start_time": "2022-07-07T06:07:34.419Z"
   },
   {
    "duration": 37,
    "start_time": "2022-07-07T06:07:48.171Z"
   },
   {
    "duration": 63,
    "start_time": "2022-07-07T06:11:34.150Z"
   },
   {
    "duration": 115,
    "start_time": "2022-07-07T06:13:06.314Z"
   },
   {
    "duration": 7,
    "start_time": "2022-07-07T06:13:18.941Z"
   },
   {
    "duration": 38,
    "start_time": "2022-07-07T06:13:36.605Z"
   },
   {
    "duration": 5,
    "start_time": "2022-07-07T06:13:46.069Z"
   },
   {
    "duration": 5,
    "start_time": "2022-07-07T06:14:05.077Z"
   },
   {
    "duration": 65,
    "start_time": "2022-07-07T06:50:32.880Z"
   },
   {
    "duration": 51,
    "start_time": "2022-07-07T06:50:39.608Z"
   },
   {
    "duration": 48,
    "start_time": "2022-07-07T06:51:20.557Z"
   },
   {
    "duration": 41,
    "start_time": "2022-07-07T06:52:20.897Z"
   },
   {
    "duration": 48,
    "start_time": "2022-07-07T06:53:55.762Z"
   },
   {
    "duration": 46,
    "start_time": "2022-07-07T06:55:59.302Z"
   },
   {
    "duration": 65,
    "start_time": "2022-07-07T07:02:22.398Z"
   },
   {
    "duration": 54,
    "start_time": "2022-07-07T07:22:06.360Z"
   },
   {
    "duration": 13,
    "start_time": "2022-07-07T08:25:00.937Z"
   },
   {
    "duration": 14,
    "start_time": "2022-07-07T08:34:20.906Z"
   },
   {
    "duration": 10,
    "start_time": "2022-07-07T09:11:53.850Z"
   },
   {
    "duration": 19,
    "start_time": "2022-07-07T09:14:26.969Z"
   },
   {
    "duration": 44,
    "start_time": "2022-07-07T09:14:26.990Z"
   },
   {
    "duration": 1046,
    "start_time": "2022-07-07T09:14:27.036Z"
   },
   {
    "duration": 8,
    "start_time": "2022-07-07T09:14:28.085Z"
   },
   {
    "duration": 118,
    "start_time": "2022-07-07T09:14:28.095Z"
   },
   {
    "duration": 14,
    "start_time": "2022-07-07T09:14:28.215Z"
   },
   {
    "duration": 49,
    "start_time": "2022-07-07T09:14:28.231Z"
   },
   {
    "duration": 39,
    "start_time": "2022-07-07T09:14:28.281Z"
   },
   {
    "duration": 16,
    "start_time": "2022-07-07T09:14:28.323Z"
   },
   {
    "duration": 9,
    "start_time": "2022-07-07T09:14:28.341Z"
   },
   {
    "duration": 180,
    "start_time": "2022-07-07T09:14:28.351Z"
   },
   {
    "duration": 22,
    "start_time": "2022-07-07T09:14:28.532Z"
   },
   {
    "duration": 129,
    "start_time": "2022-07-07T09:14:28.555Z"
   },
   {
    "duration": 32,
    "start_time": "2022-07-07T09:14:28.686Z"
   },
   {
    "duration": 33,
    "start_time": "2022-07-07T09:14:28.719Z"
   },
   {
    "duration": 112,
    "start_time": "2022-07-07T09:14:28.753Z"
   },
   {
    "duration": 14,
    "start_time": "2022-07-07T09:14:28.867Z"
   },
   {
    "duration": 219,
    "start_time": "2022-07-07T09:14:28.882Z"
   },
   {
    "duration": 192,
    "start_time": "2022-07-07T09:14:29.104Z"
   },
   {
    "duration": 115,
    "start_time": "2022-07-07T09:14:29.297Z"
   },
   {
    "duration": 23,
    "start_time": "2022-07-07T09:14:29.414Z"
   },
   {
    "duration": 34,
    "start_time": "2022-07-07T09:14:29.438Z"
   },
   {
    "duration": 51,
    "start_time": "2022-07-07T09:14:29.474Z"
   },
   {
    "duration": 53,
    "start_time": "2022-07-07T09:14:29.527Z"
   },
   {
    "duration": 207,
    "start_time": "2022-07-07T09:14:29.582Z"
   },
   {
    "duration": 140,
    "start_time": "2022-07-07T09:14:29.790Z"
   },
   {
    "duration": 22,
    "start_time": "2022-07-07T09:14:29.931Z"
   },
   {
    "duration": 68,
    "start_time": "2022-07-07T09:14:29.956Z"
   },
   {
    "duration": 32,
    "start_time": "2022-07-07T09:14:30.026Z"
   },
   {
    "duration": 63,
    "start_time": "2022-07-07T09:14:30.060Z"
   },
   {
    "duration": 213,
    "start_time": "2022-07-07T09:14:30.126Z"
   },
   {
    "duration": 205,
    "start_time": "2022-07-07T09:14:30.341Z"
   },
   {
    "duration": 39,
    "start_time": "2022-07-07T09:14:30.548Z"
   },
   {
    "duration": 11,
    "start_time": "2022-07-07T09:14:30.589Z"
   },
   {
    "duration": 12,
    "start_time": "2022-07-07T09:14:30.602Z"
   },
   {
    "duration": 116,
    "start_time": "2022-07-07T09:14:30.616Z"
   },
   {
    "duration": 208,
    "start_time": "2022-07-07T09:14:30.734Z"
   },
   {
    "duration": 91,
    "start_time": "2022-07-07T09:14:30.944Z"
   },
   {
    "duration": 51,
    "start_time": "2022-07-07T09:14:31.036Z"
   },
   {
    "duration": 48,
    "start_time": "2022-07-07T09:14:31.088Z"
   },
   {
    "duration": 70,
    "start_time": "2022-07-07T09:14:31.138Z"
   },
   {
    "duration": 203,
    "start_time": "2022-07-07T09:14:31.211Z"
   },
   {
    "duration": 88,
    "start_time": "2022-07-07T09:14:31.416Z"
   },
   {
    "duration": 61,
    "start_time": "2022-07-07T09:14:31.506Z"
   },
   {
    "duration": 476,
    "start_time": "2022-07-07T09:14:31.568Z"
   },
   {
    "duration": 47,
    "start_time": "2022-07-07T09:14:32.046Z"
   },
   {
    "duration": 6,
    "start_time": "2022-07-07T09:14:32.095Z"
   },
   {
    "duration": 2,
    "start_time": "2022-07-07T09:19:00.949Z"
   },
   {
    "duration": 21,
    "start_time": "2022-07-07T09:19:20.479Z"
   },
   {
    "duration": 47,
    "start_time": "2022-07-07T09:19:20.503Z"
   },
   {
    "duration": 1160,
    "start_time": "2022-07-07T09:19:20.552Z"
   },
   {
    "duration": 4,
    "start_time": "2022-07-07T09:19:21.714Z"
   },
   {
    "duration": 26,
    "start_time": "2022-07-07T09:19:21.720Z"
   },
   {
    "duration": 100,
    "start_time": "2022-07-07T09:19:21.748Z"
   },
   {
    "duration": 14,
    "start_time": "2022-07-07T09:19:21.850Z"
   },
   {
    "duration": 9,
    "start_time": "2022-07-07T09:19:21.866Z"
   },
   {
    "duration": 43,
    "start_time": "2022-07-07T09:19:21.876Z"
   },
   {
    "duration": 17,
    "start_time": "2022-07-07T09:19:21.921Z"
   },
   {
    "duration": 6,
    "start_time": "2022-07-07T09:19:21.939Z"
   },
   {
    "duration": 173,
    "start_time": "2022-07-07T09:19:21.947Z"
   },
   {
    "duration": 25,
    "start_time": "2022-07-07T09:19:22.121Z"
   },
   {
    "duration": 161,
    "start_time": "2022-07-07T09:19:22.147Z"
   },
   {
    "duration": 32,
    "start_time": "2022-07-07T09:19:22.310Z"
   },
   {
    "duration": 34,
    "start_time": "2022-07-07T09:19:22.344Z"
   },
   {
    "duration": 132,
    "start_time": "2022-07-07T09:19:22.380Z"
   },
   {
    "duration": 10,
    "start_time": "2022-07-07T09:19:22.514Z"
   },
   {
    "duration": 213,
    "start_time": "2022-07-07T09:19:22.526Z"
   },
   {
    "duration": 199,
    "start_time": "2022-07-07T09:19:22.742Z"
   },
   {
    "duration": 109,
    "start_time": "2022-07-07T09:19:22.943Z"
   },
   {
    "duration": 23,
    "start_time": "2022-07-07T09:19:23.053Z"
   },
   {
    "duration": 48,
    "start_time": "2022-07-07T09:19:23.078Z"
   },
   {
    "duration": 30,
    "start_time": "2022-07-07T09:19:23.128Z"
   },
   {
    "duration": 72,
    "start_time": "2022-07-07T09:19:23.159Z"
   },
   {
    "duration": 206,
    "start_time": "2022-07-07T09:19:23.233Z"
   },
   {
    "duration": 129,
    "start_time": "2022-07-07T09:19:23.441Z"
   },
   {
    "duration": 18,
    "start_time": "2022-07-07T09:19:23.572Z"
   },
   {
    "duration": 47,
    "start_time": "2022-07-07T09:19:23.603Z"
   },
   {
    "duration": 30,
    "start_time": "2022-07-07T09:19:23.652Z"
   },
   {
    "duration": 58,
    "start_time": "2022-07-07T09:19:23.684Z"
   },
   {
    "duration": 189,
    "start_time": "2022-07-07T09:19:23.744Z"
   },
   {
    "duration": 195,
    "start_time": "2022-07-07T09:19:23.935Z"
   },
   {
    "duration": 38,
    "start_time": "2022-07-07T09:19:24.132Z"
   },
   {
    "duration": 10,
    "start_time": "2022-07-07T09:19:24.171Z"
   },
   {
    "duration": 9,
    "start_time": "2022-07-07T09:19:24.183Z"
   },
   {
    "duration": 106,
    "start_time": "2022-07-07T09:19:24.193Z"
   },
   {
    "duration": 115,
    "start_time": "2022-07-07T09:19:24.303Z"
   },
   {
    "duration": 74,
    "start_time": "2022-07-07T09:19:24.419Z"
   },
   {
    "duration": 48,
    "start_time": "2022-07-07T09:19:24.494Z"
   },
   {
    "duration": 36,
    "start_time": "2022-07-07T09:19:24.544Z"
   },
   {
    "duration": 68,
    "start_time": "2022-07-07T09:19:24.581Z"
   },
   {
    "duration": 173,
    "start_time": "2022-07-07T09:19:24.651Z"
   },
   {
    "duration": 80,
    "start_time": "2022-07-07T09:19:24.826Z"
   },
   {
    "duration": 51,
    "start_time": "2022-07-07T09:19:24.907Z"
   },
   {
    "duration": 431,
    "start_time": "2022-07-07T09:19:24.959Z"
   },
   {
    "duration": 48,
    "start_time": "2022-07-07T09:19:25.392Z"
   },
   {
    "duration": 7,
    "start_time": "2022-07-07T09:19:25.442Z"
   },
   {
    "duration": 19,
    "start_time": "2022-07-07T09:21:12.976Z"
   },
   {
    "duration": 41,
    "start_time": "2022-07-07T09:21:12.996Z"
   },
   {
    "duration": 1041,
    "start_time": "2022-07-07T09:21:13.039Z"
   },
   {
    "duration": 4,
    "start_time": "2022-07-07T09:21:14.082Z"
   },
   {
    "duration": 8,
    "start_time": "2022-07-07T09:21:14.087Z"
   },
   {
    "duration": 95,
    "start_time": "2022-07-07T09:21:14.097Z"
   },
   {
    "duration": 13,
    "start_time": "2022-07-07T09:21:14.193Z"
   },
   {
    "duration": 58,
    "start_time": "2022-07-07T09:21:14.208Z"
   },
   {
    "duration": 43,
    "start_time": "2022-07-07T09:21:14.268Z"
   },
   {
    "duration": 12,
    "start_time": "2022-07-07T09:21:14.313Z"
   },
   {
    "duration": 11,
    "start_time": "2022-07-07T09:21:14.326Z"
   },
   {
    "duration": 157,
    "start_time": "2022-07-07T09:21:14.339Z"
   },
   {
    "duration": 21,
    "start_time": "2022-07-07T09:21:14.503Z"
   },
   {
    "duration": 124,
    "start_time": "2022-07-07T09:21:14.526Z"
   },
   {
    "duration": 32,
    "start_time": "2022-07-07T09:21:14.652Z"
   },
   {
    "duration": 48,
    "start_time": "2022-07-07T09:21:14.685Z"
   },
   {
    "duration": 109,
    "start_time": "2022-07-07T09:21:14.735Z"
   },
   {
    "duration": 10,
    "start_time": "2022-07-07T09:21:14.846Z"
   },
   {
    "duration": 201,
    "start_time": "2022-07-07T09:21:14.858Z"
   },
   {
    "duration": 182,
    "start_time": "2022-07-07T09:21:15.060Z"
   },
   {
    "duration": 110,
    "start_time": "2022-07-07T09:21:15.243Z"
   },
   {
    "duration": 20,
    "start_time": "2022-07-07T09:21:15.355Z"
   },
   {
    "duration": 47,
    "start_time": "2022-07-07T09:21:15.377Z"
   },
   {
    "duration": 28,
    "start_time": "2022-07-07T09:21:15.426Z"
   },
   {
    "duration": 62,
    "start_time": "2022-07-07T09:21:15.456Z"
   },
   {
    "duration": 188,
    "start_time": "2022-07-07T09:21:15.520Z"
   },
   {
    "duration": 135,
    "start_time": "2022-07-07T09:21:15.710Z"
   },
   {
    "duration": 19,
    "start_time": "2022-07-07T09:21:15.848Z"
   },
   {
    "duration": 61,
    "start_time": "2022-07-07T09:21:15.869Z"
   },
   {
    "duration": 29,
    "start_time": "2022-07-07T09:21:15.931Z"
   },
   {
    "duration": 58,
    "start_time": "2022-07-07T09:21:15.961Z"
   },
   {
    "duration": 192,
    "start_time": "2022-07-07T09:21:16.020Z"
   },
   {
    "duration": 200,
    "start_time": "2022-07-07T09:21:16.214Z"
   },
   {
    "duration": 38,
    "start_time": "2022-07-07T09:21:16.415Z"
   },
   {
    "duration": 21,
    "start_time": "2022-07-07T09:21:16.455Z"
   },
   {
    "duration": 4,
    "start_time": "2022-07-07T09:21:16.482Z"
   },
   {
    "duration": 106,
    "start_time": "2022-07-07T09:21:16.487Z"
   },
   {
    "duration": 128,
    "start_time": "2022-07-07T09:21:16.596Z"
   },
   {
    "duration": 87,
    "start_time": "2022-07-07T09:21:16.726Z"
   },
   {
    "duration": 47,
    "start_time": "2022-07-07T09:21:16.815Z"
   },
   {
    "duration": 55,
    "start_time": "2022-07-07T09:21:16.864Z"
   },
   {
    "duration": 56,
    "start_time": "2022-07-07T09:21:16.920Z"
   },
   {
    "duration": 196,
    "start_time": "2022-07-07T09:21:16.978Z"
   },
   {
    "duration": 78,
    "start_time": "2022-07-07T09:21:17.176Z"
   },
   {
    "duration": 66,
    "start_time": "2022-07-07T09:21:17.256Z"
   },
   {
    "duration": 408,
    "start_time": "2022-07-07T09:21:17.324Z"
   },
   {
    "duration": 39,
    "start_time": "2022-07-07T09:21:17.734Z"
   },
   {
    "duration": 5,
    "start_time": "2022-07-07T09:21:17.774Z"
   },
   {
    "duration": 463,
    "start_time": "2022-07-07T09:27:16.699Z"
   },
   {
    "duration": 431,
    "start_time": "2022-07-07T09:27:30.666Z"
   },
   {
    "duration": 456,
    "start_time": "2022-07-07T09:27:45.971Z"
   },
   {
    "duration": 546,
    "start_time": "2022-07-07T09:31:53.888Z"
   },
   {
    "duration": 453,
    "start_time": "2022-07-07T09:32:08.771Z"
   },
   {
    "duration": 470,
    "start_time": "2022-07-07T09:32:29.646Z"
   },
   {
    "duration": 96,
    "start_time": "2022-07-07T09:34:18.344Z"
   },
   {
    "duration": 10,
    "start_time": "2022-07-07T09:34:27.852Z"
   },
   {
    "duration": 5,
    "start_time": "2022-07-07T09:34:32.812Z"
   },
   {
    "duration": 5,
    "start_time": "2022-07-07T09:34:55.240Z"
   },
   {
    "duration": 411,
    "start_time": "2022-07-07T09:35:21.611Z"
   },
   {
    "duration": 401,
    "start_time": "2022-07-07T09:38:56.308Z"
   },
   {
    "duration": 581,
    "start_time": "2022-07-07T09:39:06.345Z"
   },
   {
    "duration": 422,
    "start_time": "2022-07-07T09:39:14.649Z"
   },
   {
    "duration": 65,
    "start_time": "2022-07-07T09:40:10.148Z"
   },
   {
    "duration": 41,
    "start_time": "2022-07-07T09:41:25.252Z"
   },
   {
    "duration": 44,
    "start_time": "2022-07-07T09:41:35.050Z"
   },
   {
    "duration": 399,
    "start_time": "2022-07-07T10:02:51.130Z"
   },
   {
    "duration": 438,
    "start_time": "2022-07-07T10:03:18.806Z"
   },
   {
    "duration": 44,
    "start_time": "2022-07-07T10:23:26.730Z"
   },
   {
    "duration": 38,
    "start_time": "2022-07-07T10:23:41.745Z"
   },
   {
    "duration": 68,
    "start_time": "2022-07-07T10:23:59.503Z"
   },
   {
    "duration": 42,
    "start_time": "2022-07-07T10:29:03.041Z"
   },
   {
    "duration": 65,
    "start_time": "2022-07-07T10:29:41.336Z"
   },
   {
    "duration": 40,
    "start_time": "2022-07-07T10:30:39.666Z"
   },
   {
    "duration": 44,
    "start_time": "2022-07-07T10:31:09.392Z"
   },
   {
    "duration": 48,
    "start_time": "2022-07-07T10:31:45.975Z"
   },
   {
    "duration": 40,
    "start_time": "2022-07-07T10:32:39.846Z"
   },
   {
    "duration": 41,
    "start_time": "2022-07-07T10:37:26.308Z"
   },
   {
    "duration": 40,
    "start_time": "2022-07-07T10:38:07.027Z"
   },
   {
    "duration": 39,
    "start_time": "2022-07-07T10:38:17.785Z"
   },
   {
    "duration": 50,
    "start_time": "2022-07-07T10:38:48.037Z"
   },
   {
    "duration": 42,
    "start_time": "2022-07-07T10:39:42.637Z"
   },
   {
    "duration": 43,
    "start_time": "2022-07-07T10:39:59.126Z"
   },
   {
    "duration": 86,
    "start_time": "2022-07-07T10:40:21.826Z"
   },
   {
    "duration": 64,
    "start_time": "2022-07-07T10:40:32.505Z"
   },
   {
    "duration": 60,
    "start_time": "2022-07-07T10:51:02.683Z"
   },
   {
    "duration": 49,
    "start_time": "2022-07-07T10:51:43.433Z"
   },
   {
    "duration": 44,
    "start_time": "2022-07-07T10:52:45.826Z"
   },
   {
    "duration": 134,
    "start_time": "2022-07-07T10:53:19.898Z"
   },
   {
    "duration": 54,
    "start_time": "2022-07-07T10:53:49.425Z"
   },
   {
    "duration": 54,
    "start_time": "2022-07-07T10:54:04.801Z"
   },
   {
    "duration": 47,
    "start_time": "2022-07-07T10:54:23.697Z"
   },
   {
    "duration": 73,
    "start_time": "2022-07-07T10:54:39.106Z"
   },
   {
    "duration": 46,
    "start_time": "2022-07-07T11:07:33.246Z"
   },
   {
    "duration": 45,
    "start_time": "2022-07-07T11:07:43.642Z"
   },
   {
    "duration": 50,
    "start_time": "2022-07-07T11:08:24.829Z"
   },
   {
    "duration": 45,
    "start_time": "2022-07-07T11:08:51.907Z"
   },
   {
    "duration": 45,
    "start_time": "2022-07-07T11:10:52.260Z"
   },
   {
    "duration": 47,
    "start_time": "2022-07-07T11:11:28.339Z"
   },
   {
    "duration": 45,
    "start_time": "2022-07-07T11:11:38.863Z"
   },
   {
    "duration": 76,
    "start_time": "2022-07-07T11:12:25.545Z"
   },
   {
    "duration": 45,
    "start_time": "2022-07-07T11:13:57.852Z"
   },
   {
    "duration": 71,
    "start_time": "2022-07-07T12:00:27.877Z"
   },
   {
    "duration": 53,
    "start_time": "2022-07-07T12:02:34.488Z"
   },
   {
    "duration": 402,
    "start_time": "2022-07-07T12:08:02.007Z"
   },
   {
    "duration": 41,
    "start_time": "2022-07-07T12:08:44.454Z"
   },
   {
    "duration": 561,
    "start_time": "2022-07-07T12:10:00.599Z"
   },
   {
    "duration": 43,
    "start_time": "2022-07-07T12:10:30.472Z"
   },
   {
    "duration": 393,
    "start_time": "2022-07-07T12:11:44.350Z"
   },
   {
    "duration": 418,
    "start_time": "2022-07-07T12:12:04.504Z"
   },
   {
    "duration": 434,
    "start_time": "2022-07-07T12:12:19.157Z"
   },
   {
    "duration": 409,
    "start_time": "2022-07-07T12:12:27.643Z"
   },
   {
    "duration": 406,
    "start_time": "2022-07-07T12:12:41.752Z"
   },
   {
    "duration": 509,
    "start_time": "2022-07-07T12:12:56.043Z"
   },
   {
    "duration": 48,
    "start_time": "2022-07-07T12:13:36.521Z"
   },
   {
    "duration": 45,
    "start_time": "2022-07-07T12:15:08.279Z"
   },
   {
    "duration": 45,
    "start_time": "2022-07-07T12:16:13.896Z"
   },
   {
    "duration": 79,
    "start_time": "2022-07-07T12:21:04.398Z"
   },
   {
    "duration": 53,
    "start_time": "2022-07-07T12:21:13.736Z"
   },
   {
    "duration": 48,
    "start_time": "2022-07-07T12:21:42.119Z"
   },
   {
    "duration": 43,
    "start_time": "2022-07-07T12:31:48.764Z"
   },
   {
    "duration": 4,
    "start_time": "2022-07-07T12:35:41.523Z"
   },
   {
    "duration": 12,
    "start_time": "2022-07-07T12:42:07.902Z"
   },
   {
    "duration": 638,
    "start_time": "2022-07-07T12:43:47.607Z"
   },
   {
    "duration": 627,
    "start_time": "2022-07-07T12:44:08.087Z"
   },
   {
    "duration": 849,
    "start_time": "2022-07-07T12:44:16.000Z"
   },
   {
    "duration": 605,
    "start_time": "2022-07-07T12:44:22.572Z"
   },
   {
    "duration": 67,
    "start_time": "2022-07-07T12:46:55.794Z"
   },
   {
    "duration": 2,
    "start_time": "2022-07-07T12:48:11.296Z"
   },
   {
    "duration": 453,
    "start_time": "2022-07-07T12:52:07.870Z"
   },
   {
    "duration": 568,
    "start_time": "2022-07-07T12:52:13.881Z"
   },
   {
    "duration": 435,
    "start_time": "2022-07-07T12:52:24.343Z"
   },
   {
    "duration": 1367,
    "start_time": "2022-07-07T12:53:46.392Z"
   },
   {
    "duration": 1416,
    "start_time": "2022-07-07T12:54:21.664Z"
   },
   {
    "duration": 1277,
    "start_time": "2022-07-07T12:55:59.759Z"
   },
   {
    "duration": 1312,
    "start_time": "2022-07-07T12:56:30.264Z"
   },
   {
    "duration": 71,
    "start_time": "2022-07-07T12:57:00.729Z"
   },
   {
    "duration": 68,
    "start_time": "2022-07-07T12:57:04.721Z"
   },
   {
    "duration": 429,
    "start_time": "2022-07-07T12:57:08.777Z"
   },
   {
    "duration": 40,
    "start_time": "2022-07-07T12:57:12.042Z"
   },
   {
    "duration": 432,
    "start_time": "2022-07-07T12:57:14.706Z"
   },
   {
    "duration": 44,
    "start_time": "2022-07-07T12:57:18.233Z"
   },
   {
    "duration": 406,
    "start_time": "2022-07-07T12:57:21.916Z"
   },
   {
    "duration": 43,
    "start_time": "2022-07-07T12:57:25.818Z"
   },
   {
    "duration": 510,
    "start_time": "2022-07-07T12:57:28.624Z"
   },
   {
    "duration": 13,
    "start_time": "2022-07-07T12:57:32.039Z"
   },
   {
    "duration": 12,
    "start_time": "2022-07-07T12:58:03.274Z"
   },
   {
    "duration": 795,
    "start_time": "2022-07-07T12:58:19.066Z"
   },
   {
    "duration": 66,
    "start_time": "2022-07-07T13:00:55.281Z"
   },
   {
    "duration": 95,
    "start_time": "2022-07-07T13:01:16.559Z"
   },
   {
    "duration": 375,
    "start_time": "2022-07-07T13:02:44.037Z"
   },
   {
    "duration": 518,
    "start_time": "2022-07-07T13:02:57.212Z"
   },
   {
    "duration": 389,
    "start_time": "2022-07-07T13:03:07.979Z"
   },
   {
    "duration": 1289,
    "start_time": "2022-07-07T13:04:52.170Z"
   },
   {
    "duration": 19,
    "start_time": "2022-07-07T13:05:20.884Z"
   },
   {
    "duration": 47,
    "start_time": "2022-07-07T13:05:20.905Z"
   },
   {
    "duration": 1142,
    "start_time": "2022-07-07T13:05:20.954Z"
   },
   {
    "duration": 4,
    "start_time": "2022-07-07T13:05:22.098Z"
   },
   {
    "duration": 11,
    "start_time": "2022-07-07T13:05:22.103Z"
   },
   {
    "duration": 109,
    "start_time": "2022-07-07T13:05:22.116Z"
   },
   {
    "duration": 13,
    "start_time": "2022-07-07T13:05:22.227Z"
   },
   {
    "duration": 10,
    "start_time": "2022-07-07T13:05:22.242Z"
   },
   {
    "duration": 54,
    "start_time": "2022-07-07T13:05:22.253Z"
   },
   {
    "duration": 12,
    "start_time": "2022-07-07T13:05:22.309Z"
   },
   {
    "duration": 10,
    "start_time": "2022-07-07T13:05:22.323Z"
   },
   {
    "duration": 183,
    "start_time": "2022-07-07T13:05:22.335Z"
   },
   {
    "duration": 24,
    "start_time": "2022-07-07T13:05:22.520Z"
   },
   {
    "duration": 142,
    "start_time": "2022-07-07T13:05:22.546Z"
   },
   {
    "duration": 40,
    "start_time": "2022-07-07T13:05:22.690Z"
   },
   {
    "duration": 37,
    "start_time": "2022-07-07T13:05:22.732Z"
   },
   {
    "duration": 126,
    "start_time": "2022-07-07T13:05:22.771Z"
   },
   {
    "duration": 11,
    "start_time": "2022-07-07T13:05:22.904Z"
   },
   {
    "duration": 207,
    "start_time": "2022-07-07T13:05:22.916Z"
   },
   {
    "duration": 192,
    "start_time": "2022-07-07T13:05:23.124Z"
   },
   {
    "duration": 117,
    "start_time": "2022-07-07T13:05:23.318Z"
   },
   {
    "duration": 22,
    "start_time": "2022-07-07T13:05:23.437Z"
   },
   {
    "duration": 59,
    "start_time": "2022-07-07T13:05:23.461Z"
   },
   {
    "duration": 33,
    "start_time": "2022-07-07T13:05:23.521Z"
   },
   {
    "duration": 76,
    "start_time": "2022-07-07T13:05:23.556Z"
   },
   {
    "duration": 204,
    "start_time": "2022-07-07T13:05:23.634Z"
   },
   {
    "duration": 145,
    "start_time": "2022-07-07T13:05:23.840Z"
   },
   {
    "duration": 29,
    "start_time": "2022-07-07T13:05:23.989Z"
   },
   {
    "duration": 54,
    "start_time": "2022-07-07T13:05:24.019Z"
   },
   {
    "duration": 40,
    "start_time": "2022-07-07T13:05:24.075Z"
   },
   {
    "duration": 49,
    "start_time": "2022-07-07T13:05:24.117Z"
   },
   {
    "duration": 215,
    "start_time": "2022-07-07T13:05:24.168Z"
   },
   {
    "duration": 222,
    "start_time": "2022-07-07T13:05:24.385Z"
   },
   {
    "duration": 40,
    "start_time": "2022-07-07T13:05:24.608Z"
   },
   {
    "duration": 11,
    "start_time": "2022-07-07T13:05:24.649Z"
   },
   {
    "duration": 8,
    "start_time": "2022-07-07T13:05:24.661Z"
   },
   {
    "duration": 108,
    "start_time": "2022-07-07T13:05:24.670Z"
   },
   {
    "duration": 113,
    "start_time": "2022-07-07T13:05:24.780Z"
   },
   {
    "duration": 86,
    "start_time": "2022-07-07T13:05:24.895Z"
   },
   {
    "duration": 68,
    "start_time": "2022-07-07T13:05:24.983Z"
   },
   {
    "duration": 42,
    "start_time": "2022-07-07T13:05:25.052Z"
   },
   {
    "duration": 56,
    "start_time": "2022-07-07T13:05:25.105Z"
   },
   {
    "duration": 215,
    "start_time": "2022-07-07T13:05:25.162Z"
   },
   {
    "duration": 91,
    "start_time": "2022-07-07T13:05:25.379Z"
   },
   {
    "duration": 88,
    "start_time": "2022-07-07T13:05:25.471Z"
   },
   {
    "duration": 458,
    "start_time": "2022-07-07T13:05:25.561Z"
   },
   {
    "duration": 58,
    "start_time": "2022-07-07T13:05:26.021Z"
   },
   {
    "duration": 468,
    "start_time": "2022-07-07T13:05:26.080Z"
   },
   {
    "duration": 41,
    "start_time": "2022-07-07T13:05:26.550Z"
   },
   {
    "duration": 504,
    "start_time": "2022-07-07T13:05:26.593Z"
   },
   {
    "duration": 42,
    "start_time": "2022-07-07T13:05:27.104Z"
   },
   {
    "duration": 429,
    "start_time": "2022-07-07T13:05:27.148Z"
   },
   {
    "duration": 1026,
    "start_time": "2022-07-07T13:05:27.579Z"
   },
   {
    "duration": 49,
    "start_time": "2022-07-07T13:05:28.607Z"
   },
   {
    "duration": 71,
    "start_time": "2022-07-07T13:05:28.658Z"
   },
   {
    "duration": 85,
    "start_time": "2022-07-07T13:05:28.731Z"
   },
   {
    "duration": 398,
    "start_time": "2022-07-07T13:05:28.818Z"
   },
   {
    "duration": 44,
    "start_time": "2022-07-07T13:05:29.218Z"
   },
   {
    "duration": 397,
    "start_time": "2022-07-07T13:05:29.264Z"
   },
   {
    "duration": 51,
    "start_time": "2022-07-07T13:05:29.663Z"
   },
   {
    "duration": 524,
    "start_time": "2022-07-07T13:05:29.717Z"
   },
   {
    "duration": 43,
    "start_time": "2022-07-07T13:05:30.243Z"
   },
   {
    "duration": 370,
    "start_time": "2022-07-07T13:05:30.288Z"
   },
   {
    "duration": 845,
    "start_time": "2022-07-07T13:05:30.660Z"
   },
   {
    "duration": 45,
    "start_time": "2022-07-07T13:05:31.508Z"
   },
   {
    "duration": 47,
    "start_time": "2022-07-07T13:07:17.949Z"
   },
   {
    "duration": 46,
    "start_time": "2022-07-07T13:07:58.100Z"
   },
   {
    "duration": 45,
    "start_time": "2022-07-07T13:50:18.753Z"
   },
   {
    "duration": 97,
    "start_time": "2022-07-08T03:06:03.007Z"
   },
   {
    "duration": 57,
    "start_time": "2022-07-08T03:11:23.549Z"
   },
   {
    "duration": 49,
    "start_time": "2022-07-08T03:11:57.972Z"
   },
   {
    "duration": 420,
    "start_time": "2022-07-08T03:13:00.384Z"
   },
   {
    "duration": 51,
    "start_time": "2022-07-08T03:14:24.420Z"
   },
   {
    "duration": 519,
    "start_time": "2022-07-08T03:15:01.332Z"
   },
   {
    "duration": 402,
    "start_time": "2022-07-08T03:15:07.875Z"
   },
   {
    "duration": 355,
    "start_time": "2022-07-08T03:15:20.611Z"
   },
   {
    "duration": 95,
    "start_time": "2022-07-08T03:16:26.206Z"
   },
   {
    "duration": 122,
    "start_time": "2022-07-08T03:16:56.338Z"
   },
   {
    "duration": 121,
    "start_time": "2022-07-08T03:19:22.999Z"
   },
   {
    "duration": 92,
    "start_time": "2022-07-08T03:29:40.454Z"
   },
   {
    "duration": 138,
    "start_time": "2022-07-08T03:29:47.308Z"
   },
   {
    "duration": 53,
    "start_time": "2022-07-08T03:29:50.972Z"
   },
   {
    "duration": 8,
    "start_time": "2022-07-08T03:30:18.389Z"
   },
   {
    "duration": 49,
    "start_time": "2022-07-08T03:30:41.412Z"
   },
   {
    "duration": 69,
    "start_time": "2022-07-08T03:31:19.871Z"
   },
   {
    "duration": 63,
    "start_time": "2022-07-08T03:32:26.838Z"
   },
   {
    "duration": 39,
    "start_time": "2022-07-08T03:32:36.972Z"
   },
   {
    "duration": 66,
    "start_time": "2022-07-08T03:33:30.205Z"
   },
   {
    "duration": 72,
    "start_time": "2022-07-08T03:33:57.648Z"
   },
   {
    "duration": 71,
    "start_time": "2022-07-08T03:34:56.077Z"
   },
   {
    "duration": 98,
    "start_time": "2022-07-08T03:35:06.973Z"
   },
   {
    "duration": 93,
    "start_time": "2022-07-08T03:35:36.477Z"
   },
   {
    "duration": 13,
    "start_time": "2022-07-08T03:53:44.992Z"
   },
   {
    "duration": 1176,
    "start_time": "2022-07-08T03:54:12.943Z"
   },
   {
    "duration": 116,
    "start_time": "2022-07-08T03:59:21.183Z"
   },
   {
    "duration": 74,
    "start_time": "2022-07-08T03:59:35.177Z"
   },
   {
    "duration": 107,
    "start_time": "2022-07-08T04:00:00.488Z"
   },
   {
    "duration": 84,
    "start_time": "2022-07-08T04:00:14.560Z"
   },
   {
    "duration": 80,
    "start_time": "2022-07-08T04:03:01.860Z"
   },
   {
    "duration": 85,
    "start_time": "2022-07-08T04:04:21.646Z"
   },
   {
    "duration": 11,
    "start_time": "2022-07-08T04:07:21.241Z"
   },
   {
    "duration": 105,
    "start_time": "2022-07-08T04:07:57.845Z"
   },
   {
    "duration": 68,
    "start_time": "2022-07-08T04:08:38.660Z"
   },
   {
    "duration": 68,
    "start_time": "2022-07-08T04:10:14.673Z"
   },
   {
    "duration": 15,
    "start_time": "2022-07-08T04:11:45.104Z"
   },
   {
    "duration": 85,
    "start_time": "2022-07-08T04:12:22.723Z"
   },
   {
    "duration": 87,
    "start_time": "2022-07-08T04:13:42.881Z"
   },
   {
    "duration": 89,
    "start_time": "2022-07-08T04:14:00.778Z"
   },
   {
    "duration": 15,
    "start_time": "2022-07-08T04:14:12.002Z"
   },
   {
    "duration": 107,
    "start_time": "2022-07-08T04:14:37.245Z"
   },
   {
    "duration": 85,
    "start_time": "2022-07-08T04:15:28.786Z"
   },
   {
    "duration": 84,
    "start_time": "2022-07-08T04:21:14.587Z"
   },
   {
    "duration": 104,
    "start_time": "2022-07-08T04:25:38.575Z"
   },
   {
    "duration": 100,
    "start_time": "2022-07-08T04:26:29.580Z"
   },
   {
    "duration": 52,
    "start_time": "2022-07-08T04:31:22.015Z"
   },
   {
    "duration": 78,
    "start_time": "2022-07-08T04:31:42.504Z"
   },
   {
    "duration": 170,
    "start_time": "2022-07-08T04:32:12.755Z"
   },
   {
    "duration": 68,
    "start_time": "2022-07-08T04:33:01.668Z"
   },
   {
    "duration": 15,
    "start_time": "2022-07-08T04:33:42.478Z"
   },
   {
    "duration": 11,
    "start_time": "2022-07-08T04:34:50.261Z"
   },
   {
    "duration": 10,
    "start_time": "2022-07-08T04:35:12.871Z"
   },
   {
    "duration": 10,
    "start_time": "2022-07-08T04:35:33.981Z"
   },
   {
    "duration": 9,
    "start_time": "2022-07-08T04:38:13.495Z"
   },
   {
    "duration": 52,
    "start_time": "2022-07-08T04:38:27.760Z"
   },
   {
    "duration": 64,
    "start_time": "2022-07-08T04:38:30.754Z"
   },
   {
    "duration": 49,
    "start_time": "2022-07-08T04:38:51.626Z"
   },
   {
    "duration": 56,
    "start_time": "2022-07-08T04:38:54.088Z"
   },
   {
    "duration": 20,
    "start_time": "2022-07-08T04:39:50.495Z"
   },
   {
    "duration": 53,
    "start_time": "2022-07-08T04:39:53.911Z"
   },
   {
    "duration": 50,
    "start_time": "2022-07-08T04:39:57.032Z"
   },
   {
    "duration": 51,
    "start_time": "2022-07-08T04:40:19.463Z"
   },
   {
    "duration": 51,
    "start_time": "2022-07-08T04:40:21.658Z"
   },
   {
    "duration": 53,
    "start_time": "2022-07-08T04:42:30.624Z"
   },
   {
    "duration": 52,
    "start_time": "2022-07-08T04:42:32.822Z"
   },
   {
    "duration": 50,
    "start_time": "2022-07-08T04:42:44.798Z"
   },
   {
    "duration": 6,
    "start_time": "2022-07-08T04:58:26.680Z"
   },
   {
    "duration": 1692,
    "start_time": "2022-07-08T04:58:59.071Z"
   },
   {
    "duration": 6,
    "start_time": "2022-07-08T04:59:45.069Z"
   },
   {
    "duration": 23,
    "start_time": "2022-07-08T04:59:57.612Z"
   },
   {
    "duration": 7,
    "start_time": "2022-07-08T05:01:45.292Z"
   },
   {
    "duration": 27,
    "start_time": "2022-07-08T05:01:59.278Z"
   },
   {
    "duration": 5,
    "start_time": "2022-07-08T05:04:21.626Z"
   },
   {
    "duration": 25,
    "start_time": "2022-07-08T05:04:27.618Z"
   },
   {
    "duration": 6,
    "start_time": "2022-07-08T05:04:56.370Z"
   },
   {
    "duration": 1499,
    "start_time": "2022-07-08T05:05:32.299Z"
   },
   {
    "duration": 1462,
    "start_time": "2022-07-08T05:07:49.700Z"
   },
   {
    "duration": 3632,
    "start_time": "2022-07-08T05:09:25.875Z"
   },
   {
    "duration": 6,
    "start_time": "2022-07-08T05:09:43.862Z"
   },
   {
    "duration": 250,
    "start_time": "2022-07-08T05:09:48.671Z"
   },
   {
    "duration": 17,
    "start_time": "2022-07-08T05:22:32.714Z"
   },
   {
    "duration": 39,
    "start_time": "2022-07-08T05:22:32.733Z"
   },
   {
    "duration": 1079,
    "start_time": "2022-07-08T05:22:32.773Z"
   },
   {
    "duration": 4,
    "start_time": "2022-07-08T05:22:33.854Z"
   },
   {
    "duration": 8,
    "start_time": "2022-07-08T05:22:33.860Z"
   },
   {
    "duration": 91,
    "start_time": "2022-07-08T05:22:33.869Z"
   },
   {
    "duration": 12,
    "start_time": "2022-07-08T05:22:33.962Z"
   },
   {
    "duration": 8,
    "start_time": "2022-07-08T05:22:33.976Z"
   },
   {
    "duration": 32,
    "start_time": "2022-07-08T05:22:33.985Z"
   },
   {
    "duration": 11,
    "start_time": "2022-07-08T05:22:34.020Z"
   },
   {
    "duration": 7,
    "start_time": "2022-07-08T05:22:34.032Z"
   },
   {
    "duration": 164,
    "start_time": "2022-07-08T05:22:34.041Z"
   },
   {
    "duration": 21,
    "start_time": "2022-07-08T05:22:34.206Z"
   },
   {
    "duration": 118,
    "start_time": "2022-07-08T05:22:34.229Z"
   },
   {
    "duration": 29,
    "start_time": "2022-07-08T05:22:34.349Z"
   },
   {
    "duration": 41,
    "start_time": "2022-07-08T05:22:34.380Z"
   },
   {
    "duration": 106,
    "start_time": "2022-07-08T05:22:34.422Z"
   },
   {
    "duration": 10,
    "start_time": "2022-07-08T05:22:34.529Z"
   },
   {
    "duration": 177,
    "start_time": "2022-07-08T05:22:34.540Z"
   },
   {
    "duration": 162,
    "start_time": "2022-07-08T05:22:34.718Z"
   },
   {
    "duration": 92,
    "start_time": "2022-07-08T05:22:34.881Z"
   },
   {
    "duration": 17,
    "start_time": "2022-07-08T05:22:34.975Z"
   },
   {
    "duration": 41,
    "start_time": "2022-07-08T05:22:34.993Z"
   },
   {
    "duration": 29,
    "start_time": "2022-07-08T05:22:35.036Z"
   },
   {
    "duration": 72,
    "start_time": "2022-07-08T05:22:35.067Z"
   },
   {
    "duration": 183,
    "start_time": "2022-07-08T05:22:35.141Z"
   },
   {
    "duration": 144,
    "start_time": "2022-07-08T05:22:35.326Z"
   },
   {
    "duration": 18,
    "start_time": "2022-07-08T05:22:35.473Z"
   },
   {
    "duration": 52,
    "start_time": "2022-07-08T05:22:35.493Z"
   },
   {
    "duration": 24,
    "start_time": "2022-07-08T05:22:35.547Z"
   },
   {
    "duration": 51,
    "start_time": "2022-07-08T05:22:35.573Z"
   },
   {
    "duration": 165,
    "start_time": "2022-07-08T05:22:35.626Z"
   },
   {
    "duration": 174,
    "start_time": "2022-07-08T05:22:35.792Z"
   },
   {
    "duration": 25,
    "start_time": "2022-07-08T05:22:35.967Z"
   },
   {
    "duration": 11,
    "start_time": "2022-07-08T05:22:35.994Z"
   },
   {
    "duration": 7,
    "start_time": "2022-07-08T05:22:36.006Z"
   },
   {
    "duration": 97,
    "start_time": "2022-07-08T05:22:36.014Z"
   },
   {
    "duration": 125,
    "start_time": "2022-07-08T05:22:36.112Z"
   },
   {
    "duration": 86,
    "start_time": "2022-07-08T05:22:36.239Z"
   },
   {
    "duration": 48,
    "start_time": "2022-07-08T05:22:36.327Z"
   },
   {
    "duration": 53,
    "start_time": "2022-07-08T05:22:36.377Z"
   },
   {
    "duration": 58,
    "start_time": "2022-07-08T05:22:36.432Z"
   },
   {
    "duration": 187,
    "start_time": "2022-07-08T05:22:36.504Z"
   },
   {
    "duration": 76,
    "start_time": "2022-07-08T05:22:36.692Z"
   },
   {
    "duration": 72,
    "start_time": "2022-07-08T05:22:36.769Z"
   },
   {
    "duration": 381,
    "start_time": "2022-07-08T05:22:36.842Z"
   },
   {
    "duration": 40,
    "start_time": "2022-07-08T05:22:37.225Z"
   },
   {
    "duration": 371,
    "start_time": "2022-07-08T05:22:37.267Z"
   },
   {
    "duration": 40,
    "start_time": "2022-07-08T05:22:37.639Z"
   },
   {
    "duration": 367,
    "start_time": "2022-07-08T05:22:37.681Z"
   },
   {
    "duration": 40,
    "start_time": "2022-07-08T05:22:38.050Z"
   },
   {
    "duration": 369,
    "start_time": "2022-07-08T05:22:38.092Z"
   },
   {
    "duration": 66,
    "start_time": "2022-07-08T05:22:38.464Z"
   },
   {
    "duration": 893,
    "start_time": "2022-07-08T05:22:38.532Z"
   },
   {
    "duration": 62,
    "start_time": "2022-07-08T05:22:39.427Z"
   },
   {
    "duration": 67,
    "start_time": "2022-07-08T05:22:39.491Z"
   },
   {
    "duration": 80,
    "start_time": "2022-07-08T05:22:39.559Z"
   },
   {
    "duration": 355,
    "start_time": "2022-07-08T05:22:39.640Z"
   },
   {
    "duration": 39,
    "start_time": "2022-07-08T05:22:39.997Z"
   },
   {
    "duration": 360,
    "start_time": "2022-07-08T05:22:40.037Z"
   },
   {
    "duration": 41,
    "start_time": "2022-07-08T05:22:40.398Z"
   },
   {
    "duration": 422,
    "start_time": "2022-07-08T05:22:40.440Z"
   },
   {
    "duration": 66,
    "start_time": "2022-07-08T05:22:40.863Z"
   },
   {
    "duration": 324,
    "start_time": "2022-07-08T05:22:40.931Z"
   },
   {
    "duration": 43,
    "start_time": "2022-07-08T05:22:41.257Z"
   },
   {
    "duration": 720,
    "start_time": "2022-07-08T05:22:41.301Z"
   },
   {
    "duration": 48,
    "start_time": "2022-07-08T05:22:42.023Z"
   },
   {
    "duration": 134,
    "start_time": "2022-07-08T05:22:42.072Z"
   },
   {
    "duration": 38,
    "start_time": "2022-07-08T05:22:42.207Z"
   },
   {
    "duration": 205,
    "start_time": "2022-07-08T05:22:42.247Z"
   },
   {
    "duration": 41,
    "start_time": "2022-07-08T05:22:42.453Z"
   },
   {
    "duration": 57,
    "start_time": "2022-07-08T05:36:22.180Z"
   },
   {
    "duration": 44,
    "start_time": "2022-07-08T05:36:37.450Z"
   },
   {
    "duration": 42,
    "start_time": "2022-07-08T05:38:55.210Z"
   },
   {
    "duration": 40,
    "start_time": "2022-07-08T05:39:09.398Z"
   },
   {
    "duration": 48,
    "start_time": "2022-07-08T05:47:13.206Z"
   },
   {
    "duration": 10,
    "start_time": "2022-07-08T06:01:02.953Z"
   },
   {
    "duration": 10,
    "start_time": "2022-07-08T06:03:50.229Z"
   },
   {
    "duration": 8,
    "start_time": "2022-07-08T06:05:26.390Z"
   },
   {
    "duration": 9,
    "start_time": "2022-07-08T06:11:16.847Z"
   },
   {
    "duration": 12,
    "start_time": "2022-07-08T06:18:28.529Z"
   },
   {
    "duration": 14,
    "start_time": "2022-07-08T06:20:40.993Z"
   },
   {
    "duration": 14,
    "start_time": "2022-07-08T06:21:06.520Z"
   },
   {
    "duration": 13,
    "start_time": "2022-07-08T06:22:42.372Z"
   },
   {
    "duration": 12,
    "start_time": "2022-07-08T06:22:57.398Z"
   },
   {
    "duration": 16,
    "start_time": "2022-07-08T06:25:02.346Z"
   },
   {
    "duration": 15,
    "start_time": "2022-07-08T06:25:39.129Z"
   },
   {
    "duration": 174,
    "start_time": "2022-07-08T06:31:59.960Z"
   },
   {
    "duration": 40,
    "start_time": "2022-07-08T06:32:04.023Z"
   },
   {
    "duration": 224,
    "start_time": "2022-07-08T06:32:48.659Z"
   },
   {
    "duration": 42,
    "start_time": "2022-07-08T06:32:53.297Z"
   },
   {
    "duration": 122,
    "start_time": "2022-07-08T06:36:10.064Z"
   },
   {
    "duration": 248,
    "start_time": "2022-07-08T06:36:18.966Z"
   },
   {
    "duration": 49,
    "start_time": "2022-07-08T06:36:23.193Z"
   },
   {
    "duration": 16,
    "start_time": "2022-07-08T06:38:55.075Z"
   },
   {
    "duration": 19,
    "start_time": "2022-07-08T06:48:25.567Z"
   },
   {
    "duration": 16,
    "start_time": "2022-07-08T07:05:21.626Z"
   },
   {
    "duration": 19,
    "start_time": "2022-07-08T07:31:56.575Z"
   },
   {
    "duration": 21,
    "start_time": "2022-07-08T07:35:21.670Z"
   },
   {
    "duration": 20,
    "start_time": "2022-07-08T07:42:42.723Z"
   },
   {
    "duration": 17,
    "start_time": "2022-07-08T07:43:20.795Z"
   },
   {
    "duration": 18,
    "start_time": "2022-07-08T07:46:25.467Z"
   },
   {
    "duration": 18,
    "start_time": "2022-07-08T07:46:55.703Z"
   },
   {
    "duration": 18,
    "start_time": "2022-07-08T07:47:51.238Z"
   },
   {
    "duration": 16,
    "start_time": "2022-07-08T07:50:47.444Z"
   },
   {
    "duration": 19,
    "start_time": "2022-07-08T07:51:23.700Z"
   },
   {
    "duration": 43,
    "start_time": "2022-07-08T07:51:23.721Z"
   },
   {
    "duration": 1114,
    "start_time": "2022-07-08T07:51:23.766Z"
   },
   {
    "duration": 4,
    "start_time": "2022-07-08T07:51:24.882Z"
   },
   {
    "duration": 9,
    "start_time": "2022-07-08T07:51:24.887Z"
   },
   {
    "duration": 99,
    "start_time": "2022-07-08T07:51:24.897Z"
   },
   {
    "duration": 12,
    "start_time": "2022-07-08T07:51:24.998Z"
   },
   {
    "duration": 10,
    "start_time": "2022-07-08T07:51:25.011Z"
   },
   {
    "duration": 34,
    "start_time": "2022-07-08T07:51:25.023Z"
   },
   {
    "duration": 12,
    "start_time": "2022-07-08T07:51:25.060Z"
   },
   {
    "duration": 8,
    "start_time": "2022-07-08T07:51:25.074Z"
   },
   {
    "duration": 157,
    "start_time": "2022-07-08T07:51:25.083Z"
   },
   {
    "duration": 21,
    "start_time": "2022-07-08T07:51:25.242Z"
   },
   {
    "duration": 143,
    "start_time": "2022-07-08T07:51:25.265Z"
   },
   {
    "duration": 31,
    "start_time": "2022-07-08T07:51:25.410Z"
   },
   {
    "duration": 31,
    "start_time": "2022-07-08T07:51:25.443Z"
   },
   {
    "duration": 111,
    "start_time": "2022-07-08T07:51:25.475Z"
   },
   {
    "duration": 21,
    "start_time": "2022-07-08T07:51:25.588Z"
   },
   {
    "duration": 191,
    "start_time": "2022-07-08T07:51:25.611Z"
   },
   {
    "duration": 165,
    "start_time": "2022-07-08T07:51:25.804Z"
   },
   {
    "duration": 104,
    "start_time": "2022-07-08T07:51:25.971Z"
   },
   {
    "duration": 18,
    "start_time": "2022-07-08T07:51:26.077Z"
   },
   {
    "duration": 34,
    "start_time": "2022-07-08T07:51:26.097Z"
   },
   {
    "duration": 29,
    "start_time": "2022-07-08T07:51:26.132Z"
   },
   {
    "duration": 67,
    "start_time": "2022-07-08T07:51:26.162Z"
   },
   {
    "duration": 179,
    "start_time": "2022-07-08T07:51:26.231Z"
   },
   {
    "duration": 140,
    "start_time": "2022-07-08T07:51:26.411Z"
   },
   {
    "duration": 23,
    "start_time": "2022-07-08T07:51:26.556Z"
   },
   {
    "duration": 66,
    "start_time": "2022-07-08T07:51:26.581Z"
   },
   {
    "duration": 33,
    "start_time": "2022-07-08T07:51:26.649Z"
   },
   {
    "duration": 61,
    "start_time": "2022-07-08T07:51:26.684Z"
   },
   {
    "duration": 187,
    "start_time": "2022-07-08T07:51:26.748Z"
   },
   {
    "duration": 188,
    "start_time": "2022-07-08T07:51:26.937Z"
   },
   {
    "duration": 38,
    "start_time": "2022-07-08T07:51:27.127Z"
   },
   {
    "duration": 10,
    "start_time": "2022-07-08T07:51:27.167Z"
   },
   {
    "duration": 7,
    "start_time": "2022-07-08T07:51:27.178Z"
   },
   {
    "duration": 96,
    "start_time": "2022-07-08T07:51:27.187Z"
   },
   {
    "duration": 117,
    "start_time": "2022-07-08T07:51:27.285Z"
   },
   {
    "duration": 83,
    "start_time": "2022-07-08T07:51:27.404Z"
   },
   {
    "duration": 50,
    "start_time": "2022-07-08T07:51:27.503Z"
   },
   {
    "duration": 51,
    "start_time": "2022-07-08T07:51:27.555Z"
   },
   {
    "duration": 53,
    "start_time": "2022-07-08T07:51:27.608Z"
   },
   {
    "duration": 190,
    "start_time": "2022-07-08T07:51:27.663Z"
   },
   {
    "duration": 76,
    "start_time": "2022-07-08T07:51:27.855Z"
   },
   {
    "duration": 80,
    "start_time": "2022-07-08T07:51:27.932Z"
   },
   {
    "duration": 410,
    "start_time": "2022-07-08T07:51:28.014Z"
   },
   {
    "duration": 43,
    "start_time": "2022-07-08T07:51:28.426Z"
   },
   {
    "duration": 427,
    "start_time": "2022-07-08T07:51:28.470Z"
   },
   {
    "duration": 42,
    "start_time": "2022-07-08T07:51:28.899Z"
   },
   {
    "duration": 402,
    "start_time": "2022-07-08T07:51:28.943Z"
   },
   {
    "duration": 45,
    "start_time": "2022-07-08T07:51:29.347Z"
   },
   {
    "duration": 412,
    "start_time": "2022-07-08T07:51:29.394Z"
   },
   {
    "duration": 42,
    "start_time": "2022-07-08T07:51:29.808Z"
   },
   {
    "duration": 1013,
    "start_time": "2022-07-08T07:51:29.852Z"
   },
   {
    "duration": 61,
    "start_time": "2022-07-08T07:51:30.867Z"
   },
   {
    "duration": 76,
    "start_time": "2022-07-08T07:51:30.930Z"
   },
   {
    "duration": 97,
    "start_time": "2022-07-08T07:51:31.008Z"
   },
   {
    "duration": 425,
    "start_time": "2022-07-08T07:51:31.107Z"
   },
   {
    "duration": 39,
    "start_time": "2022-07-08T07:51:31.534Z"
   },
   {
    "duration": 429,
    "start_time": "2022-07-08T07:51:31.575Z"
   },
   {
    "duration": 43,
    "start_time": "2022-07-08T07:51:32.005Z"
   },
   {
    "duration": 538,
    "start_time": "2022-07-08T07:51:32.050Z"
   },
   {
    "duration": 46,
    "start_time": "2022-07-08T07:51:32.589Z"
   },
   {
    "duration": 374,
    "start_time": "2022-07-08T07:51:32.637Z"
   },
   {
    "duration": 40,
    "start_time": "2022-07-08T07:51:33.013Z"
   },
   {
    "duration": 814,
    "start_time": "2022-07-08T07:51:33.055Z"
   },
   {
    "duration": 45,
    "start_time": "2022-07-08T07:51:33.871Z"
   },
   {
    "duration": 121,
    "start_time": "2022-07-08T07:51:33.917Z"
   },
   {
    "duration": 42,
    "start_time": "2022-07-08T07:51:34.040Z"
   },
   {
    "duration": 250,
    "start_time": "2022-07-08T07:51:34.084Z"
   },
   {
    "duration": 43,
    "start_time": "2022-07-08T07:51:34.336Z"
   },
   {
    "duration": 16,
    "start_time": "2022-07-08T07:51:34.381Z"
   },
   {
    "duration": 13,
    "start_time": "2022-07-08T09:10:36.445Z"
   },
   {
    "duration": 20,
    "start_time": "2022-07-08T09:11:10.914Z"
   },
   {
    "duration": 44,
    "start_time": "2022-07-08T09:11:10.937Z"
   },
   {
    "duration": 1114,
    "start_time": "2022-07-08T09:11:10.983Z"
   },
   {
    "duration": 3,
    "start_time": "2022-07-08T09:11:12.099Z"
   },
   {
    "duration": 13,
    "start_time": "2022-07-08T09:11:12.104Z"
   },
   {
    "duration": 102,
    "start_time": "2022-07-08T09:11:12.119Z"
   },
   {
    "duration": 12,
    "start_time": "2022-07-08T09:11:12.222Z"
   },
   {
    "duration": 11,
    "start_time": "2022-07-08T09:11:12.235Z"
   },
   {
    "duration": 34,
    "start_time": "2022-07-08T09:11:12.248Z"
   },
   {
    "duration": 23,
    "start_time": "2022-07-08T09:11:12.284Z"
   },
   {
    "duration": 7,
    "start_time": "2022-07-08T09:11:12.309Z"
   },
   {
    "duration": 162,
    "start_time": "2022-07-08T09:11:12.318Z"
   },
   {
    "duration": 31,
    "start_time": "2022-07-08T09:11:12.484Z"
   },
   {
    "duration": 127,
    "start_time": "2022-07-08T09:11:12.517Z"
   },
   {
    "duration": 30,
    "start_time": "2022-07-08T09:11:12.645Z"
   },
   {
    "duration": 52,
    "start_time": "2022-07-08T09:11:12.676Z"
   },
   {
    "duration": 102,
    "start_time": "2022-07-08T09:11:12.729Z"
   },
   {
    "duration": 13,
    "start_time": "2022-07-08T09:11:12.833Z"
   },
   {
    "duration": 189,
    "start_time": "2022-07-08T09:11:12.848Z"
   },
   {
    "duration": 189,
    "start_time": "2022-07-08T09:11:13.039Z"
   },
   {
    "duration": 111,
    "start_time": "2022-07-08T09:11:13.230Z"
   },
   {
    "duration": 18,
    "start_time": "2022-07-08T09:11:13.343Z"
   },
   {
    "duration": 42,
    "start_time": "2022-07-08T09:11:13.362Z"
   },
   {
    "duration": 28,
    "start_time": "2022-07-08T09:11:13.405Z"
   },
   {
    "duration": 50,
    "start_time": "2022-07-08T09:11:13.435Z"
   },
   {
    "duration": 191,
    "start_time": "2022-07-08T09:11:13.486Z"
   },
   {
    "duration": 135,
    "start_time": "2022-07-08T09:11:13.679Z"
   },
   {
    "duration": 20,
    "start_time": "2022-07-08T09:11:13.815Z"
   },
   {
    "duration": 49,
    "start_time": "2022-07-08T09:11:13.837Z"
   },
   {
    "duration": 29,
    "start_time": "2022-07-08T09:11:13.903Z"
   },
   {
    "duration": 38,
    "start_time": "2022-07-08T09:11:13.933Z"
   },
   {
    "duration": 206,
    "start_time": "2022-07-08T09:11:13.973Z"
   },
   {
    "duration": 195,
    "start_time": "2022-07-08T09:11:14.180Z"
   },
   {
    "duration": 38,
    "start_time": "2022-07-08T09:11:14.377Z"
   },
   {
    "duration": 9,
    "start_time": "2022-07-08T09:11:14.417Z"
   },
   {
    "duration": 5,
    "start_time": "2022-07-08T09:11:14.428Z"
   },
   {
    "duration": 22,
    "start_time": "2022-07-08T09:11:14.522Z"
   },
   {
    "duration": 147,
    "start_time": "2022-07-08T09:11:14.545Z"
   },
   {
    "duration": 73,
    "start_time": "2022-07-08T09:11:14.693Z"
   },
   {
    "duration": 58,
    "start_time": "2022-07-08T09:11:14.767Z"
   },
   {
    "duration": 37,
    "start_time": "2022-07-08T09:11:14.827Z"
   },
   {
    "duration": 66,
    "start_time": "2022-07-08T09:11:14.866Z"
   },
   {
    "duration": 190,
    "start_time": "2022-07-08T09:11:14.934Z"
   },
   {
    "duration": 67,
    "start_time": "2022-07-08T09:11:15.125Z"
   },
   {
    "duration": 71,
    "start_time": "2022-07-08T09:11:15.204Z"
   },
   {
    "duration": 424,
    "start_time": "2022-07-08T09:11:15.276Z"
   },
   {
    "duration": 84,
    "start_time": "2022-07-08T09:11:15.703Z"
   },
   {
    "duration": 409,
    "start_time": "2022-07-08T09:11:15.788Z"
   },
   {
    "duration": 110,
    "start_time": "2022-07-08T09:11:16.199Z"
   },
   {
    "duration": 460,
    "start_time": "2022-07-08T09:11:16.311Z"
   },
   {
    "duration": 43,
    "start_time": "2022-07-08T09:11:16.773Z"
   },
   {
    "duration": 386,
    "start_time": "2022-07-08T09:11:16.818Z"
   },
   {
    "duration": 43,
    "start_time": "2022-07-08T09:11:17.206Z"
   },
   {
    "duration": 954,
    "start_time": "2022-07-08T09:11:17.251Z"
   },
   {
    "duration": 76,
    "start_time": "2022-07-08T09:11:18.207Z"
   },
   {
    "duration": 73,
    "start_time": "2022-07-08T09:11:18.285Z"
   },
   {
    "duration": 85,
    "start_time": "2022-07-08T09:11:18.360Z"
   },
   {
    "duration": 404,
    "start_time": "2022-07-08T09:11:18.447Z"
   },
   {
    "duration": 45,
    "start_time": "2022-07-08T09:11:18.853Z"
   },
   {
    "duration": 396,
    "start_time": "2022-07-08T09:11:18.900Z"
   },
   {
    "duration": 47,
    "start_time": "2022-07-08T09:11:19.298Z"
   },
   {
    "duration": 498,
    "start_time": "2022-07-08T09:11:19.347Z"
   },
   {
    "duration": 88,
    "start_time": "2022-07-08T09:11:19.847Z"
   },
   {
    "duration": 416,
    "start_time": "2022-07-08T09:11:19.937Z"
   },
   {
    "duration": 42,
    "start_time": "2022-07-08T09:11:20.354Z"
   },
   {
    "duration": 812,
    "start_time": "2022-07-08T09:11:20.398Z"
   },
   {
    "duration": 48,
    "start_time": "2022-07-08T09:11:21.213Z"
   },
   {
    "duration": 261,
    "start_time": "2022-07-08T09:11:21.264Z"
   },
   {
    "duration": 66,
    "start_time": "2022-07-08T09:11:21.526Z"
   },
   {
    "duration": 249,
    "start_time": "2022-07-08T09:11:21.595Z"
   },
   {
    "duration": 45,
    "start_time": "2022-07-08T09:11:21.846Z"
   },
   {
    "duration": 18,
    "start_time": "2022-07-08T09:11:21.893Z"
   },
   {
    "duration": 17,
    "start_time": "2022-07-09T13:29:06.948Z"
   },
   {
    "duration": 432,
    "start_time": "2022-07-09T13:29:35.547Z"
   },
   {
    "duration": 458,
    "start_time": "2022-07-09T13:30:55.847Z"
   },
   {
    "duration": 41,
    "start_time": "2022-07-09T13:44:00.596Z"
   },
   {
    "duration": 4,
    "start_time": "2022-07-09T13:46:44.503Z"
   },
   {
    "duration": 466,
    "start_time": "2022-07-09T13:48:06.932Z"
   },
   {
    "duration": 430,
    "start_time": "2022-07-09T13:48:52.609Z"
   },
   {
    "duration": 605,
    "start_time": "2022-07-09T13:49:09.417Z"
   },
   {
    "duration": 5,
    "start_time": "2022-07-09T13:50:30.874Z"
   },
   {
    "duration": 446,
    "start_time": "2022-07-09T13:51:51.262Z"
   },
   {
    "duration": 491,
    "start_time": "2022-07-09T13:52:08.598Z"
   },
   {
    "duration": 442,
    "start_time": "2022-07-09T13:52:22.829Z"
   },
   {
    "duration": 46,
    "start_time": "2022-07-09T13:53:07.198Z"
   },
   {
    "duration": 5,
    "start_time": "2022-07-09T13:53:39.574Z"
   },
   {
    "duration": 414,
    "start_time": "2022-07-09T13:54:43.342Z"
   },
   {
    "duration": 539,
    "start_time": "2022-07-09T13:55:39.088Z"
   },
   {
    "duration": 468,
    "start_time": "2022-07-09T13:55:48.231Z"
   },
   {
    "duration": 421,
    "start_time": "2022-07-09T13:56:01.087Z"
   },
   {
    "duration": 126,
    "start_time": "2022-07-09T13:58:22.954Z"
   },
   {
    "duration": 24,
    "start_time": "2022-07-09T13:59:47.164Z"
   },
   {
    "duration": 46,
    "start_time": "2022-07-09T14:00:07.511Z"
   },
   {
    "duration": 16,
    "start_time": "2022-07-09T14:00:36.999Z"
   },
   {
    "duration": 669,
    "start_time": "2022-07-09T14:01:42.186Z"
   },
   {
    "duration": 156,
    "start_time": "2022-07-09T14:06:36.373Z"
   },
   {
    "duration": 675,
    "start_time": "2022-07-09T14:06:43.473Z"
   },
   {
    "duration": 149,
    "start_time": "2022-07-09T14:06:47.453Z"
   },
   {
    "duration": 156,
    "start_time": "2022-07-09T14:06:59.368Z"
   },
   {
    "duration": 191,
    "start_time": "2022-07-09T14:07:11.178Z"
   },
   {
    "duration": 26,
    "start_time": "2022-07-09T14:07:54.238Z"
   },
   {
    "duration": 1304,
    "start_time": "2022-07-09T14:09:57.338Z"
   },
   {
    "duration": 24,
    "start_time": "2022-07-09T14:11:01.017Z"
   },
   {
    "duration": 811,
    "start_time": "2022-07-09T14:11:18.317Z"
   },
   {
    "duration": 683,
    "start_time": "2022-07-09T14:11:42.745Z"
   },
   {
    "duration": 24,
    "start_time": "2022-07-09T14:11:48.637Z"
   },
   {
    "duration": 1659,
    "start_time": "2022-07-09T14:12:38.489Z"
   },
   {
    "duration": 1250,
    "start_time": "2022-07-09T14:12:54.989Z"
   },
   {
    "duration": 143,
    "start_time": "2022-07-09T14:13:35.266Z"
   },
   {
    "duration": 56,
    "start_time": "2022-07-09T14:14:18.703Z"
   },
   {
    "duration": 29,
    "start_time": "2022-07-09T14:15:18.116Z"
   },
   {
    "duration": 56,
    "start_time": "2022-07-09T14:15:18.148Z"
   },
   {
    "duration": 1220,
    "start_time": "2022-07-09T14:15:18.206Z"
   },
   {
    "duration": 4,
    "start_time": "2022-07-09T14:15:19.428Z"
   },
   {
    "duration": 10,
    "start_time": "2022-07-09T14:15:19.434Z"
   },
   {
    "duration": 108,
    "start_time": "2022-07-09T14:15:19.446Z"
   },
   {
    "duration": 15,
    "start_time": "2022-07-09T14:15:19.556Z"
   },
   {
    "duration": 25,
    "start_time": "2022-07-09T14:15:19.573Z"
   },
   {
    "duration": 35,
    "start_time": "2022-07-09T14:15:19.601Z"
   },
   {
    "duration": 18,
    "start_time": "2022-07-09T14:15:19.639Z"
   },
   {
    "duration": 45,
    "start_time": "2022-07-09T14:15:19.659Z"
   },
   {
    "duration": 180,
    "start_time": "2022-07-09T14:15:19.706Z"
   },
   {
    "duration": 30,
    "start_time": "2022-07-09T14:15:19.888Z"
   },
   {
    "duration": 56,
    "start_time": "2022-07-09T14:15:19.920Z"
   },
   {
    "duration": 51,
    "start_time": "2022-07-09T14:15:19.978Z"
   },
   {
    "duration": 67,
    "start_time": "2022-07-09T14:15:20.031Z"
   },
   {
    "duration": 124,
    "start_time": "2022-07-09T14:15:20.101Z"
   },
   {
    "duration": 22,
    "start_time": "2022-07-09T14:15:20.227Z"
   },
   {
    "duration": 230,
    "start_time": "2022-07-09T14:15:20.252Z"
   },
   {
    "duration": 207,
    "start_time": "2022-07-09T14:15:20.484Z"
   },
   {
    "duration": 118,
    "start_time": "2022-07-09T14:15:20.693Z"
   },
   {
    "duration": 23,
    "start_time": "2022-07-09T14:15:20.814Z"
   },
   {
    "duration": 34,
    "start_time": "2022-07-09T14:15:20.839Z"
   },
   {
    "duration": 55,
    "start_time": "2022-07-09T14:15:20.874Z"
   },
   {
    "duration": 77,
    "start_time": "2022-07-09T14:15:20.930Z"
   },
   {
    "duration": 225,
    "start_time": "2022-07-09T14:15:21.009Z"
   },
   {
    "duration": 158,
    "start_time": "2022-07-09T14:15:21.235Z"
   },
   {
    "duration": 22,
    "start_time": "2022-07-09T14:15:21.400Z"
   },
   {
    "duration": 45,
    "start_time": "2022-07-09T14:15:21.423Z"
   },
   {
    "duration": 57,
    "start_time": "2022-07-09T14:15:21.469Z"
   },
   {
    "duration": 47,
    "start_time": "2022-07-09T14:15:21.527Z"
   },
   {
    "duration": 233,
    "start_time": "2022-07-09T14:15:21.597Z"
   },
   {
    "duration": 230,
    "start_time": "2022-07-09T14:15:21.833Z"
   },
   {
    "duration": 34,
    "start_time": "2022-07-09T14:15:22.066Z"
   },
   {
    "duration": 131,
    "start_time": "2022-07-09T14:15:22.102Z"
   },
   {
    "duration": 12,
    "start_time": "2022-07-09T14:15:22.234Z"
   },
   {
    "duration": 7,
    "start_time": "2022-07-09T14:15:22.249Z"
   },
   {
    "duration": 49,
    "start_time": "2022-07-09T14:15:22.258Z"
   },
   {
    "duration": 114,
    "start_time": "2022-07-09T14:15:22.309Z"
   },
   {
    "duration": 4,
    "start_time": "2022-07-09T14:15:22.426Z"
   },
   {
    "duration": 67,
    "start_time": "2022-07-09T14:15:22.433Z"
   },
   {
    "duration": 4,
    "start_time": "2022-07-09T14:15:22.502Z"
   },
   {
    "duration": 47,
    "start_time": "2022-07-09T14:15:22.508Z"
   },
   {
    "duration": 4,
    "start_time": "2022-07-09T14:15:22.558Z"
   },
   {
    "duration": 62,
    "start_time": "2022-07-09T14:15:22.564Z"
   },
   {
    "duration": 4,
    "start_time": "2022-07-09T14:15:22.628Z"
   },
   {
    "duration": 35,
    "start_time": "2022-07-09T14:15:22.634Z"
   },
   {
    "duration": 5,
    "start_time": "2022-07-09T14:15:22.671Z"
   },
   {
    "duration": 75,
    "start_time": "2022-07-09T14:15:22.699Z"
   },
   {
    "duration": 42,
    "start_time": "2022-07-09T14:15:22.777Z"
   },
   {
    "duration": 4,
    "start_time": "2022-07-09T14:15:22.821Z"
   },
   {
    "duration": 15,
    "start_time": "2022-07-09T14:15:22.826Z"
   },
   {
    "duration": 478,
    "start_time": "2022-07-09T14:15:22.843Z"
   },
   {
    "duration": 44,
    "start_time": "2022-07-09T14:15:23.323Z"
   },
   {
    "duration": 4,
    "start_time": "2022-07-09T14:15:23.369Z"
   },
   {
    "duration": 461,
    "start_time": "2022-07-09T14:15:23.375Z"
   },
   {
    "duration": 42,
    "start_time": "2022-07-09T14:15:23.838Z"
   },
   {
    "duration": 4,
    "start_time": "2022-07-09T14:15:23.883Z"
   },
   {
    "duration": 508,
    "start_time": "2022-07-09T14:15:23.890Z"
   },
   {
    "duration": 39,
    "start_time": "2022-07-09T14:15:24.399Z"
   },
   {
    "duration": 5,
    "start_time": "2022-07-09T14:15:24.440Z"
   },
   {
    "duration": 426,
    "start_time": "2022-07-09T14:15:24.447Z"
   },
   {
    "duration": 38,
    "start_time": "2022-07-09T14:15:24.875Z"
   },
   {
    "duration": 1030,
    "start_time": "2022-07-09T14:15:24.915Z"
   },
   {
    "duration": 45,
    "start_time": "2022-07-09T14:15:25.947Z"
   },
   {
    "duration": 24,
    "start_time": "2022-07-09T14:15:25.994Z"
   },
   {
    "duration": 5,
    "start_time": "2022-07-09T14:15:26.020Z"
   },
   {
    "duration": 8,
    "start_time": "2022-07-09T14:15:26.028Z"
   },
   {
    "duration": 464,
    "start_time": "2022-07-09T14:15:26.038Z"
   },
   {
    "duration": 42,
    "start_time": "2022-07-09T14:15:26.504Z"
   },
   {
    "duration": 3,
    "start_time": "2022-07-09T14:15:26.548Z"
   },
   {
    "duration": 524,
    "start_time": "2022-07-09T14:15:26.553Z"
   },
   {
    "duration": 41,
    "start_time": "2022-07-09T14:15:27.079Z"
   },
   {
    "duration": 4,
    "start_time": "2022-07-09T14:15:27.122Z"
   },
   {
    "duration": 435,
    "start_time": "2022-07-09T14:15:27.128Z"
   },
   {
    "duration": 48,
    "start_time": "2022-07-09T14:15:27.565Z"
   },
   {
    "duration": 4,
    "start_time": "2022-07-09T14:15:27.615Z"
   },
   {
    "duration": 557,
    "start_time": "2022-07-09T14:15:27.621Z"
   },
   {
    "duration": 41,
    "start_time": "2022-07-09T14:15:28.180Z"
   },
   {
    "duration": 961,
    "start_time": "2022-07-09T14:15:28.223Z"
   },
   {
    "duration": 48,
    "start_time": "2022-07-09T14:15:29.186Z"
   },
   {
    "duration": 166,
    "start_time": "2022-07-09T14:15:29.239Z"
   },
   {
    "duration": 67,
    "start_time": "2022-07-09T14:15:29.407Z"
   },
   {
    "duration": 151,
    "start_time": "2022-07-09T14:15:29.476Z"
   },
   {
    "duration": 62,
    "start_time": "2022-07-09T14:15:29.629Z"
   },
   {
    "duration": 25,
    "start_time": "2022-07-09T14:15:29.694Z"
   },
   {
    "duration": 96,
    "start_time": "2022-07-16T11:58:16.321Z"
   },
   {
    "duration": 66,
    "start_time": "2022-07-16T11:59:55.712Z"
   },
   {
    "duration": 41,
    "start_time": "2022-07-16T12:01:45.217Z"
   },
   {
    "duration": 39,
    "start_time": "2022-07-16T12:02:06.460Z"
   },
   {
    "duration": 39,
    "start_time": "2022-07-16T12:10:13.677Z"
   },
   {
    "duration": 51,
    "start_time": "2022-07-16T12:11:08.408Z"
   },
   {
    "duration": 53,
    "start_time": "2022-07-16T12:12:04.066Z"
   },
   {
    "duration": 475,
    "start_time": "2022-07-16T12:13:23.133Z"
   },
   {
    "duration": 242,
    "start_time": "2022-07-16T12:13:52.460Z"
   },
   {
    "duration": 568,
    "start_time": "2022-07-16T12:14:31.434Z"
   },
   {
    "duration": 275,
    "start_time": "2022-07-16T12:16:13.809Z"
   },
   {
    "duration": 252,
    "start_time": "2022-07-16T12:17:24.221Z"
   },
   {
    "duration": 341,
    "start_time": "2022-07-16T12:17:43.275Z"
   }
  ],
  "kernelspec": {
   "display_name": "Python 3 (ipykernel)",
   "language": "python",
   "name": "python3"
  },
  "language_info": {
   "codemirror_mode": {
    "name": "ipython",
    "version": 3
   },
   "file_extension": ".py",
   "mimetype": "text/x-python",
   "name": "python",
   "nbconvert_exporter": "python",
   "pygments_lexer": "ipython3",
   "version": "3.9.5"
  },
  "toc": {
   "base_numbering": 1,
   "nav_menu": {},
   "number_sections": true,
   "sideBar": true,
   "skip_h1_title": true,
   "title_cell": "Содержание",
   "title_sidebar": "Содержание",
   "toc_cell": true,
   "toc_position": {
    "height": "calc(100% - 180px)",
    "left": "10px",
    "top": "150px",
    "width": "358.188px"
   },
   "toc_section_display": true,
   "toc_window_display": true
  }
 },
 "nbformat": 4,
 "nbformat_minor": 2
}
