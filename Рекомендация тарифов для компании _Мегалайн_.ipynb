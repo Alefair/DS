{
 "cells": [
  {
   "cell_type": "markdown",
   "metadata": {},
   "source": [
    "."
   ]
  },
  {
   "cell_type": "markdown",
   "metadata": {},
   "source": [
    "<div id=\"project_logo\">\n",
    "    <div id=\"logo_bg\">\n",
    "        <p id=\"logo_text\">MEGALINE</p>\n",
    "        <p id=\"project_author\">Made by @Alefair</p>\n",
    "    </div>\n",
    "</div>"
   ]
  },
  {
   "cell_type": "markdown",
   "metadata": {},
   "source": [
    "# Рекомендация тарифов для компании \"Мегалайн\""
   ]
  },
  {
   "cell_type": "markdown",
   "metadata": {},
   "source": [
    "<div class=\"alert alert-info\">\n",
    "    <p>\n",
    "        <strong>\n",
    "            <em>\n",
    "                <span><code> Заказчик      :</code> Коммерческий департамент</span><br>\n",
    "                <span><code> Цель          :</code> Построить модель для задачи классификации, которая выберет подходящий тариф</span><br>\n",
    "                <span><code> Описание      :</code> В распоряжении данные о поведении клиентов, которые уже перешли на эти тарифы (см приложение).</span><br>\n",
    "                <span><code> Что требуется :</code> Построить модель с максимально большим значением accuracy. Нужно довести долю правильных ответов по крайней мере до 0.75. Проверить accuracy на тестовой выборке самостоятельно.</span><br>\n",
    "            </em>\n",
    "        </strong>\n",
    "     </p>\n",
    "</div>"
   ]
  },
  {
   "cell_type": "code",
   "execution_count": 1,
   "metadata": {},
   "outputs": [
    {
     "data": {
      "text/html": [
       "<style> \n",
       "    \n",
       "    #project_logo\n",
       "    {\n",
       "        height: 150px;\n",
       "    }\n",
       "    \n",
       "    #logo_bg\n",
       "    {\n",
       "        text-align: right;\n",
       "        color: white;\n",
       "        font-family: monospace;\n",
       "        height: 100px;\n",
       "        background: \n",
       "            repeating-linear-gradient(\n",
       "                248deg, \n",
       "                rgba(0 , 188 , 212 , 0.24), \n",
       "                rgba(255 , 0 , 0 , 0), \n",
       "                rgba(0 , 188 , 212 , 0.5) 5px\n",
       "            ), \n",
       "            repeating-linear-gradient(\n",
       "                180deg, \n",
       "                #9e9e9e, \n",
       "                rgba(0 , 255 , 0 , 0) 70.71%\n",
       "            ), \n",
       "            repeating-linear-gradient(\n",
       "                0deg, \n",
       "                #607d8b, \n",
       "                rgba(0 , 0 , 255 , 0) 70.71%\n",
       "            );\n",
       "    }\n",
       "    \n",
       "    #logo_text \n",
       "    {\n",
       "        font-size: 100px; \n",
       "        font-weight: bold; \n",
       "        font-family: monospace; \n",
       "        color: #607d8b; \n",
       "        line-height: 100px; \n",
       "        text-shadow: 10px 0 0 rgba(255 , 255 , 255 , 0.45), \n",
       "            -2px 0 0 #fff, \n",
       "            0 1px 0 #fff, \n",
       "            0 -1px 0 #fff, \n",
       "            1px 1px #fff, \n",
       "            -1px -1px 0 #fff, \n",
       "            1px -1px 0 #fff,\n",
       "            -1px 1px 0 #fff, \n",
       "            10px 19px 4px; \n",
       "        opacity: 0.8; \n",
       "        text-align: center;\n",
       "    }\n",
       "    \n",
       "    #project_author\n",
       "    {\n",
       "        width: 160px;\n",
       "        height: 30px;\n",
       "        line-height: 10px;\n",
       "        display: inline-block;\n",
       "        background-color: #ff5722;\n",
       "        padding: 10px;\n",
       "        border-radius: 0px 0px 20px 20px;\n",
       "        text-align: center;\n",
       "        box-shadow: 3px 2px 3px 2px #ccc;\n",
       "        margin: 0;\n",
       "        margin-right: 40px;\n",
       "    }\n",
       "    \n",
       "    \n",
       "    \n",
       "    /*********TARIFFS***********/\n",
       "    \n",
       "    #tariff_smart\n",
       "    {\n",
       "        text-align: right; \n",
       "        color: white; \n",
       "        font-family: monospace; \n",
       "        height: 580px; \n",
       "        background: \n",
       "            repeating-linear-gradient(\n",
       "                248deg, \n",
       "                rgba(0, 188, 212, 0.24), \n",
       "                rgba(255 , 0 , 0 , 0), \n",
       "                rgba(0, 188, 212, 0.5) 5px\n",
       "            ), \n",
       "            repeating-linear-gradient(\n",
       "                130deg, \n",
       "                #9e9e9e, \n",
       "                rgba(0 , 255 , 0 , 0) 70.71%\n",
       "            ), \n",
       "            repeating-linear-gradient(\n",
       "                20deg, \n",
       "                #607d8b, \n",
       "                rgba(0 , 0 , 255 , 0) 70.71%\n",
       "            );\n",
       "    }\n",
       "\n",
       "    #tariff_ultra\n",
       "    {\n",
       "        text-align: left; \n",
       "        color: white; \n",
       "        font-family: monospace; \n",
       "        height: 580px;\n",
       "        background: \n",
       "            repeating-linear-gradient(\n",
       "                248deg, \n",
       "                rgba(0 , 188 , 212 , 0.24), \n",
       "                rgba(255 , 0 , 0 , 0), \n",
       "                rgba(0 , 188 , 212 , 0.5) 5px\n",
       "            ), \n",
       "            repeating-linear-gradient(\n",
       "                310deg, \n",
       "                #9e9e9e, \n",
       "                rgba(0 , 255 , 0 , 0) 70.71%\n",
       "            ) , \n",
       "            repeating-linear-gradient(\n",
       "                205deg, \n",
       "                #607d8b, \n",
       "                rgba(0 , 0 , 255 , 0) 70.71%\n",
       "            );\n",
       "    }\n",
       "\n",
       "    .tariff_block\n",
       "    {\n",
       "        width: 440px;\n",
       "        display: inline-block;\n",
       "        text-align: center;\n",
       "    }\n",
       "\n",
       "    .tariff_name\n",
       "    {\n",
       "        width: 118px;\n",
       "        display: inline-block;\n",
       "        background-color: #ff5722;\n",
       "        padding: 10px;\n",
       "        border-radius: 20px 0px 40px 0px;\n",
       "        margin-right: -100px;\n",
       "    }\n",
       "\n",
       "    #tariff_ultra .tariff_name\n",
       "    {\n",
       "        margin-right: -100px !important;\n",
       "    }\n",
       "\n",
       "    .tariff_bg\n",
       "    {\n",
       "        width: 400px;\n",
       "        height: 400px;\n",
       "        background: \n",
       "            linear-gradient(\n",
       "                248deg, \n",
       "                #4caf50, \n",
       "                rgba(255 , 0 , 0 , 0.2) 70.71%\n",
       "            ), \n",
       "            linear-gradient(\n",
       "                122deg, \n",
       "                #8bc34a, \n",
       "                rgba(0 , 255 , 0 , 0.5) 70.71%\n",
       "            ), \n",
       "            linear-gradient(\n",
       "                9deg, \n",
       "                #4caf50, \n",
       "                rgba(0 , 0 , 255 , 0.5) 70.71%\n",
       "            );\n",
       "        display: inline-block;\n",
       "        padding: 10px;\n",
       "        box-shadow: 3px 3px 4px 1px rgba(0, 0, 0, 0.27);\n",
       "        border-radius: 160px;\n",
       "        margin: 20px;\n",
       "        margin-top: 0px !important;\n",
       "        text-align: center !important;\n",
       "    }\n",
       "\n",
       "    .tariff_price\n",
       "    {\n",
       "        color: #333;\n",
       "        font-weight: bold;\n",
       "        font-size: 60px;\n",
       "        line-height: 125px;\n",
       "        width: 150px;\n",
       "        height: 150px;\n",
       "        background-color: white;\n",
       "        border-radius: 80px;\n",
       "        padding: 10px;\n",
       "        position: relative;\n",
       "        top: 5px;\n",
       "        display: inline-block\n",
       "    }\n",
       "\n",
       "    .tariff_price_description\n",
       "    {\n",
       "        display: inline-block;\n",
       "        position: relative;\n",
       "        width: 400px;\n",
       "        top: -30px;\n",
       "        color: #333;\n",
       "        font-size: 10px;\n",
       "        margin-left: -10px\n",
       "    }\n",
       "\n",
       "    .tariff_settings_block\n",
       "    {\n",
       "        position: relative;\n",
       "        left: 20px;\n",
       "        top: -25px;\n",
       "        display: flex;\n",
       "        width: 320px;\n",
       "    }\n",
       "\n",
       "    .tariff_settings_buttons_block\n",
       "    {\n",
       "        color: #333;\n",
       "        font-family: 'segoe ui' , 'roboto' , 'oxygen' , 'ubuntu' , 'helvetica neue' , 'arial' , sans-serif , 'apple color emoji' , 'segoe ui emoji' , 'segoe ui symbol';\n",
       "        font-size: 40px;\n",
       "        width: 90px;\n",
       "        display: inline-block;\n",
       "        line-height: 40px;\n",
       "        text-align: center;\n",
       "        padding: 10px;\n",
       "    }\n",
       "\n",
       "    .tariff_settings_button\n",
       "    {\n",
       "        border-radius: 30px;\n",
       "        background-color: white;\n",
       "        height: 60px;\n",
       "        width: 60px;\n",
       "        padding-top: 8px;\n",
       "        display: inline-block;\n",
       "    }\n",
       "\n",
       "    .tariff_settings_button.last\n",
       "    {\n",
       "        padding-top: 8px !important;\n",
       "    }\n",
       "\n",
       "\n",
       "    .tariff_settings_description_block\n",
       "    {\n",
       "        text-align: left;\n",
       "        padding: 10px;\n",
       "        line-height: 60px;\n",
       "        font-size: 18px;\n",
       "        font-weight: bold;\n",
       "    }\n",
       "\n",
       "    .tariff_settings_description\n",
       "    {\n",
       "        display: inline-block;\n",
       "        height: 60px;\n",
       "        width: 100%;\n",
       "    }\n",
       "\n",
       "    .tariff_settings_limit\n",
       "    {\n",
       "        width: 100%;\n",
       "        background: \n",
       "            linear-gradient(\n",
       "                248deg, \n",
       "                #ff5722, \n",
       "                rgba(255 , 0 , 0 , 0) 70.71%\n",
       "            ), \n",
       "            linear-gradient(\n",
       "                122deg, \n",
       "                #e91e63, \n",
       "                rgba(0 , 255 , 0 , 0) 70.71%\n",
       "            ), \n",
       "            linear-gradient(\n",
       "                9deg, \n",
       "                #9c27b0, \n",
       "                rgba(0 , 0 , 255 , 0) 70.71%\n",
       "            );\n",
       "            text-align: left;\n",
       "            padding: 10px;\n",
       "    }\n",
       "    \n",
       "    /****END***TARIFFS***********/\n",
       "    \n",
       "    h1, h2, h3 {\n",
       "        /* background: repeating-linear-gradient(248deg , #ffffff , rgb(96 125 139 / 50%) , rgb(255 255 255 / 50%) 5px); */\n",
       "        padding: 10px;\n",
       "        color: #607d8b;\n",
       "    }\n",
       "    \n",
       "    div.ow_fl {\n",
       "        overflow: auto;\n",
       "    }\n",
       "    \n",
       "    div.ow_fl p {\n",
       "        display:flex;\n",
       "    }\n",
       "    \n",
       "    .rendered_html :link {\n",
       "        text-decoration: none;\n",
       "    }\n",
       "        \n",
       "    a:hover, a:focus {\n",
       "        color: #1a466c;\n",
       "        text-decoration: underline !important;\n",
       "    }\n",
       "    \n",
       "    #notebook-container {\n",
       "        /*width: 1700px;*/\n",
       "    }\n",
       "    \n",
       "    #notebook-container .cell:nth-child(5) {\n",
       "        display: none;\n",
       "    }\n",
       "    \n",
       "    #notebook-container .cell:nth-child(6) {\n",
       "        display: none;\n",
       "    }\n",
       "    \n",
       "    table {float: left;}\n",
       "    table td, table th, table tr {\n",
       "        text-align:left !important;\n",
       "    }\n",
       "    \n",
       "    .menu_table thead,\n",
       "    .menu_table tbody,\n",
       "    .menu_table tr\n",
       "    {\n",
       "        border: none !important;\n",
       "        background: none !important;\n",
       "        cursor: default;\n",
       "    }\n",
       "    \n",
       "    .menu_table thead {\n",
       "        display: none;\n",
       "    }\n",
       "    \n",
       "    .clearfix {\n",
       "        clear: both;\n",
       "    }\n",
       "    \n",
       "    \n",
       "    /*----BLOCKS-------------*/\n",
       "    \n",
       "    .rendered_html em del \n",
       "    {\n",
       "        text-decoration: none;\n",
       "        border: 1px solid gray;\n",
       "        border-radius: 10px;\n",
       "        padding: 2px;\n",
       "        background: bisque;\n",
       "        box-shadow: 1px 1px 3px grey;\n",
       "        font-style: italic;\n",
       "        font-weight: bold;\n",
       "        color: brown;\n",
       "        line-height: 30px;\n",
       "    }\n",
       "    \n",
       "    .rendered_html del {\n",
       "        text-decoration: none !important;\n",
       "    }\n",
       "    \n",
       "    \n",
       "    .rendered_html strong em,\n",
       "    .rendered_html em strong \n",
       "    {\n",
       "        \n",
       "        display: block;\n",
       "        border-radius: 5px;\n",
       "        padding: 15px;\n",
       "        font-style: normal !important;\n",
       "        text-decoration: none;\n",
       "    }\n",
       "    \n",
       "    .rendered_html strong em\n",
       "    {\n",
       "        background: rgba(66, 165, 245, 0.2);\n",
       "        color: rgba(0, 0, 0, 0.8);\n",
       "        font-weight: normal;\n",
       "    }\n",
       "    \n",
       "    .rendered_html em strong\n",
       "    {\n",
       "        background: rgba(232, 245, 233, 1);\n",
       "        color: rgba(0, 0, 0, 0.8);\n",
       "        font-weight: normal;\n",
       "    }\n",
       "\n",
       "    .rendered_html strong em code,\n",
       "    .rendered_html em strong code\n",
       "    {\n",
       "        background: white;\n",
       "        border-radius: 4px;\n",
       "        padding: 2px !important;\n",
       "    }    \n",
       "\n",
       "\n",
       "    /*-----TABLE---------*/\n",
       "    \n",
       "    .table_border {\n",
       "        border-radius: 10px;\n",
       "        border: 1px solid #ccc !important;\n",
       "        margin: 5px;\n",
       "        margin-top: 40px !important;\n",
       "        padding: 5px;\n",
       "        display: inline-block;\n",
       "        cursor: default;\n",
       "        box-shadow: 5px 4px 5px 1px rgba(0, 0, 0, 0.07);\n",
       "    }\n",
       "    \n",
       "    .table_border:before, \n",
       "    p.value:before \n",
       "    {\n",
       "        content: attr(data-title);\n",
       "        position: absolute;\n",
       "        display: block;\n",
       "        margin-block: auto;\n",
       "        margin-top: -25px;\n",
       "        /*color: rgb(0 0 0 / 30%);*/\n",
       "        color: #4caf50;\n",
       "        font-size: 10px;\n",
       "    }\n",
       "\n",
       "    p:before \n",
       "    {\n",
       "        margin-top: -15px !important;\n",
       "    }\n",
       "    \n",
       "    p.value \n",
       "    {\n",
       "        padding-top: 40px;\n",
       "    }\n",
       "    \n",
       "    .table_border thead, \n",
       "    .table_border thead tr, \n",
       "    .table_border thead th {\n",
       "        color: #03a9f4;\n",
       "        vertical-align: middle;\n",
       "    }\n",
       "    \n",
       "\n",
       "    .table_border thead tr\n",
       "    {\n",
       "        background: rgba(66, 165, 245, 0.2) !important;\n",
       "        border-bottom: 1px solid #b2ebf2 !important;\n",
       "        padding: 1px;\n",
       "    }\n",
       "    \n",
       "    .table_border tbody td:hover\n",
       "    {\n",
       "        font-weight: bold;\n",
       "        color: #03a9f4;\n",
       "    }\n",
       "\n",
       "    .table_border thead tr:first-child th:first-child {\n",
       "        border-radius: 10px 0px 0px 0px;\n",
       "    }\n",
       "\n",
       "    .table_border thead tr:first-child th:last-child {\n",
       "        border-radius: 0px 10px 0px 0px;\n",
       "    }\n",
       "    \n",
       "    .table_border tbody tr:last-child:hover\n",
       "    {\n",
       "        border-radius: 0px 0px 10px 10px;\n",
       "        padding: 0px;\n",
       "    }\n",
       "    \n",
       "    .table_border tbody tr:last-child:hover th,\n",
       "    .table_border tbody tr:last-child:hover td {\n",
       "        background: antiquewhite !important;\n",
       "    }\n",
       "\n",
       "    .table_border tbody tr:hover,\n",
       "    .table_border tbody tr:hover th,\n",
       "    .table_border tbody tr:hover td,\n",
       "    .table_border tbody tr:hover > th,\n",
       "    .table_border tbody td.active\n",
       "    {\n",
       "        background: rgba(66, 165, 245, 0.2) !important;\n",
       "    }\n",
       "    \n",
       "    .table_border tbody tr:last-child:hover th,\n",
       "    .table_border tbody tr:last-child:hover td:first-child {\n",
       "        border-radius: 0px 0px 0px 10px;\n",
       "        display: table-cell;\n",
       "    }\n",
       "    \n",
       "    .table_border tbody tr:last-child:hover td:last-child {\n",
       "        border-radius: 0px 0px 10px 0px;\n",
       "        display: table-cell;\n",
       "    }\n",
       "    \n",
       "    .table_border tbody tr,\n",
       "    .table_border tbody th,\n",
       "    .table_border tbody td\n",
       "    {\n",
       "        background: white;\n",
       "    }\n",
       "    \n",
       "    .table_border tbody td {\n",
       "        min-width: 120px;\n",
       "    }\n",
       "    \n",
       "    .table_border tbody tr .row_heading {\n",
       "        color: rgba(0,0,0,0.2)\n",
       "    }\n",
       "    \n",
       "    .table_border td.table_border_td_nan {\n",
       "        font-weight: bold;\n",
       "        text-transform: capitalize;\n",
       "        color: red;\n",
       "    }\n",
       "\n",
       "    .table_border tbody tr:hover .row_heading {\n",
       "        color: #1565c0;\n",
       "    }\n",
       "    \n",
       "    /*\n",
       "    ++++++++++++++++++++++\n",
       "    .table_border {\n",
       "        border-radius: 13px;\n",
       "        border: 1px solid #ccc !important;\n",
       "        margin: 5px;\n",
       "        padding: 5px;\n",
       "        display: inline-block;\n",
       "        cursor: default;\n",
       "        box-shadow: 5px 4px 5px 1px rgba(0, 0, 0, 0.07);\n",
       "    }\n",
       "    \n",
       "    .table_border table, \n",
       "    {\n",
       "        border-collapse: separate;\n",
       "    }\n",
       "    \n",
       "    .table_border thead,\n",
       "    .table_border thead tr,\n",
       "    .table_border thead th\n",
       "    {\n",
       "        text-align: center !important;\n",
       "        color: #03a9f4;\n",
       "    }\n",
       "    \n",
       "    \n",
       "    .table_border thead th\n",
       "    {\n",
       "        border-right: 1px solid;\n",
       "    }\n",
       "    \n",
       "    .table_border thead th:last-child\n",
       "    {\n",
       "        border-right: none;\n",
       "    }\n",
       "    \n",
       "    .table_border thead\n",
       "    {\n",
       "        display: table-caption;\n",
       "        border: none !important;\n",
       "    }\n",
       "    \n",
       "    .table_border tbody\n",
       "    {\n",
       "        border: none !important;\n",
       "        display: table-cell;\n",
       "    }\n",
       "    \n",
       "    ++++++++++++++++++++++\n",
       "    .table_border thead tr\n",
       "    {\n",
       "        background: rgba(66, 165, 245, 0.2) !important;\n",
       "        border-bottom: 1px solid #b2ebf2 !important;\n",
       "        display: table-row;\n",
       "        padding: 1px;\n",
       "    }\n",
       "    \n",
       "    ++++++++++++++++++++++\n",
       "    .table_border thead tr:first-child th:first-child {\n",
       "        display: table-cell;\n",
       "        border-radius: 10px 0px 0px 0px;\n",
       "    }\n",
       "    ++++++++++++++++++++++\n",
       "    .table_border thead tr:first-child th:last-child {\n",
       "        display: table-cell;\n",
       "        border-radius: 0px 10px 0px 0px;\n",
       "    }\n",
       "    \n",
       "    .table_border thead th\n",
       "    {\n",
       "        word-break: inherit;            \n",
       "    }\n",
       "\n",
       "    .table_border th, .table_border tbody td {\n",
       "        width: 110px;\n",
       "        word-break: break-word;\n",
       "    }\n",
       "    \n",
       "    .table_border tbody tr\n",
       "    {\n",
       "        background: none !important;\n",
       "    }\n",
       "    \n",
       "    ++++++++++++++++++++++\n",
       "    .table_border tbody tr:hover,\n",
       "    .table_border tbody td.active\n",
       "    {\n",
       "        background: rgba(66, 165, 245, 0.2) !important;\n",
       "    }\n",
       "    \n",
       "    ++++++++++++++++++++++\n",
       "    .table_border tbody td:hover\n",
       "    {\n",
       "        font-weight: bold;\n",
       "        color: #03a9f4;\n",
       "    }\n",
       "    \n",
       "    .table_border tbody tr:last-child:hover\n",
       "    {\n",
       "        border-radius: 0px 0px 10px 10px;\n",
       "        display: block;\n",
       "        padding: 0px;\n",
       "        background: antiquewhite !important;\n",
       "    }\n",
       "    \n",
       "    /*.table_border th, \n",
       "    .table_border td\n",
       "    {\n",
       "        width: 250px !important;\n",
       "        word-break: break-word;\n",
       "    }*/\n",
       "    \n",
       "    \n",
       "    .sea_war th,\n",
       "    .sea_war td\n",
       "    {\n",
       "        width: 26px !important;\n",
       "    }\n",
       "    \n",
       "    .sea_war tbody th,\n",
       "    .sea_war tbody td\n",
       "    {\n",
       "        border: 1px solid rgba(0,0,0,0.1);\n",
       "    }\n",
       "    \n",
       "    .sea_war tbody th\n",
       "    {\n",
       "        color: rgba(0,0,0,0.5);\n",
       "        text-align: center !important;\n",
       "    }\n",
       "    \n",
       "    /*---------------Borders------------------------*/\n",
       "    \n",
       "    /* border_horizont  */\n",
       "    .border_horizont tbody th, \n",
       "    .border_horizont tbody td\n",
       "    {\n",
       "        border-bottom: 1px solid rgba(0,0,0,0.04);\n",
       "    }\n",
       "    \n",
       "    .border_horizont tbody tr:last-child th, \n",
       "    .border_horizont tbody tr:last-child td\n",
       "    {\n",
       "        border-bottom: none;\n",
       "    }\n",
       "    \n",
       "    /* border_vertical  */\n",
       "    .border_vertical tbody th, \n",
       "    .border_vertical tbody td\n",
       "    {\n",
       "        border-right: 1px solid rgba(0,0,0,0.04);\n",
       "    }\n",
       "     \n",
       "    .border_vertical tbody td:last-child\n",
       "    {\n",
       "        border-right: none;\n",
       "    }\n",
       "    \n",
       "    /* border_display  */\n",
       "    .border_display tbody th, \n",
       "    .border_display tbody td\n",
       "    {\n",
       "        border: 1px solid rgba(0,0,0,0.04);\n",
       "    }\n",
       "    .border_display tbody th,\n",
       "    .border_display tbody td\n",
       "    {\n",
       "        border-left: none;\n",
       "        border-top: none;\n",
       "    }\n",
       "    .border_display tbody td:last-child\n",
       "    {\n",
       "       border-right: none; \n",
       "    }\n",
       "    .border_display tbody tr:last-child th,\n",
       "    .border_display tbody tr:last-child td \n",
       "    {\n",
       "        border-bottom: none;\n",
       "    }\n",
       "    \n",
       "    \n",
       "    /* positions  */\n",
       "    \n",
       "    .position_left thead th,\n",
       "    .position_left tbody td {\n",
       "        text-align: left !important;\n",
       "    }\n",
       "    \n",
       "    .position_center thead th,\n",
       "    .position_center tbody td {\n",
       "        text-align: center !important;\n",
       "    }\n",
       "\n",
       "    .position_right thead th,\n",
       "    .position_right tbody td {\n",
       "        text-align: right !important;\n",
       "    }\n",
       "    \n",
       "    .position_left_header thead th {\n",
       "        text-align: left !important;\n",
       "    }\n",
       "    \n",
       "    .position_center_header thead th {\n",
       "        text-align: center !important;\n",
       "    }\n",
       "    .position_right_header thead th {\n",
       "        text-align: right !important;\n",
       "    }\n",
       "    \n",
       "    /*---------------Code------------------------*/\n",
       "    .rendered_html p code,\n",
       "    .rendered_html ul code,\n",
       "    .rendered_html pre code[class*=\"custom\"]\n",
       "    {\n",
       "        background-color: #d9edfd;\n",
       "        color: #4c4c4c;\n",
       "        font-size: 16px !important;\n",
       "        border-radius: 10px;\n",
       "        font-weight: bold;\n",
       "        border: 1px solid #ccc !important;\n",
       "        padding: 5px !important;\n",
       "        line-height: 19px !important;\n",
       "        display: inline-block;\n",
       "        margin: 5px 0px 0px 0px;\n",
       "        word-break: break-word;\n",
       "    }\n",
       "    \n",
       "    .rendered_html code span[class*=\"-bold\"]\n",
       "    {\n",
       "        font-weight: bold;\n",
       "    }\n",
       "    \n",
       "    .rendered_html code span[class*=\"-italic\"]\n",
       "    {\n",
       "        font-style: italic;\n",
       "    }\n",
       "    \n",
       "    .rendered_html code span[class*=\"-marker\"]\n",
       "    {\n",
       "        background: #ffeb3b8c;\n",
       "        font-weight: bold;\n",
       "        border: 1px solid #9e9e9e;\n",
       "        box-shadow: 1px 1px 5px 0px #00000045;\n",
       "        border-radius: 4px;\n",
       "        padding: 2px;\n",
       "        opacity: 0.8;\n",
       "        line-height: 30px;\n",
       "    }\n",
       "\n",
       "    .rendered_html code[class*=\"error\"] {\n",
       "        color: red !important;\n",
       "        background-color: rgba(244, 67, 54, 0.1) !important;\n",
       "        font-weight: normal !important;\n",
       "    }\n",
       "    \n",
       "    .rendered_html code[class*=\"warning\"] {\n",
       "        color: #ff9800 !important;\n",
       "        background-color: rgba(244, 243, 54, 0.1) !important;\n",
       "        font-weight: normal !important;\n",
       "    }\n",
       "\n",
       "    .rendered_html code[class*=\"info\"] {\n",
       "        color: green !important;\n",
       "        background-color: rgb(54, 244, 91, 0.1) !important;\n",
       "        font-weight: normal !important;\n",
       "    }\n",
       "    \n",
       "    .rendered_html code[class*=\"word\"] {\n",
       "        color: #00bcd4 !important;\n",
       "        background-color: rgba(54, 195, 244, 0.1) !important;\n",
       "        font-weight: normal !important;\n",
       "    }\n",
       "    \n",
       "    /*---------------Imgs------------------------*/\n",
       "    .rendered_html img\n",
       "    {\n",
       "        border-radius: 16px;\n",
       "        border: 1px solid rgb(0 0 0 / 25%);\n",
       "        box-shadow: 5px 6px 8px 1px hsl(0deg 0% 0% / 25%);\n",
       "        padding: 4px;\n",
       "        margin-bottom: 10px;\n",
       "        max-width: 65em;\n",
       "    }\n",
       "    \n",
       "    #ipython_notebook:after {\n",
       "        content: '@alefair кодит';\n",
       "        position: relative;\n",
       "        color: #2196f3;\n",
       "        bottom: 7px;\n",
       "        right: -35px;\n",
       "    }\n",
       "                                                 \n",
       "   .total .banner {\n",
       "        background: repeating-linear-gradient(248deg , rgba(0 , 188 , 212 , 0.24) , rgba(255 , 0 , 0 , 0) , rgba(0 , 188 , 212 , 0.5) 5px) , repeating-linear-gradient(248deg , rgba(96 , 125 , 139 , 0.5) , rgba(0 , 255 , 0 , 0) 45.71%);\n",
       "        height: 50px;\n",
       "        border: 1px solid #999;\n",
       "        border-bottom: none;\n",
       "   }\n",
       "                                                 \n",
       "   .total .description {\n",
       "        border: 1px solid #999;\n",
       "        border-top: none;\n",
       "        padding: 20px;\n",
       "        font-family: monospace;\n",
       "   }\n",
       "                                                 \n",
       "   .total .description h3,\n",
       "   .total .description h4                                              \n",
       "   {\n",
       "        font-weight: bold;\n",
       "        font-size: 16px;\n",
       "        color: #999;\n",
       "        margin-bottom: 10px;\n",
       "   }\n",
       "                                                 \n",
       "   .total .description .content {\n",
       "        color: #333;\n",
       "        font-size: 13px;\n",
       "        border-radius: 10px;\n",
       "        overflow: hidden;\n",
       "        box-shadow: 1px 1px 3px 2px rgba(0, 0, 0, 0.3);\n",
       "   }\n",
       "                                                 \n",
       "    .ribbon {\n",
       "        text-align: center;\n",
       "        display: block;\n",
       "        width: 150px;\n",
       "        height: 40px;\n",
       "        background: #ff5722;\n",
       "        color: white;\n",
       "        font-family: monospace;\n",
       "        padding-top: 10px;\n",
       "    }\n",
       "    .ribbon:after {\n",
       "        content: \"\";\n",
       "        display: block;\n",
       "        position: relative;\n",
       "        top: 10px;\n",
       "        width: 0px;\n",
       "        height: 0;\n",
       "        border-width: 10px 75px 50px 75px;\n",
       "        border-style: solid;\n",
       "        border-color: #ff5722 #d00202 transparent #d00202;\n",
       "    }\n",
       "</style>\n"
      ],
      "text/plain": [
       "<IPython.core.display.HTML object>"
      ]
     },
     "metadata": {},
     "output_type": "display_data"
    }
   ],
   "source": [
    "%%HTML\n",
    "<style> \n",
    "    \n",
    "    #project_logo\n",
    "    {\n",
    "        height: 150px;\n",
    "    }\n",
    "    \n",
    "    #logo_bg\n",
    "    {\n",
    "        text-align: right;\n",
    "        color: white;\n",
    "        font-family: monospace;\n",
    "        height: 100px;\n",
    "        background: \n",
    "            repeating-linear-gradient(\n",
    "                248deg, \n",
    "                rgba(0 , 188 , 212 , 0.24), \n",
    "                rgba(255 , 0 , 0 , 0), \n",
    "                rgba(0 , 188 , 212 , 0.5) 5px\n",
    "            ), \n",
    "            repeating-linear-gradient(\n",
    "                180deg, \n",
    "                #9e9e9e, \n",
    "                rgba(0 , 255 , 0 , 0) 70.71%\n",
    "            ), \n",
    "            repeating-linear-gradient(\n",
    "                0deg, \n",
    "                #607d8b, \n",
    "                rgba(0 , 0 , 255 , 0) 70.71%\n",
    "            );\n",
    "    }\n",
    "    \n",
    "    #logo_text \n",
    "    {\n",
    "        font-size: 100px; \n",
    "        font-weight: bold; \n",
    "        font-family: monospace; \n",
    "        color: #607d8b; \n",
    "        line-height: 100px; \n",
    "        text-shadow: 10px 0 0 rgba(255 , 255 , 255 , 0.45), \n",
    "            -2px 0 0 #fff, \n",
    "            0 1px 0 #fff, \n",
    "            0 -1px 0 #fff, \n",
    "            1px 1px #fff, \n",
    "            -1px -1px 0 #fff, \n",
    "            1px -1px 0 #fff,\n",
    "            -1px 1px 0 #fff, \n",
    "            10px 19px 4px; \n",
    "        opacity: 0.8; \n",
    "        text-align: center;\n",
    "    }\n",
    "    \n",
    "    #project_author\n",
    "    {\n",
    "        width: 160px;\n",
    "        height: 30px;\n",
    "        line-height: 10px;\n",
    "        display: inline-block;\n",
    "        background-color: #ff5722;\n",
    "        padding: 10px;\n",
    "        border-radius: 0px 0px 20px 20px;\n",
    "        text-align: center;\n",
    "        box-shadow: 3px 2px 3px 2px #ccc;\n",
    "        margin: 0;\n",
    "        margin-right: 40px;\n",
    "    }\n",
    "    \n",
    "    \n",
    "    \n",
    "    /*********TARIFFS***********/\n",
    "    \n",
    "    #tariff_smart\n",
    "    {\n",
    "        text-align: right; \n",
    "        color: white; \n",
    "        font-family: monospace; \n",
    "        height: 580px; \n",
    "        background: \n",
    "            repeating-linear-gradient(\n",
    "                248deg, \n",
    "                rgba(0, 188, 212, 0.24), \n",
    "                rgba(255 , 0 , 0 , 0), \n",
    "                rgba(0, 188, 212, 0.5) 5px\n",
    "            ), \n",
    "            repeating-linear-gradient(\n",
    "                130deg, \n",
    "                #9e9e9e, \n",
    "                rgba(0 , 255 , 0 , 0) 70.71%\n",
    "            ), \n",
    "            repeating-linear-gradient(\n",
    "                20deg, \n",
    "                #607d8b, \n",
    "                rgba(0 , 0 , 255 , 0) 70.71%\n",
    "            );\n",
    "    }\n",
    "\n",
    "    #tariff_ultra\n",
    "    {\n",
    "        text-align: left; \n",
    "        color: white; \n",
    "        font-family: monospace; \n",
    "        height: 580px;\n",
    "        background: \n",
    "            repeating-linear-gradient(\n",
    "                248deg, \n",
    "                rgba(0 , 188 , 212 , 0.24), \n",
    "                rgba(255 , 0 , 0 , 0), \n",
    "                rgba(0 , 188 , 212 , 0.5) 5px\n",
    "            ), \n",
    "            repeating-linear-gradient(\n",
    "                310deg, \n",
    "                #9e9e9e, \n",
    "                rgba(0 , 255 , 0 , 0) 70.71%\n",
    "            ) , \n",
    "            repeating-linear-gradient(\n",
    "                205deg, \n",
    "                #607d8b, \n",
    "                rgba(0 , 0 , 255 , 0) 70.71%\n",
    "            );\n",
    "    }\n",
    "\n",
    "    .tariff_block\n",
    "    {\n",
    "        width: 440px;\n",
    "        display: inline-block;\n",
    "        text-align: center;\n",
    "    }\n",
    "\n",
    "    .tariff_name\n",
    "    {\n",
    "        width: 118px;\n",
    "        display: inline-block;\n",
    "        background-color: #ff5722;\n",
    "        padding: 10px;\n",
    "        border-radius: 20px 0px 40px 0px;\n",
    "        margin-right: -100px;\n",
    "    }\n",
    "\n",
    "    #tariff_ultra .tariff_name\n",
    "    {\n",
    "        margin-right: -100px !important;\n",
    "    }\n",
    "\n",
    "    .tariff_bg\n",
    "    {\n",
    "        width: 400px;\n",
    "        height: 400px;\n",
    "        background: \n",
    "            linear-gradient(\n",
    "                248deg, \n",
    "                #4caf50, \n",
    "                rgba(255 , 0 , 0 , 0.2) 70.71%\n",
    "            ), \n",
    "            linear-gradient(\n",
    "                122deg, \n",
    "                #8bc34a, \n",
    "                rgba(0 , 255 , 0 , 0.5) 70.71%\n",
    "            ), \n",
    "            linear-gradient(\n",
    "                9deg, \n",
    "                #4caf50, \n",
    "                rgba(0 , 0 , 255 , 0.5) 70.71%\n",
    "            );\n",
    "        display: inline-block;\n",
    "        padding: 10px;\n",
    "        box-shadow: 3px 3px 4px 1px rgba(0, 0, 0, 0.27);\n",
    "        border-radius: 160px;\n",
    "        margin: 20px;\n",
    "        margin-top: 0px !important;\n",
    "        text-align: center !important;\n",
    "    }\n",
    "\n",
    "    .tariff_price\n",
    "    {\n",
    "        color: #333;\n",
    "        font-weight: bold;\n",
    "        font-size: 60px;\n",
    "        line-height: 125px;\n",
    "        width: 150px;\n",
    "        height: 150px;\n",
    "        background-color: white;\n",
    "        border-radius: 80px;\n",
    "        padding: 10px;\n",
    "        position: relative;\n",
    "        top: 5px;\n",
    "        display: inline-block\n",
    "    }\n",
    "\n",
    "    .tariff_price_description\n",
    "    {\n",
    "        display: inline-block;\n",
    "        position: relative;\n",
    "        width: 400px;\n",
    "        top: -30px;\n",
    "        color: #333;\n",
    "        font-size: 10px;\n",
    "        margin-left: -10px\n",
    "    }\n",
    "\n",
    "    .tariff_settings_block\n",
    "    {\n",
    "        position: relative;\n",
    "        left: 20px;\n",
    "        top: -25px;\n",
    "        display: flex;\n",
    "        width: 320px;\n",
    "    }\n",
    "\n",
    "    .tariff_settings_buttons_block\n",
    "    {\n",
    "        color: #333;\n",
    "        font-family: 'segoe ui' , 'roboto' , 'oxygen' , 'ubuntu' , 'helvetica neue' , 'arial' , sans-serif , 'apple color emoji' , 'segoe ui emoji' , 'segoe ui symbol';\n",
    "        font-size: 40px;\n",
    "        width: 90px;\n",
    "        display: inline-block;\n",
    "        line-height: 40px;\n",
    "        text-align: center;\n",
    "        padding: 10px;\n",
    "    }\n",
    "\n",
    "    .tariff_settings_button\n",
    "    {\n",
    "        border-radius: 30px;\n",
    "        background-color: white;\n",
    "        height: 60px;\n",
    "        width: 60px;\n",
    "        padding-top: 8px;\n",
    "        display: inline-block;\n",
    "    }\n",
    "\n",
    "    .tariff_settings_button.last\n",
    "    {\n",
    "        padding-top: 8px !important;\n",
    "    }\n",
    "\n",
    "\n",
    "    .tariff_settings_description_block\n",
    "    {\n",
    "        text-align: left;\n",
    "        padding: 10px;\n",
    "        line-height: 60px;\n",
    "        font-size: 18px;\n",
    "        font-weight: bold;\n",
    "    }\n",
    "\n",
    "    .tariff_settings_description\n",
    "    {\n",
    "        display: inline-block;\n",
    "        height: 60px;\n",
    "        width: 100%;\n",
    "    }\n",
    "\n",
    "    .tariff_settings_limit\n",
    "    {\n",
    "        width: 100%;\n",
    "        background: \n",
    "            linear-gradient(\n",
    "                248deg, \n",
    "                #ff5722, \n",
    "                rgba(255 , 0 , 0 , 0) 70.71%\n",
    "            ), \n",
    "            linear-gradient(\n",
    "                122deg, \n",
    "                #e91e63, \n",
    "                rgba(0 , 255 , 0 , 0) 70.71%\n",
    "            ), \n",
    "            linear-gradient(\n",
    "                9deg, \n",
    "                #9c27b0, \n",
    "                rgba(0 , 0 , 255 , 0) 70.71%\n",
    "            );\n",
    "            text-align: left;\n",
    "            padding: 10px;\n",
    "    }\n",
    "    \n",
    "    /****END***TARIFFS***********/\n",
    "    \n",
    "    h1, h2, h3 {\n",
    "        /* background: repeating-linear-gradient(248deg , #ffffff , rgb(96 125 139 / 50%) , rgb(255 255 255 / 50%) 5px); */\n",
    "        padding: 10px;\n",
    "        color: #607d8b;\n",
    "    }\n",
    "    \n",
    "    div.ow_fl {\n",
    "        overflow: auto;\n",
    "    }\n",
    "    \n",
    "    div.ow_fl p {\n",
    "        display:flex;\n",
    "    }\n",
    "    \n",
    "    .rendered_html :link {\n",
    "        text-decoration: none;\n",
    "    }\n",
    "        \n",
    "    a:hover, a:focus {\n",
    "        color: #1a466c;\n",
    "        text-decoration: underline !important;\n",
    "    }\n",
    "    \n",
    "    #notebook-container {\n",
    "        /*width: 1700px;*/\n",
    "    }\n",
    "    \n",
    "    #notebook-container .cell:nth-child(5) {\n",
    "        display: none;\n",
    "    }\n",
    "    \n",
    "    #notebook-container .cell:nth-child(6) {\n",
    "        display: none;\n",
    "    }\n",
    "    \n",
    "    table {float: left;}\n",
    "    table td, table th, table tr {\n",
    "        text-align:left !important;\n",
    "    }\n",
    "    \n",
    "    .menu_table thead,\n",
    "    .menu_table tbody,\n",
    "    .menu_table tr\n",
    "    {\n",
    "        border: none !important;\n",
    "        background: none !important;\n",
    "        cursor: default;\n",
    "    }\n",
    "    \n",
    "    .menu_table thead {\n",
    "        display: none;\n",
    "    }\n",
    "    \n",
    "    .clearfix {\n",
    "        clear: both;\n",
    "    }\n",
    "    \n",
    "    \n",
    "    /*----BLOCKS-------------*/\n",
    "    \n",
    "    .rendered_html em del \n",
    "    {\n",
    "        text-decoration: none;\n",
    "        border: 1px solid gray;\n",
    "        border-radius: 10px;\n",
    "        padding: 2px;\n",
    "        background: bisque;\n",
    "        box-shadow: 1px 1px 3px grey;\n",
    "        font-style: italic;\n",
    "        font-weight: bold;\n",
    "        color: brown;\n",
    "        line-height: 30px;\n",
    "    }\n",
    "    \n",
    "    .rendered_html del {\n",
    "        text-decoration: none !important;\n",
    "    }\n",
    "    \n",
    "    \n",
    "    .rendered_html strong em,\n",
    "    .rendered_html em strong \n",
    "    {\n",
    "        \n",
    "        display: block;\n",
    "        border-radius: 5px;\n",
    "        padding: 15px;\n",
    "        font-style: normal !important;\n",
    "        text-decoration: none;\n",
    "    }\n",
    "    \n",
    "    .rendered_html strong em\n",
    "    {\n",
    "        background: rgba(66, 165, 245, 0.2);\n",
    "        color: rgba(0, 0, 0, 0.8);\n",
    "        font-weight: normal;\n",
    "    }\n",
    "    \n",
    "    .rendered_html em strong\n",
    "    {\n",
    "        background: rgba(232, 245, 233, 1);\n",
    "        color: rgba(0, 0, 0, 0.8);\n",
    "        font-weight: normal;\n",
    "    }\n",
    "\n",
    "    .rendered_html strong em code,\n",
    "    .rendered_html em strong code\n",
    "    {\n",
    "        background: white;\n",
    "        border-radius: 4px;\n",
    "        padding: 2px !important;\n",
    "    }    \n",
    "\n",
    "\n",
    "    /*-----TABLE---------*/\n",
    "    \n",
    "    .table_border {\n",
    "        border-radius: 10px;\n",
    "        border: 1px solid #ccc !important;\n",
    "        margin: 5px;\n",
    "        margin-top: 40px !important;\n",
    "        padding: 5px;\n",
    "        display: inline-block;\n",
    "        cursor: default;\n",
    "        box-shadow: 5px 4px 5px 1px rgba(0, 0, 0, 0.07);\n",
    "    }\n",
    "    \n",
    "    .table_border:before, \n",
    "    p.value:before \n",
    "    {\n",
    "        content: attr(data-title);\n",
    "        position: absolute;\n",
    "        display: block;\n",
    "        margin-block: auto;\n",
    "        margin-top: -25px;\n",
    "        /*color: rgb(0 0 0 / 30%);*/\n",
    "        color: #4caf50;\n",
    "        font-size: 10px;\n",
    "    }\n",
    "\n",
    "    p:before \n",
    "    {\n",
    "        margin-top: -15px !important;\n",
    "    }\n",
    "    \n",
    "    p.value \n",
    "    {\n",
    "        padding-top: 40px;\n",
    "    }\n",
    "    \n",
    "    .table_border thead, \n",
    "    .table_border thead tr, \n",
    "    .table_border thead th {\n",
    "        color: #03a9f4;\n",
    "        vertical-align: middle;\n",
    "    }\n",
    "    \n",
    "\n",
    "    .table_border thead tr\n",
    "    {\n",
    "        background: rgba(66, 165, 245, 0.2) !important;\n",
    "        border-bottom: 1px solid #b2ebf2 !important;\n",
    "        padding: 1px;\n",
    "    }\n",
    "    \n",
    "    .table_border tbody td:hover\n",
    "    {\n",
    "        font-weight: bold;\n",
    "        color: #03a9f4;\n",
    "    }\n",
    "\n",
    "    .table_border thead tr:first-child th:first-child {\n",
    "        border-radius: 10px 0px 0px 0px;\n",
    "    }\n",
    "\n",
    "    .table_border thead tr:first-child th:last-child {\n",
    "        border-radius: 0px 10px 0px 0px;\n",
    "    }\n",
    "    \n",
    "    .table_border tbody tr:last-child:hover\n",
    "    {\n",
    "        border-radius: 0px 0px 10px 10px;\n",
    "        padding: 0px;\n",
    "    }\n",
    "    \n",
    "    .table_border tbody tr:last-child:hover th,\n",
    "    .table_border tbody tr:last-child:hover td {\n",
    "        background: antiquewhite !important;\n",
    "    }\n",
    "\n",
    "    .table_border tbody tr:hover,\n",
    "    .table_border tbody tr:hover th,\n",
    "    .table_border tbody tr:hover td,\n",
    "    .table_border tbody tr:hover > th,\n",
    "    .table_border tbody td.active\n",
    "    {\n",
    "        background: rgba(66, 165, 245, 0.2) !important;\n",
    "    }\n",
    "    \n",
    "    .table_border tbody tr:last-child:hover th,\n",
    "    .table_border tbody tr:last-child:hover td:first-child {\n",
    "        border-radius: 0px 0px 0px 10px;\n",
    "        display: table-cell;\n",
    "    }\n",
    "    \n",
    "    .table_border tbody tr:last-child:hover td:last-child {\n",
    "        border-radius: 0px 0px 10px 0px;\n",
    "        display: table-cell;\n",
    "    }\n",
    "    \n",
    "    .table_border tbody tr,\n",
    "    .table_border tbody th,\n",
    "    .table_border tbody td\n",
    "    {\n",
    "        background: white;\n",
    "    }\n",
    "    \n",
    "    .table_border tbody td {\n",
    "        min-width: 120px;\n",
    "    }\n",
    "    \n",
    "    .table_border tbody tr .row_heading {\n",
    "        color: rgba(0,0,0,0.2)\n",
    "    }\n",
    "    \n",
    "    .table_border td.table_border_td_nan {\n",
    "        font-weight: bold;\n",
    "        text-transform: capitalize;\n",
    "        color: red;\n",
    "    }\n",
    "\n",
    "    .table_border tbody tr:hover .row_heading {\n",
    "        color: #1565c0;\n",
    "    }\n",
    "    \n",
    "    /*\n",
    "    ++++++++++++++++++++++\n",
    "    .table_border {\n",
    "        border-radius: 13px;\n",
    "        border: 1px solid #ccc !important;\n",
    "        margin: 5px;\n",
    "        padding: 5px;\n",
    "        display: inline-block;\n",
    "        cursor: default;\n",
    "        box-shadow: 5px 4px 5px 1px rgba(0, 0, 0, 0.07);\n",
    "    }\n",
    "    \n",
    "    .table_border table, \n",
    "    {\n",
    "        border-collapse: separate;\n",
    "    }\n",
    "    \n",
    "    .table_border thead,\n",
    "    .table_border thead tr,\n",
    "    .table_border thead th\n",
    "    {\n",
    "        text-align: center !important;\n",
    "        color: #03a9f4;\n",
    "    }\n",
    "    \n",
    "    \n",
    "    .table_border thead th\n",
    "    {\n",
    "        border-right: 1px solid;\n",
    "    }\n",
    "    \n",
    "    .table_border thead th:last-child\n",
    "    {\n",
    "        border-right: none;\n",
    "    }\n",
    "    \n",
    "    .table_border thead\n",
    "    {\n",
    "        display: table-caption;\n",
    "        border: none !important;\n",
    "    }\n",
    "    \n",
    "    .table_border tbody\n",
    "    {\n",
    "        border: none !important;\n",
    "        display: table-cell;\n",
    "    }\n",
    "    \n",
    "    ++++++++++++++++++++++\n",
    "    .table_border thead tr\n",
    "    {\n",
    "        background: rgba(66, 165, 245, 0.2) !important;\n",
    "        border-bottom: 1px solid #b2ebf2 !important;\n",
    "        display: table-row;\n",
    "        padding: 1px;\n",
    "    }\n",
    "    \n",
    "    ++++++++++++++++++++++\n",
    "    .table_border thead tr:first-child th:first-child {\n",
    "        display: table-cell;\n",
    "        border-radius: 10px 0px 0px 0px;\n",
    "    }\n",
    "    ++++++++++++++++++++++\n",
    "    .table_border thead tr:first-child th:last-child {\n",
    "        display: table-cell;\n",
    "        border-radius: 0px 10px 0px 0px;\n",
    "    }\n",
    "    \n",
    "    .table_border thead th\n",
    "    {\n",
    "        word-break: inherit;            \n",
    "    }\n",
    "\n",
    "    .table_border th, .table_border tbody td {\n",
    "        width: 110px;\n",
    "        word-break: break-word;\n",
    "    }\n",
    "    \n",
    "    .table_border tbody tr\n",
    "    {\n",
    "        background: none !important;\n",
    "    }\n",
    "    \n",
    "    ++++++++++++++++++++++\n",
    "    .table_border tbody tr:hover,\n",
    "    .table_border tbody td.active\n",
    "    {\n",
    "        background: rgba(66, 165, 245, 0.2) !important;\n",
    "    }\n",
    "    \n",
    "    ++++++++++++++++++++++\n",
    "    .table_border tbody td:hover\n",
    "    {\n",
    "        font-weight: bold;\n",
    "        color: #03a9f4;\n",
    "    }\n",
    "    \n",
    "    .table_border tbody tr:last-child:hover\n",
    "    {\n",
    "        border-radius: 0px 0px 10px 10px;\n",
    "        display: block;\n",
    "        padding: 0px;\n",
    "        background: antiquewhite !important;\n",
    "    }\n",
    "    \n",
    "    /*.table_border th, \n",
    "    .table_border td\n",
    "    {\n",
    "        width: 250px !important;\n",
    "        word-break: break-word;\n",
    "    }*/\n",
    "    \n",
    "    \n",
    "    .sea_war th,\n",
    "    .sea_war td\n",
    "    {\n",
    "        width: 26px !important;\n",
    "    }\n",
    "    \n",
    "    .sea_war tbody th,\n",
    "    .sea_war tbody td\n",
    "    {\n",
    "        border: 1px solid rgba(0,0,0,0.1);\n",
    "    }\n",
    "    \n",
    "    .sea_war tbody th\n",
    "    {\n",
    "        color: rgba(0,0,0,0.5);\n",
    "        text-align: center !important;\n",
    "    }\n",
    "    \n",
    "    /*---------------Borders------------------------*/\n",
    "    \n",
    "    /* border_horizont  */\n",
    "    .border_horizont tbody th, \n",
    "    .border_horizont tbody td\n",
    "    {\n",
    "        border-bottom: 1px solid rgba(0,0,0,0.04);\n",
    "    }\n",
    "    \n",
    "    .border_horizont tbody tr:last-child th, \n",
    "    .border_horizont tbody tr:last-child td\n",
    "    {\n",
    "        border-bottom: none;\n",
    "    }\n",
    "    \n",
    "    /* border_vertical  */\n",
    "    .border_vertical tbody th, \n",
    "    .border_vertical tbody td\n",
    "    {\n",
    "        border-right: 1px solid rgba(0,0,0,0.04);\n",
    "    }\n",
    "     \n",
    "    .border_vertical tbody td:last-child\n",
    "    {\n",
    "        border-right: none;\n",
    "    }\n",
    "    \n",
    "    /* border_display  */\n",
    "    .border_display tbody th, \n",
    "    .border_display tbody td\n",
    "    {\n",
    "        border: 1px solid rgba(0,0,0,0.04);\n",
    "    }\n",
    "    .border_display tbody th,\n",
    "    .border_display tbody td\n",
    "    {\n",
    "        border-left: none;\n",
    "        border-top: none;\n",
    "    }\n",
    "    .border_display tbody td:last-child\n",
    "    {\n",
    "       border-right: none; \n",
    "    }\n",
    "    .border_display tbody tr:last-child th,\n",
    "    .border_display tbody tr:last-child td \n",
    "    {\n",
    "        border-bottom: none;\n",
    "    }\n",
    "    \n",
    "    \n",
    "    /* positions  */\n",
    "    \n",
    "    .position_left thead th,\n",
    "    .position_left tbody td {\n",
    "        text-align: left !important;\n",
    "    }\n",
    "    \n",
    "    .position_center thead th,\n",
    "    .position_center tbody td {\n",
    "        text-align: center !important;\n",
    "    }\n",
    "\n",
    "    .position_right thead th,\n",
    "    .position_right tbody td {\n",
    "        text-align: right !important;\n",
    "    }\n",
    "    \n",
    "    .position_left_header thead th {\n",
    "        text-align: left !important;\n",
    "    }\n",
    "    \n",
    "    .position_center_header thead th {\n",
    "        text-align: center !important;\n",
    "    }\n",
    "    .position_right_header thead th {\n",
    "        text-align: right !important;\n",
    "    }\n",
    "    \n",
    "    /*---------------Code------------------------*/\n",
    "    .rendered_html p code,\n",
    "    .rendered_html ul code,\n",
    "    .rendered_html pre code[class*=\"custom\"]\n",
    "    {\n",
    "        background-color: #d9edfd;\n",
    "        color: #4c4c4c;\n",
    "        font-size: 16px !important;\n",
    "        border-radius: 10px;\n",
    "        font-weight: bold;\n",
    "        border: 1px solid #ccc !important;\n",
    "        padding: 5px !important;\n",
    "        line-height: 19px !important;\n",
    "        display: inline-block;\n",
    "        margin: 5px 0px 0px 0px;\n",
    "        word-break: break-word;\n",
    "    }\n",
    "    \n",
    "    .rendered_html code span[class*=\"-bold\"]\n",
    "    {\n",
    "        font-weight: bold;\n",
    "    }\n",
    "    \n",
    "    .rendered_html code span[class*=\"-italic\"]\n",
    "    {\n",
    "        font-style: italic;\n",
    "    }\n",
    "    \n",
    "    .rendered_html code span[class*=\"-marker\"]\n",
    "    {\n",
    "        background: #ffeb3b8c;\n",
    "        font-weight: bold;\n",
    "        border: 1px solid #9e9e9e;\n",
    "        box-shadow: 1px 1px 5px 0px #00000045;\n",
    "        border-radius: 4px;\n",
    "        padding: 2px;\n",
    "        opacity: 0.8;\n",
    "        line-height: 30px;\n",
    "    }\n",
    "\n",
    "    .rendered_html code[class*=\"error\"] {\n",
    "        color: red !important;\n",
    "        background-color: rgba(244, 67, 54, 0.1) !important;\n",
    "        font-weight: normal !important;\n",
    "    }\n",
    "    \n",
    "    .rendered_html code[class*=\"warning\"] {\n",
    "        color: #ff9800 !important;\n",
    "        background-color: rgba(244, 243, 54, 0.1) !important;\n",
    "        font-weight: normal !important;\n",
    "    }\n",
    "\n",
    "    .rendered_html code[class*=\"info\"] {\n",
    "        color: green !important;\n",
    "        background-color: rgb(54, 244, 91, 0.1) !important;\n",
    "        font-weight: normal !important;\n",
    "    }\n",
    "    \n",
    "    .rendered_html code[class*=\"word\"] {\n",
    "        color: #00bcd4 !important;\n",
    "        background-color: rgba(54, 195, 244, 0.1) !important;\n",
    "        font-weight: normal !important;\n",
    "    }\n",
    "    \n",
    "    /*---------------Imgs------------------------*/\n",
    "    .rendered_html img\n",
    "    {\n",
    "        border-radius: 16px;\n",
    "        border: 1px solid rgb(0 0 0 / 25%);\n",
    "        box-shadow: 5px 6px 8px 1px hsl(0deg 0% 0% / 25%);\n",
    "        padding: 4px;\n",
    "        margin-bottom: 10px;\n",
    "        max-width: 65em;\n",
    "    }\n",
    "    \n",
    "    #ipython_notebook:after {\n",
    "        content: '@alefair кодит';\n",
    "        position: relative;\n",
    "        color: #2196f3;\n",
    "        bottom: 7px;\n",
    "        right: -35px;\n",
    "    }\n",
    "                                                 \n",
    "   .total .banner {\n",
    "        background: repeating-linear-gradient(248deg , rgba(0 , 188 , 212 , 0.24) , rgba(255 , 0 , 0 , 0) , rgba(0 , 188 , 212 , 0.5) 5px) , repeating-linear-gradient(248deg , rgba(96 , 125 , 139 , 0.5) , rgba(0 , 255 , 0 , 0) 45.71%);\n",
    "        height: 50px;\n",
    "        border: 1px solid #999;\n",
    "        border-bottom: none;\n",
    "   }\n",
    "                                                 \n",
    "   .total .description {\n",
    "        border: 1px solid #999;\n",
    "        border-top: none;\n",
    "        padding: 20px;\n",
    "        font-family: monospace;\n",
    "   }\n",
    "                                                 \n",
    "   .total .description h3,\n",
    "   .total .description h4                                              \n",
    "   {\n",
    "        font-weight: bold;\n",
    "        font-size: 16px;\n",
    "        color: #999;\n",
    "        margin-bottom: 10px;\n",
    "   }\n",
    "                                                 \n",
    "   .total .description .content {\n",
    "        color: #333;\n",
    "        font-size: 13px;\n",
    "        border-radius: 10px;\n",
    "        overflow: hidden;\n",
    "        box-shadow: 1px 1px 3px 2px rgba(0, 0, 0, 0.3);\n",
    "   }\n",
    "                                                 \n",
    "    .ribbon {\n",
    "        text-align: center;\n",
    "        display: block;\n",
    "        width: 150px;\n",
    "        height: 40px;\n",
    "        background: #ff5722;\n",
    "        color: white;\n",
    "        font-family: monospace;\n",
    "        padding-top: 10px;\n",
    "    }\n",
    "    .ribbon:after {\n",
    "        content: \"\";\n",
    "        display: block;\n",
    "        position: relative;\n",
    "        top: 10px;\n",
    "        width: 0px;\n",
    "        height: 0;\n",
    "        border-width: 10px 75px 50px 75px;\n",
    "        border-style: solid;\n",
    "        border-color: #ff5722 #d00202 transparent #d00202;\n",
    "    }\n",
    "</style>"
   ]
  },
  {
   "cell_type": "code",
   "execution_count": 2,
   "metadata": {},
   "outputs": [],
   "source": [
    "def path_remover(path=''):\n",
    "    import sys\n",
    "    for el in sys.path:\n",
    "        if el == path:\n",
    "            sys.path.remove(path)\n",
    "\n",
    "class Formatter(object):\n",
    "    def __init__(self):\n",
    "        self.types = {}\n",
    "        self.htchar = '\\t'\n",
    "        self.lfchar = '\\n'\n",
    "        self.indent = 0\n",
    "        self.set_formater(object, self.__class__.format_object)\n",
    "        self.set_formater(dict, self.__class__.format_dict)\n",
    "        self.set_formater(list, self.__class__.format_list)\n",
    "        self.set_formater(tuple, self.__class__.format_tuple)\n",
    "\n",
    "    def set_formater(self, obj, callback):\n",
    "        self.types[obj] = callback\n",
    "\n",
    "    def __call__(self, value, **args):\n",
    "        for key in args:\n",
    "            setattr(self, key, args[key])\n",
    "        formater = self.types[type(value) if type(value) in self.types else object]\n",
    "        return formater(self, value, self.indent)\n",
    "\n",
    "    def format_object(self, value, indent):\n",
    "        if 'DataFrame' in str(type(value)):\n",
    "            return str(type(value))\n",
    "        else:\n",
    "            return repr(value)\n",
    "\n",
    "    def format_dict(self, value, indent):\n",
    "        items = [\n",
    "            self.lfchar + self.htchar * (indent + 1) + repr(key) + ': ' +\n",
    "            (self.types[type(value[key]) if type(value[key]) in self.types else object])(self, value[key], indent + 1)\n",
    "            for key in value\n",
    "        ]\n",
    "        return '{%s}' % (','.join(items) + self.lfchar + self.htchar * indent)\n",
    "\n",
    "    def format_list(self, value, indent):\n",
    "        items = [\n",
    "            self.lfchar + self.htchar * (indent + 1) + (self.types[type(item) if type(item) in self.types else object])(self, item, indent + 1)\n",
    "            for item in value\n",
    "        ]\n",
    "        return '[%s]' % (','.join(items) + self.lfchar + self.htchar * indent)\n",
    "\n",
    "    def format_tuple(self, value, indent):\n",
    "        items = [\n",
    "            self.lfchar + self.htchar * (indent + 1) + (self.types[type(item) if type(item) in self.types else object])(self, item, indent + 1)\n",
    "            for item in value\n",
    "        ]\n",
    "        return '(%s)' % (','.join(items) + self.lfchar + self.htchar * indent)\n",
    "        \n",
    "\n",
    "\n",
    "def color_nan_red(val, marker=None, table=None):\n",
    "\n",
    "    general_style = 'font-weight:bold;text-transform: capitalize;'\n",
    "    \n",
    "    nan_class    = general_style + 'color: red;'\n",
    "    unknow_class = general_style + 'color: #9c27b0;'\n",
    "    value_class  = ''\n",
    "    \n",
    "    max_class    = general_style + 'color: #ff6f00;'\n",
    "    min_class    = general_style + 'color: #0d64a1;'\n",
    "    \n",
    "    classes_list = []\n",
    "    \n",
    "    for i, cell in enumerate(val):\n",
    "        if marker:\n",
    "            if i in marker.keys():\n",
    "                \n",
    "                \n",
    "                if ('str' in str(type(marker[i])) and 'str' in str(type(cell))):\n",
    "                    if cell == marker[i]:\n",
    "                        classes_list.append(nan_class)\n",
    "                        continue\n",
    "                elif 'list' in str(type(marker[i])):\n",
    "                    if marker[i][0] == 'min' and cell == marker[i][1]:\n",
    "                        classes_list.append(min_class)\n",
    "                        continue\n",
    "                    elif marker[i][0] == 'max' and cell == marker[i][1]:\n",
    "                        classes_list.append(max_class)\n",
    "                        continue\n",
    "                    elif marker[i][0] == 'max_min' and cell in marker[i]:\n",
    "                        if 'str' not in str(type(cell)):\n",
    "                            if cell == min(item for item in marker[i][1:] if 'str' not in str(type(item))):\n",
    "                                classes_list.append(min_class)\n",
    "                                continue\n",
    "                            elif cell == max(item for item in marker[i][1:] if 'str' not in str(type(item))):\n",
    "                                classes_list.append(max_class)\n",
    "                                continue\n",
    "                        elif 'str' in str(type(cell)):\n",
    "                            if cell == min(item for item in marker[i][1:] if 'str' in str(type(item))):\n",
    "                                classes_list.append(min_class)\n",
    "                                continue\n",
    "                            elif cell == max(item for item in marker[i][1:] if 'str' in str(type(item))):\n",
    "                                classes_list.append(max_class)\n",
    "                                continue\n",
    "                    elif cell in marker[i]:\n",
    "                        if 'str' not in str(type(cell)):\n",
    "                            if cell == min(item for item in marker[i] if 'str' not in str(type(item))):\n",
    "                                classes_list.append(min_class)\n",
    "                                continue\n",
    "                            elif cell == max(item for item in marker[i] if 'str' not in str(type(item))):\n",
    "                                classes_list.append(max_class)\n",
    "                                continue\n",
    "                            else:\n",
    "                                classes_list.append(unknow_class)\n",
    "                                continue\n",
    "                        elif 'str' in str(type(cell)):\n",
    "                            if cell == min(item for item in marker[i] if 'str' in str(type(item))):\n",
    "                                classes_list.append(min_class)\n",
    "                                continue\n",
    "                            elif cell == max(item for item in marker[i] if 'str' in str(type(item))):\n",
    "                                classes_list.append(max_class)\n",
    "                                continue\n",
    "                            else:\n",
    "                                classes_list.append(unknow_class)\n",
    "                                continue            \n",
    "                    elif marker[i][0] == '>':\n",
    "                        if 'list' in str(type(marker[i][1])):\n",
    "                            if all(cell > j for j in marker[i][1]):\n",
    "                                classes_list.append(nan_class)\n",
    "                                continue\n",
    "                        else:    \n",
    "                            if cell > marker[i][1]:\n",
    "                                classes_list.append(nan_class)\n",
    "                                continue\n",
    "                    elif marker[i][0] == '<':\n",
    "                        if 'list' in str(type(marker[i][1])):\n",
    "                            if all(cell < j for j in marker[i][1]):\n",
    "                                classes_list.append(min_class)\n",
    "                                continue\n",
    "                        else:    \n",
    "                            if cell < marker[i][1]:\n",
    "                                classes_list.append(min_class)\n",
    "                                continue\n",
    "                    elif marker[i][0] == '=':\n",
    "                        if cell == marker[i][1]:\n",
    "                            classes_list.append(unknow_class)\n",
    "                            continue\n",
    "                        if cell in marker[i][1]:\n",
    "                            classes_list.append(unknow_class)\n",
    "                            continue\n",
    "                    elif marker[i][0] == 'top':\n",
    "                        if cell in list(table.iloc[:, i].head(marker[i][1])):\n",
    "                            classes_list.append(unknow_class)\n",
    "                            continue\n",
    "                    elif marker[i][0] == 'out':\n",
    "                        if cell in list(table.iloc[:, i].tail(marker[i][1])):\n",
    "                            classes_list.append(unknow_class)\n",
    "                            continue\n",
    "                    \n",
    "                                \n",
    "                elif ('str' not in str(type(marker[i])) and 'str' not in str(type(cell))) and  cell >= marker[i]:\n",
    "                    classes_list.append(nan_class)\n",
    "                    continue \n",
    "        \n",
    "        if pd.isna(cell):\n",
    "            classes_list.append(nan_class)\n",
    "            continue\n",
    "        elif cell == 'unknown':\n",
    "            classes_list.append(unknow_class)\n",
    "            continue\n",
    "        \n",
    "        classes_list.append(value_class)\n",
    "        continue\n",
    "        \n",
    "    return classes_list\n",
    "    \n",
    "\n",
    "def set_format(*args):\n",
    "    print(args)\n",
    "    \n",
    "    for i, idx in enumerate(args[0]):\n",
    "        print(i, \":\", idx)\n",
    "        \n",
    "    if 'str' in str(type(args[1])):\n",
    "        if 'float' in str(type(args[0])):\n",
    "            return args[1].format(args[0])\n",
    "        else:\n",
    "            return args[0]\n",
    "    elif 'list' in str(type(args[1])):\n",
    "        if args[1][0] == 'datetime':\n",
    "            return datetime.strptime(args[0], args[1][1]).strftime(args[1][2])\n",
    "        elif args[1][0] == 'float':\n",
    "            print(args[1][1],':', args[0])\n",
    "            return args[1][1].format(args[0])\n",
    "          \n",
    "    return args[0]\n",
    "\n",
    "\n",
    "\n",
    "def check_float(val,format='default'):\n",
    "    if 'float' in str(type(val)):\n",
    "        if format == 'default':\n",
    "            return val\n",
    "        else:\n",
    "            return format.format(val)\n",
    "    else:\n",
    "        return val\n",
    "    \n",
    "    \n",
    "def render(*args, format='default', border='false', position='center_header', marker=None, name='', width='', vartype=False):\n",
    "    '''\n",
    "    format   = {:.2f} Заменяет все float числа в формат\n",
    "    format   = [ [[column_list], [type_format, value_format]] ] - применяет указанный формат к указанным столбцам.\n",
    "    \n",
    "        примеры:\n",
    "        format=[ [['column_1','column_2'], '{:.2f}'] ]\n",
    "        format=[ [['column_1','column_2'], ['float', '{:.2f}']] ]\n",
    "        format=[ [['column_1','column_2'], ['datetime', '%Y%m%dT%H%M%S', '%d.%m.%Y %H:%M:%S']] ]\n",
    "        format=[ [['column_1','column_2'], '<b style=\"color:red\">{}</b>'] ] - применяем стиль к значению\n",
    "    \n",
    "    format   = 'json' - преобразовывает в json формат\n",
    "    \n",
    "    border   = display(d) | horizont(h) | vertical(v)\n",
    "    \n",
    "    position = left | center | right | left_header | center_header | right_header\n",
    "    \n",
    "    marker   = [['column_name', value]] все значения >=  value будут помечены красным цветом\n",
    "    \n",
    "    marker   = [['column_name', 'max_min']] будут отмечены максимальное и минимальное значение цветом\n",
    "    marker   = [['column_name', 'min']]\n",
    "    marker   = [['column_name', 'max']]\n",
    "    \n",
    "    marker   = [['column_name', ['>', 1000]]]\n",
    "    marker   = [['column_name', ['<', 'value']]]\n",
    "    \n",
    "    name     = 'Test title'  Добавляет описание к таблице\n",
    "    \n",
    "    width    = auto | 100% | 300 | 600 | 900 Делает ширину таблицы, указаного значения\n",
    "    \n",
    "    type     = True Выводит имя переменной и его тип\n",
    "    '''\n",
    "    \n",
    "    \n",
    "    \n",
    "    border_style   = ''\n",
    "    position_style = ''\n",
    "    \n",
    "    title          = ''\n",
    "    width_value    = ''\n",
    "    type_value     = ''\n",
    "    \n",
    "    if name != '':\n",
    "        title = ' data-title=\"' + name + '\" '\n",
    "        \n",
    "    if width != '':\n",
    "        width_value = ' data-width=\"' + width + '\" '\n",
    "    \n",
    "    if vartype == True:\n",
    "        type_value = ' data-type=\"[template]\" '\n",
    "    \n",
    "    if border == 'display' or border == 'd':\n",
    "        border_style = ' border_display'\n",
    "    elif border == 'horizont' or border == 'h':\n",
    "        border_style = ' border_horizont'\n",
    "    elif border == 'vertical' or border == 'v':\n",
    "        border_style = ' border_vertical'\n",
    "    else:\n",
    "        border_style = ''\n",
    "    \n",
    "    \n",
    "    if position == 'left':\n",
    "        position_style = ' position_left'\n",
    "    elif position == 'center':\n",
    "        position_style = ' position_center'\n",
    "    elif position == 'right':\n",
    "        position_style = ' position_right'\n",
    "    elif position == 'left_header':\n",
    "        position_style = ' position_left_header'\n",
    "    elif position == 'center_header':\n",
    "        position_style = ' position_center_header'\n",
    "    elif position == 'right_header':\n",
    "        position_style = ' position_right_header'\n",
    "    else:\n",
    "        position_style = ''\n",
    "    \n",
    "    \n",
    "    \n",
    "    if 'Series' in str(type(args[0])) or 'DataFrame' in str(type(args[0])): \n",
    "        df = args[0]\n",
    "    else:\n",
    "        df = args\n",
    "    \n",
    "    if 'Series' in str(type(df)): df = df.to_frame()\n",
    "    \n",
    "    if 'Series' in str(type(df)) or 'DataFrame' in str(type(df)):\n",
    "        \n",
    "        render_df = df.copy()\n",
    "        \n",
    "        \n",
    "        \n",
    "        if len(render_df.index) == 0:\n",
    "            render_df.loc[render_df.shape[0]] = ''\n",
    "        \n",
    "        \n",
    "        \n",
    "        columns = render_df.columns\n",
    "        need_columns = {}\n",
    "        \n",
    "        if marker:\n",
    "            for need_clmn in marker:\n",
    "                for i, clmn in enumerate(columns):\n",
    "                    if need_clmn[0] == clmn:\n",
    "                        if need_clmn[1] in ['min', 'max', 'max_min']:\n",
    "                            if need_clmn[1] == 'min':\n",
    "                                need_columns[i] = ['min', df[clmn].min()]\n",
    "                            elif need_clmn[1] == 'max':\n",
    "                                need_columns[i] = ['max', df[clmn].max()]\n",
    "                            elif need_clmn[1] == 'max_min':\n",
    "                                need_columns[i] = ['max_min', df[clmn].min(), df[clmn].max()]\n",
    "                        else:\n",
    "                            need_columns[i] = need_clmn[1]\n",
    "\n",
    "        if vartype == True:\n",
    "            type_value = type_value.replace(\"[template]\", var_name(render_df))\n",
    "            print(render_df, var_name(render_df))   \n",
    "        \n",
    "        #Render Style\n",
    "        render_df = render_df.style.set_table_attributes('class=\"table_border' + border_style + position_style + '\"' + title + width_value + type_value).apply(color_nan_red,marker=need_columns,table=df, axis=1)\n",
    "        \n",
    "        #print(str(type(render_df))) \n",
    "        \n",
    "        #render_df.format(escape='html')\n",
    "        \n",
    " \n",
    "        if format != 'default':\n",
    "            if 'str' in str(type(format)):\n",
    "                render_df = render_df.format(lambda x: format.format(x) if 'float' in str(type(x)) else x )\n",
    "            elif 'list' in str(type(format)):\n",
    "                need_columns = {}\n",
    "                for list_format in format:\n",
    "\n",
    "                    s_type = None\n",
    "                    s_type = list_format[1]\n",
    "                    \n",
    "                    for clmns_list in list_format[0]:\n",
    "                        if 'str' in str(type(s_type)):\n",
    "                            need_columns[clmns_list] = str_format(s_type)\n",
    "                            continue\n",
    "                        elif 'list' in str(type(s_type)):\n",
    "\n",
    "                            if s_type[0] == 'float':\n",
    "                                need_columns[clmns_list] = float_format(s_type[1])\n",
    "                                continue\n",
    "                            \n",
    "                            elif s_type[0] == 'datetime':\n",
    "                                need_columns[clmns_list] = time_format(s_type[1], s_type[2])\n",
    "                                continue\n",
    "                            \n",
    "                            elif s_type[0] == 'link':\n",
    "                                need_columns[clmns_list] = link_format(s_type[1])\n",
    "                                continue\n",
    "                            \n",
    "                            else:\n",
    "                                continue\n",
    "                \n",
    "                #print(need_columns)\n",
    "                render_df = render_df.format(formatter=need_columns)\n",
    "                                                \n",
    "    else: \n",
    "        list_args = []\n",
    "        \n",
    "        for value in df: \n",
    "            #Render float format\n",
    "            if format != 'default':\n",
    "                if format == 'json':\n",
    "                    pretty = Formatter()\n",
    "                    list_args.append(pretty(value))\n",
    "                else:\n",
    "                    list_args.append(str(check_float(value,format)))\n",
    "            else:\n",
    "                list_args.append(str(value))\n",
    "        \n",
    "        render_df = ' '.join(list_args).replace('<', '&#60;').replace('>', '&#62;')\n",
    "        \n",
    "        if vartype == True:\n",
    "            type_value = type_value.replace(\"[template]\", var_name(render_df))\n",
    "            print(df, var_name(df))\n",
    "            \n",
    "        from IPython.display import HTML\n",
    "        render_df = HTML('<p class=\"value\" ' + title + type_value + '><code>' + str(render_df) + '</code></p>')\n",
    "        \n",
    "        \n",
    "    return display(render_df)\n",
    "\n",
    "\n",
    "def str_format(y):\n",
    "    return lambda x: y.format(x)\n",
    "    \n",
    "def float_format(y):\n",
    "    return lambda x: y.format(x)\n",
    "\n",
    "def link_format(y):\n",
    "    if y != '':\n",
    "        return lambda x: '<a href=\"{}\" title=\"{}\">{}</a>'.format(x, y, y)\n",
    "    else:\n",
    "        return lambda x: '<a href=\"{}\" title=\"{}\">{}</a>'.format(x, x, x)\n",
    "    \n",
    "def time_format(y, z):\n",
    "    if y == '':\n",
    "        y = '%Y%m%dT%H%M%S'\n",
    "    if z == '':\n",
    "        z = '%d.%m.%Y %H:%M:%S'\n",
    "    return lambda x: datetime.strptime(x, y).strftime(z)"
   ]
  },
  {
   "cell_type": "markdown",
   "metadata": {
    "toc": true
   },
   "source": [
    "<h1>Содержание<span class=\"tocSkip\"></span></h1>\n",
    "<div class=\"toc\"><ul class=\"toc-item\"><li><span><a href=\"#Приложения\" data-toc-modified-id=\"Приложения-1\"><span class=\"toc-item-num\">1&nbsp;&nbsp;</span>Приложения</a></span><ul class=\"toc-item\"><li><span><a href=\"#Приложение.-Тариф-'СМАРТ'\" data-toc-modified-id=\"Приложение.-Тариф-'СМАРТ'-1.1\"><span class=\"toc-item-num\">1.1&nbsp;&nbsp;</span>Приложение. Тариф 'СМАРТ'</a></span></li><li><span><a href=\"#Приложение.-Тариф-'УЛЬТРА'\" data-toc-modified-id=\"Приложение.-Тариф-'УЛЬТРА'-1.2\"><span class=\"toc-item-num\">1.2&nbsp;&nbsp;</span>Приложение. Тариф 'УЛЬТРА'</a></span></li><li><span><a href=\"#Приложение.-Определение-перспективного-тарифа-для-&quot;Мегалайн&quot;\" data-toc-modified-id=\"Приложение.-Определение-перспективного-тарифа-для-&quot;Мегалайн&quot;-1.3\"><span class=\"toc-item-num\">1.3&nbsp;&nbsp;</span>Приложение. Определение перспективного тарифа для \"Мегалайн\"</a></span></li><li><span><a href=\"#Комментарий-студента\" data-toc-modified-id=\"Комментарий-студента-1.4\"><span class=\"toc-item-num\">1.4&nbsp;&nbsp;</span>Комментарий студента</a></span></li></ul></li><li><span><a href=\"#Инициализация\" data-toc-modified-id=\"Инициализация-2\"><span class=\"toc-item-num\">2&nbsp;&nbsp;</span>Инициализация</a></span><ul class=\"toc-item\"><li><span><a href=\"#Импорт-библиотек\" data-toc-modified-id=\"Импорт-библиотек-2.1\"><span class=\"toc-item-num\">2.1&nbsp;&nbsp;</span>Импорт библиотек</a></span></li><li><span><a href=\"#Комментарий-студента\" data-toc-modified-id=\"Комментарий-студента-2.2\"><span class=\"toc-item-num\">2.2&nbsp;&nbsp;</span>Комментарий студента</a></span></li><li><span><a href=\"#Комментарий-студента.-V2\" data-toc-modified-id=\"Комментарий-студента.-V2-2.3\"><span class=\"toc-item-num\">2.3&nbsp;&nbsp;</span>Комментарий студента. V2</a></span></li></ul></li><li><span><a href=\"#Описание-данных\" data-toc-modified-id=\"Описание-данных-3\"><span class=\"toc-item-num\">3&nbsp;&nbsp;</span>Описание данных</a></span><ul class=\"toc-item\"><li><span><a href=\"#Считываем-данные\" data-toc-modified-id=\"Считываем-данные-3.1\"><span class=\"toc-item-num\">3.1&nbsp;&nbsp;</span>Считываем данные</a></span></li><li><span><a href=\"#Комментарий-студента\" data-toc-modified-id=\"Комментарий-студента-3.2\"><span class=\"toc-item-num\">3.2&nbsp;&nbsp;</span>Комментарий студента</a></span></li><li><span><a href=\"#Техническая-информация\" data-toc-modified-id=\"Техническая-информация-3.3\"><span class=\"toc-item-num\">3.3&nbsp;&nbsp;</span>Техническая информация</a></span></li><li><span><a href=\"#Сравним-количественное-отношение-1-и-0-в-таргете(is_ultra)\" data-toc-modified-id=\"Сравним-количественное-отношение-1-и-0-в-таргете(is_ultra)-3.4\"><span class=\"toc-item-num\">3.4&nbsp;&nbsp;</span>Сравним количественное отношение 1 и 0 в таргете(is_ultra)</a></span></li><li><span><a href=\"#Вывод\" data-toc-modified-id=\"Вывод-3.5\"><span class=\"toc-item-num\">3.5&nbsp;&nbsp;</span>Вывод</a></span></li><li><span><a href=\"#Комментарий-студента\" data-toc-modified-id=\"Комментарий-студента-3.6\"><span class=\"toc-item-num\">3.6&nbsp;&nbsp;</span>Комментарий студента</a></span></li><li><span><a href=\"#Комментарий-студента.-V2\" data-toc-modified-id=\"Комментарий-студента.-V2-3.7\"><span class=\"toc-item-num\">3.7&nbsp;&nbsp;</span>Комментарий студента. V2</a></span></li></ul></li><li><span><a href=\"#Разбейте-данные-на-выборки\" data-toc-modified-id=\"Разбейте-данные-на-выборки-4\"><span class=\"toc-item-num\">4&nbsp;&nbsp;</span>Разбейте данные на выборки</a></span><ul class=\"toc-item\"><li><span><a href=\"#Вывод\" data-toc-modified-id=\"Вывод-4.1\"><span class=\"toc-item-num\">4.1&nbsp;&nbsp;</span>Вывод</a></span></li><li><span><a href=\"#Комментарий-студента\" data-toc-modified-id=\"Комментарий-студента-4.2\"><span class=\"toc-item-num\">4.2&nbsp;&nbsp;</span>Комментарий студента</a></span></li><li><span><a href=\"#Комментарий-студента.-V2\" data-toc-modified-id=\"Комментарий-студента.-V2-4.3\"><span class=\"toc-item-num\">4.3&nbsp;&nbsp;</span>Комментарий студента. V2</a></span></li></ul></li><li><span><a href=\"#Исследуйте-модели\" data-toc-modified-id=\"Исследуйте-модели-5\"><span class=\"toc-item-num\">5&nbsp;&nbsp;</span>Исследуйте модели</a></span><ul class=\"toc-item\"><li><span><a href=\"#DecisionTreeClassifier\" data-toc-modified-id=\"DecisionTreeClassifier-5.1\"><span class=\"toc-item-num\">5.1&nbsp;&nbsp;</span>DecisionTreeClassifier</a></span><ul class=\"toc-item\"><li><span><a href=\"#Классический-способ\" data-toc-modified-id=\"Классический-способ-5.1.1\"><span class=\"toc-item-num\">5.1.1&nbsp;&nbsp;</span>Классический способ</a></span></li><li><span><a href=\"#GridSearchCV\" data-toc-modified-id=\"GridSearchCV-5.1.2\"><span class=\"toc-item-num\">5.1.2&nbsp;&nbsp;</span>GridSearchCV</a></span></li><li><span><a href=\"#Комментарий-студента\" data-toc-modified-id=\"Комментарий-студента-5.1.3\"><span class=\"toc-item-num\">5.1.3&nbsp;&nbsp;</span>Комментарий студента</a></span></li><li><span><a href=\"#Комментарий-студента.-V2\" data-toc-modified-id=\"Комментарий-студента.-V2-5.1.4\"><span class=\"toc-item-num\">5.1.4&nbsp;&nbsp;</span>Комментарий студента. V2</a></span></li></ul></li><li><span><a href=\"#LogisticRegression\" data-toc-modified-id=\"LogisticRegression-5.2\"><span class=\"toc-item-num\">5.2&nbsp;&nbsp;</span>LogisticRegression</a></span><ul class=\"toc-item\"><li><span><a href=\"#Классический-способ\" data-toc-modified-id=\"Классический-способ-5.2.1\"><span class=\"toc-item-num\">5.2.1&nbsp;&nbsp;</span>Классический способ</a></span></li><li><span><a href=\"#GridSearchCV\" data-toc-modified-id=\"GridSearchCV-5.2.2\"><span class=\"toc-item-num\">5.2.2&nbsp;&nbsp;</span>GridSearchCV</a></span></li><li><span><a href=\"#Комментарий-студента\" data-toc-modified-id=\"Комментарий-студента-5.2.3\"><span class=\"toc-item-num\">5.2.3&nbsp;&nbsp;</span>Комментарий студента</a></span></li><li><span><a href=\"#Комментарий-студента.-V2\" data-toc-modified-id=\"Комментарий-студента.-V2-5.2.4\"><span class=\"toc-item-num\">5.2.4&nbsp;&nbsp;</span>Комментарий студента. V2</a></span></li></ul></li><li><span><a href=\"#RandomForestClassifier\" data-toc-modified-id=\"RandomForestClassifier-5.3\"><span class=\"toc-item-num\">5.3&nbsp;&nbsp;</span>RandomForestClassifier</a></span><ul class=\"toc-item\"><li><span><a href=\"#Классический-способ\" data-toc-modified-id=\"Классический-способ-5.3.1\"><span class=\"toc-item-num\">5.3.1&nbsp;&nbsp;</span>Классический способ</a></span></li><li><span><a href=\"#GridSearchCV\" data-toc-modified-id=\"GridSearchCV-5.3.2\"><span class=\"toc-item-num\">5.3.2&nbsp;&nbsp;</span>GridSearchCV</a></span></li><li><span><a href=\"#Комментарий-студента\" data-toc-modified-id=\"Комментарий-студента-5.3.3\"><span class=\"toc-item-num\">5.3.3&nbsp;&nbsp;</span>Комментарий студента</a></span></li><li><span><a href=\"#Комментарий-студента.-V2\" data-toc-modified-id=\"Комментарий-студента.-V2-5.3.4\"><span class=\"toc-item-num\">5.3.4&nbsp;&nbsp;</span>Комментарий студента. V2</a></span></li></ul></li><li><span><a href=\"#Вывод\" data-toc-modified-id=\"Вывод-5.4\"><span class=\"toc-item-num\">5.4&nbsp;&nbsp;</span>Вывод</a></span><ul class=\"toc-item\"><li><span><a href=\"#Комментарий-студента\" data-toc-modified-id=\"Комментарий-студента-5.4.1\"><span class=\"toc-item-num\">5.4.1&nbsp;&nbsp;</span>Комментарий студента</a></span></li></ul></li></ul></li><li><span><a href=\"#Проверьте-модель-на-тестовой-выборке\" data-toc-modified-id=\"Проверьте-модель-на-тестовой-выборке-6\"><span class=\"toc-item-num\">6&nbsp;&nbsp;</span>Проверьте модель на тестовой выборке</a></span><ul class=\"toc-item\"><li><span><a href=\"#Комментарий-студента\" data-toc-modified-id=\"Комментарий-студента-6.1\"><span class=\"toc-item-num\">6.1&nbsp;&nbsp;</span>Комментарий студента</a></span></li><li><span><a href=\"#Вывод\" data-toc-modified-id=\"Вывод-6.2\"><span class=\"toc-item-num\">6.2&nbsp;&nbsp;</span>Вывод</a></span></li><li><span><a href=\"#Комментарий-студента.-V2\" data-toc-modified-id=\"Комментарий-студента.-V2-6.3\"><span class=\"toc-item-num\">6.3&nbsp;&nbsp;</span>Комментарий студента. V2</a></span></li></ul></li><li><span><a href=\"#(бонус)-Проверьте-модели-на-адекватность\" data-toc-modified-id=\"(бонус)-Проверьте-модели-на-адекватность-7\"><span class=\"toc-item-num\">7&nbsp;&nbsp;</span>(бонус) Проверьте модели на адекватность</a></span><ul class=\"toc-item\"><li><span><a href=\"#Комментарий-студента\" data-toc-modified-id=\"Комментарий-студента-7.1\"><span class=\"toc-item-num\">7.1&nbsp;&nbsp;</span>Комментарий студента</a></span></li><li><span><a href=\"#stratified\" data-toc-modified-id=\"stratified-7.2\"><span class=\"toc-item-num\">7.2&nbsp;&nbsp;</span>stratified</a></span></li><li><span><a href=\"#most_frequent\" data-toc-modified-id=\"most_frequent-7.3\"><span class=\"toc-item-num\">7.3&nbsp;&nbsp;</span>most_frequent</a></span></li><li><span><a href=\"#uniform\" data-toc-modified-id=\"uniform-7.4\"><span class=\"toc-item-num\">7.4&nbsp;&nbsp;</span>uniform</a></span></li><li><span><a href=\"#Вывод\" data-toc-modified-id=\"Вывод-7.5\"><span class=\"toc-item-num\">7.5&nbsp;&nbsp;</span>Вывод</a></span></li><li><span><a href=\"#Комментарий-студента.-V2\" data-toc-modified-id=\"Комментарий-студента.-V2-7.6\"><span class=\"toc-item-num\">7.6&nbsp;&nbsp;</span>Комментарий студента. V2</a></span></li></ul></li><li><span><a href=\"#Чек-лист-готовности-проекта\" data-toc-modified-id=\"Чек-лист-готовности-проекта-8\"><span class=\"toc-item-num\">8&nbsp;&nbsp;</span>Чек-лист готовности проекта</a></span></li><li><span><a href=\"#Общий-вывод-по-проведенной-работе\" data-toc-modified-id=\"Общий-вывод-по-проведенной-работе-9\"><span class=\"toc-item-num\">9&nbsp;&nbsp;</span>Общий вывод по проведенной работе</a></span><ul class=\"toc-item\"><li><span><a href=\"#Комментарий-студента.-V2\" data-toc-modified-id=\"Комментарий-студента.-V2-9.1\"><span class=\"toc-item-num\">9.1&nbsp;&nbsp;</span>Комментарий студента. V2</a></span></li></ul></li></ul></div>"
   ]
  },
  {
   "cell_type": "markdown",
   "metadata": {},
   "source": [
    "## Приложения"
   ]
  },
  {
   "cell_type": "markdown",
   "metadata": {},
   "source": [
    "<div class=\"total\">\n",
    "    <div class=\"banner\">&nbsp;</div>\n",
    "    <div class=\"description\">\n",
    "        <h3>Приложение. Тариф 'СМАРТ'</h3>\n",
    "        <div class=\"content\">\n",
    "            <div id=\"tariff_smart\">\n",
    "                <div class=\"tariff_block\">\n",
    "                    <p class=\"tariff_name\">Тариф СМАРТ</p>\n",
    "                    <p class=\"tariff_bg\">\n",
    "                        <span class=\"tariff_price\">550</span>\n",
    "                        <span class=\"tariff_price_description\">рублей в месяц</span>\n",
    "                        <span class=\"tariff_settings_block\">\n",
    "                            <span class=\"tariff_settings_buttons_block\">\n",
    "                                <span class=\"tariff_settings_button\">&#xE2C6;</span>\n",
    "                                <span class=\"tariff_settings_button\">&#xE20B;</span>\n",
    "                                <span class=\"tariff_settings_button last\">&#xE128;</span>\n",
    "                            </span>\n",
    "                            <span class=\"tariff_settings_description_block\">\n",
    "                                <span class=\"tariff_settings_description\">500 минут разговора</span>\n",
    "                                <span class=\"tariff_settings_description\">50 сообщений</span>\n",
    "                                <span class=\"tariff_settings_description\">15 Гб интернет-трафика</span>\n",
    "                            </span>\n",
    "                        </span>\n",
    "                    </p>\n",
    "                    <div class=\"tariff_settings_limit\">\n",
    "                        <p><span>Стоимость услуг сверх тарифного пакета:</span></p>\n",
    "                        <ul>\n",
    "                            <li>минута разговора: 3 рубля</li>\n",
    "                            <li>сообщение: 3 рубля</li>\n",
    "                            <li>1 Гб интернет-трафика: 200 рублей</li>\n",
    "                        </ul>\n",
    "                    </div>\n",
    "                </div>\n",
    "            </div>\n",
    "        </div>\n",
    "    </div>\n",
    "</div>"
   ]
  },
  {
   "cell_type": "markdown",
   "metadata": {},
   "source": [
    "<div class=\"total\">\n",
    "    <div class=\"banner\">&nbsp;</div>\n",
    "    <div class=\"description\">\n",
    "        <h3>Приложение. Тариф 'УЛЬТРА'</h3>\n",
    "        <div class=\"content\">\n",
    "            <div id=\"tariff_ultra\">\n",
    "                <div class=\"tariff_block\">\n",
    "                    <p class=\"tariff_name\">Тариф УЛЬТРА</p>\n",
    "                    <p class=\"tariff_bg\">\n",
    "                        <span class=\"tariff_price\">1950</span>\n",
    "                        <span class=\"tariff_price_description\">рублей в месяц</span>\n",
    "                        <span class=\"tariff_settings_block\">\n",
    "                            <span class=\"tariff_settings_buttons_block\">\n",
    "                                <span class=\"tariff_settings_button\">&#xE2C6;</span>\n",
    "                                <span class=\"tariff_settings_button\">&#xE20B;</span>\n",
    "                                <span class=\"tariff_settings_button last\">&#xE128;</span>\n",
    "                            </span>\n",
    "                            <span class=\"tariff_settings_description_block\">\n",
    "                                <span class=\"tariff_settings_description\">3000 минут разговора</span>\n",
    "                                <span class=\"tariff_settings_description\">1000 сообщений</span>\n",
    "                                <span class=\"tariff_settings_description\">30 Гб интернет-трафика</span>\n",
    "                            </span>\n",
    "                        </span>\n",
    "                    </p>\n",
    "                    <div class=\"tariff_settings_limit\">\n",
    "                        <p><span>Стоимость услуг сверх тарифного пакета:</span></p>\n",
    "                        <ul>\n",
    "                            <li>минута разговора: 1 рубль</li>\n",
    "                            <li>сообщение: 1 рубль</li>\n",
    "                            <li>1 Гб интернет-трафика: 150 рублей</li>\n",
    "                        </ul>\n",
    "                    </div>\n",
    "                </div>\n",
    "            </div>\n",
    "        </div>\n",
    "    </div>\n",
    "</div>"
   ]
  },
  {
   "cell_type": "markdown",
   "metadata": {},
   "source": [
    "<div class=\"total\">\n",
    "    <div class=\"banner\">&nbsp;</div>\n",
    "    <div class=\"description\">\n",
    "        <h3>Приложение. Определение перспективного тарифа для \"Мегалайн\"</h3>\n",
    "        <div>\n",
    "            <span>\n",
    "                <b>Провели ряд исследований:</b><br><br>\n",
    "                - <i>Описание данных:</i>\n",
    "                <ul style=\"margin-left: 20px;\">\n",
    "                    <li>\n",
    "                        <span>Таблица <b>users</b></span>\n",
    "                        <ul style=\"margin-left: 20px;\">\n",
    "                            <li>Исправили тип данных столбцов churn_date и reg_date</li>\n",
    "                            <li>Добавили столбец tariff_id, который содержит идентификатор тарифа</li>\n",
    "                            <li>Обнаружили пропуски в столбце 'дата прекращения пользования тарифом' (churn_date)</li>\n",
    "                            <li>Количество дупликатов в users равно 0</li>\n",
    "                            <li>Определили, что возраст самого младшего абонента - 18 лет, старшего - 75, а среднее значение возраста - 46 лет</li>\n",
    "                        </ul>\n",
    "                    </li>\n",
    "                    <br>\n",
    "                    <li>\n",
    "                        <span>Таблица <b>calls</b></span>\n",
    "                        <ul style=\"margin-left: 20px;\">\n",
    "                            <li>Исправили тип данных столбца call_date</li>\n",
    "                            <li>Округлили значение в столбце duration</li>\n",
    "                            <li>Добавили столбец month, который содержит месяц, когда был совершен звонок</li>\n",
    "                            <li>Видим пропущенные звонки - 0 минут, самый короткий разговор - 1 минута, самый долгий разговор - 38 минут, а среднее значение - 8 минут</li>\n",
    "                            <li>Для рассчетов и анализа избавились от пропущенных звонков и длительностью 0 минут</li>\n",
    "                            <li>Количество звонков в определенный месяц растет по нарастающей. В январе звонили меньше всего, а в декабре - максимальное количество звонков</li>\n",
    "                            <li>Строк с пропущенными данными нет</li>\n",
    "                            <li>Количество дупликатов в calls равно 0</li>\n",
    "                        </ul>\n",
    "                    </li>\n",
    "                    <br>\n",
    "                    <li>\n",
    "                        <span>Таблица <b>messages</b></span>\n",
    "                        <ul style=\"margin-left: 20px;\">\n",
    "                            <li>Исправили тип данных столбца message_date</li>\n",
    "                            <li>Добавили столбец month, который содержит месяц, когда было написано сообщение</li>\n",
    "                            <li>Количество писем отправленных в определенный месяц растет по нарастающей. В январе написало меньше всего писем, а в декабре - максимальное количество</li>\n",
    "                            <li>Строк с пропущенными данными нет</li>\n",
    "                            <li>Количество дупликатов в messages равно 0</li>\n",
    "                        </ul>\n",
    "                    </li>\n",
    "                    <br>\n",
    "                    <li>\n",
    "                        <span>Таблица <b>internet</b></span>\n",
    "                        <ul style=\"margin-left: 20px;\">\n",
    "                            <li>Исправили тип данных столбца session_date</li>\n",
    "                            <li>Добавили столбец month, который содержит месяц, когда была сессия</li>\n",
    "                            <li>Удалили лишний столбец Unnamed: 0</li>\n",
    "                            <li>Количество использования интернет-трафика в определенный месяц растет по нарастающей. В январе подключений меньше всего, а в декабре - максимальное количество</li>\n",
    "                            <li>Строк с пропущенными данными нет</li>\n",
    "                            <li>Количество дупликатов в internet равно 0</li>\n",
    "                        </ul>\n",
    "                    </li>\n",
    "                    <br>\n",
    "                    <li>\n",
    "                        <span>Таблица <b>tariffs</b></span>\n",
    "                        <ul style=\"margin-left: 20px;\">\n",
    "                            <li>Для удобства добавили столбец tariff_id</li>\n",
    "                            <li>Заполнили шаблоны словарей тарифов данными</li>\n",
    "                            <li>Строк с пропущенными данными нет</li>\n",
    "                        </ul>\n",
    "                    </li>\n",
    "                </ul>\n",
    "                <br><br>\n",
    "                - <i>Расчет значений:</i>\n",
    "                <ul style=\"margin-left: 20px;\">\n",
    "                    <li>Подсчитали количество сделанных звонков и израсходованных минут разговора по месяцам</li>\n",
    "                    <li>Подсчитали количество отправленных сообщений по месяцам</li>\n",
    "                    <li>Подсчитали объем израсходованного интернет-трафика по месяцам</li>\n",
    "                    <li>Подсчитали помесячную выручку с каждого пользователя</li>\n",
    "                    <li>Получили итоговую таблицу с подсчитанными данными</li>\n",
    "                </ul>\n",
    "                <br><br>\n",
    "                - <i>Анализ полученных данных:</i>\n",
    "                <ul style=\"margin-left: 20px;\">\n",
    "                    <li>\n",
    "                        <span><b>Тариф Смарт</b></span>\n",
    "                        <ul style=\"margin-left: 20px;\">\n",
    "                            <span>Согласно проведенному анализу в среднем пользователь тарифа тратит:</span>\n",
    "                            <li>420 минут разговора из 500 в месяц. Стандартное отклонение при этом - 143 минут(-ы)</li>\n",
    "                            <li>37 сообщений из 50 в месяц. Стандартное отклонение при этом - 24 сообщений(-я, -е)</li>\n",
    "                            <li>16216 мб интернет трафика из 15360 в месяц. Стандартное отклонение при этом - 3622 мб. Это говорит о том, что пользователи пользуются интернетом, даже если исчерпали лимит</li>\n",
    "                        </ul>\n",
    "                    </li>\n",
    "                    <br>\n",
    "                    <li>\n",
    "                        <span><b>Тариф Ультра</b></span>\n",
    "                        <ul style=\"margin-left: 20px;\">\n",
    "                            <span>Согласно проведенному анализу в среднем пользователь тарифа тратит:</span>\n",
    "                            <li>546 минут разговора из 3000 в месяц. Стандартное отклонение при этом - 268 минут(-ы)</li>\n",
    "                            <li>64 сообщений из 1000 в месяц. Стандартное отклонение при этом - 43 сообщений(-я, -е)</li>\n",
    "                            <li>19744 мб интернет трафика из 30720 в месяц. Стандартное отклонение при этом - 8169 мб</li>\n",
    "                        </ul>\n",
    "                    </li>\n",
    "                </ul>\n",
    "                <br><br>\n",
    "                - <i>Проверка гипотез:</i>\n",
    "                <ul style=\"margin-left: 20px;\">\n",
    "                    <li>\n",
    "                        <span><b>Средняя выручка пользователей тарифов Ультра и Смарт различается</b></span>\n",
    "                        <ul style=\"margin-left: 20px;\">\n",
    "                            <li>Сравнили дисперсии значений выручки.</li>\n",
    "                            <li>Получили p-value: 0.00000... и сравнили ее с alpha: 0.05</li>\n",
    "                            <li>Результат: <b>Гипотеза, что выручка различается верна</b></li>\n",
    "                        </ul>\n",
    "                    </li>\n",
    "                    <br>\n",
    "                    <li>\n",
    "                        <span><b>Средняя выручка пользователей из Москвы отличается от выручки пользователей из других регионов</b></span>\n",
    "                        <ul style=\"margin-left: 20px;\">\n",
    "                            <li>Получили таблицу только выручки</li>\n",
    "                            <li>Добавили к ней город</li>\n",
    "                            <li>Получили среднюю выручку</li>\n",
    "                            <li>Создали 2 списка - только Москва, только остальные города</li>\n",
    "                            <li>Сравнили дисперсии значений выручки</li>\n",
    "                            <li>Получили p-value: 0.77372... и сравнили ее с alpha: 0.05</li>\n",
    "                            <li>Результат: <b>Гипотеза, что Средняя выручка пользователей из Москвы отличается от выручки пользователей из других регионов не подтвердилась</b></li>\n",
    "                        </ul>\n",
    "                    </li>\n",
    "                </ul>\n",
    "            </span>\n",
    "            <br>\n",
    "            <span>\n",
    "                <b>Резюме:</b><br><br>\n",
    "                <span style=\"width: 500px; word-break: break-word;\">\n",
    "                    В проекте было рассмотрено распределение длительности звонков, количества сообщений, траффик интернета.<br><br>\n",
    "                    Как показали рассчеты, пользователям не выгодно использовать тариф \"Ультра\", и скорее всего со временем они точно перешли бы на тариф \"Смарт\"<br><br>\n",
    "                    При рассчетах было определено, что средняя прибыльность в двух тарифах отличается, учитывая тот факт, что используют опции в среднем и там и там одинаково, но доходность от тарифа Ultra больше в 3.5 раза.<br><br>\n",
    "                    Данный тариф абсолютно не выгоден для пользователя. Пользователь использует в среднем лишь 18% минут звонков от общего лимита, 6% сообщений, однако трафик интернета 65% от лимита.<br><br>\n",
    "                    Однако, чтобы удержать клиентов того или иного тарифа из представленных, я бы рекомендовал следующие характеристики для каждого из тарифа:\n",
    "                </span>\n",
    "                <br><br>\n",
    "                <span>\n",
    "                    <i>- Тариф <b>Smart</b></i>\n",
    "                    <ul style=\"margin-left: 20px;\">\n",
    "                        <li>Минут: <b>450</b></li>\n",
    "                        <li>Сообщений: <b>35</b></li>\n",
    "                        <li>Интернет-Трафика: <b>15гб</b></li>\n",
    "                    </ul>\n",
    "                    <br>\n",
    "                    <i>- Тариф <b>Ultra</b></i>\n",
    "                    <ul style=\"margin-left: 20px;\">\n",
    "                        <li>Минут: <b>800</b></li>\n",
    "                        <li>Сообщений: <b>180</b></li>\n",
    "                        <li>Интернет-Трафика: <b>20гб</b></li>\n",
    "                    </ul>\n",
    "                    <br>\n",
    "                    <span>И провел бы маркетинговую акцию: <b>\"500 за 500\"</b> - 500 единиц услуг за 500 рублей для тарифа <b>Smart</b> и <b>\"1000 за 1000\"</b> - 1000 единиц услуг за 1000 рублей для тарифа <b>Ultra</b></span>\n",
    "                    <br><br>\n",
    "                    <span>Данные характеристики были бы привлекательны и для новых клиентов, так и для старых, а также привлекательны для самой компании - по тому, что пользователи больше потребляют трафик интернета, но при этом им будет не хватать совсем чуть-чуть от лимита, и они будут вынуждены продлить тариф сверхлимита, что окажется более выгодным для компании.\n",
    "                    </span>\n",
    "                </span>\n",
    "            </span>\n",
    "        </div>\n",
    "    </div>\n",
    "</div>"
   ]
  },
  {
   "cell_type": "markdown",
   "metadata": {},
   "source": [
    "## Инициализация"
   ]
  },
  {
   "cell_type": "markdown",
   "metadata": {},
   "source": [
    "### Импорт библиотек"
   ]
  },
  {
   "cell_type": "code",
   "execution_count": 3,
   "metadata": {},
   "outputs": [],
   "source": [
    "%matplotlib inline\n",
    "\n",
    "import pandas as pd\n",
    "\n",
    "import matplotlib.pyplot as plt\n",
    "\n",
    "from IPython.display import Markdown as md\n",
    "\n",
    "from sklearn.tree import DecisionTreeClassifier\n",
    "from sklearn.linear_model import LogisticRegression\n",
    "from sklearn.ensemble import RandomForestClassifier\n",
    "from sklearn.dummy import DummyClassifier\n",
    "\n",
    "from sklearn.model_selection import train_test_split\n",
    "from sklearn.model_selection import GridSearchCV\n",
    "\n",
    "from sklearn.base import clone"
   ]
  },
  {
   "cell_type": "markdown",
   "metadata": {},
   "source": [
    "## Описание данных"
   ]
  },
  {
   "cell_type": "markdown",
   "metadata": {},
   "source": [
    "### Считываем данные"
   ]
  },
  {
   "cell_type": "code",
   "execution_count": 4,
   "metadata": {},
   "outputs": [
    {
     "data": {
      "text/html": [
       "<style  type=\"text/css\" >\n",
       "</style><table id=\"T_6b20d_\" class=\"table_border position_center\" data-title=\"Фрагмент источника данных (3214 строк)\" ><thead>    <tr>        <th class=\"blank level0\" ></th>        <th class=\"col_heading level0 col0\" >calls</th>        <th class=\"col_heading level0 col1\" >minutes</th>        <th class=\"col_heading level0 col2\" >messages</th>        <th class=\"col_heading level0 col3\" >mb_used</th>        <th class=\"col_heading level0 col4\" >is_ultra</th>    </tr></thead><tbody>\n",
       "                <tr>\n",
       "                        <th id=\"T_6b20d_level0_row0\" class=\"row_heading level0 row0\" >0</th>\n",
       "                        <td id=\"T_6b20d_row0_col0\" class=\"data row0 col0\" >40.00</td>\n",
       "                        <td id=\"T_6b20d_row0_col1\" class=\"data row0 col1\" >311.90</td>\n",
       "                        <td id=\"T_6b20d_row0_col2\" class=\"data row0 col2\" >83.00</td>\n",
       "                        <td id=\"T_6b20d_row0_col3\" class=\"data row0 col3\" >19915.42</td>\n",
       "                        <td id=\"T_6b20d_row0_col4\" class=\"data row0 col4\" >0</td>\n",
       "            </tr>\n",
       "            <tr>\n",
       "                        <th id=\"T_6b20d_level0_row1\" class=\"row_heading level0 row1\" >1</th>\n",
       "                        <td id=\"T_6b20d_row1_col0\" class=\"data row1 col0\" >85.00</td>\n",
       "                        <td id=\"T_6b20d_row1_col1\" class=\"data row1 col1\" >516.75</td>\n",
       "                        <td id=\"T_6b20d_row1_col2\" class=\"data row1 col2\" >56.00</td>\n",
       "                        <td id=\"T_6b20d_row1_col3\" class=\"data row1 col3\" >22696.96</td>\n",
       "                        <td id=\"T_6b20d_row1_col4\" class=\"data row1 col4\" >0</td>\n",
       "            </tr>\n",
       "            <tr>\n",
       "                        <th id=\"T_6b20d_level0_row2\" class=\"row_heading level0 row2\" >2</th>\n",
       "                        <td id=\"T_6b20d_row2_col0\" class=\"data row2 col0\" >77.00</td>\n",
       "                        <td id=\"T_6b20d_row2_col1\" class=\"data row2 col1\" >467.66</td>\n",
       "                        <td id=\"T_6b20d_row2_col2\" class=\"data row2 col2\" >86.00</td>\n",
       "                        <td id=\"T_6b20d_row2_col3\" class=\"data row2 col3\" >21060.45</td>\n",
       "                        <td id=\"T_6b20d_row2_col4\" class=\"data row2 col4\" >0</td>\n",
       "            </tr>\n",
       "            <tr>\n",
       "                        <th id=\"T_6b20d_level0_row3\" class=\"row_heading level0 row3\" >3</th>\n",
       "                        <td id=\"T_6b20d_row3_col0\" class=\"data row3 col0\" >106.00</td>\n",
       "                        <td id=\"T_6b20d_row3_col1\" class=\"data row3 col1\" >745.53</td>\n",
       "                        <td id=\"T_6b20d_row3_col2\" class=\"data row3 col2\" >81.00</td>\n",
       "                        <td id=\"T_6b20d_row3_col3\" class=\"data row3 col3\" >8437.39</td>\n",
       "                        <td id=\"T_6b20d_row3_col4\" class=\"data row3 col4\" >1</td>\n",
       "            </tr>\n",
       "            <tr>\n",
       "                        <th id=\"T_6b20d_level0_row4\" class=\"row_heading level0 row4\" >4</th>\n",
       "                        <td id=\"T_6b20d_row4_col0\" class=\"data row4 col0\" >66.00</td>\n",
       "                        <td id=\"T_6b20d_row4_col1\" class=\"data row4 col1\" >418.74</td>\n",
       "                        <td id=\"T_6b20d_row4_col2\" class=\"data row4 col2\" >1.00</td>\n",
       "                        <td id=\"T_6b20d_row4_col3\" class=\"data row4 col3\" >14502.75</td>\n",
       "                        <td id=\"T_6b20d_row4_col4\" class=\"data row4 col4\" >0</td>\n",
       "            </tr>\n",
       "    </tbody></table>"
      ],
      "text/plain": [
       "<pandas.io.formats.style.Styler at 0x7f3024f1cf70>"
      ]
     },
     "metadata": {},
     "output_type": "display_data"
    }
   ],
   "source": [
    "df = pd.read_csv('/datasets/users_behavior.csv')\n",
    "\n",
    "rows_count = len(df)\n",
    "\n",
    "render(\n",
    "    df.head(), \n",
    "    name='Фрагмент источника данных (' + str(rows_count) + ' строк)',\n",
    "    format=\"{:.2f}\",\n",
    "    position=\"center\"\n",
    ")"
   ]
  },
  {
   "cell_type": "markdown",
   "metadata": {},
   "source": [
    "<p>Каждый объект в наборе данных — это информация о поведении одного пользователя за месяц. Известно:</p>\n",
    "<p>\n",
    "<em>\n",
    "    <strong>\n",
    "        <span><code>:: сalls    ::</code> — количество звонков</span><br>\n",
    "        <span><code>:: minutes  ::</code> — суммарная длительность звонков в минутах</span><br>\n",
    "        <span><code>:: messages ::</code> — количество sms-сообщений</span><br>\n",
    "        <span><code>:: mb_used  ::</code> — израсходованный интернет-трафик в Мб</span><br>\n",
    "        <span><code>:: is_ultra ::</code> — каким тарифом пользовался в течение месяца («Ультра» — 1, «Смарт» — 0)</span><br>\n",
    "    </strong>\n",
    "</em>\n",
    "</p>"
   ]
  },
  {
   "cell_type": "markdown",
   "metadata": {},
   "source": [
    "### Техническая информация"
   ]
  },
  {
   "cell_type": "code",
   "execution_count": 5,
   "metadata": {},
   "outputs": [
    {
     "data": {
      "text/html": [
       "<p class=\"value\" ><code>Shape:  (3214, 5)</code></p>"
      ],
      "text/plain": [
       "<IPython.core.display.HTML object>"
      ]
     },
     "metadata": {},
     "output_type": "display_data"
    },
    {
     "data": {
      "text/html": [
       "<p class=\"value\" ><code>Дубликатов:  0</code></p>"
      ],
      "text/plain": [
       "<IPython.core.display.HTML object>"
      ]
     },
     "metadata": {},
     "output_type": "display_data"
    },
    {
     "data": {
      "text/html": [
       "<style  type=\"text/css\" >\n",
       "</style><table id=\"T_6abc2_\" class=\"table_border position_center\" data-title=\"Количество пропусков\" ><thead>    <tr>        <th class=\"blank level0\" ></th>        <th class=\"col_heading level0 col0\" >column_name</th>        <th class=\"col_heading level0 col1\" >sum</th>    </tr></thead><tbody>\n",
       "                <tr>\n",
       "                        <th id=\"T_6abc2_level0_row0\" class=\"row_heading level0 row0\" >0</th>\n",
       "                        <td id=\"T_6abc2_row0_col0\" class=\"data row0 col0\" >calls</td>\n",
       "                        <td id=\"T_6abc2_row0_col1\" class=\"data row0 col1\" >0</td>\n",
       "            </tr>\n",
       "            <tr>\n",
       "                        <th id=\"T_6abc2_level0_row1\" class=\"row_heading level0 row1\" >1</th>\n",
       "                        <td id=\"T_6abc2_row1_col0\" class=\"data row1 col0\" >minutes</td>\n",
       "                        <td id=\"T_6abc2_row1_col1\" class=\"data row1 col1\" >0</td>\n",
       "            </tr>\n",
       "            <tr>\n",
       "                        <th id=\"T_6abc2_level0_row2\" class=\"row_heading level0 row2\" >2</th>\n",
       "                        <td id=\"T_6abc2_row2_col0\" class=\"data row2 col0\" >messages</td>\n",
       "                        <td id=\"T_6abc2_row2_col1\" class=\"data row2 col1\" >0</td>\n",
       "            </tr>\n",
       "            <tr>\n",
       "                        <th id=\"T_6abc2_level0_row3\" class=\"row_heading level0 row3\" >3</th>\n",
       "                        <td id=\"T_6abc2_row3_col0\" class=\"data row3 col0\" >mb_used</td>\n",
       "                        <td id=\"T_6abc2_row3_col1\" class=\"data row3 col1\" >0</td>\n",
       "            </tr>\n",
       "            <tr>\n",
       "                        <th id=\"T_6abc2_level0_row4\" class=\"row_heading level0 row4\" >4</th>\n",
       "                        <td id=\"T_6abc2_row4_col0\" class=\"data row4 col0\" >is_ultra</td>\n",
       "                        <td id=\"T_6abc2_row4_col1\" class=\"data row4 col1\" >0</td>\n",
       "            </tr>\n",
       "    </tbody></table>"
      ],
      "text/plain": [
       "<pandas.io.formats.style.Styler at 0x7f302061a610>"
      ]
     },
     "metadata": {},
     "output_type": "display_data"
    },
    {
     "name": "stdout",
     "output_type": "stream",
     "text": [
      "\n",
      "<class 'pandas.core.frame.DataFrame'>\n",
      "RangeIndex: 3214 entries, 0 to 3213\n",
      "Data columns (total 5 columns):\n",
      " #   Column    Non-Null Count  Dtype  \n",
      "---  ------    --------------  -----  \n",
      " 0   calls     3214 non-null   float64\n",
      " 1   minutes   3214 non-null   float64\n",
      " 2   messages  3214 non-null   float64\n",
      " 3   mb_used   3214 non-null   float64\n",
      " 4   is_ultra  3214 non-null   int64  \n",
      "dtypes: float64(4), int64(1)\n",
      "memory usage: 125.7 KB\n"
     ]
    },
    {
     "data": {
      "text/html": [
       "<style  type=\"text/css\" >\n",
       "</style><table id=\"T_41d9f_\" class=\"table_border position_center\"><thead>    <tr>        <th class=\"blank level0\" ></th>        <th class=\"col_heading level0 col0\" >calls</th>        <th class=\"col_heading level0 col1\" >minutes</th>        <th class=\"col_heading level0 col2\" >messages</th>        <th class=\"col_heading level0 col3\" >mb_used</th>        <th class=\"col_heading level0 col4\" >is_ultra</th>    </tr></thead><tbody>\n",
       "                <tr>\n",
       "                        <th id=\"T_41d9f_level0_row0\" class=\"row_heading level0 row0\" >count</th>\n",
       "                        <td id=\"T_41d9f_row0_col0\" class=\"data row0 col0\" >3214.00</td>\n",
       "                        <td id=\"T_41d9f_row0_col1\" class=\"data row0 col1\" >3214.00</td>\n",
       "                        <td id=\"T_41d9f_row0_col2\" class=\"data row0 col2\" >3214.00</td>\n",
       "                        <td id=\"T_41d9f_row0_col3\" class=\"data row0 col3\" >3214.00</td>\n",
       "                        <td id=\"T_41d9f_row0_col4\" class=\"data row0 col4\" >3214.00</td>\n",
       "            </tr>\n",
       "            <tr>\n",
       "                        <th id=\"T_41d9f_level0_row1\" class=\"row_heading level0 row1\" >mean</th>\n",
       "                        <td id=\"T_41d9f_row1_col0\" class=\"data row1 col0\" >63.04</td>\n",
       "                        <td id=\"T_41d9f_row1_col1\" class=\"data row1 col1\" >438.21</td>\n",
       "                        <td id=\"T_41d9f_row1_col2\" class=\"data row1 col2\" >38.28</td>\n",
       "                        <td id=\"T_41d9f_row1_col3\" class=\"data row1 col3\" >17207.67</td>\n",
       "                        <td id=\"T_41d9f_row1_col4\" class=\"data row1 col4\" >0.31</td>\n",
       "            </tr>\n",
       "            <tr>\n",
       "                        <th id=\"T_41d9f_level0_row2\" class=\"row_heading level0 row2\" >std</th>\n",
       "                        <td id=\"T_41d9f_row2_col0\" class=\"data row2 col0\" >33.24</td>\n",
       "                        <td id=\"T_41d9f_row2_col1\" class=\"data row2 col1\" >234.57</td>\n",
       "                        <td id=\"T_41d9f_row2_col2\" class=\"data row2 col2\" >36.15</td>\n",
       "                        <td id=\"T_41d9f_row2_col3\" class=\"data row2 col3\" >7570.97</td>\n",
       "                        <td id=\"T_41d9f_row2_col4\" class=\"data row2 col4\" >0.46</td>\n",
       "            </tr>\n",
       "            <tr>\n",
       "                        <th id=\"T_41d9f_level0_row3\" class=\"row_heading level0 row3\" >min</th>\n",
       "                        <td id=\"T_41d9f_row3_col0\" class=\"data row3 col0\" >0.00</td>\n",
       "                        <td id=\"T_41d9f_row3_col1\" class=\"data row3 col1\" >0.00</td>\n",
       "                        <td id=\"T_41d9f_row3_col2\" class=\"data row3 col2\" >0.00</td>\n",
       "                        <td id=\"T_41d9f_row3_col3\" class=\"data row3 col3\" >0.00</td>\n",
       "                        <td id=\"T_41d9f_row3_col4\" class=\"data row3 col4\" >0.00</td>\n",
       "            </tr>\n",
       "            <tr>\n",
       "                        <th id=\"T_41d9f_level0_row4\" class=\"row_heading level0 row4\" >25%</th>\n",
       "                        <td id=\"T_41d9f_row4_col0\" class=\"data row4 col0\" >40.00</td>\n",
       "                        <td id=\"T_41d9f_row4_col1\" class=\"data row4 col1\" >274.58</td>\n",
       "                        <td id=\"T_41d9f_row4_col2\" class=\"data row4 col2\" >9.00</td>\n",
       "                        <td id=\"T_41d9f_row4_col3\" class=\"data row4 col3\" >12491.90</td>\n",
       "                        <td id=\"T_41d9f_row4_col4\" class=\"data row4 col4\" >0.00</td>\n",
       "            </tr>\n",
       "            <tr>\n",
       "                        <th id=\"T_41d9f_level0_row5\" class=\"row_heading level0 row5\" >50%</th>\n",
       "                        <td id=\"T_41d9f_row5_col0\" class=\"data row5 col0\" >62.00</td>\n",
       "                        <td id=\"T_41d9f_row5_col1\" class=\"data row5 col1\" >430.60</td>\n",
       "                        <td id=\"T_41d9f_row5_col2\" class=\"data row5 col2\" >30.00</td>\n",
       "                        <td id=\"T_41d9f_row5_col3\" class=\"data row5 col3\" >16943.24</td>\n",
       "                        <td id=\"T_41d9f_row5_col4\" class=\"data row5 col4\" >0.00</td>\n",
       "            </tr>\n",
       "            <tr>\n",
       "                        <th id=\"T_41d9f_level0_row6\" class=\"row_heading level0 row6\" >75%</th>\n",
       "                        <td id=\"T_41d9f_row6_col0\" class=\"data row6 col0\" >82.00</td>\n",
       "                        <td id=\"T_41d9f_row6_col1\" class=\"data row6 col1\" >571.93</td>\n",
       "                        <td id=\"T_41d9f_row6_col2\" class=\"data row6 col2\" >57.00</td>\n",
       "                        <td id=\"T_41d9f_row6_col3\" class=\"data row6 col3\" >21424.70</td>\n",
       "                        <td id=\"T_41d9f_row6_col4\" class=\"data row6 col4\" >1.00</td>\n",
       "            </tr>\n",
       "            <tr>\n",
       "                        <th id=\"T_41d9f_level0_row7\" class=\"row_heading level0 row7\" >max</th>\n",
       "                        <td id=\"T_41d9f_row7_col0\" class=\"data row7 col0\" >244.00</td>\n",
       "                        <td id=\"T_41d9f_row7_col1\" class=\"data row7 col1\" >1632.06</td>\n",
       "                        <td id=\"T_41d9f_row7_col2\" class=\"data row7 col2\" >224.00</td>\n",
       "                        <td id=\"T_41d9f_row7_col3\" class=\"data row7 col3\" >49745.73</td>\n",
       "                        <td id=\"T_41d9f_row7_col4\" class=\"data row7 col4\" >1.00</td>\n",
       "            </tr>\n",
       "    </tbody></table>"
      ],
      "text/plain": [
       "<pandas.io.formats.style.Styler at 0x7f2f9e4dfdf0>"
      ]
     },
     "metadata": {},
     "output_type": "display_data"
    }
   ],
   "source": [
    "render('Shape: ', df.shape)\n",
    "render('Дубликатов: ', df.duplicated().sum())\n",
    "render(\n",
    "    df.isna().sum().reset_index().rename(columns={'index':'column_name', 0:'sum'}),\n",
    "    name='Количество пропусков',\n",
    "    position='center'\n",
    ")\n",
    "\n",
    "print()\n",
    "df.info()\n",
    "\n",
    "\n",
    "render(df.describe(), format=\"{:.2f}\", position=\"center\")"
   ]
  },
  {
   "cell_type": "markdown",
   "metadata": {},
   "source": [
    "### Сравним количественное отношение 1 и 0 в таргете(is_ultra)"
   ]
  },
  {
   "cell_type": "code",
   "execution_count": 6,
   "metadata": {},
   "outputs": [
    {
     "data": {
      "text/html": [
       "<style  type=\"text/css\" >\n",
       "</style><table id=\"T_a9b17_\" class=\"table_border position_center_header\"><thead>    <tr>        <th class=\"blank level0\" ></th>        <th class=\"col_heading level0 col0\" >is_ultra</th>        <th class=\"col_heading level0 col1\" >Count</th>    </tr></thead><tbody>\n",
       "                <tr>\n",
       "                        <th id=\"T_a9b17_level0_row0\" class=\"row_heading level0 row0\" >0</th>\n",
       "                        <td id=\"T_a9b17_row0_col0\" class=\"data row0 col0\" >0</td>\n",
       "                        <td id=\"T_a9b17_row0_col1\" class=\"data row0 col1\" >2229</td>\n",
       "            </tr>\n",
       "            <tr>\n",
       "                        <th id=\"T_a9b17_level0_row1\" class=\"row_heading level0 row1\" >1</th>\n",
       "                        <td id=\"T_a9b17_row1_col0\" class=\"data row1 col0\" >1</td>\n",
       "                        <td id=\"T_a9b17_row1_col1\" class=\"data row1 col1\" >985</td>\n",
       "            </tr>\n",
       "    </tbody></table>"
      ],
      "text/plain": [
       "<pandas.io.formats.style.Styler at 0x7f2f9e12d3d0>"
      ]
     },
     "metadata": {},
     "output_type": "display_data"
    },
    {
     "data": {
      "image/png": "[encoded data removed]",
      "text/plain": [
       "<Figure size 576x576 with 1 Axes>"
      ]
     },
     "metadata": {},
     "output_type": "display_data"
    }
   ],
   "source": [
    "target_df = df['is_ultra'].value_counts().reset_index().rename(columns={'index':'is_ultra', 'is_ultra':'Count'})\n",
    "\n",
    "render(target_df)\n",
    "\n",
    "target_df.plot(kind=\"pie\", y='Count', title=\"Количественное отношение в таргете(is_ultra)\", autopct='%1.1f%%', figsize=(8, 8))\n",
    "\n",
    "plt.show()"
   ]
  },
  {
   "cell_type": "markdown",
   "metadata": {},
   "source": [
    "<div class=\"total\">\n",
    "    <div class=\"banner\">&nbsp;</div>\n",
    "    <div class=\"description\">\n",
    "        <h3>Вывод</h3>\n",
    "        <span>\n",
    "            - Проблем с данными нет<br>\n",
    "            - Пропусков в данных нет<br>\n",
    "            - Дубликатов в данных нет<br>\n",
    "            - Каждый столбец имеет нужный формат<br>\n",
    "            - is_ultra=0 - 2229, is_ultra=1 - 985<br>\n",
    "            - Соотношение 0 и 1 таргета(is_ultra) соответственно 70% / 30%<br>\n",
    "        </span>\n",
    "    </div>\n",
    "</div>"
   ]
  },
  {
   "cell_type": "markdown",
   "metadata": {},
   "source": [
    "## Разбейте данные на выборки"
   ]
  },
  {
   "cell_type": "markdown",
   "metadata": {},
   "source": [
    "[ Задача ] **Разделите исходные данные на обучающую, валидационную и тестовую выборки.**\n",
    "\n",
    "Возьмем `60%` данных для обучающей выборки, `20%` для валидационной выборки и `20%` для тестовой выборки"
   ]
  },
  {
   "cell_type": "code",
   "execution_count": 7,
   "metadata": {},
   "outputs": [
    {
     "data": {
      "text/html": [
       "<p class=\"value\" ><code>Количество строк для обучающей выборки:  (1928, 4)</code></p>"
      ],
      "text/plain": [
       "<IPython.core.display.HTML object>"
      ]
     },
     "metadata": {},
     "output_type": "display_data"
    },
    {
     "data": {
      "text/html": [
       "<p class=\"value\" ><code>Количество строк для валидационной выборки:  (643, 4)</code></p>"
      ],
      "text/plain": [
       "<IPython.core.display.HTML object>"
      ]
     },
     "metadata": {},
     "output_type": "display_data"
    },
    {
     "data": {
      "text/html": [
       "<p class=\"value\" ><code>Количество строк для тестовой выборки:  (643, 4)</code></p>"
      ],
      "text/plain": [
       "<IPython.core.display.HTML object>"
      ]
     },
     "metadata": {},
     "output_type": "display_data"
    }
   ],
   "source": [
    "# Разделим на обучающую выборку и на все остальное\n",
    "train, temp = train_test_split(\n",
    "    df, \n",
    "    test_size=0.4, \n",
    "    random_state=12345\n",
    ")\n",
    "\n",
    "\n",
    "# Обучающая выборка\n",
    "features_train = train.drop(['is_ultra'], axis=1) \n",
    "target_train   = train['is_ultra']\n",
    "\n",
    "\n",
    "features_temp  = temp.drop(['is_ultra'], axis=1) \n",
    "target_temp    = temp['is_ultra']\n",
    "\n",
    "# Разделим все остальное на валидационную выборку и на тестовую выборку\n",
    "features_valid, features_test, target_valid, target_test = train_test_split(\n",
    "    features_temp, \n",
    "    target_temp, \n",
    "    test_size=0.5, \n",
    "    random_state=12345,\n",
    "    stratify=target_temp\n",
    ")\n",
    "\n",
    "#render('Количество строк для обучающей выборки: ',     len(features_train))\n",
    "#render('Количество строк для валидационной выборки: ', len(features_valid))\n",
    "#render('Количество строк для тестовой выборки: ',      len(features_test))\n",
    "\n",
    "#[ Исправлено ]\n",
    "render('Количество строк для обучающей выборки: ',     features_train.shape)\n",
    "render('Количество строк для валидационной выборки: ', features_valid.shape)\n",
    "render('Количество строк для тестовой выборки: ',      features_test.shape)"
   ]
  },
  {
   "cell_type": "markdown",
   "metadata": {},
   "source": [
    "<div class=\"total\">\n",
    "    <div class=\"banner\">&nbsp;</div>\n",
    "    <div class=\"description\">\n",
    "        <h3>Вывод</h3>\n",
    "        <p>Разделили данные на:</p>\n",
    "        <span>\n",
    "            <strong>\n",
    "                <em>\n",
    "                    - <b>60%</b> <code>обучающая выборка     </code>- features_train, target_train<br>\n",
    "                    - <b>20%</b> <code>валидационная выборка </code>- features_valid, target_valid<br>\n",
    "                    - <b>20%</b> <code>тестовая выборка      </code>- features_test,  target_test<br>\n",
    "                </em>\n",
    "            </strong>\n",
    "        </span>\n",
    "    </div>\n",
    "</div>"
   ]
  },
  {
   "cell_type": "markdown",
   "metadata": {},
   "source": [
    "## Исследуйте модели"
   ]
  },
  {
   "cell_type": "markdown",
   "metadata": {},
   "source": [
    "[ Задача ] **Исследуйте качество разных моделей, меняя гиперпараметры.**\n",
    "\n",
    "В решениях будем использовать библиотеку **sklearn** и следующие модели:\n",
    "\n",
    "```python\n",
    "from sklearn.tree import DecisionTreeClassifier\n",
    "from sklearn.linear_model import LogisticRegression\n",
    "from sklearn.ensemble import RandomForestClassifier\n",
    "```"
   ]
  },
  {
   "cell_type": "code",
   "execution_count": 8,
   "metadata": {},
   "outputs": [],
   "source": [
    "models                     = {}\n",
    "\n",
    "models['best_model']       = {}\n",
    "\n",
    "models['dt']               = {}\n",
    "models['dt']['name']       = 'DecisionTreeClassifier'\n",
    "models['dt']['model']      = {}\n",
    "models['dt']['classic']    = {}\n",
    "models['dt']['gs']         = {}\n",
    "\n",
    "models['lr']               = {}\n",
    "models['lr']['name']       = 'LogisticRegression'\n",
    "models['lr']['model']      = {}\n",
    "models['lr']['classic']    = {}\n",
    "models['lr']['gs']         = {}\n",
    "\n",
    "models['rf']               = {}\n",
    "models['rf']['name']       = 'RandomForestClassifier'\n",
    "models['rf']['model']      = {}\n",
    "models['rf']['classic']    = {}\n",
    "models['rf']['gs']         = {}\n",
    "\n",
    "models['test']             = {}\n",
    "models['test']['classic']  = {}\n",
    "models['test']['gs']       = {}"
   ]
  },
  {
   "cell_type": "markdown",
   "metadata": {},
   "source": [
    "### DecisionTreeClassifier"
   ]
  },
  {
   "cell_type": "markdown",
   "metadata": {},
   "source": [
    "#### Классический способ"
   ]
  },
  {
   "cell_type": "code",
   "execution_count": 9,
   "metadata": {},
   "outputs": [
    {
     "data": {
      "image/png": "[encoded data removed]",
      "text/plain": [
       "<Figure size 432x288 with 1 Axes>"
      ]
     },
     "metadata": {
      "needs_background": "light"
     },
     "output_type": "display_data"
    },
    {
     "name": "stdout",
     "output_type": "stream",
     "text": [
      "Глубина дерева: 7\n",
      "Качество: 0.8009331259720062\n"
     ]
    }
   ],
   "source": [
    "best_accuracy = 0\n",
    "best_depth    = 0\n",
    "\n",
    "accuracys = []\n",
    "depths    = []\n",
    "\n",
    "\n",
    "for depth in range(1, 20):\n",
    "    model = DecisionTreeClassifier(random_state=12345, max_depth=depth) # обучите модель с заданной глубиной дерева\n",
    "    model.fit(features_train, target_train)                             # обучите модель\n",
    "    \n",
    "    accuracy = model.score(features_valid, target_valid)                # посчитайте качество модели\n",
    "    \n",
    "    accuracys.append(accuracy)\n",
    "    depths.append(depth)\n",
    "    \n",
    "    if accuracy > best_accuracy:\n",
    "        best_accuracy = accuracy\n",
    "        best_depth = depth\n",
    "\n",
    "plt.plot(accuracys, depths)\n",
    "plt.suptitle('Зависимость качества модели от Глубины дерева')\n",
    "plt.xlabel('accuracy')\n",
    "plt.ylabel('max_depth')\n",
    "plt.show()\n",
    "        \n",
    "print('Глубина дерева:', best_depth)\n",
    "print('Качество:',       best_accuracy)\n",
    "\n",
    "#Добавляем модель в словарь\n",
    "models['dt']['model']                    = model\n",
    "models['dt']['classic']['best_accuracy'] = best_accuracy\n",
    "models['dt']['classic']['parameters']    = {'max_depth':best_depth}"
   ]
  },
  {
   "cell_type": "markdown",
   "metadata": {},
   "source": [
    "#### GridSearchCV"
   ]
  },
  {
   "cell_type": "code",
   "execution_count": 10,
   "metadata": {},
   "outputs": [
    {
     "data": {
      "image/png": "[encoded data removed]",
      "text/plain": [
       "<Figure size 432x288 with 1 Axes>"
      ]
     },
     "metadata": {
      "needs_background": "light"
     },
     "output_type": "display_data"
    },
    {
     "name": "stdout",
     "output_type": "stream",
     "text": [
      "Глубина дерева: 7\n",
      "Качество: 0.8065325348226903\n"
     ]
    }
   ],
   "source": [
    "dt = DecisionTreeClassifier(random_state=12345)\n",
    "\n",
    "parametrs = { \n",
    "    'max_depth': range (1,20, 1),\n",
    "    'min_samples_leaf': range (1,10)\n",
    "}\n",
    "\n",
    "grid = GridSearchCV(dt, parametrs, cv=5)\n",
    "grid.fit(features_train, target_train)\n",
    "\n",
    "\n",
    "plt.plot(list(grid.cv_results_['mean_test_score']), list(grid.cv_results_['param_max_depth']))\n",
    "plt.suptitle('Зависимость качества модели от Глубины дерева')\n",
    "plt.xlabel('accuracy')\n",
    "plt.ylabel('max_depth')\n",
    "plt.show()\n",
    "\n",
    "print('Глубина дерева:', grid.best_params_['max_depth'])\n",
    "print('Качество:',       grid.best_score_)\n",
    "\n",
    "#Добавляем модель в словарь\n",
    "models['dt']['gs']['best_accuracy'] = grid.best_score_\n",
    "models['dt']['gs']['parameters']    = grid.best_params_"
   ]
  },
  {
   "cell_type": "markdown",
   "metadata": {},
   "source": [
    "### LogisticRegression"
   ]
  },
  {
   "cell_type": "markdown",
   "metadata": {},
   "source": [
    "#### Классический способ"
   ]
  },
  {
   "cell_type": "code",
   "execution_count": 11,
   "metadata": {},
   "outputs": [
    {
     "name": "stdout",
     "output_type": "stream",
     "text": [
      "Качество: 0.6905132192846034\n"
     ]
    }
   ],
   "source": [
    "model = LogisticRegression(random_state=12345, solver='lbfgs', max_iter=2000)\n",
    "model.fit(features_train, target_train)\n",
    "\n",
    "accuracy = model.score(features_valid, target_valid)\n",
    "\n",
    "print(\"Качество:\", accuracy)\n",
    "\n",
    "#Добавляем модель в словарь\n",
    "models['lr']['model']                    = model\n",
    "models['lr']['classic']['best_accuracy'] = accuracy\n",
    "models['lr']['classic']['parameters']    = {'solver':'lbfgs', 'max_iter':2000}"
   ]
  },
  {
   "cell_type": "markdown",
   "metadata": {},
   "source": [
    "#### GridSearchCV"
   ]
  },
  {
   "cell_type": "code",
   "execution_count": 12,
   "metadata": {
    "scrolled": false
   },
   "outputs": [
    {
     "data": {
      "image/png": "[encoded data removed]",
      "text/plain": [
       "<Figure size 432x288 with 1 Axes>"
      ]
     },
     "metadata": {
      "needs_background": "light"
     },
     "output_type": "display_data"
    },
    {
     "name": "stdout",
     "output_type": "stream",
     "text": [
      "max_iter: 100\n",
      "Качество: 0.7396218289482539\n"
     ]
    }
   ],
   "source": [
    "lr = LogisticRegression(random_state=12345, solver='lbfgs')\n",
    "\n",
    "parametrs = {\n",
    "    'max_iter': range (100,5000, 100)\n",
    "}\n",
    "\n",
    "grid = GridSearchCV(lr, parametrs, cv=5)\n",
    "\n",
    "grid.fit(features_train, target_train)\n",
    "\n",
    "plt.plot(list(grid.cv_results_['mean_test_score']), list(grid.cv_results_['param_max_iter']))\n",
    "plt.suptitle('Зависимость Качества модели от гипперапараметра max_iter')\n",
    "plt.xlabel('accuracy')\n",
    "plt.ylabel('max_iter')\n",
    "plt.show()\n",
    "\n",
    "print('max_iter:',       grid.best_params_['max_iter'])\n",
    "print('Качество:',       grid.best_score_)\n",
    "\n",
    "#Добавляем модель в словарь\n",
    "models['lr']['gs']['best_accuracy'] = grid.best_score_\n",
    "models['lr']['gs']['parameters']    = grid.best_params_"
   ]
  },
  {
   "cell_type": "markdown",
   "metadata": {},
   "source": [
    "### RandomForestClassifier"
   ]
  },
  {
   "cell_type": "markdown",
   "metadata": {},
   "source": [
    "#### Классический способ"
   ]
  },
  {
   "cell_type": "code",
   "execution_count": 13,
   "metadata": {
    "scrolled": false
   },
   "outputs": [
    {
     "data": {
      "image/png": "[encoded data removed]",
      "text/plain": [
       "<Figure size 432x288 with 1 Axes>"
      ]
     },
     "metadata": {
      "needs_background": "light"
     },
     "output_type": "display_data"
    },
    {
     "data": {
      "image/png": "[encoded data removed]",
      "text/plain": [
       "<Figure size 432x288 with 1 Axes>"
      ]
     },
     "metadata": {
      "needs_background": "light"
     },
     "output_type": "display_data"
    },
    {
     "data": {
      "image/png": "[encoded data removed]",
      "text/plain": [
       "<Figure size 432x288 with 1 Axes>"
      ]
     },
     "metadata": {
      "needs_background": "light"
     },
     "output_type": "display_data"
    },
    {
     "name": "stdout",
     "output_type": "stream",
     "text": [
      "Глубина дерева: 7\n",
      "Количество деревьев: 31\n",
      "Минимум листьев в узле: 2\n",
      "Качество: 0.8180404354587869\n"
     ]
    }
   ],
   "source": [
    "best_accuracy = 0\n",
    "best_est      = 1\n",
    "best_depth    = 0\n",
    "\n",
    "accuracys     = []\n",
    "depths        = []\n",
    "ests          = []\n",
    "samples       = []\n",
    "\n",
    "for depth in range(1, 8):\n",
    "    for est in range(1, 50, 5):\n",
    "        for sample in range(2, 5):\n",
    "            \n",
    "            model = RandomForestClassifier(\n",
    "                random_state=12345,\n",
    "                max_depth=depth,\n",
    "                n_estimators=est,\n",
    "                min_samples_leaf=sample\n",
    "            )                                                                      # обучите модель с заданным количеством деревьев\n",
    "            \n",
    "            model.fit(features_train, target_train)                                # обучите модель на тренировочной выборке\n",
    "            accuracy = model.score(features_valid, target_valid)                   # посчитайте качество модели на валидационной выборке\n",
    "            \n",
    "            accuracys.append(accuracy)\n",
    "            depths.append(depth)\n",
    "            ests.append(est)\n",
    "            samples.append(sample)\n",
    "            \n",
    "            if accuracy > best_accuracy:\n",
    "                best_accuracy = accuracy\n",
    "                best_depth = depth\n",
    "                best_est = est\n",
    "                best_sample = sample\n",
    "\n",
    "                \n",
    "                  \n",
    "\n",
    "plt.plot(accuracys, depths)\n",
    "plt.suptitle('Зависимость качества модели от Глубины дерева')\n",
    "plt.xlabel('accuracy')\n",
    "plt.ylabel('max_depth')\n",
    "plt.show()\n",
    "\n",
    "plt.plot(accuracys, ests)\n",
    "plt.suptitle('Зависимость качества модели от Количества деревьев')\n",
    "plt.xlabel('accuracy')\n",
    "plt.ylabel('n_estimators')\n",
    "plt.show() \n",
    "\n",
    "plt.plot(accuracys, samples)\n",
    "plt.suptitle('Зависимость качества модели от листьев в узле')\n",
    "plt.xlabel('accuracy')\n",
    "plt.ylabel('min_samples_leaf')\n",
    "plt.show() \n",
    "\n",
    "\n",
    "print('Глубина дерева:',         best_depth)                \n",
    "print('Количество деревьев:',    best_est)\n",
    "print('Минимум листьев в узле:', best_sample)\n",
    "print('Качество:',               best_accuracy)\n",
    "\n",
    "#Добавляем модель в словарь\n",
    "models['rf']['model']                    = model\n",
    "models['rf']['classic']['best_accuracy'] = accuracy\n",
    "models['rf']['classic']['parameters']    = {\n",
    "                                                'max_depth':        best_depth,\n",
    "                                                'n_estimators':     best_est,\n",
    "                                                'min_samples_leaf': best_sample\n",
    "                                           }"
   ]
  },
  {
   "cell_type": "markdown",
   "metadata": {},
   "source": [
    "#### GridSearchCV"
   ]
  },
  {
   "cell_type": "code",
   "execution_count": 14,
   "metadata": {
    "scrolled": false
   },
   "outputs": [
    {
     "data": {
      "image/png": "[encoded data removed]",
      "text/plain": [
       "<Figure size 432x288 with 1 Axes>"
      ]
     },
     "metadata": {
      "needs_background": "light"
     },
     "output_type": "display_data"
    },
    {
     "data": {
      "image/png": "[encoded data removed]",
      "text/plain": [
       "<Figure size 432x288 with 1 Axes>"
      ]
     },
     "metadata": {
      "needs_background": "light"
     },
     "output_type": "display_data"
    },
    {
     "data": {
      "image/png": "[encoded data removed]",
      "text/plain": [
       "<Figure size 432x288 with 1 Axes>"
      ]
     },
     "metadata": {
      "needs_background": "light"
     },
     "output_type": "display_data"
    },
    {
     "name": "stdout",
     "output_type": "stream",
     "text": [
      "Глубина дерева: 7\n",
      "Количество деревьев: 26\n",
      "Минимум листьев в узле: 3\n",
      "Качество: 0.8163932440616378\n"
     ]
    }
   ],
   "source": [
    "rf = RandomForestClassifier(random_state=12345)\n",
    "\n",
    "parametrs = { \n",
    "    'max_depth':        range(1, 8),\n",
    "    'n_estimators':     range(1, 50, 5),\n",
    "    'min_samples_leaf': range(2, 5)\n",
    "}\n",
    "\n",
    "grid = GridSearchCV(rf, parametrs, cv=5)\n",
    "grid.fit(features_train, target_train)\n",
    "\n",
    "\n",
    "plt.plot(list(grid.cv_results_['mean_test_score']), list(grid.cv_results_['param_max_depth']))\n",
    "plt.suptitle('Зависимость качества модели от Глубины дерева')\n",
    "plt.xlabel('accuracy')\n",
    "plt.ylabel('max_depth')\n",
    "plt.show()\n",
    "\n",
    "plt.plot(list(grid.cv_results_['mean_test_score']), list(grid.cv_results_['param_n_estimators']))\n",
    "plt.suptitle('Зависимость качества модели от Количества деревьев')\n",
    "plt.xlabel('accuracy')\n",
    "plt.ylabel('n_estimators')\n",
    "plt.show() \n",
    "\n",
    "plt.plot(list(grid.cv_results_['mean_test_score']), list(grid.cv_results_['param_min_samples_leaf']))\n",
    "plt.suptitle('Зависимость качества модели от листьев в узле')\n",
    "plt.xlabel('accuracy')\n",
    "plt.ylabel('min_samples_leaf')\n",
    "plt.show() \n",
    "\n",
    "\n",
    "print('Глубина дерева:',         grid.best_params_['max_depth'])                \n",
    "print('Количество деревьев:',    grid.best_params_['n_estimators'])\n",
    "print('Минимум листьев в узле:', grid.best_params_['min_samples_leaf'])\n",
    "print('Качество:',               grid.best_score_)\n",
    "\n",
    "#Добавляем модель в словарь\n",
    "models['rf']['gs']['best_accuracy'] = grid.best_score_\n",
    "models['rf']['gs']['parameters']    = grid.best_params_"
   ]
  },
  {
   "cell_type": "markdown",
   "metadata": {},
   "source": [
    "### Вывод"
   ]
  },
  {
   "cell_type": "code",
   "execution_count": 15,
   "metadata": {},
   "outputs": [
    {
     "data": {
      "text/markdown": [
       "\n",
       "<div class=\"total\">\n",
       "    <div class=\"banner\">&nbsp;</div>\n",
       "    <div class=\"description\">\n",
       "        <p>Исследовали следующие модели:</p>\n",
       "        <span>\n",
       "            - DecisionTreeClassifier (accuracy ~ 0.801)<br>- LogisticRegression (accuracy ~ 0.691)<br>- RandomForestClassifier (accuracy ~ 0.812)<br>\n",
       "        </span>\n",
       "        <p>Лучшее качество accuracy: <b>0.812</b> у модели: <b>RandomForestClassifier</b></p>\n",
       "    </div>\n",
       "</div>\n"
      ],
      "text/plain": [
       "<IPython.core.display.Markdown object>"
      ]
     },
     "execution_count": 15,
     "metadata": {},
     "output_type": "execute_result"
    }
   ],
   "source": [
    "### Посмотрим на наши модели\n",
    "\n",
    "###Определим лучшую модель\n",
    "best_accuracy = 0\n",
    "models_name   = list(models.keys())\n",
    "models_name.remove('best_model')\n",
    "models_name.remove('test')\n",
    "\n",
    "report = ''\n",
    "\n",
    "for id in models_name:\n",
    "    if models[id]['classic']['best_accuracy'] > best_accuracy:\n",
    "        best_accuracy                         = models[id]['classic']['best_accuracy']\n",
    "        models['best_model']['id']            = id\n",
    "        models['best_model']['best_accuracy'] = models[id]['classic']['best_accuracy']\n",
    "        models['best_model']['name']          = models[id]['name']\n",
    "        models['best_model']['model']         = models[id]\n",
    "        \n",
    "    report += '- ' + str(models[id]['name']) + ' (accuracy ~ ' + str(round(models[id]['classic']['best_accuracy'], 3)) + ')<br>'\n",
    "\n",
    "\n",
    "md('''\n",
    "<div class=\"total\">\n",
    "    <div class=\"banner\">&nbsp;</div>\n",
    "    <div class=\"description\">\n",
    "        <p>Исследовали следующие модели:</p>\n",
    "        <span>\n",
    "            {}\n",
    "        </span>\n",
    "        <p>Лучшее качество accuracy: <b>{}</b> у модели: <b>{}</b></p>\n",
    "    </div>\n",
    "</div>\n",
    "'''.format(report, round(models['best_model']['best_accuracy'], 3), models['best_model']['name'])\n",
    ")"
   ]
  },
  {
   "cell_type": "markdown",
   "metadata": {},
   "source": [
    "## Проверьте модель на тестовой выборке"
   ]
  },
  {
   "cell_type": "code",
   "execution_count": 24,
   "metadata": {},
   "outputs": [
    {
     "data": {
      "text/markdown": [
       "\n",
       "<div class=\"alert alert-info\">\n",
       "    <p>\n",
       "        <strong>\n",
       "            <em>\n",
       "                <span>\n",
       "                    Из предыдущего этапа мы узнали, что лучшая модель это -> <code><b>RandomForestClassifier</b></code><br><br>\n",
       "                    Теперь нам нужно провести испытания на тестовых данных и убедится, что у модели правильно подобраны гипперпараметры\n",
       "                </span><br>\n",
       "            </em>\n",
       "        </strong>\n",
       "     </p>\n",
       "</div>\n"
      ],
      "text/plain": [
       "<IPython.core.display.Markdown object>"
      ]
     },
     "execution_count": 24,
     "metadata": {},
     "output_type": "execute_result"
    }
   ],
   "source": [
    "md(\n",
    "'''\n",
    "<div class=\"alert alert-info\">\n",
    "    <p>\n",
    "        <strong>\n",
    "            <em>\n",
    "                <span>\n",
    "                    Из предыдущего этапа мы узнали, что лучшая модель это -> <code><b>{}</b></code><br><br>\n",
    "                    Теперь нам нужно провести испытания на тестовых данных и убедится, что у модели правильно подобраны гипперпараметры\n",
    "                </span><br>\n",
    "            </em>\n",
    "        </strong>\n",
    "     </p>\n",
    "</div>\n",
    "'''.format(models['best_model']['name'])\n",
    ")"
   ]
  },
  {
   "cell_type": "code",
   "execution_count": 17,
   "metadata": {},
   "outputs": [
    {
     "data": {
      "text/html": [
       "<p class=\"value\"  data-title=\"Посмотрим гипперпараметры модели, полученные стандартным способом\" ><code>{'random_state': 12345, 'max_depth': 7, 'n_estimators': 31, 'min_samples_leaf': 2}</code></p>"
      ],
      "text/plain": [
       "<IPython.core.display.HTML object>"
      ]
     },
     "metadata": {},
     "output_type": "display_data"
    },
    {
     "name": "stdout",
     "output_type": "stream",
     "text": [
      "Качество модели на тестовой выборке:  0.7869362363919129\n",
      "Для сравнения предыдущие результаты качества:  0.8118195956454122\n"
     ]
    }
   ],
   "source": [
    "# Посмотрим гипперпараметры модели, полученные стандартным способом\n",
    "model = models['best_model']['model']\n",
    "\n",
    "parameters = {'random_state': model['model'].get_params()['random_state']}\n",
    "parameters.update(model['classic']['parameters'])\n",
    "\n",
    "render(\n",
    "    parameters, \n",
    "    format='JSON',\n",
    "    name='Посмотрим гипперпараметры модели, полученные стандартным способом'\n",
    ")\n",
    "\n",
    "# Копируем модель\n",
    "test_model = clone(model['model'])\n",
    "\n",
    "# Изменяем ей параметры\n",
    "test_model.set_params(**parameters)\n",
    "\n",
    "# Обучаем\n",
    "test_model.fit(features_train, target_train)\n",
    "\n",
    "# Проверяем качество\n",
    "accuracy = test_model.score(features_test, target_test)\n",
    "\n",
    "models['test']['classic']['accuracy'] = accuracy\n",
    "models['test']['classic']['model']    = test_model\n",
    "\n",
    "print('Качество модели на тестовой выборке: ', accuracy)\n",
    "print('Для сравнения предыдущие результаты качества: ', models['best_model']['best_accuracy'])"
   ]
  },
  {
   "cell_type": "code",
   "execution_count": 18,
   "metadata": {
    "scrolled": true
   },
   "outputs": [
    {
     "data": {
      "text/html": [
       "<p class=\"value\"  data-title=\"Посмотрим гипперпараметры модели, полученные с помощью функции GridSearchCV\" ><code>{'random_state': 12345, 'max_depth': 7, 'min_samples_leaf': 3, 'n_estimators': 26}</code></p>"
      ],
      "text/plain": [
       "<IPython.core.display.HTML object>"
      ]
     },
     "metadata": {},
     "output_type": "display_data"
    },
    {
     "name": "stdout",
     "output_type": "stream",
     "text": [
      "Качество модели на тестовой выборке:  0.7822706065318819\n",
      "Для сравнения предыдущие результаты качества:  0.8163932440616378\n"
     ]
    }
   ],
   "source": [
    "### Теперь сравним с гипперпараметрами, полученные с помощью функции GridSearchCV\n",
    "model = models['best_model']['model']\n",
    "\n",
    "parameters = {'random_state': model['model'].get_params()['random_state']}\n",
    "parameters.update(model['gs']['parameters'])\n",
    "\n",
    "render(\n",
    "    parameters, \n",
    "    format='JSON',\n",
    "    name='Посмотрим гипперпараметры модели, полученные с помощью функции GridSearchCV'\n",
    ")\n",
    "\n",
    "# Копируем модель\n",
    "test_model = clone(model['model'])\n",
    "\n",
    "# Изменяем ей параметры\n",
    "test_model.set_params(**parameters)\n",
    "\n",
    "# Обучаем\n",
    "test_model.fit(features_train, target_train)\n",
    "\n",
    "# Проверяем качество\n",
    "accuracy = test_model.score(features_test, target_test)\n",
    "\n",
    "models['test']['gs']['accuracy'] = accuracy\n",
    "models['test']['gs']['model']    = test_model\n",
    "\n",
    "print('Качество модели на тестовой выборке: ', accuracy)\n",
    "print('Для сравнения предыдущие результаты качества: ', model['gs']['best_accuracy'])"
   ]
  },
  {
   "cell_type": "markdown",
   "metadata": {},
   "source": [
    "### Вывод"
   ]
  },
  {
   "cell_type": "code",
   "execution_count": 19,
   "metadata": {},
   "outputs": [
    {
     "data": {
      "text/markdown": [
       "\n",
       "<div class=\"total\">\n",
       "    <div class=\"banner\">&nbsp;</div>\n",
       "    <div class=\"description\">\n",
       "        <h3>Вывод</h3>\n",
       "        <p>Результаты тестирования лучшей модели (<b>RandomForestClassifier</b>):</p><br>\n",
       "        <span>Качество модели: 0.8118195956454122</span><br><br>\n",
       "        <span>\n",
       "            <span><b>- с гипперпараметрами, полученные в результате перебора</b></span><br>\n",
       "            <span style\"margin-left: 20px\">\n",
       "                - Гипперпараметры:{'max_depth': 7, 'n_estimators': 31, 'min_samples_leaf': 2}<br>\n",
       "                - accuracy: 0.7869362363919129<br>\n",
       "            </span><br><br>\n",
       "            <span><b>- с гипперпараметрами, полученные в результате использования функции GridSearchCV</b></span><br>\n",
       "            <span style\"margin-left: 20px\">\n",
       "                - Гипперпараметры:{'max_depth': 7, 'min_samples_leaf': 3, 'n_estimators': 26}<br>\n",
       "                - accuracy: 0.7822706065318819<br>\n",
       "            </span><br>\n",
       "        </span>\n",
       "        <p>Как видим результаты примерно одинаковые</p>\n",
       "    </div>\n",
       "</div>\n"
      ],
      "text/plain": [
       "<IPython.core.display.Markdown object>"
      ]
     },
     "execution_count": 19,
     "metadata": {},
     "output_type": "execute_result"
    }
   ],
   "source": [
    "md('''\n",
    "<div class=\"total\">\n",
    "    <div class=\"banner\">&nbsp;</div>\n",
    "    <div class=\"description\">\n",
    "        <h3>Вывод</h3>\n",
    "        <p>Результаты тестирования лучшей модели (<b>{}</b>):</p><br>\n",
    "        <span>Качество модели: {}</span><br><br>\n",
    "        <span>\n",
    "            <span><b>- с гипперпараметрами, полученные в результате перебора</b></span><br>\n",
    "            <span style\"margin-left: 20px\">\n",
    "                - Гипперпараметры:{}<br>\n",
    "                - accuracy: {}<br>\n",
    "            </span><br><br>\n",
    "            <span><b>- с гипперпараметрами, полученные в результате использования функции GridSearchCV</b></span><br>\n",
    "            <span style\"margin-left: 20px\">\n",
    "                - Гипперпараметры:{}<br>\n",
    "                - accuracy: {}<br>\n",
    "            </span><br>\n",
    "        </span>\n",
    "        <p>Как видим результаты примерно одинаковые</p>\n",
    "    </div>\n",
    "</div>\n",
    "'''.format(\n",
    "        models['best_model']['name'],\n",
    "        models['best_model']['best_accuracy'],\n",
    "    \n",
    "        models['best_model']['model']['classic']['parameters'],\n",
    "        models['test']['classic']['accuracy'],\n",
    "        \n",
    "        models['best_model']['model']['gs']['parameters'],\n",
    "        models['test']['gs']['accuracy']\n",
    "    )\n",
    ")"
   ]
  },
  {
   "cell_type": "markdown",
   "metadata": {},
   "source": [
    "## (бонус) Проверьте модели на адекватность"
   ]
  },
  {
   "cell_type": "markdown",
   "metadata": {},
   "source": [
    "Сравним результат нашего качества модели с качеством примитивного прогноза, используя:\n",
    "```python\n",
    "from sklearn.dummy import DummyClassifier\n",
    "```\n",
    "Перебирая параметр **strategy**:\n",
    "- **stratified**, генерирует прогнозы с учетом распределения классов обучающей выборки\n",
    "- **most_frequent**, всегда предсказывает наиболее частую метку в обучающем наборе\n",
    "- **uniform**, генерирует прогнозы равномерно в случайном порядке"
   ]
  },
  {
   "cell_type": "markdown",
   "metadata": {},
   "source": [
    "### stratified"
   ]
  },
  {
   "cell_type": "code",
   "execution_count": 20,
   "metadata": {},
   "outputs": [
    {
     "name": "stdout",
     "output_type": "stream",
     "text": [
      "Качество примитивного прогноза : 0.5536547433903577\n",
      "Качество нашего прогноза : 0.7869362363919129\n"
     ]
    }
   ],
   "source": [
    "dmm = DummyClassifier(strategy=\"stratified\" ,random_state=12345)\n",
    "dmm.fit(features_train, target_train)\n",
    "dummy_accuracy = dmm.score(features_test, target_test)\n",
    "print(\"Качество примитивного прогноза :\", dummy_accuracy)\n",
    "print(\"Качество нашего прогноза :\", models['test']['classic']['accuracy'])"
   ]
  },
  {
   "cell_type": "markdown",
   "metadata": {},
   "source": [
    "### most_frequent"
   ]
  },
  {
   "cell_type": "code",
   "execution_count": 21,
   "metadata": {},
   "outputs": [
    {
     "name": "stdout",
     "output_type": "stream",
     "text": [
      "Качество примитивного прогноза : 0.6951788491446346\n",
      "Качество нашего прогноза : 0.7869362363919129\n"
     ]
    }
   ],
   "source": [
    "dmm = DummyClassifier(strategy='most_frequent', random_state=12345)\n",
    "dmm.fit(features_train, target_train)\n",
    "dummy_accuracy = dmm.score(features_test, target_test)\n",
    "print(\"Качество примитивного прогноза :\", dummy_accuracy)\n",
    "print(\"Качество нашего прогноза :\", models['test']['classic']['accuracy'])"
   ]
  },
  {
   "cell_type": "markdown",
   "metadata": {},
   "source": [
    "### uniform"
   ]
  },
  {
   "cell_type": "code",
   "execution_count": 22,
   "metadata": {},
   "outputs": [
    {
     "name": "stdout",
     "output_type": "stream",
     "text": [
      "Качество примитивного прогноза : 0.5023328149300156\n",
      "Качество нашего прогноза : 0.7869362363919129\n"
     ]
    }
   ],
   "source": [
    "dmm = DummyClassifier(strategy='uniform', random_state=12345)\n",
    "dmm.fit(features_train, target_train)\n",
    "dummy_accuracy = dmm.score(features_test, target_test)\n",
    "print(\"Качество примитивного прогноза :\", dummy_accuracy)\n",
    "print(\"Качество нашего прогноза :\", models['test']['classic']['accuracy'])"
   ]
  },
  {
   "cell_type": "markdown",
   "metadata": {},
   "source": [
    "<div class=\"total\">\n",
    "    <div class=\"banner\">&nbsp;</div>\n",
    "    <div class=\"description\">\n",
    "        <h3>Вывод</h3>\n",
    "        <p>Ни один параметр примитивного прогноза не приблизился к результату качества нашей модели</p>\n",
    "        <span>От сюда можно считать, что <b>модель адекватна</b></span>\n",
    "    </div>\n",
    "</div>"
   ]
  },
  {
   "cell_type": "markdown",
   "metadata": {},
   "source": [
    "## Чек-лист готовности проекта"
   ]
  },
  {
   "cell_type": "markdown",
   "metadata": {},
   "source": [
    "Поставьте 'x' в выполненных пунктах. Далее нажмите Shift+Enter."
   ]
  },
  {
   "cell_type": "markdown",
   "metadata": {},
   "source": [
    "- [x] Jupyter Notebook открыт\n",
    "- [x] Весь код исполняется без ошибок\n",
    "- [x] Ячейки с кодом расположены в порядке исполнения\n",
    "- [x] Выполнено задание 1: данные загружены и изучены\n",
    "- [x] Выполнено задание 2: данные разбиты на три выборки\n",
    "- [x] Выполнено задание 3: проведено исследование моделей\n",
    "    - [x] Рассмотрено больше одной модели\n",
    "    - [x] Рассмотрено хотя бы 3 значения гипепараметров для какой-нибудь модели\n",
    "    - [x] Написаны выводы по результатам исследования\n",
    "- [x] Выполнено задание 3: Проведено тестирование\n",
    "- [x] Удалось достичь accuracy не меньше 0.75\n"
   ]
  },
  {
   "cell_type": "markdown",
   "metadata": {},
   "source": [
    "## Общий вывод по проведенной работе"
   ]
  },
  {
   "cell_type": "code",
   "execution_count": 23,
   "metadata": {},
   "outputs": [
    {
     "data": {
      "text/markdown": [
       "\n",
       "<div class=\"total\">\n",
       "    <div class=\"banner\">&nbsp;</div>\n",
       "    <div class=\"description\">\n",
       "        <h2>Общий вывод по проведенной работе</h2>\n",
       "        <p><b>Провели ряд исследований:</b></p>\n",
       "        - <i><a href=\"#Описание-данных\">Описание данных:</a></i>\n",
       "        <span style=\"margin-left: 20px;display:block;\">\n",
       "            - Проблем с данными нет<br>\n",
       "            - Пропусков в данных нет<br>\n",
       "            - Дубликатов в данных нет<br>\n",
       "            - Каждый столбец имеет нужный формат<br>\n",
       "            - is_ultra=0 - 2229, is_ultra=1 - 985<br>\n",
       "            - Соотношение 0 и 1 таргета(is_ultra) соответственно 70% / 30%<br>\n",
       "        </span><br>\n",
       "        - <i><a href=\"#Разбейте-данные-на-выборки\">Разбейте данные на выборки:</a></i>\n",
       "        <span style=\"margin-left: 20px;display:block;\">\n",
       "            - 60% обучающая выборка     - features_train, target_train<br>\n",
       "            - 20% валидационная выборка - features_valid, target_valid<br>\n",
       "            - 20% тестовая выборка      - features_test, target_test<br>\n",
       "        </span><br>\n",
       "        - <i><a href=\"#Исследуйте-модели\">Исследуйте модели:</a></i>\n",
       "        <p>Исследовали следующие модели:</p>\n",
       "        <span>\n",
       "            - DecisionTreeClassifier (accuracy ~ 0.801)<br>- LogisticRegression (accuracy ~ 0.691)<br>- RandomForestClassifier (accuracy ~ 0.812)<br>\n",
       "        </span>\n",
       "        <p>Лучшее качество accuracy: <b>0.812</b> у модели: <b>RandomForestClassifier</b></p><br><br>\n",
       "        - <i><a href=\"#Проверьте-модель-на-тестовой-выборке\">Проверьте модель на тестовой выборке:</a></i>\n",
       "        <p>Результаты тестирования лучшей модели (<b>RandomForestClassifier</b>):</p><br>\n",
       "        <span>Качество модели: 0.8118195956454122</span><br><br>\n",
       "        <span>\n",
       "            <span><b>- с гипперпараметрами, полученные в результате перебора</b></span><br>\n",
       "            <span style\"margin-left: 20px\">\n",
       "                - Гипперпараметры:{'max_depth': 7, 'n_estimators': 31, 'min_samples_leaf': 2}<br>\n",
       "                - accuracy: 0.7869362363919129<br>\n",
       "            </span><br><br>\n",
       "            <span><b>- с гипперпараметрами, полученные в результате использования функции GridSearchCV</b></span><br>\n",
       "            <span style\"margin-left: 20px\">\n",
       "                - Гипперпараметры:{'max_depth': 7, 'min_samples_leaf': 3, 'n_estimators': 26}<br>\n",
       "                - accuracy: 0.7822706065318819<br>\n",
       "            </span><br>\n",
       "        </span>\n",
       "        <p>Как видим результаты примерно одинаковые</p><br><br>\n",
       "        - <i><a href=\"#(бонус)-Проверьте-модели-на-адекватность\">(бонус) Проверьте модели на адекватность:</a></i>\n",
       "        <p>\n",
       "            Ни один параметр примитивного прогноза не приблизился к результату качества нашей модели<br><br>\n",
       "            От сюда можно считать, что <b>модель адекватна</b>\n",
       "        </p><br><br>\n",
       "        - <i><a href=\"#Чек-лист-готовности-проекта\">Чек-лист готовности проектае:</a></i>\n",
       "        <span style=\"margin-left: 20px;display:block;\">\n",
       "            Галочки расставлены\n",
       "        </span>\n",
       "        <br><br><hr>\n",
       "        <p><b>Резюме:</b></p>\n",
       "        <span>\n",
       "            Модель для задачи классификации, которая выберет подходящий тариф построена.<br>\n",
       "            Это модель <b>RandomForestClassifier</b> гипперпарметры: <i>{'max_depth': 7, 'n_estimators': 31, 'min_samples_leaf': 2}</i>.<br>\n",
       "            Ее результат <i>accuracy</i> - <b>0.8118195956454122</b><br>\n",
       "            Доля правильных ответов превышает отметку <b>0.75</b>\n",
       "        </span>\n",
       "    </div>\n",
       "</div>\n"
      ],
      "text/plain": [
       "<IPython.core.display.Markdown object>"
      ]
     },
     "execution_count": 23,
     "metadata": {},
     "output_type": "execute_result"
    }
   ],
   "source": [
    "report = ''\n",
    "\n",
    "for id in models_name:\n",
    "    if models[id]['classic']['best_accuracy'] > best_accuracy:\n",
    "        best_accuracy                         = models[id]['classic']['best_accuracy']\n",
    "        models['best_model']['id']            = id\n",
    "        models['best_model']['best_accuracy'] = models[id]['classic']['best_accuracy']\n",
    "        models['best_model']['name']          = models[id]['name']\n",
    "        models['best_model']['model']         = models[id]\n",
    "        \n",
    "    report += '- ' + str(models[id]['name']) + ' (accuracy ~ ' + str(round(models[id]['classic']['best_accuracy'], 3)) + ')<br>'\n",
    "\n",
    "\n",
    "md(\n",
    "'''\n",
    "<div class=\"total\">\n",
    "    <div class=\"banner\">&nbsp;</div>\n",
    "    <div class=\"description\">\n",
    "        <h2>Общий вывод по проведенной работе</h2>\n",
    "        <p><b>Провели ряд исследований:</b></p>\n",
    "        - <i><a href=\"#Описание-данных\">Описание данных:</a></i>\n",
    "        <span style=\"margin-left: 20px;display:block;\">\n",
    "            - Проблем с данными нет<br>\n",
    "            - Пропусков в данных нет<br>\n",
    "            - Дубликатов в данных нет<br>\n",
    "            - Каждый столбец имеет нужный формат<br>\n",
    "            - is_ultra=0 - 2229, is_ultra=1 - 985<br>\n",
    "            - Соотношение 0 и 1 таргета(is_ultra) соответственно 70% / 30%<br>\n",
    "        </span><br>\n",
    "        - <i><a href=\"#Разбейте-данные-на-выборки\">Разбейте данные на выборки:</a></i>\n",
    "        <span style=\"margin-left: 20px;display:block;\">\n",
    "            - 60% обучающая выборка     - features_train, target_train<br>\n",
    "            - 20% валидационная выборка - features_valid, target_valid<br>\n",
    "            - 20% тестовая выборка      - features_test, target_test<br>\n",
    "        </span><br>\n",
    "        - <i><a href=\"#Исследуйте-модели\">Исследуйте модели:</a></i>\n",
    "        <p>Исследовали следующие модели:</p>\n",
    "        <span>\n",
    "            {}\n",
    "        </span>\n",
    "        <p>Лучшее качество accuracy: <b>{}</b> у модели: <b>{}</b></p><br><br>\n",
    "        - <i><a href=\"#Проверьте-модель-на-тестовой-выборке\">Проверьте модель на тестовой выборке:</a></i>\n",
    "        <p>Результаты тестирования лучшей модели (<b>{}</b>):</p><br>\n",
    "        <span>Качество модели: {}</span><br><br>\n",
    "        <span>\n",
    "            <span><b>- с гипперпараметрами, полученные в результате перебора</b></span><br>\n",
    "            <span style\"margin-left: 20px\">\n",
    "                - Гипперпараметры:{}<br>\n",
    "                - accuracy: {}<br>\n",
    "            </span><br><br>\n",
    "            <span><b>- с гипперпараметрами, полученные в результате использования функции GridSearchCV</b></span><br>\n",
    "            <span style\"margin-left: 20px\">\n",
    "                - Гипперпараметры:{}<br>\n",
    "                - accuracy: {}<br>\n",
    "            </span><br>\n",
    "        </span>\n",
    "        <p>Как видим результаты примерно одинаковые</p><br><br>\n",
    "        - <i><a href=\"#(бонус)-Проверьте-модели-на-адекватность\">(бонус) Проверьте модели на адекватность:</a></i>\n",
    "        <p>\n",
    "            Ни один параметр примитивного прогноза не приблизился к результату качества нашей модели<br><br>\n",
    "            От сюда можно считать, что <b>модель адекватна</b>\n",
    "        </p><br><br>\n",
    "        - <i><a href=\"#Чек-лист-готовности-проекта\">Чек-лист готовности проектае:</a></i>\n",
    "        <span style=\"margin-left: 20px;display:block;\">\n",
    "            Галочки расставлены\n",
    "        </span>\n",
    "        <br><br><hr>\n",
    "        <p><b>Резюме:</b></p>\n",
    "        <span>\n",
    "            Модель для задачи классификации, которая выберет подходящий тариф построена.<br>\n",
    "            Это модель <b>{}</b> гипперпарметры: <i>{}</i>.<br>\n",
    "            Ее результат <i>accuracy</i> - <b>{}</b><br>\n",
    "            Доля правильных ответов превышает отметку <b>0.75</b>\n",
    "        </span>\n",
    "    </div>\n",
    "</div>\n",
    "'''.format(\n",
    "        report, \n",
    "        round(models['best_model']['best_accuracy'], 3), \n",
    "        models['best_model']['name'],\n",
    "    \n",
    "        models['best_model']['name'],\n",
    "        models['best_model']['best_accuracy'],\n",
    "    \n",
    "        models['best_model']['model']['classic']['parameters'],\n",
    "        models['test']['classic']['accuracy'],\n",
    "        \n",
    "        models['best_model']['model']['gs']['parameters'],\n",
    "        models['test']['gs']['accuracy'],\n",
    "    \n",
    "        models['best_model']['name'],\n",
    "        models['best_model']['model']['classic']['parameters'],\n",
    "        models['best_model']['best_accuracy'],\n",
    "    )\n",
    ")"
   ]
  }
 ],
 "metadata": {
  "ExecuteTimeLog": [
   {
    "duration": 64,
    "start_time": "2022-07-18T10:56:43.745Z"
   },
   {
    "duration": 18,
    "start_time": "2022-07-18T10:57:05.597Z"
   },
   {
    "duration": 12,
    "start_time": "2022-07-18T11:31:54.151Z"
   },
   {
    "duration": 51,
    "start_time": "2022-07-18T17:10:31.196Z"
   },
   {
    "duration": 1675,
    "start_time": "2022-07-18T17:10:36.211Z"
   },
   {
    "duration": 130,
    "start_time": "2022-07-18T17:10:41.245Z"
   },
   {
    "duration": 39,
    "start_time": "2022-07-18T17:11:21.738Z"
   },
   {
    "duration": 43,
    "start_time": "2022-07-18T17:11:30.170Z"
   },
   {
    "duration": 38,
    "start_time": "2022-07-18T17:12:37.653Z"
   },
   {
    "duration": 13,
    "start_time": "2022-07-18T17:22:20.442Z"
   },
   {
    "duration": 14,
    "start_time": "2022-07-18T17:29:29.998Z"
   },
   {
    "duration": 98,
    "start_time": "2022-07-18T17:30:10.229Z"
   },
   {
    "duration": 94,
    "start_time": "2022-07-18T17:30:35.053Z"
   },
   {
    "duration": 100,
    "start_time": "2022-07-18T17:31:19.271Z"
   },
   {
    "duration": 117,
    "start_time": "2022-07-18T17:32:29.878Z"
   },
   {
    "duration": 244,
    "start_time": "2022-07-18T17:33:41.301Z"
   },
   {
    "duration": 277,
    "start_time": "2022-07-18T17:35:07.740Z"
   },
   {
    "duration": 263,
    "start_time": "2022-07-18T17:35:20.139Z"
   },
   {
    "duration": 236,
    "start_time": "2022-07-18T17:35:34.054Z"
   },
   {
    "duration": 178,
    "start_time": "2022-07-18T17:35:54.158Z"
   },
   {
    "duration": 96,
    "start_time": "2022-07-18T17:39:02.640Z"
   },
   {
    "duration": 121,
    "start_time": "2022-07-18T17:39:18.671Z"
   },
   {
    "duration": 123,
    "start_time": "2022-07-18T17:39:48.664Z"
   },
   {
    "duration": 246,
    "start_time": "2022-07-18T17:40:26.208Z"
   },
   {
    "duration": 122,
    "start_time": "2022-07-18T17:40:58.897Z"
   },
   {
    "duration": 174,
    "start_time": "2022-07-18T17:41:10.711Z"
   },
   {
    "duration": 17,
    "start_time": "2022-07-18T18:12:28.775Z"
   },
   {
    "duration": 10,
    "start_time": "2022-07-18T18:12:49.761Z"
   },
   {
    "duration": 8,
    "start_time": "2022-07-18T18:13:02.249Z"
   },
   {
    "duration": 400,
    "start_time": "2022-07-18T18:35:13.272Z"
   },
   {
    "duration": 3,
    "start_time": "2022-07-18T18:47:35.199Z"
   },
   {
    "duration": 11,
    "start_time": "2022-07-18T18:48:44.080Z"
   },
   {
    "duration": 6,
    "start_time": "2022-07-18T18:48:54.647Z"
   },
   {
    "duration": 11,
    "start_time": "2022-07-18T18:48:58.975Z"
   },
   {
    "duration": 12,
    "start_time": "2022-07-18T18:49:51.720Z"
   },
   {
    "duration": 5,
    "start_time": "2022-07-18T18:50:07.142Z"
   },
   {
    "duration": 16,
    "start_time": "2022-07-18T18:50:15.472Z"
   },
   {
    "duration": 44,
    "start_time": "2022-07-18T18:50:31.888Z"
   },
   {
    "duration": 33,
    "start_time": "2022-07-18T18:51:30.346Z"
   },
   {
    "duration": 150,
    "start_time": "2022-07-18T18:51:42.797Z"
   },
   {
    "duration": 154,
    "start_time": "2022-07-18T18:52:22.183Z"
   },
   {
    "duration": 157,
    "start_time": "2022-07-18T18:52:27.293Z"
   },
   {
    "duration": 155,
    "start_time": "2022-07-18T18:53:39.895Z"
   },
   {
    "duration": 2,
    "start_time": "2022-07-18T18:54:02.513Z"
   },
   {
    "duration": 166,
    "start_time": "2022-07-18T18:54:10.377Z"
   },
   {
    "duration": 154,
    "start_time": "2022-07-18T18:54:15.810Z"
   },
   {
    "duration": 10,
    "start_time": "2022-07-18T18:54:34.769Z"
   },
   {
    "duration": 149,
    "start_time": "2022-07-18T18:54:48.674Z"
   },
   {
    "duration": 145,
    "start_time": "2022-07-18T18:55:14.585Z"
   },
   {
    "duration": 14,
    "start_time": "2022-07-18T18:56:04.473Z"
   },
   {
    "duration": 120,
    "start_time": "2022-07-18T18:56:19.896Z"
   },
   {
    "duration": 163,
    "start_time": "2022-07-18T18:57:01.771Z"
   },
   {
    "duration": 114,
    "start_time": "2022-07-18T18:57:14.148Z"
   },
   {
    "duration": 6,
    "start_time": "2022-07-18T18:57:58.465Z"
   },
   {
    "duration": 9,
    "start_time": "2022-07-18T19:00:57.315Z"
   },
   {
    "duration": 15,
    "start_time": "2022-07-18T19:01:56.867Z"
   },
   {
    "duration": 19,
    "start_time": "2022-07-18T19:02:16.266Z"
   },
   {
    "duration": 20,
    "start_time": "2022-07-18T19:03:04.251Z"
   },
   {
    "duration": 34,
    "start_time": "2022-07-18T19:03:16.074Z"
   },
   {
    "duration": 93,
    "start_time": "2022-07-18T19:04:29.249Z"
   },
   {
    "duration": 76,
    "start_time": "2022-07-18T19:04:34.874Z"
   },
   {
    "duration": 128,
    "start_time": "2022-07-18T19:04:38.650Z"
   },
   {
    "duration": 64,
    "start_time": "2022-07-18T19:07:03.595Z"
   },
   {
    "duration": 63,
    "start_time": "2022-07-18T19:07:56.035Z"
   },
   {
    "duration": 71,
    "start_time": "2022-07-18T19:10:08.357Z"
   },
   {
    "duration": 30,
    "start_time": "2022-07-18T19:10:52.734Z"
   },
   {
    "duration": 29,
    "start_time": "2022-07-18T19:11:46.298Z"
   },
   {
    "duration": 339,
    "start_time": "2022-07-18T19:18:32.989Z"
   },
   {
    "duration": 341,
    "start_time": "2022-07-18T19:18:53.422Z"
   },
   {
    "duration": 288,
    "start_time": "2022-07-18T19:19:21.109Z"
   },
   {
    "duration": 874,
    "start_time": "2022-07-18T19:20:09.803Z"
   },
   {
    "duration": 26,
    "start_time": "2022-07-18T19:21:12.732Z"
   },
   {
    "duration": 65,
    "start_time": "2022-07-18T19:22:31.735Z"
   },
   {
    "duration": 5308,
    "start_time": "2022-07-18T19:22:39.452Z"
   },
   {
    "duration": 911,
    "start_time": "2022-07-18T19:22:55.117Z"
   },
   {
    "duration": 10,
    "start_time": "2022-07-18T19:32:57.974Z"
   },
   {
    "duration": 30,
    "start_time": "2022-07-18T19:34:17.472Z"
   },
   {
    "duration": 45,
    "start_time": "2022-07-18T19:35:00.679Z"
   },
   {
    "duration": 87,
    "start_time": "2022-07-18T19:35:48.737Z"
   },
   {
    "duration": 24,
    "start_time": "2022-07-18T20:16:03.476Z"
   },
   {
    "duration": 72,
    "start_time": "2022-07-18T20:16:03.502Z"
   },
   {
    "duration": 1549,
    "start_time": "2022-07-18T20:16:03.576Z"
   },
   {
    "duration": 98,
    "start_time": "2022-07-18T20:16:05.127Z"
   },
   {
    "duration": 202,
    "start_time": "2022-07-18T20:16:05.228Z"
   },
   {
    "duration": 165,
    "start_time": "2022-07-18T20:16:05.432Z"
   },
   {
    "duration": 71,
    "start_time": "2022-07-18T20:16:05.599Z"
   },
   {
    "duration": 27,
    "start_time": "2022-07-18T20:16:05.672Z"
   },
   {
    "duration": 997,
    "start_time": "2022-07-18T20:16:05.701Z"
   },
   {
    "duration": 26,
    "start_time": "2022-07-18T20:16:06.701Z"
   },
   {
    "duration": 27,
    "start_time": "2022-07-18T20:16:06.730Z"
   },
   {
    "duration": 110,
    "start_time": "2022-07-18T20:16:06.759Z"
   },
   {
    "duration": 28,
    "start_time": "2022-07-18T20:19:16.078Z"
   },
   {
    "duration": 63,
    "start_time": "2022-07-18T20:19:16.108Z"
   },
   {
    "duration": 1594,
    "start_time": "2022-07-18T20:19:16.173Z"
   },
   {
    "duration": 108,
    "start_time": "2022-07-18T20:19:17.770Z"
   },
   {
    "duration": 142,
    "start_time": "2022-07-18T20:19:17.881Z"
   },
   {
    "duration": 137,
    "start_time": "2022-07-18T20:19:18.026Z"
   },
   {
    "duration": 79,
    "start_time": "2022-07-18T20:19:18.165Z"
   },
   {
    "duration": 34,
    "start_time": "2022-07-18T20:19:18.247Z"
   },
   {
    "duration": 1059,
    "start_time": "2022-07-18T20:19:18.282Z"
   },
   {
    "duration": 11,
    "start_time": "2022-07-18T20:19:19.346Z"
   },
   {
    "duration": 28,
    "start_time": "2022-07-18T20:19:19.359Z"
   },
   {
    "duration": 127,
    "start_time": "2022-07-18T20:19:19.389Z"
   },
   {
    "duration": 25,
    "start_time": "2022-07-19T05:10:19.172Z"
   },
   {
    "duration": 43,
    "start_time": "2022-07-19T05:10:19.200Z"
   },
   {
    "duration": 1537,
    "start_time": "2022-07-19T05:10:19.247Z"
   },
   {
    "duration": 168,
    "start_time": "2022-07-19T05:10:20.786Z"
   },
   {
    "duration": 132,
    "start_time": "2022-07-19T05:10:20.962Z"
   },
   {
    "duration": 190,
    "start_time": "2022-07-19T05:10:21.096Z"
   },
   {
    "duration": 56,
    "start_time": "2022-07-19T05:10:21.288Z"
   },
   {
    "duration": 33,
    "start_time": "2022-07-19T05:10:21.345Z"
   },
   {
    "duration": 841,
    "start_time": "2022-07-19T05:10:21.380Z"
   },
   {
    "duration": 10,
    "start_time": "2022-07-19T05:10:22.223Z"
   },
   {
    "duration": 54,
    "start_time": "2022-07-19T05:10:22.234Z"
   },
   {
    "duration": 85,
    "start_time": "2022-07-19T05:10:22.290Z"
   },
   {
    "duration": 49,
    "start_time": "2022-07-19T05:34:06.598Z"
   },
   {
    "duration": 1070,
    "start_time": "2022-07-19T05:34:16.679Z"
   },
   {
    "duration": 172,
    "start_time": "2022-07-19T05:34:19.113Z"
   },
   {
    "duration": 22,
    "start_time": "2022-07-19T05:34:37.556Z"
   },
   {
    "duration": 42,
    "start_time": "2022-07-19T05:34:37.580Z"
   },
   {
    "duration": 1175,
    "start_time": "2022-07-19T05:34:37.624Z"
   },
   {
    "duration": 562,
    "start_time": "2022-07-19T05:34:38.800Z"
   },
   {
    "duration": 136,
    "start_time": "2022-07-19T05:34:39.364Z"
   },
   {
    "duration": 96,
    "start_time": "2022-07-19T05:34:39.501Z"
   },
   {
    "duration": 61,
    "start_time": "2022-07-19T05:34:39.599Z"
   },
   {
    "duration": 25,
    "start_time": "2022-07-19T05:34:39.662Z"
   },
   {
    "duration": 840,
    "start_time": "2022-07-19T05:34:39.689Z"
   },
   {
    "duration": 10,
    "start_time": "2022-07-19T05:34:40.530Z"
   },
   {
    "duration": 25,
    "start_time": "2022-07-19T05:34:40.542Z"
   },
   {
    "duration": 114,
    "start_time": "2022-07-19T05:34:40.569Z"
   },
   {
    "duration": 22,
    "start_time": "2022-07-19T17:46:17.371Z"
   },
   {
    "duration": 49,
    "start_time": "2022-07-19T17:46:17.395Z"
   },
   {
    "duration": 1399,
    "start_time": "2022-07-19T17:46:17.446Z"
   },
   {
    "duration": 288,
    "start_time": "2022-07-19T17:46:18.847Z"
   },
   {
    "duration": 137,
    "start_time": "2022-07-19T17:46:19.137Z"
   },
   {
    "duration": 217,
    "start_time": "2022-07-19T17:46:19.275Z"
   },
   {
    "duration": 61,
    "start_time": "2022-07-19T17:46:19.494Z"
   },
   {
    "duration": 23,
    "start_time": "2022-07-19T17:46:19.556Z"
   },
   {
    "duration": 865,
    "start_time": "2022-07-19T17:46:19.581Z"
   },
   {
    "duration": 9,
    "start_time": "2022-07-19T17:46:20.447Z"
   },
   {
    "duration": 32,
    "start_time": "2022-07-19T17:46:20.458Z"
   },
   {
    "duration": 91,
    "start_time": "2022-07-19T17:46:20.491Z"
   },
   {
    "duration": 29,
    "start_time": "2022-07-19T17:48:45.950Z"
   },
   {
    "duration": 58,
    "start_time": "2022-07-19T17:48:45.982Z"
   },
   {
    "duration": 1435,
    "start_time": "2022-07-19T17:48:46.042Z"
   },
   {
    "duration": 287,
    "start_time": "2022-07-19T17:48:47.479Z"
   },
   {
    "duration": 190,
    "start_time": "2022-07-19T17:48:47.768Z"
   },
   {
    "duration": 134,
    "start_time": "2022-07-19T17:48:47.960Z"
   },
   {
    "duration": 62,
    "start_time": "2022-07-19T17:48:48.096Z"
   },
   {
    "duration": 24,
    "start_time": "2022-07-19T17:48:48.160Z"
   },
   {
    "duration": 857,
    "start_time": "2022-07-19T17:48:48.186Z"
   },
   {
    "duration": 9,
    "start_time": "2022-07-19T17:48:49.046Z"
   },
   {
    "duration": 26,
    "start_time": "2022-07-19T17:48:49.057Z"
   },
   {
    "duration": 91,
    "start_time": "2022-07-19T17:48:49.085Z"
   },
   {
    "duration": 70,
    "start_time": "2022-07-20T08:06:19.161Z"
   },
   {
    "duration": 29,
    "start_time": "2022-07-20T08:06:41.555Z"
   },
   {
    "duration": 73,
    "start_time": "2022-07-20T08:06:41.587Z"
   },
   {
    "duration": 1284,
    "start_time": "2022-07-20T08:06:41.663Z"
   },
   {
    "duration": 594,
    "start_time": "2022-07-20T08:06:42.951Z"
   },
   {
    "duration": 151,
    "start_time": "2022-07-20T08:06:43.548Z"
   },
   {
    "duration": 16,
    "start_time": "2022-07-20T08:06:43.701Z"
   },
   {
    "duration": 151,
    "start_time": "2022-07-20T08:06:43.720Z"
   },
   {
    "duration": 71,
    "start_time": "2022-07-20T08:06:43.873Z"
   },
   {
    "duration": 28,
    "start_time": "2022-07-20T08:06:43.947Z"
   },
   {
    "duration": 894,
    "start_time": "2022-07-20T08:06:43.979Z"
   },
   {
    "duration": 10,
    "start_time": "2022-07-20T08:06:44.875Z"
   },
   {
    "duration": 48,
    "start_time": "2022-07-20T08:06:44.886Z"
   },
   {
    "duration": 121,
    "start_time": "2022-07-20T08:06:44.936Z"
   },
   {
    "duration": 7,
    "start_time": "2022-07-20T08:18:34.999Z"
   },
   {
    "duration": 16084,
    "start_time": "2022-07-20T08:20:09.436Z"
   },
   {
    "duration": 66,
    "start_time": "2022-07-20T08:20:48.067Z"
   },
   {
    "duration": 83,
    "start_time": "2022-07-20T08:20:51.864Z"
   },
   {
    "duration": 108,
    "start_time": "2022-07-20T08:21:32.913Z"
   },
   {
    "duration": 92,
    "start_time": "2022-07-20T08:21:48.464Z"
   },
   {
    "duration": 140,
    "start_time": "2022-07-20T08:23:05.912Z"
   },
   {
    "duration": 107,
    "start_time": "2022-07-20T08:24:07.426Z"
   },
   {
    "duration": 119,
    "start_time": "2022-07-20T08:24:53.377Z"
   },
   {
    "duration": 150,
    "start_time": "2022-07-20T08:25:27.649Z"
   },
   {
    "duration": 164,
    "start_time": "2022-07-20T08:25:36.784Z"
   },
   {
    "duration": 4,
    "start_time": "2022-07-20T08:26:46.876Z"
   },
   {
    "duration": 152,
    "start_time": "2022-07-20T08:34:14.796Z"
   },
   {
    "duration": 146,
    "start_time": "2022-07-20T08:34:32.923Z"
   },
   {
    "duration": 66,
    "start_time": "2022-07-20T08:35:09.029Z"
   },
   {
    "duration": 172,
    "start_time": "2022-07-20T08:35:29.933Z"
   },
   {
    "duration": 6,
    "start_time": "2022-07-20T08:35:48.556Z"
   },
   {
    "duration": 148,
    "start_time": "2022-07-20T08:36:05.845Z"
   },
   {
    "duration": 261,
    "start_time": "2022-07-20T08:36:58.326Z"
   },
   {
    "duration": 321,
    "start_time": "2022-07-20T08:37:52.329Z"
   },
   {
    "duration": 308,
    "start_time": "2022-07-20T08:38:31.631Z"
   },
   {
    "duration": 431,
    "start_time": "2022-07-20T08:40:17.431Z"
   },
   {
    "duration": 157,
    "start_time": "2022-07-20T08:40:49.303Z"
   },
   {
    "duration": 180,
    "start_time": "2022-07-20T08:40:53.590Z"
   },
   {
    "duration": 375,
    "start_time": "2022-07-20T08:42:01.575Z"
   },
   {
    "duration": 315,
    "start_time": "2022-07-20T08:42:30.646Z"
   },
   {
    "duration": 304,
    "start_time": "2022-07-20T08:42:51.184Z"
   },
   {
    "duration": 308,
    "start_time": "2022-07-20T08:43:08.790Z"
   },
   {
    "duration": 303,
    "start_time": "2022-07-20T08:44:29.231Z"
   },
   {
    "duration": 382,
    "start_time": "2022-07-20T08:44:38.576Z"
   },
   {
    "duration": 416,
    "start_time": "2022-07-20T08:44:52.679Z"
   },
   {
    "duration": 478,
    "start_time": "2022-07-20T08:45:46.302Z"
   },
   {
    "duration": 174,
    "start_time": "2022-07-20T08:47:10.426Z"
   },
   {
    "duration": 21,
    "start_time": "2022-07-20T08:47:40.845Z"
   },
   {
    "duration": 47,
    "start_time": "2022-07-20T08:47:40.868Z"
   },
   {
    "duration": 1432,
    "start_time": "2022-07-20T08:47:40.925Z"
   },
   {
    "duration": 80,
    "start_time": "2022-07-20T08:47:42.359Z"
   },
   {
    "duration": 93,
    "start_time": "2022-07-20T08:47:42.441Z"
   },
   {
    "duration": 251,
    "start_time": "2022-07-20T08:47:42.536Z"
   },
   {
    "duration": 320,
    "start_time": "2022-07-20T08:47:42.788Z"
   },
   {
    "duration": 101,
    "start_time": "2022-07-20T08:47:43.119Z"
   },
   {
    "duration": 66,
    "start_time": "2022-07-20T08:47:43.222Z"
   },
   {
    "duration": 43,
    "start_time": "2022-07-20T08:47:43.290Z"
   },
   {
    "duration": 870,
    "start_time": "2022-07-20T08:47:43.336Z"
   },
   {
    "duration": 14,
    "start_time": "2022-07-20T08:47:44.209Z"
   },
   {
    "duration": 27,
    "start_time": "2022-07-20T08:47:44.225Z"
   },
   {
    "duration": 107,
    "start_time": "2022-07-20T08:47:44.255Z"
   },
   {
    "duration": 13,
    "start_time": "2022-07-20T08:48:46.039Z"
   },
   {
    "duration": 12,
    "start_time": "2022-07-20T08:48:55.023Z"
   },
   {
    "duration": 5,
    "start_time": "2022-07-20T08:49:14.951Z"
   },
   {
    "duration": 361,
    "start_time": "2022-07-20T08:50:39.538Z"
   },
   {
    "duration": 196,
    "start_time": "2022-07-20T08:50:50.488Z"
   },
   {
    "duration": 259,
    "start_time": "2022-07-20T08:51:17.393Z"
   },
   {
    "duration": 178,
    "start_time": "2022-07-20T08:51:31.138Z"
   },
   {
    "duration": 226,
    "start_time": "2022-07-20T08:53:35.836Z"
   },
   {
    "duration": 296,
    "start_time": "2022-07-20T08:53:52.733Z"
   },
   {
    "duration": 308,
    "start_time": "2022-07-20T08:54:33.553Z"
   },
   {
    "duration": 644,
    "start_time": "2022-07-20T08:54:41.450Z"
   },
   {
    "duration": 520,
    "start_time": "2022-07-20T08:54:59.244Z"
   },
   {
    "duration": 202,
    "start_time": "2022-07-20T09:00:32.785Z"
   },
   {
    "duration": 270,
    "start_time": "2022-07-20T09:01:29.386Z"
   },
   {
    "duration": 324,
    "start_time": "2022-07-20T09:02:36.273Z"
   },
   {
    "duration": 110,
    "start_time": "2022-07-20T09:35:36.203Z"
   },
   {
    "duration": 6,
    "start_time": "2022-07-20T09:44:16.147Z"
   },
   {
    "duration": 3,
    "start_time": "2022-07-20T09:54:15.078Z"
   },
   {
    "duration": 9,
    "start_time": "2022-07-20T09:58:31.969Z"
   },
   {
    "duration": 10,
    "start_time": "2022-07-20T09:58:56.462Z"
   },
   {
    "duration": 5,
    "start_time": "2022-07-20T09:59:36.901Z"
   },
   {
    "duration": 35,
    "start_time": "2022-07-20T09:59:49.014Z"
   },
   {
    "duration": 4,
    "start_time": "2022-07-20T10:00:32.552Z"
   },
   {
    "duration": 9,
    "start_time": "2022-07-20T10:00:40.029Z"
   },
   {
    "duration": 48,
    "start_time": "2022-07-20T11:13:48.970Z"
   },
   {
    "duration": 4,
    "start_time": "2022-07-20T11:15:04.670Z"
   },
   {
    "duration": 36,
    "start_time": "2022-07-21T03:02:13.995Z"
   },
   {
    "duration": 105,
    "start_time": "2022-07-21T03:02:14.038Z"
   },
   {
    "duration": 2167,
    "start_time": "2022-07-21T03:02:14.146Z"
   },
   {
    "duration": 319,
    "start_time": "2022-07-21T03:02:16.315Z"
   },
   {
    "duration": 119,
    "start_time": "2022-07-21T03:02:16.637Z"
   },
   {
    "duration": 265,
    "start_time": "2022-07-21T03:02:16.758Z"
   },
   {
    "duration": 170,
    "start_time": "2022-07-21T03:02:17.025Z"
   },
   {
    "duration": 6,
    "start_time": "2022-07-21T03:02:17.197Z"
   },
   {
    "duration": 236,
    "start_time": "2022-07-21T03:02:17.205Z"
   },
   {
    "duration": 0,
    "start_time": "2022-07-21T03:02:17.444Z"
   },
   {
    "duration": 0,
    "start_time": "2022-07-21T03:02:17.445Z"
   },
   {
    "duration": 0,
    "start_time": "2022-07-21T03:02:17.446Z"
   },
   {
    "duration": 0,
    "start_time": "2022-07-21T03:02:17.448Z"
   },
   {
    "duration": 0,
    "start_time": "2022-07-21T03:02:17.450Z"
   },
   {
    "duration": 87,
    "start_time": "2022-07-21T03:04:22.281Z"
   },
   {
    "duration": 77,
    "start_time": "2022-07-21T03:04:35.772Z"
   },
   {
    "duration": 23,
    "start_time": "2022-07-21T03:15:18.078Z"
   },
   {
    "duration": 14,
    "start_time": "2022-07-21T03:15:30.739Z"
   },
   {
    "duration": 26818,
    "start_time": "2022-07-21T03:16:10.371Z"
   },
   {
    "duration": 109,
    "start_time": "2022-07-21T03:17:06.436Z"
   },
   {
    "duration": 503,
    "start_time": "2022-07-21T03:17:29.051Z"
   },
   {
    "duration": 27391,
    "start_time": "2022-07-21T03:17:44.481Z"
   },
   {
    "duration": 27231,
    "start_time": "2022-07-21T03:21:16.335Z"
   },
   {
    "duration": 25954,
    "start_time": "2022-07-21T03:25:46.533Z"
   },
   {
    "duration": 616,
    "start_time": "2022-07-21T03:26:30.840Z"
   },
   {
    "duration": 1366,
    "start_time": "2022-07-21T03:26:55.063Z"
   },
   {
    "duration": 101,
    "start_time": "2022-07-21T03:31:57.203Z"
   },
   {
    "duration": 1303,
    "start_time": "2022-07-21T03:31:59.640Z"
   },
   {
    "duration": 3003,
    "start_time": "2022-07-21T03:36:17.215Z"
   },
   {
    "duration": 4182,
    "start_time": "2022-07-21T03:36:25.553Z"
   },
   {
    "duration": 7,
    "start_time": "2022-07-21T03:45:26.448Z"
   },
   {
    "duration": 98,
    "start_time": "2022-07-21T03:45:49.364Z"
   },
   {
    "duration": 4205,
    "start_time": "2022-07-21T03:45:59.838Z"
   },
   {
    "duration": 7,
    "start_time": "2022-07-21T04:17:00.745Z"
   },
   {
    "duration": 22759,
    "start_time": "2022-07-21T04:19:39.099Z"
   },
   {
    "duration": 13313,
    "start_time": "2022-07-21T04:20:16.805Z"
   },
   {
    "duration": 14503,
    "start_time": "2022-07-21T04:20:51.945Z"
   },
   {
    "duration": 15587,
    "start_time": "2022-07-21T04:21:22.900Z"
   },
   {
    "duration": 13602,
    "start_time": "2022-07-21T04:21:51.867Z"
   },
   {
    "duration": 3983,
    "start_time": "2022-07-21T04:23:22.947Z"
   },
   {
    "duration": 14095,
    "start_time": "2022-07-21T04:24:00.011Z"
   },
   {
    "duration": 9928,
    "start_time": "2022-07-21T05:23:48.970Z"
   },
   {
    "duration": 10045,
    "start_time": "2022-07-21T05:24:46.554Z"
   },
   {
    "duration": 237,
    "start_time": "2022-07-21T05:25:35.106Z"
   },
   {
    "duration": 10875,
    "start_time": "2022-07-21T05:25:44.627Z"
   },
   {
    "duration": 10922,
    "start_time": "2022-07-21T05:26:05.564Z"
   },
   {
    "duration": 10960,
    "start_time": "2022-07-21T05:26:27.099Z"
   },
   {
    "duration": 10635,
    "start_time": "2022-07-21T05:28:10.379Z"
   },
   {
    "duration": 11163,
    "start_time": "2022-07-21T05:28:41.746Z"
   },
   {
    "duration": 96,
    "start_time": "2022-07-21T05:29:48.470Z"
   },
   {
    "duration": 648,
    "start_time": "2022-07-21T05:30:19.595Z"
   },
   {
    "duration": 12964,
    "start_time": "2022-07-21T05:30:35.169Z"
   },
   {
    "duration": 11261,
    "start_time": "2022-07-21T05:31:40.234Z"
   },
   {
    "duration": 10459,
    "start_time": "2022-07-21T05:32:22.043Z"
   },
   {
    "duration": 3559,
    "start_time": "2022-07-21T05:34:53.975Z"
   },
   {
    "duration": 147,
    "start_time": "2022-07-21T05:42:35.807Z"
   },
   {
    "duration": 297,
    "start_time": "2022-07-21T05:44:30.726Z"
   },
   {
    "duration": 243,
    "start_time": "2022-07-21T05:44:45.132Z"
   },
   {
    "duration": 201,
    "start_time": "2022-07-21T05:44:54.557Z"
   },
   {
    "duration": 176,
    "start_time": "2022-07-21T05:45:45.718Z"
   },
   {
    "duration": 16,
    "start_time": "2022-07-21T05:56:25.446Z"
   },
   {
    "duration": 107,
    "start_time": "2022-07-21T05:57:04.349Z"
   },
   {
    "duration": 170,
    "start_time": "2022-07-21T05:57:34.361Z"
   },
   {
    "duration": 246,
    "start_time": "2022-07-21T05:58:51.031Z"
   },
   {
    "duration": 257,
    "start_time": "2022-07-21T05:59:52.623Z"
   },
   {
    "duration": 296,
    "start_time": "2022-07-21T06:00:13.256Z"
   },
   {
    "duration": 302,
    "start_time": "2022-07-21T06:00:51.328Z"
   },
   {
    "duration": 74,
    "start_time": "2022-07-21T06:02:38.907Z"
   },
   {
    "duration": 287,
    "start_time": "2022-07-21T06:02:50.752Z"
   },
   {
    "duration": 340,
    "start_time": "2022-07-21T06:03:11.402Z"
   },
   {
    "duration": 289,
    "start_time": "2022-07-21T06:04:06.168Z"
   },
   {
    "duration": 282,
    "start_time": "2022-07-21T06:06:09.993Z"
   },
   {
    "duration": 266,
    "start_time": "2022-07-21T06:06:26.712Z"
   },
   {
    "duration": 274,
    "start_time": "2022-07-21T06:07:23.289Z"
   },
   {
    "duration": 306,
    "start_time": "2022-07-21T06:07:41.320Z"
   },
   {
    "duration": 3518,
    "start_time": "2022-07-21T06:09:07.319Z"
   },
   {
    "duration": 3498,
    "start_time": "2022-07-21T06:13:19.592Z"
   },
   {
    "duration": 61,
    "start_time": "2022-07-21T06:13:59.449Z"
   },
   {
    "duration": 3527,
    "start_time": "2022-07-21T06:14:11.662Z"
   },
   {
    "duration": 7,
    "start_time": "2022-07-21T06:15:00.034Z"
   },
   {
    "duration": 4056,
    "start_time": "2022-07-21T06:15:09.393Z"
   },
   {
    "duration": 3682,
    "start_time": "2022-07-21T06:23:01.379Z"
   },
   {
    "duration": 3681,
    "start_time": "2022-07-21T06:24:25.866Z"
   },
   {
    "duration": 3593,
    "start_time": "2022-07-21T06:24:57.055Z"
   },
   {
    "duration": 3742,
    "start_time": "2022-07-21T06:25:09.586Z"
   },
   {
    "duration": 3556,
    "start_time": "2022-07-21T06:26:34.778Z"
   },
   {
    "duration": 3509,
    "start_time": "2022-07-21T06:26:55.203Z"
   },
   {
    "duration": 3539,
    "start_time": "2022-07-21T06:27:27.570Z"
   },
   {
    "duration": 6415,
    "start_time": "2022-07-21T06:29:07.873Z"
   },
   {
    "duration": 24,
    "start_time": "2022-07-21T06:36:46.788Z"
   },
   {
    "duration": 3463,
    "start_time": "2022-07-21T06:41:40.671Z"
   },
   {
    "duration": 6444,
    "start_time": "2022-07-21T06:42:00.800Z"
   },
   {
    "duration": 50380,
    "start_time": "2022-07-21T06:42:48.063Z"
   },
   {
    "duration": 10348,
    "start_time": "2022-07-21T06:44:06.820Z"
   },
   {
    "duration": 3741,
    "start_time": "2022-07-21T06:44:54.100Z"
   },
   {
    "duration": 16782,
    "start_time": "2022-07-21T06:45:11.703Z"
   },
   {
    "duration": 3486,
    "start_time": "2022-07-21T06:45:30.922Z"
   },
   {
    "duration": 38823,
    "start_time": "2022-07-21T06:45:40.377Z"
   },
   {
    "duration": 6826,
    "start_time": "2022-07-21T06:49:44.369Z"
   },
   {
    "duration": 8371,
    "start_time": "2022-07-21T06:50:29.527Z"
   },
   {
    "duration": 38381,
    "start_time": "2022-07-21T06:50:39.605Z"
   },
   {
    "duration": 37970,
    "start_time": "2022-07-21T06:51:51.185Z"
   },
   {
    "duration": 26254,
    "start_time": "2022-07-21T06:54:14.640Z"
   },
   {
    "duration": 34534,
    "start_time": "2022-07-21T06:54:54.876Z"
   },
   {
    "duration": 38471,
    "start_time": "2022-07-21T06:55:46.732Z"
   },
   {
    "duration": 6365,
    "start_time": "2022-07-21T07:04:51.366Z"
   },
   {
    "duration": 6514,
    "start_time": "2022-07-21T07:06:36.250Z"
   },
   {
    "duration": 6979,
    "start_time": "2022-07-21T07:20:08.533Z"
   },
   {
    "duration": 7229,
    "start_time": "2022-07-21T07:20:26.244Z"
   },
   {
    "duration": 6905,
    "start_time": "2022-07-21T07:22:13.685Z"
   },
   {
    "duration": 80982,
    "start_time": "2022-07-21T07:32:30.383Z"
   },
   {
    "duration": 416312,
    "start_time": "2022-07-21T07:34:29.055Z"
   },
   {
    "duration": 13242,
    "start_time": "2022-07-21T07:43:08.438Z"
   },
   {
    "duration": 13459,
    "start_time": "2022-07-21T07:43:46.340Z"
   },
   {
    "duration": 11321,
    "start_time": "2022-07-21T07:48:10.353Z"
   },
   {
    "duration": 11352,
    "start_time": "2022-07-21T07:49:32.657Z"
   },
   {
    "duration": 17,
    "start_time": "2022-07-21T07:55:06.528Z"
   },
   {
    "duration": 299,
    "start_time": "2022-07-21T07:55:17.152Z"
   },
   {
    "duration": 11254,
    "start_time": "2022-07-21T07:56:51.705Z"
   },
   {
    "duration": 60,
    "start_time": "2022-07-21T08:04:42.697Z"
   },
   {
    "duration": 12931,
    "start_time": "2022-07-21T08:05:17.671Z"
   },
   {
    "duration": 11594,
    "start_time": "2022-07-21T08:10:41.704Z"
   },
   {
    "duration": 12593,
    "start_time": "2022-07-21T08:11:57.479Z"
   },
   {
    "duration": 11662,
    "start_time": "2022-07-21T08:13:52.130Z"
   },
   {
    "duration": 12345,
    "start_time": "2022-07-21T08:22:01.798Z"
   },
   {
    "duration": 5,
    "start_time": "2022-07-21T08:24:54.949Z"
   },
   {
    "duration": 314,
    "start_time": "2022-07-21T08:25:12.536Z"
   },
   {
    "duration": 6919,
    "start_time": "2022-07-21T08:25:27.619Z"
   },
   {
    "duration": 25,
    "start_time": "2022-07-21T08:25:53.624Z"
   },
   {
    "duration": 7443,
    "start_time": "2022-07-21T08:25:56.599Z"
   },
   {
    "duration": 6460,
    "start_time": "2022-07-21T08:26:53.265Z"
   },
   {
    "duration": 6304,
    "start_time": "2022-07-21T08:27:13.422Z"
   },
   {
    "duration": 6564,
    "start_time": "2022-07-21T08:27:23.405Z"
   },
   {
    "duration": 11623,
    "start_time": "2022-07-21T08:27:37.257Z"
   },
   {
    "duration": 51752,
    "start_time": "2022-07-21T08:31:05.099Z"
   },
   {
    "duration": 50647,
    "start_time": "2022-07-21T08:32:52.638Z"
   },
   {
    "duration": 52651,
    "start_time": "2022-07-21T08:34:52.068Z"
   },
   {
    "duration": 101,
    "start_time": "2022-07-21T08:45:21.077Z"
   },
   {
    "duration": 53888,
    "start_time": "2022-07-21T08:45:52.736Z"
   },
   {
    "duration": 6,
    "start_time": "2022-07-21T08:53:46.692Z"
   },
   {
    "duration": 39,
    "start_time": "2022-07-21T08:55:55.127Z"
   },
   {
    "duration": 179,
    "start_time": "2022-07-21T08:59:39.455Z"
   },
   {
    "duration": 66,
    "start_time": "2022-07-21T08:59:45.998Z"
   },
   {
    "duration": 113,
    "start_time": "2022-07-21T09:06:24.090Z"
   },
   {
    "duration": 114,
    "start_time": "2022-07-21T09:06:29.986Z"
   },
   {
    "duration": 50,
    "start_time": "2022-07-21T09:06:33.583Z"
   },
   {
    "duration": 44,
    "start_time": "2022-07-21T09:09:08.035Z"
   },
   {
    "duration": 5,
    "start_time": "2022-07-21T09:12:38.944Z"
   },
   {
    "duration": 294,
    "start_time": "2022-07-21T09:12:42.153Z"
   },
   {
    "duration": 6610,
    "start_time": "2022-07-21T09:12:51.626Z"
   },
   {
    "duration": 25,
    "start_time": "2022-07-21T09:13:05.049Z"
   },
   {
    "duration": 7103,
    "start_time": "2022-07-21T09:13:07.432Z"
   },
   {
    "duration": 11887,
    "start_time": "2022-07-21T09:13:21.739Z"
   },
   {
    "duration": 57161,
    "start_time": "2022-07-21T09:13:36.793Z"
   },
   {
    "duration": 5,
    "start_time": "2022-07-21T09:14:33.956Z"
   },
   {
    "duration": 8,
    "start_time": "2022-07-21T09:20:44.545Z"
   },
   {
    "duration": 327,
    "start_time": "2022-07-21T09:20:46.549Z"
   },
   {
    "duration": 7740,
    "start_time": "2022-07-21T09:20:49.171Z"
   },
   {
    "duration": 29,
    "start_time": "2022-07-21T09:21:02.351Z"
   },
   {
    "duration": 8210,
    "start_time": "2022-07-21T09:21:04.193Z"
   },
   {
    "duration": 13273,
    "start_time": "2022-07-21T09:21:17.890Z"
   },
   {
    "duration": 58210,
    "start_time": "2022-07-21T09:21:35.347Z"
   },
   {
    "duration": 17,
    "start_time": "2022-07-21T09:22:51.439Z"
   },
   {
    "duration": 12,
    "start_time": "2022-07-21T09:23:09.466Z"
   },
   {
    "duration": 12,
    "start_time": "2022-07-21T09:23:19.483Z"
   },
   {
    "duration": 21,
    "start_time": "2022-07-21T09:24:50.115Z"
   },
   {
    "duration": 17,
    "start_time": "2022-07-21T09:26:01.306Z"
   },
   {
    "duration": 12,
    "start_time": "2022-07-21T09:27:02.796Z"
   },
   {
    "duration": 7,
    "start_time": "2022-07-21T09:27:26.459Z"
   },
   {
    "duration": 7,
    "start_time": "2022-07-21T09:28:31.253Z"
   },
   {
    "duration": 8,
    "start_time": "2022-07-21T09:32:59.938Z"
   },
   {
    "duration": 8,
    "start_time": "2022-07-21T09:33:09.163Z"
   },
   {
    "duration": 46,
    "start_time": "2022-07-21T09:34:56.789Z"
   },
   {
    "duration": 32,
    "start_time": "2022-07-21T09:38:04.805Z"
   },
   {
    "duration": 29,
    "start_time": "2022-07-21T09:38:25.277Z"
   },
   {
    "duration": 5,
    "start_time": "2022-07-21T09:38:42.066Z"
   },
   {
    "duration": 33,
    "start_time": "2022-07-21T09:38:50.595Z"
   },
   {
    "duration": 43,
    "start_time": "2022-07-21T09:39:03.388Z"
   },
   {
    "duration": 12,
    "start_time": "2022-07-21T09:42:56.941Z"
   },
   {
    "duration": 29,
    "start_time": "2022-07-21T09:43:21.149Z"
   },
   {
    "duration": 35,
    "start_time": "2022-07-21T09:43:36.756Z"
   },
   {
    "duration": 12,
    "start_time": "2022-07-21T09:45:17.678Z"
   },
   {
    "duration": 32,
    "start_time": "2022-07-21T09:45:44.261Z"
   },
   {
    "duration": 32,
    "start_time": "2022-07-21T09:45:53.886Z"
   },
   {
    "duration": 13,
    "start_time": "2022-07-21T09:47:17.227Z"
   },
   {
    "duration": 5,
    "start_time": "2022-07-21T09:47:24.791Z"
   },
   {
    "duration": 32,
    "start_time": "2022-07-21T09:47:38.287Z"
   },
   {
    "duration": 28,
    "start_time": "2022-07-21T09:49:18.205Z"
   },
   {
    "duration": 29,
    "start_time": "2022-07-21T09:49:35.901Z"
   },
   {
    "duration": 36,
    "start_time": "2022-07-21T10:02:22.637Z"
   },
   {
    "duration": 40,
    "start_time": "2022-07-21T10:02:38.070Z"
   },
   {
    "duration": 30,
    "start_time": "2022-07-21T10:03:08.470Z"
   },
   {
    "duration": 83,
    "start_time": "2022-07-21T10:03:22.085Z"
   },
   {
    "duration": 37,
    "start_time": "2022-07-21T10:03:38.661Z"
   },
   {
    "duration": 35,
    "start_time": "2022-07-21T10:05:29.510Z"
   },
   {
    "duration": 64,
    "start_time": "2022-07-21T10:06:44.006Z"
   },
   {
    "duration": 64,
    "start_time": "2022-07-21T10:10:18.613Z"
   },
   {
    "duration": 37,
    "start_time": "2022-07-21T10:10:59.246Z"
   },
   {
    "duration": 61,
    "start_time": "2022-07-21T10:16:45.575Z"
   },
   {
    "duration": 5,
    "start_time": "2022-07-21T10:17:34.648Z"
   },
   {
    "duration": 5,
    "start_time": "2022-07-21T10:18:25.160Z"
   },
   {
    "duration": 5,
    "start_time": "2022-07-21T10:18:55.255Z"
   },
   {
    "duration": 77,
    "start_time": "2022-07-21T10:20:35.958Z"
   },
   {
    "duration": 29,
    "start_time": "2022-07-21T10:20:48.822Z"
   },
   {
    "duration": 63,
    "start_time": "2022-07-21T10:21:02.425Z"
   },
   {
    "duration": 40,
    "start_time": "2022-07-21T10:21:32.369Z"
   },
   {
    "duration": 72,
    "start_time": "2022-07-21T10:25:02.952Z"
   },
   {
    "duration": 123,
    "start_time": "2022-07-21T10:25:36.138Z"
   },
   {
    "duration": 39,
    "start_time": "2022-07-21T10:26:26.531Z"
   },
   {
    "duration": 89,
    "start_time": "2022-07-21T10:27:29.480Z"
   },
   {
    "duration": 86,
    "start_time": "2022-07-21T10:31:37.312Z"
   },
   {
    "duration": 50,
    "start_time": "2022-07-21T10:31:58.910Z"
   },
   {
    "duration": 60,
    "start_time": "2022-07-21T10:33:47.286Z"
   },
   {
    "duration": 3,
    "start_time": "2022-07-21T10:40:58.310Z"
   },
   {
    "duration": 3,
    "start_time": "2022-07-21T10:41:45.901Z"
   },
   {
    "duration": 129,
    "start_time": "2022-07-21T10:46:40.199Z"
   },
   {
    "duration": 7,
    "start_time": "2022-07-21T10:52:36.930Z"
   },
   {
    "duration": 146,
    "start_time": "2022-07-21T10:53:43.993Z"
   },
   {
    "duration": 131,
    "start_time": "2022-07-21T10:53:57.570Z"
   },
   {
    "duration": 62,
    "start_time": "2022-07-21T10:55:47.268Z"
   },
   {
    "duration": 7,
    "start_time": "2022-07-21T10:57:21.427Z"
   },
   {
    "duration": 126,
    "start_time": "2022-07-21T10:57:45.747Z"
   },
   {
    "duration": 23,
    "start_time": "2022-07-21T10:58:08.643Z"
   },
   {
    "duration": 44,
    "start_time": "2022-07-21T10:58:08.669Z"
   },
   {
    "duration": 1310,
    "start_time": "2022-07-21T10:58:08.715Z"
   },
   {
    "duration": 79,
    "start_time": "2022-07-21T10:58:10.027Z"
   },
   {
    "duration": 88,
    "start_time": "2022-07-21T10:58:10.108Z"
   },
   {
    "duration": 233,
    "start_time": "2022-07-21T10:58:10.198Z"
   },
   {
    "duration": 93,
    "start_time": "2022-07-21T10:58:10.433Z"
   },
   {
    "duration": 5,
    "start_time": "2022-07-21T10:58:10.528Z"
   },
   {
    "duration": 284,
    "start_time": "2022-07-21T10:58:10.535Z"
   },
   {
    "duration": 6311,
    "start_time": "2022-07-21T10:58:10.820Z"
   },
   {
    "duration": 26,
    "start_time": "2022-07-21T10:58:17.133Z"
   },
   {
    "duration": 6390,
    "start_time": "2022-07-21T10:58:17.161Z"
   },
   {
    "duration": 11982,
    "start_time": "2022-07-21T10:58:23.552Z"
   },
   {
    "duration": 51573,
    "start_time": "2022-07-21T10:58:35.536Z"
   },
   {
    "duration": 139,
    "start_time": "2022-07-21T10:59:27.111Z"
   },
   {
    "duration": 0,
    "start_time": "2022-07-21T10:59:27.252Z"
   },
   {
    "duration": 0,
    "start_time": "2022-07-21T10:59:27.252Z"
   },
   {
    "duration": 0,
    "start_time": "2022-07-21T10:59:27.254Z"
   },
   {
    "duration": 0,
    "start_time": "2022-07-21T10:59:27.255Z"
   },
   {
    "duration": 8,
    "start_time": "2022-07-21T11:01:10.658Z"
   },
   {
    "duration": 5,
    "start_time": "2022-07-21T11:02:04.406Z"
   },
   {
    "duration": 12,
    "start_time": "2022-07-21T11:03:01.061Z"
   },
   {
    "duration": 12,
    "start_time": "2022-07-21T11:03:14.573Z"
   },
   {
    "duration": 54,
    "start_time": "2022-07-21T11:03:20.957Z"
   },
   {
    "duration": 12,
    "start_time": "2022-07-21T11:03:28.541Z"
   },
   {
    "duration": 71,
    "start_time": "2022-07-21T11:04:00.495Z"
   },
   {
    "duration": 36,
    "start_time": "2022-07-21T11:04:19.076Z"
   },
   {
    "duration": 124,
    "start_time": "2022-07-21T11:04:23.197Z"
   },
   {
    "duration": 7,
    "start_time": "2022-07-21T11:04:46.689Z"
   },
   {
    "duration": 103,
    "start_time": "2022-07-21T11:07:53.935Z"
   },
   {
    "duration": 6,
    "start_time": "2022-07-21T11:08:51.856Z"
   },
   {
    "duration": 117,
    "start_time": "2022-07-21T11:10:33.954Z"
   },
   {
    "duration": 8,
    "start_time": "2022-07-21T11:10:42.856Z"
   },
   {
    "duration": 22,
    "start_time": "2022-07-21T11:11:13.792Z"
   },
   {
    "duration": 42,
    "start_time": "2022-07-21T11:11:13.816Z"
   },
   {
    "duration": 1440,
    "start_time": "2022-07-21T11:11:13.859Z"
   },
   {
    "duration": 76,
    "start_time": "2022-07-21T11:11:15.301Z"
   },
   {
    "duration": 117,
    "start_time": "2022-07-21T11:11:15.379Z"
   },
   {
    "duration": 245,
    "start_time": "2022-07-21T11:11:15.497Z"
   },
   {
    "duration": 121,
    "start_time": "2022-07-21T11:11:15.744Z"
   },
   {
    "duration": 6,
    "start_time": "2022-07-21T11:11:15.866Z"
   },
   {
    "duration": 308,
    "start_time": "2022-07-21T11:11:15.874Z"
   },
   {
    "duration": 6529,
    "start_time": "2022-07-21T11:11:16.183Z"
   },
   {
    "duration": 26,
    "start_time": "2022-07-21T11:11:22.714Z"
   },
   {
    "duration": 6584,
    "start_time": "2022-07-21T11:11:22.741Z"
   },
   {
    "duration": 11400,
    "start_time": "2022-07-21T11:11:29.327Z"
   },
   {
    "duration": 51968,
    "start_time": "2022-07-21T11:11:40.730Z"
   },
   {
    "duration": 47,
    "start_time": "2022-07-21T11:12:32.699Z"
   },
   {
    "duration": 29,
    "start_time": "2022-07-21T11:12:32.748Z"
   },
   {
    "duration": 159,
    "start_time": "2022-07-21T11:12:32.779Z"
   },
   {
    "duration": 111,
    "start_time": "2022-07-21T11:12:32.940Z"
   },
   {
    "duration": 8,
    "start_time": "2022-07-21T11:12:33.053Z"
   },
   {
    "duration": 109,
    "start_time": "2022-07-21T11:34:48.764Z"
   },
   {
    "duration": 38,
    "start_time": "2022-07-21T11:35:08.254Z"
   },
   {
    "duration": 45,
    "start_time": "2022-07-21T11:35:29.438Z"
   },
   {
    "duration": 30,
    "start_time": "2022-07-21T11:35:38.515Z"
   },
   {
    "duration": 32,
    "start_time": "2022-07-21T11:35:49.667Z"
   },
   {
    "duration": 54,
    "start_time": "2022-07-21T11:36:02.156Z"
   },
   {
    "duration": 30,
    "start_time": "2022-07-21T11:36:31.747Z"
   },
   {
    "duration": 44,
    "start_time": "2022-07-21T11:36:45.331Z"
   },
   {
    "duration": 26,
    "start_time": "2022-07-21T11:36:56.739Z"
   },
   {
    "duration": 8,
    "start_time": "2022-07-21T11:37:37.691Z"
   },
   {
    "duration": 10,
    "start_time": "2022-07-21T11:38:09.411Z"
   },
   {
    "duration": 5,
    "start_time": "2022-07-21T11:45:42.931Z"
   },
   {
    "duration": 4,
    "start_time": "2022-07-21T11:46:21.862Z"
   },
   {
    "duration": 5,
    "start_time": "2022-07-21T11:46:28.301Z"
   },
   {
    "duration": 5,
    "start_time": "2022-07-21T11:46:44.653Z"
   },
   {
    "duration": 6,
    "start_time": "2022-07-21T11:46:50.723Z"
   },
   {
    "duration": 11,
    "start_time": "2022-07-21T11:50:23.834Z"
   },
   {
    "duration": 49,
    "start_time": "2022-07-21T11:50:40.499Z"
   },
   {
    "duration": 27,
    "start_time": "2022-07-21T11:53:22.230Z"
   },
   {
    "duration": 25,
    "start_time": "2022-07-21T11:55:19.280Z"
   },
   {
    "duration": 7,
    "start_time": "2022-07-21T11:59:16.107Z"
   },
   {
    "duration": 6,
    "start_time": "2022-07-21T12:00:15.252Z"
   },
   {
    "duration": 8,
    "start_time": "2022-07-21T12:01:35.693Z"
   },
   {
    "duration": 6,
    "start_time": "2022-07-21T12:14:16.864Z"
   },
   {
    "duration": 8,
    "start_time": "2022-07-21T12:14:24.261Z"
   },
   {
    "duration": 7,
    "start_time": "2022-07-21T12:14:27.804Z"
   },
   {
    "duration": 33,
    "start_time": "2022-07-21T12:23:47.453Z"
   },
   {
    "duration": 33,
    "start_time": "2022-07-21T12:24:18.467Z"
   },
   {
    "duration": 37,
    "start_time": "2022-07-21T12:26:23.085Z"
   },
   {
    "duration": 9,
    "start_time": "2022-07-21T12:29:38.395Z"
   },
   {
    "duration": 10,
    "start_time": "2022-07-21T12:31:30.669Z"
   },
   {
    "duration": 25,
    "start_time": "2022-07-21T12:32:42.836Z"
   },
   {
    "duration": 42,
    "start_time": "2022-07-21T12:32:42.863Z"
   },
   {
    "duration": 1395,
    "start_time": "2022-07-21T12:32:42.907Z"
   },
   {
    "duration": 78,
    "start_time": "2022-07-21T12:32:44.304Z"
   },
   {
    "duration": 110,
    "start_time": "2022-07-21T12:32:44.384Z"
   },
   {
    "duration": 251,
    "start_time": "2022-07-21T12:32:44.496Z"
   },
   {
    "duration": 87,
    "start_time": "2022-07-21T12:32:44.749Z"
   },
   {
    "duration": 5,
    "start_time": "2022-07-21T12:32:44.837Z"
   },
   {
    "duration": 337,
    "start_time": "2022-07-21T12:32:44.845Z"
   },
   {
    "duration": 6641,
    "start_time": "2022-07-21T12:32:45.186Z"
   },
   {
    "duration": 27,
    "start_time": "2022-07-21T12:32:51.829Z"
   },
   {
    "duration": 6626,
    "start_time": "2022-07-21T12:32:51.858Z"
   },
   {
    "duration": 11799,
    "start_time": "2022-07-21T12:32:58.485Z"
   },
   {
    "duration": 51180,
    "start_time": "2022-07-21T12:33:10.285Z"
   },
   {
    "duration": 71,
    "start_time": "2022-07-21T12:34:01.467Z"
   },
   {
    "duration": 34,
    "start_time": "2022-07-21T12:34:01.540Z"
   },
   {
    "duration": 139,
    "start_time": "2022-07-21T12:34:01.576Z"
   },
   {
    "duration": 135,
    "start_time": "2022-07-21T12:34:01.717Z"
   },
   {
    "duration": 93,
    "start_time": "2022-07-21T12:34:01.854Z"
   },
   {
    "duration": 6,
    "start_time": "2022-07-21T12:34:01.948Z"
   },
   {
    "duration": 30,
    "start_time": "2022-07-21T12:34:01.955Z"
   },
   {
    "duration": 47,
    "start_time": "2022-07-21T12:34:01.986Z"
   },
   {
    "duration": 54,
    "start_time": "2022-07-21T12:34:02.034Z"
   },
   {
    "duration": 27,
    "start_time": "2022-07-21T13:03:45.059Z"
   },
   {
    "duration": 40,
    "start_time": "2022-07-21T13:03:45.088Z"
   },
   {
    "duration": 1534,
    "start_time": "2022-07-21T13:03:45.129Z"
   },
   {
    "duration": 110,
    "start_time": "2022-07-21T13:03:46.664Z"
   },
   {
    "duration": 116,
    "start_time": "2022-07-21T13:03:46.777Z"
   },
   {
    "duration": 179,
    "start_time": "2022-07-21T13:03:46.895Z"
   },
   {
    "duration": 136,
    "start_time": "2022-07-21T13:03:47.075Z"
   },
   {
    "duration": 71,
    "start_time": "2022-07-21T13:03:47.212Z"
   },
   {
    "duration": 290,
    "start_time": "2022-07-21T13:03:47.285Z"
   },
   {
    "duration": 6113,
    "start_time": "2022-07-21T13:03:47.576Z"
   },
   {
    "duration": 25,
    "start_time": "2022-07-21T13:03:53.690Z"
   },
   {
    "duration": 6284,
    "start_time": "2022-07-21T13:03:53.716Z"
   },
   {
    "duration": 11090,
    "start_time": "2022-07-21T13:04:00.002Z"
   },
   {
    "duration": 50666,
    "start_time": "2022-07-21T13:04:11.095Z"
   },
   {
    "duration": 71,
    "start_time": "2022-07-21T13:05:01.763Z"
   },
   {
    "duration": 95,
    "start_time": "2022-07-21T13:05:01.836Z"
   },
   {
    "duration": 141,
    "start_time": "2022-07-21T13:05:01.933Z"
   },
   {
    "duration": 146,
    "start_time": "2022-07-21T13:05:02.075Z"
   },
   {
    "duration": 110,
    "start_time": "2022-07-21T13:05:02.223Z"
   },
   {
    "duration": 7,
    "start_time": "2022-07-21T13:05:02.334Z"
   },
   {
    "duration": 24,
    "start_time": "2022-07-21T13:05:02.342Z"
   },
   {
    "duration": 22,
    "start_time": "2022-07-21T13:05:02.368Z"
   },
   {
    "duration": 30,
    "start_time": "2022-07-21T13:05:02.392Z"
   },
   {
    "duration": 52,
    "start_time": "2022-07-21T13:05:08.895Z"
   },
   {
    "duration": 5,
    "start_time": "2022-07-21T13:06:29.062Z"
   }
  ],
  "kernelspec": {
   "display_name": "Python 3 (ipykernel)",
   "language": "python",
   "name": "python3"
  },
  "language_info": {
   "codemirror_mode": {
    "name": "ipython",
    "version": 3
   },
   "file_extension": ".py",
   "mimetype": "text/x-python",
   "name": "python",
   "nbconvert_exporter": "python",
   "pygments_lexer": "ipython3",
   "version": "3.9.5"
  },
  "toc": {
   "base_numbering": 1,
   "nav_menu": {},
   "number_sections": true,
   "sideBar": true,
   "skip_h1_title": true,
   "title_cell": "Содержание",
   "title_sidebar": "Содержание",
   "toc_cell": true,
   "toc_position": {
    "height": "calc(100% - 180px)",
    "left": "10px",
    "top": "150px",
    "width": "377.585px"
   },
   "toc_section_display": true,
   "toc_window_display": false
  }
 },
 "nbformat": 4,
 "nbformat_minor": 2
}
